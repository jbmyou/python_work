{
 "cells": [
  {
   "cell_type": "code",
   "execution_count": null,
   "metadata": {},
   "outputs": [],
   "source": [
    "# pip install pdfminer"
   ]
  },
  {
   "cell_type": "code",
   "execution_count": 1,
   "metadata": {},
   "outputs": [
    {
     "data": {
      "text/plain": [
       "'인지세 분당세무서장\\n\\n후납승인 2017년 36129호\\n\\n대출거래 추가약정서 (기한연장, 한도변경, 조건변경용)\\n\\n한국카카오은행 주식회사 앞\\n\\n2019년 03월 10일\\n\\n본인 및 담보제공자는 은행과 약정한\\n\\n2018년 04월 15일 자 대출(계좌번호:\\n\\n3333-01-0337741\\n\\n)의 거래조건을 제1조와 같이\\n\\n변경하며, 기존 약정내용에 추가하여 다음 각 조항을 확약합니다\\xa0.\\n\\n본인 :\\n\\n유재현\\n\\n(인)\\n2019.03.10\\n14:23:28\\n\\n주소 :\\n\\n충청남도 천안시 서북구 성거읍 망향로 785, 101동 709호 (청호포도마을아파트)\\n\\n담보제공자 :\\n\\n(인)\\n\\n주소 :\\n\\n은행은 본인에게 이 약정서상의 중요한 내용을 설명하여야 하며, 은행여신거래기본약관과 이 약정서의 사본을 제공하여야 합니다.\\n\\n제 1 조 기한연장, 한도변경 및 조건변경\\n\\n(거래조건이 여러 개인 경우, 해당되는 \"□\"내에 \"∨\"표시합니다.)\\n\\n거래조건\\n\\n대출(한도)금액\\n\\n대출기간종료일\\n\\n변 경 전\\n\\n변 경 후\\n\\n금\\n\\n원\\n\\n금\\n\\n원\\n\\n2019년 04월 15일\\n\\n2020년 04월 15일\\n\\n고 정\\n\\n[은행여신거래기본약관\\n제3조 제2항 제1호 선택]\\n\\n변 동\\n\\n[은행여신거래기본약관\\n제3조 제2항 제2호 선택]\\n\\n대출금리의연이율\\n\\n※ 금리변동주기\\n3\\n\\n(\\n\\n)개월\\n\\n(\\n\\n(\\n\\n대출기간 종료일까지\\n연\\n\\n%\\n\\n신규취급액기준 COFIX+(\\n\\n)%\\n\\n3개월 )물금융채유통수익률+(\\n\\n2.355 )%\\n\\n고 정\\n\\n[은행여신거래기본약관\\n제3조 제2항 제1호 선택]\\n\\n변 동\\n\\n[은행여신거래기본약관\\n제3조 제2항 제2호 선택]\\n\\n)물국고채유통수익률+(\\n\\n)%\\n\\n※ 금리변동주기\\n\\n(\\n\\n3\\n\\n)개월\\n\\n대출기간 종료일까지\\n연\\n\\n%\\n\\n신규취급액기준 COFIX+(\\n\\n)%\\n\\n(\\n\\n(\\n\\n3개월 )물금융채유통수익률+(\\n\\n2.172 )%\\n\\n)물국고채유통수익률+(\\n\\n)%\\n\\n• 취급후(\\n\\n)년까지 고정(\\n\\n)%\\n\\n• 취급후(\\n\\n)년까지 고정(\\n\\n)%\\n\\n혼합(고정+변동)\\n\\n[은행여신거래기본약관\\n\\n제3조 제2항\\n\\n※변동금리기간중\\n\\n금리변동주기(\\n\\n)개월\\n\\n기 타\\n\\n• 고정금리 기간 종료 후 변동금리가 적용됩니다.\\n\\n신규취급액기준 COFIX+(\\n\\n)%\\n\\n(\\n\\n(\\n\\n)물금융채유통수익률+(\\n\\n)물금융채유통수익률+(\\n\\n수신금리 연동 + (\\n\\n(\\n\\n) + (\\n\\n)%\\n\\n)%\\n\\n)%\\n\\n)%\\n\\n혼합(고정+변동)\\n\\n[은행여신거래기본약관\\n\\n제3조 제2항\\n\\n※변동금리기간중\\n\\n금리변동주기(\\n\\n)개월\\n\\n기 타\\n\\n• 고정금리 기간 종료 후 변동금리가 적용됩니다.\\n\\n신규취급액기준 COFIX+(\\n\\n)%\\n\\n(\\n\\n(\\n\\n)물금융채유통수익률+(\\n\\n)물금융채유통수익률+(\\n\\n수신금리 연동 + (\\n\\n(\\n\\n) + (\\n\\n매월 (\\n\\n)일,\\n\\n이체계좌번호(\\n\\n)\\n\\n매월 (\\n\\n)일,\\n\\n이체계좌번호(\\n\\n(\\n\\n)개월, (거치기간 종료일 :\\n\\n)\\n\\n(\\n\\n)개월, (거치기간 종료일 :\\n\\n담보 종류\\n\\n담보물 소재지\\n\\n담보(감정)가액\\n\\n담보 종류\\n\\n담보물 소재지\\n\\n담보(감정)가액\\n\\n)%\\n\\n)%\\n\\n)%\\n\\n)%\\n\\n)\\n\\n)\\n\\n대 상,\\n\\n비대상\\n\\n중도상환해약금률 (\\n\\n)%\\n\\n대 상,\\n\\n비대상\\n\\n중도상환해약금률 (\\n\\n)%\\n\\n전자서명 번호: 844073483955666414\\n\\n1/2\\n\\n자동이체일\\n\\n거치기간\\n\\n담보변경\\n\\n중도상환해약금\\n\\n기타조건변경\\n\\n조건변경 사유\\n\\n\\x0c제2조 대출금리\\n① 대출기간을 연장, 담보변경, 대출한도금액 증액 등 대출금리를 구성하는 금리요소의 변경이 발생하는 경우에는 조건변경 적용 시점에 금리를 재산정하여 적용하기로 합니다\\n.\\n\\n② 제1항에도 불구하고, 원리금균등분할상환방식 대출인 경우에는 조건변경일 이후 최초로 도래하는 납입기일까지는 기존 금리로 산정한 원리금을 적용하고, 다음 회차부터\\n변경후 금리로 산정한 원리금을 적용하기로 합니다.\\n\\n제3조 중도상환해약금\\n본인이 은행에서 받은 대출금을 기한연장 한 경우 연장된 기일 전에 대출금을 상환할 때에는 대출거래약정서 제1조 및 제5조와 이 약정서 제1조의 중도상환해약금 거래조건에\\n서 정한 바에 따라 은행에 중도상환해약금을 지급하기로 합니다. 단, 최초 대출기간 시작일로부터 기한연장을 포함하여 3년을 경과한 후 상환할 때에는 중도상환해약금을 지급\\n하지 않습니다.\\n\\n제4조 인지세의 부담\\n① 이 약정서 작성에 따른 인지세는 각 50%씩 본인과 은행이 부담합니다.\\n\\n② 대출한도금액을 증액하는 경우, 인지세액은 증액 후 한도금액에 대한 인지세액에서 증액전 이미 납부한 인지세액을 차감한 금액으로 하며, 한도를 감액하거나 기한을 연장하\\n는 경우에는 인지세가 발생하지 않습니다.\\n\\n③ 제1항에 의하여 본인이 부담하기로 한 인지세를 은행이 대신 지급한 경우에는 은행여신거래기본약관 제4조에 준하여 곧 갚기로 합니다.\\n\\n제5조 자동연장\\n기한연장 조건에 동의하여 약정을 체결한 경우에는 대출기간 종료일에 대출기간이 자동으로 연장됩니다. 단, 대출기간 종료일 기준, 금융기관 연체 등 대출 취급 거절 사유가 발\\n생하거나 상환조건 등 기준을 충족하지 못한 경우에는 대출기간이 연장되지 않습니다.\\n\\n2/2\\n\\n\\x0c'"
      ]
     },
     "execution_count": 1,
     "metadata": {},
     "output_type": "execute_result"
    }
   ],
   "source": [
    "from io import StringIO\n",
    "from pdfminer.converter import TextConverter\n",
    "from pdfminer.layout import LAParams\n",
    "from pdfminer.pdfdocument import PDFDocument\n",
    "from pdfminer.pdfinterp import PDFResourceManager, PDFPageInterpreter\n",
    "from pdfminer.pdfpage import PDFPage\n",
    "from pdfminer.pdfparser import PDFParser\n",
    "\n",
    "def read_pdf(file_name):\n",
    "    output_string = StringIO()\n",
    "    with open(file_name, 'rb') as f:\n",
    "        parser = PDFParser(f)\n",
    "        doc = PDFDocument(parser)\n",
    "        rsrcmgr = PDFResourceManager()\n",
    "        device = TextConverter(rsrcmgr, output_string, laparams=LAParams())\n",
    "        interpreter = PDFPageInterpreter(rsrcmgr, device)\n",
    "        for page in PDFPage.create_pages(doc):\n",
    "            interpreter.process_page(page)\n",
    "    return output_string.getvalue()\n",
    "\n",
    "# \"1.pdf\" 파일을 불러옵니다.\n",
    "txt = read_pdf(r\"D:\\카카오\\1.원인서류\\LPC017073_LRA112090RP3K_0003333010337741.pdf\")\n",
    "txt"
   ]
  },
  {
   "cell_type": "code",
   "execution_count": 3,
   "metadata": {},
   "outputs": [],
   "source": [
    "with open(r\"c://users/sl/Desktop/test.txt\", mode=\"w\", encoding='utf-8-sig') as file :\n",
    "    file.write(txt)"
   ]
  }
 ],
 "metadata": {
  "kernelspec": {
   "display_name": "Python 3.9.13 ('base')",
   "language": "python",
   "name": "python3"
  },
  "language_info": {
   "codemirror_mode": {
    "name": "ipython",
    "version": 3
   },
   "file_extension": ".py",
   "mimetype": "text/x-python",
   "name": "python",
   "nbconvert_exporter": "python",
   "pygments_lexer": "ipython3",
   "version": "3.9.13"
  },
  "orig_nbformat": 4,
  "vscode": {
   "interpreter": {
    "hash": "50ba2c93e3505a279245e213c77d9791c626788d8ca8a61b8db804927ca08a39"
   }
  }
 },
 "nbformat": 4,
 "nbformat_minor": 2
}
