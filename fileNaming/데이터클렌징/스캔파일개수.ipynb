{
 "cells": [
  {
   "cell_type": "code",
   "execution_count": 3,
   "metadata": {},
   "outputs": [],
   "source": [
    "import pandas as pd\n",
    "import re\n",
    "import os\n",
    "from os.path import join\n",
    "from tqdm import tqdm\n",
    "\n",
    "# 실물정리하면서 스캔본 없는 거 스캔 뜨려고 작성한 코드"
   ]
  },
  {
   "cell_type": "markdown",
   "metadata": {},
   "source": [
    "### 채무자키별 실물 숫자 세기"
   ]
  },
  {
   "cell_type": "code",
   "execution_count": 6,
   "metadata": {},
   "outputs": [],
   "source": [
    "path_base = r\"\\\\192.168.10.43\\SynologyDrive\" # ???? \n",
    "path_docu = \"1.원인서류\"\n",
    "wd = join(path_base, path_docu)"
   ]
  },
  {
   "cell_type": "code",
   "execution_count": 4,
   "metadata": {},
   "outputs": [],
   "source": [
    "# 채무자키 읽기\n",
    "path_debtorkeys = r'D:\\3.자산\\프로젝트\\2023 실물증서정리\\솔림 증서목록(전지점 보유분).xlsx'\n",
    "df = pd.read_excel(path_debtorkeys, sheet_name='Sheet1', dtype='str')"
   ]
  },
  {
   "cell_type": "markdown",
   "metadata": {},
   "source": [
    "### 채무자키별 스캔본 숫자 세기"
   ]
  },
  {
   "cell_type": "code",
   "execution_count": 14,
   "metadata": {},
   "outputs": [],
   "source": [
    "p_extension = re.compile('(jpeg|jpg|bmp|gif|pdf|png|tif|tiff|m4a|wav|mp[34])$', re.I) "
   ]
  },
  {
   "cell_type": "code",
   "execution_count": 15,
   "metadata": {},
   "outputs": [
    {
     "name": "stderr",
     "output_type": "stream",
     "text": [
      "100%|██████████| 19615/19615 [02:09<00:00, 151.91it/s]\n"
     ]
    },
    {
     "data": {
      "text/html": [
       "<div>\n",
       "<style scoped>\n",
       "    .dataframe tbody tr th:only-of-type {\n",
       "        vertical-align: middle;\n",
       "    }\n",
       "\n",
       "    .dataframe tbody tr th {\n",
       "        vertical-align: top;\n",
       "    }\n",
       "\n",
       "    .dataframe thead th {\n",
       "        text-align: right;\n",
       "    }\n",
       "</style>\n",
       "<table border=\"1\" class=\"dataframe\">\n",
       "  <thead>\n",
       "    <tr style=\"text-align: right;\">\n",
       "      <th></th>\n",
       "      <th>채무자키</th>\n",
       "      <th>매각사구분</th>\n",
       "      <th>증서수</th>\n",
       "      <th>스캔본수</th>\n",
       "      <th>스캔파일수</th>\n",
       "    </tr>\n",
       "  </thead>\n",
       "  <tbody>\n",
       "    <tr>\n",
       "      <th>0</th>\n",
       "      <td>20407790</td>\n",
       "      <td>DNP-01</td>\n",
       "      <td>1</td>\n",
       "      <td>NaN</td>\n",
       "      <td>1</td>\n",
       "    </tr>\n",
       "    <tr>\n",
       "      <th>1</th>\n",
       "      <td>20407791</td>\n",
       "      <td>한울가람</td>\n",
       "      <td>1</td>\n",
       "      <td>NaN</td>\n",
       "      <td>0</td>\n",
       "    </tr>\n",
       "    <tr>\n",
       "      <th>2</th>\n",
       "      <td>20407792</td>\n",
       "      <td>한울가람</td>\n",
       "      <td>1</td>\n",
       "      <td>NaN</td>\n",
       "      <td>0</td>\n",
       "    </tr>\n",
       "    <tr>\n",
       "      <th>3</th>\n",
       "      <td>20407793</td>\n",
       "      <td>한울가람</td>\n",
       "      <td>1</td>\n",
       "      <td>NaN</td>\n",
       "      <td>1</td>\n",
       "    </tr>\n",
       "    <tr>\n",
       "      <th>4</th>\n",
       "      <td>20407794</td>\n",
       "      <td>한울가람</td>\n",
       "      <td>1</td>\n",
       "      <td>NaN</td>\n",
       "      <td>0</td>\n",
       "    </tr>\n",
       "    <tr>\n",
       "      <th>...</th>\n",
       "      <td>...</td>\n",
       "      <td>...</td>\n",
       "      <td>...</td>\n",
       "      <td>...</td>\n",
       "      <td>...</td>\n",
       "    </tr>\n",
       "    <tr>\n",
       "      <th>19610</th>\n",
       "      <td>20502790</td>\n",
       "      <td>스마트저축-01</td>\n",
       "      <td>1</td>\n",
       "      <td>NaN</td>\n",
       "      <td>2</td>\n",
       "    </tr>\n",
       "    <tr>\n",
       "      <th>19611</th>\n",
       "      <td>20502803</td>\n",
       "      <td>스마트저축-01</td>\n",
       "      <td>1</td>\n",
       "      <td>NaN</td>\n",
       "      <td>2</td>\n",
       "    </tr>\n",
       "    <tr>\n",
       "      <th>19612</th>\n",
       "      <td>20502805</td>\n",
       "      <td>스마트저축-01</td>\n",
       "      <td>1</td>\n",
       "      <td>NaN</td>\n",
       "      <td>2</td>\n",
       "    </tr>\n",
       "    <tr>\n",
       "      <th>19613</th>\n",
       "      <td>20502821</td>\n",
       "      <td>스마트저축-01</td>\n",
       "      <td>1</td>\n",
       "      <td>NaN</td>\n",
       "      <td>2</td>\n",
       "    </tr>\n",
       "    <tr>\n",
       "      <th>19614</th>\n",
       "      <td>20502831</td>\n",
       "      <td>스마트저축-01</td>\n",
       "      <td>1</td>\n",
       "      <td>NaN</td>\n",
       "      <td>2</td>\n",
       "    </tr>\n",
       "  </tbody>\n",
       "</table>\n",
       "<p>19615 rows × 5 columns</p>\n",
       "</div>"
      ],
      "text/plain": [
       "           채무자키     매각사구분 증서수 스캔본수  스캔파일수\n",
       "0      20407790    DNP-01   1  NaN      1\n",
       "1      20407791      한울가람   1  NaN      0\n",
       "2      20407792      한울가람   1  NaN      0\n",
       "3      20407793      한울가람   1  NaN      1\n",
       "4      20407794      한울가람   1  NaN      0\n",
       "...         ...       ...  ..  ...    ...\n",
       "19610  20502790  스마트저축-01   1  NaN      2\n",
       "19611  20502803  스마트저축-01   1  NaN      2\n",
       "19612  20502805  스마트저축-01   1  NaN      2\n",
       "19613  20502821  스마트저축-01   1  NaN      2\n",
       "19614  20502831  스마트저축-01   1  NaN      2\n",
       "\n",
       "[19615 rows x 5 columns]"
      ]
     },
     "execution_count": 15,
     "metadata": {},
     "output_type": "execute_result"
    }
   ],
   "source": [
    "스캔파일수 = []\n",
    "for i, v in tqdm(df.iterrows(), total=len(df.index)) :\n",
    "    try : \n",
    "        path = join(wd, v.매각사구분, v.채무자키)\n",
    "        스캔파일수.append(len([f.name for f in os.scandir(path) if p_extension.search(f.name) and re.match(\"[~$]\", f.name)==None]))\n",
    "    except : \n",
    "        스캔파일수.append(0)\n",
    "\n",
    "df[\"스캔파일수\"] = 스캔파일수\n",
    "df"
   ]
  },
  {
   "cell_type": "code",
   "execution_count": 16,
   "metadata": {},
   "outputs": [],
   "source": [
    "df.to_excel(\"xxx.xlsx\", index=False)"
   ]
  }
 ],
 "metadata": {
  "kernelspec": {
   "display_name": "base",
   "language": "python",
   "name": "python3"
  },
  "language_info": {
   "codemirror_mode": {
    "name": "ipython",
    "version": 3
   },
   "file_extension": ".py",
   "mimetype": "text/x-python",
   "name": "python",
   "nbconvert_exporter": "python",
   "pygments_lexer": "ipython3",
   "version": "3.9.18"
  },
  "orig_nbformat": 4
 },
 "nbformat": 4,
 "nbformat_minor": 2
}
