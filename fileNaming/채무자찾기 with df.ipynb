{
 "cells": [
  {
   "cell_type": "code",
   "execution_count": 1,
   "metadata": {},
   "outputs": [],
   "source": [
    "import pandas as pd\n",
    "import pickle\n",
    "from os.path import join"
   ]
  },
  {
   "cell_type": "markdown",
   "metadata": {},
   "source": [
    "### 계좌정보"
   ]
  },
  {
   "cell_type": "code",
   "execution_count": 48,
   "metadata": {},
   "outputs": [
    {
     "name": "stderr",
     "output_type": "stream",
     "text": [
      "c:\\Users\\SL\\anaconda3\\lib\\site-packages\\openpyxl\\styles\\stylesheet.py:226: UserWarning: Workbook contains no default style, apply openpyxl's default\n",
      "  warn(\"Workbook contains no default style, apply openpyxl's default\")\n"
     ]
    }
   ],
   "source": [
    "# 엑셀 to pkl\n",
    "# path_excel = r\"C:\\Users\\SL\\Desktop/채무자조회새창_20221128_1549.xlsx\"\n",
    "# path_pkl = path_excel[:-4] +\"pkl\"\n",
    "# df_temp = pd.read_excel(path_excel)\n",
    "# df_temp.to_pickle(path_pkl)"
   ]
  },
  {
   "cell_type": "code",
   "execution_count": 2,
   "metadata": {},
   "outputs": [
    {
     "name": "stdout",
     "output_type": "stream",
     "text": [
      "5989\n",
      "Index(['채무자키', '매각사구분', '성명', '주민번호인', '채무상태', '원채권사', '매각사', '최초원금', '현재원금',\n",
      "       'OPB', '관리자비고', '관리자기타', '비고', '자택전화인', '직장전화인', '핸드폰인', '자택우편번호',\n",
      "       '자택주소', '자택번지인', '직장우편번호', '직장주소', '직장번지인', '초본우편번호', '초본주소', '초본번지인',\n",
      "       '보증인성명', '보증인상태', '타채무자키', '변경전성명인', '변경전주민번호인'],\n",
      "      dtype='object')\n",
      "2898\n"
     ]
    },
    {
     "data": {
      "text/plain": [
       "Index(['채무자키', '매각사구분', '보증인성명인', '주민번호인', '계좌번호', '채무자관계', '채무자명', '보증구분',\n",
       "       '보증인상태', '보증금액', '보증잔액', '보증한도액', '메모', '핸드폰인', '자택전화인', '직장전화인',\n",
       "       '자택우편번호', '자택주소', '자택번지인', '직장우편번호', '직장주소', '직장번지인', '직장명인', '초본우편번호',\n",
       "       '초본주소', '초본번지인', '초본발급일', '세대주관계', '우편발송일', '우편발송결과', '매입일', '보증일',\n",
       "       '종결일', '종결사유', '관할법원', '사건번호', '보증인키', '계좌키', '원채권사', '매각사', '전입일',\n",
       "       '반송사유', '반송일', '우편발송금지', '타채무자키', '채무자주민번호', '최신화결과화면', '등록일자', '등록유저',\n",
       "       '수정일자', '수정유저'],\n",
       "      dtype='object')"
      ]
     },
     "execution_count": 2,
     "metadata": {},
     "output_type": "execute_result"
    }
   ],
   "source": [
    "# 파일읽기\n",
    "path_pkl = r\"D:\\0.전산\\1.진행중과업\\파일서버개편\\파일\\채무자조회\"\n",
    "debtor = \"채무자조회_원금_주소.pkl\"\n",
    "grt = \"보증인조회_221128.pkl\"\n",
    "df_d = pd.read_pickle(join(path_pkl, debtor))\n",
    "df_d = df_d[df_d.매각사구분.str.match(\"한울\")]# & (df_d.원채권사 == \"우리은행\")\n",
    "print(len(df_d.index))\n",
    "print(df_d.columns)\n",
    "\n",
    "df_g = pd.read_pickle(join(path_pkl, grt))\n",
    "df_g = df_g[df_g.매각사구분.str.match(\"한울\")]# & (df_g.원채권사 == \"우리은행\")\n",
    "print(len(df_g.index))\n",
    "df_g.columns"
   ]
  },
  {
   "cell_type": "code",
   "execution_count": 5,
   "metadata": {},
   "outputs": [
    {
     "data": {
      "text/html": [
       "<div>\n",
       "<style scoped>\n",
       "    .dataframe tbody tr th:only-of-type {\n",
       "        vertical-align: middle;\n",
       "    }\n",
       "\n",
       "    .dataframe tbody tr th {\n",
       "        vertical-align: top;\n",
       "    }\n",
       "\n",
       "    .dataframe thead th {\n",
       "        text-align: right;\n",
       "    }\n",
       "</style>\n",
       "<table border=\"1\" class=\"dataframe\">\n",
       "  <thead>\n",
       "    <tr style=\"text-align: right;\">\n",
       "      <th></th>\n",
       "      <th>채무자키</th>\n",
       "      <th>매각사구분</th>\n",
       "      <th>성명</th>\n",
       "      <th>주민번호인</th>\n",
       "      <th>채무상태</th>\n",
       "      <th>원채권사</th>\n",
       "      <th>매각사</th>\n",
       "      <th>최초원금</th>\n",
       "      <th>현재원금</th>\n",
       "      <th>OPB</th>\n",
       "      <th>...</th>\n",
       "      <th>직장주소</th>\n",
       "      <th>직장번지인</th>\n",
       "      <th>초본우편번호</th>\n",
       "      <th>초본주소</th>\n",
       "      <th>초본번지인</th>\n",
       "      <th>보증인성명</th>\n",
       "      <th>보증인상태</th>\n",
       "      <th>타채무자키</th>\n",
       "      <th>변경전성명인</th>\n",
       "      <th>변경전주민번호인</th>\n",
       "    </tr>\n",
       "  </thead>\n",
       "  <tbody>\n",
       "  </tbody>\n",
       "</table>\n",
       "<p>0 rows × 30 columns</p>\n",
       "</div>"
      ],
      "text/plain": [
       "Empty DataFrame\n",
       "Columns: [채무자키, 매각사구분, 성명, 주민번호인, 채무상태, 원채권사, 매각사, 최초원금, 현재원금, OPB, 관리자비고, 관리자기타, 비고, 자택전화인, 직장전화인, 핸드폰인, 자택우편번호, 자택주소, 자택번지인, 직장우편번호, 직장주소, 직장번지인, 초본우편번호, 초본주소, 초본번지인, 보증인성명, 보증인상태, 타채무자키, 변경전성명인, 변경전주민번호인]\n",
       "Index: []\n",
       "\n",
       "[0 rows x 30 columns]"
      ]
     },
     "execution_count": 5,
     "metadata": {},
     "output_type": "execute_result"
    }
   ],
   "source": [
    "# 금액찾기\n",
    "##########################\n",
    "search_value = 51810516\n",
    "##########################\n",
    "search_col1 = \"최초원금\"\n",
    "search_col2 = \"현재원금\"\n",
    "search_col3 = \"OPB\"\n",
    "df_d[(df_d[search_col1]==search_value) | (df_d[search_col2]==search_value) | (df_d[search_col3]==search_value)]"
   ]
  },
  {
   "cell_type": "code",
   "execution_count": 81,
   "metadata": {},
   "outputs": [
    {
     "data": {
      "text/html": [
       "<div>\n",
       "<style scoped>\n",
       "    .dataframe tbody tr th:only-of-type {\n",
       "        vertical-align: middle;\n",
       "    }\n",
       "\n",
       "    .dataframe tbody tr th {\n",
       "        vertical-align: top;\n",
       "    }\n",
       "\n",
       "    .dataframe thead th {\n",
       "        text-align: right;\n",
       "    }\n",
       "</style>\n",
       "<table border=\"1\" class=\"dataframe\">\n",
       "  <thead>\n",
       "    <tr style=\"text-align: right;\">\n",
       "      <th></th>\n",
       "      <th>채무자키</th>\n",
       "      <th>매각사구분</th>\n",
       "      <th>성명</th>\n",
       "      <th>주민번호인</th>\n",
       "      <th>채무상태</th>\n",
       "      <th>원채권사</th>\n",
       "      <th>매각사</th>\n",
       "      <th>최초원금</th>\n",
       "      <th>현재원금</th>\n",
       "      <th>OPB</th>\n",
       "      <th>...</th>\n",
       "      <th>직장주소</th>\n",
       "      <th>직장번지인</th>\n",
       "      <th>초본우편번호</th>\n",
       "      <th>초본주소</th>\n",
       "      <th>초본번지인</th>\n",
       "      <th>보증인성명</th>\n",
       "      <th>보증인상태</th>\n",
       "      <th>타채무자키</th>\n",
       "      <th>변경전성명인</th>\n",
       "      <th>변경전주민번호인</th>\n",
       "    </tr>\n",
       "  </thead>\n",
       "  <tbody>\n",
       "    <tr>\n",
       "      <th>49047</th>\n",
       "      <td>20428892</td>\n",
       "      <td>케이에스</td>\n",
       "      <td>이준철</td>\n",
       "      <td>680118-1548218</td>\n",
       "      <td>정상</td>\n",
       "      <td>신라저축은행</td>\n",
       "      <td>케이에스자산관리대부㈜</td>\n",
       "      <td>7157635</td>\n",
       "      <td>7157635</td>\n",
       "      <td>7157635</td>\n",
       "      <td>...</td>\n",
       "      <td>인천광역시 중구 운서동</td>\n",
       "      <td>2851 ㈜한국공항</td>\n",
       "      <td>34652</td>\n",
       "      <td>대전 동구 백룡로 138</td>\n",
       "      <td>,  201동 804호 (용운동,주공고층아파트)</td>\n",
       "      <td>NaN</td>\n",
       "      <td>NaN</td>\n",
       "      <td>9009000396</td>\n",
       "      <td>NaN</td>\n",
       "      <td>NaN</td>\n",
       "    </tr>\n",
       "  </tbody>\n",
       "</table>\n",
       "<p>1 rows × 30 columns</p>\n",
       "</div>"
      ],
      "text/plain": [
       "           채무자키 매각사구분   성명           주민번호인 채무상태    원채권사          매각사     최초원금  \\\n",
       "49047  20428892  케이에스  이준철  680118-1548218   정상  신라저축은행  케이에스자산관리대부㈜  7157635   \n",
       "\n",
       "          현재원금      OPB  ...          직장주소       직장번지인 초본우편번호           초본주소  \\\n",
       "49047  7157635  7157635  ...  인천광역시 중구 운서동  2851 ㈜한국공항  34652  대전 동구 백룡로 138   \n",
       "\n",
       "                            초본번지인 보증인성명 보증인상태       타채무자키 변경전성명인 변경전주민번호인  \n",
       "49047  ,  201동 804호 (용운동,주공고층아파트)   NaN   NaN  9009000396    NaN      NaN  \n",
       "\n",
       "[1 rows x 30 columns]"
      ]
     },
     "execution_count": 81,
     "metadata": {},
     "output_type": "execute_result"
    }
   ],
   "source": [
    "# 주소찾기\n",
    "##########################\n",
    "search_value = \"백룡로\"\n",
    "##########################\n",
    "search_col1 = \"자택주소\"\n",
    "search_col2 = \"초본주소\"\n",
    "df_d[((df_d[search_col1].str.contains(search_value)) | (df_d[search_col2].str.contains(search_value)))]"
   ]
  },
  {
   "cell_type": "code",
   "execution_count": 86,
   "metadata": {},
   "outputs": [
    {
     "data": {
      "text/html": [
       "<div>\n",
       "<style scoped>\n",
       "    .dataframe tbody tr th:only-of-type {\n",
       "        vertical-align: middle;\n",
       "    }\n",
       "\n",
       "    .dataframe tbody tr th {\n",
       "        vertical-align: top;\n",
       "    }\n",
       "\n",
       "    .dataframe thead th {\n",
       "        text-align: right;\n",
       "    }\n",
       "</style>\n",
       "<table border=\"1\" class=\"dataframe\">\n",
       "  <thead>\n",
       "    <tr style=\"text-align: right;\">\n",
       "      <th></th>\n",
       "      <th>채무자키</th>\n",
       "      <th>매각사구분</th>\n",
       "      <th>성명</th>\n",
       "      <th>주민번호인</th>\n",
       "      <th>채무상태</th>\n",
       "      <th>원채권사</th>\n",
       "      <th>매각사</th>\n",
       "      <th>최초원금</th>\n",
       "      <th>현재원금</th>\n",
       "      <th>OPB</th>\n",
       "      <th>...</th>\n",
       "      <th>직장주소</th>\n",
       "      <th>직장번지인</th>\n",
       "      <th>초본우편번호</th>\n",
       "      <th>초본주소</th>\n",
       "      <th>초본번지인</th>\n",
       "      <th>보증인성명</th>\n",
       "      <th>보증인상태</th>\n",
       "      <th>타채무자키</th>\n",
       "      <th>변경전성명인</th>\n",
       "      <th>변경전주민번호인</th>\n",
       "    </tr>\n",
       "  </thead>\n",
       "  <tbody>\n",
       "  </tbody>\n",
       "</table>\n",
       "<p>0 rows × 30 columns</p>\n",
       "</div>"
      ],
      "text/plain": [
       "Empty DataFrame\n",
       "Columns: [채무자키, 매각사구분, 성명, 주민번호인, 채무상태, 원채권사, 매각사, 최초원금, 현재원금, OPB, 관리자비고, 관리자기타, 비고, 자택전화인, 직장전화인, 핸드폰인, 자택우편번호, 자택주소, 자택번지인, 직장우편번호, 직장주소, 직장번지인, 초본우편번호, 초본주소, 초본번지인, 보증인성명, 보증인상태, 타채무자키, 변경전성명인, 변경전주민번호인]\n",
       "Index: []\n",
       "\n",
       "[0 rows x 30 columns]"
      ]
     },
     "execution_count": 86,
     "metadata": {},
     "output_type": "execute_result"
    }
   ],
   "source": [
    "# 우편번호찾기\n",
    "##########################\n",
    "search_value = \"10911\"      \n",
    "##########################\n",
    "search_col1 = \"자택우편번호\"\n",
    "search_col2 = \"초본우편번호\"\n",
    "search_col3 = \"직장우편번호\"\n",
    "df_d[(df_d[search_col1]==search_value) | (df_d[search_col2]==search_value) | (df_d[search_col3]==search_value)]"
   ]
  },
  {
   "cell_type": "code",
   "execution_count": 88,
   "metadata": {},
   "outputs": [
    {
     "data": {
      "text/html": [
       "<div>\n",
       "<style scoped>\n",
       "    .dataframe tbody tr th:only-of-type {\n",
       "        vertical-align: middle;\n",
       "    }\n",
       "\n",
       "    .dataframe tbody tr th {\n",
       "        vertical-align: top;\n",
       "    }\n",
       "\n",
       "    .dataframe thead th {\n",
       "        text-align: right;\n",
       "    }\n",
       "</style>\n",
       "<table border=\"1\" class=\"dataframe\">\n",
       "  <thead>\n",
       "    <tr style=\"text-align: right;\">\n",
       "      <th></th>\n",
       "      <th>채무자키</th>\n",
       "      <th>매각사구분</th>\n",
       "      <th>보증인성명인</th>\n",
       "      <th>주민번호인</th>\n",
       "      <th>계좌번호</th>\n",
       "      <th>채무자관계</th>\n",
       "      <th>채무자명</th>\n",
       "      <th>보증구분</th>\n",
       "      <th>보증인상태</th>\n",
       "      <th>보증금액</th>\n",
       "      <th>...</th>\n",
       "      <th>반송사유</th>\n",
       "      <th>반송일</th>\n",
       "      <th>우편발송금지</th>\n",
       "      <th>타채무자키</th>\n",
       "      <th>채무자주민번호</th>\n",
       "      <th>최신화결과화면</th>\n",
       "      <th>등록일자</th>\n",
       "      <th>등록유저</th>\n",
       "      <th>수정일자</th>\n",
       "      <th>수정유저</th>\n",
       "    </tr>\n",
       "  </thead>\n",
       "  <tbody>\n",
       "  </tbody>\n",
       "</table>\n",
       "<p>0 rows × 51 columns</p>\n",
       "</div>"
      ],
      "text/plain": [
       "Empty DataFrame\n",
       "Columns: [채무자키, 매각사구분, 보증인성명인, 주민번호인, 계좌번호, 채무자관계, 채무자명, 보증구분, 보증인상태, 보증금액, 보증잔액, 보증한도액, 메모, 핸드폰인, 자택전화인, 직장전화인, 자택우편번호, 자택주소, 자택번지인, 직장우편번호, 직장주소, 직장번지인, 직장명인, 초본우편번호, 초본주소, 초본번지인, 초본발급일, 세대주관계, 우편발송일, 우편발송결과, 매입일, 보증일, 종결일, 종결사유, 관할법원, 사건번호, 보증인키, 계좌키, 원채권사, 매각사, 전입일, 반송사유, 반송일, 우편발송금지, 타채무자키, 채무자주민번호, 최신화결과화면, 등록일자, 등록유저, 수정일자, 수정유저]\n",
       "Index: []\n",
       "\n",
       "[0 rows x 51 columns]"
      ]
     },
     "execution_count": 88,
     "metadata": {},
     "output_type": "execute_result"
    }
   ],
   "source": [
    "# 보증인\n",
    "##########################\n",
    "search_value = \"07926\"      \n",
    "##########################\n",
    "search_col1 = \"자택우편번호\"\n",
    "search_col2 = \"초본우편번호\"\n",
    "search_col3 = \"직장우편번호\"\n",
    "df_g[(df_g[search_col1]==search_value) | (df_g[search_col2]==search_value) | (df_g[search_col3]==search_value)]"
   ]
  }
 ],
 "metadata": {
  "kernelspec": {
   "display_name": "Python 3.9.13 ('base')",
   "language": "python",
   "name": "python3"
  },
  "language_info": {
   "codemirror_mode": {
    "name": "ipython",
    "version": 3
   },
   "file_extension": ".py",
   "mimetype": "text/x-python",
   "name": "python",
   "nbconvert_exporter": "python",
   "pygments_lexer": "ipython3",
   "version": "3.9.13"
  },
  "orig_nbformat": 4,
  "vscode": {
   "interpreter": {
    "hash": "50ba2c93e3505a279245e213c77d9791c626788d8ca8a61b8db804927ca08a39"
   }
  }
 },
 "nbformat": 4,
 "nbformat_minor": 2
}
