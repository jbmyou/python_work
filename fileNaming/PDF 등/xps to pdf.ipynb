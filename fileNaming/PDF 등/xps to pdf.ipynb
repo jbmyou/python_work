{
 "cells": [
  {
   "cell_type": "code",
   "execution_count": 8,
   "metadata": {},
   "outputs": [],
   "source": [
    "import os\n",
    "import shutil\n",
    "import re\n",
    "import upload_v2 as v2\n",
    "from os.path import join"
   ]
  },
  {
   "cell_type": "code",
   "execution_count": 9,
   "metadata": {},
   "outputs": [
    {
     "name": "stdout",
     "output_type": "stream",
     "text": [
      "59개 파일 이동 완료\n"
     ]
    }
   ],
   "source": [
    "path = r\"D:\\nas다운로드\\upload\"\n",
    "file_list = os.walk(path)\n",
    "dict = {}\n",
    "p = re.compile(\"xps$\", re.I)\n",
    "cnt = 0\n",
    "for root, dirs, files in file_list :\n",
    "    for f in files :\n",
    "        #name = os.path.splitext(f)[0]\n",
    "        ext = os.path.splitext(f)[1]\n",
    "        if p.search(ext) :\n",
    "            back_dir = root[len(path)+1 : ] #+1은 / 제거하기 위함\n",
    "            dst = join(path, \"xps\", back_dir, f)\n",
    "            \n",
    "            v2.re_name(join(root, f), dst)\n",
    "            cnt += 1\n",
    "print(f\"{cnt}개 파일 이동 완료\")\n"
   ]
  },
  {
   "cell_type": "code",
   "execution_count": null,
   "metadata": {},
   "outputs": [],
   "source": []
  },
  {
   "cell_type": "code",
   "execution_count": null,
   "metadata": {},
   "outputs": [],
   "source": []
  },
  {
   "cell_type": "code",
   "execution_count": null,
   "metadata": {},
   "outputs": [],
   "source": []
  },
  {
   "cell_type": "code",
   "execution_count": null,
   "metadata": {},
   "outputs": [],
   "source": []
  },
  {
   "cell_type": "code",
   "execution_count": null,
   "metadata": {},
   "outputs": [],
   "source": []
  },
  {
   "cell_type": "code",
   "execution_count": null,
   "metadata": {},
   "outputs": [],
   "source": []
  }
 ],
 "metadata": {
  "kernelspec": {
   "display_name": "Python 3.9.12 ('base')",
   "language": "python",
   "name": "python3"
  },
  "language_info": {
   "codemirror_mode": {
    "name": "ipython",
    "version": 3
   },
   "file_extension": ".py",
   "mimetype": "text/x-python",
   "name": "python",
   "nbconvert_exporter": "python",
   "pygments_lexer": "ipython3",
   "version": "3.9.12"
  },
  "orig_nbformat": 4,
  "vscode": {
   "interpreter": {
    "hash": "50ba2c93e3505a279245e213c77d9791c626788d8ca8a61b8db804927ca08a39"
   }
  }
 },
 "nbformat": 4,
 "nbformat_minor": 2
}
