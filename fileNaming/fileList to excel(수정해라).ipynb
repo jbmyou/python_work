{
 "cells": [
  {
   "cell_type": "markdown",
   "metadata": {},
   "source": [
    "##### 파일 목록 csv로 만들기"
   ]
  },
  {
   "cell_type": "code",
   "execution_count": 1,
   "metadata": {},
   "outputs": [],
   "source": [
    "import re, os\n",
    "import pandas as pd\n",
    "from os.path import join\n",
    "from tqdm import tqdm\n",
    "from tqdm.notebook import tqdm as tq\n",
    "import upload_v2 as v2"
   ]
  },
  {
   "cell_type": "code",
   "execution_count": 2,
   "metadata": {},
   "outputs": [],
   "source": [
    "def file_info_to_csv(path:str, savePath:str, pdf=True):\n",
    "    if pdf : #pdf류\n",
    "        p_extension = re.compile('jpeg|jpg|bmp|gif|pdf|png|tif|tiff|m4a|wav|mp[34]|xps$', re.I)\n",
    "    else : \n",
    "        p_extension = re.compile('.db|.ini|.teamup', re.I)\n",
    "    data = []\n",
    "    for root, __dir__, files in os.walk(path) :\n",
    "        for f in files :\n",
    "            if pdf :\n",
    "                if p_extension.search(f) :\n",
    "                    data.append([root, os.path.splitext(f)[0], os.path.splitext(f)[1], join(root, f), os.path.splitext(f)[0]]) \n",
    "            if not pdf :\n",
    "                if (p_extension.search(f)==None) and (re.match(\"[~$]\", f) == None) :\n",
    "                    data.append([root, os.path.splitext(f)[0], os.path.splitext(f)[1], join(root, f), os.path.splitext(f)[0]]) \n",
    "    \n",
    "    df = pd.DataFrame(data , columns=[\"src_dir\", \"src_file\", \"ext\", \"fullPath\", \"dst_file\"])\n",
    "    df.to_excel(join(savePath, \"전체 파일정보.xlsx\"))\n",
    "\n",
    "    return df\n"
   ]
  },
  {
   "cell_type": "code",
   "execution_count": 5,
   "metadata": {},
   "outputs": [],
   "source": [
    "os.chdir('c:/')"
   ]
  },
  {
   "cell_type": "code",
   "execution_count": 4,
   "metadata": {},
   "outputs": [
    {
     "data": {
      "text/html": [
       "<div>\n",
       "<style scoped>\n",
       "    .dataframe tbody tr th:only-of-type {\n",
       "        vertical-align: middle;\n",
       "    }\n",
       "\n",
       "    .dataframe tbody tr th {\n",
       "        vertical-align: top;\n",
       "    }\n",
       "\n",
       "    .dataframe thead th {\n",
       "        text-align: right;\n",
       "    }\n",
       "</style>\n",
       "<table border=\"1\" class=\"dataframe\">\n",
       "  <thead>\n",
       "    <tr style=\"text-align: right;\">\n",
       "      <th></th>\n",
       "      <th>src_dir</th>\n",
       "      <th>src_file</th>\n",
       "      <th>ext</th>\n",
       "      <th>fullPath</th>\n",
       "      <th>dst_file</th>\n",
       "    </tr>\n",
       "  </thead>\n",
       "  <tbody>\n",
       "    <tr>\n",
       "      <th>0</th>\n",
       "      <td>D:\\부산 정리_예외들\\0.부산 공유폴더_이미지 아닌 파일들 모음</td>\n",
       "      <td>전체 파일정보</td>\n",
       "      <td>.xlsx</td>\n",
       "      <td>D:\\부산 정리_예외들\\0.부산 공유폴더_이미지 아닌 파일들 모음\\전체 파일정보.xlsx</td>\n",
       "      <td>전체 파일정보</td>\n",
       "    </tr>\n",
       "    <tr>\n",
       "      <th>1</th>\n",
       "      <td>D:\\부산 정리_예외들\\0.부산 공유폴더_이미지 아닌 파일들 모음\\1.한울가람_헬프...</td>\n",
       "      <td>원장번호(디엔피원장)</td>\n",
       "      <td>.xls</td>\n",
       "      <td>D:\\부산 정리_예외들\\0.부산 공유폴더_이미지 아닌 파일들 모음\\1.한울가람_헬프...</td>\n",
       "      <td>원장번호(디엔피원장)</td>\n",
       "    </tr>\n",
       "    <tr>\n",
       "      <th>2</th>\n",
       "      <td>D:\\부산 정리_예외들\\0.부산 공유폴더_이미지 아닌 파일들 모음\\2. (9003)...</td>\n",
       "      <td>흥국양통종적및양통스캔</td>\n",
       "      <td>.xlsx</td>\n",
       "      <td>D:\\부산 정리_예외들\\0.부산 공유폴더_이미지 아닌 파일들 모음\\2. (9003)...</td>\n",
       "      <td>흥국양통종적및양통스캔</td>\n",
       "    </tr>\n",
       "    <tr>\n",
       "      <th>3</th>\n",
       "      <td>D:\\부산 정리_예외들\\0.부산 공유폴더_이미지 아닌 파일들 모음\\2. (9003)...</td>\n",
       "      <td>흥국양통종적조회결과_전체</td>\n",
       "      <td>.xlsx</td>\n",
       "      <td>D:\\부산 정리_예외들\\0.부산 공유폴더_이미지 아닌 파일들 모음\\2. (9003)...</td>\n",
       "      <td>흥국양통종적조회결과_전체</td>\n",
       "    </tr>\n",
       "    <tr>\n",
       "      <th>4</th>\n",
       "      <td>D:\\부산 정리_예외들\\0.부산 공유폴더_이미지 아닌 파일들 모음\\3. (9008)...</td>\n",
       "      <td>result</td>\n",
       "      <td>.txt</td>\n",
       "      <td>D:\\부산 정리_예외들\\0.부산 공유폴더_이미지 아닌 파일들 모음\\3. (9008)...</td>\n",
       "      <td>result</td>\n",
       "    </tr>\n",
       "  </tbody>\n",
       "</table>\n",
       "</div>"
      ],
      "text/plain": [
       "                                             src_dir       src_file    ext  \\\n",
       "0               D:\\부산 정리_예외들\\0.부산 공유폴더_이미지 아닌 파일들 모음        전체 파일정보  .xlsx   \n",
       "1  D:\\부산 정리_예외들\\0.부산 공유폴더_이미지 아닌 파일들 모음\\1.한울가람_헬프...    원장번호(디엔피원장)   .xls   \n",
       "2  D:\\부산 정리_예외들\\0.부산 공유폴더_이미지 아닌 파일들 모음\\2. (9003)...    흥국양통종적및양통스캔  .xlsx   \n",
       "3  D:\\부산 정리_예외들\\0.부산 공유폴더_이미지 아닌 파일들 모음\\2. (9003)...  흥국양통종적조회결과_전체  .xlsx   \n",
       "4  D:\\부산 정리_예외들\\0.부산 공유폴더_이미지 아닌 파일들 모음\\3. (9008)...         result   .txt   \n",
       "\n",
       "                                            fullPath       dst_file  \n",
       "0  D:\\부산 정리_예외들\\0.부산 공유폴더_이미지 아닌 파일들 모음\\전체 파일정보.xlsx        전체 파일정보  \n",
       "1  D:\\부산 정리_예외들\\0.부산 공유폴더_이미지 아닌 파일들 모음\\1.한울가람_헬프...    원장번호(디엔피원장)  \n",
       "2  D:\\부산 정리_예외들\\0.부산 공유폴더_이미지 아닌 파일들 모음\\2. (9003)...    흥국양통종적및양통스캔  \n",
       "3  D:\\부산 정리_예외들\\0.부산 공유폴더_이미지 아닌 파일들 모음\\2. (9003)...  흥국양통종적조회결과_전체  \n",
       "4  D:\\부산 정리_예외들\\0.부산 공유폴더_이미지 아닌 파일들 모음\\3. (9008)...         result  "
      ]
     },
     "execution_count": 4,
     "metadata": {},
     "output_type": "execute_result"
    }
   ],
   "source": [
    "# 파일 만들기\n",
    "#################################################################\n",
    "path = r'D:\\부산 정리_예외들\\0.부산 공유폴더_이미지 아닌 파일들 모음'\n",
    "file_info_to_csv(path, path, False).head()\n",
    "#################################################################"
   ]
  },
  {
   "cell_type": "code",
   "execution_count": 4,
   "metadata": {},
   "outputs": [
    {
     "data": {
      "text/html": [
       "<div>\n",
       "<style scoped>\n",
       "    .dataframe tbody tr th:only-of-type {\n",
       "        vertical-align: middle;\n",
       "    }\n",
       "\n",
       "    .dataframe tbody tr th {\n",
       "        vertical-align: top;\n",
       "    }\n",
       "\n",
       "    .dataframe thead th {\n",
       "        text-align: right;\n",
       "    }\n",
       "</style>\n",
       "<table border=\"1\" class=\"dataframe\">\n",
       "  <thead>\n",
       "    <tr style=\"text-align: right;\">\n",
       "      <th></th>\n",
       "      <th>src_dir</th>\n",
       "      <th>src_file</th>\n",
       "      <th>ext</th>\n",
       "      <th>fullPath</th>\n",
       "      <th>dst_file</th>\n",
       "    </tr>\n",
       "  </thead>\n",
       "  <tbody>\n",
       "    <tr>\n",
       "      <th>0</th>\n",
       "      <td>D:\\부산 정리_예외들\\0.부산 공유폴더_이미지 아닌 파일들 모음</td>\n",
       "      <td>20412806 원인서류</td>\n",
       "      <td>.pdf</td>\n",
       "      <td>D:\\부산 정리_예외들\\0.부산 공유폴더_이미지 아닌 파일들 모음\\20412806 ...</td>\n",
       "      <td>20412806 원인서류</td>\n",
       "    </tr>\n",
       "  </tbody>\n",
       "</table>\n",
       "</div>"
      ],
      "text/plain": [
       "                                src_dir       src_file   ext  \\\n",
       "0  D:\\부산 정리_예외들\\0.부산 공유폴더_이미지 아닌 파일들 모음  20412806 원인서류  .pdf   \n",
       "\n",
       "                                            fullPath       dst_file  \n",
       "0  D:\\부산 정리_예외들\\0.부산 공유폴더_이미지 아닌 파일들 모음\\20412806 ...  20412806 원인서류  "
      ]
     },
     "execution_count": 4,
     "metadata": {},
     "output_type": "execute_result"
    }
   ],
   "source": [
    "# 수정한 파일 불러오기\n",
    "################\n",
    "path = path\n",
    "path_log = path\n",
    "################\n",
    "path_excel = join(path, '전체 파일정보.xlsx')\n",
    "df = pd.read_excel(path_excel, index_col=0)\n",
    "df.head()"
   ]
  },
  {
   "cell_type": "code",
   "execution_count": 14,
   "metadata": {},
   "outputs": [
    {
     "data": {
      "text/html": [
       "<div>\n",
       "<style scoped>\n",
       "    .dataframe tbody tr th:only-of-type {\n",
       "        vertical-align: middle;\n",
       "    }\n",
       "\n",
       "    .dataframe tbody tr th {\n",
       "        vertical-align: top;\n",
       "    }\n",
       "\n",
       "    .dataframe thead th {\n",
       "        text-align: right;\n",
       "    }\n",
       "</style>\n",
       "<table border=\"1\" class=\"dataframe\">\n",
       "  <thead>\n",
       "    <tr style=\"text-align: right;\">\n",
       "      <th></th>\n",
       "      <th>src_dir</th>\n",
       "      <th>src_file</th>\n",
       "      <th>ext</th>\n",
       "      <th>fullPath</th>\n",
       "      <th>dst_src</th>\n",
       "    </tr>\n",
       "  </thead>\n",
       "  <tbody>\n",
       "    <tr>\n",
       "      <th>0</th>\n",
       "      <td>D:\\부산 정리_예외들\\0.부산 공유폴더_이미지 아닌 파일들 모음\\이상한거</td>\n",
       "      <td>1738_(주)대한디테일_1501000163_112-81-37022</td>\n",
       "      <td>.pdf</td>\n",
       "      <td>D:\\부산 정리_예외들\\0.부산 공유폴더_이미지 아닌 파일들 모음\\이상한거\\1738...</td>\n",
       "      <td>20412806 원인서류</td>\n",
       "    </tr>\n",
       "  </tbody>\n",
       "</table>\n",
       "</div>"
      ],
      "text/plain": [
       "                                     src_dir  \\\n",
       "0  D:\\부산 정리_예외들\\0.부산 공유폴더_이미지 아닌 파일들 모음\\이상한거   \n",
       "\n",
       "                                src_file   ext  \\\n",
       "0  1738_(주)대한디테일_1501000163_112-81-37022  .pdf   \n",
       "\n",
       "                                            fullPath        dst_src  \n",
       "0  D:\\부산 정리_예외들\\0.부산 공유폴더_이미지 아닌 파일들 모음\\이상한거\\1738...  20412806 원인서류  "
      ]
     },
     "execution_count": 14,
     "metadata": {},
     "output_type": "execute_result"
    }
   ],
   "source": [
    "# 수정하지 않을 거 삭제하기\n",
    "df = df.dropna(how='any')"
   ]
  },
  {
   "cell_type": "code",
   "execution_count": 18,
   "metadata": {},
   "outputs": [
    {
     "ename": "FileNotFoundError",
     "evalue": "[Errno 2] No such file or directory: 'D:\\\\부산 정리_예외들\\\\0.부산 공유폴더_이미지 아닌 파일들 모음\\\\이상한거\\\\1738_(주)대한디테일_1501000163_112-81-37022.pdf'",
     "output_type": "error",
     "traceback": [
      "\u001b[1;31m---------------------------------------------------------------------------\u001b[0m",
      "\u001b[1;31mFileNotFoundError\u001b[0m                         Traceback (most recent call last)",
      "File \u001b[1;32mc:\\Users\\SL\\anaconda3\\lib\\shutil.py:823\u001b[0m, in \u001b[0;36mmove\u001b[1;34m(src, dst, copy_function)\u001b[0m\n\u001b[0;32m    822\u001b[0m \u001b[39mtry\u001b[39;00m:\n\u001b[1;32m--> 823\u001b[0m     os\u001b[39m.\u001b[39;49mrename(src, real_dst)\n\u001b[0;32m    824\u001b[0m \u001b[39mexcept\u001b[39;00m \u001b[39mOSError\u001b[39;00m:\n",
      "\u001b[1;31mFileNotFoundError\u001b[0m: [WinError 2] 지정된 파일을 찾을 수 없습니다: 'D:\\\\부산 정리_예외들\\\\0.부산 공유폴더_이미지 아닌 파일들 모음\\\\이상한거\\\\1738_(주)대한디테일_1501000163_112-81-37022.pdf' -> 'D:\\\\부산 정리_예외들\\\\0.부산 공유폴더_이미지 아닌 파일들 모음\\\\20412806 원인서류.pdf'",
      "\nDuring handling of the above exception, another exception occurred:\n",
      "\u001b[1;31mFileNotFoundError\u001b[0m                         Traceback (most recent call last)",
      "\u001b[1;32mc:\\Users\\SL\\Desktop\\workspace\\python\\fileNaming\\파일\\csvWork.ipynb 셀 7\u001b[0m in \u001b[0;36m<cell line: 3>\u001b[1;34m()\u001b[0m\n\u001b[0;32m      <a href='vscode-notebook-cell:/c%3A/Users/SL/Desktop/workspace/python/fileNaming/%ED%8C%8C%EC%9D%BC/csvWork.ipynb#W6sZmlsZQ%3D%3D?line=7'>8</a>\u001b[0m \u001b[39mif\u001b[39;00m \u001b[39mnot\u001b[39;00m os\u001b[39m.\u001b[39mpath\u001b[39m.\u001b[39mexists(dst_dir) :\n\u001b[0;32m      <a href='vscode-notebook-cell:/c%3A/Users/SL/Desktop/workspace/python/fileNaming/%ED%8C%8C%EC%9D%BC/csvWork.ipynb#W6sZmlsZQ%3D%3D?line=8'>9</a>\u001b[0m     os\u001b[39m.\u001b[39mmakedirs(dst_dir)\n\u001b[1;32m---> <a href='vscode-notebook-cell:/c%3A/Users/SL/Desktop/workspace/python/fileNaming/%ED%8C%8C%EC%9D%BC/csvWork.ipynb#W6sZmlsZQ%3D%3D?line=10'>11</a>\u001b[0m shutil\u001b[39m.\u001b[39;49mmove(v\u001b[39m.\u001b[39;49mfullPath, dst)\n",
      "File \u001b[1;32mc:\\Users\\SL\\anaconda3\\lib\\shutil.py:843\u001b[0m, in \u001b[0;36mmove\u001b[1;34m(src, dst, copy_function)\u001b[0m\n\u001b[0;32m    841\u001b[0m         rmtree(src)\n\u001b[0;32m    842\u001b[0m     \u001b[39melse\u001b[39;00m:\n\u001b[1;32m--> 843\u001b[0m         copy_function(src, real_dst)\n\u001b[0;32m    844\u001b[0m         os\u001b[39m.\u001b[39munlink(src)\n\u001b[0;32m    845\u001b[0m \u001b[39mreturn\u001b[39;00m real_dst\n",
      "File \u001b[1;32mc:\\Users\\SL\\anaconda3\\lib\\shutil.py:444\u001b[0m, in \u001b[0;36mcopy2\u001b[1;34m(src, dst, follow_symlinks)\u001b[0m\n\u001b[0;32m    442\u001b[0m \u001b[39mif\u001b[39;00m os\u001b[39m.\u001b[39mpath\u001b[39m.\u001b[39misdir(dst):\n\u001b[0;32m    443\u001b[0m     dst \u001b[39m=\u001b[39m os\u001b[39m.\u001b[39mpath\u001b[39m.\u001b[39mjoin(dst, os\u001b[39m.\u001b[39mpath\u001b[39m.\u001b[39mbasename(src))\n\u001b[1;32m--> 444\u001b[0m copyfile(src, dst, follow_symlinks\u001b[39m=\u001b[39;49mfollow_symlinks)\n\u001b[0;32m    445\u001b[0m copystat(src, dst, follow_symlinks\u001b[39m=\u001b[39mfollow_symlinks)\n\u001b[0;32m    446\u001b[0m \u001b[39mreturn\u001b[39;00m dst\n",
      "File \u001b[1;32mc:\\Users\\SL\\anaconda3\\lib\\shutil.py:264\u001b[0m, in \u001b[0;36mcopyfile\u001b[1;34m(src, dst, follow_symlinks)\u001b[0m\n\u001b[0;32m    262\u001b[0m     os\u001b[39m.\u001b[39msymlink(os\u001b[39m.\u001b[39mreadlink(src), dst)\n\u001b[0;32m    263\u001b[0m \u001b[39melse\u001b[39;00m:\n\u001b[1;32m--> 264\u001b[0m     \u001b[39mwith\u001b[39;00m \u001b[39mopen\u001b[39;49m(src, \u001b[39m'\u001b[39;49m\u001b[39mrb\u001b[39;49m\u001b[39m'\u001b[39;49m) \u001b[39mas\u001b[39;00m fsrc:\n\u001b[0;32m    265\u001b[0m         \u001b[39mtry\u001b[39;00m:\n\u001b[0;32m    266\u001b[0m             \u001b[39mwith\u001b[39;00m \u001b[39mopen\u001b[39m(dst, \u001b[39m'\u001b[39m\u001b[39mwb\u001b[39m\u001b[39m'\u001b[39m) \u001b[39mas\u001b[39;00m fdst:\n\u001b[0;32m    267\u001b[0m                 \u001b[39m# macOS\u001b[39;00m\n",
      "\u001b[1;31mFileNotFoundError\u001b[0m: [Errno 2] No such file or directory: 'D:\\\\부산 정리_예외들\\\\0.부산 공유폴더_이미지 아닌 파일들 모음\\\\이상한거\\\\1738_(주)대한디테일_1501000163_112-81-37022.pdf'"
     ]
    }
   ],
   "source": [
    "success = []\n",
    "for i, v in df.iterrows() : \n",
    "    ####################\n",
    "    dst_dir = path\n",
    "    ####################\n",
    "    dst = join(dst_dir, str(v.dst_src) + v.ext)\n",
    "    if not os.path.exists(dst_dir) :\n",
    "        os.makedirs(dst_dir)\n",
    "\n",
    "    success.append(v2.move(v.fullPath, dst))\n",
    "\n",
    "v2.write_log_csv(success, path_log)\n",
    "\n",
    "\n",
    "    "
   ]
  },
  {
   "cell_type": "code",
   "execution_count": null,
   "metadata": {},
   "outputs": [],
   "source": []
  },
  {
   "cell_type": "code",
   "execution_count": null,
   "metadata": {},
   "outputs": [],
   "source": []
  },
  {
   "cell_type": "code",
   "execution_count": null,
   "metadata": {},
   "outputs": [],
   "source": []
  },
  {
   "cell_type": "code",
   "execution_count": null,
   "metadata": {},
   "outputs": [],
   "source": []
  },
  {
   "cell_type": "code",
   "execution_count": null,
   "metadata": {},
   "outputs": [],
   "source": []
  },
  {
   "cell_type": "code",
   "execution_count": null,
   "metadata": {},
   "outputs": [],
   "source": []
  },
  {
   "cell_type": "code",
   "execution_count": null,
   "metadata": {},
   "outputs": [],
   "source": []
  },
  {
   "cell_type": "code",
   "execution_count": null,
   "metadata": {},
   "outputs": [],
   "source": []
  },
  {
   "cell_type": "code",
   "execution_count": null,
   "metadata": {},
   "outputs": [],
   "source": []
  },
  {
   "cell_type": "code",
   "execution_count": null,
   "metadata": {},
   "outputs": [],
   "source": []
  },
  {
   "cell_type": "code",
   "execution_count": null,
   "metadata": {},
   "outputs": [],
   "source": []
  }
 ],
 "metadata": {
  "kernelspec": {
   "display_name": "Python 3.9.13 ('base')",
   "language": "python",
   "name": "python3"
  },
  "language_info": {
   "codemirror_mode": {
    "name": "ipython",
    "version": 3
   },
   "file_extension": ".py",
   "mimetype": "text/x-python",
   "name": "python",
   "nbconvert_exporter": "python",
   "pygments_lexer": "ipython3",
   "version": "3.9.13"
  },
  "orig_nbformat": 4,
  "vscode": {
   "interpreter": {
    "hash": "38d617750889899e5f2f65cac6f27a322f361a63d334879a800ee5491961f90c"
   }
  }
 },
 "nbformat": 4,
 "nbformat_minor": 2
}
