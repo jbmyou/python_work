{
 "cells": [
  {
   "cell_type": "markdown",
   "metadata": {},
   "source": [
    "### import"
   ]
  },
  {
   "cell_type": "code",
   "execution_count": 1,
   "metadata": {},
   "outputs": [],
   "source": [
    "import pandas as pd\n",
    "import pickle\n",
    "from os.path import join"
   ]
  },
  {
   "cell_type": "markdown",
   "metadata": {},
   "source": [
    "### 계좌정보"
   ]
  },
  {
   "cell_type": "code",
   "execution_count": 48,
   "metadata": {},
   "outputs": [
    {
     "name": "stderr",
     "output_type": "stream",
     "text": [
      "c:\\Users\\SL\\anaconda3\\lib\\site-packages\\openpyxl\\styles\\stylesheet.py:226: UserWarning: Workbook contains no default style, apply openpyxl's default\n",
      "  warn(\"Workbook contains no default style, apply openpyxl's default\")\n"
     ]
    }
   ],
   "source": [
    "# 엑셀 to pkl\n",
    "# path_excel = r\"C:\\Users\\SL\\Desktop/채무자조회새창_20221128_1549.xlsx\"\n",
    "# path_pkl = path_excel[:-4] +\"pkl\"\n",
    "# df_temp = pd.read_excel(path_excel)\n",
    "# df_temp.to_pickle(path_pkl)"
   ]
  },
  {
   "cell_type": "code",
   "execution_count": 2,
   "metadata": {},
   "outputs": [],
   "source": [
    "# 파일읽기\n",
    "path_pkl = r\"D:\\1.전산,개발\\3.파일서버관리\\파일\\채무자조회\"\n",
    "debtor = \"채무자조회_원금_주소.pkl\"\n",
    "grt = \"보증인조회_221128.pkl\"\n",
    "account = \"계좌조회새창_20230223_0839.pkl\"\n",
    "df_d = pd.read_pickle(join(path_pkl, debtor))\n",
    "df_g = pd.read_pickle(join(path_pkl, grt))\n",
    "df_a = pd.read_pickle(join(path_pkl, account))[[\"채무자키\", \"계좌키\", \"매각사\", \"매각사구분\", \"채무자명\", \"채무상태\", \"은행대출원금\", \"최초원금\", \"현재원금\", \"최초합계\", \"OPB\"]]\n",
    "\n",
    "######## 제한 #######################\n",
    "# df_d = df_d[df_d.매각사구분.str.match(\"한울\")]# & (df_d.원채권사 == \"우리은행\")\n",
    "# df_g = df_g[df_g.매각사구분.str.match(\"한울\")]# & (df_g.원채권사 == \"우리은행\")\n",
    "# print(len(df_d.index))\n",
    "# print(df_d.columns)\n",
    "# print(len(df_g.index))\n",
    "# print(df_g.columns)"
   ]
  },
  {
   "cell_type": "code",
   "execution_count": 4,
   "metadata": {},
   "outputs": [
    {
     "name": "stdout",
     "output_type": "stream",
     "text": [
      "일치값 없음\n"
     ]
    }
   ],
   "source": [
    "# 금액찾기\n",
    "##########################\n",
    "search_value =  2833332 \n",
    "##########################\n",
    "search_col1 = \"현재원금\"\n",
    "search_col2 = \"최초원금\"\n",
    "search_col3 = \"은행대출원금\"\n",
    "result = df_a[(df_a[search_col1]==search_value) | (df_a[search_col2]==search_value) | (df_a[search_col3]==search_value)]\n",
    "if len(result)>0 :\n",
    "    print(\"원금 일치\")\n",
    "    display(result)\n",
    "else :\n",
    "    search_col1 = \"최초합계\"\n",
    "    search_col2 = \"OPB\"\n",
    "    search_col3 = \"현재원금\"\n",
    "    result = df_a[(df_a[search_col1]==search_value) | (df_a[search_col2]==search_value) | (df_a[search_col3]==search_value)]\n",
    "    if len(result)>0 :\n",
    "        print(\"원리금 일치\")\n",
    "        display(result)\n",
    "    else :\n",
    "        q_exp = '(최초원금==@search_value) or (현재원금==@search_value) or (OPB==@search_value)'\n",
    "        result = df_d.query(q_exp)\n",
    "        if len(result) > 0 :\n",
    "            print(\"차주(계좌 합계) 일치값\")\n",
    "            display(result)\n",
    "        else : \n",
    "            print(\"일치값 없음\")"
   ]
  },
  {
   "cell_type": "code",
   "execution_count": 7,
   "metadata": {},
   "outputs": [
    {
     "data": {
      "text/html": [
       "<div>\n",
       "<style scoped>\n",
       "    .dataframe tbody tr th:only-of-type {\n",
       "        vertical-align: middle;\n",
       "    }\n",
       "\n",
       "    .dataframe tbody tr th {\n",
       "        vertical-align: top;\n",
       "    }\n",
       "\n",
       "    .dataframe thead th {\n",
       "        text-align: right;\n",
       "    }\n",
       "</style>\n",
       "<table border=\"1\" class=\"dataframe\">\n",
       "  <thead>\n",
       "    <tr style=\"text-align: right;\">\n",
       "      <th></th>\n",
       "      <th>채무자키</th>\n",
       "      <th>계좌키</th>\n",
       "      <th>매각사</th>\n",
       "      <th>매각사구분</th>\n",
       "      <th>채무자명</th>\n",
       "      <th>채무상태</th>\n",
       "      <th>은행대출원금</th>\n",
       "      <th>최초원금</th>\n",
       "      <th>현재원금</th>\n",
       "      <th>최초합계</th>\n",
       "      <th>OPB</th>\n",
       "    </tr>\n",
       "  </thead>\n",
       "  <tbody>\n",
       "  </tbody>\n",
       "</table>\n",
       "</div>"
      ],
      "text/plain": [
       "Empty DataFrame\n",
       "Columns: [채무자키, 계좌키, 매각사, 매각사구분, 채무자명, 채무상태, 은행대출원금, 최초원금, 현재원금, 최초합계, OPB]\n",
       "Index: []"
      ]
     },
     "metadata": {},
     "output_type": "display_data"
    }
   ],
   "source": [
    "# 최초합계(원리금)에서 찾기\n",
    "df_a[(df_a[\"최초합계\"]==search_value)]"
   ]
  },
  {
   "cell_type": "code",
   "execution_count": 9,
   "metadata": {},
   "outputs": [
    {
     "data": {
      "text/html": [
       "<div>\n",
       "<style scoped>\n",
       "    .dataframe tbody tr th:only-of-type {\n",
       "        vertical-align: middle;\n",
       "    }\n",
       "\n",
       "    .dataframe tbody tr th {\n",
       "        vertical-align: top;\n",
       "    }\n",
       "\n",
       "    .dataframe thead th {\n",
       "        text-align: right;\n",
       "    }\n",
       "</style>\n",
       "<table border=\"1\" class=\"dataframe\">\n",
       "  <thead>\n",
       "    <tr style=\"text-align: right;\">\n",
       "      <th></th>\n",
       "      <th>채무자키</th>\n",
       "      <th>매각사</th>\n",
       "      <th>자택주소</th>\n",
       "      <th>초본주소</th>\n",
       "    </tr>\n",
       "  </thead>\n",
       "  <tbody>\n",
       "  </tbody>\n",
       "</table>\n",
       "</div>"
      ],
      "text/plain": [
       "Empty DataFrame\n",
       "Columns: [채무자키, 매각사, 자택주소, 초본주소]\n",
       "Index: []"
      ]
     },
     "execution_count": 9,
     "metadata": {},
     "output_type": "execute_result"
    }
   ],
   "source": [
    "# 주소찾기\n",
    "##########################\n",
    "search_value = \"손기정로4길\"\n",
    "##########################\n",
    "search_col1 = \"자택주소\"\n",
    "search_col2 = \"초본주소\"\n",
    "df_d[((df_d[search_col1].str.contains(search_value)) | (df_d[search_col2].str.contains(search_value)))][[\"채무자키\",\"매각사\",\"자택주소\", \"초본주소\"]]"
   ]
  },
  {
   "cell_type": "code",
   "execution_count": 86,
   "metadata": {},
   "outputs": [
    {
     "data": {
      "text/html": [
       "<div>\n",
       "<style scoped>\n",
       "    .dataframe tbody tr th:only-of-type {\n",
       "        vertical-align: middle;\n",
       "    }\n",
       "\n",
       "    .dataframe tbody tr th {\n",
       "        vertical-align: top;\n",
       "    }\n",
       "\n",
       "    .dataframe thead th {\n",
       "        text-align: right;\n",
       "    }\n",
       "</style>\n",
       "<table border=\"1\" class=\"dataframe\">\n",
       "  <thead>\n",
       "    <tr style=\"text-align: right;\">\n",
       "      <th></th>\n",
       "      <th>채무자키</th>\n",
       "      <th>매각사구분</th>\n",
       "      <th>성명</th>\n",
       "      <th>주민번호인</th>\n",
       "      <th>채무상태</th>\n",
       "      <th>원채권사</th>\n",
       "      <th>매각사</th>\n",
       "      <th>최초원금</th>\n",
       "      <th>현재원금</th>\n",
       "      <th>OPB</th>\n",
       "      <th>...</th>\n",
       "      <th>직장주소</th>\n",
       "      <th>직장번지인</th>\n",
       "      <th>초본우편번호</th>\n",
       "      <th>초본주소</th>\n",
       "      <th>초본번지인</th>\n",
       "      <th>보증인성명</th>\n",
       "      <th>보증인상태</th>\n",
       "      <th>타채무자키</th>\n",
       "      <th>변경전성명인</th>\n",
       "      <th>변경전주민번호인</th>\n",
       "    </tr>\n",
       "  </thead>\n",
       "  <tbody>\n",
       "  </tbody>\n",
       "</table>\n",
       "<p>0 rows × 30 columns</p>\n",
       "</div>"
      ],
      "text/plain": [
       "Empty DataFrame\n",
       "Columns: [채무자키, 매각사구분, 성명, 주민번호인, 채무상태, 원채권사, 매각사, 최초원금, 현재원금, OPB, 관리자비고, 관리자기타, 비고, 자택전화인, 직장전화인, 핸드폰인, 자택우편번호, 자택주소, 자택번지인, 직장우편번호, 직장주소, 직장번지인, 초본우편번호, 초본주소, 초본번지인, 보증인성명, 보증인상태, 타채무자키, 변경전성명인, 변경전주민번호인]\n",
       "Index: []\n",
       "\n",
       "[0 rows x 30 columns]"
      ]
     },
     "execution_count": 86,
     "metadata": {},
     "output_type": "execute_result"
    }
   ],
   "source": [
    "# 우편번호찾기\n",
    "##########################\n",
    "search_value = \"10911\"      \n",
    "##########################\n",
    "search_col1 = \"자택우편번호\"\n",
    "search_col2 = \"초본우편번호\"\n",
    "search_col3 = \"직장우편번호\"\n",
    "df_d[(df_d[search_col1]==search_value) | (df_d[search_col2]==search_value) | (df_d[search_col3]==search_value)]"
   ]
  },
  {
   "cell_type": "code",
   "execution_count": 8,
   "metadata": {},
   "outputs": [
    {
     "data": {
      "text/html": [
       "<div>\n",
       "<style scoped>\n",
       "    .dataframe tbody tr th:only-of-type {\n",
       "        vertical-align: middle;\n",
       "    }\n",
       "\n",
       "    .dataframe tbody tr th {\n",
       "        vertical-align: top;\n",
       "    }\n",
       "\n",
       "    .dataframe thead th {\n",
       "        text-align: right;\n",
       "    }\n",
       "</style>\n",
       "<table border=\"1\" class=\"dataframe\">\n",
       "  <thead>\n",
       "    <tr style=\"text-align: right;\">\n",
       "      <th></th>\n",
       "      <th>채무자키</th>\n",
       "      <th>매각사구분</th>\n",
       "      <th>보증인성명인</th>\n",
       "      <th>주민번호인</th>\n",
       "      <th>계좌번호</th>\n",
       "      <th>채무자관계</th>\n",
       "      <th>채무자명</th>\n",
       "      <th>보증구분</th>\n",
       "      <th>보증인상태</th>\n",
       "      <th>보증금액</th>\n",
       "      <th>...</th>\n",
       "      <th>반송사유</th>\n",
       "      <th>반송일</th>\n",
       "      <th>우편발송금지</th>\n",
       "      <th>타채무자키</th>\n",
       "      <th>채무자주민번호</th>\n",
       "      <th>최신화결과화면</th>\n",
       "      <th>등록일자</th>\n",
       "      <th>등록유저</th>\n",
       "      <th>수정일자</th>\n",
       "      <th>수정유저</th>\n",
       "    </tr>\n",
       "  </thead>\n",
       "  <tbody>\n",
       "  </tbody>\n",
       "</table>\n",
       "<p>0 rows × 51 columns</p>\n",
       "</div>"
      ],
      "text/plain": [
       "Empty DataFrame\n",
       "Columns: [채무자키, 매각사구분, 보증인성명인, 주민번호인, 계좌번호, 채무자관계, 채무자명, 보증구분, 보증인상태, 보증금액, 보증잔액, 보증한도액, 메모, 핸드폰인, 자택전화인, 직장전화인, 자택우편번호, 자택주소, 자택번지인, 직장우편번호, 직장주소, 직장번지인, 직장명인, 초본우편번호, 초본주소, 초본번지인, 초본발급일, 세대주관계, 우편발송일, 우편발송결과, 매입일, 보증일, 종결일, 종결사유, 관할법원, 사건번호, 보증인키, 계좌키, 원채권사, 매각사, 전입일, 반송사유, 반송일, 우편발송금지, 타채무자키, 채무자주민번호, 최신화결과화면, 등록일자, 등록유저, 수정일자, 수정유저]\n",
       "Index: []\n",
       "\n",
       "[0 rows x 51 columns]"
      ]
     },
     "execution_count": 8,
     "metadata": {},
     "output_type": "execute_result"
    }
   ],
   "source": [
    "# 보증인\n",
    "##########################\n",
    "search_value = \"연안로 74\"      \n",
    "##########################\n",
    "search_col1 = \"자택우편번호\"\n",
    "search_col2 = \"초본우편번호\"\n",
    "search_col3 = \"직장우편번호\"\n",
    "df_g[(df_g[search_col1]==search_value) | (df_g[search_col2]==search_value) | (df_g[search_col3]==search_value)]"
   ]
  },
  {
   "cell_type": "code",
   "execution_count": 7,
   "metadata": {},
   "outputs": [
    {
     "data": {
      "text/plain": [
       "Index(['채무자키', '매각사구분', '채권구분', '성명', '주민번호인', '담당자', '채무상태', '성별', '연령',\n",
       "       '관리자기타', '보증인성명', '보증인상태', '변경전성명인', '변경전주민번호인', '보증인수'],\n",
       "      dtype='object')"
      ]
     },
     "execution_count": 7,
     "metadata": {},
     "output_type": "execute_result"
    }
   ],
   "source": [
    "x = pd.read_pickle(r\"D:\\3.자산\\전산 dataset\\22년\\채무자조회_220906.pkl\")\n",
    "x.columns"
   ]
  },
  {
   "cell_type": "code",
   "execution_count": 13,
   "metadata": {},
   "outputs": [
    {
     "data": {
      "text/html": [
       "<div>\n",
       "<style scoped>\n",
       "    .dataframe tbody tr th:only-of-type {\n",
       "        vertical-align: middle;\n",
       "    }\n",
       "\n",
       "    .dataframe tbody tr th {\n",
       "        vertical-align: top;\n",
       "    }\n",
       "\n",
       "    .dataframe thead th {\n",
       "        text-align: right;\n",
       "    }\n",
       "</style>\n",
       "<table border=\"1\" class=\"dataframe\">\n",
       "  <thead>\n",
       "    <tr style=\"text-align: right;\">\n",
       "      <th></th>\n",
       "      <th>채무자키</th>\n",
       "      <th>매각사구분</th>\n",
       "      <th>채권구분</th>\n",
       "      <th>성명</th>\n",
       "      <th>주민번호인</th>\n",
       "      <th>담당자</th>\n",
       "      <th>채무상태</th>\n",
       "      <th>성별</th>\n",
       "      <th>연령</th>\n",
       "      <th>관리자기타</th>\n",
       "      <th>보증인성명</th>\n",
       "      <th>보증인상태</th>\n",
       "      <th>변경전성명인</th>\n",
       "      <th>변경전주민번호인</th>\n",
       "      <th>보증인수</th>\n",
       "    </tr>\n",
       "  </thead>\n",
       "  <tbody>\n",
       "  </tbody>\n",
       "</table>\n",
       "</div>"
      ],
      "text/plain": [
       "Empty DataFrame\n",
       "Columns: [채무자키, 매각사구분, 채권구분, 성명, 주민번호인, 담당자, 채무상태, 성별, 연령, 관리자기타, 보증인성명, 보증인상태, 변경전성명인, 변경전주민번호인, 보증인수]\n",
       "Index: []"
      ]
     },
     "execution_count": 13,
     "metadata": {},
     "output_type": "execute_result"
    }
   ],
   "source": [
    "x.query('관리자기타==\"8101000301\"')"
   ]
  }
 ],
 "metadata": {
  "kernelspec": {
   "display_name": "base",
   "language": "python",
   "name": "python3"
  },
  "language_info": {
   "codemirror_mode": {
    "name": "ipython",
    "version": 3
   },
   "file_extension": ".py",
   "mimetype": "text/x-python",
   "name": "python",
   "nbconvert_exporter": "python",
   "pygments_lexer": "ipython3",
   "version": "3.9.18"
  },
  "orig_nbformat": 4,
  "vscode": {
   "interpreter": {
    "hash": "38d617750889899e5f2f65cac6f27a322f361a63d334879a800ee5491961f90c"
   }
  }
 },
 "nbformat": 4,
 "nbformat_minor": 2
}
