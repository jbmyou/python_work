{
 "cells": [
  {
   "cell_type": "code",
   "execution_count": 2,
   "metadata": {},
   "outputs": [],
   "source": [
    "import pandas as pd\n",
    "import pickle\n",
    "import re\n",
    "import os\n",
    "from os.path import join\n",
    "from tqdm import tqdm\n",
    "from datetime import datetime"
   ]
  },
  {
   "cell_type": "code",
   "execution_count": 8,
   "metadata": {},
   "outputs": [
    {
     "name": "stderr",
     "output_type": "stream",
     "text": [
      "c:\\Users\\SL\\anaconda3\\lib\\site-packages\\openpyxl\\styles\\stylesheet.py:226: UserWarning: Workbook contains no default style, apply openpyxl's default\n",
      "  warn(\"Workbook contains no default style, apply openpyxl's default\")\n",
      "c:\\Users\\SL\\anaconda3\\lib\\site-packages\\openpyxl\\styles\\stylesheet.py:226: UserWarning: Workbook contains no default style, apply openpyxl's default\n",
      "  warn(\"Workbook contains no default style, apply openpyxl's default\")\n",
      "c:\\Users\\SL\\anaconda3\\lib\\site-packages\\openpyxl\\styles\\stylesheet.py:226: UserWarning: Workbook contains no default style, apply openpyxl's default\n",
      "  warn(\"Workbook contains no default style, apply openpyxl's default\")\n"
     ]
    }
   ],
   "source": [
    "# 엑셀을 pickle파일로\n",
    "wd = r'D:\\0.전산\\2.이관\\써머리\\data_230204'\n",
    "for root, dirs, files in os.walk(wd) :\n",
    "    for f in files :\n",
    "        df = pd.read_excel(join(wd, f)).fillna(\"\")\n",
    "        df.to_pickle(join(wd, os.path.splitext(f)[0]+\".pkl\"))"
   ]
  },
  {
   "cell_type": "code",
   "execution_count": 10,
   "metadata": {},
   "outputs": [],
   "source": [
    "# 파일 명칭 자동 저장\n",
    "account_f, debt_f, grt_f, law_f, collection_f = \"\", \"\", \"\", \"\", \"\"\n",
    "for root, dirs, files in os.walk(wd) :\n",
    "    for f in files :\n",
    "        if re.search(\".pkl\", f) :\n",
    "            if re.search(\"계좌\",f) : account_f = f\n",
    "            elif re.search(\"채무자\",f) : debt_f = f\n",
    "            elif re.search(\"보증인\",f) : grt_f = f\n",
    "            elif re.search(\"법조치\",f) : law_f = f\n",
    "            elif re.search(\"입금\",f) : collection_f = f"
   ]
  },
  {
   "cell_type": "code",
   "execution_count": 29,
   "metadata": {},
   "outputs": [
    {
     "name": "stdout",
     "output_type": "stream",
     "text": [
      "2447 2447\n"
     ]
    }
   ],
   "source": [
    "account = pd.read_pickle(join(wd, account_f))\n",
    "debt = pd.read_pickle(join(wd, debt_f))\n",
    "collection = pd.read_pickle(join(wd,collection_f))\n",
    "############################\n",
    "매각사 = \"전북은행\"\n",
    "account = account[account.매각사.str.contains(매각사)]\n",
    "debt = debt[debt.매각사.str.contains(매각사)]\n",
    "############################\n",
    "print(len(account), len(debt))"
   ]
  },
  {
   "cell_type": "code",
   "execution_count": 31,
   "metadata": {},
   "outputs": [],
   "source": [
    "account.시효완성일 = pd.to_datetime(account.시효완성일)\n",
    "collection.입금일 = pd.to_datetime(collection.입금일)"
   ]
  },
  {
   "cell_type": "code",
   "execution_count": 43,
   "metadata": {},
   "outputs": [],
   "source": [
    "raw_data = pd.DataFrame(None)\n",
    "raw_data[\"계좌키\"] = account.계좌키.apply(str)\n",
    "raw_data[\"채무자키\"] = account.채무자키.apply(str)\n",
    "raw_data[\"타채무자키\"] = account.타채무자키.apply(str)\n",
    "raw_data[\"채권구분\"] = account.채권구분\n",
    "raw_data[\"매각사\"] = account.매각사\n",
    "raw_data[\"채무상태\"] = account.채무상태\n",
    "raw_data[\"담당자\"] = account.담당자\n",
    "raw_data[\"성명\"] = account.채무자명\n",
    "raw_data[\"주민등록번호\"] = account.채무자주민번호.apply(lambda x : x[:8])\n",
    "raw_data[\"계좌번호\"] = account.계좌번호\n",
    "raw_data[\"원채권사\"] = account.원채권사\n",
    "raw_data[\"계정과목\"] = account.계정과목\n",
    "raw_data[\"최초원금\"] = account.최초원금\n",
    "raw_data[\"최초법비용\"] = account.최초법비용\n",
    "raw_data[\"최초미수이자\"] = account.최초미수이자\n",
    "raw_data[\"현재원금\"] = account.현재원금\n",
    "raw_data[\"현재법비용\"] = account.현재법비용\n",
    "raw_data[\"OPB\"] = account[[\"현재원금\",\"현재법비용\"]].sum(axis=1)\n",
    "raw_data[\"현재미수이자\"] = account.현재미수이자\n",
    "raw_data[\"현재연체이자\"] = account.현재연체이자\n",
    "raw_data[\"현재합계\"] = account.현재합계\n",
    "raw_data[\"회수합계\"] = account.회수합계\n",
    "raw_data[\"시효완성일\"] = account.시효완성일"
   ]
  },
  {
   "cell_type": "code",
   "execution_count": 44,
   "metadata": {},
   "outputs": [
    {
     "data": {
      "text/plain": [
       "False    2447\n",
       "Name: 개인법인, dtype: int64"
      ]
     },
     "execution_count": 44,
     "metadata": {},
     "output_type": "execute_result"
    }
   ],
   "source": [
    "debt.채무자키 = debt.채무자키.apply(str)\n",
    "debt = debt[[\"채무자키\", \"개인법인\", \"연령\", \"자택우편번호\", \"자택주소\"]]\n",
    "raw_data = pd.merge(raw_data, debt, on=\"채무자키\", how=\"inner\")\n",
    "raw_data.개인법인.isnull().value_counts()"
   ]
  },
  {
   "cell_type": "code",
   "execution_count": 45,
   "metadata": {},
   "outputs": [],
   "source": [
    "raw_data.to_excel(join(wd, \"원데이터_\"+datetime.today().strftime(\"%Y%m%d\")+\".xlsx\"), index=False)"
   ]
  },
  {
   "cell_type": "code",
   "execution_count": 42,
   "metadata": {},
   "outputs": [
    {
     "data": {
      "text/plain": [
       "0       611017-1\n",
       "1       611017-1\n",
       "2       611017-1\n",
       "3       611017-1\n",
       "4       411223-2\n",
       "          ...   \n",
       "2442    640220-2\n",
       "2443    821228-1\n",
       "2444    821228-1\n",
       "2445    401-81-2\n",
       "2446    401-81-2\n",
       "Name: 주민등록번호, Length: 2447, dtype: object"
      ]
     },
     "execution_count": 42,
     "metadata": {},
     "output_type": "execute_result"
    }
   ],
   "source": [
    "raw_data[\"주민등록번호\"]"
   ]
  },
  {
   "cell_type": "code",
   "execution_count": null,
   "metadata": {},
   "outputs": [],
   "source": []
  },
  {
   "cell_type": "code",
   "execution_count": null,
   "metadata": {},
   "outputs": [],
   "source": []
  },
  {
   "cell_type": "code",
   "execution_count": null,
   "metadata": {},
   "outputs": [],
   "source": []
  }
 ],
 "metadata": {
  "kernelspec": {
   "display_name": "base",
   "language": "python",
   "name": "python3"
  },
  "language_info": {
   "codemirror_mode": {
    "name": "ipython",
    "version": 3
   },
   "file_extension": ".py",
   "mimetype": "text/x-python",
   "name": "python",
   "nbconvert_exporter": "python",
   "pygments_lexer": "ipython3",
   "version": "3.9.13 | packaged by conda-forge | (main, May 27 2022, 16:50:36) [MSC v.1929 64 bit (AMD64)]"
  },
  "orig_nbformat": 4,
  "vscode": {
   "interpreter": {
    "hash": "38d617750889899e5f2f65cac6f27a322f361a63d334879a800ee5491961f90c"
   }
  }
 },
 "nbformat": 4,
 "nbformat_minor": 2
}
