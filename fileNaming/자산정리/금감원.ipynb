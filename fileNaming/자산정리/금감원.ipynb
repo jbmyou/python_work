{
 "cells": [
  {
   "cell_type": "markdown",
   "metadata": {},
   "source": [
    "### import"
   ]
  },
  {
   "cell_type": "code",
   "execution_count": 4,
   "metadata": {},
   "outputs": [],
   "source": [
    "import pandas as pd\n",
    "import numpy as np\n",
    "import re\n",
    "import os\n",
    "from os.path import join\n",
    "import functions\n",
    "import warnings\n",
    "warnings.simplefilter(\"ignore\")\n",
    "\n",
    "deposit_dtype = {'채무자키':str, '입금키':str, '계좌키':str, '계좌번호':str, '입금고정키':str, '타채무자키':str}\n",
    "\n",
    "# 출력 옵션\n",
    "pd.options.display.float_format = '{:,.0f}'.format"
   ]
  },
  {
   "cell_type": "markdown",
   "metadata": {},
   "source": [
    "### 분기"
   ]
  },
  {
   "cell_type": "markdown",
   "metadata": {},
   "source": [
    "#### LM035(매각채권) - 그냥 수작업\n",
    "- 매각이 여러건이면 읽을 파일이 많고, 단건이면 수작업도 금방 끝남"
   ]
  },
  {
   "cell_type": "markdown",
   "metadata": {},
   "source": [
    "#### LM036(매입채권 : 관리채권) - 반기보고서에도 필요함"
   ]
  },
  {
   "cell_type": "code",
   "execution_count": 5,
   "metadata": {},
   "outputs": [
    {
     "name": "stdout",
     "output_type": "stream",
     "text": [
      "채권수 : 27,096 / 반영OPB합 : 332,887,452,192\n"
     ]
    },
    {
     "data": {
      "text/html": [
       "<div>\n",
       "<style scoped>\n",
       "    .dataframe tbody tr th:only-of-type {\n",
       "        vertical-align: middle;\n",
       "    }\n",
       "\n",
       "    .dataframe tbody tr th {\n",
       "        vertical-align: top;\n",
       "    }\n",
       "\n",
       "    .dataframe thead th {\n",
       "        text-align: right;\n",
       "    }\n",
       "</style>\n",
       "<table border=\"1\" class=\"dataframe\">\n",
       "  <thead>\n",
       "    <tr style=\"text-align: right;\">\n",
       "      <th></th>\n",
       "      <th>채무자키</th>\n",
       "      <th>계좌키</th>\n",
       "      <th>타채무자키</th>\n",
       "      <th>채권구분</th>\n",
       "      <th>채권상태</th>\n",
       "      <th>새채무상태</th>\n",
       "      <th>채무상태</th>\n",
       "      <th>담당자</th>\n",
       "      <th>새보증인상태</th>\n",
       "      <th>반영OPB</th>\n",
       "      <th>...</th>\n",
       "      <th>주소</th>\n",
       "      <th>새채무자키</th>\n",
       "      <th>보증인성명인</th>\n",
       "      <th>보증인상태</th>\n",
       "      <th>추심가능여부</th>\n",
       "      <th>새보증인상태by새채무자키</th>\n",
       "      <th>매각사</th>\n",
       "      <th>원채권사코드</th>\n",
       "      <th>매각사코드</th>\n",
       "      <th>접수일</th>\n",
       "    </tr>\n",
       "  </thead>\n",
       "  <tbody>\n",
       "  </tbody>\n",
       "</table>\n",
       "<p>0 rows × 55 columns</p>\n",
       "</div>"
      ],
      "text/plain": [
       "Empty DataFrame\n",
       "Columns: [채무자키, 계좌키, 타채무자키, 채권구분, 채권상태, 새채무상태, 채무상태, 담당자, 새보증인상태, 반영OPB, 성명, 주민등록번호, 계좌번호, 원채권사, 매각사구분, 계정과목, 은행대출원금, 최초원금, 최초법비용, 최초미수이자, 연체이자율, 현재원금, 현재법비용, OPB, 매입OPB, 현재미수이자, 현재연체이자, 현재합계, 회수합계, 최초대출일, 대출만기일, 최초연체일, 매입일, 시효실사결과, 시효완성월, 시효사유, 시효완성일, 종결일, 메모, 원인서류유무, 최종거래일, 분납연체일, 개인법인, 연령, 우편번호, 주소, 새채무자키, 보증인성명인, 보증인상태, 추심가능여부, 새보증인상태by새채무자키, 매각사, 원채권사코드, 매각사코드, 접수일]\n",
       "Index: []\n",
       "\n",
       "[0 rows x 55 columns]"
      ]
     },
     "execution_count": 5,
     "metadata": {},
     "output_type": "execute_result"
    }
   ],
   "source": [
    "# 전체 원데이터 읽기\n",
    "\n",
    "######################################################\n",
    "cutoff = \"241231\"\n",
    "company = \"솔림\" # 솔림 or 대성\n",
    "새채무자키 = False ########## 새채무자키 False인 전체 원데이터 필요\n",
    "path_output = r\"D:\\3.자산\\금감원\\2024.4분기\\참고\"\n",
    "######################################################\n",
    "path_raw_data = join(r\"D:\\3.자산\\전산 dataset\",company, cutoff, \"pkl\")\n",
    "fn_raw_data_base = \"2.\"+company+\"_전체_원데이터_\" + cutoff\n",
    "fn_raw_data = fn_raw_data_base + \"_by새채무자키\" if 새채무자키 else fn_raw_data_base\n",
    "\n",
    "raw_data = pd.read_pickle(join(path_raw_data, fn_raw_data + \".pkl\"))\n",
    "\n",
    "# 종료, 종료요청 제외\n",
    "raw_data = raw_data.query('~새채무상태.str.contains(\"종료\")')\n",
    "raw_data.reset_index(inplace=True, drop=True)\n",
    "print(f'채권수 : {len(raw_data):,} / 반영OPB합 : {raw_data.반영OPB.sum():,}')\n",
    "\n",
    "# 대성은 완전정상 개인 것만\n",
    "if company == \"대성\" :\n",
    "    raw_data = raw_data.query('~새채무상태.str.contains(\"법인|보증인정상|시효\")')\n",
    "\n",
    "\n",
    "# 원채권사, 매각사 코드 merge\n",
    "# 채무자조회파일에서 매각사 불러오기\n",
    "file_list = os.listdir(path_raw_data)\n",
    "fn_debt = [file for file in file_list if file.startswith(\"채무자조회\")][0]\n",
    "\n",
    "debt = pd.read_pickle(join(path_raw_data, fn_debt))[[\"채무자키\", \"매각사\"]]\n",
    "\n",
    "# 코드 파일 불러오기\n",
    "원채권사코드 = pd.read_excel(r\"D:\\3.자산\\금감원\\기관코드표.xlsx\", sheet_name=\"원채권사\", dtype={\"원채권사코드\":str})\n",
    "매각사코드 = pd.read_excel(r\"D:\\3.자산\\금감원\\기관코드표.xlsx\", sheet_name=\"매각사\", dtype={\"매각사코드\":str})\n",
    "\n",
    "# 병합\n",
    "raw_data = raw_data.merge(debt, on=\"채무자키\", how=\"left\")\n",
    "raw_data = raw_data.merge(원채권사코드, on=\"원채권사\", how=\"left\")\n",
    "raw_data = raw_data.merge(매각사코드, on=\"매각사\", how=\"left\")\n",
    "\n",
    "# 법조치 읽기\n",
    "fn_event = [file for file in file_list if file.startswith(\"법조치조회\")][0]\n",
    "event = pd.read_pickle(join(path_raw_data, fn_event))[[\"채무자키\", \"법조치구분\", \"접수일\"]]\n",
    "len(event)\n",
    "\n",
    "\n",
    "# 새채무자키 merge\n",
    "event = pd.merge(event, raw_data.drop_duplicates('채무자키')[[\"채무자키\",\"새채무자키\"]] , on=\"채무자키\", how='left')\n",
    "\n",
    "# 법조치 필터링(집행권원만 할거면 자산정리_통합파일에서, **신청일 살려야)\n",
    "# 새채무자키 없는 거 삭제(종결건 삭제)\n",
    "event.query('~새채무자키.isna()')\n",
    "# 접수일 없는 거 삭제\n",
    "event = event.query('접수일 != \"\"')\n",
    "# 법조치구분 선택\n",
    "comp = r\"가?압류|가?처분|강제|경매|집행|담보|보전|본안|사해행위|시효연장|유체|재산관계|재산명시|전자독촉|지급명령|불이행|추심\"\n",
    "event = event.query('법조치구분.str.contains(@comp)')\n",
    "\n",
    "# 접수일 역정렬\n",
    "event.sort_values(\"접수일\", ascending=False, inplace =True)\n",
    "event.drop_duplicates(subset='새채무자키', keep='first', inplace=True)\n",
    "\n",
    "# raw_data에 열추가(merge)\n",
    "raw_data = raw_data.merge(event[[\"새채무자키\", \"접수일\"]], on=\"새채무자키\", how=\"left\").fillna(\"\")\n",
    "\n",
    "# 병합잘못되어 계좌키 중복건 있는지 체크\n",
    "raw_data[raw_data.계좌키.duplicated()]"
   ]
  },
  {
   "cell_type": "markdown",
   "metadata": {},
   "source": [
    "##### 매입후 회수내역(입금)\n",
    "- 계좌별표시, 만건씩 귾어서, 기본값으로 조회\n",
    "- 이전 보고서에 포함된 리스트만 대상으로 한다면 기간내 입금내역만 다운받아도 됨"
   ]
  },
  {
   "cell_type": "code",
   "execution_count": 6,
   "metadata": {},
   "outputs": [
    {
     "name": "stdout",
     "output_type": "stream",
     "text": [
      "2017-07-01\n"
     ]
    }
   ],
   "source": [
    "# 입금조회할 계좌키 출력 [[\"채무자키\", \"계좌키\", \"입금합계\",\"입금일\", \"입금구분\", \"입금기간\"]], 읽는데 시간걸리니 컬럼 선택하자.\n",
    "# 조회새창 저장시 파일명은 [사명]_[만단위구분]. ~ ex) 솔림_0.입금조회새창_20250116_1338\n",
    "raw_data[\"순번\"] = raw_data.index\n",
    "raw_data[\"만단위구분\"] = raw_data[\"순번\"]  // 10000\n",
    "\n",
    "raw_data[[\"계좌키\",\"만단위구분\"]].to_excel(join(path_output, company+\"_입금조회용계좌키.xlsx\"), index=False)\n",
    "print(raw_data.매입일.min())"
   ]
  },
  {
   "cell_type": "markdown",
   "metadata": {},
   "source": [
    "###### 입금조회새창 다운로드 후"
   ]
  },
  {
   "cell_type": "code",
   "execution_count": 7,
   "metadata": {},
   "outputs": [],
   "source": [
    "# 입금조회새창들 병합\n",
    "포함키워드 = company+\"_\\d\\.입금조회새창\"\n",
    "fnlist = functions.키워드로파일명찾기(path_output, 포함키워드, 여러파일허용=True)\n",
    "if isinstance(fnlist, str) : # 파일 하나인 경우\n",
    "    입금 = pd.read_excel(fnlist, dtype=deposit_dtype)\n",
    "else : # 파일 여러개(리스트)인 경우\n",
    "    입금 = pd.DataFrame(None)\n",
    "    for fn in fnlist :\n",
    "        입금 = pd.concat([입금, pd.read_excel(fn, dtype=deposit_dtype)])"
   ]
  },
  {
   "cell_type": "code",
   "execution_count": 8,
   "metadata": {},
   "outputs": [],
   "source": [
    "cutoff_yyyy = \"20\" + cutoff[:2] + \"-\" +cutoff[2:4] + \"-\" + cutoff[4:]\n",
    "\n",
    "deposit = 입금[[\"채무자키\", \"계좌키\", \"입금합계\",\"입금일\", \"입금구분\", \"입금기간\"]].copy()\n",
    "\n",
    "# 불필요 행 삭제 \n",
    "cond1 = deposit.입금일 <= cutoff_yyyy\n",
    "cond2 = deposit.입금구분.str.contains(\"약정분납|임의변제|개인회생|신용회복|채권압류|배당|유체동산|일반입금|대위변제|부동산경매|내사입금|임시기간|기타\") # 기타 포함되어야 함\n",
    "deposit['입금기간'] = deposit['입금기간'].astype(str)\n",
    "cond3 = ~(deposit.입금기간.str.contains(\"환불|회수제외|매입전|매각후\"))\n",
    "\n",
    "deposit = deposit[cond1 & cond2 & cond3]\n",
    "\n",
    "# 계좌별로 그룹화하기\n",
    "계좌별회수내역 = deposit.groupby('계좌키')[\"입금합계\"].sum().reset_index()\n",
    "\n",
    "raw_data = raw_data.merge(계좌별회수내역, on='계좌키', how='left')\n",
    "raw_data.입금합계.fillna(0)\n",
    "\n",
    "# 기존에 별도 파일로 출력했을 때 코드\n",
    "if False :\n",
    "    # 계좌번호 추가하기\n",
    "    계좌별회수내역 = 계좌별회수내역.merge(raw_data[[\"계좌키\", \"채무자키\",\"계좌번호\"]], on='계좌키')\n",
    "\n",
    "    # 계좌번호가 pk인지 확인(false만 나와야)\n",
    "    print(\"계좌번호 pk인지 확인(false만 나와야)\")\n",
    "    print(계좌별회수내역.duplicated('계좌번호', keep=False).value_counts())\n",
    "\n",
    "    계좌별회수내역.to_excel(join(path_dir_입금, company + \"_매입후_계좌별회수내역_\" +cutoff+\".xlsx\"), index=False)\n",
    "    # 채무자키 + 계좌번호가 pk 임"
   ]
  },
  {
   "cell_type": "code",
   "execution_count": 9,
   "metadata": {},
   "outputs": [],
   "source": [
    "# 복붙용 파일 만들기\n",
    "lm036 = pd.DataFrame()\n",
    "\n",
    "lm036[\"고객번호\"] = raw_data.채무자키\n",
    "lm036[\"계약번호\"] = raw_data.계좌번호\n",
    "lm036[\"차주명\"] = raw_data.성명\n",
    "lm036[\"차주실명번호\"] = raw_data.주민등록번호.apply(lambda x: re.sub(\"-\",\"\", x)+\"000\" if len(re.sub(\"-\",\"\", x)) == 10 else re.sub(\"-\",\"\", x))\n",
    "lm036[\"차주구분\"] = np.where(raw_data.개인법인==\"법인\", \"03\", np.where(raw_data.주민등록번호.str[7].astype(int) % 2 == 1, \"01\", \"02\"))\n",
    "lm036[\"매입회차\"] = \"\"\n",
    "lm036[\"매입일\"] = raw_data.매입일\n",
    "lm036[\"대출일\"] = raw_data.최초대출일\n",
    "lm036[\"대출종류\"] = \"01\"\n",
    "lm036[\"상환금액\"] = raw_data.입금합계 # 24년 4분기 및 하반기부터, raw_data.회수합계 : 계좌조정에 영향을 받으므로 실제 입금내역으로 처리해야.\n",
    "lm036[\"만기일\"] = raw_data.대출만기일\n",
    "lm036[\"최초계약금액\"] = raw_data.은행대출원금\n",
    "lm036[\"매입서류상잔액\"] = raw_data.매입OPB # 2406이후 'OPB'로(계좌조정에 영향X,매입OPB컬럼은 7월 자산정리파일부터 있음), raw_data.최초원금 + raw_data.최초법비용 # raw_data의 최초금액은 매입최초금액\n",
    "lm036[\"실제매입금액\"] = \"\"\n",
    "lm036[\"기준일장부가액\"] = \"\" # 재무제표 오재홍팀장님 작성건 2406부터 반영opb로, raw_data.현재원금 + raw_data.현재법비용\n",
    "lm036[\"금리\"] = raw_data.연체이자율\n",
    "lm036[\"최종수령일\"] = raw_data.최종거래일\n",
    "lm036[\"이자연체일수\"] = 0\n",
    "lm036[\"만기연체일수\"] = 0\n",
    "lm036[\"시효완성일\"] = raw_data.시효완성일\n",
    "lm036[\"지급명령신청일\"] = raw_data.접수일\n",
    "lm036[\"채권서류존재유무\"] = np.where(raw_data.원인서류유무==0,\"N\", \"Y\")\n",
    "\n",
    "x = raw_data.새채무상태\n",
    "y = raw_data.채무상태\n",
    "z = raw_data.분납연체일\n",
    "conds = [x.str.contains(\"개인회생\"), x.str.contains(\"신용회복\"), y.str.contains(\"사망\"), ~z.isna()]\n",
    "values = [\"03\", \"04\", \"07\", \"05\"]\n",
    "lm036[\"현상태\"] = np.select(conds, values, default=\"02\")\n",
    "lm036[\"원인채권회사번호\"] = raw_data.원채권사코드\n",
    "lm036[\"원인채권회사명\"] = raw_data.원채권사\n",
    "lm036[\"채권양도회사번호\"] = raw_data.매각사코드\n",
    "lm036[\"양도금융회사명\"] = raw_data.매각사\n",
    "lm036[\"채권추심위임일\"] = \"\"\n",
    "lm036[\"채권추심위임기관\"] = \"\"\n",
    "lm036[\"연대보증여부\"] = \"N\"\n",
    "# ----------------------------------------------------------------------\n",
    "lm036[\"채무자키\"] = raw_data.채무자키 # -> 복붙 할 때 여기서부턴 제외(반기용 참고시트 만들때 쓰려고)\n",
    "lm036[\"계좌키\"] = raw_data.계좌키 \n",
    "lm036[\"반영OPB\"] = raw_data.반영OPB\n",
    "lm036[\"매입OPB\"] = raw_data.매입OPB\n",
    "lm036[\"개인법인\"] = raw_data.개인법인\n",
    "lm036[\"새채무상태\"] = raw_data.새채무상태 # 대성 한 번 도 추리기 위해"
   ]
  },
  {
   "cell_type": "code",
   "execution_count": 10,
   "metadata": {},
   "outputs": [],
   "source": [
    "# 엑셀로 보내기\n",
    "fn_새채무자키 = \"_LM036_새채무자키_\" if 새채무자키 else \"_LM036_\"\n",
    "lm036.to_excel(join(path_output, company+fn_새채무자키 + cutoff +\".xlsx\"), index=False)"
   ]
  },
  {
   "cell_type": "markdown",
   "metadata": {},
   "source": [
    "#### 반기보고서용 회수내역 GC035\n",
    "- 정상채권리스트(029), 직전보고서=정상+매입-회수-매각(종합->035), 신규매입매입처별(036) 매각채권리스트(036)\n",
    "- 따로 엑셀파일 출력은 없음"
   ]
  },
  {
   "cell_type": "code",
   "execution_count": 11,
   "metadata": {},
   "outputs": [
    {
     "data": {
      "text/html": [
       "<div>\n",
       "<style scoped>\n",
       "    .dataframe tbody tr th:only-of-type {\n",
       "        vertical-align: middle;\n",
       "    }\n",
       "\n",
       "    .dataframe tbody tr th {\n",
       "        vertical-align: top;\n",
       "    }\n",
       "\n",
       "    .dataframe thead th {\n",
       "        text-align: right;\n",
       "    }\n",
       "</style>\n",
       "<table border=\"1\" class=\"dataframe\">\n",
       "  <thead>\n",
       "    <tr style=\"text-align: right;\">\n",
       "      <th></th>\n",
       "      <th>입금합계</th>\n",
       "    </tr>\n",
       "    <tr>\n",
       "      <th>개인법인</th>\n",
       "      <th></th>\n",
       "    </tr>\n",
       "  </thead>\n",
       "  <tbody>\n",
       "    <tr>\n",
       "      <th>개인</th>\n",
       "      <td>4342624619</td>\n",
       "    </tr>\n",
       "    <tr>\n",
       "      <th>법인</th>\n",
       "      <td>68856478</td>\n",
       "    </tr>\n",
       "  </tbody>\n",
       "</table>\n",
       "</div>"
      ],
      "text/plain": [
       "            입금합계\n",
       "개인법인            \n",
       "개인    4342624619\n",
       "법인      68856478"
      ]
     },
     "execution_count": 11,
     "metadata": {},
     "output_type": "execute_result"
    }
   ],
   "source": [
    "#########################\n",
    "반기시작일 = \"2024-07-01\"\n",
    "#########################\n",
    "\n",
    "### 반기보고서용 회수내역 (당반기)\n",
    "deposit = 입금[[\"채무자키\", \"계좌키\", \"입금합계\",\"입금일\", \"입금구분\", \"입금기간\"]].copy()\n",
    "\n",
    "# 불필요 행 삭제                            \n",
    "cond1 = (deposit.입금일 <= cutoff_yyyy) & ( 반기시작일 <= deposit.입금일) \n",
    "                                           \n",
    "cond2 = deposit.입금구분.str.contains(\"약정분납|임의변제|개인회생|신용회복|채권압류|배당급|유체동산|일반입금|대위변제|부동산경매|내사입금|기타\")\n",
    "deposit['입금기간'] = deposit['입금기간'].astype(str)\n",
    "cond3 = ~(deposit.입금기간.str.contains(\"환불|회수제외|매입전|매각후\"))\n",
    "deposit = deposit[cond1 & cond2 & cond3]\n",
    "\n",
    "# 개인법인 merge\n",
    "deposit = deposit.merge(raw_data[[\"계좌키\", \"개인법인\"]], on='계좌키')\n",
    "\n",
    "# 개인법인 회수내역 pivot\n",
    "deposit.pivot_table(values='입금합계', index='개인법인', aggfunc='sum')"
   ]
  }
 ],
 "metadata": {
  "kernelspec": {
   "display_name": "py_39",
   "language": "python",
   "name": "python3"
  },
  "language_info": {
   "codemirror_mode": {
    "name": "ipython",
    "version": 3
   },
   "file_extension": ".py",
   "mimetype": "text/x-python",
   "name": "python",
   "nbconvert_exporter": "python",
   "pygments_lexer": "ipython3",
   "version": "3.9.18"
  }
 },
 "nbformat": 4,
 "nbformat_minor": 2
}
