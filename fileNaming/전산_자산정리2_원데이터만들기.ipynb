{
 "cells": [
  {
   "cell_type": "code",
   "execution_count": 1,
   "metadata": {},
   "outputs": [],
   "source": [
    "import pandas as pd\n",
    "import pickle\n",
    "import re\n",
    "import os\n",
    "from os.path import join\n",
    "from tqdm import tqdm\n",
    "from datetime import datetime"
   ]
  },
  {
   "cell_type": "code",
   "execution_count": 5,
   "metadata": {},
   "outputs": [],
   "source": [
    "# 채무자키 20409775 2301 > 2031년으로 수정해야함 안그럼 에러 아래 날짜변경에서 에러남##############\n",
    "# 엑셀을 pickle파일로\n",
    "wd = r'D:\\3.자산\\전산 dataset\\230213'\n",
    "for f in os.listdir(wd) :\n",
    "    if os.path.isfile(join(wd,f)) :\n",
    "        if re.search(\".xlsx\", f) :\n",
    "            df = pd.read_excel(join(wd, f)).fillna(\"\")\n",
    "            df.to_pickle(join(wd, os.path.splitext(f)[0]+\".pkl\"))"
   ]
  },
  {
   "cell_type": "code",
   "execution_count": 6,
   "metadata": {},
   "outputs": [],
   "source": [
    "# 파일 명칭 자동 저장\n",
    "account_f, debt_f, grt_f, law_f, collection_f = \"\", \"\", \"\", \"\", \"\"\n",
    "for root, dirs, files in os.walk(wd) :\n",
    "    for f in files :\n",
    "        if re.search(\".pkl\", f) :\n",
    "            if re.search(\"계좌\",f) : account_f = f\n",
    "            elif re.search(\"채무자\",f) : debt_f = f\n",
    "            elif re.search(\"보증인\",f) : grt_f = f\n",
    "            elif re.search(\"법조치\",f) : law_f = f\n",
    "            elif re.search(\"입금\",f) : collection_f = f"
   ]
  },
  {
   "cell_type": "code",
   "execution_count": 7,
   "metadata": {},
   "outputs": [
    {
     "name": "stdout",
     "output_type": "stream",
     "text": [
      "78157 70795\n"
     ]
    }
   ],
   "source": [
    "account = pd.read_pickle(join(wd, account_f))\n",
    "debt = pd.read_pickle(join(wd, debt_f))\n",
    "#collection = pd.read_pickle(join(wd,collection_f))\n",
    "############################\n",
    "# 매각사 = \"전북은행\"\n",
    "# account = account[account.매각사.str.contains(매각사)]\n",
    "# debt = debt[debt.매각사.str.contains(매각사)]\n",
    "############################\n",
    "print(len(account), len(debt))"
   ]
  },
  {
   "cell_type": "code",
   "execution_count": 8,
   "metadata": {},
   "outputs": [],
   "source": [
    "# 채무자키 20409775 2301 > 2031년으로 수정해야함 안그럼 에러\n",
    "account.시효완성일 = pd.to_datetime(account.시효완성일)\n",
    "#collection.입금일 = pd.to_datetime(collection.입금일)"
   ]
  },
  {
   "cell_type": "code",
   "execution_count": 9,
   "metadata": {},
   "outputs": [],
   "source": [
    "raw_data = pd.DataFrame(None)\n",
    "raw_data[\"계좌키\"] = account.계좌키.apply(str)\n",
    "raw_data[\"채무자키\"] = account.채무자키.apply(str)\n",
    "raw_data[\"타채무자키\"] = account.타채무자키.apply(str)\n",
    "\n",
    "raw_data[\"채권구분\"] = account.채권구분\n",
    "#raw_data[\"매각사\"] = account.매각사\n",
    "raw_data[\"채무상태\"] = account.채무상태\n",
    "raw_data[\"담당자\"] = account.담당자\n",
    "raw_data[\"성명\"] = account.채무자명\n",
    "\n",
    "raw_data[\"주민등록번호\"] = account.채무자주민번호.apply(lambda x : x[:8])\n",
    "raw_data[\"계좌번호\"] = account.계좌번호\n",
    "raw_data[\"원채권사\"] = account.원채권사\n",
    "raw_data[\"매각사구분\"] = account.매각사구분\n",
    "raw_data[\"계정과목\"] = account.계정과목\n",
    "raw_data[\"최초원금\"] = account.최초원금\n",
    "raw_data[\"최초법비용\"] = account.최초법비용\n",
    "raw_data[\"최초미수이자\"] = account.최초미수이자\n",
    "raw_data[\"최초연체이자율\"] = account.최초연체이자율\n",
    "raw_data[\"현재원금\"] = account.현재원금\n",
    "raw_data[\"현재법비용\"] = account.현재법비용\n",
    "raw_data[\"OPB\"] = account[[\"현재원금\",\"현재법비용\"]].sum(axis=1)\n",
    "raw_data[\"현재미수이자\"] = account.현재미수이자\n",
    "raw_data[\"현재연체이자\"] = account.현재연체이자\n",
    "raw_data[\"현재합계\"] = account.현재합계\n",
    "raw_data[\"회수합계\"] = account.회수합계\n",
    "raw_data[\"최초대출일\"] = account.최초대출일\n",
    "raw_data[\"최초연체일\"] = account.최초연체일 # 없는 경우도 있음\n",
    "raw_data[\"매입일\"] = account.매입일\n",
    "raw_data[\"시효완성일\"] = account.시효완성일"
   ]
  },
  {
   "cell_type": "code",
   "execution_count": 10,
   "metadata": {},
   "outputs": [
    {
     "data": {
      "text/plain": [
       "False    78157\n",
       "Name: 개인법인, dtype: int64"
      ]
     },
     "execution_count": 10,
     "metadata": {},
     "output_type": "execute_result"
    }
   ],
   "source": [
    "debt.채무자키 = debt.채무자키.apply(str)\n",
    "debt = debt[[\"채무자키\", \"개인법인\", \"연령\", \"자택우편번호\", \"자택주소\",\"보증인성명\"]]\n",
    "raw_data = pd.merge(raw_data, debt, on=\"채무자키\", how=\"inner\")\n",
    "raw_data.개인법인.isnull().value_counts()"
   ]
  },
  {
   "cell_type": "code",
   "execution_count": 11,
   "metadata": {},
   "outputs": [],
   "source": [
    "# 전체 저장하기\n",
    "raw_data.to_excel(join(wd, \"2.솔림헬프_전체_원데이터_\"+datetime.today().strftime(\"%Y%m%d\")+\".xlsx\"), index=False)"
   ]
  },
  {
   "cell_type": "code",
   "execution_count": 15,
   "metadata": {},
   "outputs": [],
   "source": [
    "# 특정 매각사만 저장하기\n",
    "cond = \"스마트저축-01\" ###################################\n",
    "raw_data[raw_data.매각사구분==cond].to_excel(join(wd, cond+\"_\"+datetime.today().strftime(\"%Y%m%d\")+\".xlsx\"), index=False)"
   ]
  },
  {
   "cell_type": "markdown",
   "metadata": {},
   "source": [
    "### 차입자산 POOL별 중복확인"
   ]
  },
  {
   "cell_type": "code",
   "execution_count": 82,
   "metadata": {},
   "outputs": [],
   "source": [
    "dfdf = pd.read_excel(join(r\"D:\\3.자산\\POOL별 관리자산\\무차입자산\",\"1.차입자산 리스트.xlsx\"))"
   ]
  },
  {
   "cell_type": "code",
   "execution_count": 88,
   "metadata": {},
   "outputs": [],
   "source": [
    "중복 = dfdf[dfdf.duplicated(['계좌키'],keep=False)].sort_values(by='계좌키')\n",
    "#.to_excel(join(r\"D:\\3.자산\\POOL별 관리자산\\무차입자산\",\"중복체크.xlsx\"), index=False)"
   ]
  },
  {
   "cell_type": "code",
   "execution_count": 89,
   "metadata": {},
   "outputs": [],
   "source": [
    "중복[\"계좌키\"] = 중복[\"계좌키\"].astype(int).astype(str)\n",
    "중복[\"채무자키\"] = 중복[\"채무자키\"].astype(int).astype(str)"
   ]
  },
  {
   "cell_type": "code",
   "execution_count": 90,
   "metadata": {},
   "outputs": [
    {
     "data": {
      "text/html": [
       "<div>\n",
       "<style scoped>\n",
       "    .dataframe tbody tr th:only-of-type {\n",
       "        vertical-align: middle;\n",
       "    }\n",
       "\n",
       "    .dataframe tbody tr th {\n",
       "        vertical-align: top;\n",
       "    }\n",
       "\n",
       "    .dataframe thead th {\n",
       "        text-align: right;\n",
       "    }\n",
       "</style>\n",
       "<table border=\"1\" class=\"dataframe\">\n",
       "  <thead>\n",
       "    <tr style=\"text-align: right;\">\n",
       "      <th></th>\n",
       "      <th>계좌키</th>\n",
       "      <th>채무자키</th>\n",
       "      <th>POOL_</th>\n",
       "    </tr>\n",
       "  </thead>\n",
       "  <tbody>\n",
       "    <tr>\n",
       "      <th>22224</th>\n",
       "      <td>200919485</td>\n",
       "      <td>20407790</td>\n",
       "      <td>POOL_05</td>\n",
       "    </tr>\n",
       "    <tr>\n",
       "      <th>22223</th>\n",
       "      <td>200919485</td>\n",
       "      <td>20407790</td>\n",
       "      <td>POOL_05</td>\n",
       "    </tr>\n",
       "    <tr>\n",
       "      <th>26521</th>\n",
       "      <td>200919497</td>\n",
       "      <td>20407882</td>\n",
       "      <td>POOL_08</td>\n",
       "    </tr>\n",
       "    <tr>\n",
       "      <th>21292</th>\n",
       "      <td>200919497</td>\n",
       "      <td>20407882</td>\n",
       "      <td>POOL_05</td>\n",
       "    </tr>\n",
       "    <tr>\n",
       "      <th>21293</th>\n",
       "      <td>200919997</td>\n",
       "      <td>20407883</td>\n",
       "      <td>POOL_05</td>\n",
       "    </tr>\n",
       "    <tr>\n",
       "      <th>...</th>\n",
       "      <td>...</td>\n",
       "      <td>...</td>\n",
       "      <td>...</td>\n",
       "    </tr>\n",
       "    <tr>\n",
       "      <th>12525</th>\n",
       "      <td>201046260</td>\n",
       "      <td>20515407</td>\n",
       "      <td>POOL_13</td>\n",
       "    </tr>\n",
       "    <tr>\n",
       "      <th>12545</th>\n",
       "      <td>201046280</td>\n",
       "      <td>20515427</td>\n",
       "      <td>POOL_13</td>\n",
       "    </tr>\n",
       "    <tr>\n",
       "      <th>12546</th>\n",
       "      <td>201046280</td>\n",
       "      <td>20515427</td>\n",
       "      <td>POOL_13</td>\n",
       "    </tr>\n",
       "    <tr>\n",
       "      <th>12602</th>\n",
       "      <td>201046336</td>\n",
       "      <td>20515483</td>\n",
       "      <td>POOL_13</td>\n",
       "    </tr>\n",
       "    <tr>\n",
       "      <th>12603</th>\n",
       "      <td>201046336</td>\n",
       "      <td>20515483</td>\n",
       "      <td>POOL_13</td>\n",
       "    </tr>\n",
       "  </tbody>\n",
       "</table>\n",
       "<p>1730 rows × 3 columns</p>\n",
       "</div>"
      ],
      "text/plain": [
       "             계좌키      채무자키    POOL_\n",
       "22224  200919485  20407790  POOL_05\n",
       "22223  200919485  20407790  POOL_05\n",
       "26521  200919497  20407882  POOL_08\n",
       "21292  200919497  20407882  POOL_05\n",
       "21293  200919997  20407883  POOL_05\n",
       "...          ...       ...      ...\n",
       "12525  201046260  20515407  POOL_13\n",
       "12545  201046280  20515427  POOL_13\n",
       "12546  201046280  20515427  POOL_13\n",
       "12602  201046336  20515483  POOL_13\n",
       "12603  201046336  20515483  POOL_13\n",
       "\n",
       "[1730 rows x 3 columns]"
      ]
     },
     "execution_count": 90,
     "metadata": {},
     "output_type": "execute_result"
    }
   ],
   "source": [
    "중복"
   ]
  },
  {
   "cell_type": "code",
   "execution_count": 91,
   "metadata": {},
   "outputs": [
    {
     "data": {
      "text/html": [
       "<div>\n",
       "<style scoped>\n",
       "    .dataframe tbody tr th:only-of-type {\n",
       "        vertical-align: middle;\n",
       "    }\n",
       "\n",
       "    .dataframe tbody tr th {\n",
       "        vertical-align: top;\n",
       "    }\n",
       "\n",
       "    .dataframe thead th {\n",
       "        text-align: right;\n",
       "    }\n",
       "</style>\n",
       "<table border=\"1\" class=\"dataframe\">\n",
       "  <thead>\n",
       "    <tr style=\"text-align: right;\">\n",
       "      <th></th>\n",
       "      <th>계좌키</th>\n",
       "      <th>채무자키</th>\n",
       "      <th>POOL_</th>\n",
       "    </tr>\n",
       "  </thead>\n",
       "  <tbody>\n",
       "    <tr>\n",
       "      <th>0</th>\n",
       "      <td>200919485</td>\n",
       "      <td>20407790</td>\n",
       "      <td>POOL_05</td>\n",
       "    </tr>\n",
       "    <tr>\n",
       "      <th>1</th>\n",
       "      <td>200919485</td>\n",
       "      <td>20407790</td>\n",
       "      <td>POOL_05</td>\n",
       "    </tr>\n",
       "    <tr>\n",
       "      <th>2</th>\n",
       "      <td>200919497</td>\n",
       "      <td>20407882</td>\n",
       "      <td>POOL_08</td>\n",
       "    </tr>\n",
       "    <tr>\n",
       "      <th>3</th>\n",
       "      <td>200919497</td>\n",
       "      <td>20407882</td>\n",
       "      <td>POOL_05</td>\n",
       "    </tr>\n",
       "    <tr>\n",
       "      <th>4</th>\n",
       "      <td>200919997</td>\n",
       "      <td>20407883</td>\n",
       "      <td>POOL_05</td>\n",
       "    </tr>\n",
       "    <tr>\n",
       "      <th>...</th>\n",
       "      <td>...</td>\n",
       "      <td>...</td>\n",
       "      <td>...</td>\n",
       "    </tr>\n",
       "    <tr>\n",
       "      <th>1725</th>\n",
       "      <td>201046260</td>\n",
       "      <td>20515407</td>\n",
       "      <td>POOL_13</td>\n",
       "    </tr>\n",
       "    <tr>\n",
       "      <th>1726</th>\n",
       "      <td>201046280</td>\n",
       "      <td>20515427</td>\n",
       "      <td>POOL_13</td>\n",
       "    </tr>\n",
       "    <tr>\n",
       "      <th>1727</th>\n",
       "      <td>201046280</td>\n",
       "      <td>20515427</td>\n",
       "      <td>POOL_13</td>\n",
       "    </tr>\n",
       "    <tr>\n",
       "      <th>1728</th>\n",
       "      <td>201046336</td>\n",
       "      <td>20515483</td>\n",
       "      <td>POOL_13</td>\n",
       "    </tr>\n",
       "    <tr>\n",
       "      <th>1729</th>\n",
       "      <td>201046336</td>\n",
       "      <td>20515483</td>\n",
       "      <td>POOL_13</td>\n",
       "    </tr>\n",
       "  </tbody>\n",
       "</table>\n",
       "<p>1730 rows × 3 columns</p>\n",
       "</div>"
      ],
      "text/plain": [
       "            계좌키      채무자키    POOL_\n",
       "0     200919485  20407790  POOL_05\n",
       "1     200919485  20407790  POOL_05\n",
       "2     200919497  20407882  POOL_08\n",
       "3     200919497  20407882  POOL_05\n",
       "4     200919997  20407883  POOL_05\n",
       "...         ...       ...      ...\n",
       "1725  201046260  20515407  POOL_13\n",
       "1726  201046280  20515427  POOL_13\n",
       "1727  201046280  20515427  POOL_13\n",
       "1728  201046336  20515483  POOL_13\n",
       "1729  201046336  20515483  POOL_13\n",
       "\n",
       "[1730 rows x 3 columns]"
      ]
     },
     "execution_count": 91,
     "metadata": {},
     "output_type": "execute_result"
    }
   ],
   "source": [
    "중복 = 중복.reset_index(drop=True, inplace=False)\n",
    "중복"
   ]
  },
  {
   "cell_type": "code",
   "execution_count": 92,
   "metadata": {},
   "outputs": [],
   "source": [
    "중복.to_excel(join(r\"D:\\3.자산\\POOL별 관리자산\\무차입자산\",\"중복체크.xlsx\"), index=False)"
   ]
  },
  {
   "cell_type": "code",
   "execution_count": null,
   "metadata": {},
   "outputs": [],
   "source": []
  },
  {
   "cell_type": "code",
   "execution_count": 2,
   "metadata": {},
   "outputs": [
    {
     "data": {
      "text/html": [
       "<div>\n",
       "<style scoped>\n",
       "    .dataframe tbody tr th:only-of-type {\n",
       "        vertical-align: middle;\n",
       "    }\n",
       "\n",
       "    .dataframe tbody tr th {\n",
       "        vertical-align: top;\n",
       "    }\n",
       "\n",
       "    .dataframe thead th {\n",
       "        text-align: right;\n",
       "    }\n",
       "</style>\n",
       "<table border=\"1\" class=\"dataframe\">\n",
       "  <thead>\n",
       "    <tr style=\"text-align: right;\">\n",
       "      <th></th>\n",
       "      <th>계좌키</th>\n",
       "      <th>채무자키</th>\n",
       "      <th>POOL_</th>\n",
       "    </tr>\n",
       "  </thead>\n",
       "  <tbody>\n",
       "    <tr>\n",
       "      <th>0</th>\n",
       "      <td>200919485</td>\n",
       "      <td>20407790</td>\n",
       "      <td>POOL_05</td>\n",
       "    </tr>\n",
       "    <tr>\n",
       "      <th>1</th>\n",
       "      <td>200919485</td>\n",
       "      <td>20407790</td>\n",
       "      <td>POOL_05</td>\n",
       "    </tr>\n",
       "    <tr>\n",
       "      <th>2</th>\n",
       "      <td>200919497</td>\n",
       "      <td>20407882</td>\n",
       "      <td>POOL_05</td>\n",
       "    </tr>\n",
       "    <tr>\n",
       "      <th>3</th>\n",
       "      <td>200919497</td>\n",
       "      <td>20407882</td>\n",
       "      <td>POOL_08</td>\n",
       "    </tr>\n",
       "    <tr>\n",
       "      <th>4</th>\n",
       "      <td>200919997</td>\n",
       "      <td>20407883</td>\n",
       "      <td>POOL_01</td>\n",
       "    </tr>\n",
       "    <tr>\n",
       "      <th>...</th>\n",
       "      <td>...</td>\n",
       "      <td>...</td>\n",
       "      <td>...</td>\n",
       "    </tr>\n",
       "    <tr>\n",
       "      <th>1725</th>\n",
       "      <td>201046260</td>\n",
       "      <td>20515407</td>\n",
       "      <td>POOL_13</td>\n",
       "    </tr>\n",
       "    <tr>\n",
       "      <th>1726</th>\n",
       "      <td>201046280</td>\n",
       "      <td>20515427</td>\n",
       "      <td>POOL_13</td>\n",
       "    </tr>\n",
       "    <tr>\n",
       "      <th>1727</th>\n",
       "      <td>201046280</td>\n",
       "      <td>20515427</td>\n",
       "      <td>POOL_13</td>\n",
       "    </tr>\n",
       "    <tr>\n",
       "      <th>1728</th>\n",
       "      <td>201046336</td>\n",
       "      <td>20515483</td>\n",
       "      <td>POOL_13</td>\n",
       "    </tr>\n",
       "    <tr>\n",
       "      <th>1729</th>\n",
       "      <td>201046336</td>\n",
       "      <td>20515483</td>\n",
       "      <td>POOL_13</td>\n",
       "    </tr>\n",
       "  </tbody>\n",
       "</table>\n",
       "<p>1730 rows × 3 columns</p>\n",
       "</div>"
      ],
      "text/plain": [
       "            계좌키      채무자키    POOL_\n",
       "0     200919485  20407790  POOL_05\n",
       "1     200919485  20407790  POOL_05\n",
       "2     200919497  20407882  POOL_05\n",
       "3     200919497  20407882  POOL_08\n",
       "4     200919997  20407883  POOL_01\n",
       "...         ...       ...      ...\n",
       "1725  201046260  20515407  POOL_13\n",
       "1726  201046280  20515427  POOL_13\n",
       "1727  201046280  20515427  POOL_13\n",
       "1728  201046336  20515483  POOL_13\n",
       "1729  201046336  20515483  POOL_13\n",
       "\n",
       "[1730 rows x 3 columns]"
      ]
     },
     "execution_count": 2,
     "metadata": {},
     "output_type": "execute_result"
    }
   ],
   "source": [
    "중복 = pd.read_excel(r'D:\\3.자산\\POOL별 관리자산\\무차입자산\\중복체크.xlsx')\n",
    "중복"
   ]
  },
  {
   "cell_type": "code",
   "execution_count": 3,
   "metadata": {},
   "outputs": [],
   "source": [
    "mate = True # 훌수\n",
    "계좌키 = []\n",
    "채무자키 = []\n",
    "poola = []\n",
    "poolb = []\n",
    "for i, v in 중복.iterrows() :\n",
    "    if v.계좌키 == \"200922065\" :\n",
    "        print(i)\n",
    "        print(i%2)\n",
    "        print(v.POOL_)\n",
    "\n",
    "    if i % 2 == 0 : \n",
    "        계좌키.append(v.계좌키)\n",
    "        채무자키.append(v.채무자키)\n",
    "        poola.append(v.POOL_)\n",
    "        \n",
    "    else :\n",
    "        poolb.append(v.POOL_)\n",
    "    \n",
    "    \n",
    "result = pd.DataFrame({\"계좌키\":계좌키, \"채무자키\":채무자키, \"Pool_A\":poola, \"Pool_B\":poolb})\n",
    "result.to_excel(join(r\"D:\\3.자산\\POOL별 관리자산\\무차입자산\",\"중복체크_1.xlsx\"), index=False)"
   ]
  }
 ],
 "metadata": {
  "kernelspec": {
   "display_name": "base",
   "language": "python",
   "name": "python3"
  },
  "language_info": {
   "codemirror_mode": {
    "name": "ipython",
    "version": 3
   },
   "file_extension": ".py",
   "mimetype": "text/x-python",
   "name": "python",
   "nbconvert_exporter": "python",
   "pygments_lexer": "ipython3",
   "version": "3.9.13"
  },
  "orig_nbformat": 4,
  "vscode": {
   "interpreter": {
    "hash": "38d617750889899e5f2f65cac6f27a322f361a63d334879a800ee5491961f90c"
   }
  }
 },
 "nbformat": 4,
 "nbformat_minor": 2
}
