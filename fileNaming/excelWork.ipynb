{
 "cells": [
  {
   "cell_type": "code",
   "execution_count": 2,
   "metadata": {},
   "outputs": [],
   "source": [
    "import os\n",
    "import pandas as pd\n",
    "from os.path import join\n",
    "from tqdm import tqdm\n",
    "import upload_v2 as v2\n",
    "import re"
   ]
  },
  {
   "cell_type": "markdown",
   "metadata": {},
   "source": [
    "##### dst 실제 존재하는지"
   ]
  },
  {
   "cell_type": "code",
   "execution_count": 5,
   "metadata": {},
   "outputs": [
    {
     "data": {
      "text/html": [
       "<div>\n",
       "<style scoped>\n",
       "    .dataframe tbody tr th:only-of-type {\n",
       "        vertical-align: middle;\n",
       "    }\n",
       "\n",
       "    .dataframe tbody tr th {\n",
       "        vertical-align: top;\n",
       "    }\n",
       "\n",
       "    .dataframe thead th {\n",
       "        text-align: right;\n",
       "    }\n",
       "</style>\n",
       "<table border=\"1\" class=\"dataframe\">\n",
       "  <thead>\n",
       "    <tr style=\"text-align: right;\">\n",
       "      <th></th>\n",
       "      <th>src_d</th>\n",
       "      <th>src_f</th>\n",
       "      <th>dst_f</th>\n",
       "      <th>dst_d</th>\n",
       "    </tr>\n",
       "  </thead>\n",
       "  <tbody>\n",
       "    <tr>\n",
       "      <th>0</th>\n",
       "      <td>D:\\extraKey\\서울\\! 채권별 스캔본 (한울가람, 9001~)\\! 채권별 스...</td>\n",
       "      <td>김예린 33061760246755.pdf</td>\n",
       "      <td>20459822 김예린 원인서류.pdf</td>\n",
       "      <td>D:\\extraKey\\서울\\! 채권별 스캔본 (한울가람, 9001~)\\! 채권별 스...</td>\n",
       "    </tr>\n",
       "    <tr>\n",
       "      <th>1</th>\n",
       "      <td>D:\\extraKey\\서울\\! 채권별 스캔본 (한울가람, 9001~)\\! 채권별 스...</td>\n",
       "      <td>20210804153813.pdf</td>\n",
       "      <td>20459834 이덕희 원인서류.pdf</td>\n",
       "      <td>D:\\extraKey\\서울\\! 채권별 스캔본 (한울가람, 9001~)\\! 채권별 스...</td>\n",
       "    </tr>\n",
       "    <tr>\n",
       "      <th>2</th>\n",
       "      <td>D:\\extraKey\\서울\\! 채권별 스캔본 (한울가람, 9001~)\\! 채권별 스...</td>\n",
       "      <td>20210804165631.pdf</td>\n",
       "      <td>20459838 김흥재 원인서류.pdf</td>\n",
       "      <td>D:\\extraKey\\서울\\! 채권별 스캔본 (한울가람, 9001~)\\! 채권별 스...</td>\n",
       "    </tr>\n",
       "    <tr>\n",
       "      <th>3</th>\n",
       "      <td>D:\\extraKey\\서울\\! 채권별 스캔본 (한울가람, 9001~)\\! 채권별 스...</td>\n",
       "      <td>20210804131703.pdf</td>\n",
       "      <td>20459844 황선인 원인서류.pdf</td>\n",
       "      <td>D:\\extraKey\\서울\\! 채권별 스캔본 (한울가람, 9001~)\\! 채권별 스...</td>\n",
       "    </tr>\n",
       "    <tr>\n",
       "      <th>4</th>\n",
       "      <td>D:\\extraKey\\서울\\! 채권별 스캔본 (한울가람, 9001~)\\! 채권별 스...</td>\n",
       "      <td>20210804153233.pdf</td>\n",
       "      <td>20459846 양승관 원인서류.pdf</td>\n",
       "      <td>D:\\extraKey\\서울\\! 채권별 스캔본 (한울가람, 9001~)\\! 채권별 스...</td>\n",
       "    </tr>\n",
       "  </tbody>\n",
       "</table>\n",
       "</div>"
      ],
      "text/plain": [
       "                                               src_d                   src_f  \\\n",
       "0  D:\\extraKey\\서울\\! 채권별 스캔본 (한울가람, 9001~)\\! 채권별 스...  김예린 33061760246755.pdf   \n",
       "1  D:\\extraKey\\서울\\! 채권별 스캔본 (한울가람, 9001~)\\! 채권별 스...      20210804153813.pdf   \n",
       "2  D:\\extraKey\\서울\\! 채권별 스캔본 (한울가람, 9001~)\\! 채권별 스...      20210804165631.pdf   \n",
       "3  D:\\extraKey\\서울\\! 채권별 스캔본 (한울가람, 9001~)\\! 채권별 스...      20210804131703.pdf   \n",
       "4  D:\\extraKey\\서울\\! 채권별 스캔본 (한울가람, 9001~)\\! 채권별 스...      20210804153233.pdf   \n",
       "\n",
       "                   dst_f                                              dst_d  \n",
       "0  20459822 김예린 원인서류.pdf  D:\\extraKey\\서울\\! 채권별 스캔본 (한울가람, 9001~)\\! 채권별 스...  \n",
       "1  20459834 이덕희 원인서류.pdf  D:\\extraKey\\서울\\! 채권별 스캔본 (한울가람, 9001~)\\! 채권별 스...  \n",
       "2  20459838 김흥재 원인서류.pdf  D:\\extraKey\\서울\\! 채권별 스캔본 (한울가람, 9001~)\\! 채권별 스...  \n",
       "3  20459844 황선인 원인서류.pdf  D:\\extraKey\\서울\\! 채권별 스캔본 (한울가람, 9001~)\\! 채권별 스...  \n",
       "4  20459846 양승관 원인서류.pdf  D:\\extraKey\\서울\\! 채권별 스캔본 (한울가람, 9001~)\\! 채권별 스...  "
      ]
     },
     "execution_count": 5,
     "metadata": {},
     "output_type": "execute_result"
    }
   ],
   "source": [
    "path = r'D:\\0.전산\\1.진행중과업\\파일서버개편\\구스캔폴더 작업log\\success'\n",
    "readFile = '20221107 102619_1552_서울 채권별 20우담 2원인 전체.csv'\n",
    "writeFile = 'exist.csv'\n",
    "# 엑셀\n",
    "#df = pd.read_excel(join(path, readFile))\n",
    "# csv\n",
    "df = pd.read_csv(join(path, readFile), sep=\",\", header=None)\n",
    "df.columns = [\"src_d\", \"src_f\", \"dst_f\", \"dst_d\"]\n",
    "df.head()"
   ]
  },
  {
   "cell_type": "code",
   "execution_count": 10,
   "metadata": {},
   "outputs": [
    {
     "name": "stderr",
     "output_type": "stream",
     "text": [
      "23it [00:00, 5769.68it/s]\n"
     ]
    },
    {
     "data": {
      "text/html": [
       "<div>\n",
       "<style scoped>\n",
       "    .dataframe tbody tr th:only-of-type {\n",
       "        vertical-align: middle;\n",
       "    }\n",
       "\n",
       "    .dataframe tbody tr th {\n",
       "        vertical-align: top;\n",
       "    }\n",
       "\n",
       "    .dataframe thead th {\n",
       "        text-align: right;\n",
       "    }\n",
       "</style>\n",
       "<table border=\"1\" class=\"dataframe\">\n",
       "  <thead>\n",
       "    <tr style=\"text-align: right;\">\n",
       "      <th></th>\n",
       "      <th>src_d</th>\n",
       "      <th>src_f</th>\n",
       "      <th>dst_f</th>\n",
       "      <th>dst_d</th>\n",
       "      <th>exist</th>\n",
       "    </tr>\n",
       "  </thead>\n",
       "  <tbody>\n",
       "    <tr>\n",
       "      <th>0</th>\n",
       "      <td>/volume1/스캔파일/새 스캔파일(업로드)/구폴더작업</td>\n",
       "      <td>20465390 10655406 210122132221_0001 양통 우담 원인서류...</td>\n",
       "      <td>20465390_이재찬_원인서류_양통 우담.pdf</td>\n",
       "      <td>/volume1/솔림헬프/1.원인서류/우담-01/20465390</td>\n",
       "      <td>False</td>\n",
       "    </tr>\n",
       "    <tr>\n",
       "      <th>1</th>\n",
       "      <td>/volume1/스캔파일/새 스캔파일(업로드)/구폴더작업</td>\n",
       "      <td>20465994 10626108 200716090108_0001 양통 우담 원인서류...</td>\n",
       "      <td>20465994_김민정_원인서류_양통 우담.pdf</td>\n",
       "      <td>/volume1/솔림헬프/1.원인서류/우담-01/20465994</td>\n",
       "      <td>False</td>\n",
       "    </tr>\n",
       "    <tr>\n",
       "      <th>2</th>\n",
       "      <td>/volume1/스캔파일/새 스캔파일(업로드)/구폴더작업</td>\n",
       "      <td>20465994 10626108 200724092717_0001 양통 우담 원인서류...</td>\n",
       "      <td>20465994_김민정_원인서류_양통 우담_(1).pdf</td>\n",
       "      <td>/volume1/솔림헬프/1.원인서류/우담-01/20465994</td>\n",
       "      <td>False</td>\n",
       "    </tr>\n",
       "    <tr>\n",
       "      <th>3</th>\n",
       "      <td>/volume1/스캔파일/새 스캔파일(업로드)/구폴더작업</td>\n",
       "      <td>20466031 10637357 20210225154544 양통 우담 원인서류.pdf</td>\n",
       "      <td>20466031_윤예지_원인서류_양통 우담.pdf</td>\n",
       "      <td>/volume1/솔림헬프/1.원인서류/우담-01/20466031</td>\n",
       "      <td>False</td>\n",
       "    </tr>\n",
       "    <tr>\n",
       "      <th>4</th>\n",
       "      <td>/volume1/스캔파일/새 스캔파일(업로드)/구폴더작업</td>\n",
       "      <td>20466115 10642029 200717093225_0001 양통 우담 원인서류...</td>\n",
       "      <td>20466115_백성목_원인서류_양통 우담.pdf</td>\n",
       "      <td>/volume1/솔림헬프/1.원인서류/우담-01/20466115</td>\n",
       "      <td>False</td>\n",
       "    </tr>\n",
       "  </tbody>\n",
       "</table>\n",
       "</div>"
      ],
      "text/plain": [
       "                             src_d  \\\n",
       "0  /volume1/스캔파일/새 스캔파일(업로드)/구폴더작업   \n",
       "1  /volume1/스캔파일/새 스캔파일(업로드)/구폴더작업   \n",
       "2  /volume1/스캔파일/새 스캔파일(업로드)/구폴더작업   \n",
       "3  /volume1/스캔파일/새 스캔파일(업로드)/구폴더작업   \n",
       "4  /volume1/스캔파일/새 스캔파일(업로드)/구폴더작업   \n",
       "\n",
       "                                               src_f  \\\n",
       "0  20465390 10655406 210122132221_0001 양통 우담 원인서류...   \n",
       "1  20465994 10626108 200716090108_0001 양통 우담 원인서류...   \n",
       "2  20465994 10626108 200724092717_0001 양통 우담 원인서류...   \n",
       "3    20466031 10637357 20210225154544 양통 우담 원인서류.pdf   \n",
       "4  20466115 10642029 200717093225_0001 양통 우담 원인서류...   \n",
       "\n",
       "                             dst_f                                dst_d  exist  \n",
       "0      20465390_이재찬_원인서류_양통 우담.pdf  /volume1/솔림헬프/1.원인서류/우담-01/20465390  False  \n",
       "1      20465994_김민정_원인서류_양통 우담.pdf  /volume1/솔림헬프/1.원인서류/우담-01/20465994  False  \n",
       "2  20465994_김민정_원인서류_양통 우담_(1).pdf  /volume1/솔림헬프/1.원인서류/우담-01/20465994  False  \n",
       "3      20466031_윤예지_원인서류_양통 우담.pdf  /volume1/솔림헬프/1.원인서류/우담-01/20466031  False  \n",
       "4      20466115_백성목_원인서류_양통 우담.pdf  /volume1/솔림헬프/1.원인서류/우담-01/20466115  False  "
      ]
     },
     "execution_count": 10,
     "metadata": {},
     "output_type": "execute_result"
    }
   ],
   "source": [
    "for i, v in tqdm(df.iterrows()) :\n",
    "    if os.path.exists(join(v[\"dst_d\"], v[\"dst_f\"])) :\n",
    "        df.loc[i, \"exist\"] = True\n",
    "    else :\n",
    "        df.loc[i, \"exist\"] = False\n",
    "\n",
    "df.head()"
   ]
  },
  {
   "cell_type": "code",
   "execution_count": null,
   "metadata": {},
   "outputs": [],
   "source": [
    "df_result = df[df[\"exist\"]].reset_index()\n",
    "df_result.head()"
   ]
  },
  {
   "cell_type": "code",
   "execution_count": 8,
   "metadata": {},
   "outputs": [
    {
     "data": {
      "text/html": [
       "<div>\n",
       "<style scoped>\n",
       "    .dataframe tbody tr th:only-of-type {\n",
       "        vertical-align: middle;\n",
       "    }\n",
       "\n",
       "    .dataframe tbody tr th {\n",
       "        vertical-align: top;\n",
       "    }\n",
       "\n",
       "    .dataframe thead th {\n",
       "        text-align: right;\n",
       "    }\n",
       "</style>\n",
       "<table border=\"1\" class=\"dataframe\">\n",
       "  <thead>\n",
       "    <tr style=\"text-align: right;\">\n",
       "      <th></th>\n",
       "      <th>src_dir</th>\n",
       "      <th>src_file</th>\n",
       "      <th>dst_file</th>\n",
       "      <th>result</th>\n",
       "      <th>dst_dir</th>\n",
       "      <th>result_dir</th>\n",
       "      <th>exist</th>\n",
       "    </tr>\n",
       "  </thead>\n",
       "  <tbody>\n",
       "  </tbody>\n",
       "</table>\n",
       "</div>"
      ],
      "text/plain": [
       "Empty DataFrame\n",
       "Columns: [src_dir, src_file, dst_file, result, dst_dir, result_dir, exist]\n",
       "Index: []"
      ]
     },
     "execution_count": 8,
     "metadata": {},
     "output_type": "execute_result"
    }
   ],
   "source": [
    "df_result.to_csv(join(path, writeFile), mode='w', index=False)"
   ]
  },
  {
   "cell_type": "markdown",
   "metadata": {},
   "source": [
    "##### dst > result"
   ]
  },
  {
   "cell_type": "code",
   "execution_count": 2,
   "metadata": {},
   "outputs": [
    {
     "data": {
      "text/html": [
       "<div>\n",
       "<style scoped>\n",
       "    .dataframe tbody tr th:only-of-type {\n",
       "        vertical-align: middle;\n",
       "    }\n",
       "\n",
       "    .dataframe tbody tr th {\n",
       "        vertical-align: top;\n",
       "    }\n",
       "\n",
       "    .dataframe thead th {\n",
       "        text-align: right;\n",
       "    }\n",
       "</style>\n",
       "<table border=\"1\" class=\"dataframe\">\n",
       "  <thead>\n",
       "    <tr style=\"text-align: right;\">\n",
       "      <th></th>\n",
       "      <th>src_dir</th>\n",
       "      <th>src_file</th>\n",
       "      <th>dst_file</th>\n",
       "      <th>dst_dir</th>\n",
       "      <th>result</th>\n",
       "      <th>result_dir</th>\n",
       "    </tr>\n",
       "  </thead>\n",
       "  <tbody>\n",
       "    <tr>\n",
       "      <th>0</th>\n",
       "      <td>/volume1/스캔파일/새 스캔파일(업로드)/나우리</td>\n",
       "      <td>20411640 박채리 원인서류.pdf</td>\n",
       "      <td>20411640_박채리_원인서류.pdf</td>\n",
       "      <td>/volume1/솔림헬프/1.원인서류/BNK-01/20411640</td>\n",
       "      <td>20411640_반채리_원인서류_박채리.pdf</td>\n",
       "      <td>/volume1/솔림헬프/1.원인서류/BNK-01/20411640</td>\n",
       "    </tr>\n",
       "    <tr>\n",
       "      <th>1</th>\n",
       "      <td>/volume1/스캔파일/새 스캔파일(업로드)/나우리</td>\n",
       "      <td>20422670 일반원인서류원인서류.pdf</td>\n",
       "      <td>20422670_일반_원인서류_원인서류.pdf</td>\n",
       "      <td>/volume1/솔림헬프/1.원인서류/BNK-01/20422670</td>\n",
       "      <td>20422670_이미숙_원인서류_일반.pdf</td>\n",
       "      <td>/volume1/솔림헬프/1.원인서류/BNK-01/20422670</td>\n",
       "    </tr>\n",
       "    <tr>\n",
       "      <th>2</th>\n",
       "      <td>/volume1/스캔파일/새 스캔파일(업로드)/나우리</td>\n",
       "      <td>20422701 현김라 원인서류.pdf</td>\n",
       "      <td>20422701_현김라_원인서류.pdf</td>\n",
       "      <td>/volume1/솔림헬프/1.원인서류/BNK-01/20422701</td>\n",
       "      <td>20422701_김리현_원인서류_현김라.pdf</td>\n",
       "      <td>/volume1/솔림헬프/1.원인서류/BNK-01/20422701</td>\n",
       "    </tr>\n",
       "    <tr>\n",
       "      <th>3</th>\n",
       "      <td>/volume1/스캔파일/새 스캔파일(업로드)/나우리</td>\n",
       "      <td>20422885 기민용 원인서류.pdf</td>\n",
       "      <td>20422885_기민용_원인서류.pdf</td>\n",
       "      <td>/volume1/솔림헬프/1.원인서류/BNK-01/20422885</td>\n",
       "      <td>20422885_민용기_원인서류_기민용.pdf</td>\n",
       "      <td>/volume1/솔림헬프/1.원인서류/BNK-01/20422885</td>\n",
       "    </tr>\n",
       "    <tr>\n",
       "      <th>4</th>\n",
       "      <td>/volume1/스캔파일/새 스캔파일(업로드)/나우리</td>\n",
       "      <td>20423226 이재철 76원인서류.pdf</td>\n",
       "      <td>20423226_이재철 76_원인서류.pdf</td>\n",
       "      <td>/volume1/솔림헬프/1.원인서류/BNK-01/20423226</td>\n",
       "      <td>20423226_이재철_원인서류.pdf</td>\n",
       "      <td>/volume1/솔림헬프/1.원인서류/BNK-01/20423226</td>\n",
       "    </tr>\n",
       "  </tbody>\n",
       "</table>\n",
       "</div>"
      ],
      "text/plain": [
       "                         src_dir                 src_file  \\\n",
       "0  /volume1/스캔파일/새 스캔파일(업로드)/나우리    20411640 박채리 원인서류.pdf   \n",
       "1  /volume1/스캔파일/새 스캔파일(업로드)/나우리  20422670 일반원인서류원인서류.pdf   \n",
       "2  /volume1/스캔파일/새 스캔파일(업로드)/나우리    20422701 현김라 원인서류.pdf   \n",
       "3  /volume1/스캔파일/새 스캔파일(업로드)/나우리    20422885 기민용 원인서류.pdf   \n",
       "4  /volume1/스캔파일/새 스캔파일(업로드)/나우리  20423226 이재철 76원인서류.pdf   \n",
       "\n",
       "                    dst_file                               dst_dir  \\\n",
       "0      20411640_박채리_원인서류.pdf  /volume1/솔림헬프/1.원인서류/BNK-01/20411640   \n",
       "1  20422670_일반_원인서류_원인서류.pdf  /volume1/솔림헬프/1.원인서류/BNK-01/20422670   \n",
       "2      20422701_현김라_원인서류.pdf  /volume1/솔림헬프/1.원인서류/BNK-01/20422701   \n",
       "3      20422885_기민용_원인서류.pdf  /volume1/솔림헬프/1.원인서류/BNK-01/20422885   \n",
       "4   20423226_이재철 76_원인서류.pdf  /volume1/솔림헬프/1.원인서류/BNK-01/20423226   \n",
       "\n",
       "                      result                            result_dir  \n",
       "0  20411640_반채리_원인서류_박채리.pdf  /volume1/솔림헬프/1.원인서류/BNK-01/20411640  \n",
       "1   20422670_이미숙_원인서류_일반.pdf  /volume1/솔림헬프/1.원인서류/BNK-01/20422670  \n",
       "2  20422701_김리현_원인서류_현김라.pdf  /volume1/솔림헬프/1.원인서류/BNK-01/20422701  \n",
       "3  20422885_민용기_원인서류_기민용.pdf  /volume1/솔림헬프/1.원인서류/BNK-01/20422885  \n",
       "4      20423226_이재철_원인서류.pdf  /volume1/솔림헬프/1.원인서류/BNK-01/20423226  "
      ]
     },
     "execution_count": 2,
     "metadata": {},
     "output_type": "execute_result"
    }
   ],
   "source": [
    "path = './파일/9월분리뉴얼/result20221003 180521.csv'\n",
    "path_log = './파일/9월분리뉴얼'\n",
    "data = pd.read_csv(path, sep = ',')\n",
    "data.head()"
   ]
  },
  {
   "cell_type": "code",
   "execution_count": 3,
   "metadata": {},
   "outputs": [
    {
     "name": "stdout",
     "output_type": "stream",
     "text": [
      "/volume1/솔림헬프/1.원인서류/BNK-01/20411640\\20411640_박채리_원인서류.pdf\n",
      "/volume1/솔림헬프/1.원인서류/BNK-01/20411640\\20411640_반채리_원인서류_박채리.pdf\n",
      "/volume1/솔림헬프/1.원인서류/BNK-01/20422670\\20422670_일반_원인서류_원인서류.pdf\n",
      "/volume1/솔림헬프/1.원인서류/BNK-01/20422670\\20422670_이미숙_원인서류_일반.pdf\n",
      "/volume1/솔림헬프/1.원인서류/BNK-01/20422701\\20422701_현김라_원인서류.pdf\n",
      "/volume1/솔림헬프/1.원인서류/BNK-01/20422701\\20422701_김리현_원인서류_현김라.pdf\n",
      "/volume1/솔림헬프/1.원인서류/BNK-01/20422885\\20422885_기민용_원인서류.pdf\n",
      "/volume1/솔림헬프/1.원인서류/BNK-01/20422885\\20422885_민용기_원인서류_기민용.pdf\n",
      "/volume1/솔림헬프/1.원인서류/BNK-01/20423226\\20423226_이재철 76_원인서류.pdf\n",
      "/volume1/솔림헬프/1.원인서류/BNK-01/20423226\\20423226_이재철_원인서류.pdf\n"
     ]
    }
   ],
   "source": [
    "success = []\n",
    "fail = []\n",
    "total = len(data.index)\n",
    "for i, row in tqdm(data.iterrows(), total=total) :\n",
    "    try : \n",
    "        src = join(row.dst_dir, row.dst_file)\n",
    "        dst = join(row.result_dir, row.result)\n",
    "        success.append(v2.re_name(src, dst))\n",
    "    except Exception as e:\n",
    "        fail.append([src, dst, e.__class__, e])\n",
    "        continue\n",
    "\n",
    "v2.write_log_csv(success, path_log)\n",
    "v2.write_log_csv(fail, path_log)\n"
   ]
  },
  {
   "cell_type": "markdown",
   "metadata": {},
   "source": [
    "##### log기반 수정하기"
   ]
  },
  {
   "cell_type": "code",
   "execution_count": 4,
   "metadata": {},
   "outputs": [
    {
     "data": {
      "text/html": [
       "<div>\n",
       "<style scoped>\n",
       "    .dataframe tbody tr th:only-of-type {\n",
       "        vertical-align: middle;\n",
       "    }\n",
       "\n",
       "    .dataframe tbody tr th {\n",
       "        vertical-align: top;\n",
       "    }\n",
       "\n",
       "    .dataframe thead th {\n",
       "        text-align: right;\n",
       "    }\n",
       "</style>\n",
       "<table border=\"1\" class=\"dataframe\">\n",
       "  <thead>\n",
       "    <tr style=\"text-align: right;\">\n",
       "      <th></th>\n",
       "      <th>src_d1</th>\n",
       "      <th>src_d2</th>\n",
       "      <th>error</th>\n",
       "    </tr>\n",
       "  </thead>\n",
       "  <tbody>\n",
       "    <tr>\n",
       "      <th>0</th>\n",
       "      <td>D:\\구 스캔파일\\서울\\! 채권별 스캔본 (한울가람, 9001~)\\! 채권별 스캔본...</td>\n",
       "      <td>20464210 김규선 원인서류</td>\n",
       "      <td>&lt;class 'SyntaxError'&gt;</td>\n",
       "    </tr>\n",
       "    <tr>\n",
       "      <th>1</th>\n",
       "      <td>D:\\구 스캔파일\\서울\\! 채권별 스캔본 (한울가람, 9001~)\\! 채권별 스캔본...</td>\n",
       "      <td>20464531 김주완 원인서류</td>\n",
       "      <td>&lt;class 'img2pdf.ImageOpenError'&gt;</td>\n",
       "    </tr>\n",
       "    <tr>\n",
       "      <th>2</th>\n",
       "      <td>D:\\구 스캔파일\\서울\\! 채권별 스캔본 (한울가람, 9001~)\\! 채권별 스캔본...</td>\n",
       "      <td>20464542 김형아 원인서류</td>\n",
       "      <td>&lt;class 'img2pdf.AlphaChannelError'&gt;</td>\n",
       "    </tr>\n",
       "    <tr>\n",
       "      <th>3</th>\n",
       "      <td>D:\\구 스캔파일\\서울\\! 채권별 스캔본 (한울가람, 9001~)\\! 채권별 스캔본...</td>\n",
       "      <td>20464606 이선영 원인서류</td>\n",
       "      <td>&lt;class 'img2pdf.AlphaChannelError'&gt;</td>\n",
       "    </tr>\n",
       "    <tr>\n",
       "      <th>4</th>\n",
       "      <td>D:\\구 스캔파일\\서울\\! 채권별 스캔본 (한울가람, 9001~)\\! 채권별 스캔본...</td>\n",
       "      <td>20464695 박진현 원인서류</td>\n",
       "      <td>&lt;class 'img2pdf.ImageOpenError'&gt;</td>\n",
       "    </tr>\n",
       "  </tbody>\n",
       "</table>\n",
       "</div>"
      ],
      "text/plain": [
       "                                              src_d1             src_d2  \\\n",
       "0  D:\\구 스캔파일\\서울\\! 채권별 스캔본 (한울가람, 9001~)\\! 채권별 스캔본...  20464210 김규선 원인서류   \n",
       "1  D:\\구 스캔파일\\서울\\! 채권별 스캔본 (한울가람, 9001~)\\! 채권별 스캔본...  20464531 김주완 원인서류   \n",
       "2  D:\\구 스캔파일\\서울\\! 채권별 스캔본 (한울가람, 9001~)\\! 채권별 스캔본...  20464542 김형아 원인서류   \n",
       "3  D:\\구 스캔파일\\서울\\! 채권별 스캔본 (한울가람, 9001~)\\! 채권별 스캔본...  20464606 이선영 원인서류   \n",
       "4  D:\\구 스캔파일\\서울\\! 채권별 스캔본 (한울가람, 9001~)\\! 채권별 스캔본...  20464695 박진현 원인서류   \n",
       "\n",
       "                                 error  \n",
       "0                <class 'SyntaxError'>  \n",
       "1     <class 'img2pdf.ImageOpenError'>  \n",
       "2  <class 'img2pdf.AlphaChannelError'>  \n",
       "3  <class 'img2pdf.AlphaChannelError'>  \n",
       "4     <class 'img2pdf.ImageOpenError'>  "
      ]
     },
     "execution_count": 4,
     "metadata": {},
     "output_type": "execute_result"
    }
   ],
   "source": [
    "# log > df\n",
    "path = r'D:\\구 스캔파일\\서울\\! 채권별 스캔본 (한울가람, 9001~)\\! 채권별 스캔본 (한울가람, 9001~)(스캔파일)\\20.(9019) (유)우담자산관리대부_솔림헬프\\2.원인서류(대출신청서)\\1. 원인서류 전체 (파일명 변경완료)'\n",
    "readFile = '20221202 180428_98_파일병합 실패.csv'\n",
    "writeFile = 'exist.csv'\n",
    "# 엑셀\n",
    "#df = pd.read_excel(join(path, readFile))\n",
    "# csv\n",
    "df = pd.read_csv(join(path, readFile), sep=\",\", header=None)\n",
    "df.columns = [\"src_d\", \"src_f\", \"dst_f\", \"dst_d\"]\n",
    "df.head()"
   ]
  },
  {
   "cell_type": "code",
   "execution_count": 19,
   "metadata": {},
   "outputs": [
    {
     "name": "stderr",
     "output_type": "stream",
     "text": [
      "23it [00:01, 13.07it/s]"
     ]
    },
    {
     "name": "stdout",
     "output_type": "stream",
     "text": [
      "23 개 파일 삭제\n"
     ]
    },
    {
     "name": "stderr",
     "output_type": "stream",
     "text": [
      "\n"
     ]
    }
   ],
   "source": [
    "cnt = 0\n",
    "for i, v in tqdm(df.iterrows()) :\n",
    "    dir = re.sub('/volume1', r\"\\\\\\\\192.168.0.75\", v.dst_d)\n",
    "    if os.path.exists(join(dir, v[\"dst_f\"])) :\n",
    "        os.remove(join(dir, v[\"dst_f\"]))\n",
    "        cnt += 1\n",
    "    else :\n",
    "        print(\"n\", v.dst_f)\n",
    "    #     df.loc[i, \"exist\"] = True\n",
    "    # else :\n",
    "    #     df.loc[i, \"exist\"] = False\n",
    "\n",
    "# df.head()\n",
    "print(cnt, \"개 파일 삭제\")"
   ]
  },
  {
   "cell_type": "code",
   "execution_count": 4,
   "metadata": {},
   "outputs": [
    {
     "name": "stdout",
     "output_type": "stream",
     "text": [
      "15 개 파일 이름 되돌리기\n"
     ]
    }
   ],
   "source": [
    "# dst > src로 되돌리기\n",
    "cnt = 0\n",
    "for i, v in df.iterrows() :\n",
    "    try :\n",
    "        os.rename(join(v.dst_d, v.dst_f), join(v.src_d, v.src_f))\n",
    "        cnt += 1\n",
    "    except Exception as e :\n",
    "        print(v.dst_f)\n",
    "        print(e.__class__)\n",
    "        continue\n",
    "print(cnt, \"개 파일 이름 되돌리기\")\n"
   ]
  },
  {
   "cell_type": "code",
   "execution_count": 20,
   "metadata": {},
   "outputs": [
    {
     "name": "stdout",
     "output_type": "stream",
     "text": [
      "20465160 박인수 원인서류 2.tif\n",
      "<class 'FileNotFoundError'>\n",
      "20465160 박인수 원인서류 3.tif\n",
      "<class 'FileNotFoundError'>\n",
      "2개 중 0개 변환 완료\n"
     ]
    }
   ],
   "source": [
    "cnt = 0\n",
    "changed = 0\n",
    "for i, v in df.iterrows() :\n",
    "    if re.search(\"초본\", v.src_f) :\n",
    "        cnt += 1\n",
    "        new_name = re.sub(\"원인서류\", \"초본\", v.dst_f)\n",
    "        try : \n",
    "            os.rename(join(v.dst_d, v.dst_f), join(v.dst_d, new_name))\n",
    "            changed += 1\n",
    "        except Exception as e :\n",
    "            print(v.dst_f)\n",
    "            print(e.__class__)\n",
    "            continue\n",
    "\n",
    "print(f\"{cnt}개 중 {changed}개 변환 완료\")"
   ]
  },
  {
   "cell_type": "markdown",
   "metadata": {},
   "source": [
    "### 엑셀로 파일 이동"
   ]
  },
  {
   "cell_type": "code",
   "execution_count": 22,
   "metadata": {},
   "outputs": [
    {
     "data": {
      "text/html": [
       "<div>\n",
       "<style scoped>\n",
       "    .dataframe tbody tr th:only-of-type {\n",
       "        vertical-align: middle;\n",
       "    }\n",
       "\n",
       "    .dataframe tbody tr th {\n",
       "        vertical-align: top;\n",
       "    }\n",
       "\n",
       "    .dataframe thead th {\n",
       "        text-align: right;\n",
       "    }\n",
       "</style>\n",
       "<table border=\"1\" class=\"dataframe\">\n",
       "  <thead>\n",
       "    <tr style=\"text-align: right;\">\n",
       "      <th></th>\n",
       "      <th>src</th>\n",
       "      <th>key</th>\n",
       "    </tr>\n",
       "  </thead>\n",
       "  <tbody>\n",
       "    <tr>\n",
       "      <th>0</th>\n",
       "      <td>C:\\Users\\SL\\Documents\\합치기.pdf</td>\n",
       "      <td>10801852</td>\n",
       "    </tr>\n",
       "    <tr>\n",
       "      <th>1</th>\n",
       "      <td>C:\\Users\\SL\\Documents\\합치기_1.pdf</td>\n",
       "      <td>10801853</td>\n",
       "    </tr>\n",
       "    <tr>\n",
       "      <th>2</th>\n",
       "      <td>C:\\Users\\SL\\Documents\\합치기_2.pdf</td>\n",
       "      <td>10801860</td>\n",
       "    </tr>\n",
       "  </tbody>\n",
       "</table>\n",
       "</div>"
      ],
      "text/plain": [
       "                               src       key\n",
       "0    C:\\Users\\SL\\Documents\\합치기.pdf  10801852\n",
       "1  C:\\Users\\SL\\Documents\\합치기_1.pdf  10801853\n",
       "2  C:\\Users\\SL\\Documents\\합치기_2.pdf  10801860"
      ]
     },
     "execution_count": 22,
     "metadata": {},
     "output_type": "execute_result"
    }
   ],
   "source": [
    "excel_path = r\"c://Users/SL/Desktop/통합 문서1.xlsx\"\n",
    "dst_d = r\"C:\\Users\\SL\\Documents\"\n",
    "df = pd.read_excel(excel_path, header=None)\n",
    "df.columns = [\"src\", \"key\"]\n",
    "df.head(3)"
   ]
  },
  {
   "cell_type": "code",
   "execution_count": 24,
   "metadata": {},
   "outputs": [
    {
     "name": "stderr",
     "output_type": "stream",
     "text": [
      "91it [00:00, 2562.93it/s]"
     ]
    },
    {
     "name": "stdout",
     "output_type": "stream",
     "text": [
      "91개 파일명 변경 완료, 0개 파일명 변경 실패\n"
     ]
    },
    {
     "name": "stderr",
     "output_type": "stream",
     "text": [
      "\n"
     ]
    }
   ],
   "source": [
    "success, fail = [], []\n",
    "success_cnt = 0\n",
    "for i, v in tqdm(df.iterrows()) :\n",
    "    new_name = str(v.key) + \" 기타 매각사자료모음 (1)\"\n",
    "    dst = join(dst_d, new_name)\n",
    "    try :\n",
    "        os.rename(v.src, dst)\n",
    "        success.append([v.src, dst])\n",
    "    except :\n",
    "        fail.append([v.src, dst])\n",
    "print(f\"{len(success)}개 파일명 변경 완료, {len(fail)}개 파일명 변경 실패\")"
   ]
  }
 ],
 "metadata": {
  "kernelspec": {
   "display_name": "Python 3.9.12 ('base')",
   "language": "python",
   "name": "python3"
  },
  "language_info": {
   "codemirror_mode": {
    "name": "ipython",
    "version": 3
   },
   "file_extension": ".py",
   "mimetype": "text/x-python",
   "name": "python",
   "nbconvert_exporter": "python",
   "pygments_lexer": "ipython3",
   "version": "3.9.13"
  },
  "orig_nbformat": 4,
  "vscode": {
   "interpreter": {
    "hash": "50ba2c93e3505a279245e213c77d9791c626788d8ca8a61b8db804927ca08a39"
   }
  }
 },
 "nbformat": 4,
 "nbformat_minor": 2
}
