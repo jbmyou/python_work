{
 "cells": [
  {
   "cell_type": "code",
   "execution_count": 1,
   "metadata": {},
   "outputs": [],
   "source": [
    "import os\n",
    "import pickle\n",
    "import binascii\n",
    "\n",
    "def crc32_checksum(filename):\n",
    "    buf = open(filename,'rb').read()\n",
    "    buf = (binascii.crc32(buf) & 0xFFFFFFFF)\n",
    "    return \"%08X\" % buf\n",
    "\n",
    "def get_kcs(path_192) :\n",
    "    crc32 = str(crc32_checksum(path_192))\n",
    "    size = str(os.path.getsize(path_192))\n",
    "    f = os.path.split(path_192)[1]\n",
    "    key = f[:8]\n",
    "    kcs = key + crc32 + size \n",
    "    return kcs\n",
    "\n",
    "def read_cks(path_kcs) :\n",
    "    with open(path_kcs, \"rb\") as pkl :\n",
    "        return pickle.load(pkl)\n",
    "\n",
    "def delete_kcs(filePath, dict_kcs) :\n",
    "    k = os.path.split(filePath)[1][:8]\n",
    "    c = str(crc32_checksum(filePath))\n",
    "    s = str(os.path.getsize(filePath))\n",
    "    kcs = k + c + s\n",
    "    if kcs in dict_kcs :\n",
    "        print(f\"kcs : {kcs}   path : {dict_kcs[kcs]}\")\n",
    "        del dict_kcs[kcs]\n",
    "        print(\"삭제하였습니다.\")\n",
    "    else :\n",
    "      print(filePath, kcs, \"없는 키값\")\n",
    "\n",
    "def write_cks(path_kcs, dict_kcs) :\n",
    "    with open(path_kcs, \"wb\") as pkl :\n",
    "        pickle.dump(dict_kcs, pkl)\n",
    "\n",
    "path_kcs = r\"\\\\192.168.0.75\\스캔파일\\스캔파일log\\_project\\파일\\중복조사\\kcs별 파일정보_솔림헬프.pkl\""
   ]
  },
  {
   "cell_type": "code",
   "execution_count": 5,
   "metadata": {},
   "outputs": [
    {
     "name": "stdout",
     "output_type": "stream",
     "text": [
      "최초dict_kcs개수 : 325432\n"
     ]
    }
   ],
   "source": [
    "# 읽기\n",
    "dict_kcs = read_cks(path_kcs)\n",
    "print(\"최초dict_kcs개수 :\", len(dict_kcs))"
   ]
  },
  {
   "cell_type": "code",
   "execution_count": 6,
   "metadata": {},
   "outputs": [
    {
     "name": "stdout",
     "output_type": "stream",
     "text": [
      "kcs : 204225211AD290C2286152   path : /volume1/솔림헬프/5.등초본/한울가람/20422521/20422521_김형권_초본_221012.pdf\n",
      "삭제하였습니다.\n"
     ]
    }
   ],
   "source": [
    "# 삭제하기\n",
    "####################################\n",
    "path_192 = r\"\\\\192.168.0.75\\솔림헬프\\5.등초본\\한울가람\\20422521\\20422521_김형권_운전면허증.pdf\"\n",
    "####################################\n",
    "delete_kcs(path_192, dict_kcs)"
   ]
  },
  {
   "cell_type": "code",
   "execution_count": 3,
   "metadata": {},
   "outputs": [
    {
     "name": "stdout",
     "output_type": "stream",
     "text": [
      "kcs : 204601092D37AAF7188996   path : /volume1/솔림헬프/1.원인서류/우담-01/20460109/20460109_박성재_원인서류_양통 우담.pdf\n",
      "삭제하였습니다.\n",
      "kcs : 20460109686764B651372   path : /volume1/솔림헬프/1.원인서류/우담-01/20460109/20460109_박성재_원인서류_양통 우담.pdf\n",
      "삭제하였습니다.\n",
      "kcs : 204602105DEC07C062656   path : /volume1/솔림헬프/1.원인서류/우담-01/20460210/20460210_김나현_원인서류_양통 우담.pdf\n",
      "삭제하였습니다.\n",
      "kcs : 204603144558CEF566899   path : /volume1/솔림헬프/1.원인서류/우담-01/20460314/20460314_김성락_원인서류_양통 우담.pdf\n",
      "삭제하였습니다.\n",
      "kcs : 204604548746A61D81719   path : /volume1/솔림헬프/1.원인서류/우담-01/20460454/20460454_한광복_원인서류_양통 우담.pdf\n",
      "삭제하였습니다.\n",
      "kcs : 20461393B064D53081435   path : /volume1/솔림헬프/1.원인서류/우담-01/20461393/20461393_박분희_원인서류_양통 우담.pdf\n",
      "삭제하였습니다.\n",
      "kcs : 2046142700CF06CA76559   path : /volume1/솔림헬프/1.원인서류/우담-01/20461427/20461427_김지연_원인서류_양통 우담.pdf\n",
      "삭제하였습니다.\n",
      "kcs : 20462009EB4B917692243   path : /volume1/솔림헬프/1.원인서류/우담-01/20462009/20462009_김철우_원인서류_양통 우담.pdf\n",
      "삭제하였습니다.\n",
      "kcs : 204620248D4902A2134829   path : /volume1/솔림헬프/1.원인서류/우담-01/20462024/20462024_김병환_원인서류_양통 우담.pdf\n",
      "삭제하였습니다.\n",
      "kcs : 204622012ED2871962208   path : /volume1/솔림헬프/1.원인서류/우담-01/20462201/20462201_변영일_원인서류_양통 우담.pdf\n",
      "삭제하였습니다.\n",
      "kcs : 20462364C90B2FA1302221   path : /volume1/솔림헬프/1.원인서류/우담-01/20462364/20462364_변은영_원인서류_양통 우담.pdf\n",
      "삭제하였습니다.\n",
      "kcs : 204624413D9D2D6681855   path : /volume1/솔림헬프/1.원인서류/우담-01/20462441/20462441_김정훈_원인서류_양통 우담.pdf\n",
      "삭제하였습니다.\n",
      "kcs : 204626186A324630242924   path : /volume1/솔림헬프/1.원인서류/우담-01/20462618/20462618_칸아타올래만_원인서류_양통 우담.pdf\n",
      "삭제하였습니다.\n",
      "kcs : 20462712D32F54A387495   path : /volume1/솔림헬프/1.원인서류/우담-01/20462712/20462712_정해승_원인서류_양통 우담.pdf\n",
      "삭제하였습니다.\n",
      "kcs : 2046454351213E6A94003   path : /volume1/솔림헬프/1.원인서류/우담-01/20464543/20464543_최재영_원인서류_양통 우담.pdf\n",
      "삭제하였습니다.\n",
      "kcs : 204646677CC0A3D4743080   path : /volume1/솔림헬프/1.원인서류/우담-01/20464667/20464667_김수정_원인서류_양통 우담.pdf\n",
      "삭제하였습니다.\n",
      "kcs : 2046490843315FFC92063   path : /volume1/솔림헬프/1.원인서류/우담-01/20464908/20464908_황금선_원인서류_양통 우담.pdf\n",
      "삭제하였습니다.\n",
      "D:\\업로드완료\\서울 채권별 20우담 1매입전 양통\\20465124 10650419 200618154113_0001 양통 우담 원인서류.pdf 204651241640435662564 없는 키값\n",
      "kcs : 20465134BD9D65BF319602   path : /volume1/솔림헬프/1.원인서류/우담-01/20465134/20465134_김지애_원인서류_양통 우담.pdf\n",
      "삭제하였습니다.\n",
      "D:\\업로드완료\\서울 채권별 20우담 1매입전 양통\\20465242 10627960 20210729152511 양통 우담 원인서류.pdf 204652421025E3B378735 없는 키값\n",
      "kcs : 204653904EABAED856528   path : /volume1/솔림헬프/1.원인서류/우담-01/20465390/20465390_이재찬_원인서류_양통 우담.pdf\n",
      "삭제하였습니다.\n",
      "kcs : 2046599441706E4D158920   path : /volume1/솔림헬프/1.원인서류/우담-01/20465994/20465994_김민정_원인서류_양통 우담.pdf\n",
      "삭제하였습니다.\n",
      "kcs : 20465994C4E94BF649492   path : /volume1/솔림헬프/1.원인서류/우담-01/20465994/20465994_김민정_원인서류_양통 우담.pdf\n",
      "삭제하였습니다.\n",
      "kcs : 2046603149D038BA177747   path : /volume1/솔림헬프/1.원인서류/우담-01/20466031/20466031_윤예지_원인서류_양통 우담.pdf\n",
      "삭제하였습니다.\n",
      "kcs : 2046611569E66803156319   path : /volume1/솔림헬프/1.원인서류/우담-01/20466115/20466115_백성목_원인서류_양통 우담.pdf\n",
      "삭제하였습니다.\n"
     ]
    }
   ],
   "source": [
    "# 폴더 내 파일 전체 삭제\n",
    "path = r\"D:\\업로드완료\\서울 채권별 20우담 1매입전 양통\"\n",
    "for f in os.listdir(path) :\n",
    "    path_192 = os.path.join(path, f)\n",
    "    delete_kcs(path_192, dict_kcs)\n"
   ]
  },
  {
   "cell_type": "code",
   "execution_count": 7,
   "metadata": {},
   "outputs": [],
   "source": [
    "# 쓰기\n",
    "write_cks(path_kcs, dict_kcs)"
   ]
  },
  {
   "cell_type": "code",
   "execution_count": null,
   "metadata": {},
   "outputs": [],
   "source": []
  }
 ],
 "metadata": {
  "kernelspec": {
   "display_name": "Python 3.9.13 ('base')",
   "language": "python",
   "name": "python3"
  },
  "language_info": {
   "codemirror_mode": {
    "name": "ipython",
    "version": 3
   },
   "file_extension": ".py",
   "mimetype": "text/x-python",
   "name": "python",
   "nbconvert_exporter": "python",
   "pygments_lexer": "ipython3",
   "version": "3.9.13 | packaged by conda-forge | (main, May 27 2022, 16:50:36) [MSC v.1929 64 bit (AMD64)]"
  },
  "orig_nbformat": 4,
  "vscode": {
   "interpreter": {
    "hash": "50ba2c93e3505a279245e213c77d9791c626788d8ca8a61b8db804927ca08a39"
   }
  }
 },
 "nbformat": 4,
 "nbformat_minor": 2
}
