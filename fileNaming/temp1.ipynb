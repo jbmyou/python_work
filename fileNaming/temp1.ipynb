{
 "cells": [
  {
   "cell_type": "code",
   "execution_count": 21,
   "metadata": {},
   "outputs": [],
   "source": [
    "import pandas as pd\n",
    "import numpy as np\n",
    "import pickle\n",
    "import re\n",
    "import os\n",
    "from os.path import join\n",
    "from tqdm import tqdm\n",
    "from datetime import datetime\n",
    "from openpyxl.utils.dataframe import dataframe_to_rows\n",
    "from openpyxl.styles import Font, PatternFill, Alignment, Border, Side\n",
    "from openpyxl import Workbook\n",
    "from file_function import read_filelist, re_name_upload, write_log_csv_upload\n",
    "wd = r'D:\\scan'"
   ]
  },
  {
   "cell_type": "markdown",
   "metadata": {},
   "source": [
    "### 시효완성일 > 시효완성월 작업하기"
   ]
  },
  {
   "cell_type": "code",
   "execution_count": 22,
   "metadata": {},
   "outputs": [],
   "source": [
    "merged_raw = pd.read_excel(r\"D:\\3.자산\\전산 dataset\\솔림\\230926\\output1\\POOL8_데이터_230926_발송.xlsx\", sheet_name=\"무담보\", dtype=str)"
   ]
  },
  {
   "cell_type": "code",
   "execution_count": 23,
   "metadata": {},
   "outputs": [],
   "source": [
    "# 마지막 작업 : 시효완성월 전체 수정(새시효완성일에 대해)\n",
    "basedate = \"230926\"\n",
    "기준일 = pd.Timestamp(\"20\"+basedate[:4]+\"01\")\n",
    "\n",
    "# 함수벡터화\n",
    "merged_raw[\"시효완성일\"] = pd.to_datetime(merged_raw[\"시효완성일\"])  # 시효완성일을 날짜 형식으로 변환\n",
    "merged_raw[\"시효완성월_계산\"] = (merged_raw[\"시효완성일\"].dt.year - 기준일.year) * 12 + (merged_raw[\"시효완성일\"].dt.month - 기준일.month)\n",
    "\n",
    "# 버릴 시효완성월_ 작성\n",
    "x = merged_raw[\"시효완성월_계산\"]\n",
    "conds = [(x<0) | pd.isna(x), x<1, x<2, x<3, x<4, x<5, x<6, x<12, x>=12]\n",
    "values = [\"시효만료\", \"당월도래\", \"1개월\", \"2개월\", \"3개월\", \"4개월\", \"5개월\", \"1년이내\", \"1년이후\"]\n",
    "merged_raw[\"시효완성월_계산\"] = np.select(conds, values)\n",
    "\n",
    "# 시효완성월과 시효사유 : 압류로 인한 중단 반영\n",
    "merged_raw['시효완성월'] = np.where(merged_raw.시효완성월==\"중단\", merged_raw.시효완성월, merged_raw.시효완성월_계산)\n",
    "merged_raw['시효사유'] = np.where(merged_raw.시효완성월==\"중단\", merged_raw.시효사유, merged_raw.시효사유)\n",
    "\n",
    "# raw_data 저장 : 타입원복 및 불필요한 열 제거\n",
    "# raw_data = merged_raw.iloc[:,:-5] # 시효확인필요, 시효완성일_, 시효사유_, 시효완성월_, 시효완성월_계산 제거\n",
    "merged_raw[\"시효완성일\"] = merged_raw[\"시효완성일\"].apply(lambda x: pd.Timestamp(x).strftime(\"%Y-%m-%d\") if pd.notna(x) else \"\")\n",
    "\n",
    "merged_raw.to_excel(r\"D:\\3.자산\\전산 dataset\\솔림\\230926\\output1\\xx.xlsx\", index=False)"
   ]
  },
  {
   "cell_type": "markdown",
   "metadata": {},
   "source": [
    "### 이름 순서대로 바꾸기 WITH 엑셀파일"
   ]
  },
  {
   "cell_type": "code",
   "execution_count": null,
   "metadata": {},
   "outputs": [],
   "source": [
    "# 엑셀파일 읽기\n",
    "##################################################\n",
    "df_valid = pd.read_excel(join(r\"D:\\3.자산\\프로젝트\\2023 실물증서정리\\광주\\230828 스캔추가작업\", \"광주 스캔작업_230828.xlsx\"), dtype=str).dropna(subset=['원인서류', '양도통지서', '법원문서'], how='all')\n",
    "df_valid"
   ]
  },
  {
   "cell_type": "code",
   "execution_count": null,
   "metadata": {},
   "outputs": [],
   "source": [
    "# 파일명 리스트 만들기\n",
    "filename_list = []\n",
    "for i, v in df_valid.iterrows() :\n",
    "    filename = v.채무자키 + \" \" + v.채무자명\n",
    "    if pd.notna(v.원인서류) :\n",
    "        max = int(v.원인서류)\n",
    "        for num in range(1, max+1) : \n",
    "            last_filename = filename + \" 원인서류 \" + str(num)\n",
    "            filename_list.append(last_filename)\n",
    "    if pd.notna(v.양도통지서) : \n",
    "        max = int(v.양도통지서)\n",
    "        for num in range(1, max+1) : \n",
    "            last_filename = filename + \" 양도통지서\" + str(num)\n",
    "            filename_list.append(last_filename)\n",
    "    if pd.notna(v.법원문서) : \n",
    "        max = int(v.법원문서)\n",
    "        for num in range(1, max+1) : \n",
    "            last_filename = filename + \" 법원문서\" + str(num)\n",
    "            filename_list.append(last_filename)\n"
   ]
  },
  {
   "cell_type": "code",
   "execution_count": null,
   "metadata": {},
   "outputs": [],
   "source": [
    "# 스캔파일 목록\n",
    "path = wd\n",
    "file_list = read_filelist(path) # 탐색기 정렬과 무관하게 이름 오름차순으로 정렬된 리스트 반환"
   ]
  },
  {
   "cell_type": "code",
   "execution_count": null,
   "metadata": {},
   "outputs": [],
   "source": [
    "# 통합\n",
    "df = pd.DataFrame({\"after\" : filename_list, \"before\" : file_list})"
   ]
  },
  {
   "cell_type": "code",
   "execution_count": null,
   "metadata": {},
   "outputs": [],
   "source": [
    "# df 한행씩 불러와서 파일명 바꾸기\n",
    "success, fail = [], []\n",
    "for i, v in df.iterrows() :\n",
    "    \n",
    "    ext = os.path.splitext(v.before)[1]\n",
    "    try :\n",
    "        os.rename(join(path, v.before), join(path, v.after + ext))\n",
    "        success.append([path, v.before, v.after])\n",
    "    except Exception as e :\n",
    "        fail.append([path, v.before, v.after, e.__class__])\n",
    "        continue\n",
    "print(f\"총 {len(df)}개 중, {len(success)}개 파일명 변경, {len(fail)}개 파일명 변경 실패\")"
   ]
  },
  {
   "cell_type": "code",
   "execution_count": null,
   "metadata": {},
   "outputs": [],
   "source": [
    "df17[~df17.채무상태.str.contains(\"신용회복\")&~df17.채무상태.str.contains(\"종결\") & df17.담당자.str.contains(\"신용회복\")][[\"채무자키\", \"채권구분\",\"성명\",\"채무상태\",\"담당자\",\"보증인수\"]]"
   ]
  },
  {
   "cell_type": "code",
   "execution_count": null,
   "metadata": {},
   "outputs": [],
   "source": [
    "path = r\"\\\\192.168.0.75\\솔림헬프\\1.원인서류\\전북-01\"\n",
    "p_extension = re.compile('녹취|m4a|wav|mp[34]') \n",
    "result = []\n",
    "for root, dirs, files in os.walk(path) :\n",
    "    for d in dirs : \n",
    "        if len(read_filelist(join(root, d))) == 0 :\n",
    "            print(d)"
   ]
  },
  {
   "cell_type": "code",
   "execution_count": null,
   "metadata": {},
   "outputs": [],
   "source": [
    "rst_df = pd.DataFrame(data=result, columns=[\"root\", \"filename\"])\n",
    "rst_df.to_excel('./녹취파일.xlsx', index=False)"
   ]
  },
  {
   "cell_type": "code",
   "execution_count": null,
   "metadata": {},
   "outputs": [],
   "source": [
    "from os.path import join\n",
    "import pickle\n",
    "import pandas as pd\n",
    "\n",
    "with open(join(path_dict, \"outList.pkl\"), 'rb') as pkl : outList = pickle.load(pkl)"
   ]
  },
  {
   "cell_type": "code",
   "execution_count": null,
   "metadata": {},
   "outputs": [],
   "source": [
    "path_dict = r'\\\\192.168.0.75\\스캔파일\\스캔파일log\\_project\\대성파일\\중복조사' \n",
    "with open(join(path_dict, \"kcs별 파일정보_대성.pkl\"), 'rb') as pkl : outList = pickle.load(pkl)\n",
    "outList"
   ]
  },
  {
   "cell_type": "code",
   "execution_count": null,
   "metadata": {},
   "outputs": [],
   "source": []
  },
  {
   "cell_type": "code",
   "execution_count": null,
   "metadata": {},
   "outputs": [],
   "source": []
  },
  {
   "cell_type": "code",
   "execution_count": null,
   "metadata": {},
   "outputs": [],
   "source": []
  },
  {
   "cell_type": "code",
   "execution_count": null,
   "metadata": {},
   "outputs": [],
   "source": []
  },
  {
   "cell_type": "code",
   "execution_count": null,
   "metadata": {},
   "outputs": [],
   "source": []
  }
 ],
 "metadata": {
  "kernelspec": {
   "display_name": "base",
   "language": "python",
   "name": "python3"
  },
  "language_info": {
   "codemirror_mode": {
    "name": "ipython",
    "version": 3
   },
   "file_extension": ".py",
   "mimetype": "text/x-python",
   "name": "python",
   "nbconvert_exporter": "python",
   "pygments_lexer": "ipython3",
   "version": "3.9.13"
  },
  "orig_nbformat": 4,
  "vscode": {
   "interpreter": {
    "hash": "38d617750889899e5f2f65cac6f27a322f361a63d334879a800ee5491961f90c"
   }
  }
 },
 "nbformat": 4,
 "nbformat_minor": 2
}
