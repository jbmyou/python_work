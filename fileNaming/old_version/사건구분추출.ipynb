{
 "cells": [
  {
   "cell_type": "code",
   "execution_count": 7,
   "metadata": {},
   "outputs": [],
   "source": [
    "import os\n",
    "import pandas as pd\n",
    "from tqdm import tqdm\n",
    "import re"
   ]
  },
  {
   "cell_type": "code",
   "execution_count": 8,
   "metadata": {},
   "outputs": [],
   "source": [
    "path = r'\\\\192.168.0.75\\솔림헬프\\3.집행권원'\n",
    "file_list = os.walk(path)\n",
    "\n",
    "p_event = re.compile(r\"(?<=\\D)\\d{4}([ㄱ-ㅎ가-힣]{1,3})\\d+\")\n",
    "\n",
    "result = {}\n",
    "cnt = 0"
   ]
  },
  {
   "cell_type": "code",
   "execution_count": 10,
   "metadata": {},
   "outputs": [
    {
     "name": "stderr",
     "output_type": "stream",
     "text": [
      "0it [00:00, ?it/s]\n"
     ]
    },
    {
     "ename": "TypeError",
     "evalue": "argument of type 'type' is not iterable",
     "output_type": "error",
     "traceback": [
      "\u001b[1;31m---------------------------------------------------------------------------\u001b[0m",
      "\u001b[1;31mTypeError\u001b[0m                                 Traceback (most recent call last)",
      "\u001b[1;32mc:\\Users\\SL\\Desktop\\workspace\\python\\fileNaming\\사건구분추출.ipynb 셀 3\u001b[0m in \u001b[0;36m<cell line: 1>\u001b[1;34m()\u001b[0m\n\u001b[0;32m      <a href='vscode-notebook-cell:/c%3A/Users/SL/Desktop/workspace/python/fileNaming/%EC%82%AC%EA%B1%B4%EA%B5%AC%EB%B6%84%EC%B6%94%EC%B6%9C.ipynb#W2sZmlsZQ%3D%3D?line=2'>3</a>\u001b[0m \u001b[39mif\u001b[39;00m p_event\u001b[39m.\u001b[39msearch(f) :\n\u001b[0;32m      <a href='vscode-notebook-cell:/c%3A/Users/SL/Desktop/workspace/python/fileNaming/%EC%82%AC%EA%B1%B4%EA%B5%AC%EB%B6%84%EC%B6%94%EC%B6%9C.ipynb#W2sZmlsZQ%3D%3D?line=3'>4</a>\u001b[0m     k \u001b[39m=\u001b[39m p_event\u001b[39m.\u001b[39msearch(f)\u001b[39m.\u001b[39mgroup(\u001b[39m1\u001b[39m)\n\u001b[1;32m----> <a href='vscode-notebook-cell:/c%3A/Users/SL/Desktop/workspace/python/fileNaming/%EC%82%AC%EA%B1%B4%EA%B5%AC%EB%B6%84%EC%B6%94%EC%B6%9C.ipynb#W2sZmlsZQ%3D%3D?line=4'>5</a>\u001b[0m     \u001b[39mif\u001b[39;00m k \u001b[39mnot\u001b[39;49;00m \u001b[39min\u001b[39;49;00m \u001b[39mdict\u001b[39;49m :\n\u001b[0;32m      <a href='vscode-notebook-cell:/c%3A/Users/SL/Desktop/workspace/python/fileNaming/%EC%82%AC%EA%B1%B4%EA%B5%AC%EB%B6%84%EC%B6%94%EC%B6%9C.ipynb#W2sZmlsZQ%3D%3D?line=5'>6</a>\u001b[0m         result[k] \u001b[39m=\u001b[39m f\n\u001b[0;32m      <a href='vscode-notebook-cell:/c%3A/Users/SL/Desktop/workspace/python/fileNaming/%EC%82%AC%EA%B1%B4%EA%B5%AC%EB%B6%84%EC%B6%94%EC%B6%9C.ipynb#W2sZmlsZQ%3D%3D?line=6'>7</a>\u001b[0m     \u001b[39melse\u001b[39;00m : \n",
      "\u001b[1;31mTypeError\u001b[0m: argument of type 'type' is not iterable"
     ]
    }
   ],
   "source": [
    "for root, __dir__, files in tqdm(file_list) :\n",
    "    for f in files :\n",
    "        if p_event.search(f) :\n",
    "            k = p_event.search(f).group(1)\n",
    "            if k not in result :\n",
    "                result[k] = [f]\n",
    "            else : \n",
    "                result[k].append(f)\n",
    "                cnt += 1\n",
    "print(f'{cnt}개 파일 검색')\n",
    "print(result.keys())"
   ]
  },
  {
   "cell_type": "code",
   "execution_count": 6,
   "metadata": {},
   "outputs": [
    {
     "data": {
      "text/html": [
       "<div>\n",
       "<style scoped>\n",
       "    .dataframe tbody tr th:only-of-type {\n",
       "        vertical-align: middle;\n",
       "    }\n",
       "\n",
       "    .dataframe tbody tr th {\n",
       "        vertical-align: top;\n",
       "    }\n",
       "\n",
       "    .dataframe thead th {\n",
       "        text-align: right;\n",
       "    }\n",
       "</style>\n",
       "<table border=\"1\" class=\"dataframe\">\n",
       "  <thead>\n",
       "    <tr style=\"text-align: right;\">\n",
       "      <th></th>\n",
       "      <th>0</th>\n",
       "    </tr>\n",
       "  </thead>\n",
       "  <tbody>\n",
       "    <tr>\n",
       "      <th>a</th>\n",
       "      <td>1</td>\n",
       "    </tr>\n",
       "    <tr>\n",
       "      <th>b</th>\n",
       "      <td>[1, 2, 3]</td>\n",
       "    </tr>\n",
       "    <tr>\n",
       "      <th>c</th>\n",
       "      <td>[1, 2]</td>\n",
       "    </tr>\n",
       "  </tbody>\n",
       "</table>\n",
       "</div>"
      ],
      "text/plain": [
       "           0\n",
       "a          1\n",
       "b  [1, 2, 3]\n",
       "c     [1, 2]"
      ]
     },
     "execution_count": 6,
     "metadata": {},
     "output_type": "execute_result"
    }
   ],
   "source": [
    "df = pd.DataFrame.from_dict(result, orient=\"index\")\n",
    "df"
   ]
  },
  {
   "cell_type": "code",
   "execution_count": null,
   "metadata": {},
   "outputs": [],
   "source": []
  },
  {
   "cell_type": "code",
   "execution_count": null,
   "metadata": {},
   "outputs": [],
   "source": []
  },
  {
   "cell_type": "code",
   "execution_count": null,
   "metadata": {},
   "outputs": [],
   "source": []
  },
  {
   "cell_type": "code",
   "execution_count": null,
   "metadata": {},
   "outputs": [],
   "source": []
  },
  {
   "cell_type": "code",
   "execution_count": null,
   "metadata": {},
   "outputs": [],
   "source": []
  },
  {
   "cell_type": "code",
   "execution_count": null,
   "metadata": {},
   "outputs": [],
   "source": []
  }
 ],
 "metadata": {
  "kernelspec": {
   "display_name": "Python 3.9.12 ('base')",
   "language": "python",
   "name": "python3"
  },
  "language_info": {
   "codemirror_mode": {
    "name": "ipython",
    "version": 3
   },
   "file_extension": ".py",
   "mimetype": "text/x-python",
   "name": "python",
   "nbconvert_exporter": "python",
   "pygments_lexer": "ipython3",
   "version": "3.9.12"
  },
  "orig_nbformat": 4,
  "vscode": {
   "interpreter": {
    "hash": "50ba2c93e3505a279245e213c77d9791c626788d8ca8a61b8db804927ca08a39"
   }
  }
 },
 "nbformat": 4,
 "nbformat_minor": 2
}
