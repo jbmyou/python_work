{
 "cells": [
  {
   "cell_type": "markdown",
   "metadata": {},
   "source": [
    "### import 및 기초작업\n",
    "- 기본은 직접입력, (최초 or 신고당시)이자채권 또는 특수한 경우 입금순서적용(발견하는대로 리스트에 추가)\n",
    "- 신복 입금원금은 전산에서 원금-비용 순으로 차감\n",
    "- 신복 이자, 기타채무는 전산에서 미수-연체 순으로 차감"
   ]
  },
  {
   "cell_type": "code",
   "execution_count": 1,
   "metadata": {},
   "outputs": [],
   "source": [
    "import os, re\n",
    "import pandas as pd\n",
    "import numpy as np\n",
    "from os.path import join\n",
    "from tqdm import tqdm\n",
    "from datetime import datetime, timedelta\n",
    "import warnings\n",
    "warnings.simplefilter(\"ignore\")\n",
    "pd.options.display.float_format = '{:,.0f}'.format\n",
    "\n",
    "def get_previous_weekday_yymmdd(date):\n",
    "    \"\"\"날짜를 받아 이전 마지막 평일 날짜 yymmdd return\"\"\"\n",
    "    # 전일\n",
    "    date = date - timedelta(days=1)\n",
    "    # 전일부터 하루씩 차감하면서 평일이면 return\n",
    "    while date.weekday() > 4:  # 월요일은 0이고, 금요일은 4\n",
    "        date -= timedelta(days=1)\n",
    "    return date.strftime('%y%m%d')\n",
    "\n",
    "def 파일명(폴더:str, 키워드:str, 부정키워드=\"\") :\n",
    "    file_list = os.listdir(폴더)\n",
    "    if 부정키워드 == \"\" : \n",
    "        fn = [file for file in file_list if re.search(키워드, file)]\n",
    "    else : \n",
    "        fn = [file for file in file_list if (re.search(키워드, file)!=None) & (re.search(부정키워드,file)==None)]\n",
    "    if len(fn) == 1 :\n",
    "        return join(폴더,fn[0])\n",
    "    else :\n",
    "        print(\"조건을 만족하는 파일이 둘 이상입니다.\")\n",
    "        \n",
    "def 입금항목현재항목(입금순서:str) :\n",
    "    \"\"\"입금순서를 받아 입금항목명리스트와 현재항목명리스트 (2차원)를 반환\"\"\"\n",
    "    입금순서 = re.sub('\\d',\"\",입금순서)\n",
    "    입금순서 = re.sub('법비용', \"입금법비용\", 입금순서)\n",
    "    입금순서 = re.sub('미수', \"입금미수이자\", 입금순서)\n",
    "    입금순서 = re.sub('연체', \"입금연체이자\", 입금순서)\n",
    "    입금순서 = re.sub('원금', \"입금원금\", 입금순서)\n",
    "    입금항목들 = 입금순서.split(' ')\n",
    "    현재항목들 = [re.sub('입금', '현재', item) for item in 입금항목들]\n",
    "    return 입금항목들, 현재항목들\n",
    "        \n",
    "        \n",
    "credit_deposit_dtype = {\"No.\":str, \"채무자키\" : str, \"계좌키\":str, \"담당자키\":str, \"타입금키\":str, \"납입회차\":str, \"계좌번호\":str}\n",
    "account_dtype = {'채무자키':str, '계좌키':str, '계좌번호':str}"
   ]
  },
  {
   "cell_type": "code",
   "execution_count": 9,
   "metadata": {},
   "outputs": [
    {
     "name": "stdout",
     "output_type": "stream",
     "text": [
      "240528\n"
     ]
    }
   ],
   "source": [
    "# 어차피 계좌정보 읽으려면 입금창에서 키매칭 작업 해야함.\n",
    "# 입금창에서 최초원금, 현재금액들 불어와 준다면 더욱 더 키매칭 작업을 하는게 효율적\n",
    "# 입금경로1 : 신용회복변제금상환 파일 양식에 금액 조정 해주고, 입금순서 컬럼추가 > 신용회복 입금\n",
    "# 입금경로2 : 신용회복 to 항목별입금 > 유틸리티 항목별입금\n",
    "# 중복건 입금 순서는 No.도 아니고 회차도 아니고 행순서대로 먼저 적용됨. 따라서 회차별로 정렬하면 됨\n",
    "\n",
    "################################\n",
    "company = \"솔림\" # 솔림 or 대성\n",
    "workday = \"\" # 특별히 원하는 날짜 없으면 빈문자열로 남겨둘것\n",
    "입금순서기본값 = \"1법비용 2미수 3연체 4원금\"\n",
    "################################\n",
    "\n",
    "# 입금일(최근 평일 or 선택일)\n",
    "if workday == \"\" : \n",
    "    # 오늘 이전 중 가장 가까운 평일 날짜 가져오기\n",
    "    workday = get_previous_weekday_yymmdd(datetime.today())\n",
    "    \n",
    "year = \"20\"+workday[:2] # 2024\n",
    "\n",
    "# 경로 및 파일명 : 키매칭 파일, 계좌 \n",
    "wd = join(r\"D:\\3.자산\\신용회복\\신용회복 to 일반입금\", company, year)\n",
    "fn_credit_deposit = workday+\"_일괄입금구분_\"+company+\".xlsx\"\n",
    "fn_account = workday+\"_계좌_\"+company+\".xlsx\"\n",
    "print(workday)"
   ]
  },
  {
   "cell_type": "markdown",
   "metadata": {},
   "source": [
    "### 재작업 시작점"
   ]
  },
  {
   "cell_type": "markdown",
   "metadata": {},
   "source": [
    "##### 1.파일읽기"
   ]
  },
  {
   "cell_type": "code",
   "execution_count": 13,
   "metadata": {},
   "outputs": [
    {
     "name": "stdout",
     "output_type": "stream",
     "text": [
      "입금순서 적용할 계좌키 수 :  57\n",
      "타입금키 중복체크 : False만 있어야\n",
      "타입금키\n",
      "False    1533\n",
      "Name: count, dtype: int64\n"
     ]
    }
   ],
   "source": [
    "# 오류 아니라서 직접입력 아니라 입금순서 적용할 필요가 있는 건 : 최초금액은 있으나, 채권신고당시 현재원금이 0원 / 허위신고의심but최초금액수정안하기로한것\n",
    "temp = pd.read_excel(r'D:\\3.자산\\신용회복\\신용회복 to 일반입금\\입금순서적용할건.xlsx',sheet_name=company, dtype={\"채무자키\":str, \"계좌키\":str})\n",
    "입금순서적용계좌키 = temp.계좌키.to_list()\n",
    "\n",
    "print(\"입금순서 적용할 계좌키 수 : \", len(입금순서적용계좌키))\n",
    "\n",
    "cre_dep_ori = pd.read_excel(join(wd, fn_credit_deposit), dtype = credit_deposit_dtype).fillna(\"\")\n",
    "account_ori = pd.read_excel(join(wd, fn_account), dtype = account_dtype).fillna(\"\")\n",
    "\n",
    "# 타입금키에 중복있는지 체크\n",
    "print(\"타입금키 중복체크 : False만 있어야\")\n",
    "print(cre_dep_ori.타입금키.duplicated().value_counts())\n",
    "\n",
    "# 입금법비용 칼럼 만들기, 입금비고에 회차적기\n",
    "cre_dep_ori[\"입금법비용\"] = 0\n",
    "cre_dep_ori[\"입금비고\"] = cre_dep_ori[\"납입회차\"]"
   ]
  },
  {
   "cell_type": "markdown",
   "metadata": {},
   "source": [
    "##### 2.재분배 및 오류체크"
   ]
  },
  {
   "cell_type": "code",
   "execution_count": 14,
   "metadata": {},
   "outputs": [
    {
     "name": "stderr",
     "output_type": "stream",
     "text": [
      "100%|██████████| 1533/1533 [00:00<00:00, 20238.68it/s]"
     ]
    },
    {
     "name": "stdout",
     "output_type": "stream",
     "text": [
      "오류!!! 합계비교 0이 아닌 건\n"
     ]
    },
    {
     "name": "stderr",
     "output_type": "stream",
     "text": [
      "\n"
     ]
    },
    {
     "data": {
      "text/html": [
       "<div>\n",
       "<style scoped>\n",
       "    .dataframe tbody tr th:only-of-type {\n",
       "        vertical-align: middle;\n",
       "    }\n",
       "\n",
       "    .dataframe tbody tr th {\n",
       "        vertical-align: top;\n",
       "    }\n",
       "\n",
       "    .dataframe thead th {\n",
       "        text-align: right;\n",
       "    }\n",
       "</style>\n",
       "<table border=\"1\" class=\"dataframe\">\n",
       "  <thead>\n",
       "    <tr style=\"text-align: right;\">\n",
       "      <th></th>\n",
       "      <th>No.</th>\n",
       "      <th>채무자키</th>\n",
       "      <th>계좌키</th>\n",
       "      <th>담당자키</th>\n",
       "      <th>입금구분</th>\n",
       "      <th>입금순서</th>\n",
       "      <th>입금기타</th>\n",
       "      <th>타입금키</th>\n",
       "      <th>입금메모</th>\n",
       "      <th>리파이낸싱</th>\n",
       "      <th>...</th>\n",
       "      <th>입금법비용_원본</th>\n",
       "      <th>입금미수이자_원본</th>\n",
       "      <th>입금연체이자_원본</th>\n",
       "      <th>입금합계_원본</th>\n",
       "      <th>원금비교</th>\n",
       "      <th>법비용비교</th>\n",
       "      <th>미수비교</th>\n",
       "      <th>연체비교</th>\n",
       "      <th>합계비교</th>\n",
       "      <th>수정여부</th>\n",
       "    </tr>\n",
       "  </thead>\n",
       "  <tbody>\n",
       "  </tbody>\n",
       "</table>\n",
       "<p>0 rows × 52 columns</p>\n",
       "</div>"
      ],
      "text/plain": [
       "Empty DataFrame\n",
       "Columns: [No., 채무자키, 계좌키, 담당자키, 입금구분, 입금순서, 입금기타, 타입금키, 입금메모, 리파이낸싱, 확인결과, 엑셀저장결과, 납입회차, 일시납감면율, 입금일, 지점명, 입금자, 주민번호, 지원구분, 입금자구분, 주채무자주민번호, 주채무자, 계좌번호, 입금원금, 입금미수이자, 입금연체이자, 입금합계, 확정채권금액, 입금은행, 입금계좌번호, 지로코드, 입금법비용, 입금비고, 계좌키빈도, 최초원금, 현재원금, 현재법비용, 현재미수이자, 현재연체이자, 현재합계, 오류, 입금원금_원본, 입금법비용_원본, 입금미수이자_원본, 입금연체이자_원본, 입금합계_원본, 원금비교, 법비용비교, 미수비교, 연체비교, 합계비교, 수정여부]\n",
       "Index: []\n",
       "\n",
       "[0 rows x 52 columns]"
      ]
     },
     "metadata": {},
     "output_type": "display_data"
    }
   ],
   "source": [
    "cre_dep = cre_dep_ori.copy()\n",
    "account = account_ori.copy()[[\"계좌키\", \"최초원금\", \"현재원금\", \"현재법비용\", \"현재미수이자\", \"현재연체이자\", \"현재합계\"]]\n",
    "# 입금파일 계좌키,납입회차 순으로 정렬\n",
    "cre_dep.sort_values([\"계좌키\", \"납입회차\"], inplace=True)\n",
    "\n",
    "# '계좌키' 열에서 각 값의 누적 빈도를 계산하여 새로운 열 '계좌키_누적빈도'에 추가\n",
    "cre_dep['계좌키빈도'] = cre_dep.groupby('계좌키').cumcount() + 1\n",
    "\n",
    "# 최초금액 및 현재금액 병합 - 인덱스 새로 부여됨\n",
    "cre_dep = cre_dep.merge(account, how='left')\n",
    "# 변수에 담으면 인덱스가 재설정되긴 하던데, 혹시 모르니 확실하게. 아래 반복문에서 i-1을 하려면 필수!\n",
    "cre_dep.reset_index(drop=True, inplace=True)\n",
    "\n",
    "# 직접입력 대신 입금순서 작성하기 - 이자채권류 : 최초원금 10원미만, 신고당시 이자채권--------------------\n",
    "# 그러나 결국은 분배를 내가 해줘야 항목별입금을 사용할 수 있다.\n",
    "입금항목들, 현재항목들 = 입금항목현재항목(입금순서기본값)\n",
    "입금순서cond = (cre_dep.계좌키.isin(입금순서적용계좌키) | (cre_dep.최초원금<10) )\n",
    "cre_dep[\"입금순서\"] = np.where(입금순서cond, 입금순서기본값, cre_dep.입금순서)\n",
    "#--------------------------------------------------------------------------------------------------\n",
    "\n",
    "# 오류열 만들고 이미 오류난 거 체크\n",
    "cond = (cre_dep.현재원금<0) | (cre_dep.현재법비용<0) | (cre_dep.현재미수이자<0) | (cre_dep.현재연체이자<0)\n",
    "cre_dep[\"오류\"] = np.where(cond, \"오류\", \"\")\n",
    "for i, v in tqdm(cre_dep.iterrows(), total = len(cre_dep)) : \n",
    "    # 단건 또는 다건 중 가장 앞선 회차\n",
    "    if v.계좌키빈도 == 1 :\n",
    "        # 입금순서 : 분배는 나우리로 하므로 합계만 따지면 됨\n",
    "        if v.입금순서 != \"직접입력\" :\n",
    "            # 오류 체크\n",
    "            if v.입금합계 > v.현재합계 : cre_dep.loc[i, \"오류\"] = \"오류\"\n",
    "            # 정상건 : 입금분배 - 잔여합계가 0이 될때까지\n",
    "            else :\n",
    "                # 나우리 분배건 초기화\n",
    "                cre_dep.loc[i,[\"입금원금\", \"입금법비용\", \"입금미수이자\", \"입금연체이자\"]] = 0\n",
    "                \n",
    "                # 분배 재작업\n",
    "                잔여합계 = v.입금합계\n",
    "                for 입금항목, 현재항목 in zip(입금항목들, 현재항목들) : \n",
    "                    항목입금액 = min(cre_dep.loc[i,현재항목], 잔여합계)\n",
    "                    # 항목별 입금액 배정\n",
    "                    cre_dep.loc[i, 입금항목] = 항목입금액\n",
    "                    # 잔여합계금 재계산\n",
    "                    잔여합계 -= 항목입금액\n",
    "                    # 잔여금이 0이면 종료\n",
    "                    if 잔여합계 == 0 : break\n",
    "                \n",
    "        # 직접입력 : 입금미수이자와 연체이자는 나우리가 자동으로 나눈다. 혹시 -값이 있는지만 확인\n",
    "        # 입금원금을 원금-비용 순으로 바꿔준다.(순서는 상관없다. 실효되면 원상회복 할거니까. 다만 실효전 부채증명서 발급시 비용은 감면이 안 돼서 오히려 유리)\n",
    "        else : \n",
    "            # 원금 오류 체크 - 이자와 별도로 해야함\n",
    "            if (v.입금원금 > v.현재원금) :\n",
    "                입금법비용 = v.입금원금 - v.현재원금\n",
    "                if 입금법비용 > v.현재법비용 : \n",
    "                    cre_dep.loc[i, \"오류\"] = \"오류\"\n",
    "                else : \n",
    "                    cre_dep.loc[i, \"입금원금\"] = cre_dep.loc[i, \"현재원금\"]\n",
    "                    cre_dep.loc[i, \"입금법비용\"] = 입금법비용\n",
    "\n",
    "            # 이자 오류 체크 \n",
    "            if (v.입금미수이자 > v.현재미수이자) or (v.입금연체이자 > v.현재연체이자) : \n",
    "                cre_dep.loc[i, \"오류\"] = \"오류\"\n",
    "            \n",
    "            \n",
    "            \n",
    "    # 다건 중 나중 회차 \n",
    "    # 현재금액 = 전회차현재금액 - 전회차 입금액으로 수정필요, 정렬 했으므로 이전행의 값을 불러오면 됨\n",
    "    else : \n",
    "        \n",
    "        # 현재금액 수정------------------------------------------------------\n",
    "        cre_dep.loc[i, \"현재합계\"] = cre_dep.loc[i-1, \"현재합계\"] - cre_dep.loc[i-1, \"입금합계\"]\n",
    "            \n",
    "        for 입금항목, 현재항목 in zip(입금항목들, 현재항목들) : \n",
    "            cre_dep.loc[i, 현재항목] = cre_dep.loc[i-1, 현재항목] - cre_dep.loc[i-1, 입금항목]\n",
    "        # ------------------------------------------------------------------\n",
    "            \n",
    "        # 입금순서 : 분배는 나우리로 하므로 합계만 따지면 됨\n",
    "        if v.입금순서 != \"직접입력\" : \n",
    "            # 오류 체크\n",
    "            if v.입금합계 > cre_dep.loc[i, \"현재합계\"] : \n",
    "                cre_dep.loc[i, \"오류\"] = \"오류\"\n",
    "            # 정상건 입금분배\n",
    "            else :\n",
    "                # 나우리 분배건 초기화\n",
    "                cre_dep.loc[i,[\"입금원금\", \"입금법비용\", \"입금미수이자\", \"입금연체이자\"]] = 0\n",
    "                \n",
    "                # 분배 재작업\n",
    "                잔여합계 = v.입금합계\n",
    "                for 입금항목, 현재항목 in zip(입금항목들, 현재항목들) : \n",
    "                    항목입금액 = min(cre_dep.loc[i,현재항목], 잔여합계)\n",
    "                    # 항목별 입금액 배정\n",
    "                    cre_dep.loc[i, 입금항목] = 항목입금액\n",
    "                    # 잔여합계금 재계산\n",
    "                    잔여합계 -= 항목입금액\n",
    "                    # 잔여금이 0이면 종료\n",
    "                    if 잔여합계 == 0 : break\n",
    "        \n",
    "        # 직접입력의 경우(나우리분배) : 나우리분배는 미수이자 연체이자로만 분배되므로 이것들만 체크 및 재분배하면 됨\n",
    "        else :\n",
    "            \n",
    "            # 미수와 연체 재분배(체크할 오류x)\n",
    "            실현재미수이자 = cre_dep.loc[i,\"현재미수이자\"]\n",
    "            if 실현재미수이자 - v.입금미수이자 < 0 : \n",
    "                cre_dep.loc[i, \"입금미수이자\"] = 실현재미수이자 # 실제 남은 현재미수이자만큼만 입금, 나머지는 연체이자로\n",
    "                cre_dep.loc[i, \"입금연체이자\"] = v.입금연체이자 - (실현재미수이자 - v.입금미수이자) # 차액 추가 -(-) = +\n",
    "            \n",
    "            \n",
    "            # 원금 비용 재분배 및 오류체크 - 이자와 별도로 해야함\n",
    "            if (v.입금원금 > v.현재원금) :\n",
    "                입금법비용 = v.입금원금 - v.현재원금\n",
    "                if 입금법비용 > v.현재법비용 : \n",
    "                    cre_dep.loc[i, \"오류\"] = \"오류\"\n",
    "                else : \n",
    "                    cre_dep.loc[i, \"입금원금\"] = cre_dep.loc[i, \"현재원금\"]\n",
    "                    cre_dep.loc[i, \"입금법비용\"] = 입금법비용\n",
    "\n",
    "            # 이자 오류 체크 \n",
    "            if (cre_dep.loc[i, \"입금연체이자\"] > cre_dep.loc[i, \"현재연체이자\"]) : \n",
    "                cre_dep.loc[i, \"오류\"] = \"오류\"\n",
    "            \n",
    "                     \n",
    "\n",
    "# 원본과 차이점 기록 및 재배정 오류 확인\n",
    "cre_dep = cre_dep.merge(cre_dep_ori[[\"타입금키\", \"입금원금\",\"입금법비용\", \"입금미수이자\", \"입금연체이자\", \"입금합계\"]], on=\"타입금키\", suffixes=[\"\", \"_원본\"])\n",
    "cre_dep[\"원금비교\"] = cre_dep.입금원금 - cre_dep.입금원금_원본\n",
    "cre_dep[\"법비용비교\"] = cre_dep.입금법비용 - cre_dep.입금법비용_원본\n",
    "cre_dep[\"미수비교\"] = cre_dep.입금미수이자 - cre_dep.입금미수이자_원본\n",
    "cre_dep[\"연체비교\"] = cre_dep.입금연체이자 - cre_dep.입금연체이자_원본\n",
    "cre_dep[\"합계비교\"] = cre_dep.입금합계 - cre_dep.입금합계_원본\n",
    "\n",
    "# 수정항목있음\n",
    "수정여부_cond = (cre_dep.원금비교 != 0) |(cre_dep.법비용비교 != 0)|(cre_dep.미수비교 != 0)|(cre_dep.연체비교 != 0)|(cre_dep.합계비교 != 0)\n",
    "cre_dep[\"수정여부\"] = np.where(수정여부_cond, \"수정\", \"미수정\")\n",
    "\n",
    "# 합계 다른 경우 : 무언가 잘못됐다.\n",
    "print(\"오류!!! 합계비교 0이 아닌 건\")\n",
    "display(cre_dep.query('합계비교 != 0'))\n",
    "\n",
    "# # 원본열 삭제 - 비교하러 보는 거니 삭제하지 말자\n",
    "# cre_dep.drop(columns=[\"입금원금_원본\", \"입금비용_원본\", \"입금미수_원본\", \"입금연체_원본\",\"입금합계_원본\"])"
   ]
  },
  {
   "cell_type": "markdown",
   "metadata": {},
   "source": [
    "##### 3. 파일저장"
   ]
  },
  {
   "cell_type": "code",
   "execution_count": 15,
   "metadata": {},
   "outputs": [
    {
     "name": "stdout",
     "output_type": "stream",
     "text": [
      "오류건이 없습니다.\n",
      "항목별입금양식을 출력합니다.\n"
     ]
    }
   ],
   "source": [
    "#-----------------------------------------------------------\n",
    "항목별입금 = True # True로 할 것!!!! \n",
    "# False : 신복양식, True : 일반입금(항목별입금) 양식\n",
    "# 신용회복은 중복건 미수,연체이자 분배 재작업한 것인 무용지물이 되어버리니 쓸수없다. 전산 입금파일 경로도 바뀌어서 귀찮을테고..\n",
    "#-----------------------------------------------------------\n",
    "\n",
    "# 파일 저장 후 오류건 전산 수정 > 계좌 다시 다운\n",
    "오류건수 = len(cre_dep.query('오류 != \"\" '))\n",
    "if 오류건수 > 0 : \n",
    "    print('오류건 전산 수정 후 계좌 데이터를 다시 다운로드 하고 처음부터 재작업하세요')\n",
    "    cre_dep.to_excel(join(wd, workday + \"_오류체크_\"+company+\".xlsx\"), index=False)\n",
    "else : \n",
    "    print('오류건이 없습니다.')\n",
    "    # 차이점 나중에 확인하기 편하게 최종본(오류없는건) 출력\n",
    "    cre_dep.to_excel(join(wd, workday + \"_일괄입금구분_최종본_\"+company+\".xlsx\"), index=False)\n",
    "    \n",
    "    # 입금순서 모두 직접입력으로 바꾸고 출력\n",
    "    cre_dep.입금순서 = \"직접입력\"\n",
    "    if 항목별입금 : \n",
    "        print('항목별입금양식을 출력합니다.')\n",
    "        # 일반입금파일 작성\n",
    "        cols = [\"채무자키\", \"계좌키\", \"입금일\", \"입금합계\",'입금원금','입금법비용','입금미수이자', '입금연체이자',\n",
    "                \"입금구분\", \"입금자\", \"입금자구분\", \"입금은행\", \"입금계좌번호\", \"입금순서\", \"입금메모\", \"입금비고\"]\n",
    "        항목별입금 = cre_dep[cols]\n",
    "        항목별입금.to_excel(join(wd, workday + \"__항목별입금_\"+company+\".xlsx\"), index=False)\n",
    "        ##### 일반입금은 타입금키 있으나 항목별은 없음. 일반입금은 입금합계가 아니라 입금액임\n",
    "    else : \n",
    "        print('신용회복입금양식을 출력합니다.')\n",
    "        # 신용회복양식으로 작성\n",
    "        cols = ['No.', '납입회차', '일시납감면율', '입금일', '지점명', '입금자',\n",
    "        '주민번호', '지원구분', '입금자구분', '주채무자주민번호', '주채무자', '계좌번호', \n",
    "        '입금원금', '입금미수이자', '입금연체이자', '입금합계', '확정채권금액',  '입금계좌번호', '지로코드', '입금순서']\n",
    "        신용회복입금 = cre_dep[cols]\n",
    "        # 컬럼명은 안 바꿔도 된다. 대신 순서가 바뀌는 경우 맞춰줘야. 신용회복입금.rename(columns={'납입회차':'회차', '입금일':'처리일자'}, inplace=True)\n",
    "        with pd.ExcelWriter(join(wd, workday + \"__신용회복입금_\"+company+\".xlsx\")) as writer:\n",
    "            신용회복입금.to_excel(writer, index=False, startrow=2)\n",
    "         \n",
    "# 대성 : 항목별입금으로 작업해보자. 입금은 잘 됨. 신복 스케쥴에도 잘 반영되는지 확인필요 \n",
    "# 솔림 : 신복수정하는 걸로 작업해보자."
   ]
  },
  {
   "cell_type": "markdown",
   "metadata": {},
   "source": [
    "###### 오류 무시 OR 오류 간단 수정완료"
   ]
  },
  {
   "cell_type": "code",
   "execution_count": null,
   "metadata": {},
   "outputs": [],
   "source": [
    "# 오류건 정정 후 굳이 계좌 정보 다시 받을 필요 없을때\n",
    "cols = [\"채무자키\", \"계좌키\", \"입금일\", \"입금합계\",'입금원금','입금법비용','입금미수이자', '입금연체이자',\n",
    "                \"입금구분\", \"입금자\", \"입금자구분\", \"입금은행\", \"입금계좌번호\", \"입금순서\", \"입금메모\", \"입금비고\"]\n",
    "항목별입금 = cre_dep[cols]\n",
    "항목별입금.to_excel(join(wd, workday + \"__항목별입금_\"+company+\".xlsx\"), index=False)"
   ]
  }
 ],
 "metadata": {
  "kernelspec": {
   "display_name": "py_39",
   "language": "python",
   "name": "python3"
  },
  "language_info": {
   "codemirror_mode": {
    "name": "ipython",
    "version": 3
   },
   "file_extension": ".py",
   "mimetype": "text/x-python",
   "name": "python",
   "nbconvert_exporter": "python",
   "pygments_lexer": "ipython3",
   "version": "3.9.18"
  }
 },
 "nbformat": 4,
 "nbformat_minor": 2
}
