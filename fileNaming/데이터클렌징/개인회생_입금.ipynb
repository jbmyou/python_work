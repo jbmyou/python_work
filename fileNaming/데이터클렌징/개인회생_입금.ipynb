{
 "cells": [
  {
   "cell_type": "markdown",
   "metadata": {},
   "source": [
    "### import "
   ]
  },
  {
   "cell_type": "code",
   "execution_count": 175,
   "metadata": {},
   "outputs": [],
   "source": [
    "import os, re, pickle\n",
    "import pandas as pd\n",
    "import numpy as np\n",
    "from os.path import join\n",
    "from tqdm import tqdm\n",
    "from datetime import datetime, timedelta\n",
    "from dateutil.relativedelta import relativedelta\n",
    "import calendar\n",
    "\n",
    "def save_dataset_to_pkl (dir, file_name, sheet_name=0) :\n",
    "    \"\"\"폴더경로, 파일명(확장자x), [쉬트네임 또는 순번]을 주면\n",
    "    조건에 맞는 칼럼은 문자열로 읽고,\n",
    "    빈칸은 빈문자열로 읽어 pkl로 저장해주는 함수\n",
    "    \"\"\"\n",
    "    # 확장자\n",
    "    read_ext = \".xlsx\"\n",
    "    write_ext = \".pkl\"\n",
    "    # 문자열로 읽을 컬럼명 패턴\n",
    "    pattern = re.compile('(키|코드|계좌)$')\n",
    "    # \n",
    "    path_file = join(dir, file_name)\n",
    "    dtype_mapping = {col: str for col in pd.read_excel(path_file + read_ext, sheet_name=sheet_name).columns if pattern.search(col)}\n",
    "    df = pd.read_excel(path_file + read_ext, sheet_name=sheet_name, dtype=dtype_mapping).fillna(\"\")\n",
    "    # 아래는 read_excel을 3번 호출해서 더 비효율적이라네?\n",
    "    # df = pd.read_excel(path_file + read_ext, sheet_name=sheet_name, dtype={col: str for col in pd.read_excel(path_file + read_ext, sheet_name=sheet_name).columns if pattern.search(col)}).fillna(\"\")\n",
    "    df.to_pickle(path_file + write_ext)\n",
    "\n",
    "def months_between_dates(start_date, end_date):\n",
    "    # 월말은 알아서 1.0개월 차이로 계산해줌\n",
    "    start_date = datetime.strptime(start_date, \"%Y-%m-%d\")\n",
    "    end_date = datetime.strptime(end_date, \"%Y-%m-%d\")\n",
    "\n",
    "    delta = relativedelta(end_date, start_date)\n",
    "    months = delta.years * 12 + delta.months\n",
    "\n",
    "    return months, delta.days\n",
    "\n",
    "wd = r'D:\\3.자산\\프로젝트\\2023 전산데이터 클렌징 및 업무개편 프로젝트\\check\\개인회생'"
   ]
  },
  {
   "cell_type": "markdown",
   "metadata": {},
   "source": [
    "### 엑셀읽어 pkl 저장, 읽기"
   ]
  },
  {
   "cell_type": "code",
   "execution_count": 2,
   "metadata": {},
   "outputs": [],
   "source": [
    "files = (\"개인회생새창_20230807_1112_진행중_계좌키분리_기준데이터\",\"입금조회새창_20230808_0841_개인회생_100101~230807\")"
   ]
  },
  {
   "cell_type": "code",
   "execution_count": 3,
   "metadata": {},
   "outputs": [],
   "source": [
    "# pkl 저장\n",
    "for f in files :\n",
    "    save_dataset_to_pkl(wd, f)"
   ]
  },
  {
   "cell_type": "code",
   "execution_count": 3,
   "metadata": {},
   "outputs": [],
   "source": [
    "### pkl 다시 읽기\n",
    "rehabilitation_ori = pd.read_pickle(join(wd, files[0]+\".pkl\"))\n",
    "deposit_ori = pd.read_pickle(join(wd, files[1]+\".pkl\"))"
   ]
  },
  {
   "cell_type": "markdown",
   "metadata": {},
   "source": [
    "### 입금이상 - 개인회생파일"
   ]
  },
  {
   "cell_type": "code",
   "execution_count": 235,
   "metadata": {},
   "outputs": [],
   "source": [
    "# 인가건\n",
    "rehabilitation_인가 = rehabilitation_ori[rehabilitation_ori[\"인가/미인가\"]==\"인가\"].copy()\n",
    "# rehabilitation_인가 = rehabilitation_ori[rehabilitation_ori.채무자키==\"20410785\"].copy()\n",
    "# # # 매각건 구분\n",
    "# # reha_sell = rehabilitation_인가[rehabilitation_인가.채무상태.str.contains(\"매각|DS\")|rehabilitation_인가.담당자.str.contains(\"매각|DS\")].copy()\n",
    "# # reha_own = rehabilitation_인가[~(rehabilitation_인가.채무상태.str.contains(\"매각|DS\")|rehabilitation_인가.담당자.str.contains(\"매각|DS\"))].copy()"
   ]
  },
  {
   "cell_type": "code",
   "execution_count": 236,
   "metadata": {},
   "outputs": [
    {
     "name": "stderr",
     "output_type": "stream",
     "text": [
      "100%|██████████| 6238/6238 [00:02<00:00, 2734.33it/s]\n"
     ]
    }
   ],
   "source": [
    "# 납입회차에 따라 입금되었어야 할 금액 계산\n",
    "입금이상유무,회차입금총액,분납시작회차,분납시작기준일, 분납시작기준 = [], [], [], [], []\n",
    "\n",
    "for i, v in tqdm(rehabilitation_인가.iterrows(), total=len(rehabilitation_인가.index)) : \n",
    "    # 한계좌에 대한 회차별 변제액 표 작성\n",
    "    회차별변제액 = pd.DataFrame(0, index = range(0,62), columns=[\"변제예정액\", \"비고\"])\n",
    "    마이너스있음 = False\n",
    "    \n",
    "    # try :\n",
    "    for n in range(1, 14) : # 최대구간은 13까지임\n",
    "        구간 = str(v[\"변제회차\"+str(n)]) # 문자열\n",
    "        구간변제액 = v[\"변제예정액\"+str(n)] # int64\n",
    "        \n",
    "        if 구간 == \"\" : # 이전구간에서 최종회차 나옴. 또는 변제조회가 안 됨. \n",
    "            break\n",
    "        elif re.search(\"-\", 구간) : # 별도로 처리하자.\n",
    "            마이너스있음 = True\n",
    "            break\n",
    "        else :\n",
    "            if re.search(\"~\", 구간) :\n",
    "                구간시작회차,구간끝회차 = 구간.split(\"~\")\n",
    "                구간시작회차 = int(구간시작회차)\n",
    "                구간끝회차 = int(구간끝회차)\n",
    "            else : \n",
    "                구간시작회차 = int(구간)\n",
    "                구간끝회차 = 구간시작회차\n",
    "\n",
    "            # 변제회차별 회차정보 및 변제금액 넣기\n",
    "            회차별변제액.loc[구간시작회차:구간끝회차,\"변제예정액\"] = 구간변제액\n",
    "\n",
    "    # except : \n",
    "    #     print(f\"분납키 : {v.분납키}\")\n",
    "    #     print(f\"구간 : {구간, type(구간)}\")\n",
    "        \n",
    "    \n",
    "    # 최초회차 구하기\n",
    "    # 1) 컷오프일 잡기\n",
    "    if v.매입전상태 == \"인가\" : \n",
    "        if v.분납컷오프일 == \"\" : \n",
    "            종합컷오프일 = v.컷오프일\n",
    "            기준 = \"계좌컷오프일\"\n",
    "        else :\n",
    "            종합컷오프일 = v.분납컷오프일\n",
    "            기준 = \"분납컷오프일\"\n",
    "    else : # 변제 중 매입\n",
    "        종합컷오프일 = v.분납시작일\n",
    "        기준 = \"분납시작일\"\n",
    "\n",
    "    # 2) 분납시작일과 컷오프일의 차이로 최초회차 구하기\n",
    "    월차이, 일차이 = months_between_dates(v.분납시작일, 종합컷오프일)\n",
    "    if (월차이 == 0) & (일차이 == 0) :\n",
    "        최초회차 = 1\n",
    "    elif (월차이 == 0) & (일차이 > 0) :\n",
    "        최초회차 = 1 + 1\n",
    "    else : # 1.0 이상\n",
    "        최초회차 = 1 + int(월차이) + 1 # 1.0이든 1.1이든 무조건 1회차 추가 \n",
    "\n",
    "    # 납입회차\n",
    "    납입회차 = int(v.납입회차)\n",
    "\n",
    "    # 계좌별 값 추가\n",
    "    회차입금액 = 회차별변제액.loc[최초회차:납입회차][\"변제예정액\"].sum()\n",
    "    회차입금총액.append(회차입금액)\n",
    "    if 회차입금액 != v.총분납입금 :\n",
    "        입금이상유무.append(\"이상\")\n",
    "    elif 마이너스있음 : # 총액이 다르면 어차피 회차정보 볼테니 \n",
    "        입금이상유무.append(\"-회차\")\n",
    "    else :\n",
    "        입금이상유무.append(\"\")\n",
    "    분납시작회차.append(최초회차)\n",
    "    분납시작기준일.append(종합컷오프일)\n",
    "    분납시작기준.append(기준)\n",
    "    \n",
    "\n",
    "rehabilitation_인가[\"입금이상유무\"] = 입금이상유무\n",
    "rehabilitation_인가[\"회차입금총액\"] = 회차입금총액\n",
    "rehabilitation_인가[\"분납시작회차\"] = 분납시작회차\n",
    "rehabilitation_인가[\"분납시작기준일\"] = 분납시작기준일\n",
    "rehabilitation_인가[\"분납시작기준\"] = 분납시작기준\n",
    "cond = rehabilitation_인가[\"채무상태\"].str.contains(\"매각|DS\") | rehabilitation_인가[\"담당자\"].str.contains(\"매각|DS\")\n",
    "rehabilitation_인가[\"매각여부\"] = np.where(cond,\"매각\", \"보유\")"
   ]
  },
  {
   "cell_type": "code",
   "execution_count": 238,
   "metadata": {},
   "outputs": [],
   "source": [
    "result = rehabilitation_인가[rehabilitation_인가.입금이상유무 != \"\"][[\"채무자키\",\"계좌키\",\"분납키\",\"매각사구분\",\"분납자관계\",\"주민번호인\",\"분납자성명인\",\n",
    "    \"매각여부\",\"인가/미인가\",\"현재결과\",\"분납상태\",\"총분납입금\",\"회차입금총액\",\"입금이상유무\",\"초과입금\",\"납입회차\",\"현재변제회차\", \"분납시작회차\",\"분납시작기준일\", \"분납시작기준\",\n",
    "    \"변제회차1\", \"변제예정액1\",\"변제회차2\", \"변제예정액2\",\"변제회차3\", \"변제예정액3\",\"변제회차4\", \"변제예정액4\",\"변제회차5\", \"변제예정액5\", \n",
    "    \"반영OPB\",\"총분납금\",\"분납미납금\",\"분납잔금\",\"총분납잔금\", \"총분납회차\",\"현재회차\",\"잔여회차\",\"미납회차\",\"전체변제회차\",\"잔여변제회차\",\n",
    "    \"관할법원\",\"사건번호\",\"접수일\",\"개시결정일\",\"변제계획인가일\",\"변제현황조회\",\"신고조회결과\",\"입금조회결과\",\"입금요청결과\",\"변제채권번호입력\",\"변제채권번호\"]]\n",
    "result.rename(columns={\"납입회차\":\"납입회차(전산)\", \"현재변제회차\":\"납입회차(법원)\"}, inplace=True)\n",
    "# 주민번호기준 정렬\n",
    "result.sort_values(\"주민번호인\", inplace=True)"
   ]
  },
  {
   "cell_type": "code",
   "execution_count": 240,
   "metadata": {},
   "outputs": [],
   "source": [
    "result.to_excel(join(wd, \"check_개인회생_입금이상1.xlsx\"), index=False)"
   ]
  },
  {
   "cell_type": "markdown",
   "metadata": {},
   "source": [
    "### 입금이상 - 입금파일에서"
   ]
  },
  {
   "cell_type": "code",
   "execution_count": 380,
   "metadata": {},
   "outputs": [],
   "source": [
    "# 개인회생 입금건 \n",
    "deposit_reha = deposit_ori[deposit_ori.입금구분==\"개인회생\"][[\"채무자키\",\"계좌키\",\"주민번호인\",\"입금자구분\",\"입금자\",\"입금합계\",\"입금일\",\"등록파일\",\"채무상태\",\"담당자\"]].copy()\n",
    "# 매각 표시\n",
    "cond = deposit_reha[\"채무상태\"].str.contains(\"매각|DS\") | deposit_reha[\"담당자\"].str.contains(\"매각|DS\")\n",
    "deposit_reha[\"매각여부\"] = np.where(cond,\"매각\", \"\")\n",
    "deposit_reha.drop([\"채무상태\",\"담당자\"],axis=1,inplace=True)\n",
    "\n",
    "\n",
    "# 개인회생 계좌별,입금자별 그룹화\n",
    "#deposit_reha_grouped = deposit_reha.groupby([\"채무자키\",\"계좌키\",'입금자'])\n",
    "\n",
    "# 개인회생 파일\n",
    "rehabilitation_인가 = rehabilitation_ori[rehabilitation_ori[\"인가/미인가\"]==\"인가\"].copy()\n",
    "rehabilitation_인가 = rehabilitation_인가.rename(columns={\"분납자성명인\":\"입금자\"})\n",
    "\n",
    "# 변제예정액 모음 만들기\n",
    "def collect_nonzero_values(row):\n",
    "    return [value for value in row if value not in (0, \"\")]\n",
    "변제예정액 = rehabilitation_인가[[\"변제예정액\"+str(i) for i in range(1,14)]].copy()\n",
    "rehabilitation_인가[\"변제예정액모음\"] = 변제예정액.apply(collect_nonzero_values, axis=1)\n",
    "\n",
    "# # 필요칼럼만 모으고, 개인회생 계좌별,입금자별 그룹화\n",
    "rehabilitation_인가_grouped = rehabilitation_인가[[\"채무자키\",\"계좌키\",\"입금자\",\"변제예정액모음\"]]\n",
    "\n",
    "# 입금파일에 변제예정액모음열 병합하기\n",
    "merged_df = deposit_reha.merge(rehabilitation_인가_grouped, on=[\"채무자키\",\"계좌키\", \"입금자\"], how=\"left\")"
   ]
  },
  {
   "cell_type": "code",
   "execution_count": 381,
   "metadata": {},
   "outputs": [],
   "source": [
    "# 변제예정액값이 리스트가 아니거나(NaN), 빈리스트인경우를 제외\n",
    "merged_df2 = merged_df[merged_df[\"변제예정액모음\"].apply(lambda x: len(x) > 0 if isinstance(x, list) else False)].copy()"
   ]
  },
  {
   "cell_type": "code",
   "execution_count": 382,
   "metadata": {},
   "outputs": [],
   "source": [
    "def check_error(row):\n",
    "    if any(row[\"입금합계\"] % amount == 0 for amount in row[\"변제예정액모음\"]):\n",
    "        return \"\"\n",
    "    else : \n",
    "        return \"오류\"\n",
    "\n",
    "merged_df2[\"배수여부\"] = merged_df2.apply(check_error, axis=1)\n"
   ]
  },
  {
   "cell_type": "code",
   "execution_count": 383,
   "metadata": {},
   "outputs": [],
   "source": [
    "# 저장\n",
    "merged_df2[merged_df2[\"배수여부\"]==\"오류\"].sort_values([\"채무자키\",\"계좌키\",\"입금자\",\"입금일\"]).to_excel(join(wd, \"check_개인회생_입금이상_by입금조회.xlsx\"), index=False)"
   ]
  }
 ],
 "metadata": {
  "kernelspec": {
   "display_name": "base",
   "language": "python",
   "name": "python3"
  },
  "language_info": {
   "codemirror_mode": {
    "name": "ipython",
    "version": 3
   },
   "file_extension": ".py",
   "mimetype": "text/x-python",
   "name": "python",
   "nbconvert_exporter": "python",
   "pygments_lexer": "ipython3",
   "version": "3.9.13"
  },
  "orig_nbformat": 4
 },
 "nbformat": 4,
 "nbformat_minor": 2
}
