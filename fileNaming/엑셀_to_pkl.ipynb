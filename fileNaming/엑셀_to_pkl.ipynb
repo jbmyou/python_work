{
 "cells": [
  {
   "cell_type": "code",
   "execution_count": 52,
   "metadata": {},
   "outputs": [],
   "source": [
    "import pandas as pd\n",
    "import os, re\n",
    "from os.path import join\n",
    "\n",
    "def save_dataset_to_pkl (dir, file_name, ext=\".xlsx\", sheet_name=0, encoding = 'euc-kr') :\n",
    "    \"\"\"\n",
    "    폴더경로, 파일명(.xlsx 있어도 없어도 ok), [쉬트네임 또는 순번]을 주면\n",
    "    조건에 맞는 칼럼은 문자열로 읽고,\n",
    "    빈칸은 빈문자열로 읽어 pkl로 저장해주는 함수\n",
    "    \"\"\"\n",
    "    file_name = re.sub(ext+\"$\", \"\", file_name)\n",
    "    # 확장자\n",
    "    read_ext = ext\n",
    "    write_ext = \".pkl\"\n",
    "    path_file = join(dir, file_name)\n",
    "    \n",
    "    # 문자열로 읽을 컬럼명 패턴\n",
    "    pattern = re.compile('(키|코드|계좌)$')\n",
    "    \n",
    "    if read_ext == \".csv\" : # csv\n",
    "        df = pd.read_csv(path_file+read_ext, encoding=encoding, sep=\",\", dtype={col: str for col in pd.read_csv(path_file+read_ext, encoding=encoding, sep=\",\").columns if pattern.search(col)}).fillna(\"\")\n",
    "        df.to_pickle(path_file + write_ext)\n",
    "    else : # 엑셀파일\n",
    "        df = pd.read_excel(path_file+read_ext, sheet_name=sheet_name, dtype={col: str for col in pd.read_excel(path_file+read_ext, sheet_name=sheet_name).columns if pattern.search(col)}).fillna(\"\")\n",
    "        df.to_pickle(path_file + write_ext)"
   ]
  },
  {
   "cell_type": "code",
   "execution_count": null,
   "metadata": {},
   "outputs": [],
   "source": [
    "# 특정 파일(들)\n",
    "###############################################\n",
    "dir = r\"D:\\1.다운로드\\새 폴더\\새 폴더\"\n",
    "files = (\"통신판매사업자_ALL_6110000_서울특별시 전체~\",)\n",
    "ext = \".csv\"\n",
    "enconding = 'utf-16'\n",
    "###############################################\n",
    "for f in files : \n",
    "    save_dataset_to_pkl(dir,f, ext=ext, encoding=enconding)"
   ]
  },
  {
   "cell_type": "code",
   "execution_count": null,
   "metadata": {},
   "outputs": [],
   "source": [
    "# 폴더 전체\n",
    "###############################################\n",
    "dir = r\"D:\\1.다운로드\\새 폴더\\새 폴더\"\n",
    "ext = \".xlsx\"\n",
    "###############################################\n",
    "files = [f.name for f in os.scandir(dir) if all([f.is_file(), re.search(\"^[^~$].*(\"+ext+\")$\", f.name)])] # ~나 $가 아닌 걸로 시작하고 xlsx로 긑나는 파일\n",
    "print(files)\n",
    "for f in files : \n",
    "    save_dataset_to_pkl(dir,f, ext)"
   ]
  },
  {
   "cell_type": "markdown",
   "metadata": {},
   "source": [
    "### 같은 형식의 pkl 파일들 읽어 통합하기"
   ]
  },
  {
   "cell_type": "code",
   "execution_count": 77,
   "metadata": {},
   "outputs": [
    {
     "name": "stdout",
     "output_type": "stream",
     "text": [
      "['통신판매사업자_ALL_6110000_서울특별시 전체.pkl', '통신판매사업자_ALL_6260000_부산광역시 전체.pkl', '통신판매사업자_ALL_6270000_대구광역시 전체.pkl', '통신판매사업자_ALL_6280000_인천광역시 전체.pkl', '통신판매사업자_ALL_6290000_광주광역시 전체.pkl', '통신판매사업자_ALL_6300000_대전광역시 전체.pkl', '통신판매사업자_ALL_6410000_경기도 전체.pkl', '통신판매사업자_ALL_6430000_충청북도 전체.pkl', '통신판매사업자_ALL_6440000_충청남도 전체.pkl', '통신판매사업자_ALL_6450000_전라북도 전체.pkl', '통신판매사업자_ALL_6460000_전라남도 전체.pkl', '통신판매사업자_ALL_6470000_경상북도 전체.pkl', '통신판매사업자_ALL_6480000_경상남도 전체.pkl', '통신판매사업자_ALL_6500000_제주특별자치도 전체.pkl', '통신판매사업자_ALL_6530000_강원특별자치도 전체.pkl']\n"
     ]
    }
   ],
   "source": [
    "###############################################\n",
    "dir = r\"D:\\1.다운로드\\새 폴더\\새 폴더\"\n",
    "filename_for_save = \"통신판매사업자_ALL_전지역통합\"\n",
    "###############################################\n",
    "ext = \".pkl\"\n",
    "files = [f.name for f in os.scandir(dir) if all([f.is_file(), re.search(\"^[^~$].*(\"+ext+\")$\", f.name)])] # ~나 $가 아닌 걸로 시작하고 xlsx로 긑나는 파일\n",
    "print(files)\n",
    "df = pd.DataFrame()\n",
    "for f in files :\n",
    "    temp = pd.read_pickle(join(dir, f))\n",
    "    df = pd.concat([df,temp])\n",
    "\n",
    "df.to_pickle(join(dir, filename_for_save+ext))"
   ]
  },
  {
   "cell_type": "code",
   "execution_count": null,
   "metadata": {},
   "outputs": [],
   "source": []
  }
 ],
 "metadata": {
  "kernelspec": {
   "display_name": "base",
   "language": "python",
   "name": "python3"
  },
  "language_info": {
   "codemirror_mode": {
    "name": "ipython",
    "version": 3
   },
   "file_extension": ".py",
   "mimetype": "text/x-python",
   "name": "python",
   "nbconvert_exporter": "python",
   "pygments_lexer": "ipython3",
   "version": "3.9.13"
  },
  "orig_nbformat": 4
 },
 "nbformat": 4,
 "nbformat_minor": 2
}
