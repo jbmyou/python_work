{
 "cells": [
  {
   "attachments": {},
   "cell_type": "markdown",
   "metadata": {},
   "source": [
    "### IMPORT"
   ]
  },
  {
   "cell_type": "code",
   "execution_count": 1,
   "metadata": {},
   "outputs": [],
   "source": [
    "import pandas as pd\n",
    "import numpy as np\n",
    "import pickle\n",
    "import re\n",
    "import os\n",
    "from os.path import join\n",
    "from tqdm import tqdm\n",
    "from datetime import datetime\n",
    "from openpyxl.utils.dataframe import dataframe_to_rows\n",
    "from openpyxl.styles import Font, PatternFill, Alignment, Border, Side\n",
    "from openpyxl import Workbook\n",
    "\n",
    "# dtype 정의\n",
    "debt_dtype = {'채무자키':str, '타채무자키':str, '담당자키':str}\n",
    "account_dtype = {'채무자키':str, '계좌키':str, '타채무자키':str}\n",
    "grt_dtype = {'채무자키':str, '계좌키':str, '타채무자키':str, '보증인키':str}\n",
    "rehabilitation_dtype = {'채무자키':str, '계좌키':str, '분납키':str, '사건키':str}\n",
    "credit_dtype = {'채무자키':str, '계좌키':str, '보증인키':str, '심의차수':str, '변제금\\n수취계좌':str}\n",
    "event_dtype = {'채무자키':str, '계좌키':str, '법조치키':str, '관할법원코드':str, '타채무자키':str,'타법조치키':str}"
   ]
  },
  {
   "attachments": {},
   "cell_type": "markdown",
   "metadata": {},
   "source": [
    "### 채권구분\n",
    "- 아래에서 전체 원데이터 만들기\n",
    "- 새 채권구분 만들기 : 1) 종결, 2) 조정(개회,신복이 중복되더라도 일단 문제없게), 3) 무담보 순서대로 만들기\n",
    "  - (오류 체크) 개회, 신복 기준데이터 vs 차주 채무자상태 \n",
    "    - (전산 미수정) 조정 vs 미반영, 면책 및 완납 vs 미반영\n",
    "    - (개회신복경쟁) 개회 vs 신복 or 신복 vs 개회\n",
    "    - (오등록) 확정리스트 없음 vs 개회, 신복. 다음의 경우를 포함함[폐지 및 실효 vs 미반영(여전히 개회 및 신복 *개회폐지 후 신복, 신복폐지 후 개회일 수는 있음)]\n",
    "\n",
    "- (오류 체크) 개회, 신복 보증인상태 미반영 리스트 만들기, 중복리스트 만들키\n",
    "- 개회, 신복 조정여부 칼럼 추가해서 자산정리 칼럼 만들기(계좌키에 붙이기) : 생략하지 말고 다 붙이기\n",
    "- 채권구분칼럼 최초채권구분으로 변경"
   ]
  },
  {
   "attachments": {},
   "cell_type": "markdown",
   "metadata": {},
   "source": [
    "#### 새채무상태 : 개인, 법인, 개인회생(진행중), 개인회생(확정), 신용회복(개인), 신용회복(진행중), 신용회복(프리), 종료"
   ]
  },
  {
   "cell_type": "code",
   "execution_count": 11,
   "metadata": {},
   "outputs": [],
   "source": [
    "# 개별 파일 pkl 만들기\n",
    "# wd = r\"D:\\3.자산\\전산 dataset\"\n",
    "# basedate = \"230423\"\n",
    "# filename = \"계좌조회새창_20230424_0918\"\n",
    "# x = pd.read_excel(join(wd, basedate, filename +\".xlsx\"), dtype={'채무자키':str, '계좌키':str, '타채무자키':str}).fillna(\"\")\n",
    "# x.to_pickle(join(wd, basedate, filename +\".pkl\"))"
   ]
  },
  {
   "cell_type": "code",
   "execution_count": 20,
   "metadata": {},
   "outputs": [],
   "source": [
    "# 파일 읽기\n",
    "# 채무자, 계좌, 보증인, 개회신복 기준데이터->차주와 보증인으로 나누 저장\n",
    "wd = r\"D:\\3.자산\\전산 dataset\"\n",
    "################### 예수금 지울것(채무자,계좌)\n",
    "basedate = \"230430\"\n",
    "files = (\"채무자조회새창_20230502_0844\", \"계좌조회새창_20230502_0847\", \"보증인새창_20230502_0849_새보증인상태\", \"개인회생새창_20230502_0850_진행중_계좌키분리_기준데이터\", \"신용회복전체리스트_20230430_기준데이터\")\n",
    "# 개회의 겨우 계좌키 분리 파일로 읽을 것! \n",
    "\n",
    "# 파일 읽기\n",
    "ext = \".pkl\"  \n",
    "###################\n",
    "\n",
    "# 개회-신복 충돌 정리(기준데이터 만들 때 각 담당자가 제거하기로 함)\n",
    "#### 개회제외 = {\"차주\" : (\"20462830\"), \"보증인\" : () } # 20462830 중복입금건. 신복이 기간이 더 남아서 신복으로 처리하기로 함\n",
    "#### 신복제외 = {\"차주\" : (\"20451534\", \"20525880\", \"20525532\"), \"보증인\" : ()} # \"20451534\", \"20525880\", \"20525532\" 신복 실효 확정 전에 개회 신청한 건\n",
    "if ext == \".pkl\" : # fillna()는 엑셀읽을 때 미리 해둬야함, 조정, 개회 진행중 시트만 읽어서 저장한 경우\n",
    "    debt = pd.read_pickle(join(wd, basedate, files[0]+ext))\n",
    "    account = pd.read_pickle(join(wd, basedate, files[1]+ext))\n",
    "    grt = pd.read_pickle(join(wd, basedate, files[2]+ext))\n",
    "    rehabilitation = pd.read_pickle(join(wd, basedate, files[3]+ext))\n",
    "    credit = pd.read_pickle(join(wd, basedate, files[4]+ext))\n",
    "else : \n",
    "    debt = pd.read_excel(join(wd, basedate, files[0]+ext), dtype=debt_dtype).fillna(\"\")\n",
    "    account = pd.read_excel(join(wd, basedate, files[1]+ext), dtype=account_dtype).fillna(\"\")\n",
    "    grt = pd.read_excel(join(wd, basedate, files[2]+ext), dtype=grt_dtype).fillna(\"\")\n",
    "    rehabilitation = pd.read_excel(join(wd, basedate, files[3]+ext), sheet_name=\"개인회생(진행)\", dtype=rehabilitation_dtype).fillna(\"\")\n",
    "    credit = pd.read_excel(join(wd, basedate, files[4]+ext), sheet_name=\"확정,미확정\", dtype=credit_dtype).fillna(\"\")\n",
    "\n",
    "# 엑셀저장시 NaT 를 \"\"로\n",
    "credit.replace({pd.NaT: \"\"}, inplace=True)\n",
    "# 조정채권 차주, 보증인 나누기\n",
    "rehabilitation_d = rehabilitation[rehabilitation[\"분납자관계\"]==\"채무자\"]\n",
    "rehabilitation_grt = rehabilitation[rehabilitation[\"분납자관계\"]==\"보증인\"]\n",
    "credit_d = credit[credit[\"채무구분\"]==\"주채무\"]\n",
    "credit_grt = credit[credit[\"채무구분\"]==\"보증채무\"]\n",
    "\n",
    "# 예수금 제외\n",
    "debt.drop(debt[debt.성명==\"예수금\"].index, inplace=True)\n",
    "debt.reset_index(drop=True, inplace=True)\n",
    "account.drop(account[account.채무자명==\"예수금\"].index, inplace=True)\n",
    "account.reset_index(drop=True, inplace=True)"
   ]
  },
  {
   "cell_type": "code",
   "execution_count": 102,
   "metadata": {},
   "outputs": [
    {
     "name": "stderr",
     "output_type": "stream",
     "text": [
      "C:\\Users\\SL\\AppData\\Local\\Temp\\ipykernel_39560\\2739606122.py:2: SettingWithCopyWarning: \n",
      "A value is trying to be set on a copy of a slice from a DataFrame.\n",
      "Try using .loc[row_indexer,col_indexer] = value instead\n",
      "\n",
      "See the caveats in the documentation: https://pandas.pydata.org/pandas-docs/stable/user_guide/indexing.html#returning-a-view-versus-a-copy\n",
      "  credit_grt[date_cols] = credit_grt[date_cols].astype(str)\n"
     ]
    }
   ],
   "source": [
    "# 모든 날짜 포맷 컬럼 str 변경\n",
    "# date_cols = credit_grt.select_dtypes(include='datetime').columns\n",
    "# credit_grt[date_cols] = credit_grt[date_cols].astype(str)\n",
    "# credit_grt.to_excel(join(wd, basedate, \"xxyyx.xlsx\"))"
   ]
  },
  {
   "cell_type": "code",
   "execution_count": 23,
   "metadata": {},
   "outputs": [],
   "source": [
    "# # pkl 저장\n",
    "# debt.to_pickle(join(wd, basedate, files[0]+\".pkl\"))\n",
    "# account.to_pickle(join(wd, basedate, files[1]+\".pkl\"))\n",
    "# grt.to_pickle(join(wd, basedate, files[2]+\".pkl\"))\n",
    "# rehabilitation.to_pickle(join(wd, basedate, files[3]+\".pkl\"))\n",
    "# credit.to_pickle(join(wd, basedate, files[4]+\".pkl\"))"
   ]
  },
  {
   "cell_type": "code",
   "execution_count": 21,
   "metadata": {},
   "outputs": [
    {
     "data": {
      "text/plain": [
       "'차주'"
      ]
     },
     "metadata": {},
     "output_type": "display_data"
    },
    {
     "data": {
      "text/html": [
       "<div>\n",
       "<style scoped>\n",
       "    .dataframe tbody tr th:only-of-type {\n",
       "        vertical-align: middle;\n",
       "    }\n",
       "\n",
       "    .dataframe tbody tr th {\n",
       "        vertical-align: top;\n",
       "    }\n",
       "\n",
       "    .dataframe thead th {\n",
       "        text-align: right;\n",
       "    }\n",
       "</style>\n",
       "<table border=\"1\" class=\"dataframe\">\n",
       "  <thead>\n",
       "    <tr style=\"text-align: right;\">\n",
       "      <th></th>\n",
       "      <th>채무자키</th>\n",
       "      <th>계좌키</th>\n",
       "      <th>인가/미인가</th>\n",
       "      <th>반영OPB</th>\n",
       "      <th>접수일</th>\n",
       "      <th>진행구분</th>\n",
       "      <th>현재원금잔액</th>\n",
       "      <th>접수일자</th>\n",
       "    </tr>\n",
       "  </thead>\n",
       "  <tbody>\n",
       "  </tbody>\n",
       "</table>\n",
       "</div>"
      ],
      "text/plain": [
       "Empty DataFrame\n",
       "Columns: [채무자키, 계좌키, 인가/미인가, 반영OPB, 접수일, 진행구분, 현재원금잔액, 접수일자]\n",
       "Index: []"
      ]
     },
     "metadata": {},
     "output_type": "display_data"
    },
    {
     "data": {
      "text/plain": [
       "'보증인'"
      ]
     },
     "metadata": {},
     "output_type": "display_data"
    },
    {
     "data": {
      "text/html": [
       "<div>\n",
       "<style scoped>\n",
       "    .dataframe tbody tr th:only-of-type {\n",
       "        vertical-align: middle;\n",
       "    }\n",
       "\n",
       "    .dataframe tbody tr th {\n",
       "        vertical-align: top;\n",
       "    }\n",
       "\n",
       "    .dataframe thead th {\n",
       "        text-align: right;\n",
       "    }\n",
       "</style>\n",
       "<table border=\"1\" class=\"dataframe\">\n",
       "  <thead>\n",
       "    <tr style=\"text-align: right;\">\n",
       "      <th></th>\n",
       "      <th>채무자키</th>\n",
       "      <th>계좌키</th>\n",
       "      <th>인가/미인가</th>\n",
       "      <th>반영OPB</th>\n",
       "      <th>접수일</th>\n",
       "      <th>진행구분</th>\n",
       "      <th>현재원금잔액</th>\n",
       "      <th>접수일자</th>\n",
       "    </tr>\n",
       "  </thead>\n",
       "  <tbody>\n",
       "  </tbody>\n",
       "</table>\n",
       "</div>"
      ],
      "text/plain": [
       "Empty DataFrame\n",
       "Columns: [채무자키, 계좌키, 인가/미인가, 반영OPB, 접수일, 진행구분, 현재원금잔액, 접수일자]\n",
       "Index: []"
      ]
     },
     "metadata": {},
     "output_type": "display_data"
    }
   ],
   "source": [
    "# 수정목록\n",
    "# 개회-신복 채무자키 중복 : 차주, 보증인별\n",
    "\n",
    "# 차주\n",
    "조정중복_차주 = pd.merge(rehabilitation_d[[\"채무자키\",\"계좌키\",\"인가/미인가\",\"반영OPB\", \"접수일\"]], credit_d[[\"채무자키\",\"계좌키\",\"진행구분\",\"현재원금잔액\",\"접수일자\"]], on=[\"채무자키\",\"계좌키\"], how=\"inner\")\n",
    "display(\"차주\", 조정중복_차주)\n",
    "\n",
    "# 보증인\n",
    "조정중복_보증인 = pd.merge(rehabilitation_grt[[\"채무자키\",\"계좌키\",\"인가/미인가\",\"반영OPB\", \"접수일\"]], credit_grt[[\"채무자키\",\"계좌키\",\"진행구분\",\"현재원금잔액\", \"접수일자\"]], on=[\"채무자키\",\"계좌키\"], how=\"inner\")\n",
    "display(\"보증인\", 조정중복_보증인)"
   ]
  },
  {
   "cell_type": "code",
   "execution_count": 22,
   "metadata": {},
   "outputs": [
    {
     "name": "stdout",
     "output_type": "stream",
     "text": [
      "10896    200930335\n",
      "21725    200941164\n",
      "38437    200957876\n",
      "5165     200924604\n",
      "5166     200924605\n",
      "12374    200931813\n",
      "13395    200932834\n",
      "17944    200937383\n",
      "19071    200938510\n",
      "19494    200938933\n",
      "20220    200939659\n",
      "27450    200946889\n",
      "28296    200947735\n",
      "Name: 계좌키, dtype: object\n"
     ]
    }
   ],
   "source": [
    "# [check] 계좌종결건 조정채권 포함여부\n",
    "종결된계좌키1 = account[account.종결일 != \"\"].계좌키\n",
    "종결된계좌키2 = account[account.메모 != \"\"].계좌키\n",
    "종결된계좌키 = pd.concat([종결된계좌키1, 종결된계좌키2])\n",
    "check개회 = 종결된계좌키[종결된계좌키.isin(rehabilitation[\"계좌키\"])]\n",
    "check신복 = 종결된계좌키[종결된계좌키.isin(credit[\"계좌키\"])]\n",
    "check = pd.concat([check개회, check신복])\n",
    "if len(check) > 0 :\n",
    "    print(check)\n",
    "    # 출력\n",
    "    # check.to_excel(join(wd, basedate, \"9.종결vs조정.xlsx\"), index=False)\n",
    "    # 종결건 신복과 개회에서 제외하기\n",
    "    rehabilitation = rehabilitation[~rehabilitation.계좌키.isin(check)]\n",
    "    credit = credit[~credit.계좌키.isin(check)]\n",
    "else : print(\"이상무\")"
   ]
  },
  {
   "cell_type": "code",
   "execution_count": 23,
   "metadata": {},
   "outputs": [],
   "source": [
    "# 확정된 조정채권 저장하기\n",
    "rehabilitation_d = rehabilitation[rehabilitation[\"분납자관계\"]==\"채무자\"]\n",
    "rehabilitation_grt = rehabilitation[rehabilitation[\"분납자관계\"]==\"보증인\"]\n",
    "credit_d = credit[credit[\"채무구분\"]==\"주채무\"]\n",
    "credit_grt = credit[credit[\"채무구분\"]==\"보증채무\"]"
   ]
  },
  {
   "cell_type": "code",
   "execution_count": 24,
   "metadata": {},
   "outputs": [
    {
     "name": "stderr",
     "output_type": "stream",
     "text": [
      "100%|██████████| 10312/10312 [00:04<00:00, 2249.44it/s]\n"
     ]
    }
   ],
   "source": [
    "# 개회 >> 차주 : 계좌키, 보증인 : [계좌키 + 보증인이름]이 pk. \n",
    "# 신복 >> 보증인키 있으므로 이걸로. 누락계좌는 정상으로 나옴\n",
    "# 개회 누락채권(일부계좌누락, 일부 채무자키(이런 경우가 있을까?)) 문제는 어떻게? : 일단 \n",
    "\n",
    "# 보증인 상태변경\n",
    "if \"새보증인상태\" in grt.columns : \n",
    "    grt[\"새보증인상태\"] = \"\"\n",
    "else : grt.insert(8,\"새보증인상태\",\"\")\n",
    "\n",
    "# '채무자키'열과 '보증인성명인'열을 기준으로 비교하여 값 변경\n",
    "for i in tqdm(range(len(grt)), total=len(grt)):  \n",
    "    # 종결건 보증인상태 유지\n",
    "    \n",
    "    # 개인회생\n",
    "    temp = rehabilitation_grt[(rehabilitation_grt['채무자키'] == grt.at[i, '채무자키']) & (rehabilitation_grt['분납자성명인'] == grt.at[i, '보증인성명인'])]\n",
    "    if len(temp) > 0:\n",
    "        grt.at[i, '새보증인상태'] = \"개인회생(확정)\" if temp['인가/미인가'].values[0] == \"인가\" else \"개인회생(진행중)\"\n",
    "    else : \n",
    "        # 신용회복\n",
    "        temp = credit_grt[(credit_grt['보증인키'] == grt.at[i, '보증인키'])]\n",
    "        if len(temp) > 0:\n",
    "            grt.at[i, '새보증인상태'] = \"신용회복(\"+ temp['상환방식'].values[0]+\")\" if temp['진행구분'].values[0] == \"확정\" else \"신용회복(진행중)\"\n",
    "        else :\n",
    "            # 무담보\n",
    "            grt.at[i, '새보증인상태'] = grt.at[i, '보증인상태']\n",
    "\n",
    "# move = grt.pop('새보증인상태')\n",
    "# grt.insert(8,'새보증인상태', move)"
   ]
  },
  {
   "cell_type": "code",
   "execution_count": 7,
   "metadata": {},
   "outputs": [],
   "source": [
    "# 저장 : 보증인 수정할 것 엑셀 저장\n",
    "grt[grt.새보증인상태 != grt.보증인상태].loc[:,[\"채무자키\", \"계좌키\",\"보증인키\",\"매각사구분\",\"보증인성명인\",\"주민번호인\",\"계좌번호\",\"보증구분\",\"새보증인상태\",\"보증인상태\",\"보증금액\",\"보증잔액\",\"보증한도액\"]].to_excel(join(wd, basedate, \"9.보증인상태변경할것.xlsx\"), index=False)\n",
    "# # 새보증인상태 추가한 파일 저장\n",
    "# grt.to_pickle(join(wd, basedate, files[2]+\"_새보증인상태.pkl\"))\n",
    "grt.to_excel(join(wd, basedate, files[2]+\"_새보증인상태.xlsx\"), index=False)"
   ]
  },
  {
   "cell_type": "code",
   "execution_count": 25,
   "metadata": {},
   "outputs": [
    {
     "name": "stderr",
     "output_type": "stream",
     "text": [
      "100%|██████████| 78157/78157 [01:13<00:00, 1058.39it/s]\n"
     ]
    }
   ],
   "source": [
    "# 계좌에 새채무상태 만들기\n",
    "\n",
    "if \"새채무상태\" not in account.columns : account.insert(8,\"새채무상태\", \"\")\n",
    "종결처리안된종료건 = []\n",
    "\n",
    "for i in tqdm(range(len(account)), total = len(account)):\n",
    "    account_key = account.at[i, '계좌키']\n",
    "    # 종결처리 안 된 계좌(종결일 없는 것)\n",
    "    if account.at[i, '종결일'] == \"\" : # 종결일 있는경우 메모는 자유롭게 적어도 되겠다. but 종결일 없는 경우는 종료 새채무상태의 분류에 따라\n",
    "        # 종결일 없는 것 중 메모에 새채무상태 적어 놓은 것 그대로 옮기기 \n",
    "        if account.at[i, \"메모\"] != \"\" :\n",
    "            account.at[i, '새채무상태'] = account.at[i, \"메모\"]\n",
    "            # checkList에 추가\n",
    "            종결처리안된종료건.append(account.at[i, '계좌키'])\n",
    "        # 종결일도 없고, 메모도 빈칸(미종결) : 개회 > 신복 > 나머지는 나중에 채움\n",
    "        else : \n",
    "            # 개인회생\n",
    "            temp = rehabilitation_d[(rehabilitation_d['계좌키'] == account_key)]\n",
    "            if  len(temp) > 0:\n",
    "                account.at[i, '새채무상태'] = \"개인회생(확정)\" if temp['인가/미인가'].values[0] == \"인가\" else \"개인회생(진행중)\"\n",
    "            else : \n",
    "                # 신용회복\n",
    "                temp = credit_d[(credit_d['계좌키'] == account.at[i, '계좌키'])]\n",
    "                if len(temp) > 0:\n",
    "                    account.at[i, '새채무상태'] = \"신용회복(\"+ temp['상환방식'].values[0]+\")\" if temp['진행구분'].values[0] == \"확정\" else \"신용회복(진행중)\"\n",
    "                else :\n",
    "                    # 일단 빈칸으로 두고 뒤에서 수정 # 무담보 또는 종료(면책)\n",
    "                    account.at[i, '새채무상태'] = \"\"\n",
    "    # 종결처리 된 계좌\n",
    "    else :\n",
    "        account.at[i, '새채무상태'] = \"종료\"\n",
    "\n",
    "# move = account.pop('새보증인상태')\n",
    "# account.insert(8,'새보증인상태', move)"
   ]
  },
  {
   "cell_type": "code",
   "execution_count": 26,
   "metadata": {},
   "outputs": [
    {
     "name": "stdout",
     "output_type": "stream",
     "text": [
      "이상무\n"
     ]
    }
   ],
   "source": [
    "# [ckeck]종결처리해야하는 계좌 출력\n",
    "if len(종결처리안된종료건)>0 :\n",
    "    # print(종결처리안된종료건)\n",
    "    pd.DataFrame(종결처리안된종료건).to_excel(join(wd, basedate, \"9.종결처리안된종료건.xlsx\"), index=False)\n",
    "else : print(\"이상무\")"
   ]
  },
  {
   "attachments": {},
   "cell_type": "markdown",
   "metadata": {},
   "source": [
    "### 전체 원데이터 만들기(종합)"
   ]
  },
  {
   "cell_type": "code",
   "execution_count": 27,
   "metadata": {},
   "outputs": [],
   "source": [
    "raw_data = pd.DataFrame(None)\n",
    "raw_data[\"채무자키\"] = account.채무자키\n",
    "raw_data[\"계좌키\"] = account.계좌키\n",
    "raw_data[\"타채무자키\"] = account.타채무자키\n",
    "\n",
    "raw_data[\"채권구분\"] = account.채권구분\n",
    "raw_data[\"새채무상태\"] = account.새채무상태\n",
    "raw_data[\"채무상태\"] = account.채무상태\n",
    "raw_data[\"담당자\"] = account.담당자\n",
    "raw_data[\"성명\"] = account.채무자명\n",
    "\n",
    "raw_data[\"주민등록번호\"] = account.채무자주민번호 #.apply(lambda x : x[:8])\n",
    "raw_data[\"계좌번호\"] = account.계좌번호\n",
    "raw_data[\"원채권사\"] = account.원채권사\n",
    "raw_data[\"매각사구분\"] = account.매각사구분\n",
    "raw_data[\"계정과목\"] = account.계정과목\n",
    "raw_data[\"최초원금\"] = account.최초원금\n",
    "raw_data[\"최초법비용\"] = account.최초법비용\n",
    "raw_data[\"최초미수이자\"] = account.최초미수이자\n",
    "raw_data[\"최초연체이자율\"] = account.최초연체이자율\n",
    "raw_data[\"현재원금\"] = account.현재원금\n",
    "raw_data[\"현재법비용\"] = account.현재법비용\n",
    "raw_data[\"OPB\"] = account[[\"현재원금\",\"현재법비용\"]].sum(axis=1)\n",
    "raw_data[\"현재미수이자\"] = account.현재미수이자\n",
    "raw_data[\"현재연체이자\"] = account.현재연체이자\n",
    "raw_data[\"현재합계\"] = account.현재합계\n",
    "raw_data[\"회수합계\"] = account.회수합계\n",
    "raw_data[\"최초대출일\"] = account.최초대출일\n",
    "raw_data[\"대출만기일\"] = account.대출만기일\n",
    "raw_data[\"최초연체일\"] = account.최초연체일 # 없는 경우도 있음 없으면 대출만기일로 대체해야.\n",
    "raw_data[\"매입일\"] = account.매입일\n",
    "# 시효관련 추가\n",
    "raw_data['시효완성월'] = np.where((account['시효중단여부'] == 'Y'), '중단', account['시효완성월'])\n",
    "raw_data[\"시효사유\"] = account.시효연장사유 # 시효연장사유 빈칸인 경우, 최초완성일메모(거의), 최초시효완성일, 시효중단여부 모두 빈칸임\n",
    "raw_data[\"시효완성일\"] = account.시효완성일\n",
    "\n",
    "# 채무자조회에서 불러올 항목\n",
    "debt_temp = debt[[\"채무자키\", \"개인법인\", \"연령\", \"자택우편번호\", \"자택주소\"]]\n",
    "raw_data = pd.merge(raw_data, debt_temp, on=\"채무자키\", how=\"left\")\n",
    "\n",
    "# grt에서 각 계좌별 보증인상태 불러오기\n",
    "names = grt.groupby('계좌키')['보증인성명인'].apply(lambda x: ','.join(x)) # 고유값만 남기려면 join의 매개변수로 x.unique()를 사용\n",
    "status = grt.groupby('계좌키')['보증인상태'].apply(lambda x: ','.join(x))\n",
    "\n",
    "raw_data = raw_data.merge(names, how='left', on='계좌키')\n",
    "raw_data = raw_data.merge(status, how='left', on='계좌키')\n",
    "\n",
    "raw_data[\"보증인성명인\"] = raw_data[\"보증인성명인\"].fillna('')\n",
    "raw_data[\"보증인상태\"] = raw_data[\"보증인상태\"].fillna('')"
   ]
  },
  {
   "cell_type": "code",
   "execution_count": 28,
   "metadata": {},
   "outputs": [
    {
     "name": "stdout",
     "output_type": "stream",
     "text": [
      "전              43926\n",
      "종료           11939\n",
      "신용회복(개인)      9189\n",
      "개인회생(확정)      6048\n",
      "신용회복(프리)      5942\n",
      "신용회복(진행중)      658\n",
      "개인회생(진행중)      455\n",
      "Name: 새채무상태, dtype: int64\n"
     ]
    },
    {
     "name": "stderr",
     "output_type": "stream",
     "text": [
      "100%|██████████| 78157/78157 [00:03<00:00, 24997.91it/s]"
     ]
    },
    {
     "name": "stdout",
     "output_type": "stream",
     "text": [
      "후 개인           32717\n",
      "종료           19284\n",
      "신용회복(개인)      9189\n",
      "개인회생(확정)      6048\n",
      "신용회복(프리)      5942\n",
      "법인            3864\n",
      "신용회복(진행중)      658\n",
      "개인회생(진행중)      455\n",
      "Name: 새채무상태, dtype: int64\n"
     ]
    },
    {
     "name": "stderr",
     "output_type": "stream",
     "text": [
      "\n"
     ]
    }
   ],
   "source": [
    "# 새채무상태 마무리\n",
    "print(\"전\",raw_data.새채무상태.value_counts())\n",
    "채무상태종료 = re.compile(\"종결|환매|매각|추심제외\")\n",
    "담당자종료 = re.compile(\"종결|매각|매각예정|회계파산|DS|환매|포기채권\")\n",
    "채무상태면책 = re.compile(\"개인회생\\(면책\\)|파산\\(면책\\)\")\n",
    "보증인종료 = re.compile(\"파산\\(면책\\)|사망|종결|보증면탈|개인회생\\(면책\\)|사망\\(상속포기\\)|시효완성|시효|추심제외|폐업|매각|환매\")\n",
    "\n",
    "for i in tqdm(range(len(raw_data)), total = len(raw_data)):\n",
    "    if raw_data.at[i, \"새채무상태\"] == \"\" :\n",
    "        # 종료\n",
    "        if 채무상태종료.search(raw_data.at[i, \"채무상태\"]) or 담당자종료.search(raw_data.at[i, \"담당자\"]) :\n",
    "            raw_data.at[i, \"새채무상태\"] = \"종료\"\n",
    "        # 차주면책\n",
    "        elif 채무상태면책.search(raw_data.at[i, \"채무상태\"]) :\n",
    "            # 보증인 없으면\n",
    "            if raw_data.at[i, \"보증인상태\"] == \"\" :\n",
    "                raw_data.at[i, \"새채무상태\"] = \"종료\"\n",
    "            else : # 보증인종료 이외의 건이 있는지\n",
    "                temp = 보증인종료.sub(\"\",raw_data.at[i, \"보증인상태\"])\n",
    "                if len(re.sub(\",\", \"\", temp)) == 0 : # 보증인도 모두 종료/면책\n",
    "                    raw_data.at[i, \"새채무상태\"] = \"종료\"\n",
    "                else :\n",
    "                    raw_data.at[i, \"새채무상태\"] = re.sub(\"사업자\", \"\", raw_data.at[i, \"개인법인\"])\n",
    "        else :\n",
    "            raw_data.at[i, \"새채무상태\"] = re.sub(\"사업자\", \"\", raw_data.at[i, \"개인법인\"])\n",
    "print(\"후\",raw_data.새채무상태.value_counts())"
   ]
  },
  {
   "cell_type": "code",
   "execution_count": 65,
   "metadata": {},
   "outputs": [],
   "source": [
    "# [ckeck]계좌별 채무상태 수정할 것 엑셀 저장\n",
    "# 범주가 다르게 적용되어서 현재는 의미가 없다. 보완이 필요\n",
    "# raw_data[raw_data.새채무상태 != raw_data.채무상태].loc[:,[\"채무자키\", \"계좌키\",\"매각사구분\",\"새채무상태\",\"채무상태\"]].to_excel(join(wd, basedate, \"9.계좌별채무상태달라진것.xlsx\"), index=False)"
   ]
  },
  {
   "cell_type": "code",
   "execution_count": 29,
   "metadata": {},
   "outputs": [],
   "source": [
    "# 최종OPB 작성하기\n",
    "개회OPB = rehabilitation_d.loc[:, [\"계좌키\", \"반영OPB\"]].rename(columns={\"반영OPB\" : \"최종OPB\"})\n",
    "신복OPB = credit_d.loc[:, [\"계좌키\", \"현재원금잔액\"]].rename(columns={\"현재원금잔액\" : \"최종OPB\"})\n",
    "신복OPB[\"최종OPB\"] = 신복OPB[\"최종OPB\"].astype(int)\n",
    "# 개회OPB와 신복OPB 병합\n",
    "merged_opb = 개회OPB.merge(신복OPB, on=['계좌키','최종OPB'], how='outer')\n",
    "# raw_data와 병합\n",
    "raw_data = raw_data.merge(merged_opb, on='계좌키', how='outer')\n",
    "# 조정이 아닌 경우, 종료이면 0, 아니면 OPB\n",
    "new_col = np.where(raw_data['새채무상태'] == '종료', 0, raw_data['OPB'])\n",
    "raw_data.loc[raw_data['최종OPB'].isnull(), '최종OPB'] = new_col[raw_data['최종OPB'].isnull()]"
   ]
  },
  {
   "cell_type": "code",
   "execution_count": 30,
   "metadata": {},
   "outputs": [],
   "source": [
    "# 전체 저장하기\n",
    "raw_data.to_excel(join(wd, basedate, \"2.솔림헬프_전체_원데이터_\"+basedate+\".xlsx\"), index=False)\n",
    "# 특정 매각사만 저장하기\n",
    "# cond = \"스마트저축-01\" ###################################\n",
    "# raw_data[raw_data.매각사구분==cond].to_excel(join(wd, cond+\"_원데이터_\"+basedate+\".xlsx\"), index=False)"
   ]
  },
  {
   "cell_type": "code",
   "execution_count": 96,
   "metadata": {},
   "outputs": [],
   "source": [
    "# [check] 더블 채무상태\n",
    "채무자별채무상태 = raw_data.groupby('주민등록번호')['새채무상태'].apply(lambda x:\",\".join(x.unique()))\n",
    "check_채무상태 = 채무자별채무상태[채무자별채무상태.str.contains(',')]\n",
    "# 출력\n",
    "if len(check_채무상태) > 0 : check_채무상태.to_excel(join(wd, basedate, \"9.더블채무상태.xlsx\"))"
   ]
  },
  {
   "cell_type": "code",
   "execution_count": 98,
   "metadata": {},
   "outputs": [],
   "source": [
    "# 제출용 시트 작성하기-개인회생 \n",
    "re_d = rehabilitation_d.loc[:,[\"채무자키\",\"계좌키\",\"분납키\",\"분납자성명인\",\"분납자관계\",\"매각사구분\", \"인가/미인가\",\"현재결과\", \"반영OPB\", \"관할법원\", \"사건번호\", \"접수일\", \"개시결정일\",\"변제계획인가일\",\"총분납회차\",\"현재회차\",\"납입회차\",\"잔여회차\",\"미납회차\",\"총분납금\",\"총분납입금\",\"분납미납금\",\"분납잔금\",\"총분납잔금\",\"현재원금\",\"현재법비용\",\"비고\"]]\n",
    "re_grt = rehabilitation_grt.loc[:,[\"채무자키\",\"계좌키\",\"분납키\",\"분납자성명인\",\"분납자관계\",\"매각사구분\", \"인가/미인가\",\"현재결과\", \"반영OPB\", \"관할법원\", \"사건번호\", \"접수일\", \"개시결정일\",\"변제계획인가일\",\"총분납회차\",\"현재회차\",\"납입회차\",\"잔여회차\",\"미납회차\",\"총분납금\",\"총분납입금\",\"분납미납금\",\"분납잔금\",\"총분납잔금\",\"현재원금\",\"현재법비용\",\"비고\"]]\n",
    "# re_d.insert(0, \"순번\", range(1,len(re_d)+1))\n",
    "# re_grt.insert(0, \"순번\", range(1,len(re_grt)+1))\n",
    "# 저장\n",
    "with pd.ExcelWriter(join(wd, basedate, \"2.솔림헬프_개인회생_원데이터_\"+basedate+\".xlsx\"), engine='openpyxl', mode = 'w') as writer :\n",
    "    re_d.to_excel(writer, sheet_name=\"차주\", index=False)\n",
    "    re_grt.to_excel(writer, sheet_name=\"보증인\", index=False)"
   ]
  },
  {
   "cell_type": "code",
   "execution_count": 104,
   "metadata": {},
   "outputs": [],
   "source": [
    "# 제출용 시트 작성하기-신용회복\n",
    "# 기준데이터에서 삭제한 것이 있을 때 유의미 & 차주 보증인 구분\n",
    "\n",
    "# 날짜열 문자열로\n",
    "date_cols = credit_d.select_dtypes(include='datetime').columns\n",
    "credit_d.loc[:,date_cols] = credit_d[date_cols].astype(str)\n",
    "date_cols = credit_grt.select_dtypes(include='datetime').columns\n",
    "credit_grt.loc[:,date_cols] = credit_grt[date_cols].astype(str)\n",
    "\n",
    "# 저장\n",
    "with pd.ExcelWriter(join(wd, basedate, \"2.솔림헬프_신용회복_원데이터_\"+basedate+\".xlsx\"), engine='openpyxl', mode = 'w') as writer :\n",
    "    credit_d.to_excel(writer, sheet_name=\"차주\", index=False)\n",
    "    credit_grt.to_excel(writer, sheet_name=\"보증인\", index=False)"
   ]
  },
  {
   "cell_type": "code",
   "execution_count": 100,
   "metadata": {},
   "outputs": [
    {
     "data": {
      "text/html": [
       "<div>\n",
       "<style scoped>\n",
       "    .dataframe tbody tr th:only-of-type {\n",
       "        vertical-align: middle;\n",
       "    }\n",
       "\n",
       "    .dataframe tbody tr th {\n",
       "        vertical-align: top;\n",
       "    }\n",
       "\n",
       "    .dataframe thead th {\n",
       "        text-align: right;\n",
       "    }\n",
       "</style>\n",
       "<table border=\"1\" class=\"dataframe\">\n",
       "  <thead>\n",
       "    <tr style=\"text-align: right;\">\n",
       "      <th></th>\n",
       "      <th>계좌키</th>\n",
       "      <th>최종OPB</th>\n",
       "    </tr>\n",
       "    <tr>\n",
       "      <th>새채무상태</th>\n",
       "      <th></th>\n",
       "      <th></th>\n",
       "    </tr>\n",
       "  </thead>\n",
       "  <tbody>\n",
       "    <tr>\n",
       "      <th>개인</th>\n",
       "      <td>32717</td>\n",
       "      <td>270489324790</td>\n",
       "    </tr>\n",
       "    <tr>\n",
       "      <th>법인</th>\n",
       "      <td>3864</td>\n",
       "      <td>293279746341</td>\n",
       "    </tr>\n",
       "    <tr>\n",
       "      <th>개인회생(확정)</th>\n",
       "      <td>6048</td>\n",
       "      <td>14011977004</td>\n",
       "    </tr>\n",
       "    <tr>\n",
       "      <th>개인회생(진행중)</th>\n",
       "      <td>455</td>\n",
       "      <td>3015099407</td>\n",
       "    </tr>\n",
       "    <tr>\n",
       "      <th>신용회복(개인)</th>\n",
       "      <td>9189</td>\n",
       "      <td>40882709363</td>\n",
       "    </tr>\n",
       "    <tr>\n",
       "      <th>신용회복(프리)</th>\n",
       "      <td>5942</td>\n",
       "      <td>35244968063</td>\n",
       "    </tr>\n",
       "    <tr>\n",
       "      <th>신용회복(진행중)</th>\n",
       "      <td>658</td>\n",
       "      <td>4261072432</td>\n",
       "    </tr>\n",
       "    <tr>\n",
       "      <th>종료</th>\n",
       "      <td>19284</td>\n",
       "      <td>0</td>\n",
       "    </tr>\n",
       "  </tbody>\n",
       "</table>\n",
       "</div>"
      ],
      "text/plain": [
       "             계좌키        최종OPB\n",
       "새채무상태                        \n",
       "개인         32717 270489324790\n",
       "법인          3864 293279746341\n",
       "개인회생(확정)    6048  14011977004\n",
       "개인회생(진행중)    455   3015099407\n",
       "신용회복(개인)    9189  40882709363\n",
       "신용회복(프리)    5942  35244968063\n",
       "신용회복(진행중)    658   4261072432\n",
       "종료         19284            0"
      ]
     },
     "execution_count": 100,
     "metadata": {},
     "output_type": "execute_result"
    }
   ],
   "source": [
    "# 요약 \n",
    "pd.options.display.float_format = '{:.0f}'.format\n",
    "# 특정 POOL\n",
    "# pool계좌키 = pd.read_excel(\"c://users/sl/Desktop/계좌키.xlsx\", dtype={\"계좌키\":str})\n",
    "# pool = pd.merge(raw_data,pool계좌키, on='계좌키', how='inner')\n",
    "# result = pool.groupby('새채무상태').agg({'계좌키':'count', '최종OPB':'sum'}).reindex(index=['개인','법인','개인회생(확정)','개인회생(진행중)','신용회복(개인)','신용회복(프리)','신용회복(진행중)','종료'])\n",
    "# result\n",
    "# 전체\n",
    "raw_data.groupby('새채무상태').agg({'계좌키':'count', '최종OPB':'sum'}).reindex(index=['개인','법인','개인회생(확정)','개인회생(진행중)','신용회복(개인)','신용회복(프리)','신용회복(진행중)','종료'])"
   ]
  },
  {
   "attachments": {},
   "cell_type": "markdown",
   "metadata": {},
   "source": [
    "### POOL별 엑셀 파일 만들기"
   ]
  },
  {
   "cell_type": "code",
   "execution_count": 2,
   "metadata": {},
   "outputs": [],
   "source": [
    "# 원데이터 읽기\n",
    "\n",
    "# # 바로 작업\n",
    "# 무담보 = raw_data[raw_data[\"새채무상태\"].isin([\"개인\",\"법인\"])].iloc[:,:-1]\n",
    "\n",
    "# 새로 읽기\n",
    "wd = r\"D:\\3.자산\\전산 dataset\\230430\\매각환매 채무상태 수정후\"\n",
    "basedate = \"230430\"\n",
    "files = [\"2.솔림헬프_개인회생_원데이터_230430\", \"2.솔림헬프_신용회복_원데이터_230430\", \"2.솔림헬프_전체_원데이터_230430\"]\n",
    "\n",
    "# 1.개인회생\n",
    "re_d = pd.read_excel(join(wd, files[0]+\".xlsx\"), dtype=rehabilitation_dtype, sheet_name=\"차주\").fillna(\"\")\n",
    "re_grt = pd.read_excel(join(wd, files[0]+\".xlsx\"), dtype=rehabilitation_dtype, sheet_name=\"보증인\").fillna(\"\")\n",
    "\n",
    "# 2.신용회복\n",
    "credit_d = pd.read_excel(join(wd, files[1]+\".xlsx\"), dtype=credit_dtype, sheet_name=\"차주\").fillna(\"\")\n",
    "credit_grt = pd.read_excel(join(wd, files[1]+\".xlsx\"), dtype=credit_dtype, sheet_name=\"보증인\").fillna(\"\")\n",
    "\n",
    "# NaT값을 \"\"\n",
    "credit_d.replace({pd.NaT: \"\"}, inplace=True)\n",
    "credit_grt.replace({pd.NaT: \"\"}, inplace=True)\n",
    "\n",
    "# 날짜타입 칼럼\n",
    "# date_cols = credit_d.select_dtypes(include='datetime').columns\n",
    "# credit_d.loc[:,date_cols] = credit_d[date_cols].astype(str)\n",
    "# date_cols = credit_grt.select_dtypes(include='datetime').columns\n",
    "# credit_grt.loc[:,date_cols] = credit_grt[date_cols].astype(str)\n",
    "\n",
    "# 3.무담보\n",
    "raw_data = pd.read_excel(join(wd, files[2]+\".xlsx\"), dtype=account_dtype, sheet_name=\"리스트\").fillna(\"\")"
   ]
  },
  {
   "cell_type": "code",
   "execution_count": 3,
   "metadata": {},
   "outputs": [],
   "source": [
    "###################################################\n",
    "# 무담보 채무상태 추가작업\n",
    "raw_data.loc[raw_data.채무상태.str.contains(\"파산|사망\"),\"새채무상태\"] = \"종료\"\n",
    "###################################################"
   ]
  },
  {
   "cell_type": "code",
   "execution_count": 4,
   "metadata": {},
   "outputs": [],
   "source": [
    "# 풀데이터 읽기\n",
    "pooldata = pd.read_excel(r\"D:\\3.자산\\POOL별 관리자산\\전체\\0.전체정리_230331_채권구분&POOL표시.xlsx\", sheet_name=\"POOL정리\", dtype={\"채무자키\":str})"
   ]
  },
  {
   "cell_type": "code",
   "execution_count": 5,
   "metadata": {},
   "outputs": [],
   "source": [
    "# POOL별 채무자키\n",
    "pool_dict = {\n",
    "            # \"POOL1\" : pooldata.query('P1==True')[\"채무자키\"],\n",
    "            # \"POOL2\" : pooldata.query('P2==True')[\"채무자키\"],\n",
    "            # \"POOL3\" : pooldata.query('P3==True')[\"채무자키\"],\n",
    "            # \"POOL4\" : pooldata.query('P4==True')[\"채무자키\"],\n",
    "            # \"POOL5\" : pooldata.query('P5==True')[\"채무자키\"],\n",
    "            # \"POOL6\" : pooldata.query('P6==True')[\"채무자키\"],\n",
    "            # \"POOL7\" : pooldata.query('P7==True')[\"채무자키\"],\n",
    "            # \"POOL8\" : pooldata.query('P8==True')[\"채무자키\"],\n",
    "            # \"POOL9\" : pooldata.query('P9==True')[\"채무자키\"],\n",
    "            # \"POOL10\" : pooldata.query('P10==True')[\"채무자키\"],\n",
    "            # \"POOL11\" : pooldata.query('P11==True')[\"채무자키\"],\n",
    "            # \"POOL12\" : pooldata.query('P12==True')[\"채무자키\"],\n",
    "            # \"POOL13\" : pooldata.query('P13==True')[\"채무자키\"],\n",
    "            # \"POOL14\" : pooldata.query('P14==True')[\"채무자키\"],\n",
    "            # \"POOL15\" : pooldata.query('P15==True')[\"채무자키\"],\n",
    "            \"A1\" : pooldata.query('A1==True')[\"채무자키\"]\n",
    "            }"
   ]
  },
  {
   "attachments": {},
   "cell_type": "markdown",
   "metadata": {},
   "source": [
    "##### 풀별 내부/발송 파일 만들기\n",
    "- 일부 풀만 작업할 경우 위 pool_dict 주석처리를 통해"
   ]
  },
  {
   "cell_type": "code",
   "execution_count": 6,
   "metadata": {},
   "outputs": [
    {
     "name": "stderr",
     "output_type": "stream",
     "text": [
      "100%|██████████| 1/1 [00:01<00:00,  1.57s/it]\n"
     ]
    }
   ],
   "source": [
    "pd.set_option('mode.chained_assignment', None)\n",
    "\n",
    "for pool_kind, pool_keys in tqdm(pool_dict.items(), total=len(pool_dict))  : \n",
    "    \n",
    "    ###### 내부용 만들기############################################################\n",
    "    file_kind = \"내부\"\n",
    "    # 풀 원데이터\n",
    "    pool_raw = raw_data[raw_data.채무자키.isin(pool_keys)]\n",
    "    # 풀 무담보, 종료건\n",
    "    pool_무담보 = pool_raw[pool_raw[\"새채무상태\"].isin([\"개인\",\"법인\"])].iloc[:,:-1] # 무담보는 opb = 최종opb니까\n",
    "    pool_종료 = pool_raw[pool_raw[\"새채무상태\"]==\"종료\"].iloc[:,:-1]\n",
    "    # 풀 조정건\n",
    "    pool_re_d = re_d[re_d.채무자키.isin(pool_keys)]\n",
    "    pool_re_grt = re_grt[re_grt.채무자키.isin(pool_keys)]\n",
    "    pool_credit_d = credit_d[credit_d.채무자키.isin(pool_keys)]\n",
    "    pool_credit_grt = credit_grt[credit_grt.채무자키.isin(pool_keys)]\n",
    "\n",
    "    #순번 넣기\n",
    "    pool_종료.insert(0, \"순번\", range(1,len(pool_종료)+1))\n",
    "    pool_무담보.insert(0, \"순번\", range(1,len(pool_무담보)+1))\n",
    "    pool_re_d.insert(0, \"순번\", range(1,len(pool_re_d)+1))\n",
    "    pool_re_grt.insert(0, \"순번\", range(1,len(pool_re_grt)+1))\n",
    "    pool_credit_d[\"No.\"] = range(1,len(pool_credit_d)+1)\n",
    "    pool_credit_grt[\"No.\"] = range(1,len(pool_credit_grt)+1)\n",
    "\n",
    "    ####### 요약시트[시작]\n",
    "    summary = pool_raw.groupby('새채무상태').agg({'계좌키':'count', '최종OPB':'sum'}).reindex(index=['개인','법인','개인회생(확정)','개인회생(진행중)','신용회복(개인)','신용회복(프리)','신용회복(진행중)','종료'])\n",
    "    summary.rename(columns={'계좌키':'건수', '최종OPB':\"OPB\"}, inplace=True)\n",
    "\n",
    "    # 보증인 합산\n",
    "    summary[\"건수(보증인)\"] = [\n",
    "        0,0, # 무담보는 그대로\n",
    "        pool_re_grt[pool_re_grt['인가/미인가']==\"인가\"].계좌키.count(), # 보증인은 없는 경우 있어서 그룹화하면 index에러날 수 있음\n",
    "        pool_re_grt[pool_re_grt['인가/미인가']==\"미인가\"].계좌키.count(),\n",
    "        pool_credit_grt[(pool_credit_grt.진행구분==\"확정\") & (pool_credit_grt.상환방식==\"개인\")].계좌키.count(),\n",
    "        pool_credit_grt[(pool_credit_grt.진행구분==\"확정\") & (pool_credit_grt.상환방식==\"프리\")].계좌키.count(),\n",
    "        pool_credit_grt[pool_credit_grt.진행구분==\"미확정\"].계좌키.count(), 0\n",
    "    ]\n",
    "    summary[\"OPB(보증인)\"] = [\n",
    "        0,0, # 무담보는 그대로\n",
    "        pool_re_grt[pool_re_grt['인가/미인가']==\"인가\"].반영OPB.sum(),\n",
    "        pool_re_grt[pool_re_grt['인가/미인가']==\"미인가\"].반영OPB.sum(),\n",
    "        pool_credit_grt[(pool_credit_grt.진행구분==\"확정\") & (pool_credit_grt.상환방식==\"개인\")].OPB.sum(),\n",
    "        pool_credit_grt[(pool_credit_grt.진행구분==\"확정\") & (pool_credit_grt.상환방식==\"프리\")].OPB.sum(),\n",
    "        pool_credit_grt[pool_credit_grt.진행구분==\"미확정\"].OPB.sum(), 0\n",
    "    ]\n",
    "\n",
    "    # \"종결\" 행 제외한 열의 합계 계산\n",
    "    row_sum = summary[summary.index != \"종료\"].sum()\n",
    "    summary.loc[\"계(종료제외)\"] = row_sum\n",
    "    summary = summary.reindex(index=['개인','법인','개인회생(확정)','개인회생(진행중)','신용회복(개인)','신용회복(프리)','신용회복(진행중)',\"계(종료제외)\",'종료'])\n",
    "\n",
    "    summary = summary.fillna(0).astype(dtype='int64')\n",
    "    summary.rename_axis(\"구분\", inplace=True)\n",
    "    \n",
    "\n",
    "    ######### 엑셀 쓰기\n",
    "    wb = Workbook()\n",
    "    ws1 = wb.active\n",
    "    ws1.title = \"요약\"\n",
    "    ws2 = wb.create_sheet(\"무담보\")\n",
    "    ws3 = wb.create_sheet(\"개인회생_차주\")\n",
    "    ws4 = wb.create_sheet(\"개인회생_보증인\")\n",
    "    ws5 = wb.create_sheet(\"신용회복_차주\")\n",
    "    ws6 = wb.create_sheet(\"신용회복_보증인\")\n",
    "    ws7 = wb.create_sheet(\"종결\")\n",
    "\n",
    "    # 시트에 데이터 쓰기\n",
    "    for r in dataframe_to_rows(summary, index=True, header=True): ws1.append(r)\n",
    "    # a1에 구분 넣고 요약셀 2행 삭제\n",
    "    ws1['a1'] = \"구분\"\n",
    "    ws1.delete_rows(2)\n",
    "    for r in dataframe_to_rows(pool_무담보, index=False, header=True): ws2.append(r)\n",
    "    for r in dataframe_to_rows(pool_re_d, index=False, header=True): ws3.append(r)\n",
    "    for r in dataframe_to_rows(pool_re_grt, index=False, header=True): ws4.append(r)\n",
    "    for r in dataframe_to_rows(pool_credit_d, index=False, header=True): ws5.append(r)\n",
    "    for r in dataframe_to_rows(pool_credit_grt, index=False, header=True): ws6.append(r)\n",
    "    for r in dataframe_to_rows(pool_종료, index=False, header=True): ws7.append(r)\n",
    "\n",
    "    # 스타일 지정\n",
    "    # 폰트\n",
    "    #font = Font(name='NN30', size=10, color='FF000000')\n",
    "    # 폰트 (데이터 부분)\n",
    "    font_data = Font(name='NN30', size=10)\n",
    "    # 배경색\n",
    "    fill_col = PatternFill(fill_type='solid', start_color='FF0072C6', end_color='FF0072C6')\n",
    "    fill_new = PatternFill(fill_type='solid', start_color='FF49C620', end_color='FF49C620')\n",
    "    # 테두리\n",
    "    border = Border(left=Side(style='thin'), right=Side(style='thin'), top=Side(style='thin'), bottom=Side(style='thin'))\n",
    "    # 정렬\n",
    "    alignment = Alignment(horizontal='center', vertical='center')\n",
    "\n",
    "    for ws in [ws1,ws2,ws3,ws4,ws5,ws6,ws7] :\n",
    "\n",
    "        # 컬럼명 스타일 적용\n",
    "        for cell in ws[1]:\n",
    "            cell.font = Font(name='NN30', size=10, color='FFFFFF', bold=True)\n",
    "            if cell.value is not None and cell.value.startswith('새') : cell.fill = fill_new\n",
    "            else : cell.fill = fill_col\n",
    "            cell.border = border\n",
    "            cell.alignment = alignment\n",
    "\n",
    "        # 데이터 부분 스타일 적용\n",
    "        for row in ws.iter_rows(min_row=2):\n",
    "            for cell in row:\n",
    "                # 숫자 데이터인 경우\n",
    "                if isinstance(cell.value, (int, float)):\n",
    "                    cell.font = font_data\n",
    "                    cell.number_format = '#,##0' if isinstance(cell.value, int) else '#,##0.00'\n",
    "                    cell.alignment = Alignment(horizontal='right', vertical='center')\n",
    "                # 날짜 데이터인 경우\n",
    "                elif isinstance(cell.value, pd.Timestamp):\n",
    "                    cell.font = font_data\n",
    "                    cell.number_format = 'yyyy-mm-dd'\n",
    "                    cell.alignment = alignment\n",
    "                # 나머지 문자열 데이터인 경우\n",
    "                else:\n",
    "                    cell.font = font_data\n",
    "                    cell.alignment = alignment\n",
    "                cell.border = border\n",
    "\n",
    "    # 요약시트 \"계(종료제외)\" 배경색\n",
    "    for cell in ws1[9]:\n",
    "        cell.fill = PatternFill(fill_type='solid', start_color='B8CCE4', end_color='B8CCE4')\n",
    "\n",
    "    # 파일 저장\n",
    "    wb.save(join(wd, pool_kind+\"_데이터_\"+basedate+\"_\"+file_kind+\".xlsx\"))\n",
    "\n",
    "\n",
    "    ###### 발송용 만들기############################################################\n",
    "    file_kind = \"발송\" ####\n",
    "\n",
    "    pool_무담보.drop(['새채무상태','채무상태','담당자'], axis=1, inplace=True)\n",
    "    pool_무담보[\"성명\"] = pool_무담보[\"성명\"].apply(lambda x:x[:1]+\"\\u25CB\"+x[2:])\n",
    "    pool_무담보[\"주민등록번호\"] = pool_무담보[\"주민등록번호\"].apply(lambda x : x[:8]+\"*\"*len(x[8:]))\n",
    "    pool_re_d[\"분납자성명인\"] = pool_re_d[\"분납자성명인\"].apply(lambda x:x[:1]+\"\\u25CB\"+x[2:])\n",
    "    pool_re_grt[\"분납자성명인\"] = pool_re_grt[\"분납자성명인\"].apply(lambda x:x[:1]+\"\\u25CB\"+x[2:])\n",
    "    pool_credit_d[\"고객명\"] = pool_credit_d[\"고객명\"].apply(lambda x:x[:1]+\"\\u25CB\"+x[2:])\n",
    "    pool_credit_d[\"고객식별번호\"] = pool_credit_d[\"고객식별번호\"].apply(lambda x : x[:8]+\"*\"*len(x[8:]))\n",
    "    pool_credit_grt[\"고객명\"] = pool_credit_grt[\"고객명\"].apply(lambda x:x[:1]+\"\\u25CB\"+x[2:])\n",
    "    pool_credit_grt[\"고객식별번호\"] = pool_credit_grt[\"고객식별번호\"].apply(lambda x : x[:8]+\"*\"*len(x[8:]))\n",
    "    pool_종료 = pool_종료[[\"순번\",\"채무자키\",\"계좌키\",\"채무상태\",\"성명\",\"주민등록번호\"]]\n",
    "    pool_종료[\"성명\"] = pool_종료[\"성명\"].apply(lambda x:x[:1]+\"\\u25CB\"+x[2:])\n",
    "    pool_종료[\"주민등록번호\"] = pool_종료[\"주민등록번호\"].apply(lambda x : x[:8]+\"*\"*len(x[8:]))\n",
    "\n",
    "    wb = Workbook()\n",
    "    ws1 = wb.active\n",
    "    ws1.title = \"요약\"\n",
    "    ws2 = wb.create_sheet(\"무담보\")\n",
    "    ws3 = wb.create_sheet(\"개인회생_차주\")\n",
    "    ws4 = wb.create_sheet(\"개인회생_보증인\")\n",
    "    ws5 = wb.create_sheet(\"신용회복_차주\")\n",
    "    ws6 = wb.create_sheet(\"신용회복_보증인\")\n",
    "    ws7 = wb.create_sheet(\"종결\")\n",
    "\n",
    "    # 시트에 데이터 쓰기\n",
    "    for r in dataframe_to_rows(summary, index=True, header=True): ws1.append(r)\n",
    "    for r in dataframe_to_rows(pool_무담보, index=False, header=True): ws2.append(r)\n",
    "    for r in dataframe_to_rows(pool_re_d, index=False, header=True): ws3.append(r)\n",
    "    for r in dataframe_to_rows(pool_re_grt, index=False, header=True): ws4.append(r)\n",
    "    for r in dataframe_to_rows(pool_credit_d, index=False, header=True): ws5.append(r)\n",
    "    for r in dataframe_to_rows(pool_credit_grt, index=False, header=True): ws6.append(r)\n",
    "    for r in dataframe_to_rows(pool_종료, index=False, header=True): ws7.append(r)\n",
    "\n",
    "    # 스타일 지정\n",
    "    # 폰트\n",
    "    #font = Font(name='NN30', size=10, color='FF000000')\n",
    "    # 폰트 (데이터 부분)\n",
    "    font_data = Font(name='NN30', size=10)\n",
    "    # 배경색\n",
    "    fill = PatternFill(fill_type='solid', start_color='FF0072C6', end_color='FF0072C6')\n",
    "    # 테두리\n",
    "    border = Border(left=Side(style='thin'), right=Side(style='thin'), top=Side(style='thin'), bottom=Side(style='thin'))\n",
    "    # 정렬\n",
    "    alignment = Alignment(horizontal='center', vertical='center')\n",
    "\n",
    "    for ws in [ws1,ws2,ws3,ws4,ws5,ws6,ws7] :\n",
    "\n",
    "        # 컬럼명 스타일 적용\n",
    "        for cell in ws[1]: # 시트의 1행의 셀 반복\n",
    "            cell.font = Font(name='NN30', size=10, color='FFFFFF', bold=True)\n",
    "            cell.fill = fill\n",
    "            cell.border = border\n",
    "            cell.alignment = alignment\n",
    "\n",
    "        # 데이터 부분 스타일 적용\n",
    "        for row in ws.iter_rows(min_row=2):\n",
    "            for cell in row:\n",
    "                # 숫자 데이터인 경우\n",
    "                if isinstance(cell.value, (int, float)):\n",
    "                    cell.font = font_data\n",
    "                    cell.number_format = '#,##0' if isinstance(cell.value, int) else '#,##0.00'\n",
    "                    cell.alignment = Alignment(horizontal='right', vertical='center')\n",
    "                # 날짜 데이터인 경우\n",
    "                elif isinstance(cell.value, pd.Timestamp):\n",
    "                    cell.font = font_data\n",
    "                    cell.number_format = 'yyyy-mm-dd'\n",
    "                    cell.alignment = alignment\n",
    "                # 나머지 문자열 데이터인 경우\n",
    "                else:\n",
    "                    cell.font = font_data\n",
    "                    cell.alignment = alignment\n",
    "                cell.border = border\n",
    "        \n",
    "    # 요약시트 \"계(종료제외)\" 배경색\n",
    "    for cell in ws1[10]:\n",
    "        cell.fill = PatternFill(fill_type='solid', start_color='B8CCE4', end_color='B8CCE4')\n",
    "\n",
    "    # 파일 저장\n",
    "    wb.save(join(wd, pool_kind+\"_데이터_\"+basedate+\"_\"+file_kind+\".xlsx\"))\n"
   ]
  },
  {
   "cell_type": "code",
   "execution_count": null,
   "metadata": {},
   "outputs": [],
   "source": [
    "############## 끝 ###################"
   ]
  },
  {
   "attachments": {},
   "cell_type": "markdown",
   "metadata": {},
   "source": [
    "### 인적속성 - 다중채무, 다중담당 체크하기"
   ]
  },
  {
   "cell_type": "code",
   "execution_count": 301,
   "metadata": {},
   "outputs": [],
   "source": [
    "####전산_check_전체계좌.ipynb 에도 있음\n",
    "account = pd.read_pickle(r\"D:\\3.자산\\전산 dataset\\230430\\계좌조회새창_20230502_0847.pkl\")\n",
    "new_debtKey = pd.read_pickle(r\"C:\\Users\\SL\\Desktop\\workspace\\python\\fileNaming\\파일\\새채무자키.pkl\")[[\"새채무자키\",\"채무자키\",\"계좌키\"]]\n",
    "# 새채무자키 병합하기\n",
    "account.drop(account[account.채무자명==\"예수금\"].index, inplace=True)\n",
    "account = pd.merge(account, new_debtKey[[\"계좌키\",\"새채무자키\",]], on='계좌키', how='left')\n",
    "\n",
    "# 필요열만 새로운 df로 & 정렬\n",
    "new_debtKey = account[[\"새채무자키\", '채무자키','계좌키','채무상태','담당자']].copy()\n",
    "new_debtKey.sort_values(['새채무자키', '채무자키', '계좌키'], inplace=True)\n",
    "\n",
    "###### multi_index : 조작하기는 어렵고, 엑셀로 보낼때 자동으로 병합이 되어서 보기는 좋음\n",
    "x = account.set_index(['새채무자키','채무자키','계좌키'],drop=True)[\"채무상태\"]\n",
    "# 다중채무, 다중담당 T/F값 입력\n",
    "x = new_debtKey.groupby('새채무자키')\n",
    "new_debtKey['다중채무상태여부'] = x['채무상태'].transform(lambda s: np.any(s != s.iloc[0]))\n",
    "new_debtKey['다중담당여부'] = x['담당자'].transform(lambda s: np.any(s != s.iloc[0]))\n",
    "# 다중인 것들만 \n",
    "check = new_debtKey[new_debtKey[\"다중채무상태여부\"] | new_debtKey['다중담당여부']].copy()\n",
    "# index설정\n",
    "gc = check.set_index(['새채무자키', '채무자키'], drop=True)\n",
    "#저장\n",
    "gc.to_excel(r\"c://Users/SL/Desktop/check_채무상태(병합).xlsx\")"
   ]
  },
  {
   "cell_type": "code",
   "execution_count": 302,
   "metadata": {},
   "outputs": [],
   "source": []
  },
  {
   "cell_type": "code",
   "execution_count": 306,
   "metadata": {},
   "outputs": [],
   "source": []
  },
  {
   "cell_type": "code",
   "execution_count": 224,
   "metadata": {},
   "outputs": [],
   "source": []
  },
  {
   "cell_type": "code",
   "execution_count": 307,
   "metadata": {},
   "outputs": [],
   "source": []
  },
  {
   "cell_type": "code",
   "execution_count": 308,
   "metadata": {},
   "outputs": [],
   "source": []
  },
  {
   "cell_type": "code",
   "execution_count": 309,
   "metadata": {},
   "outputs": [],
   "source": []
  },
  {
   "cell_type": "code",
   "execution_count": 311,
   "metadata": {},
   "outputs": [],
   "source": []
  },
  {
   "attachments": {},
   "cell_type": "markdown",
   "metadata": {},
   "source": [
    "### 시효(계좌)"
   ]
  },
  {
   "cell_type": "code",
   "execution_count": 14,
   "metadata": {},
   "outputs": [],
   "source": [
    "wd = r\"C:\\Users\\SL\\Desktop\\자산정리test파일\"\n",
    "filename_account = \"계좌조회새창_20230502_0847.pkl\"\n",
    "PATH_NEW_DEBTKEY = r\"C:\\Users\\SL\\Desktop\\자산정리test파일\\새채무자키.pkl\"\n",
    "\n",
    "account = pd.read_pickle(join(wd,filename_account))\n",
    "new_debtKey = pd.read_pickle(PATH_NEW_DEBTKEY)\n",
    "today = datetime.today().strftime(\"%y%m%d\")"
   ]
  },
  {
   "cell_type": "code",
   "execution_count": 15,
   "metadata": {},
   "outputs": [],
   "source": [
    "# 새채무자키 병합하기\n",
    "account.drop(account[account.채무자명==\"예수금\"].index, inplace=True)\n",
    "account = pd.merge(account, new_debtKey[[\"계좌키\",\"새채무자키\",]], on='계좌키', how='left')"
   ]
  },
  {
   "cell_type": "code",
   "execution_count": null,
   "metadata": {},
   "outputs": [],
   "source": [
    "# 필요열만 새로운 df로 & 정렬\n",
    "account_limit_info = account[[\"새채무자키\", '채무자키','계좌키','채무상태','담당자', \"시효완성일\", \"시효완성월\", \"최초연체일\", \"최초시효완성일메모\", \"시효연장사유\", \"시효중단여부\"]].copy()\n",
    "account_limit_info.sort_values(['새채무자키', '채무자키', '계좌키'], inplace=True)"
   ]
  },
  {
   "cell_type": "code",
   "execution_count": null,
   "metadata": {},
   "outputs": [],
   "source": [
    "# 동일한 새채무자키 시효중단여부 : 시효가 ##########################################작성중 중단\n",
    "def set_extension_info(group):\n",
    "    if 'Y' in group['시효중단여부'].values:\n",
    "        group.loc[group['시효중단여부'] == '', '시효중단여부'] = 'Y'\n",
    "        extension_reason = group.loc[group['시효중단여부'] == 'Y', '시효연장사유'].values[0]\n",
    "        group['시효연장사유'] = extension_reason\n",
    "    return group\n",
    "\n",
    "account_limit_info = account_limit_info.groupby('새채무자키').apply(set_extension_info)\n"
   ]
  },
  {
   "cell_type": "code",
   "execution_count": null,
   "metadata": {},
   "outputs": [],
   "source": []
  },
  {
   "cell_type": "code",
   "execution_count": null,
   "metadata": {},
   "outputs": [],
   "source": []
  },
  {
   "attachments": {},
   "cell_type": "markdown",
   "metadata": {},
   "source": [
    "### 시효(법조치)"
   ]
  },
  {
   "cell_type": "code",
   "execution_count": 8,
   "metadata": {},
   "outputs": [],
   "source": [
    "wd = r\"C:\\Users\\SL\\Desktop\\자산정리test파일\"\n",
    "filename_event = \"법조치조회새창_20230522_2054.xlsx\"\n",
    "dtype_event = {\"채무자키\":str, \"계좌키\":str, \"법조치키\":str}\n",
    "today = datetime.today().strftime(\"%y%m%d\")"
   ]
  },
  {
   "cell_type": "code",
   "execution_count": 9,
   "metadata": {},
   "outputs": [
    {
     "name": "stderr",
     "output_type": "stream",
     "text": [
      "c:\\Users\\SL\\anaconda3\\lib\\site-packages\\openpyxl\\styles\\stylesheet.py:226: UserWarning: Workbook contains no default style, apply openpyxl's default\n",
      "  warn(\"Workbook contains no default style, apply openpyxl's default\")\n"
     ]
    }
   ],
   "source": [
    "# 파일 읽기/필요칼럼추리기/원본파일pkl과 필요컬럼xlsx 파일 저장하기\n",
    "df_event_ori = pd.read_excel(join(wd, filename_event), dtype=dtype_event)"
   ]
  },
  {
   "cell_type": "code",
   "execution_count": null,
   "metadata": {},
   "outputs": [],
   "source": [
    "df_event = pd.DataFrame(None, columns=[\"채무자키\", \"계좌키\", \"법조치키\", \"법조치구분\", \"법조치세부\", \"관할법원\", \"사건번호\", \"사건구분\", \"접수일\", \"확정일\", \"종료일\",\n",
    "    \"법조치상태\", \"종국결과\", \"청구금액법원\", \"청구금액\", \"관련법조치관할법원\", \"관련법조치사건번호\"])\n",
    "    ###################################################### 여기까지 하고 계좌시트 작업으로 넘어감\n",
    "df_event.채무자키 = df_event_ori.채무자키\n",
    "df_event.계좌키 = df_event_ori.계좌키\n",
    "df_event.신청일자 = df_event_ori.접수일\n",
    "df_event.법무구분 = df_event_ori.법조치구분\n",
    "df_event.관할법원 = df_event_ori.관할법원\n",
    "df_event.사건번호 = df_event_ori.사건번호.str.replace(\" \", \"\")\n",
    "df_event.사건구분 = df_event_ori.사건구분\n",
    "df_event.진행상태 = df_event_ori.종국결과\n",
    "df_event.청구금액법원 = df_event_ori.청구금액법원\n",
    "df_event.청구금액 = df_event_ori.청구금액\n",
    "print(len(df_event.index))\n",
    "\n",
    "####################\n",
    "# 중복제거전 저장\n",
    "df_event.to_pickle(join(wd, \"전처리완료\", \"전처리_법조치_중복미제거.pkl\"))\n",
    "#df_event.to_excel(join(wd, \"전처리완료\", \"전처리_법조치_중복미제거.xlsx\"), index=False)\n",
    "####################\n",
    "\n",
    "# 채무자키로 전 계좌 불러오기\n",
    "work_all_account = all_df[all_df.채무자키.isin(work_df.채무자키)].copy() # 객체 새로 만들지 않으면 계속 copywarning 나옴\n",
    "# 전 계좌 중 작업 계좌에 있거나, 종결된 계좌면 Y, 아니면 N(솔림 잔존계좌)\n",
    "cond = (work_all_account.계좌키.isin(work_df.계좌키)) | (work_all_account.종결일 != \"\")\n",
    "work_all_account[\"계좌작업대상여부\"] = np.where(cond, \"Y\", \"N\")\n",
    "\n",
    "# 채무자키별로 전계좌 여부 확인 후 파일 저장하기\n",
    "result = pd.DataFrame(None, columns=[\"채무자키\", \"전계좌여부\", \"채무상태\", \"담당자\", \"채무자명\"])\n",
    "temp = work_all_account.drop_duplicates('채무자키').copy()\n",
    "result[\"채무자키\"] = temp.채무자키.values\n",
    "result[\"채무상태\"] = temp.채무상태.values # 순서 조작만 하지 않으면 굳이 일치조건 하지 않아도 됨.\n",
    "result[\"담당자\"] = temp.담당자.values\n",
    "result[\"채무자명\"] = temp.채무자명.values\n",
    "\n",
    "\n",
    "# 작업대상여부의 유니크값이 1이면 모두 Y (모두 N인 경우는 논리적으로 불가능), 2면 작업계좌와 잔존계좌가 혼재한 것이므로 일부계좌\n",
    "g = work_all_account.groupby('채무자키') # 그룹화는 원본 df의 순서와 다를 수 있음!!!!!!!!\n",
    "for i, v in result.iterrows() : \n",
    "     if g.get_group(v.채무자키).계좌작업대상여부.nunique() == 1 :\n",
    "          result.loc[i, \"전계좌여부\"]=\"전계좌\"\n",
    "     else : result.loc[i, \"전계좌여부\"]=\"일부계좌\"\n",
    "\n",
    "# 저장하기\n",
    "result.to_excel(path_save, index=False)"
   ]
  },
  {
   "cell_type": "code",
   "execution_count": 169,
   "metadata": {},
   "outputs": [],
   "source": []
  },
  {
   "cell_type": "code",
   "execution_count": null,
   "metadata": {},
   "outputs": [],
   "source": []
  },
  {
   "cell_type": "code",
   "execution_count": 8,
   "metadata": {},
   "outputs": [],
   "source": []
  },
  {
   "cell_type": "code",
   "execution_count": 11,
   "metadata": {},
   "outputs": [],
   "source": []
  },
  {
   "cell_type": "code",
   "execution_count": 13,
   "metadata": {},
   "outputs": [],
   "source": []
  },
  {
   "cell_type": "code",
   "execution_count": null,
   "metadata": {},
   "outputs": [],
   "source": []
  }
 ],
 "metadata": {
  "kernelspec": {
   "display_name": "base",
   "language": "python",
   "name": "python3"
  },
  "language_info": {
   "codemirror_mode": {
    "name": "ipython",
    "version": 3
   },
   "file_extension": ".py",
   "mimetype": "text/x-python",
   "name": "python",
   "nbconvert_exporter": "python",
   "pygments_lexer": "ipython3",
   "version": "3.9.13"
  },
  "orig_nbformat": 4,
  "vscode": {
   "interpreter": {
    "hash": "38d617750889899e5f2f65cac6f27a322f361a63d334879a800ee5491961f90c"
   }
  }
 },
 "nbformat": 4,
 "nbformat_minor": 2
}
