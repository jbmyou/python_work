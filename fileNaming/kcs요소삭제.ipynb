{
 "cells": [
  {
   "cell_type": "code",
   "execution_count": 30,
   "metadata": {},
   "outputs": [],
   "source": [
    "import os\n",
    "import pickle\n",
    "import binascii\n",
    "\n",
    "def crc32_checksum(filename):\n",
    "    buf = open(filename,'rb').read()\n",
    "    buf = (binascii.crc32(buf) & 0xFFFFFFFF)\n",
    "    return \"%08X\" % buf\n",
    "\n",
    "def get_kcs(path_192) :\n",
    "    crc32 = str(crc32_checksum(path_192))\n",
    "    size = str(os.path.getsize(path_192))\n",
    "    f = os.path.split(path_192)[1]\n",
    "    key = f[:8]\n",
    "    kcs = key + crc32 + size \n",
    "    return kcs\n",
    "\n",
    "def read_cks(path_kcs) :\n",
    "    with open(path_kcs, \"rb\") as pkl :\n",
    "        return pickle.load(pkl)\n",
    "\n",
    "def delete_kcs(filePath, dict_kcs) :\n",
    "    k = os.path.split(filePath)[1][:8]\n",
    "    c = str(crc32_checksum(filePath))\n",
    "    s = str(os.path.getsize(filePath))\n",
    "    kcs = k + c + s\n",
    "    if kcs in dict_kcs :\n",
    "        del dict_kcs[kcs]\n",
    "        print(\"삭제하였습니다.\")\n",
    "    else :\n",
    "      print(filePath, kcs, \"없는 키값\")\n",
    "\n",
    "def write_cks(path_kcs, dict_kcs) :\n",
    "    with open(path_kcs, \"wb\") as pkl :\n",
    "        pickle.dump(dict_kcs, pkl)\n",
    "\n",
    "path_kcs = r\"\\\\192.168.0.75\\스캔파일\\스캔파일log\\_project\\파일\\중복조사\\kcs별 파일정보_솔림헬프.pkl\""
   ]
  },
  {
   "cell_type": "code",
   "execution_count": null,
   "metadata": {},
   "outputs": [],
   "source": [
    "# 읽기\n",
    "dict_kcs = read_cks(path_kcs)\n",
    "print(\"최초dict_kcs개수 :\", len(dict_kcs))"
   ]
  },
  {
   "cell_type": "code",
   "execution_count": null,
   "metadata": {},
   "outputs": [],
   "source": [
    "# 삭제하기\n",
    "####################################\n",
    "path_192 = r\"\\\\192.168.0.75\\스캔파일\\새 스캔파일(업로드)\\구폴더작업\\20408432_정준영_기타_사해행위품의서.pdf\"\n",
    "####################################\n",
    "delete_kcs(path_192, dict_kcs)"
   ]
  },
  {
   "cell_type": "code",
   "execution_count": null,
   "metadata": {},
   "outputs": [],
   "source": [
    "# 쓰기\n",
    "write_cks(path_kcs, dict_kcs)"
   ]
  }
 ],
 "metadata": {
  "kernelspec": {
   "display_name": "Python 3.9.13 ('base')",
   "language": "python",
   "name": "python3"
  },
  "language_info": {
   "codemirror_mode": {
    "name": "ipython",
    "version": 3
   },
   "file_extension": ".py",
   "mimetype": "text/x-python",
   "name": "python",
   "nbconvert_exporter": "python",
   "pygments_lexer": "ipython3",
   "version": "3.9.13"
  },
  "orig_nbformat": 4,
  "vscode": {
   "interpreter": {
    "hash": "50ba2c93e3505a279245e213c77d9791c626788d8ca8a61b8db804927ca08a39"
   }
  }
 },
 "nbformat": 4,
 "nbformat_minor": 2
}
