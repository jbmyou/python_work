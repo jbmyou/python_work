{
 "cells": [
  {
   "attachments": {},
   "cell_type": "markdown",
   "metadata": {},
   "source": [
    "# import 및 함수"
   ]
  },
  {
   "cell_type": "code",
   "execution_count": 1,
   "metadata": {},
   "outputs": [],
   "source": [
    "import pandas as pd\n",
    "import pickle\n",
    "import re\n",
    "import os\n",
    "from os.path import join\n",
    "from tqdm import tqdm\n",
    "from datetime import datetime\n",
    "wd = r'D:\\3.자산\\전산 dataset\\230523'\n",
    "event_dtype = {'채무자키':str, '계좌키':str, '법조치키':str, '관할법원코드':str, '타채무자키':str,'타법조치키':str}"
   ]
  },
  {
   "cell_type": "code",
   "execution_count": 2,
   "metadata": {},
   "outputs": [],
   "source": [
    "# 만나이 계산기\n",
    "def countAge(birth :str) -> int :\n",
    "    if int(birth[:2]) <= (datetime.today().year - 2000) :\n",
    "        year = int(birth[:2]) + 2000\n",
    "    else : year = int(birth[:2]) + 1900\n",
    "    month = int(birth[2:4])\n",
    "    day = int(birth[4:])\n",
    "    # 일단 나이를 계산합니다\n",
    "    age = datetime.today().year - year\n",
    "    if month > datetime.today().month:\n",
    "        age -= 1\n",
    "    elif month == datetime.today().month:\n",
    "        if day > datetime.today().day:\n",
    "            age -= 1\n",
    "    return age\n",
    "\n",
    "############ 채무상태 ###############\n",
    "# 통합하기\n",
    "def unite_debt_state (df_debt_ori, df_grt_ori) :\n",
    "    \"\"\"df를 받아서 담당자상태, 채무자상태, 보증인상태를 채무자를 기준으로 종합\n",
    "    이후 is_out함수 호출\"\"\"\n",
    "    채무자키 = df_debt_ori[\"채무자키\"]\n",
    "    채무자상태 = df_debt_ori[\"채무상태\"]\n",
    "    담당자상태 = df_debt_ori[\"담당자\"]\n",
    "    보증인수 = []\n",
    "    보증인상태 = []\n",
    "    제외여부 = []\n",
    "    for key in tqdm(채무자키, total=len(채무자키), desc=\"채무상태 통합 중\") :\n",
    "        temp = df_grt_ori[df_grt_ori.채무자키==key] # 채무자 채무자키 하나씩 불러와서 보증인df\n",
    "        보증인수.append(len(temp))\n",
    "        보증인상태.append(temp.보증인상태.to_list())\n",
    "    df_united = pd.DataFrame({\"차주번호\":채무자키, \"채무자상태\":채무자상태, \"담당자상태\":담당자상태, \"보증인수\":보증인수, \"보증인상태\":보증인상태})\n",
    "    return df_united\n",
    "\n",
    "# 대분류 넣기 - 주채무자의 행위가 개회, 파산은 보증인에 영향을 미치지 않음(법령확인함). 보증인의 행위는 주재무자에 영향 x\n",
    "p_strongOut = re.compile(r\"종결|매각|환매|개인회생\\(면책\\)|이민|회계파산\") \n",
    "p_weakOut = re.compile(r\"사망|시효|추심제외|포기채권\")\n",
    "p_신용회복 = re.compile(r\"신용회복(?!\\(실효\\))\")\n",
    "p_개인회생 = re.compile(r\"개인회생(?!\\(폐지\\))\")\n",
    "p_파산 = re.compile(\"파산\") # 보증인 없는 경우에 적용하기 위함\n",
    "p_실사 = re.compile(r\"기타|말소|폐업|보증면탈|할당보류|서울|광주|일반유저\")\n",
    "p_보증인강종결 = re.compile(r\"매각|종결|환매|이민|보증면탈|파산\\(면책\\)|파산면책|개인회생\\(면책\\)\") \n",
    "\n",
    "def is_out_df(df_united) :\n",
    "    \"\"\"상태통합한 df를 주면 중분류 만들기\"\"\"\n",
    "\n",
    "    채무상태구분 = []\n",
    "    for i, v in tqdm(df_united.iterrows(), total=len(df_united.index), desc=\"out여부확인중\") :\n",
    "        if p_strongOut.search(v.채무자상태) or p_strongOut.search(v.담당자상태): # 종결류:언제나 제외\n",
    "            채무상태구분.append(\"강제외\")\n",
    "        elif p_weakOut.search(v.채무자상태) or p_weakOut.search(v.담당자상태): # 종결류:내부적으로 다르게 취급하거나, 상황이 바뀌면 달라질 수 있음\n",
    "            채무상태구분.append(\"약제외\")\n",
    "        elif p_신용회복.search(v.채무자상태) or p_신용회복.search(v.담당자상태):  \n",
    "            채무상태구분.append(\"신복\")\n",
    "        elif p_개인회생.search(v.채무자상태) or p_개인회생.search(v.담당자상태):  \n",
    "            채무상태구분.append(\"개회\")\n",
    "        elif p_파산.search(v.채무자상태) or p_파산.search(v.담당자상태):  \n",
    "            if v.보증인수 == 0 :\n",
    "                채무상태구분.append(\"파산제외\")\n",
    "            else :\n",
    "                if all(map(lambda x : bool(p_보증인강종결.search(x)), v.보증인상태)) :\n",
    "                    채무상태구분.append(\"파산제외\")\n",
    "                else :\n",
    "                    채무상태구분.append(\"파산실사\")\n",
    "        elif p_실사.search(v.채무자상태) or p_실사.search(v.담당자상태): \n",
    "            채무상태구분.append(\"실사\")\n",
    "        else : 채무상태구분.append(\"정상\")\n",
    "    \n",
    "    df_united[\"채무상태구분\"] = 채무상태구분\n",
    "    return df_united"
   ]
  },
  {
   "cell_type": "code",
   "execution_count": 3,
   "metadata": {},
   "outputs": [],
   "source": [
    "######## 엑셀을 pickle파일로\n",
    "# 여러건\n",
    "# for root, dirs, files in os.walk(wd) :\n",
    "#     for f in files :\n",
    "#         if re.search(\".xlsx\", f) :\n",
    "#             df = pd.read_excel(join(wd, f)).fillna(\"\")\n",
    "#             df.to_pickle(join(wd, os.path.splitext(f)[0]+\".pkl\"))\n",
    "\n",
    "# 단일건\n",
    "file = \"개인회생새창_20230424_0921_기준데이터\"\n",
    "df = pd.read_excel(join(wd, file+\".xlsx\"), sheet_name=\"개인회생(진행)\").fillna(\"\")\n",
    "df.to_pickle(join(wd, file+\".pkl\"))"
   ]
  },
  {
   "cell_type": "code",
   "execution_count": 4,
   "metadata": {},
   "outputs": [],
   "source": [
    "# 파일 명칭 자동 저장\n",
    "account_f, debt_f, grt_f, law_f, collection_f = \"\", \"\", \"\", \"\", \"\"\n",
    "for root, dirs, files in os.walk(wd) :\n",
    "    for f in files :\n",
    "        if re.search(\".pkl\", f) :\n",
    "            if re.search(\"계좌\",f) : account_f = f\n",
    "            elif re.search(\"채무자\",f) : debt_f = f\n",
    "            elif re.search(\"보증인\",f) : grt_f = f\n",
    "            elif re.search(\"법조치\",f) : law_f = f\n",
    "            elif re.search(\"입금\",f) : collection_f = f\n",
    "\n",
    "# 이거 하고 아래도 위 변수로 바꿔야 함 ~~~~~~~~~~~~~~~~~~~~~~~~~~~~~~~~~"
   ]
  },
  {
   "cell_type": "code",
   "execution_count": 5,
   "metadata": {},
   "outputs": [],
   "source": [
    "# 차주일반정보\n",
    "df_debt_ori = pd.read_pickle(join(wd, \"채무자.pkl\")).fillna(\"\")\n",
    "df_grt_ori = pd.read_pickle(join(wd, \"보증인.pkl\")).fillna(\"\")\n"
   ]
  },
  {
   "cell_type": "code",
   "execution_count": 6,
   "metadata": {},
   "outputs": [],
   "source": [
    "df_debt = pd.DataFrame(None, columns=[\"차주번호\", \"차주구분\", \"주민번호\", \"연령\", \"최초원금\", \"최초가지급금\", \"최초미상환원금\", \"최초이자\",\"최초채권액합계\",\"회수합계\", \"원금잔액\", \"가지급금잔액\", \"미상환원금잔액\", \"이자잔액\", \"채권액합계\", \"지역\", \"연령구분\", \"금액구분\", \"지역구분\", \"매각사\"])"
   ]
  },
  {
   "cell_type": "code",
   "execution_count": 7,
   "metadata": {},
   "outputs": [],
   "source": [
    "# 보증인 \n",
    "df_grt = pd.DataFrame(None, columns=[\"차주번호\", \"채권번호\", \"보증인번호\", \"보증인성별\", \"보증인연령\"])"
   ]
  },
  {
   "cell_type": "code",
   "execution_count": 8,
   "metadata": {},
   "outputs": [],
   "source": [
    "# 계좌\n",
    "df_account_ori = pd.read_pickle(join(wd, \"계좌.pkl\")).fillna(\"\")\n",
    "df_account = pd.DataFrame(None, columns=[\"차주번호\", \"차주구분\", \"연령\", \"채권번호\", \"계정과목\", \"최초대출금액\", \"최초대출일\", \"대출만기일\", \"대출이율\", \"연체이율\", \"원금잔액\", \"가지급금잔액\",\"미상환원금잔액\", \"이자잔액\", \"채권액합계\", \"시효완성일\"])"
   ]
  },
  {
   "cell_type": "code",
   "execution_count": 5,
   "metadata": {},
   "outputs": [],
   "source": [
    "# 법조치\n",
    "df_event_ori = pd.read_pickle(join(wd, law_f), dtype=event_dtype).fillna(\"\")\n",
    "df_event = pd.DataFrame(None, columns=[\"채무자키\", \"계좌키\", \"신청일자\", \"법무구분\", \"관할법원\", \"사건번호\", \"진행상태\", \"청구금액법원\", \"청구금액\"])"
   ]
  },
  {
   "attachments": {},
   "cell_type": "markdown",
   "metadata": {},
   "source": [
    "# 차주일반정보"
   ]
  },
  {
   "attachments": {},
   "cell_type": "markdown",
   "metadata": {},
   "source": [
    "### 기본 자료"
   ]
  },
  {
   "cell_type": "code",
   "execution_count": 9,
   "metadata": {},
   "outputs": [],
   "source": [
    "df_debt.차주번호 = df_debt_ori.채무자키\n",
    "df_debt.차주구분 = df_debt_ori.주민번호인.apply(lambda x : \"법인\" if re.search(\"-\", x).start() == 3 else \"개인\")\n",
    "df_debt.주민번호 = df_debt_ori.주민번호인\n",
    "df_debt.연령 = df_debt_ori.연령 # 재수정해야함\n",
    "df_debt.원금잔액 = df_debt_ori.현재원금\n",
    "df_debt.가지급금잔액 = df_debt_ori.현재법비용\n",
    "df_debt.미상환원금잔액 = df_debt[[\"원금잔액\", \"가지급금잔액\"]].sum(axis=1)\n",
    "df_debt.이자잔액 = df_debt_ori.loc[:,[\"현재미수이자\", \"현재연체이자\"]].sum(axis=1)\n",
    "df_debt.채권액합계 = df_debt[[\"미상환원금잔액\", \"이자잔액\"]].sum(axis=1)\n",
    "#df_debt.지역 = df_debt_ori.자택주소.apply(lambda x : x[:x.find(\" \") + x[x.find(\" \")+1:].find(\" \")+1])\n",
    "df_debt.최초원금 = df_debt_ori.최초원금\n",
    "df_debt.최초가지급금 = df_debt_ori.최초법비용\n",
    "df_debt.최초미상환원금 = df_debt_ori.OPB\n",
    "df_debt.최초이자 = df_debt_ori.최초미수이자\n",
    "df_debt.최초채권액합계 = df_debt_ori.최초합계\n",
    "df_debt.회수합계 = df_debt_ori.회수합계\n",
    "df_debt.매각사 = df_debt_ori.매각사"
   ]
  },
  {
   "attachments": {},
   "cell_type": "markdown",
   "metadata": {},
   "source": [
    "### 지역, 연령, 구분 정리"
   ]
  },
  {
   "cell_type": "code",
   "execution_count": 10,
   "metadata": {},
   "outputs": [],
   "source": [
    "# 최초자료에서 지역 전처리해서 가져오기\n",
    "지역, 연령 = [], []\n",
    "for i, v in df_debt_ori[[\"자택주소\", \"자택번지인\", \"초본주소\", \"초본번지인\", \"직장주소\", \"직장번지인\"]].iterrows() :\n",
    "    자택주소 = re.sub(\"[^가-힣\\s]\", \" \", v.자택주소.strip()).strip()\n",
    "    자택번지인 = re.sub(\"[^가-힣\\s]\", \" \", v.자택번지인.strip()).strip()\n",
    "    초본주소 = re.sub(\"[^가-힣\\s]\", \" \", v.초본주소.strip()).strip()\n",
    "    초본번지인 = re.sub(\"[^가-힣\\s]\", \" \", v.초본번지인.strip()).strip()\n",
    "    직장주소 = re.sub(\"[^가-힣\\s]\", \" \", v.직장주소.strip()).strip()\n",
    "    직장번지인 = re.sub(\"[^가-힣\\s]\", \" \", v.직장번지인.strip()).strip()\n",
    "\n",
    "    if (자택주소 != \"\") or (자택번지인 != \"\") :\n",
    "        주소 = 자택주소 + \" \" + 자택번지인\n",
    "    elif (초본주소 != \"\") or (초본번지인 != \"\") :\n",
    "        주소 = 초본주소 + \" \" + 초본번지인\n",
    "    elif (직장주소 != \"\") or (직장번지인 != \"\") :\n",
    "        주소 = 직장주소 + \" \" + 직장번지인\n",
    "    else : 주소 = \"불명\"\n",
    "\n",
    "    주소 = 주소.strip()\n",
    "\n",
    "    if re.search(\" \", 주소) :\n",
    "        first = re.search(\" \", 주소).start()\n",
    "        if re.search(\" \", 주소[first+1 : ]) :\n",
    "            second = re.search(\" \", 주소[first+1 : ]).start()\n",
    "            지역.append(주소[:first+second+1])\n",
    "        else :\n",
    "            지역.append(주소)\n",
    "    else :\n",
    "        지역.append(주소)\n",
    "\n",
    "\n",
    "df_debt.지역 = 지역"
   ]
  },
  {
   "cell_type": "code",
   "execution_count": 11,
   "metadata": {},
   "outputs": [],
   "source": [
    "# 구분항목 추가하기\n",
    "금액구분, 연령구분, 지역구분, 연령 = [], [], [], []\n",
    "for i, v in df_debt.iterrows() :\n",
    "    # 연령 재작업\n",
    "    \n",
    "    # 연령대구분\n",
    "    if v.차주구분 == \"법인\" : \n",
    "        연령구분.append(\"법인\")\n",
    "        연령.append(\"법인\")\n",
    "    else : \n",
    "        연령.append(v.연령)\n",
    "        연령대 = v.연령 // 10\n",
    "        if 연령대 > 7 : 연령구분.append(\"70대 이상\")\n",
    "        elif 연령대 < 3 : 연령구분.append(\"20대\")\n",
    "        else : 연령구분.append(str(연령대)+\"0대\")\n",
    "\n",
    "    # 금액구분\n",
    "    if v.미상환원금잔액 <= 1000000 : 금액구분.append(\"1.1백\")\n",
    "    elif v.미상환원금잔액 <= 5000000 : 금액구분.append(\"2.5백\")\n",
    "    elif v.미상환원금잔액 <= 10000000 : 금액구분.append(\"3.1천\")\n",
    "    elif v.미상환원금잔액 <= 100000000 : 금액구분.append(\"4.1억\")\n",
    "    else : 금액구분.append(\"5.1억초과\")\n",
    "\n",
    "    # 지역구분\n",
    "    지역 = v.지역[:2]\n",
    "    if re.match(r\"서울|강서|강남|노원\", 지역) : 지역구분.append(\"1.서울\")\n",
    "    elif re.match(r\"경기|인천|수원|부천|고양|하남|성남|화성|파주|의정|구리|용인\", 지역) : 지역구분.append(\"2.인천,경기\")\n",
    "    elif re.match(r\"충남|대전|충북|충청|세종|충주|청주|천안\", 지역) : 지역구분.append(\"3.충청\")\n",
    "    elif re.match(r\"전북|전라|광주|전남|군산|목포|전주\", 지역) : 지역구분.append(\"4.전라\")\n",
    "    elif re.match(r\"부산|경남|대구|경북|울산|경상|영천|창원\", 지역) : 지역구분.append(\"5.경상\")\n",
    "    elif re.match(r\"강원|강릉\", 지역) : 지역구분.append(\"6.강원\")\n",
    "    elif re.match(r\"제주\", 지역) : 지역구분.append(\"7.제주\")\n",
    "    else : 지역구분.append(\"불명\")\n",
    "\n",
    "df_debt.연령 = 연령\n",
    "df_debt.연령구분 = 연령구분\n",
    "df_debt.금액구분 = 금액구분\n",
    "df_debt.지역구분 = 지역구분"
   ]
  },
  {
   "attachments": {},
   "cell_type": "markdown",
   "metadata": {},
   "source": [
    "### 채무상태 정리"
   ]
  },
  {
   "cell_type": "code",
   "execution_count": 12,
   "metadata": {},
   "outputs": [
    {
     "name": "stderr",
     "output_type": "stream",
     "text": [
      "채무상태 통합 중: 100%|██████████| 70796/70796 [00:09<00:00, 7222.17it/s]\n"
     ]
    }
   ],
   "source": [
    "df_united = unite_debt_state(df_debt_ori, df_grt_ori)"
   ]
  },
  {
   "cell_type": "code",
   "execution_count": 13,
   "metadata": {},
   "outputs": [
    {
     "name": "stderr",
     "output_type": "stream",
     "text": [
      "out여부확인중: 100%|██████████| 70796/70796 [00:03<00:00, 23175.21it/s]\n"
     ]
    }
   ],
   "source": [
    "df_united = is_out_df(df_united)"
   ]
  },
  {
   "cell_type": "code",
   "execution_count": 14,
   "metadata": {},
   "outputs": [
    {
     "data": {
      "text/plain": [
       "70796"
      ]
     },
     "execution_count": 14,
     "metadata": {},
     "output_type": "execute_result"
    }
   ],
   "source": [
    "df_debt = pd.merge(df_debt, df_united, on='차주번호', how=\"left\")\n",
    "len(df_debt)"
   ]
  },
  {
   "attachments": {},
   "cell_type": "markdown",
   "metadata": {},
   "source": [
    "# 채권정보"
   ]
  },
  {
   "cell_type": "code",
   "execution_count": 15,
   "metadata": {},
   "outputs": [],
   "source": [
    "df_account.차주번호 = df_account_ori.채무자키\n",
    "df_account.차주구분 = df_account.차주번호.map(df_debt[[\"차주번호\",\"차주구분\"]].set_index('차주번호')['차주구분'])\n",
    "df_account.연령 = df_account.차주번호.map(df_debt[[\"차주번호\", \"연령\"]].set_index('차주번호')['연령'])\n",
    "df_account.채권번호 = df_account_ori.계좌키\n",
    "df_account.최초대출금액 = df_account_ori.은행대출원금\n",
    "df_account.최초대출일 = df_account_ori.최초대출일\n",
    "df_account.대출만기일 = df_account_ori.대출만기일\n",
    "df_account.대출이율 = df_account_ori.이자율\n",
    "df_account.연체이율 = df_account_ori.연체이자율\n",
    "df_account.원금잔액 = df_account_ori.현재원금\n",
    "df_account.가지급금잔액 = df_account_ori.현재법비용\n",
    "df_account.미상환원금잔액 = df_account_ori[[\"현재원금\", \"현재법비용\"]].sum(axis=1)\n",
    "df_account.이자잔액 = df_account_ori[[\"현재미수이자\", \"현재연체이자\"]].sum(axis=1)\n",
    "df_account.채권액합계 = df_account[[\"미상환원금잔액\", \"이자잔액\"]].sum(axis=1)\n",
    "df_account.시효완성일 = df_account_ori.최초시효완성일"
   ]
  },
  {
   "attachments": {},
   "cell_type": "markdown",
   "metadata": {},
   "source": [
    "# 보증인정보"
   ]
  },
  {
   "cell_type": "code",
   "execution_count": 16,
   "metadata": {},
   "outputs": [],
   "source": [
    "df_grt.차주번호 = df_grt_ori.채무자키\n",
    "df_grt.채권번호 = df_grt_ori.계좌키\n",
    "df_grt.보증인번호 = df_grt_ori.보증인키\n",
    "df_grt.보증인성별 = df_grt_ori.주민번호인.str.replace(\"-\", \"\").apply(lambda x : \"법인\" if len(x)==10 else \"남자\" if len(x)==13 and int(x[6])%2==1 else \"여자\" if len(x)==13 and int(x[6])%2==0 else \"\")\n",
    "df_grt.보증인연령 = df_grt_ori.주민번호인.str.replace(\"-\", \"\").apply(lambda x : \"법인\" if len(x)==10 else countAge(x[:6]) if len(x)==13 else \"\")"
   ]
  },
  {
   "attachments": {},
   "cell_type": "markdown",
   "metadata": {},
   "source": [
    "# 법조치정보\n",
    "- df_event = pd.DataFrame(None, columns=[\"차주번호\", \"채권번호\", \"신청일자\", \"법무구분\", \"관할법원\", \"사건번호\", \"진행상태\",\"청구금액법원\", \"청구금액\"])"
   ]
  },
  {
   "attachments": {},
   "cell_type": "markdown",
   "metadata": {},
   "source": [
    "### 법조치 수정 후 (전산에 관할법원, 사건번호 수정한 뒤라면)"
   ]
  },
  {
   "cell_type": "code",
   "execution_count": 10,
   "metadata": {},
   "outputs": [
    {
     "name": "stdout",
     "output_type": "stream",
     "text": [
      "154959\n"
     ]
    }
   ],
   "source": [
    "df_event = pd.DataFrame(None, columns=[\"채무자키\", \"계좌키\", \"신청일자\", \"법무구분\", \"관할법원\", \"사건번호\", \"사건구분\", \"진행상태\",\"청구금액법원\", \"청구금액\"])\n",
    "df_event.채무자키 = df_event_ori.채무자키\n",
    "df_event.계좌키 = df_event_ori.계좌키\n",
    "df_event.신청일자 = df_event_ori.접수일\n",
    "df_event.법무구분 = df_event_ori.법조치구분\n",
    "df_event.관할법원 = df_event_ori.관할법원\n",
    "df_event.사건번호 = df_event_ori.사건번호.str.replace(\" \", \"\")\n",
    "df_event.사건구분 = df_event_ori.사건구분\n",
    "df_event.진행상태 = df_event_ori.종국결과\n",
    "df_event.청구금액법원 = df_event_ori.청구금액법원\n",
    "df_event.청구금액 = df_event_ori.청구금액\n",
    "print(len(df_event.index))"
   ]
  },
  {
   "cell_type": "code",
   "execution_count": 8,
   "metadata": {},
   "outputs": [],
   "source": [
    "####################\n",
    "# 중복제거전 저장\n",
    "df_event.to_pickle(join(wd, \"전처리완료\", \"전처리_법조치_중복미제거.pkl\"))\n",
    "#df_event.to_excel(join(wd, \"전처리완료\", \"전처리_법조치_중복미제거.xlsx\"), index=False)\n",
    "####################"
   ]
  },
  {
   "cell_type": "code",
   "execution_count": 11,
   "metadata": {},
   "outputs": [
    {
     "name": "stdout",
     "output_type": "stream",
     "text": [
      "149343\n",
      "102454\n",
      "102330\n"
     ]
    }
   ],
   "source": [
    "# 사건번호 없는 거 제거\n",
    "df_event = df_event.query('사건번호 not in [\"\",0,\"0\"]')\n",
    "print(len(df_event.index))\n",
    "\n",
    "# 중복제거\n",
    "# keep=\"first\" 기본값 입력된 순서이기 때문에 제일 먼저 입력한 값이 남는다.\n",
    "# 사건번호만 불러올 때는 이것이 의미 있으나, 청구금액 같은 것을 볼 때는 중복제거 안 된 것을 참고해야함.\n",
    "df_event.drop_duplicates(subset=[\"채무자키\", \"관할법원\",\"사건번호\"], inplace=True, ignore_index=True) \n",
    "print(len(df_event.index))\n",
    "\n",
    "# 확실히 법원 아닌 거 제거\n",
    "df_event = df_event.query('~관할법원.str.contains(\"경찰|검찰|법무|법률|세무|차량|구청(?!도)|공사|자산|지급|카드|보증\")')\n",
    "print(len(df_event.index))\n",
    "\n",
    "# # 확실히 제외할 법무구분\n",
    "# df_event = df_event.query('~관할법원.str.contains(\"집행문부여\")')\n",
    "# print(len(df_event.index))"
   ]
  },
  {
   "cell_type": "code",
   "execution_count": 12,
   "metadata": {},
   "outputs": [],
   "source": [
    "####################\n",
    "# 중복제거 후 저장\n",
    "df_event.to_pickle(join(wd, \"전처리완료\", \"전처리_법조치_중복제거.pkl\"))\n",
    "df_event.to_excel(join(wd, \"전처리완료\", \"전처리_법조치_중복제거.xlsx\"), index=False)\n",
    "####################"
   ]
  },
  {
   "attachments": {},
   "cell_type": "markdown",
   "metadata": {},
   "source": [
    "### 법조치 수정 전"
   ]
  },
  {
   "cell_type": "code",
   "execution_count": 5,
   "metadata": {},
   "outputs": [],
   "source": [
    "df_event.채무자키 = df_event_ori.채무자키\n",
    "df_event.계좌키 = df_event_ori.계좌키\n",
    "df_event.신청일자 = df_event_ori.접수일\n",
    "df_event.법무구분 = df_event_ori.법조치구분\n",
    "df_event.관할법원 = df_event_ori.관할법원\n",
    "df_event.사건번호 = df_event_ori.사건번호\n",
    "df_event.진행상태 = df_event_ori.종국결과"
   ]
  },
  {
   "cell_type": "code",
   "execution_count": 6,
   "metadata": {},
   "outputs": [],
   "source": [
    "df_event.청구금액 = df_event_ori.청구금액\n",
    "# 청구금액 = []\n",
    "# for i, v in df_event_ori[[\"청구금액법원\", \"청구금액\"]].iterrows() :\n",
    "#     if v.청구금액법원 > 0 : 청구금액.append(v.청구금액법원)\n",
    "#     else : 청구금액.append(v.청구금액)\n",
    "# df_event.청구금액 = 청구금액"
   ]
  },
  {
   "cell_type": "code",
   "execution_count": 7,
   "metadata": {},
   "outputs": [
    {
     "name": "stdout",
     "output_type": "stream",
     "text": [
      "204\n",
      "122 45 14 22 8\n"
     ]
    }
   ],
   "source": [
    "pwd = r\"C:\\Users\\SL\\Desktop\\법조치 수정\"\n",
    "df_reg = pd.read_excel(join(pwd, \"법원 목록 정리.xlsx\")).fillna(\"\")\n",
    "print(len(df_reg))\n",
    "# dict만들기\n",
    "cnt = 0\n",
    "reg1, reg2, reg3, regF1, regF2 = {}, {}, {}, {}, {}\n",
    "for i, v in df_reg.iterrows() :\n",
    "    if v.비고 == \"가정\" : # 지법에는 아무 값도 없음\n",
    "        if v.시군 != \"\" :\n",
    "            regF1[v.시군] = v.법원\n",
    "        if v.지원 != \"\" :\n",
    "            regF2[v.지원] = v.법원        \n",
    "    else :\n",
    "        if v.시군 != \"\" :  \n",
    "            reg1[v.시군] = v.법원\n",
    "        if v.지원 != \"\" :\n",
    "            reg2[v.지원] = v.법원\n",
    "        if v.지법 != \"\" :\n",
    "            reg3[v.지법] = v.법원\n",
    "print(len(reg1), len(reg2), len(reg3), len(regF1), len(regF2))"
   ]
  },
  {
   "cell_type": "code",
   "execution_count": 55,
   "metadata": {},
   "outputs": [
    {
     "name": "stderr",
     "output_type": "stream",
     "text": [
      "100%|██████████| 153642/153642 [01:56<00:00, 1319.05it/s]\n"
     ]
    }
   ],
   "source": [
    "# 관할법원\n",
    "for i, v in tqdm(df_event.iterrows(), total=len(df_event)) :\n",
    "    out_for_continue = False    ########################### no Touch\n",
    "\n",
    "    # 검찰, 경찰 등 제외하기 # 사건번호, 대상자명도 수정해야 하니 전체목록을 대상으로 해야한다. 따라서 \n",
    "    if re.search(\"경찰|검찰|법무|법률|세무|차량|구청(?!도)|공사|자산|미입력|지급|카드|보증\", v.관할법원) or (v.관할법원 == \"\"):  # 대'구청'도군법원유의\n",
    "        df_event.loc[i, \"관할법원\"] = v.관할법원\n",
    "        continue\n",
    "        \n",
    "    # 가정 법원인지 확인\n",
    "    if re.search(\"가정\", v.관할법원) :\n",
    "        for exp, right_court_name in regF1.items() :\n",
    "            if re.search(exp, v.관할법원) :\n",
    "                df_event.loc[i, \"관할법원\"] = right_court_name\n",
    "                out_for_continue = True\n",
    "                break\n",
    "        if out_for_continue : continue # regF1에서 수정할 법원 나왔으면 새로운 반복문 시작\n",
    "        # regF2 확인하기\n",
    "        for exp, right_court_name in regF2.items() :\n",
    "            if re.search(exp, v.관할법원) :\n",
    "                df_event.loc[i, \"관할법원\"] = right_court_name\n",
    "                out_for_continue = True\n",
    "                break\n",
    "\n",
    "        if out_for_continue == False : # '가정법원'에 들어왔음에도, 조건에 걸린 게 없어서 수정한 바가 없음\n",
    "            df_event.loc[i, \"관할법원\"] = v.관할법원\n",
    "        continue # 가정법원에 걸렸으니 무조건 여기서 끝냄\n",
    "\n",
    "    else :\n",
    "        # 가정법원 아닌 경우 : reg1먼저 확인하기 \n",
    "        for exp, right_court_name in reg1.items() : # \n",
    "            if re.search(\",\", exp) :\n",
    "                compile_items = exp.split(\",\")\n",
    "                if re.search(compile_items[0], v.관할법원) and re.search(compile_items[1], v.관할법원) : #항상 2개\n",
    "                    df_event.loc[i, \"관할법원\"] = right_court_name\n",
    "                    out_for_continue = True\n",
    "                    break\n",
    "            else :\n",
    "                if re.search(exp, v.관할법원) :\n",
    "                    df_event.loc[i, \"관할법원\"] = right_court_name\n",
    "                    out_for_continue = True\n",
    "                    break\n",
    "        if out_for_continue : continue # reg1에서 수정할 법원 나왔으면 새로운 반복문 시작\n",
    "\n",
    "        # reg2 확인하기\n",
    "        for exp, right_court_name in reg2.items() :\n",
    "            if re.search(exp, v.관할법원) :\n",
    "                df_event.loc[i, \"관할법원\"] = right_court_name\n",
    "                out_for_continue = True\n",
    "                break\n",
    "        if out_for_continue : continue # reg1에서 수정할 법원 나왔으면 새로운 반복문 시작\n",
    "\n",
    "        # reg3 확인하기\n",
    "        for exp, right_court_name in reg3.items() :\n",
    "            if re.search(exp, v.관할법원) :\n",
    "                df_event.loc[i, \"관할법원\"] = right_court_name\n",
    "                out_for_continue = True\n",
    "                break\n",
    "\n",
    "        if out_for_continue ==False: # 여기까지 왔는데도 바뀐 게 없다면 ..\n",
    "            df_event.loc[i, \"관할법원\"] = v.관할법원\n",
    "        continue # reg1에서 수정할 법원 나왔으면 새로운 반복문 시작"
   ]
  },
  {
   "cell_type": "code",
   "execution_count": 57,
   "metadata": {},
   "outputs": [
    {
     "name": "stderr",
     "output_type": "stream",
     "text": [
      "100%|██████████| 153642/153642 [00:05<00:00, 26194.29it/s]\n"
     ]
    }
   ],
   "source": [
    "# 사건번호\n",
    "p_event=re.compile(r\"(\\d{2,4})[\\s,]?([가-힣]{1,4})[\\s-]?(\\d+)\") # year = [1], sign = [2], sn=[3]\n",
    "for i, v in tqdm(df_event.iterrows(), total=len(df_event)) :\n",
    "    res = p_event.search(v.사건번호)\n",
    "\n",
    "    if res != None :\n",
    "        year = res[1]\n",
    "        event = year + res[2] + res[3]\n",
    "        # 연도 4자리고, 전후가 동일하면 pass, 수정여부에 x\n",
    "        if len(year) == 4 : pass\n",
    "        # 연도 2자리고 00 ~ 23사이면 20 붙이고, 아니면 19붙이기, 수정여부에 ㅇ\n",
    "        elif len(year) == 3 :\n",
    "            if int(year) >= 200 and int(year) <=223 :\n",
    "                df_event.loc[i,\"사건번호\"] = event[0] + \"0\" + event[1:]\n",
    "            else : pass\n",
    "        elif len(year) == 2 :\n",
    "            if int(year) <= 23 :\n",
    "                df_event.loc[i,\"사건번호\"] = \"20\" + event\n",
    "            elif int(year) > 70  :\n",
    "                df_event.loc[i,\"사건번호\"] = \"19\" + event\n",
    "        else : pass"
   ]
  },
  {
   "cell_type": "code",
   "execution_count": 59,
   "metadata": {},
   "outputs": [],
   "source": [
    "# 중복제거\n",
    "df_event.drop_duplicates(subset=[\"차주번호\", \"관할법원\",\"사건번호\"], inplace=True, ignore_index=True)"
   ]
  },
  {
   "attachments": {},
   "cell_type": "markdown",
   "metadata": {},
   "source": [
    "# 저장"
   ]
  },
  {
   "cell_type": "code",
   "execution_count": 54,
   "metadata": {},
   "outputs": [],
   "source": [
    "# 엑셀저장\n",
    "# df_debt.to_excel(join(wd, \"전처리완료\", \"전처리_채무자.xlsx\"), index=False)\n",
    "# df_grt.to_excel(join(wd, \"전처리완료\", \"전처리_보증인.xlsx\"), index=False)\n",
    "# df_account.to_excel(join(wd, \"전처리완료\", \"전처리_계좌.xlsx\"), index=False)\n",
    "df_event.to_excel(join(wd, \"전처리완료\", \"전처리_법조치.xlsx\"), index=False)"
   ]
  },
  {
   "cell_type": "code",
   "execution_count": 57,
   "metadata": {},
   "outputs": [],
   "source": [
    "# pkl 저장\n",
    "# df_debt.to_pickle(join(wd, \"전처리완료\", \"전처리_채무자.pkl\"))\n",
    "# df_grt.to_pickle(join(wd, \"전처리완료\", \"전처리_보증인.pkl\"))\n",
    "# df_account.to_pickle(join(wd, \"전처리완료\", \"전처리_계좌.pkl\"))\n",
    "df_event.to_pickle(join(wd, \"전처리완료\", \"전처리_법조치.pkl\"))"
   ]
  },
  {
   "attachments": {},
   "cell_type": "markdown",
   "metadata": {},
   "source": [
    "# 채무자키를 기준으로 정리"
   ]
  },
  {
   "cell_type": "code",
   "execution_count": 61,
   "metadata": {},
   "outputs": [],
   "source": [
    "keys = pd.read_excel(r\"C:\\Users\\SL\\Desktop\\솔림헬프 추가자료요청.xlsx\", sheet_name=\"Pool8무담보리스트\")[\"채무자키\"]"
   ]
  },
  {
   "cell_type": "code",
   "execution_count": 62,
   "metadata": {},
   "outputs": [
    {
     "data": {
      "text/html": [
       "<div>\n",
       "<style scoped>\n",
       "    .dataframe tbody tr th:only-of-type {\n",
       "        vertical-align: middle;\n",
       "    }\n",
       "\n",
       "    .dataframe tbody tr th {\n",
       "        vertical-align: top;\n",
       "    }\n",
       "\n",
       "    .dataframe thead th {\n",
       "        text-align: right;\n",
       "    }\n",
       "</style>\n",
       "<table border=\"1\" class=\"dataframe\">\n",
       "  <thead>\n",
       "    <tr style=\"text-align: right;\">\n",
       "      <th></th>\n",
       "      <th>채무자키</th>\n",
       "      <th>계좌키</th>\n",
       "      <th>신청일자</th>\n",
       "      <th>법무구분</th>\n",
       "      <th>관할법원</th>\n",
       "      <th>사건번호</th>\n",
       "      <th>사건구분</th>\n",
       "      <th>진행상태</th>\n",
       "      <th>청구금액법원</th>\n",
       "      <th>청구금액</th>\n",
       "    </tr>\n",
       "  </thead>\n",
       "  <tbody>\n",
       "    <tr>\n",
       "      <th>0</th>\n",
       "      <td>20407793</td>\n",
       "      <td>200920874</td>\n",
       "      <td>2015-08-13</td>\n",
       "      <td>지급명령</td>\n",
       "      <td>서울서부지방법원</td>\n",
       "      <td>2015가소493293</td>\n",
       "      <td>가소</td>\n",
       "      <td>원고승</td>\n",
       "      <td>0</td>\n",
       "      <td>2549135</td>\n",
       "    </tr>\n",
       "    <tr>\n",
       "      <th>1</th>\n",
       "      <td>20407796</td>\n",
       "      <td>200924023</td>\n",
       "      <td>2017-10-10</td>\n",
       "      <td>지급명령</td>\n",
       "      <td>서울남부지방법원</td>\n",
       "      <td>2017차전165769</td>\n",
       "      <td>차전</td>\n",
       "      <td></td>\n",
       "      <td>0</td>\n",
       "      <td>11458461</td>\n",
       "    </tr>\n",
       "    <tr>\n",
       "      <th>2</th>\n",
       "      <td>20407796</td>\n",
       "      <td>200924023</td>\n",
       "      <td>2017-12-08</td>\n",
       "      <td>압류및추심</td>\n",
       "      <td>광주지방법원</td>\n",
       "      <td>2017타채40229</td>\n",
       "      <td>타채</td>\n",
       "      <td></td>\n",
       "      <td>0</td>\n",
       "      <td>11678948</td>\n",
       "    </tr>\n",
       "    <tr>\n",
       "      <th>3</th>\n",
       "      <td>20407797</td>\n",
       "      <td>200925502</td>\n",
       "      <td>2019-09-09</td>\n",
       "      <td>지급명령</td>\n",
       "      <td>광주지방법원</td>\n",
       "      <td>2019차전16068</td>\n",
       "      <td>차전</td>\n",
       "      <td>지급명령</td>\n",
       "      <td>9249817</td>\n",
       "      <td>9251991</td>\n",
       "    </tr>\n",
       "    <tr>\n",
       "      <th>4</th>\n",
       "      <td>20407797</td>\n",
       "      <td>200925502</td>\n",
       "      <td>2021-09-09</td>\n",
       "      <td>압류및추심</td>\n",
       "      <td>부산지방법원</td>\n",
       "      <td>2021타채69992</td>\n",
       "      <td>타채</td>\n",
       "      <td>인용</td>\n",
       "      <td>0</td>\n",
       "      <td>10101892</td>\n",
       "    </tr>\n",
       "    <tr>\n",
       "      <th>...</th>\n",
       "      <td>...</td>\n",
       "      <td>...</td>\n",
       "      <td>...</td>\n",
       "      <td>...</td>\n",
       "      <td>...</td>\n",
       "      <td>...</td>\n",
       "      <td>...</td>\n",
       "      <td>...</td>\n",
       "      <td>...</td>\n",
       "      <td>...</td>\n",
       "    </tr>\n",
       "    <tr>\n",
       "      <th>44858</th>\n",
       "      <td>20458716</td>\n",
       "      <td>200940996</td>\n",
       "      <td>2020-03-18</td>\n",
       "      <td>지급명령</td>\n",
       "      <td>부산지방법원</td>\n",
       "      <td>2018차전13101</td>\n",
       "      <td>차전</td>\n",
       "      <td>소제기</td>\n",
       "      <td>0</td>\n",
       "      <td>0</td>\n",
       "    </tr>\n",
       "    <tr>\n",
       "      <th>44859</th>\n",
       "      <td>20458716</td>\n",
       "      <td>200940996</td>\n",
       "      <td>2020-03-18</td>\n",
       "      <td>임의경매</td>\n",
       "      <td>부산지방법원</td>\n",
       "      <td>2018타경5491</td>\n",
       "      <td>타경</td>\n",
       "      <td></td>\n",
       "      <td>0</td>\n",
       "      <td>0</td>\n",
       "    </tr>\n",
       "    <tr>\n",
       "      <th>44860</th>\n",
       "      <td>20458748</td>\n",
       "      <td>200941157</td>\n",
       "      <td>2020-03-18</td>\n",
       "      <td>개인회생</td>\n",
       "      <td>의정부지방법원</td>\n",
       "      <td>2019개회6732</td>\n",
       "      <td>개회</td>\n",
       "      <td></td>\n",
       "      <td>0</td>\n",
       "      <td>0</td>\n",
       "    </tr>\n",
       "    <tr>\n",
       "      <th>44861</th>\n",
       "      <td>20458756</td>\n",
       "      <td>200941208</td>\n",
       "      <td></td>\n",
       "      <td>파산</td>\n",
       "      <td>창원지방법원</td>\n",
       "      <td>2020하단465</td>\n",
       "      <td>하단</td>\n",
       "      <td></td>\n",
       "      <td>0</td>\n",
       "      <td>6759422</td>\n",
       "    </tr>\n",
       "    <tr>\n",
       "      <th>44862</th>\n",
       "      <td>20459001</td>\n",
       "      <td>200945505</td>\n",
       "      <td>2019-04-10</td>\n",
       "      <td>지급명령</td>\n",
       "      <td>서울남부지방법원</td>\n",
       "      <td>2019차전123384</td>\n",
       "      <td>차전</td>\n",
       "      <td>확정</td>\n",
       "      <td>0</td>\n",
       "      <td>0</td>\n",
       "    </tr>\n",
       "  </tbody>\n",
       "</table>\n",
       "<p>44863 rows × 10 columns</p>\n",
       "</div>"
      ],
      "text/plain": [
       "           채무자키        계좌키        신청일자   법무구분      관할법원          사건번호 사건구분  \\\n",
       "0      20407793  200920874  2015-08-13   지급명령  서울서부지방법원  2015가소493293   가소   \n",
       "1      20407796  200924023  2017-10-10   지급명령  서울남부지방법원  2017차전165769   차전   \n",
       "2      20407796  200924023  2017-12-08  압류및추심    광주지방법원   2017타채40229   타채   \n",
       "3      20407797  200925502  2019-09-09   지급명령    광주지방법원   2019차전16068   차전   \n",
       "4      20407797  200925502  2021-09-09  압류및추심    부산지방법원   2021타채69992   타채   \n",
       "...         ...        ...         ...    ...       ...           ...  ...   \n",
       "44858  20458716  200940996  2020-03-18   지급명령    부산지방법원   2018차전13101   차전   \n",
       "44859  20458716  200940996  2020-03-18   임의경매    부산지방법원    2018타경5491   타경   \n",
       "44860  20458748  200941157  2020-03-18   개인회생   의정부지방법원    2019개회6732   개회   \n",
       "44861  20458756  200941208                 파산    창원지방법원     2020하단465   하단   \n",
       "44862  20459001  200945505  2019-04-10   지급명령  서울남부지방법원  2019차전123384   차전   \n",
       "\n",
       "       진행상태   청구금액법원      청구금액  \n",
       "0       원고승        0   2549135  \n",
       "1                  0  11458461  \n",
       "2                  0  11678948  \n",
       "3      지급명령  9249817   9251991  \n",
       "4        인용        0  10101892  \n",
       "...     ...      ...       ...  \n",
       "44858   소제기        0         0  \n",
       "44859              0         0  \n",
       "44860              0         0  \n",
       "44861              0   6759422  \n",
       "44862    확정        0         0  \n",
       "\n",
       "[44863 rows x 10 columns]"
      ]
     },
     "execution_count": 62,
     "metadata": {},
     "output_type": "execute_result"
    }
   ],
   "source": [
    "result = pd.merge(keys, df_event)\n",
    "result"
   ]
  },
  {
   "cell_type": "code",
   "execution_count": 63,
   "metadata": {},
   "outputs": [],
   "source": [
    "result.to_excel(join(wd, \"POOL8_법조치.xlsx\"), index=False)"
   ]
  },
  {
   "attachments": {},
   "cell_type": "markdown",
   "metadata": {},
   "source": [
    "# 특정 매각사만 정리\n",
    "- 1: 정상 // 2:  파산실사, 실사 // 3. 신복, 개회, 파산제외 // 4 : 강제외, 약제외  "
   ]
  },
  {
   "cell_type": "code",
   "execution_count": null,
   "metadata": {},
   "outputs": [],
   "source": [
    "# 1. 채무자에서 특정매각사, 채무상태를 필터링 하여 채무자키 선별\n",
    "# 2. isin()이나 set_index()를 사용하여 계좌 ~ 법조치 정보 불러오기\n",
    "# 3. 하나의 파일 각각의 셀에 저장하기"
   ]
  },
  {
   "cell_type": "code",
   "execution_count": 26,
   "metadata": {},
   "outputs": [],
   "source": [
    "# 파일 읽기\n",
    "df_debt = pd.read_pickle(join(wd, \"전처리완료\", \"전처리_채무자.pkl\"))\n",
    "df_grt = pd.read_pickle(join(wd, \"전처리완료\", \"전처리_보증인.pkl\"))\n",
    "df_account = pd.read_pickle(join(wd, \"전처리완료\", \"전처리_계좌.pkl\"))\n",
    "# df_event = pd.read_pickle(join(wd, \"전처리완료\", \"전처리_법조치.pkl\"))"
   ]
  },
  {
   "cell_type": "code",
   "execution_count": 3,
   "metadata": {},
   "outputs": [
    {
     "data": {
      "text/plain": [
       "Index(['차주번호', '차주구분', '연령', '최초원금', '최초가지급금', '최초미상환원금', '최초이자', '최초채권액합계',\n",
       "       '회수합계', '원금잔액', '가지급금잔액', '미상환원금잔액', '이자잔액', '채권액합계', '지역', '연령구분',\n",
       "       '금액구분', '지역구분', '매각사', '채무자상태', '담당자상태', '보증인수', '보증인상태', '채무상태구분'],\n",
       "      dtype='object')"
      ]
     },
     "execution_count": 3,
     "metadata": {},
     "output_type": "execute_result"
    }
   ],
   "source": [
    "df_debt.columns"
   ]
  },
  {
   "cell_type": "code",
   "execution_count": 28,
   "metadata": {},
   "outputs": [
    {
     "data": {
      "text/plain": [
       "70796"
      ]
     },
     "execution_count": 28,
     "metadata": {},
     "output_type": "execute_result"
    }
   ],
   "source": [
    "########################################\n",
    "매각사 = \"전체\"\n",
    "########################################\n",
    "filename = 매각사 + \" 써머리.xlsx\"\n",
    "\n",
    "# 1. 매각사 조건\n",
    "result = df_debt#df_debt[df_debt.매각사.str.contains(매각사)]\n",
    "len(result)"
   ]
  },
  {
   "cell_type": "code",
   "execution_count": 21,
   "metadata": {},
   "outputs": [
    {
     "data": {
      "text/plain": [
       "주민번호          \n",
       "861014-1386915    8\n",
       "780505-1852415    7\n",
       "680207-2634714    7\n",
       "740520-1273313    6\n",
       "860214-2824310    6\n",
       "                 ..\n",
       "700605-1101021    1\n",
       "700610-1095216    1\n",
       "700622-1279214    1\n",
       "700708-2648114    1\n",
       "970228-2164314    1\n",
       "Length: 1003, dtype: int64"
      ]
     },
     "execution_count": 21,
     "metadata": {},
     "output_type": "execute_result"
    }
   ],
   "source": [
    "result[[\"주민번호\"]].value_counts()"
   ]
  },
  {
   "cell_type": "code",
   "execution_count": 22,
   "metadata": {},
   "outputs": [],
   "source": [
    "result.to_excel(r\"D:\\0.전산\\2.이관\\써머리\\data_230127\\전체.xlsx\", index=False)"
   ]
  },
  {
   "cell_type": "code",
   "execution_count": 29,
   "metadata": {},
   "outputs": [
    {
     "name": "stdout",
     "output_type": "stream",
     "text": [
      "30022 2786 24408 13580\n"
     ]
    }
   ],
   "source": [
    "# 2. 채무상태구분 기본\n",
    "# 정상\n",
    "result_정상 = result.query('채무상태구분==\"정상\"')\n",
    "# 실사\n",
    "result_실사 = result.query('채무상태구분==\"파산실사\" or 채무상태구분==\"실사\"')\n",
    "# 신회파\n",
    "result_신회파 = result.query('채무상태구분==\"신복\" or 채무상태구분==\"개회\" or 채무상태구분==\"파산제외\"')\n",
    "# 강제외, 약제외\n",
    "result_제외 = result.query('채무상태구분==\"강제외\" or 채무상태구분==\"약제외\"')\n",
    "print(len(result_정상), len(result_실사), len(result_신회파), len(result_제외))"
   ]
  },
  {
   "cell_type": "code",
   "execution_count": 24,
   "metadata": {},
   "outputs": [],
   "source": [
    "path = join(r\"D:\\0.전산\\2.이관\\써머리\", 매각사)\n",
    "if not os.path.exists(path) : os.mkdir(path)\n",
    "if not os.path.exists(join(path, filename)) : pd.DataFrame().to_excel(join(path, filename))"
   ]
  },
  {
   "cell_type": "code",
   "execution_count": 25,
   "metadata": {},
   "outputs": [],
   "source": [
    "with pd.ExcelWriter(join(path, filename), engine='openpyxl', mode = 'a', if_sheet_exists = 'replace') as writer:\n",
    "    result_정상.to_excel(writer, sheet_name = \"정상\", index=False)\n",
    "    result_실사.to_excel(writer, sheet_name = \"실시필요\", index=False)\n",
    "    result_신회파.to_excel(writer, sheet_name = \"신복회생파산\", index=False)\n",
    "    result_제외.to_excel(writer, sheet_name = \"제외\", index=False)"
   ]
  },
  {
   "cell_type": "code",
   "execution_count": 26,
   "metadata": {},
   "outputs": [
    {
     "data": {
      "text/plain": [
       "861014-1386915    8\n",
       "780505-1852415    7\n",
       "680207-2634714    7\n",
       "740520-1273313    6\n",
       "860214-2824310    6\n",
       "                 ..\n",
       "721025-1448813    1\n",
       "780828-2536112    1\n",
       "700128-1350411    1\n",
       "710308-1581117    1\n",
       "700921-1830519    1\n",
       "Name: 주민번호, Length: 815, dtype: int64"
      ]
     },
     "execution_count": 26,
     "metadata": {},
     "output_type": "execute_result"
    }
   ],
   "source": [
    "result_정상.주민번호.value_counts()"
   ]
  },
  {
   "cell_type": "code",
   "execution_count": null,
   "metadata": {},
   "outputs": [],
   "source": []
  },
  {
   "cell_type": "code",
   "execution_count": null,
   "metadata": {},
   "outputs": [],
   "source": []
  },
  {
   "cell_type": "code",
   "execution_count": null,
   "metadata": {},
   "outputs": [],
   "source": [
    "# 병합위한 채무자키 시리즈\n",
    "채무자키 = result_debt.채무자키\n",
    "print(len(채무자키))\n",
    "# 보증인, 계좌, 사건번호 시트 만들기\n",
    "result_grt = pd.merge(채무자키, df_grt, how='left')\n",
    "result_account = pd.merge(채무자키, df_account, how='left')\n",
    "result_event = pd.merge(채무자키, df_event, how='left')\n",
    "print(len(result_grt, result_account, result_event))"
   ]
  },
  {
   "cell_type": "code",
   "execution_count": null,
   "metadata": {},
   "outputs": [],
   "source": [
    "#######################################\n",
    "path = r\"D:\\0.전산\\2.이관\\써머리\\BNK\"\n",
    "#######################################\n",
    "if not os.path.exists(path) : os.mkdir(path)\n",
    "if not os.path.exists(join(path, filename)) : pd.DataFrame().to_excel(join(path, filename))"
   ]
  },
  {
   "cell_type": "code",
   "execution_count": null,
   "metadata": {},
   "outputs": [],
   "source": [
    "\n",
    "with pd.ExcelWriter(join(path, filename), engine='openpyxl', mode = 'a', if_sheet_exists = 'replace') as writer:\n",
    "    result_debt.to_excel(writer, sheet_name = \"A.차주일반정보\", index=False)\n",
    "    result_account.to_excel(writer, sheet_name = \"B.채권정보\", index=False)\n",
    "    result_grt.to_excel(writer, sheet_name = \"C.보증인정보\", index=False)\n",
    "    result_event.to_excel(writer, sheet_name = \"D.법조치정보\", index=False)"
   ]
  },
  {
   "cell_type": "code",
   "execution_count": null,
   "metadata": {},
   "outputs": [],
   "source": []
  }
 ],
 "metadata": {
  "kernelspec": {
   "display_name": "base",
   "language": "python",
   "name": "python3"
  },
  "language_info": {
   "codemirror_mode": {
    "name": "ipython",
    "version": 3
   },
   "file_extension": ".py",
   "mimetype": "text/x-python",
   "name": "python",
   "nbconvert_exporter": "python",
   "pygments_lexer": "ipython3",
   "version": "3.9.13"
  },
  "orig_nbformat": 4,
  "vscode": {
   "interpreter": {
    "hash": "38d617750889899e5f2f65cac6f27a322f361a63d334879a800ee5491961f90c"
   }
  }
 },
 "nbformat": 4,
 "nbformat_minor": 2
}
