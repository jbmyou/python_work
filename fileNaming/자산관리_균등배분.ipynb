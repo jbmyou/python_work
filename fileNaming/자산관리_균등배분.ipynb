{
 "cells": [
  {
   "cell_type": "code",
   "execution_count": 2,
   "metadata": {},
   "outputs": [],
   "source": [
    "import pandas as pd\n",
    "import os\n",
    "from os.path import join"
   ]
  },
  {
   "cell_type": "code",
   "execution_count": 24,
   "metadata": {},
   "outputs": [],
   "source": [
    "def distribute_evenly(df, group_count:int, criteria_key=\"새채무자키\", criteria_amounts=\"현재원금\"):\n",
    "    \"\"\"df, 분배할 그룹수, 기준 컬럼명 입력(새채무자키,주민번호...), 기준금액\"\"\"\n",
    "    # 채무자별로 그룹화\n",
    "    groupby_newdebtkey_df = df.groupby(criteria_key).agg({criteria_amounts:'sum'})\n",
    "    # OPB 정렬\n",
    "    sortedby_amounts_df = groupby_newdebtkey_df.sort_values(by=criteria_amounts, ascending=False)\n",
    "\n",
    "    # 중간데이터 저장용 리스트 생성(3개의 그룹가정하고 설명)\n",
    "    # 인덱스 저장할 리스트, 그룹수만큼 [[],[],[]]\n",
    "    groups = [[] for _ in range(group_count)] \n",
    "    # 그룹별 금액 합계용 : 0이 그룹수만큼 담긴 리스트 [0,0,0] \n",
    "    # 그룹함수를 적용해서 opb가 실수타입으로 바뀌었기 때문에 반드시 실수형으로 초기화 해줘야 함\n",
    "    group_amounts = [0.0] * group_count \n",
    "    # 그룹의 건수 저장용 : 0이 그룹수만큼 담긴 리스트 [0,0,0]\n",
    "    group_counts = [0] * group_count \n",
    "\n",
    "    for idx, row in sortedby_amounts_df.iterrows():\n",
    "        # 가장 작은 금액을 가진 group_amounts의 인덱스 = 가장 작은 금액을 갖는 그룹명\n",
    "        group_to_allot = group_amounts.index(min(group_amounts))\n",
    "        groups[group_to_allot].append(idx) # 인덱스 저장 : 정렬하면 idx도 따라감\n",
    "        group_amounts[group_to_allot] += row[criteria_amounts] # 배정한 그룹 OPB 집계\n",
    "        group_counts[group_to_allot] += 1\n",
    "        \n",
    "    for i, group in enumerate(groups):\n",
    "        groupby_newdebtkey_df.loc[group, '그룹'] = i\n",
    "\n",
    "    return groupby_newdebtkey_df, group_amounts, group_counts"
   ]
  },
  {
   "cell_type": "code",
   "execution_count": 27,
   "metadata": {},
   "outputs": [],
   "source": [
    "# 파일 읽기\n",
    "wd = r\"c://users/SL/Desktop/\"\n",
    "filename = \"실효폐지 배정_230608\"\n",
    "df = pd.read_excel(join(dir, filename+\".xlsx\"))\n",
    "# 키열 문자열로\n",
    "columns_with_key = list(df.columns[df.columns.str.contains(\"키\")])\n",
    "df[columns_with_key] = df[columns_with_key].astype(str)"
   ]
  },
  {
   "cell_type": "code",
   "execution_count": 28,
   "metadata": {},
   "outputs": [
    {
     "name": "stdout",
     "output_type": "stream",
     "text": [
      "Group 1: Amount = 1940165031.0, Count = 307\n",
      "Group 2: Amount = 1940187901.0, Count = 308\n",
      "Group 3: Amount = 1940156195.0, Count = 308\n"
     ]
    }
   ],
   "source": [
    "# 균등 분배 수행\n",
    "grouped_df, group_amounts, group_counts = distribute_evenly(df, 3, criteria_amounts='OPB')\n",
    "\n",
    "# 결과 확인\n",
    "for i in range(len(group_amounts)):\n",
    "    print(f\"Group {i+1}: Amount = {group_amounts[i]}, Count = {group_counts[i]}\")\n",
    "\n",
    "# 결과 저장\n",
    "grouped_df.to_excel(join(wd, filename + '_분배표.xlsx'))"
   ]
  }
 ],
 "metadata": {
  "kernelspec": {
   "display_name": "base",
   "language": "python",
   "name": "python3"
  },
  "language_info": {
   "codemirror_mode": {
    "name": "ipython",
    "version": 3
   },
   "file_extension": ".py",
   "mimetype": "text/x-python",
   "name": "python",
   "nbconvert_exporter": "python",
   "pygments_lexer": "ipython3",
   "version": "3.9.13"
  },
  "orig_nbformat": 4
 },
 "nbformat": 4,
 "nbformat_minor": 2
}
