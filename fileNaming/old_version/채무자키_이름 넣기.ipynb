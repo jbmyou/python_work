{
 "cells": [
  {
   "cell_type": "code",
   "execution_count": null,
   "metadata": {},
   "outputs": [],
   "source": [
    "import os\n",
    "import shutil\n",
    "import time\n",
    "import pandas as pd\n",
    "from tqdm.notebook import tqdm      #tqdm(filelist, total = len(filelist, position=0, leave=Ture)\n",
    "import re\n",
    "from pathlib import Path\n",
    "import traceback\n",
    "from os.path import join"
   ]
  },
  {
   "cell_type": "markdown",
   "metadata": {},
   "source": [
    "### 채무자키_대상자명 넣기_선정리"
   ]
  },
  {
   "cell_type": "code",
   "execution_count": null,
   "metadata": {},
   "outputs": [],
   "source": [
    "#[시작]##########################################################\n",
    "# -1...로 넘버링 된거 _(1)..로 변환\n",
    "path = r'D:\\1.다운로드\\부산 공유폴더\\3. (9008) 더키움자산관리대부_헬프\\3. 채권양도통지서\\3. 부산발송양통'\n",
    "os.chdir(path)\n",
    "file_list = os.listdir(path)\n",
    "index = 0\n",
    "p1 = re.compile('[-][\\d][.]')\n",
    "\n",
    "for f in file_list :\n",
    "    temp = p1.search(f)\n",
    "    if temp :\n",
    "        \n",
    "        new_name = os.path.splitext(f)[0][:-2] + \"_(\"+ temp.group()[1] +\")\" +os.path.splitext(f)[1]\n",
    "        os.rename(f, new_name)\n",
    "        \n",
    "        index += 1\n",
    "\n",
    "print(index, \"개 완료\")\n",
    "os.chdir('c:/')\n",
    "#[끝]##########################################################"
   ]
  },
  {
   "cell_type": "code",
   "execution_count": null,
   "metadata": {},
   "outputs": [],
   "source": [
    "path = r'C:\\Users\\SL\\Downloads\\부산 공유폴더\\1.한울가람_헬프\\2. 원인서류(대출신청서)\\한울 서고2 원장스캔'\n",
    "f_d = r\"C:\\Users\\SL\\Downloads\\부산 공유폴더\\1.한울가람_헬프\\2. 원인서류(대출신청서)\\한울 서고2\" #폴더내에서 이름 변경시 동일 이름이 존재하게 되면 까다로우니 새 폴더를 만들어서 처리하자. 새폴더"
   ]
  },
  {
   "cell_type": "code",
   "execution_count": null,
   "metadata": {},
   "outputs": [],
   "source": [
    "#[시작]##########################################################\n",
    "##맨앞 일련번호와 대상자명 사이에 _ 없는 거 추가 '숫자4개+글자' 또는 '숫자4개-1개+글자'\n",
    "os.chdir(path)\n",
    "file_list = os.listdir(path)\n",
    "_ = '_'\n",
    "index = 0\n",
    "\n",
    "for f in file_list:\n",
    "    # 새 파일명 만들기\n",
    "    #fullname = Path(Path.cwd() / f)  # 경로+파일명+확장자\n",
    "    #splitname = fullname.stem.split('_')  # _로 쪼개기(배열)\n",
    "    #existing_f = f  # f를 살려야 하니 새 변수에\n",
    "    new_name = f\n",
    "    \n",
    "    a = re.match('\\d\\d\\d\\d-[\\d]{1,}', f)\n",
    "    b = re.match('\\d\\d\\d\\d', f)\n",
    "    \n",
    "    if a != None : \n",
    "        new_name = a.group() + _ + f[a.span()[1]:]\n",
    "    elif b != None : \n",
    "        new_name = b.group() + _ + f[b.span()[1]:]\n",
    "\n",
    "    new_name = re.sub('_{2,}', _, new_name)\n",
    "   \n",
    "    \n",
    "    temp = Path(f_d + \"/\"+ new_name)\n",
    "    i = 1\n",
    "    while os.path.exists(f_d+\"/\"+new_name): # os.path는 무조건 경로를 매개변수로..작업디렉토리가 아니므로 풀경로, new_name이 매개변수에 포함되어야 함!\n",
    "        new_name = temp.stem + _ +\"(\"+str(i)+\")\"+temp.suffix\n",
    "        i += 1\n",
    "                    \n",
    "    f_d_final = f_d + \"/\" + new_name\n",
    "    os.rename(f, f_d_final)\n",
    "    index += 1\n",
    "\n",
    "print(index, \"개의 파일 이름 변경 완료\")\n",
    "os.chdir('C:/') # 작업디렉토리 옮겨줘야 폴더 삭제 가능\n",
    "#[끝]##########################################################"
   ]
  },
  {
   "cell_type": "code",
   "execution_count": null,
   "metadata": {},
   "outputs": [],
   "source": [
    "#[시작]###########################################################\n",
    "# 채무자키 있는 애들 추려서 옮기기\n",
    "path = r'C:\\Users\\SL\\Downloads\\부산 공유폴더\\1.한울가람_헬프\\2. 원인서류(대출신청서)\\한울 서고2'\n",
    "f_d = r'D:\\부산 정리\\한울가람대부㈜\\temp'\n",
    "os.chdir(path)\n",
    "file_list = os.listdir(path)\n",
    "index = 0\n",
    "p1 = re.compile(\"\\d\\d\\d\\d_\\d\\d\\d\\d\")\n",
    "\n",
    "for f in file_list:\n",
    "    if re.match(p1, f) :\n",
    "        new_name = f[:4]+f[5:]\n",
    "\n",
    "        temp = Path(f_d + \"/\"+ new_name)\n",
    "        i = 1\n",
    "        while os.path.exists(f_d+\"/\"+new_name): # os.path는 무조건 경로를 매개변수로..작업디렉토리가 아니므로 풀경로, new_name이 매개변수에 포함되어야 함!\n",
    "            new_name = temp.stem + _ +\"(\"+str(i)+\")\"+temp.suffix\n",
    "            i += 1\n",
    "                        \n",
    "        f_d_final = f_d + \"/\" + new_name\n",
    "        shutil.move(f, f_d_final)\n",
    "        index += 1\n",
    "\n",
    "print(\"작업 완료 개수\", index)\n",
    "#[끝]###########################################################"
   ]
  },
  {
   "cell_type": "code",
   "execution_count": null,
   "metadata": {},
   "outputs": [],
   "source": [
    "#[시작]###########################################################\n",
    "#(주)는 ㈜로 바꾸고 넘버링 제외한 괄호 다 지우기\n",
    "path = r'C:\\Users\\SL\\Downloads\\부산 공유폴더\\1.한울가람_헬프\\2. 원인서류(대출신청서)\\한울 서고2'\n",
    "_ = \"_\"\n",
    "os.chdir(path)\n",
    "file_list = os.listdir(path)\n",
    "\n",
    "p1 = re.compile('\\(주\\)|\\(주')\n",
    "p2 = re.compile('\\([\\D]+\\)') \n",
    "for f in file_list :\n",
    "        \n",
    "    changed = False\n",
    "    #new_name = \"\" #이거 안 해서 (주)그냥 다 빠져버렸네. ;; 어차피 지우고 검색할 거니까.. \n",
    "\n",
    "    if p1.search(f) :\n",
    "        new_name = p1.sub(\"㈜\", f)\n",
    "        changed = True\n",
    "\n",
    "    if p2.search(f) : #괄호 사이에 공백 있었으면 f1에 다 안 담기므로\n",
    "        new_name = p2.sub(\"\", f)\n",
    "        changed = True\n",
    "    \n",
    "    if changed :\n",
    "        os.rename(f, new_name)\n",
    "\n",
    "os.chdir('C:/')"
   ]
  },
  {
   "cell_type": "markdown",
   "metadata": {},
   "source": [
    "### 채무자키_대상자명 넣기"
   ]
  },
  {
   "cell_type": "code",
   "execution_count": null,
   "metadata": {},
   "outputs": [],
   "source": [
    "## 참조 df 불러오기 ~~~~ trim()함수로 앞뒤공백만 제거 ~~~~\n",
    "## 참조할 col_name = '채무자키', '매각사구분', 성명', '주민번호', '매각사', '보증인성명'\n",
    "                ###################\n",
    "sell_company = \"대산대부\"\n",
    "                ###################\n",
    "df_c = pd.read_excel(r'C:\\Users\\SL\\Desktop\\채무자조회.xlsx')\n",
    "df_c = df_c[df_c.매각사==sell_company]   # df_c.loc[조건,:] 이렇게 안 해도 성능차이 없이 되네!!\n",
    "df_c.head()"
   ]
  },
  {
   "cell_type": "code",
   "execution_count": null,
   "metadata": {},
   "outputs": [],
   "source": [
    "path = r'D:\\1.다운로드\\부산 공유폴더\\5. (9006) 대산대부(태산)_헬프\\1. 채권양도통지서\\대산대부-차주'\n",
    "f_d = r'D:\\부산 정리\\대산대부'\n",
    "docu_kind = '양도통지서'\n",
    "\n",
    "#etc = [\"재도\", \"확정증명원\", \"보증인\"] #키워드 있는 경우\n",
    "etc_str = \"\" #_보증인\" #언더바 붙여야 돼!!!! 키워드 없는 경우, 폴더도 없다면(주채무자인경우) \"\"로 처리"
   ]
  },
  {
   "cell_type": "code",
   "execution_count": null,
   "metadata": {},
   "outputs": [],
   "source": [
    "os.chdir(path)\n",
    "file_list = os.listdir(path)\n",
    "_ = '_'\n",
    "index = 0\n",
    "###### 빈리스트로 나올거라 생각하지만 혹시나\n",
    "admin_duple = []\n",
    "debtor_duple = []\n",
    "no_search = []\n",
    "############################################\n",
    "f = \"\"\n",
    "p1 = re.compile(r'([\\d]{3})-\\d\\d-\\d\\d\\d\\d\\d')\n",
    "p2 = re.compile(r'([\\d]{6})-([\\d]{6})')\n",
    "# 앞에 4자리가 같은 것끼리 세트로 묶고 그중에 관리자키 있는 거로 채무자키 찾아서 ~\n",
    "\n",
    "# try :\n",
    "    \n",
    "for f in file_list : \n",
    "    if f != \"Thumbs.db\" :\n",
    "        fullname = Path(Path.cwd() / f)  # 경로+파일명+확장자\n",
    "        splitname = fullname.stem.split('_')  # 확장자 제외하고 _로 쪼개기(배열)\n",
    "        \n",
    "        changed = False\n",
    "\n",
    "        if (re.search('[0-9]{10}', f) != None) & (re.search('[0-9]{11,}', f) == None) : #관리자키 있으면\n",
    "            admin = re.search('[0-9]{10}', f).group()\n",
    "            df_ = df_c[df_c.관리자기타==admin]     # 참조df에서 관리자키 일치하는 거 찾아서\n",
    "            if len(df_.index)==1 :                # 일치하는 게 하나만 나왔을 때\n",
    "                splitname[0] = str(df_.채무자키.iloc[0])     # 맨 앞자리를 채무자키로 대체\n",
    "                splitname[1] = str(df_.성명.iloc[0])    #인덱싱 결과는 시리즈이기 때문에 .iloc[0]붙여야\n",
    "                changed = True\n",
    "            elif len(df_.index)>1 :\n",
    "                admin_duple.append(f)           # 일치값이 여러개나오면 별도 리스트로\n",
    "            else :\n",
    "                no_search.append(f)             # 일치값이 없을 때\n",
    "        \n",
    "\n",
    "        elif (p1.search(f) != None) | (p2.search(f) != None) :   # 관리자키 없으면 사업자번호 / 주민번호로 찾자\n",
    "            if p1.search(f) != None :\n",
    "                number = p1.search(f).group()\n",
    "            else :\n",
    "                number = p2.search(f).group()\n",
    "\n",
    "            df_ = df_c[df_c.주민번호==number]\n",
    "            if len(df_.index) ==1:\n",
    "                splitname[0] = str(df_.채무자키.iloc[0])\n",
    "                splitname[1] = str(df_.성명.iloc[0])\n",
    "                changed = True\n",
    "            elif len(df_.index) >1 :\n",
    "                admin_duple.append(f)           \n",
    "            else :\n",
    "                no_search.append(f)\n",
    "        \n",
    "        else : #관리자키도 주민번호도 없으면 이름으로\n",
    "            name = splitname[1]\n",
    "            df_ = df_c[df_c.성명.str.contains(name)]\n",
    "            if len(df_) ==1 :\n",
    "                splitname[0] = str(df_.채무자키.iloc[0])\n",
    "                splitname[1] = str(df_.성명.iloc[0])\n",
    "                changed = True\n",
    "            elif len(df_.index) >1 :\n",
    "                admin_duple.append(f)           \n",
    "            else :\n",
    "                no_search.append(f)\n",
    "\n",
    "\n",
    "\n",
    "        # 파일명 바꾸고 이동하기\n",
    "        if changed : #채무자키 정상 입력 된 경우\n",
    "            new_name = splitname[0]+_+splitname[1]+_+docu_kind+fullname.suffix\n",
    "\n",
    "            temp = Path(f_d + \"/\"+ new_name)\n",
    "            i = 1\n",
    "            \n",
    "            while os.path.exists(f_d+\"/\"+new_name): # os.path는 무조건 경로를 매개변수로..작업디렉토리가 아니므로 풀경로, new_name이 매개변수에 포함되어야 함!\n",
    "                new_name = temp.stem + _ +\"(\"+str(i)+\")\"+temp.suffix\n",
    "                i += 1\n",
    "                            \n",
    "            f_d_final = f_d + \"/\" + new_name\n",
    "            shutil.move(f, f_d_final)\n",
    "            index += 1\n",
    "\n",
    "# except Exception as e:\n",
    "#     print(f)\n",
    "#     print(e)\n",
    "#     print(index,\"개 파일 이동 완료\")\n",
    "#     print(\"중복키\", len(admin_duple))\n",
    "#     print(\"키없음\", len(no_search))\n",
    "\n",
    "print(\"완료\")\n",
    "print(index,\"개 파일 이동 완료\")\n",
    "print(\"중복키\", len(admin_duple))\n",
    "print(\"키없음\", len(no_search))\n",
    "os.chdir(\"c:/\")\n",
    "\n",
    "\n",
    "#1)관리자키 있으면 관리자키로 검색 -> 채무자키 하나 검색됐으면 0번 자리를 채무자키로 대신 // 하나 이상이면? 일단 관리자키 리스트 만들어 저장\n",
    "#2)관리자키 없으면 대상자명 검색 -> 채무자키 하나 검색됐으면 0번 자리를 채무자키로 대신  // 하나 이상이면? 양이 얼마나 되는지 보게 일단 대상자명 리스트 만들어 저장\n",
    "#3)일치하는 값이 둘다 없다면 -> 참조없음 리스트 만들어 저장"
   ]
  },
  {
   "cell_type": "code",
   "execution_count": null,
   "metadata": {},
   "outputs": [],
   "source": [
    "###########[시작]관리자번호만 있는 경우################\n",
    "os.chdir(path)\n",
    "file_list = os.listdir(path)\n",
    "_ = '_'\n",
    "index = 0\n",
    "###### 빈리스트로 나올거라 생각하지만 혹시나\n",
    "admin_duple = []\n",
    "debtor_duple = []\n",
    "no_search = []\n",
    "############################################\n",
    "f = \"\"\n",
    "p1 = re.compile(r'([\\d]{3})-\\d\\d-\\d\\d\\d\\d\\d')\n",
    "p2 = re.compile(r'([\\d]{6})-([\\d]{6})')\n",
    "# 앞에 4자리가 같은 것끼리 세트로 묶고 그중에 관리자키 있는 거로 채무자키 찾아서 ~\n",
    "\n",
    "# try :\n",
    "    \n",
    "for f in file_list : \n",
    "    if f != \"Thumbs.db\" :\n",
    "        fullname = Path(Path.cwd() / f)  # 경로+파일명+확장자\n",
    "        splitname = [None]*2\n",
    "        changed = False\n",
    "\n",
    "        if (re.search('[0-9]{10}', f) != None) & (re.search('[0-9]{11,}', f) == None) : #관리자키 있으면\n",
    "            admin = re.search('[0-9]{10}', f).group()\n",
    "            df_ = df_c[df_c.관리자기타==admin]     # 참조df에서 관리자키 일치하는 거 찾아서\n",
    "            if len(df_.index)==1 :                # 일치하는 게 하나만 나왔을 때\n",
    "                splitname[0] = str(df_.채무자키.iloc[0])     # 맨 앞자리를 채무자키로 대체\n",
    "                \n",
    "                ### 주채무자 vs 보증인\n",
    "                # 1)주채무자 \n",
    "                splitname[1] = str(df_.성명.iloc[0])    #인덱싱 결과는 시리지이기 때문에 .iloc[0]붙여야\n",
    "                 \n",
    "                # 2)보증인 폴더\n",
    "                #splitname[1] = str(df_.보증인성명.iloc[0])\n",
    "                \n",
    "                # 3)보증인 키워드 & 추가 기타정보 검색해야 할 때\n",
    "                # for e in etc :\n",
    "                #     if re.search(e, f):\n",
    "                #         etc_str += ( _ + e )\n",
    "                #         splitname[1] = str(df_.보증인성명.iloc[0])\n",
    "                                                \n",
    "                changed = True\n",
    "                \n",
    "            elif len(df_.index)>1 :\n",
    "                admin_duple.append(f)           # 일치값이 여러개나오면 별도 리스트로\n",
    "            else :\n",
    "                no_search.append(f)             # 일치값이 없을 때\n",
    "\n",
    "\n",
    "        # 파일명 바꾸고 이동하기 - temp.stem은 넘버링이 붙지 않은 상태이므로 _(1)_(1) 이런 문제가 없다.\n",
    "        if changed : #채무자키 정상 입력 된 경우\n",
    "            new_name = splitname[0]+_+splitname[1]+_+docu_kind+ etc_str +fullname.suffix\n",
    "\n",
    "            temp = Path(f_d + \"/\"+ new_name)\n",
    "            i = 1\n",
    "            \n",
    "            while os.path.exists(f_d+\"/\"+new_name): # os.path는 무조건 경로를 매개변수로..작업디렉토리가 아니므로 풀경로, new_name이 매개변수에 포함되어야 함!\n",
    "                new_name = temp.stem + _ +\"(\"+str(i)+\")\"+temp.suffix\n",
    "                i += 1\n",
    "                            \n",
    "            f_d_final = f_d + \"/\" + new_name\n",
    "            shutil.move(f, f_d_final)\n",
    "            index += 1\n",
    "\n",
    "# except Exception as e:\n",
    "#     print(f)\n",
    "#     print(e)\n",
    "#     print(index,\"개 파일 이동 완료\")\n",
    "#     print(\"중복키\", len(admin_duple))\n",
    "#     print(\"키없음\", len(no_search))\n",
    "\n",
    "print(\"완료\")\n",
    "print(index,\"개 파일 이동 완료\")\n",
    "print(\"중복키\", len(admin_duple))\n",
    "print(\"키없음\", len(no_search))\n",
    "os.chdir(\"c:/\")\n",
    "\n",
    "###########[끝]관리자번호만 있는 경우################"
   ]
  },
  {
   "cell_type": "code",
   "execution_count": null,
   "metadata": {},
   "outputs": [],
   "source": [
    "path = r'D:\\부산 정리\\KB국민카드'\n",
    "os.chdir(path)\n",
    "file_list = os.listdir(path)\n",
    "p1 = re.compile('양도통지서1차')\n",
    "for f in file_list :\n",
    "    if p1.search(f) :\n",
    "        new_name = p1.sub(\"양도통지서_1차\", f)\n",
    "        os.rename(f, path + \"/\" + new_name)\n",
    "    \n"
   ]
  },
  {
   "cell_type": "code",
   "execution_count": null,
   "metadata": {},
   "outputs": [],
   "source": [
    "print(\"중복키\", len(admin_duple))\n",
    "print(admin_duple)\n",
    "print(\"키없음\", len(no_search))\n",
    "print(no_search)"
   ]
  },
  {
   "cell_type": "code",
   "execution_count": null,
   "metadata": {},
   "outputs": [],
   "source": [
    "splitname = ['2458', '포스기술㈜']\n",
    "f = [\"㈜123456㈜78901㈜\", \"포스기술(주)\"]\n",
    "df = pd.DataFrame(f, columns= ['성명'])\n",
    "splitname[1] = re.sub('㈜',\"\",splitname[1]) #㈜있으면 제거\n",
    "print(splitname[1])\n",
    "df_debtor = df[df.성명.str.contains(splitname[1])]       # 이름으로 검색\n",
    "df_debtor\n",
    "\n",
    "#f = re.sub('㈜',\"\",f)\n"
   ]
  },
  {
   "cell_type": "code",
   "execution_count": null,
   "metadata": {},
   "outputs": [],
   "source": [
    "#[시작]###########################################################\n",
    "#후처리 : 한울가람 앞에 넣고, 원인서류 뒤에 넣고\n",
    "\n",
    "path = r'C:\\Users\\SL\\Downloads\\부산 공유폴더\\1.한울가람_헬프\\2. 원인서류(대출신청서)\\한울 서고2'\n",
    "kind1 = '한울가람_'\n",
    "kind2 = '_원인서류'\n",
    "\n",
    "file_list = os.listdir(path)\n",
    "f = \"\"\n",
    "try :\n",
    "    for f in file_list :\n",
    "        if f != \"Thumbs.db\" :\n",
    "            new_name = kind1 + os.path.splitext(f)[0] + kind2 + os.path.splitext(f)[1]\n",
    "            os.rename(path + \"/\" + f, path + \"/\" + new_name)\n",
    "\n",
    "except Exception as e:\n",
    "    print(e)\n",
    "    print(f)\n",
    "#[끝]###########################################################"
   ]
  },
  {
   "cell_type": "code",
   "execution_count": null,
   "metadata": {},
   "outputs": [],
   "source": []
  },
  {
   "cell_type": "code",
   "execution_count": null,
   "metadata": {},
   "outputs": [],
   "source": []
  },
  {
   "cell_type": "code",
   "execution_count": null,
   "metadata": {},
   "outputs": [],
   "source": []
  },
  {
   "cell_type": "code",
   "execution_count": null,
   "metadata": {},
   "outputs": [],
   "source": []
  },
  {
   "cell_type": "code",
   "execution_count": null,
   "metadata": {},
   "outputs": [],
   "source": []
  },
  {
   "cell_type": "code",
   "execution_count": null,
   "metadata": {},
   "outputs": [],
   "source": []
  },
  {
   "cell_type": "code",
   "execution_count": null,
   "metadata": {},
   "outputs": [],
   "source": []
  },
  {
   "cell_type": "code",
   "execution_count": null,
   "metadata": {},
   "outputs": [],
   "source": []
  },
  {
   "cell_type": "code",
   "execution_count": null,
   "metadata": {},
   "outputs": [],
   "source": []
  },
  {
   "cell_type": "code",
   "execution_count": null,
   "metadata": {},
   "outputs": [],
   "source": []
  },
  {
   "cell_type": "code",
   "execution_count": null,
   "metadata": {},
   "outputs": [],
   "source": []
  },
  {
   "cell_type": "code",
   "execution_count": null,
   "metadata": {},
   "outputs": [],
   "source": []
  },
  {
   "cell_type": "code",
   "execution_count": null,
   "metadata": {},
   "outputs": [],
   "source": []
  },
  {
   "cell_type": "code",
   "execution_count": null,
   "metadata": {},
   "outputs": [],
   "source": []
  },
  {
   "cell_type": "code",
   "execution_count": null,
   "metadata": {},
   "outputs": [],
   "source": []
  },
  {
   "cell_type": "code",
   "execution_count": null,
   "metadata": {},
   "outputs": [],
   "source": []
  },
  {
   "cell_type": "code",
   "execution_count": null,
   "metadata": {},
   "outputs": [],
   "source": []
  },
  {
   "cell_type": "code",
   "execution_count": null,
   "metadata": {},
   "outputs": [],
   "source": []
  },
  {
   "cell_type": "code",
   "execution_count": null,
   "metadata": {},
   "outputs": [],
   "source": []
  },
  {
   "cell_type": "code",
   "execution_count": null,
   "metadata": {},
   "outputs": [],
   "source": []
  },
  {
   "cell_type": "code",
   "execution_count": null,
   "metadata": {},
   "outputs": [],
   "source": []
  },
  {
   "cell_type": "code",
   "execution_count": null,
   "metadata": {},
   "outputs": [],
   "source": []
  },
  {
   "cell_type": "code",
   "execution_count": null,
   "metadata": {},
   "outputs": [],
   "source": []
  },
  {
   "cell_type": "code",
   "execution_count": null,
   "metadata": {},
   "outputs": [],
   "source": []
  },
  {
   "cell_type": "code",
   "execution_count": null,
   "metadata": {},
   "outputs": [],
   "source": []
  },
  {
   "cell_type": "code",
   "execution_count": null,
   "metadata": {},
   "outputs": [],
   "source": []
  },
  {
   "cell_type": "code",
   "execution_count": null,
   "metadata": {},
   "outputs": [],
   "source": []
  },
  {
   "cell_type": "code",
   "execution_count": null,
   "metadata": {},
   "outputs": [],
   "source": []
  },
  {
   "cell_type": "code",
   "execution_count": null,
   "metadata": {},
   "outputs": [],
   "source": []
  },
  {
   "cell_type": "code",
   "execution_count": null,
   "metadata": {},
   "outputs": [],
   "source": []
  },
  {
   "cell_type": "code",
   "execution_count": null,
   "metadata": {},
   "outputs": [],
   "source": []
  },
  {
   "cell_type": "code",
   "execution_count": null,
   "metadata": {},
   "outputs": [],
   "source": []
  },
  {
   "cell_type": "code",
   "execution_count": null,
   "metadata": {},
   "outputs": [],
   "source": []
  },
  {
   "cell_type": "code",
   "execution_count": null,
   "metadata": {},
   "outputs": [],
   "source": []
  }
 ],
 "metadata": {
  "kernelspec": {
   "display_name": "Python 3.9.12 ('base')",
   "language": "python",
   "name": "python3"
  },
  "language_info": {
   "name": "python",
   "version": "3.9.12"
  },
  "orig_nbformat": 4,
  "vscode": {
   "interpreter": {
    "hash": "50ba2c93e3505a279245e213c77d9791c626788d8ca8a61b8db804927ca08a39"
   }
  }
 },
 "nbformat": 4,
 "nbformat_minor": 2
}
