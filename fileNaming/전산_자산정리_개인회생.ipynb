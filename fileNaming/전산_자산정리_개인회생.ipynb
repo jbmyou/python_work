{
 "cells": [
  {
   "attachments": {},
   "cell_type": "markdown",
   "metadata": {},
   "source": [
    "##### import"
   ]
  },
  {
   "cell_type": "code",
   "execution_count": 1,
   "metadata": {},
   "outputs": [],
   "source": [
    "import os, re, pickle\n",
    "import pandas as pd\n",
    "import numpy as np\n",
    "from os.path import join\n",
    "from tqdm import tqdm\n",
    "\n",
    "# 파일 읽기\n",
    "path_base = r\"D:\\3.자산\\전산 dataset\"\n",
    "########################################################\n",
    "company = \"솔림\"\n",
    "workdate = \"230911\" # 폴더명\n",
    "name_dataset = \"개인회생새창_20230911_1514\"\n",
    "previous_workdate = \"230904\" # 폴더명\n",
    "previous_name_dataset = \"개인회생새창_20230904_1949_기준데이터\" # 기준데이터 계좌키 미분리\n",
    "########################################################\n",
    "path_dataset = join(path_base, company, workdate)\n",
    "path_previous = join(path_base, company, previous_workdate, previous_name_dataset+\".xlsx\")\n",
    "path_result = join(path_dataset, name_dataset+\"_기준데이터.xlsx\")"
   ]
  },
  {
   "attachments": {},
   "cell_type": "markdown",
   "metadata": {},
   "source": [
    "##### 전산조회 전"
   ]
  },
  {
   "cell_type": "code",
   "execution_count": 2,
   "metadata": {},
   "outputs": [
    {
     "name": "stderr",
     "output_type": "stream",
     "text": [
      "c:\\Users\\sl\\anaconda3\\lib\\site-packages\\openpyxl\\styles\\stylesheet.py:226: UserWarning: Workbook contains no default style, apply openpyxl's default\n",
      "  warn(\"Workbook contains no default style, apply openpyxl's default\")\n"
     ]
    }
   ],
   "source": [
    "previous = pd.read_excel(path_previous, sheet_name=\"개인회생(전체)\", dtype={'채무자키':str, '분납키':str, '계좌키':str})\n",
    "path_raw_data = join(path_dataset, name_dataset+\".xlsx\")\n",
    "raw_data_ori = pd.read_excel(path_raw_data, dtype={'채무자키':str, '분납키':str, '계좌키':str}).fillna(\"\")"
   ]
  },
  {
   "cell_type": "code",
   "execution_count": 11,
   "metadata": {},
   "outputs": [
    {
     "name": "stderr",
     "output_type": "stream",
     "text": [
      "  0%|          | 0/1982 [00:00<?, ?it/s]"
     ]
    },
    {
     "name": "stderr",
     "output_type": "stream",
     "text": [
      "100%|██████████| 1982/1982 [00:00<00:00, 24124.08it/s]\n"
     ]
    }
   ],
   "source": [
    "raw_data = raw_data_ori.copy()\n",
    "\n",
    "# 컬럼 순서 바꾸기, 인트를 문자열로(타입때메 종료제거보다 나중에 나와야)\n",
    "raw_data.insert(1, \"분납키\", raw_data.pop(\"분납키\"))\n",
    "raw_data.insert(7, \"현재결과\", raw_data.pop(\"현재결과\"))\n",
    "raw_data.insert(8, \"분납상태\", raw_data.pop(\"분납상태\"))\n",
    "raw_data.insert(9, \"검수상태\", raw_data.pop(\"검수상태\"))\n",
    "\n",
    "\n",
    "# 인가/미인가\n",
    "인가미인가 = []\n",
    "for i, v in tqdm(raw_data[[\"현재결과\", \"분납키\", \"총분납잔금\", \"현재원금\"]].iterrows(), total=len(raw_data.index)) :\n",
    "    result, opb = \"\", 0\n",
    "    if v.현재결과 == \"인가\" : result = \"인가\"\n",
    "    elif (v.현재결과 == \"개시\") or (v.현재결과 == \"금지\") : result = \"미인가\"\n",
    "    elif (v.현재결과==\"폐지취소결정\") or (v.현재결과==\"폐지취소결정송달\") : \n",
    "        temp = previous.query('분납키==@v.분납키')[\"인가/미인가\"].values\n",
    "        if len(temp) == 1 : result = temp[0]\n",
    "        else : result = \"#N/A\"\n",
    "    else : result = \"기타\"\n",
    "\n",
    "    인가미인가.append(result)\n",
    "\n",
    "\n",
    "raw_data.insert(7, \"인가/미인가\", 인가미인가)\n",
    "raw_data.insert(11, \"반영OPB\", None)\n",
    "\n",
    "# 공채권\n",
    "####### 통합신고채권(채권번호 하나)은 계좌별로 등록할 필요가 없으니 이렇게 적을 필요가 없음(아래서, 계좌통합건은 행분열하고 모두 0원으로 처리)\n",
    "####### 통합신고채권은 계좌별로 분리하지 말고 통합해서 전산등록해야\n",
    "raw_data.loc[raw_data.분납메모 == \"공채권\" , [\"총분납금\",\"분납미납금\"]] = 0\n",
    "raw_data.loc[raw_data.분납메모 == \"공채권\" , [\"분납잔금\",\"총분납잔금\"]] = raw_data['총분납금'] - raw_data[\"총분납입금\"]\n",
    "\n",
    "\n",
    "# 엑셀 파일로 저장\n",
    "if not os.path.exists(path_result):\n",
    "    with pd.ExcelWriter(path_result, mode='w', engine='openpyxl') as writer:\n",
    "        raw_data.to_excel(writer, sheet_name='개인회생(전체)', index=False)\n",
    "else : \n",
    "    with pd.ExcelWriter(path_result, engine='openpyxl', mode = 'a', if_sheet_exists = 'replace') as writer :\n",
    "        raw_data.to_excel(writer, sheet_name='개인회생(전체)', index=False)"
   ]
  },
  {
   "cell_type": "code",
   "execution_count": 12,
   "metadata": {},
   "outputs": [
    {
     "data": {
      "text/html": [
       "<div>\n",
       "<style scoped>\n",
       "    .dataframe tbody tr th:only-of-type {\n",
       "        vertical-align: middle;\n",
       "    }\n",
       "\n",
       "    .dataframe tbody tr th {\n",
       "        vertical-align: top;\n",
       "    }\n",
       "\n",
       "    .dataframe thead th {\n",
       "        text-align: right;\n",
       "    }\n",
       "</style>\n",
       "<table border=\"1\" class=\"dataframe\">\n",
       "  <thead>\n",
       "    <tr style=\"text-align: right;\">\n",
       "      <th></th>\n",
       "      <th>채무자키</th>\n",
       "      <th>분납키</th>\n",
       "      <th>매각사구분</th>\n",
       "      <th>채권구분</th>\n",
       "      <th>분납자관계</th>\n",
       "      <th>분납자성명인</th>\n",
       "      <th>계좌키</th>\n",
       "      <th>인가/미인가</th>\n",
       "      <th>현재결과</th>\n",
       "      <th>분납상태</th>\n",
       "      <th>...</th>\n",
       "      <th>최종진행결과</th>\n",
       "      <th>사건키</th>\n",
       "      <th>자동최신화</th>\n",
       "      <th>최신화결과화면</th>\n",
       "      <th>관련최신화결과화면</th>\n",
       "      <th>공고게시일</th>\n",
       "      <th>공고물</th>\n",
       "      <th>공고변제율</th>\n",
       "      <th>공고변제기간</th>\n",
       "      <th>NOSER</th>\n",
       "    </tr>\n",
       "  </thead>\n",
       "  <tbody>\n",
       "  </tbody>\n",
       "</table>\n",
       "<p>0 rows × 213 columns</p>\n",
       "</div>"
      ],
      "text/plain": [
       "Empty DataFrame\n",
       "Columns: [채무자키, 분납키, 매각사구분, 채권구분, 분납자관계, 분납자성명인, 계좌키, 인가/미인가, 현재결과, 분납상태, 검수상태, 반영OPB, 중복차주수, 다계좌수, 분납계좌수, 채무상태, 컷오프일, 분납시작일, 분납종료일, 분납컷오프일, 선납금, OPB, OPB비교, 총분납금, 총분납입금, 분납미납금, 분납잔금, 총분납잔금, 매입전변제금, 초과입금, 기타금액, 총분납회차, 현재회차, 납입회차, 잔여회차, 미납회차, 분납연체일, 조정전원금, 인가총액, 원금변제율, 전산원금, 전산변제율, 전산원금변경여부, 분납중단일, 중단사유, 매입전상태, 분납주기, 변제회차기준여부, 변제회차적용여부, 검수상태일, 검수상태자, 분납메모, 분납비고, 분납기타, 현재채권구분, 별제권여부, 최신화경과, 최신화일, 최신화결과, 관할법원, 사건번호, 채권자목록, 채권자수, 채권자번호, 사건명, 재판부, 접수일, 회생위원, 개시결정일, 변제계획인가일, 종국결과일, 종국결과, 현재결과일, 직전현재결과, 현재결과변동여부, 공탁일, 공탁, 항고일, 항고, 폐지결정일, 폐지결정, 변제현황조회, 신고조회일, 신고조회결과, 입금조회결과, 입금조회일, 입금요청, 입금요청일, 입금요청결과, 변제주기, 매월변제예정금액, 출금대상잔액, 출금대상기준일, 채무자미납회차, 재산처분예정금액, 변제기일, 전체변제회차, 현재변제회차, 잔여변제회차, 재산처분납입금액, ...]\n",
       "Index: []\n",
       "\n",
       "[0 rows x 213 columns]"
      ]
     },
     "execution_count": 12,
     "metadata": {},
     "output_type": "execute_result"
    }
   ],
   "source": [
    "# 공채권 확인\n",
    "raw_data.loc[raw_data.분납메모.str.match(\"(공|통합)채권\"),:]"
   ]
  },
  {
   "attachments": {},
   "cell_type": "markdown",
   "metadata": {},
   "source": [
    "##### 전산조회 할 거 작업 후\n",
    "- 매각 제외 전이므로, 채무상태 및 담당자에서 종결, 매각건 제외\n",
    "- 분납상태-[진행] & \n",
    "- 현재결과-[폐지취소결정, 폐지취소결정송달, 빈셀] & \n",
    "- 인가/미인가-[기타, #N/A] 즉 인가/미인가가 아닌 거"
   ]
  },
  {
   "cell_type": "code",
   "execution_count": 2,
   "metadata": {},
   "outputs": [],
   "source": [
    "# 완성된 전체 다시 읽기\n",
    "all_df = pd.read_excel(path_result, sheet_name=\"개인회생(전체)\", dtype={'채무자키':str, '분납키':str, '계좌키':str})\n",
    "\n",
    "# raw_data[\"계좌키\"] = raw_data.분납키.apply(str) # 계좌키는 여러건 입력된 거 때문에 애초에 object타입이다.\n",
    "\n",
    "# OPB\n",
    "all_df['반영OPB'] = np.where(all_df['인가/미인가'] == '인가', all_df[\"총분납잔금\"] , all_df[\"현재원금\"])\n",
    "\n",
    "# 진행중 1) --------------------\n",
    "# 종료건 제외\n",
    "if path_dataset.find(\"대성\") < 0 : # 솔림\n",
    "    ing_df = all_df[~(all_df.채무상태.str.match(\"종결|환매|매각\")|all_df.담당자.str.match(\"종결|매각|매각예정|회계파산|DS|환매\"))]\n",
    "else : # 대성\n",
    "    ing_df = all_df[~(all_df.채무상태.str.match(\"종결|환매|매각\")|all_df.담당자.str.match(\"종결|매각|환매|파산|회계파산\"))]\n",
    "# 진행중\n",
    "ing_df = ing_df[(ing_df[\"인가/미인가\"] != \"기타\") & (ing_df[\"분납상태\"] !=\"중단\")]\n",
    "\n",
    "###### 신복과 충돌하는 거 제거하기 #################\n",
    "if path_dataset.find(\"대성\") < 0 : # 솔림\n",
    "    개회제외 = {\"채무자\" : [\"20462830\"], \"보증인\" : [] } # 20462830 중복입금건. 신복이 기간이 더 남아서 신복으로 처리하기로 함\n",
    "else : # 대성\n",
    "    개회제외 = {\"채무자\" : [], \"보증인\" : [] } # \n",
    "##################################################\n",
    "\n",
    "# 진행중 2) -------------------- 매각건,파산건,신복중복건 포함 진행중\n",
    "# # 종료건 제외\n",
    "# if path_dataset.find(\"대성\") < 0 : # 솔림\n",
    "#     ing_df = all_df[~(all_df.채무상태.str.match(\"종결|환매\")|all_df.담당자.str.match(\"종결|환매\"))]\n",
    "# else : # 대성\n",
    "#     ing_df = all_df[~(all_df.채무상태.str.match(\"종결|환매\")|all_df.담당자.str.match(\"종결|환매\"))]\n",
    "# # 진행중\n",
    "# ing_df = ing_df[ing_df[\"분납상태\"] !=\"중단\"]\n",
    "\n",
    "if len(개회제외[\"채무자\"]) > 0 : ing_df = ing_df[~(ing_df['채무자키'].isin(개회제외[\"채무자\"]) & (ing_df['분납자관계'] == '채무자'))]\n",
    "if len(개회제외[\"보증인\"]) > 0 : ing_df = ing_df[~(ing_df['채무자키'].isin(개회제외[\"보증인\"]) & (ing_df['분납자관계'] == '보증인'))]\n",
    "\n",
    "# 채무자, 보증인\n",
    "debt_ing = ing_df[ing_df[\"분납자관계\"]==\"채무자\"]\n",
    "grt_ing = ing_df[ing_df[\"분납자관계\"]==\"보증인\"]\n",
    "\n",
    "# 저장\n",
    "with pd.ExcelWriter(join(path_dataset, name_dataset+\"_기준데이터.xlsx\"), engine='openpyxl', mode = 'a', if_sheet_exists = 'replace') as writer :\n",
    "    ing_df.to_excel(writer, sheet_name='개인회생(진행)', index=False)\n",
    "    debt_ing.to_excel(writer, sheet_name='개인회생(진행)_채무자', index=False)\n",
    "    grt_ing.to_excel(writer, sheet_name='개인회생(진행)_보증인', index=False)\n",
    "    all_df.to_excel(writer, sheet_name='개인회생(전체)', index=False)"
   ]
  },
  {
   "attachments": {},
   "cell_type": "markdown",
   "metadata": {},
   "source": [
    "##### 계좌키 나누고 새로운 파일 저장\n",
    "- 통합계좌 없으면 대성은 안 해도 됨"
   ]
  },
  {
   "cell_type": "code",
   "execution_count": 8,
   "metadata": {},
   "outputs": [
    {
     "name": "stderr",
     "output_type": "stream",
     "text": [
      "C:\\Users\\SL\\AppData\\Local\\Temp\\ipykernel_2288\\2913549892.py:30: FutureWarning: save is not part of the public API, usage can give unexpected results and will be removed in a future version\n",
      "  writer.save()\n",
      "c:\\Users\\sl\\anaconda3\\lib\\site-packages\\xlsxwriter\\workbook.py:339: UserWarning: Calling close() on already closed file.\n",
      "  warn(\"Calling close() on already closed file.\")\n"
     ]
    }
   ],
   "source": [
    "# 개인회생 계좌 나누기\n",
    "\n",
    "# path_dataset = r\"D:\\3.자산\\전산 dataset\\230430(0501)\"\n",
    "# name_dataset = \"개인회생새창_20230502_0850_기준데이터\"\n",
    "# ing_df = pd.read_excel(join(path_dataset, name_dataset+\".xlsx\"), sheet_name=\"개인회생(진행)\", dtype={'채무자키':str, '분납키':str, '계좌키':str})\n",
    "\n",
    "split_ing_df = ing_df.copy()\n",
    "split_ing_df[\"비고\"] = \"\"\n",
    "new_rows = []\n",
    "for index, row in split_ing_df.iterrows():\n",
    "    account_keys = row['계좌키'].split(',')\n",
    "    first_account_key = account_keys.pop(0)\n",
    "    split_ing_df.loc[index, '계좌키'] = first_account_key # 여러 계좌키를 첫번째 계좌키로 값 수정\n",
    "\n",
    "    for account_key in account_keys:\n",
    "        new_row = row.copy() # 일단 모든 칼럼 복사\n",
    "        new_row['계좌키'] = account_key\n",
    "        new_row['반영OPB'],new_row['OPB'], new_row['총분납금'],new_row['총분납입금'],new_row['분납미납금'],new_row['분납잔금'],new_row['총분납잔금'] = 0,0,0,0,0,0,0 # 값 안 가져올 컬림은 빈문자열로 대체\n",
    "        new_row[\"분납메모\"] = \"통합신고 : \" + first_account_key\n",
    "        new_rows.append(new_row)\n",
    "        \n",
    "\n",
    "temp = pd.DataFrame(new_rows)\n",
    "\n",
    "result = pd.concat([split_ing_df, temp], ignore_index=True)\n",
    "\n",
    "# 저장\n",
    "writer = pd.ExcelWriter(join(path_dataset, name_dataset+\"_진행중_계좌키분리_기준데이터.xlsx\"))\n",
    "result.to_excel(writer, sheet_name=\"개인회생(진행)\", index=False)\n",
    "writer.save()\n",
    "writer.close()\n"
   ]
  }
 ],
 "metadata": {
  "kernelspec": {
   "display_name": "base",
   "language": "python",
   "name": "python3"
  },
  "language_info": {
   "codemirror_mode": {
    "name": "ipython",
    "version": 3
   },
   "file_extension": ".py",
   "mimetype": "text/x-python",
   "name": "python",
   "nbconvert_exporter": "python",
   "pygments_lexer": "ipython3",
   "version": "3.9.13"
  },
  "orig_nbformat": 4
 },
 "nbformat": 4,
 "nbformat_minor": 2
}
