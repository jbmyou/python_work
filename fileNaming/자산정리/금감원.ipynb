{
 "cells": [
  {
   "cell_type": "code",
   "execution_count": 1,
   "metadata": {},
   "outputs": [],
   "source": [
    "import pandas as pd\n",
    "import numpy as np\n",
    "import re\n",
    "import os\n",
    "from os.path import join\n",
    "import warnings\n",
    "warnings.simplefilter(\"ignore\")\n",
    "\n",
    "# 출력 옵션\n",
    "pd.options.display.float_format = '{:,.0f}'.format"
   ]
  },
  {
   "cell_type": "markdown",
   "metadata": {},
   "source": [
    "### LM035(매각채권) - 그냥 수작업\n",
    "- 매각이 여러건이면 읽을 파일이 많고, 단건이면 수작업도 금방 끝남"
   ]
  },
  {
   "cell_type": "markdown",
   "metadata": {},
   "source": [
    "### LM036(매입채권 : 관리채권)"
   ]
  },
  {
   "cell_type": "code",
   "execution_count": 63,
   "metadata": {},
   "outputs": [
    {
     "name": "stdout",
     "output_type": "stream",
     "text": [
      "채권수 : 32,383 / 반영OPB합 : 403,172,898,431\n",
      "32383\n",
      "32383\n"
     ]
    }
   ],
   "source": [
    "# 전체 원데이터 읽기\n",
    "\n",
    "######################################################\n",
    "path_raw_data = r\"D:\\3.자산\\전산 dataset\\솔림\\240329\\pkl\"\n",
    "fn_raw_data = \"2.솔림_전체_원데이터_240329금감원용\"\n",
    "######################################################\n",
    "\n",
    "raw_data = pd.read_pickle(join(path_raw_data, fn_raw_data + \".pkl\"))\n",
    "\n",
    "# 종료, 종료요청 제외\n",
    "raw_data = raw_data.query('~새채무상태.str.contains(\"종료\")')\n",
    "raw_data.reset_index(inplace=True, drop=True)\n",
    "print(f'채권수 : {len(raw_data):,} / 반영OPB합 : {raw_data.반영OPB.sum():,}')\n",
    "\n",
    "# 원채권사, 매각사 코드 merge\n",
    "# 채무자조회파일에서 매각사 불러오기\n",
    "file_list = os.listdir(path_raw_data)\n",
    "fn_debt = [file for file in file_list if file.startswith(\"채무자조회\")][0]\n",
    "\n",
    "debt = pd.read_pickle(join(path_raw_data, fn_debt))[[\"채무자키\", \"매각사\"]]\n",
    "\n",
    "# 코드 파일 불러오기\n",
    "원채권사코드 = pd.read_excel(r\"D:\\3.자산\\금감원\\기관코드표.xlsx\", sheet_name=\"원채권사\", dtype={\"원채권사코드\":str})\n",
    "매각사코드 = pd.read_excel(r\"D:\\3.자산\\금감원\\기관코드표.xlsx\", sheet_name=\"매각사\", dtype={\"매각사코드\":str})\n",
    "\n",
    "# 병합\n",
    "raw_data = raw_data.merge(debt, on=\"채무자키\", how=\"left\")\n",
    "raw_data = raw_data.merge(원채권사코드, on=\"원채권사\", how=\"left\")\n",
    "raw_data = raw_data.merge(매각사코드, on=\"매각사\", how=\"left\")\n",
    "\n",
    "# 법조치 읽기\n",
    "fn_event = [file for file in file_list if file.startswith(\"법조치조회\")][0]\n",
    "event = pd.read_pickle(join(path_raw_data, fn_event))[[\"채무자키\", \"법조치구분\", \"접수일\"]]\n",
    "len(event)\n",
    "\n",
    "\n",
    "# 새채무자키 merge\n",
    "event = pd.merge(event, raw_data.drop_duplicates('채무자키')[[\"채무자키\",\"새채무자키\"]] , on=\"채무자키\", how='left')\n",
    "\n",
    "# 법조치 필터링(집행권원만 할거면 자산정리_통합파일에서, **신청일 살려야)\n",
    "# 새채무자키 없는 거 삭제(종결건 삭제)\n",
    "event.query('~새채무자키.isna()')\n",
    "# 접수일 없는 거 삭제\n",
    "event = event.query('접수일 != \"\"')\n",
    "# 법조치구분 선택\n",
    "comp = r\"가?압류|가?처분|강제|경매|집행|담보|보전|본안|사해행위|시효연장|유체|재산관계|재산명시|전자독촉|지급명령|불이행|추심\"\n",
    "event = event.query('법조치구분.str.contains(@comp)')\n",
    "\n",
    "# 접수일 역정렬\n",
    "event.sort_values(\"접수일\", ascending=False, inplace =True)\n",
    "event.drop_duplicates(subset='새채무자키', keep='first', inplace=True)\n",
    "\n",
    "# raw_data에 열추가(merge)\n",
    "raw_data = raw_data.merge(event[[\"새채무자키\", \"접수일\"]], on=\"새채무자키\", how=\"left\").fillna(\"\")\n",
    "\n",
    "# 병합잘못되어 계좌키 중복건 있는지 체크\n",
    "raw_data[raw_data.계좌키.duplicated()]"
   ]
  },
  {
   "cell_type": "code",
   "execution_count": 68,
   "metadata": {},
   "outputs": [],
   "source": [
    "# 복붙용 파일 만들기\n",
    "lm036 = pd.DataFrame()\n",
    "\n",
    "lm036[\"고객번호\"] = raw_data.채무자키\n",
    "lm036[\"계약번호\"] = raw_data.계좌번호\n",
    "lm036[\"차주명\"] = raw_data.성명\n",
    "lm036[\"차주실명번호\"] = raw_data.주민등록번호.apply(lambda x: re.sub(\"-\",\"\", x)+\"000\" if len(re.sub(\"-\",\"\", x)) == 10 else re.sub(\"-\",\"\", x))\n",
    "lm036[\"차주구분\"] = np.where(raw_data.개인법인==\"법인\", \"03\", np.where(raw_data.주민등록번호.str[7].astype(int) % 2 == 1, \"01\", \"02\"))\n",
    "lm036[\"매입회차\"] = \"\"\n",
    "lm036[\"매입일\"] = raw_data.매입일\n",
    "lm036[\"대출일\"] = raw_data.최초대출일\n",
    "lm036[\"대출종류\"] = \"01\"\n",
    "lm036[\"상환금액\"] = raw_data.회수합계\n",
    "lm036[\"만기일\"] = raw_data.대출만기일\n",
    "lm036[\"최초계약금액\"] = raw_data.은행대출원금\n",
    "lm036[\"매입서류상잔액\"] = raw_data.최초원금 + raw_data.최초법비용\n",
    "lm036[\"실제매입금액\"] = \"\"\n",
    "lm036[\"기준일장부가액\"] = raw_data.현재원금 + raw_data.현재법비용\n",
    "lm036[\"금리\"] = raw_data.연체이자율\n",
    "lm036[\"최종수령일\"] = raw_data.최종거래일\n",
    "lm036[\"이자연체일수\"] = 0\n",
    "lm036[\"만기연체일수\"] = 0\n",
    "lm036[\"시효완성일\"] = raw_data.시효완성일\n",
    "lm036[\"지급명령신청일\"] = raw_data.접수일\n",
    "lm036[\"채권서류존재유무\"] = np.where(raw_data.원인서류유무==0,\"N\", \"Y\")\n",
    "\n",
    "x = raw_data.새채무상태\n",
    "y = raw_data.채무상태\n",
    "z = raw_data.분납연체일\n",
    "conds = [x.str.contains(\"개인회생\"), x.str.contains(\"신용회복\"), y.str.contains(\"사망\"), ~z.isna()]\n",
    "values = [\"03\", \"04\", \"07\", \"05\"]\n",
    "lm036[\"현상태\"] = np.select(conds, values, default=\"02\")\n",
    "lm036[\"원인채권회사번호\"] = raw_data.원채권사코드\n",
    "lm036[\"원인채권회사명\"] = raw_data.원채권사\n",
    "lm036[\"채권양도회사번호\"] = raw_data.매각사코드\n",
    "lm036[\"양도금융회사명\"] = raw_data.매각사\n",
    "lm036[\"채권추심위임일\"] = \"\"\n",
    "lm036[\"채권추심위임기관\"] = \"\"\n",
    "lm036[\"연대보증여부\"] = \"N\""
   ]
  },
  {
   "cell_type": "code",
   "execution_count": 69,
   "metadata": {},
   "outputs": [],
   "source": [
    "# 엑셀로 보내기\n",
    "lm036.to_excel(r\"D:\\3.자산\\금감원\\lm036.xlsx\", index=False)"
   ]
  }
 ],
 "metadata": {
  "kernelspec": {
   "display_name": "py_39",
   "language": "python",
   "name": "python3"
  },
  "language_info": {
   "codemirror_mode": {
    "name": "ipython",
    "version": 3
   },
   "file_extension": ".py",
   "mimetype": "text/x-python",
   "name": "python",
   "nbconvert_exporter": "python",
   "pygments_lexer": "ipython3",
   "version": "3.9.18"
  }
 },
 "nbformat": 4,
 "nbformat_minor": 2
}
