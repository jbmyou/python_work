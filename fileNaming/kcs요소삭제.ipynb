{
 "cells": [
  {
   "attachments": {},
   "cell_type": "markdown",
   "metadata": {},
   "source": [
    "### import 및 함수"
   ]
  },
  {
   "cell_type": "code",
   "execution_count": 1,
   "metadata": {},
   "outputs": [],
   "source": [
    "# dict_kcs = {\"kcs\" : \"pullPath\"}\n",
    "# 20494491752A40E088201 /volume1/솔림헬프/기타/전북-01/20494491/20494491_보증인 오병석_기타_2022본11747_유체접수증.pdf\n",
    "import os\n",
    "import pickle\n",
    "import binascii\n",
    "import re\n",
    "from os.path import join\n",
    "\n",
    "def crc32_checksum(filename):\n",
    "    buf = open(filename,'rb').read()\n",
    "    buf = (binascii.crc32(buf) & 0xFFFFFFFF)\n",
    "    return \"%08X\" % buf\n",
    "\n",
    "def get_kcs(path_192) :\n",
    "    crc32 = str(crc32_checksum(path_192))\n",
    "    size = str(os.path.getsize(path_192))\n",
    "    f = os.path.split(path_192)[1]\n",
    "    key = f[:8]\n",
    "    kcs = key + crc32 + size \n",
    "    return kcs\n",
    "\n",
    "def read_kcs(path_kcs) :\n",
    "    with open(path_kcs, \"rb\") as pkl :\n",
    "        return pickle.load(pkl)\n",
    "\n",
    "def delete_kcs(filePath, dict_kcs) :\n",
    "    print(\"삭제 전 : \", len(dict_kcs))\n",
    "    k = os.path.split(filePath)[1][:8]\n",
    "    c = str(crc32_checksum(filePath))\n",
    "    s = str(os.path.getsize(filePath))\n",
    "    kcs = k + c + s\n",
    "    if kcs in dict_kcs :\n",
    "        print(f\"kcs : {kcs}   path : {dict_kcs[kcs]}\")\n",
    "        del dict_kcs[kcs]\n",
    "        print(\"삭제하였습니다.\")\n",
    "    else :\n",
    "      print(filePath, kcs, \"없는 키값\")\n",
    "    print(\"삭제 후 : \", len(dict_kcs))\n",
    "\n",
    "def write_kcs(path_kcs, dict_kcs) :\n",
    "    with open(path_kcs, \"wb\") as pkl :\n",
    "        pickle.dump(dict_kcs, pkl)\n",
    "\n",
    "# def update_kcs(src, dst, dict_kcs) :\n",
    "    \n",
    "#     kcs = get_kcs(src)\n",
    "#     print(dict_kcs[kcs])\n",
    "\n",
    "#     new_dst = re.sub(r\"\\\\\\\\192.168.0.75\", \"/volume1\", dst)\n",
    "#     new_dst = re.sub(r\"\\\\\", \"/\", new_dst)\n",
    "#     dict_kcs[kcs] = new_dst\n",
    "#     print(dict_kcs[kcs], \"dict수정 성공\")\n",
    "\n",
    "def update_kcs(src, dst, dict_kcs) :\n",
    "    # 채무자키\n",
    "    src_key = os.path.split(src)[1][:8]\n",
    "    dst_key = os.path.split(dst)[1][:8]\n",
    "    # kcs\n",
    "    kcs = get_kcs(src)\n",
    "    before_value = dict_kcs[kcs] # 수정되기 전에 변수에 담아두어야\n",
    "    # 윈도우 path를 리눅스 path로\n",
    "    new_dst = re.sub(r\"\\\\\\\\192.168.0.75\", \"/volume1\", dst)\n",
    "    new_dst = re.sub(r\"\\\\\", \"/\", new_dst)\n",
    "\n",
    "    # 채무자키가 달라졌을 때 > dict의 key를 수정해야 하므로 삭제 후 새값 추가\n",
    "    if src_key != dst_key :\n",
    "        new_kcs = dst_key + kcs[8:]\n",
    "        del dict_kcs[kcs] # 구값 삭제\n",
    "    else : new_kcs = kcs\n",
    "    \n",
    "    # 새값 추가/수정(채무자키 동일했다면 kcs == new_kcs 따라서 수정된다.)\n",
    "    dict_kcs[new_kcs] = new_dst\n",
    "\n",
    "    print(f\"dict 키 변화 : {kcs} >>> {new_kcs}\")\n",
    "    print(f\"dict 값 변화 : {before_value} >>> {dict_kcs[new_kcs]}\")\n",
    "    \n",
    "\n",
    "path_kcs = r\"\\\\192.168.0.75\\스캔파일\\스캔파일log\\_project\\파일\\중복조사\\kcs별 파일정보_솔림헬프.pkl\""
   ]
  },
  {
   "attachments": {},
   "cell_type": "markdown",
   "metadata": {},
   "source": [
    "### dict load"
   ]
  },
  {
   "cell_type": "code",
   "execution_count": 2,
   "metadata": {},
   "outputs": [
    {
     "name": "stdout",
     "output_type": "stream",
     "text": [
      "최초dict_kcs개수 : 401379\n"
     ]
    }
   ],
   "source": [
    "# 읽기\n",
    "dict_kcs = read_kcs(path_kcs)\n",
    "print(\"최초dict_kcs개수 :\", len(dict_kcs))"
   ]
  },
  {
   "attachments": {},
   "cell_type": "markdown",
   "metadata": {},
   "source": [
    "### dict삭제 > 파일은 직접, 파일명 변경후 재업하면 수정작업과 동일"
   ]
  },
  {
   "cell_type": "code",
   "execution_count": 3,
   "metadata": {},
   "outputs": [
    {
     "name": "stdout",
     "output_type": "stream",
     "text": [
      "삭제 전 :  401379\n",
      "kcs : 2042694633A289931864652   path : /volume1/솔림헬프/3.집행권원/더키움/20426946/20426946_강호정_집행권원.pdf\n",
      "삭제하였습니다.\n",
      "삭제 후 :  401378\n"
     ]
    }
   ],
   "source": [
    "# 1) 단일파일 dict 삭제\n",
    "####################################\n",
    "# 에브리띵에서 전체경로복사하면 편함, 채무자키만 유지하면 파일위치, 파일명는 상관없음\n",
    "path_192 = r\"\\\\192.168.0.75\\솔림헬프\\3.집행권원\\더키움\\20426946\\20426946_강호정_집행권원.pdf\"\n",
    "####################################\n",
    "delete_kcs(path_192, dict_kcs)"
   ]
  },
  {
   "cell_type": "code",
   "execution_count": 4,
   "metadata": {},
   "outputs": [],
   "source": [
    "# dict 파일로 저장\n",
    "write_kcs(path_kcs, dict_kcs)"
   ]
  },
  {
   "cell_type": "code",
   "execution_count": 18,
   "metadata": {},
   "outputs": [
    {
     "data": {
      "text/plain": [
       "'\\\\\\\\192.168.0.75\\\\삭제예정파일\\\\관리제외\\\\아인스\\\\20410937\\\\20410937_박효동_개인회생_2019개회12743.pdf'"
      ]
     },
     "execution_count": 18,
     "metadata": {},
     "output_type": "execute_result"
    }
   ],
   "source": [
    "# 2) 파일 삭제/이동\n",
    "# 관리제외 폴더로 이동\n",
    "import shutil\n",
    "src = path_192\n",
    "dst_d = join(r\"\\\\192.168.0.75\\삭제예정파일\\관리제외\", src.split(os.path.sep)[-3], src.split(os.path.sep)[-2])\n",
    "if not os.path.exists(dst_d) : os.makedirs(dst_d)\n",
    "dst = join(dst_d, src.split(os.path.sep)[-1])\n",
    "shutil.move(src, dst)"
   ]
  },
  {
   "cell_type": "code",
   "execution_count": 3,
   "metadata": {},
   "outputs": [
    {
     "name": "stdout",
     "output_type": "stream",
     "text": [
      "kcs : 204601092D37AAF7188996   path : /volume1/솔림헬프/1.원인서류/우담-01/20460109/20460109_박성재_원인서류_양통 우담.pdf\n",
      "삭제하였습니다.\n",
      "kcs : 20460109686764B651372   path : /volume1/솔림헬프/1.원인서류/우담-01/20460109/20460109_박성재_원인서류_양통 우담.pdf\n",
      "삭제하였습니다.\n",
      "kcs : 204602105DEC07C062656   path : /volume1/솔림헬프/1.원인서류/우담-01/20460210/20460210_김나현_원인서류_양통 우담.pdf\n",
      "삭제하였습니다.\n",
      "kcs : 204603144558CEF566899   path : /volume1/솔림헬프/1.원인서류/우담-01/20460314/20460314_김성락_원인서류_양통 우담.pdf\n",
      "삭제하였습니다.\n",
      "kcs : 204604548746A61D81719   path : /volume1/솔림헬프/1.원인서류/우담-01/20460454/20460454_한광복_원인서류_양통 우담.pdf\n",
      "삭제하였습니다.\n",
      "kcs : 20461393B064D53081435   path : /volume1/솔림헬프/1.원인서류/우담-01/20461393/20461393_박분희_원인서류_양통 우담.pdf\n",
      "삭제하였습니다.\n",
      "kcs : 2046142700CF06CA76559   path : /volume1/솔림헬프/1.원인서류/우담-01/20461427/20461427_김지연_원인서류_양통 우담.pdf\n",
      "삭제하였습니다.\n",
      "kcs : 20462009EB4B917692243   path : /volume1/솔림헬프/1.원인서류/우담-01/20462009/20462009_김철우_원인서류_양통 우담.pdf\n",
      "삭제하였습니다.\n",
      "kcs : 204620248D4902A2134829   path : /volume1/솔림헬프/1.원인서류/우담-01/20462024/20462024_김병환_원인서류_양통 우담.pdf\n",
      "삭제하였습니다.\n",
      "kcs : 204622012ED2871962208   path : /volume1/솔림헬프/1.원인서류/우담-01/20462201/20462201_변영일_원인서류_양통 우담.pdf\n",
      "삭제하였습니다.\n",
      "kcs : 20462364C90B2FA1302221   path : /volume1/솔림헬프/1.원인서류/우담-01/20462364/20462364_변은영_원인서류_양통 우담.pdf\n",
      "삭제하였습니다.\n",
      "kcs : 204624413D9D2D6681855   path : /volume1/솔림헬프/1.원인서류/우담-01/20462441/20462441_김정훈_원인서류_양통 우담.pdf\n",
      "삭제하였습니다.\n",
      "kcs : 204626186A324630242924   path : /volume1/솔림헬프/1.원인서류/우담-01/20462618/20462618_칸아타올래만_원인서류_양통 우담.pdf\n",
      "삭제하였습니다.\n",
      "kcs : 20462712D32F54A387495   path : /volume1/솔림헬프/1.원인서류/우담-01/20462712/20462712_정해승_원인서류_양통 우담.pdf\n",
      "삭제하였습니다.\n",
      "kcs : 2046454351213E6A94003   path : /volume1/솔림헬프/1.원인서류/우담-01/20464543/20464543_최재영_원인서류_양통 우담.pdf\n",
      "삭제하였습니다.\n",
      "kcs : 204646677CC0A3D4743080   path : /volume1/솔림헬프/1.원인서류/우담-01/20464667/20464667_김수정_원인서류_양통 우담.pdf\n",
      "삭제하였습니다.\n",
      "kcs : 2046490843315FFC92063   path : /volume1/솔림헬프/1.원인서류/우담-01/20464908/20464908_황금선_원인서류_양통 우담.pdf\n",
      "삭제하였습니다.\n",
      "D:\\업로드완료\\서울 채권별 20우담 1매입전 양통\\20465124 10650419 200618154113_0001 양통 우담 원인서류.pdf 204651241640435662564 없는 키값\n",
      "kcs : 20465134BD9D65BF319602   path : /volume1/솔림헬프/1.원인서류/우담-01/20465134/20465134_김지애_원인서류_양통 우담.pdf\n",
      "삭제하였습니다.\n",
      "D:\\업로드완료\\서울 채권별 20우담 1매입전 양통\\20465242 10627960 20210729152511 양통 우담 원인서류.pdf 204652421025E3B378735 없는 키값\n",
      "kcs : 204653904EABAED856528   path : /volume1/솔림헬프/1.원인서류/우담-01/20465390/20465390_이재찬_원인서류_양통 우담.pdf\n",
      "삭제하였습니다.\n",
      "kcs : 2046599441706E4D158920   path : /volume1/솔림헬프/1.원인서류/우담-01/20465994/20465994_김민정_원인서류_양통 우담.pdf\n",
      "삭제하였습니다.\n",
      "kcs : 20465994C4E94BF649492   path : /volume1/솔림헬프/1.원인서류/우담-01/20465994/20465994_김민정_원인서류_양통 우담.pdf\n",
      "삭제하였습니다.\n",
      "kcs : 2046603149D038BA177747   path : /volume1/솔림헬프/1.원인서류/우담-01/20466031/20466031_윤예지_원인서류_양통 우담.pdf\n",
      "삭제하였습니다.\n",
      "kcs : 2046611569E66803156319   path : /volume1/솔림헬프/1.원인서류/우담-01/20466115/20466115_백성목_원인서류_양통 우담.pdf\n",
      "삭제하였습니다.\n"
     ]
    }
   ],
   "source": [
    "# # 폴더 내 전체 파일 dict 삭제\n",
    "# path = r\"D:\\업로드완료\\서울 채권별 20우담 1매입전 양통\"\n",
    "# for f in os.listdir(path) :\n",
    "#     path_192 = os.path.join(path, f)\n",
    "#     delete_kcs(path_192, dict_kcs)\n"
   ]
  },
  {
   "attachments": {},
   "cell_type": "markdown",
   "metadata": {},
   "source": [
    "### dict 수정 \n",
    "- 폴더 달라질 때는 그냥 새로 업로드하는게 낫겠다."
   ]
  },
  {
   "cell_type": "code",
   "execution_count": 5,
   "metadata": {},
   "outputs": [
    {
     "name": "stdout",
     "output_type": "stream",
     "text": [
      "dict 키 변화 : 20414371ECD2146F176769 >>> 20414371ECD2146F176769\n",
      "dict 값 변화 : /volume1/솔림헬프/3.집행권원/DNP-01/20414371/20414371_조영민_집행권원.pdf >>> /volume1/솔림헬프/3.집행권원/DNP-01/20414371/20414371 조영민 2023차전102996.pdf\n"
     ]
    }
   ],
   "source": [
    "########################################################### 20514967\n",
    "src = r\"\\\\192.168.0.75\\솔림헬프\\3.집행권원\\DNP-01\\20414371\\20414371_조영민_집행권원.pdf\"\n",
    "dst = r\"\\\\192.168.0.75\\솔림헬프\\3.집행권원\\DNP-01\\20414371\\20414371 조영민 2023차전102996.pdf\"\n",
    "###########################################################\n",
    "\n",
    "# 1) dict 수정\n",
    "update_kcs(src, dst, dict_kcs)"
   ]
  },
  {
   "cell_type": "code",
   "execution_count": 6,
   "metadata": {},
   "outputs": [
    {
     "name": "stdout",
     "output_type": "stream",
     "text": [
      "파일명(경로) 수정 성공\n"
     ]
    }
   ],
   "source": [
    "# 2) 파일수정 : dict보다 먼저 하면 kcs를 읽을 수가 없음\n",
    "os.rename(src, dst)\n",
    "print(\"파일명(경로) 수정 성공\")"
   ]
  },
  {
   "cell_type": "code",
   "execution_count": 7,
   "metadata": {},
   "outputs": [],
   "source": [
    "# 3) dict 파일로 저장 # 약 20초 소요\n",
    "write_kcs(path_kcs, dict_kcs)"
   ]
  },
  {
   "attachments": {},
   "cell_type": "markdown",
   "metadata": {},
   "source": [
    "#### 폴더 내 여러 파일 "
   ]
  },
  {
   "cell_type": "code",
   "execution_count": 12,
   "metadata": {},
   "outputs": [
    {
     "name": "stdout",
     "output_type": "stream",
     "text": [
      "dict 키 변화 : 20419713364E4B38368410 >>> 20419713364E4B38368410\n",
      "dict 값 변화 : /volume1/솔림헬프/5.등초본/한울가람/20419713/20419713_염직 보증인 강태수_초본_220926.pdf >>> /volume1/솔림헬프/5.등초본/한울가람/20419713/20419713_88염직 보증인 강태수_초본_220926.pdf\n"
     ]
    }
   ],
   "source": [
    "########################################################\n",
    "path = r\"\\\\192.168.0.75\\솔림헬프\\5.등초본\\한울가람\\20419713\"\n",
    "for f in os.listdir(path) :\n",
    "    src = join(path, f)\n",
    "    dst_file = re.sub(\"염직\", \"88염직\", f)\n",
    "    ####################################\n",
    "    dst = join(path, dst_file)\n",
    "    if src != dst :\n",
    "        update_kcs(src, dst, dict_kcs)\n",
    "        os.rename(src, dst)"
   ]
  },
  {
   "cell_type": "code",
   "execution_count": 14,
   "metadata": {},
   "outputs": [],
   "source": [
    "write_kcs(path_kcs, dict_kcs)"
   ]
  }
 ],
 "metadata": {
  "kernelspec": {
   "display_name": "base",
   "language": "python",
   "name": "python3"
  },
  "language_info": {
   "codemirror_mode": {
    "name": "ipython",
    "version": 3
   },
   "file_extension": ".py",
   "mimetype": "text/x-python",
   "name": "python",
   "nbconvert_exporter": "python",
   "pygments_lexer": "ipython3",
   "version": "3.9.13"
  },
  "orig_nbformat": 4,
  "vscode": {
   "interpreter": {
    "hash": "38d617750889899e5f2f65cac6f27a322f361a63d334879a800ee5491961f90c"
   }
  }
 },
 "nbformat": 4,
 "nbformat_minor": 2
}
