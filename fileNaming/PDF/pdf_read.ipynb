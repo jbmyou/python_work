{
 "cells": [
  {
   "cell_type": "markdown",
   "metadata": {},
   "source": [
    "## 스캔파일은 텍스트 못 읽음"
   ]
  },
  {
   "cell_type": "code",
   "execution_count": null,
   "metadata": {},
   "outputs": [],
   "source": [
    "# pip install pdfminer\n",
    "# 참고 사이트에서는 pypdf가 띄어쓰기가 안 된다고 했는데 이제는 되는듯. 편한거 쓰면 될듯. (참고사이트에서, 결과물은 pdfminer가 가장 좋다고 결론)\n",
    "# https://akaiuun12.github.io/python/2020/11/29/PDF.html"
   ]
  },
  {
   "cell_type": "markdown",
   "metadata": {},
   "source": [
    "### pdfminer"
   ]
  },
  {
   "cell_type": "code",
   "execution_count": 2,
   "metadata": {},
   "outputs": [],
   "source": [
    "# pip install pdfminer.six # pdfminer는 갱신이 되지 않고있음. 커뮤니티판인 .six가 꾸준히 갱신중 \n",
    "\n",
    "# 듀토리얼 1\n",
    "# import pdfminer\n",
    "# from pdfminer.high_level import extract_text\n",
    "\n",
    "# text = extract_text(sample)"
   ]
  },
  {
   "cell_type": "code",
   "execution_count": 2,
   "metadata": {},
   "outputs": [],
   "source": [
    "# 듀토리얼 2\n",
    "from io import StringIO\n",
    "from pdfminer.converter import TextConverter\n",
    "from pdfminer.layout import LAParams\n",
    "from pdfminer.pdfdocument import PDFDocument\n",
    "from pdfminer.pdfinterp import PDFResourceManager, PDFPageInterpreter\n",
    "from pdfminer.pdfpage import PDFPage\n",
    "from pdfminer.pdfparser import PDFParser\n",
    "\n",
    "def read_pdf(file_name):\n",
    "    output_string = StringIO()\n",
    "    with open(file_name, 'rb') as f:\n",
    "        parser = PDFParser(f)\n",
    "        doc = PDFDocument(parser)\n",
    "        rsrcmgr = PDFResourceManager()\n",
    "        device = TextConverter(rsrcmgr, output_string, laparams=LAParams())\n",
    "        interpreter = PDFPageInterpreter(rsrcmgr, device)\n",
    "        for page in PDFPage.create_pages(doc):\n",
    "            interpreter.process_page(page)\n",
    "    return output_string.getvalue()"
   ]
  },
  {
   "cell_type": "code",
   "execution_count": 3,
   "metadata": {},
   "outputs": [
    {
     "data": {
      "text/plain": [
       "'\\x0c\\x0c\\x0c'"
      ]
     },
     "execution_count": 3,
     "metadata": {},
     "output_type": "execute_result"
    }
   ],
   "source": [
    "# \"1.pdf\" 파일을 불러옵니다. \n",
    "txt = read_pdf(r\"D:\\구 스캔파일\\광주 공유폴더\\■초본--작업보류\\(주)아주관광 관련 제적 및 초본\\김균초본.pdf\")\n",
    "txt"
   ]
  },
  {
   "cell_type": "code",
   "execution_count": 2,
   "metadata": {},
   "outputs": [],
   "source": [
    "with open(r\"c://users/sl/Desktop/test.txt\", mode=\"w\", encoding='utf-8-sig') as file :\n",
    "    file.write(txt)"
   ]
  },
  {
   "cell_type": "markdown",
   "metadata": {},
   "source": [
    "### PyPDF2"
   ]
  },
  {
   "cell_type": "code",
   "execution_count": 4,
   "metadata": {},
   "outputs": [],
   "source": [
    "# pip install PyPDF2"
   ]
  },
  {
   "cell_type": "code",
   "execution_count": 3,
   "metadata": {},
   "outputs": [
    {
     "data": {
      "text/plain": [
       "''"
      ]
     },
     "execution_count": 3,
     "metadata": {},
     "output_type": "execute_result"
    }
   ],
   "source": [
    "# pip install PyPDF2\n",
    "############################# 텍스트 읽기 테스트\n",
    "from PyPDF2 import PdfReader , PdfFileWriter\n",
    "# 파일PdfFileReader > 원하는 페이지getPage()/pages[] > 원하는 작업\n",
    "\n",
    "path = r\"D:\\구 스캔파일\\광주 공유폴더\\■초본--작업보류\\(주)아주관광 관련 제적 및 초본\\김균초본.pdf\"\n",
    "\n",
    "pdf = PdfReader(path, \"rb\")\n",
    "# pdf.pages\n",
    "# total_pages = len(pdf.pages)\n",
    "# print(total_pages)\n",
    "page = pdf.pages[0]\n",
    "page.extract_text()\n"
   ]
  }
 ],
 "metadata": {
  "kernelspec": {
   "display_name": "Python 3.9.13 ('base')",
   "language": "python",
   "name": "python3"
  },
  "language_info": {
   "codemirror_mode": {
    "name": "ipython",
    "version": 3
   },
   "file_extension": ".py",
   "mimetype": "text/x-python",
   "name": "python",
   "nbconvert_exporter": "python",
   "pygments_lexer": "ipython3",
   "version": "3.9.18"
  },
  "orig_nbformat": 4,
  "vscode": {
   "interpreter": {
    "hash": "38d617750889899e5f2f65cac6f27a322f361a63d334879a800ee5491961f90c"
   }
  }
 },
 "nbformat": 4,
 "nbformat_minor": 2
}
