{
 "cells": [
  {
   "attachments": {},
   "cell_type": "markdown",
   "metadata": {},
   "source": [
    "##### import\n",
    "- 수정대상 = 분납상태 : 진행 & 현재결과 : 항고 & 분납메모 : 미결정 or \"\"\n",
    "- 수정대상건에 대해 전산수정작업 마친 후 t+1일에 다운로드"
   ]
  },
  {
   "cell_type": "code",
   "execution_count": 1,
   "metadata": {},
   "outputs": [],
   "source": [
    "import os, re, pickle\n",
    "import pandas as pd\n",
    "import numpy as np\n",
    "from os.path import join\n",
    "from tqdm import tqdm\n",
    "import warnings\n",
    "warnings.simplefilter(\"ignore\")\n",
    "\n",
    "# 파일 읽기\n",
    "path_base = r\"D:\\3.자산\\전산 dataset\"\n",
    "########################################################\n",
    "company = \"대성\"\n",
    "workdate = \"240131\" # 폴더명\n",
    "name_dataset = \"개인회생새창_20240201_1035\"\n",
    "# previous_workdate = \"240108\" # 폴더명\n",
    "# previous_name_dataset = \"개인회생새창_20240109_0943_기준데이터\" # 기준데이터 계좌키 미분리\n",
    "########################################################\n",
    "path_dataset = join(path_base, company, workdate)\n",
    "# path_previous = join(path_base, company, previous_workdate, previous_name_dataset+\".xlsx\") # 전체시트 읽어야 하므로 pkl 아님\n",
    "path_result = join(path_dataset, name_dataset+\"_기준데이터.xlsx\")\n",
    "\n",
    "rehabilitation_dtype = {'채무자키':str, '계좌키':str, '분납키':str, '사건키':str}\n",
    "\n",
    "# 금지명령(중지명령) : 전산은 금지명령이 기각되는 경우를 무시하고 신청서제출만으로 금지로 처리함.\n",
    "# 접수 : 금지명령신청만 한 경우나, 기각된 경우를 따로 표시하기 위해 추가함\n",
    "항고인용사건_현재결과종류 = {\"개시\":\"개인회생절차개시결정\\x7f\", \"금지\": r\"금지명령\\(|중지명령\\x7f\", # r\"(금지|중지)명령신청서? 제출\\x7f\", \n",
    "          \"면책허가결정\":\"면책허가결정공고\\x7f\", \"신청취하\" : \"종국 : 신청취하\\x7f\", \"이송\" : \"종국 : 이송\\x7f\", \"인가\" : r\"(회생|변제)계획인가결정\\x7f\",\"인용\" : \"종국 : 인용\\x7f\",\n",
    "          \"폐지취소결정\" :\"폐지취소결정\\x7f\", \"폐지취소결정송달\" : \"폐지취소결정 송달\\x7f\"}\n",
    "\n",
    "기각폐지항고 = {\"기각\":\"종국 : 기각\\x7f\", \"기각결정\":\"개인회생절차개시신청 기각결정\\x7f\", \n",
    "          \"폐지결정\" : \"폐지결정\\(\", \"폐지\":\"종국 : 폐지\\x7f\", \"항고\" : \"항고장\"}\n",
    "\n",
    "현재결과종류 = {key: value for d in [항고인용사건_현재결과종류, 기각폐지항고] for key, value in d.items()}\n",
    "\n",
    "def 현재결과찾기(진행내용:str) -> str:\n",
    "    # 진행내용 최근 결정내용을 찾아 현재결과 리턴\n",
    "    for value in reversed(진행내용.split(\"\\n\")) :\n",
    "        for i, v in 현재결과종류.items() :\n",
    "            if re.search(v, value) :\n",
    "                return i\n",
    "            \n",
    "    return \"접수\" # 처음까지 왔는데 아무런 결정내용도 확인할 수 없다면\n",
    "\n",
    "def 항고사건_현재결과찾기(진행내용:str) -> str :\n",
    "    for value in reversed(진행내용.split(\"\\n\")) :\n",
    "        for i, v in 항고인용사건_현재결과종류.items() :\n",
    "            if re.search(v, value) :\n",
    "                return i\n",
    "    return \"접수\" # 처음까지 왔는데 아무런 결정내용도 확인할 수 없다면"
   ]
  },
  {
   "cell_type": "code",
   "execution_count": 2,
   "metadata": {},
   "outputs": [],
   "source": [
    "# previous = pd.read_excel(path_previous, sheet_name=\"개인회생(전체)\", dtype={'채무자키':str, '분납키':str, '계좌키':str})\n",
    "path_raw_data = join(path_dataset, name_dataset+\".xlsx\")\n",
    "raw_data_ori = pd.read_excel(path_raw_data, dtype=rehabilitation_dtype).fillna(\"\")"
   ]
  },
  {
   "cell_type": "code",
   "execution_count": 3,
   "metadata": {},
   "outputs": [],
   "source": [
    "raw_data = raw_data_ori.copy()"
   ]
  },
  {
   "cell_type": "markdown",
   "metadata": {},
   "source": [
    "##### 인가미인가"
   ]
  },
  {
   "cell_type": "code",
   "execution_count": 4,
   "metadata": {},
   "outputs": [
    {
     "name": "stderr",
     "output_type": "stream",
     "text": [
      "100%|██████████| 1993/1993 [00:00<00:00, 42391.41it/s]\n"
     ]
    }
   ],
   "source": [
    "# 컬럼 순서 바꾸기, 인트를 문자열로(타입때메 종료제거보다 나중에 나와야)\n",
    "raw_data.insert(1, \"분납키\", raw_data.pop(\"분납키\"))\n",
    "raw_data.insert(7, \"현재결과\", raw_data.pop(\"현재결과\"))\n",
    "raw_data.insert(8, \"분납상태\", raw_data.pop(\"분납상태\"))\n",
    "raw_data.insert(9, \"검수상태\", raw_data.pop(\"검수상태\"))\n",
    "\n",
    "# 현재결과 종류\n",
    "# 인가 : 인가\n",
    "# 미인가 : 개시, 금지, 금지명령\n",
    "# 폐지 : 절차폐지결정일, 폐지결정, 기각, 기각결정, 신청취하, 폐지\n",
    "# 면책 : 인용, 면책허가결정, 종결, 면책\n",
    "# (230131) 개편\n",
    "# 변제계획인가일 확인 할 것 : 폐지취소결정송달, 폐지취소결정\n",
    "# 분납메모, 변제계획인가일 확인 할 것\n",
    "\n",
    "# 인가미인가\n",
    "인가미인가 = []\n",
    "for i, v in tqdm(raw_data[[\"현재결과\", \"분납키\", \"분납메모\", \"변제계획인가일\", \"항고\", \"진행내용\"]].iterrows(), total=len(raw_data.index)) :\n",
    "    result, opb = \"\", 0\n",
    "    \n",
    "    결과 = v.현재결과\n",
    "    # 현재결과에 따라 인가,미인가,폐지,면책,이송,체크 정하기\n",
    "    # 인가\n",
    "    if 결과 == \"인가\" : \n",
    "        result = \"인가\"\n",
    "        \n",
    "    # 미인가\n",
    "    elif re.search(\"개시|금지|접수\", 결과) : \n",
    "        result = \"미인가\"\n",
    "        \n",
    "    # 폐지\n",
    "    elif (re.search(\"폐지결정|기각|취하\", 결과)) or (결과 == \"폐지\") : \n",
    "        result = \"폐지\"\n",
    "        \n",
    "    # 폐지취소 - 분납메모 미사용\n",
    "    elif re.search(\"폐지취소\", 결과) : \n",
    "        result = \"미인가\" if v.변제계획인가일 == \"\" else \"인가\"\n",
    "            \n",
    "    # 면책\n",
    "    elif re.search(\"인용|면책|종결\", 결과) :\n",
    "        result = \"면책\"\n",
    "        \n",
    "    # 이송 : 분납상태 중지 & 새사건 입력되었어야\n",
    "    elif re.search(\"이송\", 결과) :\n",
    "        result = \"이송\"\n",
    "        \n",
    "    # 실사필요 : 항고인데 현재결과가 어디에도 해당하지 않을 때 or 새로운 현재결과가 나온 경우\n",
    "    elif re.search(\"항고\", 결과) : \n",
    "        항고사건결과 = v.분납메모.split(\",\")[0]\n",
    "        채무자항고 = False if re.search(\"채권\", v.항고) else True\n",
    "        \n",
    "        # 항고사건결과 아직 없음 : 체크\n",
    "        if 항고사건결과 == \"\" : \n",
    "            result = \"체크_항고사건결과없음\"\n",
    "            \n",
    "        # 미결정 확인 완료 : 인가일 있는지에 따라\n",
    "        elif 항고사건결과 == \"미결정\" : \n",
    "            result = \"미인가\" if v.변제계획인가일 == \"\" else \"인가\"\n",
    "            \n",
    "        # 항고 인용, 기각취소\n",
    "        elif re.search(\"환송|인용|기각취소\", 항고사건결과) :\n",
    "            if 채무자항고 :\n",
    "                result = \"미인가\" if v.변제계획인가일 == \"\" else \"인가\"\n",
    "                raw_data.loc[i, \"현재결과\"] = 항고사건_현재결과찾기(v.진행내용)\n",
    "            else : \n",
    "                result = \"체크_채권자항고\" # 채권자 항고에 대한 기각취소는 없어야하고, 파기환송과 인용은 아직 사례를 못 봐서 데이터 수집 필요\n",
    "        # 취하, 기각, 각하\n",
    "        elif re.search(\"취하|각하|기각(?!취소)\", 항고사건결과) : \n",
    "            if 채무자항고 : \n",
    "                result = \"폐지\"\n",
    "            else : \n",
    "                result = \"미인가\" if v.변제계획인가일 == \"\" else \"인가\"\n",
    "                raw_data.loc[i, \"현재결과\"] = 항고사건_현재결과찾기(v.진행내용)\n",
    "        # 분납메모에 엉뚱한 말이 적힌 경우\n",
    "        else : \n",
    "            result = \"체크_항고사건결과를 잘못적음\"\n",
    "    \n",
    "    # 위의 어떤 경우에도 해당하지 않는 경우 : 없어야 함\n",
    "    else : result = \"체크_항목에 없는 현재결과\"\n",
    "\n",
    "    인가미인가.append(result)\n",
    "\n",
    "raw_data.insert(7, \"인가미인가\", 인가미인가)\n",
    "raw_data.insert(11, \"반영OPB\", None)\n",
    "\n",
    "# 폐지취소 이전 파일에서 불러왔던 코드\n",
    "# elif re.search(\"폐지취소\", 결과) :  # 폐지취소결정송달 포함\n",
    "#     temp = previous.query('분납키==@v.분납키')[\"인가미인가\"].values\n",
    "#     if len(temp) == 1 : result = temp[0]\n",
    "#     else : result = \"체크\""
   ]
  },
  {
   "cell_type": "markdown",
   "metadata": {},
   "source": [
    "##### 체크"
   ]
  },
  {
   "cell_type": "code",
   "execution_count": 5,
   "metadata": {},
   "outputs": [
    {
     "name": "stdout",
     "output_type": "stream",
     "text": [
      "진행건중 체크할 거 없음\n"
     ]
    }
   ],
   "source": [
    "# 진행건 중 체크 건 있는지 확인\n",
    "수작업 = raw_data.query(\"인가미인가.str.contains('체크') and 분납상태 =='진행'\")[[\"채무자키\",\"계좌키\",\"분납키\",\"인가미인가\",\"현재결과\",\"분납메모\"]]\n",
    "if len(수작업) > 0: \n",
    "    display(수작업)\n",
    "    수작업.to_excel(\"xxx.xlsx\")\n",
    "else : \n",
    "    print(\"진행건중 체크할 거 없음\")"
   ]
  },
  {
   "cell_type": "code",
   "execution_count": 6,
   "metadata": {},
   "outputs": [],
   "source": [
    "# check ----------------------------\n",
    "cols = [\"채무자키\", \"분납키\", \"분납자관계\", \"분납자성명인\", \"인가미인가\", \"현재결과\", \"분납상태\", \"중단사유\", \"분납중단일\", \"채무상태\", \"담당자\", \"개시결정일\", \"변제계획인가일\"]\n",
    "check = raw_data[cols].copy()\n",
    "# 인가미인가 : 인가,미인가 // 폐지,면책,이송 // 체크\n",
    "# 분납상태 : 진행, 중단\n",
    "\n",
    "# 1. 인가미인가와 분납상태의 불일치 -> 인가 or 미인가 = 분납상태 진행\n",
    "# 1-1.진행건 vs 상태 중단 : 중단사유 있는지?\n",
    "중단사유적어 = check.query('인가미인가.str.contains(\"인가|미인가\") & 분납상태==\"중단\" & 중단사유 == \"\"')\n",
    "if len(중단사유적어) > 0 :\n",
    "    print(\"중단사유 명시 필요\") # 현재결과는 중단사유가 아니라 바로 확인 불가\n",
    "    display(중단사유적어)\n",
    "    \n",
    "# 1-2. 중단건(인가/미인가 아닌것) vs 상태 진행                                            ################# 20106089는 일부러 중지 안함(240125)\n",
    "진행건_인가미인가오류 = check.query('분납상태==\"진행\" & ~인가미인가.str.contains(\"인가|미인가\") & 분납키 !=\"20106089\"')\n",
    "if len(진행건_인가미인가오류) :\n",
    "    print(\"진행건인데 인가나 미인가가 아닌 것 있음\")\n",
    "    display(진행건_인가미인가오류)\n",
    "\n",
    "# 2. not중지건 중 인가전 현재결과 vs 변제계획인가일 있는 경우\n",
    "미인가건임 = check.query('분납상태==\"진행\" and 인가미인가==\"미인가\" and 변제계획인가일!=\"\"')    ############## 20149032 는 회단사건으로 인가일 표기위치가 다름\n",
    "인가건임 = check.query('분납상태==\"진행\" and 인가미인가==\"인가\" and 변제계획인가일==\"\" and 분납키!=\"20149032\"')\n",
    "if len(미인가건임) > 0 :\n",
    "    print(\"미인가건인데 왜 인가일이 있음?\")\n",
    "    display(미인가건임)\n",
    "\n",
    "if len(인가건임) > 0 :\n",
    "    print(\"인가건인데 왜 인가일이 없음?\")\n",
    "    display(인가건임)\n",
    "\n",
    "# 3. not중지건 중 개시결정일 있는데 전단계인 경우\n",
    "# (반대)왜인지는 몰라도 개시결정일을 못 읽는 경우가 1~2건 있네.. \n",
    "개시건임 = check.query('분납상태==\"진행\" and 개시결정일 != \"\" and 현재결과.str.contains(\"금지|접수\")')\n",
    "개시건인데 = check.query('분납상태==\"진행\" and 개시결정일 == \"\" and 현재결과.str.contains(\"개시\") and 분납키!=\"20149032\"')\n",
    "if len(개시건임) > 0 :\n",
    "    print(\"개시일 있는데 왜 전단계?\")\n",
    "    display(개시건임)\n",
    "    \n",
    "if len(개시건인데) > 0 :\n",
    "    print(\"개시인데 왜 개시결정일 없음? 20145963, 20149575 개시임은 확인했는데 결정일을 못 읽네..\")\n",
    "    display(개시건인데)\n",
    "\n",
    "# 항고, 폐지취소 건 중 분납중지건은 확인 완료 (240130)\n",
    "# 최신화 불가건 : 항고 뿐임 (폐지취소는 최신화 됨, 폐지 후 과거의 인가/미인가 여부를 확인하는 작업이 필요할뿐)\n",
    "# 담당자, 채무상태, 누락 건 등은 자산정리 후 해야 정확"
   ]
  },
  {
   "cell_type": "code",
   "execution_count": null,
   "metadata": {},
   "outputs": [],
   "source": [
    "# 수정사항\n"
   ]
  },
  {
   "cell_type": "code",
   "execution_count": 7,
   "metadata": {},
   "outputs": [],
   "source": [
    "# 일반내용 ~ 필터제출기준현재회차 내용삭제\n",
    "ind1 = raw_data.columns.get_loc('일반내용')\n",
    "ind2 = raw_data.columns.get_loc('필터제출기준현재회차')\n",
    "raw_data.iloc[:,ind1:ind2] = \"\""
   ]
  },
  {
   "cell_type": "markdown",
   "metadata": {},
   "source": [
    "##### 통합신고,제외\n",
    "- 0원처리\n",
    "- 원본으로 다음 내용 확인 : 입금내역 있으면 옮기기 변제오류 확인"
   ]
  },
  {
   "cell_type": "code",
   "execution_count": 8,
   "metadata": {},
   "outputs": [],
   "source": [
    "# 통합신고, 제외\n",
    "# 통합신고는 애초에 하나의 계좌로 금액을 합산하여 신고한 경우로 신고채권번호도 한 개. \n",
    "#       단일채무자키인 경우 전산 통합등록하고, 아무계좌에서나 변제처리 되어도 상관없다. - 통합등록한 경우 계좌 분리과정에서 대표계좌만 금액이 남는다.\n",
    "#       다채무자키인 경우 통합등록은 불가, 따라서 대표가 아닌 계좌의 분납메모에는 반드시 통합신고 적어줘야 금액 0원처리 가능\n",
    "# 제외는 계좌별로 신고하였으나, 원금이 적어 총분납금이 0원인 채권으로 신고채권번호는 여러개이나, 법원채권번호는 하나만 나온 경우\n",
    "#       신규건은 분리등록이 원칙. 이미 통합등록이 된 경우 분리등록해줘야 하나 그대로 두고 제외가 아닌 통합신고로 처리해도 별 문제는 없음\n",
    "####### 통합신고채권(채권번호 하나)은 계좌별로 등록할 필요가 없으니 이렇게 적을 필요가 없음(아래서, 계좌통합건은 행분열하고 모두 0원으로 처리, 현재원금은 유지)\n",
    "####### 통합신고채권은 계좌별로 분리하지 말고 통합해서 전산등록해야\n",
    "#240131 정정\n",
    "raw_data.loc[raw_data.분납메모.str.contains(\"통합|공채권|제외\"), [\"총분납금\",\"총분납입금\", \"분납미납금\", \"분납잔금\", \"총분납잔금\"]] = 0 # 입금내역 있는 것 재입금처리 해야함..\n",
    "\n",
    "# 이전 코드\n",
    "# raw_data.loc[raw_data.분납메모.str.contains(\"통합|공채권|제외\"), [\"총분납금\",\"분납미납금\"]] = 0\n",
    "# raw_data.loc[raw_data.분납메모.str.contains(\"통합|공채권|제외\"), [\"분납잔금\",\"총분납잔금\"]] = raw_data['총분납금'] - raw_data[\"총분납입금\"]\n",
    "\n",
    "# # 엑셀 파일로 저장\n",
    "# if not os.path.exists(path_result):\n",
    "#     with pd.ExcelWriter(path_result, mode='w', engine='openpyxl') as writer:\n",
    "#         raw_data.to_excel(writer, sheet_name='개인회생(전체)', index=False)\n",
    "# else : \n",
    "#     with pd.ExcelWriter(path_result, engine='openpyxl', mode = 'a', if_sheet_exists = 'replace') as writer :\n",
    "#         raw_data.to_excel(writer, sheet_name='개인회생(전체)', index=False)"
   ]
  },
  {
   "cell_type": "code",
   "execution_count": 9,
   "metadata": {},
   "outputs": [
    {
     "data": {
      "text/html": [
       "<div>\n",
       "<style scoped>\n",
       "    .dataframe tbody tr th:only-of-type {\n",
       "        vertical-align: middle;\n",
       "    }\n",
       "\n",
       "    .dataframe tbody tr th {\n",
       "        vertical-align: top;\n",
       "    }\n",
       "\n",
       "    .dataframe thead th {\n",
       "        text-align: right;\n",
       "    }\n",
       "</style>\n",
       "<table border=\"1\" class=\"dataframe\">\n",
       "  <thead>\n",
       "    <tr style=\"text-align: right;\">\n",
       "      <th></th>\n",
       "      <th>채무자키</th>\n",
       "      <th>분납키</th>\n",
       "      <th>총분납금</th>\n",
       "      <th>총분납입금</th>\n",
       "      <th>분납미납금</th>\n",
       "      <th>분납잔금</th>\n",
       "      <th>총분납잔금</th>\n",
       "      <th>분납메모</th>\n",
       "    </tr>\n",
       "  </thead>\n",
       "  <tbody>\n",
       "  </tbody>\n",
       "</table>\n",
       "</div>"
      ],
      "text/plain": [
       "Empty DataFrame\n",
       "Columns: [채무자키, 분납키, 총분납금, 총분납입금, 분납미납금, 분납잔금, 총분납잔금, 분납메모]\n",
       "Index: []"
      ]
     },
     "execution_count": 9,
     "metadata": {},
     "output_type": "execute_result"
    }
   ],
   "source": [
    "# 공채권 확인\n",
    "raw_data.loc[raw_data.분납메모.str.match(\"(공|통합)채권\"),[\"채무자키\",\"분납키\",\"총분납금\",\"총분납입금\", \"분납미납금\", \"분납잔금\", \"총분납잔금\",\"분납메모\"]]"
   ]
  },
  {
   "cell_type": "code",
   "execution_count": 68,
   "metadata": {},
   "outputs": [],
   "source": [
    "#예전 수작업 내용 전산조회 할 거 작업 후\n",
    "# - 분납상태-[진행] & \n",
    "# - 현재결과-[폐지취소결정, 폐지취소결정송달, 빈셀] & \n",
    "# - 인가미인가-[기타, #N/A, \"\"] 즉 인가,미인가가 아닌 거\n",
    "# - 매각 제외 전이므로, 채무상태 및 담당자에서 종결, 매각건 제외"
   ]
  },
  {
   "cell_type": "markdown",
   "metadata": {},
   "source": [
    "##### OPB 및 연납건 처리"
   ]
  },
  {
   "cell_type": "code",
   "execution_count": 10,
   "metadata": {},
   "outputs": [],
   "source": [
    "# 연납건 처리-----------------------------------------------------------------------------------------------------------------------------------\n",
    "# 20420209 정순만 통합등록되어있기 때문에 계좌키 분리하고 처리하려고 했는데 기존 입금이 지맘대로 잡혀있어서 그냥 여기서 처리하고 2번계좌는 계좌분리시 0원으로 되게끔\n",
    "연납건 = raw_data.query('분납키 == \"20149032\"').index\n",
    "총분납회차 = 10\n",
    "############## 1년에 한번씩만 수정하면 됨\n",
    "현재회차 = 2\n",
    "납입회차 = 2\n",
    "###############\n",
    "잔여회차 = 총분납회차 - 현재회차\n",
    "미납회차 = 현재회차 - 납입회차\n",
    "변제금 = 2972696\n",
    "\n",
    "raw_data.loc[연납건, \"총분납회차\"], raw_data.loc[연납건, \"현재회차\"], raw_data.loc[연납건, \"납입회차\"], raw_data.loc[연납건, \"잔여회차\"], raw_data.loc[연납건, \"미납회차\"] = 총분납회차, 현재회차, 납입회차, 잔여회차, 미납회차\n",
    "raw_data.loc[연납건, \"총분납금\"],raw_data.loc[연납건, \"총분납입금\"], raw_data.loc[연납건, \"분납미납금\"], raw_data.loc[연납건, \"분납잔금\"], raw_data.loc[연납건, \"총분납잔금\"] = 총분납회차*변제금, 납입회차*변제금, 미납회차*변제금, 잔여회차*변제금, (총분납회차-납입회차)*변제금\n",
    "# 연납건 처리 끝-----------------------------------------------------------------------------------------------------------------------------------\n",
    "\n",
    "# OPB\n",
    "raw_data['반영OPB'] = np.where(raw_data['인가미인가'] == '인가', raw_data[\"총분납잔금\"] , raw_data[\"현재원금\"])\n"
   ]
  },
  {
   "cell_type": "code",
   "execution_count": 11,
   "metadata": {},
   "outputs": [
    {
     "data": {
      "text/html": [
       "<div>\n",
       "<style scoped>\n",
       "    .dataframe tbody tr th:only-of-type {\n",
       "        vertical-align: middle;\n",
       "    }\n",
       "\n",
       "    .dataframe tbody tr th {\n",
       "        vertical-align: top;\n",
       "    }\n",
       "\n",
       "    .dataframe thead th {\n",
       "        text-align: right;\n",
       "    }\n",
       "</style>\n",
       "<table border=\"1\" class=\"dataframe\">\n",
       "  <thead>\n",
       "    <tr style=\"text-align: right;\">\n",
       "      <th></th>\n",
       "      <th></th>\n",
       "      <th>분납키</th>\n",
       "      <th>반영OPB</th>\n",
       "    </tr>\n",
       "    <tr>\n",
       "      <th>인가미인가</th>\n",
       "      <th>현재결과</th>\n",
       "      <th></th>\n",
       "      <th></th>\n",
       "    </tr>\n",
       "  </thead>\n",
       "  <tbody>\n",
       "    <tr>\n",
       "      <th rowspan=\"3\" valign=\"top\">미인가</th>\n",
       "      <th>개시</th>\n",
       "      <td>12</td>\n",
       "      <td>64,717,071</td>\n",
       "    </tr>\n",
       "    <tr>\n",
       "      <th>금지</th>\n",
       "      <td>3</td>\n",
       "      <td>2,339,710</td>\n",
       "    </tr>\n",
       "    <tr>\n",
       "      <th>항고</th>\n",
       "      <td>1</td>\n",
       "      <td>705,000</td>\n",
       "    </tr>\n",
       "    <tr>\n",
       "      <th rowspan=\"3\" valign=\"top\">인가</th>\n",
       "      <th>인가</th>\n",
       "      <td>619</td>\n",
       "      <td>440,923,930</td>\n",
       "    </tr>\n",
       "    <tr>\n",
       "      <th>폐지취소결정송달</th>\n",
       "      <td>5</td>\n",
       "      <td>11,923,908</td>\n",
       "    </tr>\n",
       "    <tr>\n",
       "      <th>항고</th>\n",
       "      <td>3</td>\n",
       "      <td>1,087,175</td>\n",
       "    </tr>\n",
       "    <tr>\n",
       "      <th>합계</th>\n",
       "      <th></th>\n",
       "      <td>643</td>\n",
       "      <td>521,696,794</td>\n",
       "    </tr>\n",
       "  </tbody>\n",
       "</table>\n",
       "</div>"
      ],
      "text/plain": [
       "                분납키        반영OPB\n",
       "인가미인가 현재결과                      \n",
       "미인가   개시         12   64,717,071\n",
       "      금지          3    2,339,710\n",
       "      항고          1      705,000\n",
       "인가    인가        619  440,923,930\n",
       "      폐지취소결정송달    5   11,923,908\n",
       "      항고          3    1,087,175\n",
       "합계              643  521,696,794"
      ]
     },
     "execution_count": 11,
     "metadata": {},
     "output_type": "execute_result"
    }
   ],
   "source": [
    "전체요약 = raw_data.query('분납상태==\"진행\"').groupby(['인가미인가','현재결과']).agg({'분납키':'count', '반영OPB':'sum'})\n",
    "전체요약.loc[(\"합계\", \"\"), :] = 전체요약.sum()\n",
    "전체요약.applymap('{:,.0f}'.format)"
   ]
  },
  {
   "cell_type": "markdown",
   "metadata": {},
   "source": [
    "##### 진행건 분리"
   ]
  },
  {
   "cell_type": "code",
   "execution_count": 13,
   "metadata": {},
   "outputs": [],
   "source": [
    "# 진행중, 차주, 보증인 시트 작성(종결인데 분납중지 안 된 것 여기선 제외x)\n",
    "ing_df = raw_data.query('분납상태 == \"진행\" and 인가미인가.str.contains(\"인가|미인가\")')\n",
    "\n",
    "# 종료건 제외 : 일부 계좌만 종결|매각|환매 될 수 있으며, 보증인이 회생 중일 수 있으므로 여기서 제외하지 않는다.(어차피 통합에선 종결건은 우선 제외하므로 자산정리에 문제는 없음)\n",
    "# 통합파일에서 계좌별로 상태 확인 후 종료인데 중지 안 된 건 처리\n",
    "# if path_dataset.find(\"대성\") < 0 : # 솔림\n",
    "#     ing_df = raw_data[~(raw_data.채무상태.str.match(\"종결|환매|매각\")|raw_data.담당자.str.match(\"종결|매각(?!예정)|DS|환매\"))]\n",
    "# else : # 대성\n",
    "#     ing_df = raw_data[~(raw_data.채무상태.str.match(\"종결|환매|매각\")|raw_data.담당자.str.match(\"종결|매각|환매|파산|회계파산\"))]\n",
    "\n",
    "    \n",
    "###### 신복과 충돌하는 거 제거하기 #############################################################\n",
    "if path_dataset.find(\"대성\") < 0 : # 솔림\n",
    "    개회제외 = {\"채무자\" : [], \"보증인\" : [] } # 20462830 중복입금건. 신복으로 처리하다가 개인회생 면책됨 231106\n",
    "else : # 대성\n",
    "    개회제외 = {\"채무자\" : [], \"보증인\" : [] } # \n",
    "##############################################################################################\n",
    "if len(개회제외[\"채무자\"]) > 0 : ing_df = ing_df[~(ing_df['채무자키'].isin(개회제외[\"채무자\"]) & (ing_df['분납자관계'] == '채무자'))]\n",
    "if len(개회제외[\"보증인\"]) > 0 : ing_df = ing_df[~(ing_df['채무자키'].isin(개회제외[\"보증인\"]) & (ing_df['분납자관계'] == '보증인'))]\n",
    "\n",
    "# 채무자, 보증인\n",
    "debt_ing = ing_df[ing_df[\"분납자관계\"]==\"채무자\"]\n",
    "grt_ing = ing_df[ing_df[\"분납자관계\"]==\"보증인\"]\n",
    "\n",
    "# 저장\n",
    "with pd.ExcelWriter(join(path_dataset, name_dataset+\"_기준데이터.xlsx\"), engine='openpyxl', mode = 'w') as writer :\n",
    "    ing_df.to_excel(writer, sheet_name='개인회생(진행)', index=False)\n",
    "    debt_ing.to_excel(writer, sheet_name='개인회생(진행)_채무자', index=False)\n",
    "    grt_ing.to_excel(writer, sheet_name='개인회생(진행)_보증인', index=False)\n",
    "    raw_data.to_excel(writer, sheet_name='개인회생(전체)', index=False)"
   ]
  },
  {
   "attachments": {},
   "cell_type": "markdown",
   "metadata": {},
   "source": [
    "##### 계좌키 나누고 새로운 파일 저장\n",
    "- 통합계좌 없으면 대성은 안 해도 됨"
   ]
  },
  {
   "cell_type": "code",
   "execution_count": 56,
   "metadata": {},
   "outputs": [],
   "source": [
    "# 개인회생 계좌 나누기\n",
    "\n",
    "# path_dataset = r\"D:\\3.자산\\전산 dataset\\230430(0501)\"\n",
    "# name_dataset = \"개인회생새창_20230502_0850_기준데이터\"\n",
    "# ing_df = pd.read_excel(join(path_dataset, name_dataset+\".xlsx\"), sheet_name=\"개인회생(진행)\", dtype={'채무자키':str, '분납키':str, '계좌키':str})\n",
    "\n",
    "split_ing_df = ing_df.copy()\n",
    "split_ing_df[\"비고\"] = \"\"\n",
    "new_rows = []\n",
    "for index, row in split_ing_df.iterrows():\n",
    "    account_keys = row['계좌키'].split(',')\n",
    "    first_account_key = account_keys.pop(0)\n",
    "    split_ing_df.loc[index, '계좌키'] = first_account_key # 여러 계좌키를 첫번째 계좌키로 값 수정\n",
    "\n",
    "    for account_key in account_keys:\n",
    "        new_row = row.copy() # 일단 모든 칼럼 복사\n",
    "        new_row['계좌키'] = account_key\n",
    "                            # 전산 OPB는 최초OPB임\n",
    "        new_row['반영OPB'],new_row['OPB'], new_row['총분납금'],new_row['총분납입금'],new_row['분납미납금'],new_row['분납잔금'],new_row['총분납잔금'] = 0,0,0,0,0,0,0 # 값 안 가져올 컬림은 빈문자열로 대체\n",
    "        new_row[\"분납메모\"] = \"통합신고 \" + first_account_key\n",
    "        new_rows.append(new_row)\n",
    "        \n",
    "\n",
    "temp = pd.DataFrame(new_rows)\n",
    "\n",
    "result = pd.concat([split_ing_df, temp], ignore_index=True)\n",
    "\n",
    "# 저장\n",
    "writer = pd.ExcelWriter(join(path_dataset, name_dataset+\"_진행중_계좌키분리_기준데이터.xlsx\"))\n",
    "result.to_excel(writer, sheet_name=\"개인회생(진행)\", index=False)\n",
    "# writer.save() # 이제 save()는 없어진 api 안 쓰면 됨.\n",
    "writer.close()\n"
   ]
  }
 ],
 "metadata": {
  "kernelspec": {
   "display_name": "base",
   "language": "python",
   "name": "python3"
  },
  "language_info": {
   "codemirror_mode": {
    "name": "ipython",
    "version": 3
   },
   "file_extension": ".py",
   "mimetype": "text/x-python",
   "name": "python",
   "nbconvert_exporter": "python",
   "pygments_lexer": "ipython3",
   "version": "3.9.18"
  },
  "orig_nbformat": 4
 },
 "nbformat": 4,
 "nbformat_minor": 2
}
