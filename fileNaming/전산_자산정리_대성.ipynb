{
 "cells": [
  {
   "attachments": {},
   "cell_type": "markdown",
   "metadata": {},
   "source": [
    "### IMPORT"
   ]
  },
  {
   "cell_type": "code",
   "execution_count": 1,
   "metadata": {},
   "outputs": [],
   "source": [
    "import pandas as pd\n",
    "import numpy as np\n",
    "import pickle\n",
    "import re\n",
    "import os\n",
    "from os.path import join\n",
    "from tqdm import tqdm\n",
    "from datetime import datetime\n",
    "from openpyxl.utils.dataframe import dataframe_to_rows\n",
    "from openpyxl.styles import Font, PatternFill, Alignment, Border, Side\n",
    "from openpyxl import Workbook\n",
    "from openpyxl.worksheet.dimensions import ColumnDimension\n",
    "from openpyxl.utils import get_column_letter\n",
    "\n",
    "# dtype 정의\n",
    "debt_dtype = {'채무자키':str, '타채무자키':str, '담당자키':str}\n",
    "account_dtype = {'채무자키':str, '계좌키':str, '타채무자키':str}\n",
    "grt_dtype = {'채무자키':str, '계좌키':str, '타채무자키':str, '보증인키':str}\n",
    "rehabilitation_dtype = {'채무자키':str, '계좌키':str, '분납키':str, '사건키':str}\n",
    "credit_dtype = {'채무자키':str, '계좌키':str, '보증인키':str, '심의차수':str, '변제금\\n수취계좌':str}\n",
    "event_dtype = {'채무자키':str, '계좌키':str, '법조치키':str, '관할법원코드':str, '타채무자키':str,'타법조치키':str}   "
   ]
  },
  {
   "cell_type": "code",
   "execution_count": 3,
   "metadata": {},
   "outputs": [],
   "source": [
    "wd = r\"D:\\3.자산\\전산 dataset\\대성\"\n",
    "basedate = \"230531\"\n",
    "\n",
    "comp_closing = {\"채무상태종료\" : r\"종결|매각|환매|완제|파산|시효|사망|말소|이민\", #\"종결|환매|매각|추심제외\",\n",
    "                \"담당자종료\" : r\"종결|매각|환매|파산|포기|상각|사망\", #\"종결|매각|매각예정|회계파산|DS|환매|포기채권\",\n",
    "                \"채무상태면책\" : r\"개인회생\\(면책\\)\", #\"개인회생\\(면책\\)|파산\\(면책\\)\",\n",
    "                \"보증인종료\" : r\"종결|매각|환매|면책|면탈|파산|사망|말소|이민|폐업|시효|추심제외\"} #\"파산\\(면책\\)|사망|종결|보증면탈|개인회생\\(면책\\)|사망\\(상속포기\\)|시효완성|시효|추심제외|폐업|매각|환매\"}"
   ]
  },
  {
   "attachments": {},
   "cell_type": "markdown",
   "metadata": {},
   "source": [
    "### 채권구분\n",
    "- 아래에서 전체 원데이터 만들기\n",
    "- 새 채권구분 만들기 : 1) 종결, 2) 조정(개회,신복이 중복되더라도 일단 문제없게), 3) 무담보 순서대로 만들기\n",
    "  - (오류 체크) 개회, 신복 기준데이터 vs 차주 채무자상태 \n",
    "    - (전산 미수정) 조정 vs 미반영, 면책 및 완납 vs 미반영\n",
    "    - (개회신복경쟁) 개회 vs 신복 or 신복 vs 개회\n",
    "    - (오등록) 확정리스트 없음 vs 개회, 신복. 다음의 경우를 포함함[폐지 및 실효 vs 미반영(여전히 개회 및 신복 *개회폐지 후 신복, 신복폐지 후 개회일 수는 있음)]\n",
    "\n",
    "- (오류 체크) 개회, 신복 보증인상태 미반영 리스트 만들기, 중복리스트 만들키\n",
    "- 개회, 신복 조정여부 칼럼 추가해서 자산정리 칼럼 만들기(계좌키에 붙이기) : 생략하지 말고 다 붙이기\n",
    "- 채권구분칼럼 최초채권구분으로 변경"
   ]
  },
  {
   "cell_type": "code",
   "execution_count": 11,
   "metadata": {},
   "outputs": [],
   "source": [
    "# 개별 파일 pkl 만들기\n",
    "# wd = r\"D:\\3.자산\\전산 dataset\"\n",
    "# basedate = \"230423\"\n",
    "# filename = \"계좌조회새창_20230424_0918\"\n",
    "# x = pd.read_excel(join(wd, basedate, filename +\".xlsx\"), dtype={'채무자키':str, '계좌키':str, '타채무자키':str}).fillna(\"\")\n",
    "# x.to_pickle(join(wd, basedate, filename +\".pkl\"))"
   ]
  },
  {
   "cell_type": "code",
   "execution_count": 4,
   "metadata": {},
   "outputs": [
    {
     "name": "stderr",
     "output_type": "stream",
     "text": [
      "c:\\Users\\SL\\anaconda3\\lib\\site-packages\\openpyxl\\styles\\stylesheet.py:226: UserWarning: Workbook contains no default style, apply openpyxl's default\n",
      "  warn(\"Workbook contains no default style, apply openpyxl's default\")\n",
      "c:\\Users\\SL\\anaconda3\\lib\\site-packages\\openpyxl\\styles\\stylesheet.py:226: UserWarning: Workbook contains no default style, apply openpyxl's default\n",
      "  warn(\"Workbook contains no default style, apply openpyxl's default\")\n",
      "c:\\Users\\SL\\anaconda3\\lib\\site-packages\\openpyxl\\styles\\stylesheet.py:226: UserWarning: Workbook contains no default style, apply openpyxl's default\n",
      "  warn(\"Workbook contains no default style, apply openpyxl's default\")\n"
     ]
    }
   ],
   "source": [
    "# 파일 읽기\n",
    "# 채무자, 계좌, 보증인, 개회신복 기준데이터->차주와 보증인으로 나누 저장\n",
    "################### 예수금 지울것(채무자,계좌)\n",
    "files = (\"채무자조회새창_20230531_1841\", \"계좌조회새창_20230531_1842\", \"보증인새창_20230531_1844\", \"개인회생새창_20230531_1844_기준데이터\", \"신용회복전체리스트_20230531_기준데이터\")\n",
    "# 개회의 겨우 계좌키 분리 파일로 읽을 것! \n",
    "\n",
    "# 파일 읽기\n",
    "ext = \".xlsx\"  \n",
    "###################\n",
    "\n",
    "if ext == \".pkl\" : # fillna()는 엑셀읽을 때 미리 해둬야함, 조정, 개회 진행중 시트만 읽어서 저장한 경우\n",
    "    debt = pd.read_pickle(join(wd, basedate, files[0]+ext))\n",
    "    account = pd.read_pickle(join(wd, basedate, files[1]+ext))\n",
    "    grt = pd.read_pickle(join(wd, basedate, files[2]+ext))\n",
    "    rehabilitation = pd.read_pickle(join(wd, basedate, files[3]+ext))\n",
    "    credit = pd.read_pickle(join(wd, basedate, files[4]+ext))\n",
    "else : \n",
    "    debt = pd.read_excel(join(wd, basedate, files[0]+ext), dtype=debt_dtype).fillna(\"\")\n",
    "    account = pd.read_excel(join(wd, basedate, files[1]+ext), dtype=account_dtype).fillna(\"\")\n",
    "    grt = pd.read_excel(join(wd, basedate, files[2]+ext), dtype=grt_dtype).fillna(\"\")\n",
    "    rehabilitation = pd.read_excel(join(wd, basedate, files[3]+ext), sheet_name=\"개인회생(진행)\", dtype=rehabilitation_dtype).fillna(\"\")\n",
    "    credit = pd.read_excel(join(wd, basedate, files[4]+ext), sheet_name=\"확정,미확정\", dtype=credit_dtype).fillna(\"\")\n",
    "\n",
    "# 엑셀저장시 NaT 를 \"\"로\n",
    "credit.replace({pd.NaT: \"\"}, inplace=True)\n",
    "# 조정채권 차주, 보증인 나누기\n",
    "rehabilitation_d = rehabilitation[rehabilitation[\"분납자관계\"]==\"채무자\"]\n",
    "rehabilitation_grt = rehabilitation[rehabilitation[\"분납자관계\"]==\"보증인\"]\n",
    "credit_d = credit[credit[\"채무구분\"]==\"주채무\"]\n",
    "credit_grt = credit[credit[\"채무구분\"]==\"보증채무\"]\n",
    "\n",
    "# 예수금 제외\n",
    "debt.drop(debt[debt.성명==\"예수금\"].index, inplace=True)\n",
    "debt.reset_index(drop=True, inplace=True)\n",
    "account.drop(account[account.채무자명==\"예수금\"].index, inplace=True)\n",
    "account.reset_index(drop=True, inplace=True)"
   ]
  },
  {
   "cell_type": "code",
   "execution_count": null,
   "metadata": {},
   "outputs": [],
   "source": [
    "# pkl 저장\n",
    "debt.to_pickle(join(wd, basedate, files[0]+\".pkl\"))\n",
    "account.to_pickle(join(wd, basedate, files[1]+\".pkl\"))\n",
    "grt.to_pickle(join(wd, basedate, files[2]+\".pkl\"))\n",
    "rehabilitation.to_pickle(join(wd, basedate, files[3]+\".pkl\"))\n",
    "credit.to_pickle(join(wd, basedate, files[4]+\".pkl\"))"
   ]
  },
  {
   "cell_type": "code",
   "execution_count": 5,
   "metadata": {},
   "outputs": [
    {
     "data": {
      "text/plain": [
       "'차주'"
      ]
     },
     "metadata": {},
     "output_type": "display_data"
    },
    {
     "data": {
      "text/html": [
       "<div>\n",
       "<style scoped>\n",
       "    .dataframe tbody tr th:only-of-type {\n",
       "        vertical-align: middle;\n",
       "    }\n",
       "\n",
       "    .dataframe tbody tr th {\n",
       "        vertical-align: top;\n",
       "    }\n",
       "\n",
       "    .dataframe thead th {\n",
       "        text-align: right;\n",
       "    }\n",
       "</style>\n",
       "<table border=\"1\" class=\"dataframe\">\n",
       "  <thead>\n",
       "    <tr style=\"text-align: right;\">\n",
       "      <th></th>\n",
       "      <th>채무자키</th>\n",
       "      <th>계좌키</th>\n",
       "      <th>인가/미인가</th>\n",
       "      <th>반영OPB</th>\n",
       "      <th>접수일</th>\n",
       "      <th>진행구분</th>\n",
       "      <th>현재원금잔액</th>\n",
       "      <th>접수일자</th>\n",
       "    </tr>\n",
       "  </thead>\n",
       "  <tbody>\n",
       "  </tbody>\n",
       "</table>\n",
       "</div>"
      ],
      "text/plain": [
       "Empty DataFrame\n",
       "Columns: [채무자키, 계좌키, 인가/미인가, 반영OPB, 접수일, 진행구분, 현재원금잔액, 접수일자]\n",
       "Index: []"
      ]
     },
     "metadata": {},
     "output_type": "display_data"
    },
    {
     "data": {
      "text/plain": [
       "'보증인'"
      ]
     },
     "metadata": {},
     "output_type": "display_data"
    },
    {
     "data": {
      "text/html": [
       "<div>\n",
       "<style scoped>\n",
       "    .dataframe tbody tr th:only-of-type {\n",
       "        vertical-align: middle;\n",
       "    }\n",
       "\n",
       "    .dataframe tbody tr th {\n",
       "        vertical-align: top;\n",
       "    }\n",
       "\n",
       "    .dataframe thead th {\n",
       "        text-align: right;\n",
       "    }\n",
       "</style>\n",
       "<table border=\"1\" class=\"dataframe\">\n",
       "  <thead>\n",
       "    <tr style=\"text-align: right;\">\n",
       "      <th></th>\n",
       "      <th>채무자키</th>\n",
       "      <th>계좌키</th>\n",
       "      <th>인가/미인가</th>\n",
       "      <th>반영OPB</th>\n",
       "      <th>접수일</th>\n",
       "      <th>진행구분</th>\n",
       "      <th>현재원금잔액</th>\n",
       "      <th>접수일자</th>\n",
       "    </tr>\n",
       "  </thead>\n",
       "  <tbody>\n",
       "  </tbody>\n",
       "</table>\n",
       "</div>"
      ],
      "text/plain": [
       "Empty DataFrame\n",
       "Columns: [채무자키, 계좌키, 인가/미인가, 반영OPB, 접수일, 진행구분, 현재원금잔액, 접수일자]\n",
       "Index: []"
      ]
     },
     "metadata": {},
     "output_type": "display_data"
    }
   ],
   "source": [
    "# [check]개회신복 채무자키 중복 : 차주, 보증인별\n",
    "\n",
    "# 차주\n",
    "조정중복_차주 = pd.merge(rehabilitation_d[[\"채무자키\",\"계좌키\",\"인가/미인가\",\"반영OPB\", \"접수일\"]], credit_d[[\"채무자키\",\"계좌키\",\"진행구분\",\"현재원금잔액\",\"접수일자\"]], on=[\"채무자키\",\"계좌키\"], how=\"inner\")\n",
    "display(\"차주\", 조정중복_차주)\n",
    "\n",
    "# 보증인\n",
    "조정중복_보증인 = pd.merge(rehabilitation_grt[[\"채무자키\",\"계좌키\",\"인가/미인가\",\"반영OPB\", \"접수일\"]], credit_grt[[\"채무자키\",\"계좌키\",\"진행구분\",\"현재원금잔액\", \"접수일자\"]], on=[\"채무자키\",\"계좌키\"], how=\"inner\")\n",
    "display(\"보증인\", 조정중복_보증인)"
   ]
  },
  {
   "cell_type": "code",
   "execution_count": 6,
   "metadata": {},
   "outputs": [
    {
     "name": "stdout",
     "output_type": "stream",
     "text": [
      "이상무\n"
     ]
    }
   ],
   "source": [
    "# [check] 계좌종결건 조정채권 포함여부\n",
    "종결된계좌키1 = account[account.종결일 != \"\"].계좌키\n",
    "종결된계좌키2 = account[account.메모 != \"\"].계좌키\n",
    "종결된계좌키 = pd.concat([종결된계좌키1, 종결된계좌키2])\n",
    "check개회 = 종결된계좌키[종결된계좌키.isin(rehabilitation[\"계좌키\"])]\n",
    "check신복 = 종결된계좌키[종결된계좌키.isin(credit[\"계좌키\"])]\n",
    "check = pd.concat([check개회, check신복])\n",
    "if len(check) > 0 :\n",
    "    print(check)\n",
    "    # 출력\n",
    "    check.to_excel(join(wd, basedate, \"[check]종결vs조정.xlsx\"), index=False)\n",
    "    # 종결건 신복과 개회에서 제외하기\n",
    "    rehabilitation = rehabilitation[~rehabilitation.계좌키.isin(check)]\n",
    "    credit = credit[~credit.계좌키.isin(check)]\n",
    "else : print(\"이상무\")"
   ]
  },
  {
   "cell_type": "code",
   "execution_count": 7,
   "metadata": {},
   "outputs": [],
   "source": [
    "# 확정된 조정채권 저장하기\n",
    "rehabilitation_d = rehabilitation[rehabilitation[\"분납자관계\"]==\"채무자\"]\n",
    "rehabilitation_grt = rehabilitation[rehabilitation[\"분납자관계\"]==\"보증인\"]\n",
    "credit_d = credit[credit[\"채무구분\"]==\"주채무\"]\n",
    "credit_grt = credit[credit[\"채무구분\"]==\"보증채무\"]"
   ]
  },
  {
   "cell_type": "code",
   "execution_count": 8,
   "metadata": {},
   "outputs": [
    {
     "name": "stderr",
     "output_type": "stream",
     "text": [
      "100%|██████████| 415/415 [00:00<00:00, 2280.63it/s]\n"
     ]
    }
   ],
   "source": [
    "# 개회 >> 차주 : 계좌키, 보증인 : [계좌키 + 보증인이름]이 pk. \n",
    "# 신복 >> 보증인키 있으므로 이걸로. 누락계좌는 정상으로 나옴\n",
    "# 개회 누락채권(일부계좌누락, 일부 채무자키(이런 경우가 있을까?)) 문제는 어떻게? : 일단 \n",
    "\n",
    "# 보증인 상태변경\n",
    "if \"새보증인상태\" in grt.columns : \n",
    "    grt[\"새보증인상태\"] = \"\"\n",
    "else : grt.insert(8,\"새보증인상태\",\"\")\n",
    "\n",
    "# '채무자키'열과 '보증인성명인'열을 기준으로 비교하여 값 변경\n",
    "for i in tqdm(range(len(grt)), total=len(grt)):  \n",
    "    # 종결건 보증인상태 유지\n",
    "    \n",
    "    # 개인회생\n",
    "    temp = rehabilitation_grt[(rehabilitation_grt['채무자키'] == grt.at[i, '채무자키']) & (rehabilitation_grt['분납자성명인'] == grt.at[i, '보증인성명인'])]\n",
    "    if len(temp) > 0:\n",
    "        grt.at[i, '새보증인상태'] = \"개인회생(확정)\" if temp['인가/미인가'].values[0] == \"인가\" else \"개인회생(진행중)\"\n",
    "    else : \n",
    "        # 신용회복\n",
    "        temp = credit_grt[(credit_grt['보증인키'] == grt.at[i, '보증인키'])]\n",
    "        if len(temp) > 0:\n",
    "            grt.at[i, '새보증인상태'] = \"신용회복(\"+ temp['상환방식'].values[0]+\")\" if temp['진행구분'].values[0] == \"확정\" else \"신용회복(진행중)\"\n",
    "        else :\n",
    "            # 무담보\n",
    "            grt.at[i, '새보증인상태'] = grt.at[i, '보증인상태']"
   ]
  },
  {
   "cell_type": "code",
   "execution_count": 9,
   "metadata": {},
   "outputs": [],
   "source": [
    "# 저장 : 보증인 수정할 것 엑셀 저장\n",
    "grt[grt.새보증인상태 != grt.보증인상태].loc[:,[\"채무자키\", \"계좌키\",\"보증인키\",\"매각사구분\",\"보증인성명인\",\"주민번호인\",\"계좌번호\",\"보증구분\",\"새보증인상태\",\"보증인상태\",\"보증금액\",\"보증잔액\",\"보증한도액\"]].to_excel(join(wd, basedate, \"[check]보증인상태변경할것.xlsx\"), index=False)\n",
    "# # 새보증인상태 추가한 파일 저장\n",
    "# grt.to_pickle(join(wd, basedate, files[2]+\"_새보증인상태.pkl\"))\n",
    "grt.to_excel(join(wd, basedate, files[2]+\"_새보증인상태.xlsx\"), index=False)"
   ]
  },
  {
   "cell_type": "code",
   "execution_count": 10,
   "metadata": {},
   "outputs": [
    {
     "name": "stderr",
     "output_type": "stream",
     "text": [
      "100%|██████████| 6455/6455 [00:02<00:00, 2895.68it/s]\n"
     ]
    }
   ],
   "source": [
    "# 계좌에 새채무상태 만들기\n",
    "\n",
    "if \"새채무상태\" not in account.columns : account.insert(8,\"새채무상태\", \"\")\n",
    "종결처리안된종료건 = []\n",
    "\n",
    "for i in tqdm(range(len(account)), total = len(account)):\n",
    "    account_key = account.at[i, '계좌키']\n",
    "    # 종결처리 안 된 계좌(종결일 없는 것)\n",
    "    if account.at[i, '종결일'] == \"\" : # 종결일 있는경우 메모는 자유롭게 적어도 되겠다. but 종결일 없는 경우는 종료 새채무상태의 분류에 따라\n",
    "        # 종결일 없는 것 중 메모에 새채무상태 적어 놓은 것 그대로 옮기기 \n",
    "        if account.at[i, \"메모\"] != \"\" :\n",
    "            account.at[i, '새채무상태'] = account.at[i, \"메모\"]\n",
    "            # checkList에 추가\n",
    "            종결처리안된종료건.append(account.at[i, '계좌키'])\n",
    "        # 종결일도 없고, 메모도 빈칸(미종결) : 개회 > 신복 > 나머지는 나중에 채움\n",
    "        else : \n",
    "            # 개인회생\n",
    "            temp = rehabilitation_d[(rehabilitation_d['계좌키'] == account_key)]\n",
    "            if  len(temp) > 0:\n",
    "                account.at[i, '새채무상태'] = \"개인회생(확정)\" if temp['인가/미인가'].values[0] == \"인가\" else \"개인회생(진행중)\"\n",
    "            else : \n",
    "                # 신용회복\n",
    "                temp = credit_d[(credit_d['계좌키'] == account.at[i, '계좌키'])]\n",
    "                if len(temp) > 0:\n",
    "                    account.at[i, '새채무상태'] = \"신용회복(\"+ temp['상환방식'].values[0]+\")\" if temp['진행구분'].values[0] == \"확정\" else \"신용회복(진행중)\"\n",
    "                else :\n",
    "                    # 일단 빈칸으로 두고 뒤에서 수정 # 무담보 또는 종료(면책)\n",
    "                    account.at[i, '새채무상태'] = \"\"\n",
    "    # 종결처리 된 계좌\n",
    "    else :\n",
    "        account.at[i, '새채무상태'] = \"종료\""
   ]
  },
  {
   "cell_type": "code",
   "execution_count": 11,
   "metadata": {},
   "outputs": [
    {
     "name": "stdout",
     "output_type": "stream",
     "text": [
      "이상무\n"
     ]
    }
   ],
   "source": [
    "# [ckeck]종결처리해야하는 계좌 출력\n",
    "if len(종결처리안된종료건)>0 :\n",
    "    # print(종결처리안된종료건)\n",
    "    pd.DataFrame(종결처리안된종료건).to_excel(join(wd, basedate, \"[check]종결처리안된종료건.xlsx\"), index=False)\n",
    "else : print(\"이상무\")"
   ]
  },
  {
   "attachments": {},
   "cell_type": "markdown",
   "metadata": {},
   "source": [
    "### 전체 원데이터 만들기(종합)"
   ]
  },
  {
   "cell_type": "code",
   "execution_count": 12,
   "metadata": {},
   "outputs": [],
   "source": [
    "# 새채무자키는 엑셀 수정 권한이 없어서 일단 주민번호로 대체\n",
    "raw_data = pd.DataFrame(None)\n",
    "raw_data[\"채무자키\"] = account.채무자키\n",
    "raw_data[\"계좌키\"] = account.계좌키\n",
    "raw_data[\"타채무자키\"] = account.타채무자키\n",
    "\n",
    "raw_data[\"채권구분\"] = account.채권구분\n",
    "raw_data[\"새채무상태\"] = account.새채무상태\n",
    "raw_data[\"채무상태\"] = account.채무상태\n",
    "raw_data[\"담당자\"] = account.담당자\n",
    "raw_data[\"성명\"] = account.채무자명\n",
    "\n",
    "raw_data[\"주민등록번호\"] = account.채무자주민번호 #.apply(lambda x : x[:8])\n",
    "raw_data[\"계좌번호\"] = account.계좌번호\n",
    "raw_data[\"원채권사\"] = account.원채권사\n",
    "raw_data[\"매각사구분\"] = account.매각사구분\n",
    "raw_data[\"계정과목\"] = account.계정과목\n",
    "raw_data[\"최초원금\"] = account.최초원금\n",
    "raw_data[\"최초법비용\"] = account.최초법비용\n",
    "raw_data[\"최초미수이자\"] = account.최초미수이자\n",
    "raw_data[\"최초연체이자율\"] = account.최초연체이자율\n",
    "raw_data[\"현재원금\"] = account.현재원금\n",
    "raw_data[\"현재법비용\"] = account.현재법비용\n",
    "raw_data[\"OPB\"] = account[[\"현재원금\",\"현재법비용\"]].sum(axis=1)\n",
    "raw_data[\"현재미수이자\"] = account.현재미수이자\n",
    "raw_data[\"현재연체이자\"] = account.현재연체이자\n",
    "raw_data[\"현재합계\"] = account.현재합계\n",
    "raw_data[\"회수합계\"] = account.회수합계\n",
    "raw_data[\"최초대출일\"] = account.최초대출일\n",
    "raw_data[\"대출만기일\"] = account.대출만기일\n",
    "raw_data[\"최초연체일\"] = account.최초연체일 # 없는 경우도 있음 없으면 대출만기일로 대체해야.\n",
    "raw_data[\"매입일\"] = account.매입일\n",
    "# 시효관련 추가\n",
    "raw_data['시효완성월'] = np.where((account['시효중단여부'] == 'Y'), '중단', account['시효완성월'])\n",
    "raw_data[\"시효사유\"] = account.시효연장사유 # 시효연장사유 빈칸인 경우, 최초완성일메모(거의), 최초시효완성일, 시효중단여부 모두 빈칸임\n",
    "raw_data[\"시효완성일\"] = account.시효완성일\n",
    "\n",
    "# 채무자조회에서 불러올 항목\n",
    "debt_temp = debt[[\"채무자키\", \"개인법인\", \"연령\", \"자택우편번호\", \"자택주소\"]]\n",
    "raw_data = pd.merge(raw_data, debt_temp, on=\"채무자키\", how=\"left\")\n",
    "\n",
    "# grt에서 각 계좌별 보증인상태 불러오기\n",
    "names = grt.groupby('계좌키')['보증인성명인'].apply(lambda x: ','.join(x)) # 고유값만 남기려면 join의 매개변수로 x.unique()를 사용\n",
    "status = grt.groupby('계좌키')['보증인상태'].apply(lambda x: ','.join(x))\n",
    "\n",
    "raw_data = raw_data.merge(names, how='left', on='계좌키')\n",
    "raw_data = raw_data.merge(status, how='left', on='계좌키')\n",
    "\n",
    "raw_data[\"보증인성명인\"] = raw_data[\"보증인성명인\"].fillna('')\n",
    "raw_data[\"보증인상태\"] = raw_data[\"보증인상태\"].fillna('')"
   ]
  },
  {
   "cell_type": "code",
   "execution_count": 13,
   "metadata": {},
   "outputs": [
    {
     "name": "stdout",
     "output_type": "stream",
     "text": [
      "전              3735\n",
      "종료           1017\n",
      "신용회복(개인)      954\n",
      "개인회생(확정)      648\n",
      "신용회복(프리)       52\n",
      "개인회생(진행중)      38\n",
      "신용회복(진행중)      11\n",
      "Name: 새채무상태, dtype: int64\n"
     ]
    },
    {
     "name": "stderr",
     "output_type": "stream",
     "text": [
      "100%|██████████| 6455/6455 [00:00<00:00, 26730.24it/s]"
     ]
    },
    {
     "name": "stdout",
     "output_type": "stream",
     "text": [
      "후 종료           2616\n",
      "개인           2027\n",
      "신용회복(개인)      954\n",
      "개인회생(확정)      648\n",
      "법인            109\n",
      "신용회복(프리)       52\n",
      "개인회생(진행중)      38\n",
      "신용회복(진행중)      11\n",
      "Name: 새채무상태, dtype: int64\n"
     ]
    },
    {
     "name": "stderr",
     "output_type": "stream",
     "text": [
      "\n"
     ]
    }
   ],
   "source": [
    "# 새채무상태 마무리(매각용)\n",
    "print(\"전\",raw_data.새채무상태.value_counts())\n",
    "\n",
    "채무상태종료 = re.compile(comp_closing[\"채무상태종료\"])\n",
    "담당자종료 = re.compile(comp_closing[\"담당자종료\"])\n",
    "채무상태면책 = re.compile(comp_closing[\"채무상태면책\"])\n",
    "보증인종료 = re.compile(comp_closing[\"보증인종료\"])\n",
    "\n",
    "for i in tqdm(range(len(raw_data)), total = len(raw_data)):\n",
    "    if raw_data.at[i, \"새채무상태\"] == \"\" :\n",
    "        # 종료\n",
    "        if 채무상태종료.search(raw_data.at[i, \"채무상태\"]) or 담당자종료.search(raw_data.at[i, \"담당자\"]) :\n",
    "            raw_data.at[i, \"새채무상태\"] = \"종료\"\n",
    "        # 차주면책\n",
    "        elif 채무상태면책.search(raw_data.at[i, \"채무상태\"]) :\n",
    "            # 보증인 없으면\n",
    "            if raw_data.at[i, \"보증인상태\"] == \"\" :\n",
    "                raw_data.at[i, \"새채무상태\"] = \"종료\"\n",
    "            else : # 보증인종료 이외의 건이 있는지\n",
    "                temp = 보증인종료.sub(\"\",raw_data.at[i, \"보증인상태\"])\n",
    "                if len(re.sub(\",\", \"\", temp)) == 0 : # 보증인도 모두 종료/면책\n",
    "                    raw_data.at[i, \"새채무상태\"] = \"종료\"\n",
    "                else :\n",
    "                    raw_data.at[i, \"새채무상태\"] = re.sub(\"사업자\", \"\", raw_data.at[i, \"개인법인\"])\n",
    "        else :\n",
    "            raw_data.at[i, \"새채무상태\"] = re.sub(\"사업자\", \"\", raw_data.at[i, \"개인법인\"])\n",
    "print(\"후\",raw_data.새채무상태.value_counts())"
   ]
  },
  {
   "cell_type": "code",
   "execution_count": null,
   "metadata": {},
   "outputs": [],
   "source": [
    "# [ckeck]계좌별 채무상태 수정할 것 엑셀 저장\n",
    "# 범주가 다르게 적용되어서 현재는 의미가 없다. 보완이 필요\n",
    "# raw_data[raw_data.새채무상태 != raw_data.채무상태].loc[:,[\"채무자키\", \"계좌키\",\"매각사구분\",\"새채무상태\",\"채무상태\"]].to_excel(join(wd, basedate, \"[check]계좌별채무상태달라진것.xlsx\"), index=False)"
   ]
  },
  {
   "cell_type": "code",
   "execution_count": 14,
   "metadata": {},
   "outputs": [],
   "source": [
    "# 최종OPB 작성하기\n",
    "\n",
    "개회OPB = rehabilitation_d.loc[:, [\"계좌키\", \"반영OPB\"]].rename(columns={\"반영OPB\" : \"최종OPB\"})\n",
    "신복OPB = credit_d.loc[:, [\"계좌키\", \"현재원금잔액\"]].rename(columns={\"현재원금잔액\" : \"최종OPB\"})\n",
    "신복OPB[\"최종OPB\"] = 신복OPB[\"최종OPB\"].astype(int)\n",
    "# 개회OPB와 신복OPB 병합\n",
    "merged_opb = 개회OPB.merge(신복OPB, on=['계좌키','최종OPB'], how='outer')\n",
    "# raw_data와 병합\n",
    "raw_data = raw_data.merge(merged_opb, on='계좌키', how='outer')\n",
    "# 조정이 아닌 경우, 종료이면 0, 아니면 OPB\n",
    "new_col = np.where(raw_data['새채무상태'] == '종료', 0, raw_data['OPB'])\n",
    "raw_data.loc[raw_data['최종OPB'].isnull(), '최종OPB'] = new_col[raw_data['최종OPB'].isnull()]"
   ]
  },
  {
   "cell_type": "code",
   "execution_count": 15,
   "metadata": {},
   "outputs": [],
   "source": [
    "# 전체 저장하기\n",
    "raw_data.to_excel(join(wd, basedate, \"2.대성_전체_원데이터_\"+basedate+\".xlsx\"), index=False)\n",
    "# 특정 매각사만 저장하기\n",
    "# cond = \"스마트저축-01\" ###################################\n",
    "# raw_data[raw_data.매각사구분==cond].to_excel(join(wd, cond+\"_원데이터_\"+basedate+\".xlsx\"), index=False)"
   ]
  },
  {
   "cell_type": "code",
   "execution_count": 16,
   "metadata": {},
   "outputs": [],
   "source": [
    "# [check] 동일차주 더블 채무상태\n",
    "채무자별채무상태 = raw_data.groupby('주민등록번호')['새채무상태'].apply(lambda x:\",\".join(x.unique()))\n",
    "check_채무상태 = 채무자별채무상태[채무자별채무상태.str.contains(',')]\n",
    "# 출력\n",
    "if len(check_채무상태) > 0 : check_채무상태.to_excel(join(wd, basedate, \"[check]더블채무상태.xlsx\"))\n",
    "else : print(\"이상무\")"
   ]
  },
  {
   "cell_type": "code",
   "execution_count": 18,
   "metadata": {},
   "outputs": [],
   "source": [
    "# 제출용 시트 작성하기-개인회생  # 계좌분리 작업 안 해서 비고열 없음\n",
    "re_d = rehabilitation_d.loc[:,[\"채무자키\",\"계좌키\",\"분납키\",\"분납자성명인\",\"분납자관계\",\"매각사구분\", \"인가/미인가\",\"현재결과\", \"반영OPB\", \"관할법원\", \"사건번호\", \"접수일\", \"개시결정일\",\"변제계획인가일\",\"총분납회차\",\"현재회차\",\"납입회차\",\"잔여회차\",\"미납회차\",\"총분납금\",\"총분납입금\",\"분납미납금\",\"분납잔금\",\"총분납잔금\",\"현재원금\",\"현재법비용\"]]\n",
    "re_grt = rehabilitation_grt.loc[:,[\"채무자키\",\"계좌키\",\"분납키\",\"분납자성명인\",\"분납자관계\",\"매각사구분\", \"인가/미인가\",\"현재결과\", \"반영OPB\", \"관할법원\", \"사건번호\", \"접수일\", \"개시결정일\",\"변제계획인가일\",\"총분납회차\",\"현재회차\",\"납입회차\",\"잔여회차\",\"미납회차\",\"총분납금\",\"총분납입금\",\"분납미납금\",\"분납잔금\",\"총분납잔금\",\"현재원금\",\"현재법비용\"]]\n",
    "# re_d.insert(0, \"순번\", range(1,len(re_d)+1))\n",
    "# re_grt.insert(0, \"순번\", range(1,len(re_grt)+1))\n",
    "# 저장\n",
    "with pd.ExcelWriter(join(wd, basedate, \"2.대성_개인회생_원데이터_\"+basedate+\".xlsx\"), engine='openpyxl', mode = 'w') as writer :\n",
    "    re_d.to_excel(writer, sheet_name=\"차주\", index=False)\n",
    "    re_grt.to_excel(writer, sheet_name=\"보증인\", index=False)"
   ]
  },
  {
   "cell_type": "code",
   "execution_count": 19,
   "metadata": {},
   "outputs": [
    {
     "name": "stderr",
     "output_type": "stream",
     "text": [
      "C:\\Users\\SL\\AppData\\Local\\Temp\\ipykernel_26648\\61223850.py:6: SettingWithCopyWarning: \n",
      "A value is trying to be set on a copy of a slice from a DataFrame.\n",
      "Try using .loc[row_indexer,col_indexer] = value instead\n",
      "\n",
      "See the caveats in the documentation: https://pandas.pydata.org/pandas-docs/stable/user_guide/indexing.html#returning-a-view-versus-a-copy\n",
      "  credit_d.loc[:,date_cols] = credit_d[date_cols].astype(str)\n",
      "C:\\Users\\SL\\AppData\\Local\\Temp\\ipykernel_26648\\61223850.py:6: FutureWarning: In a future version, `df.iloc[:, i] = newvals` will attempt to set the values inplace instead of always setting a new array. To retain the old behavior, use either `df[df.columns[i]] = newvals` or, if columns are non-unique, `df.isetitem(i, newvals)`\n",
      "  credit_d.loc[:,date_cols] = credit_d[date_cols].astype(str)\n",
      "C:\\Users\\SL\\AppData\\Local\\Temp\\ipykernel_26648\\61223850.py:8: SettingWithCopyWarning: \n",
      "A value is trying to be set on a copy of a slice from a DataFrame.\n",
      "Try using .loc[row_indexer,col_indexer] = value instead\n",
      "\n",
      "See the caveats in the documentation: https://pandas.pydata.org/pandas-docs/stable/user_guide/indexing.html#returning-a-view-versus-a-copy\n",
      "  credit_grt.loc[:,date_cols] = credit_grt[date_cols].astype(str)\n",
      "C:\\Users\\SL\\AppData\\Local\\Temp\\ipykernel_26648\\61223850.py:8: FutureWarning: In a future version, `df.iloc[:, i] = newvals` will attempt to set the values inplace instead of always setting a new array. To retain the old behavior, use either `df[df.columns[i]] = newvals` or, if columns are non-unique, `df.isetitem(i, newvals)`\n",
      "  credit_grt.loc[:,date_cols] = credit_grt[date_cols].astype(str)\n"
     ]
    }
   ],
   "source": [
    "# 제출용 시트 작성하기-신용회복\n",
    "# 기준데이터에서 삭제한 것이 있을 때 유의미 & 차주 보증인 구분\n",
    "\n",
    "# 날짜열 문자열로\n",
    "date_cols = credit_d.select_dtypes(include='datetime').columns\n",
    "credit_d.loc[:,date_cols] = credit_d[date_cols].astype(str)\n",
    "date_cols = credit_grt.select_dtypes(include='datetime').columns\n",
    "credit_grt.loc[:,date_cols] = credit_grt[date_cols].astype(str)\n",
    "\n",
    "# 저장\n",
    "with pd.ExcelWriter(join(wd, basedate, \"2.대성_신용회복_원데이터_\"+basedate+\".xlsx\"), engine='openpyxl', mode = 'w') as writer :\n",
    "    credit_d.to_excel(writer, sheet_name=\"차주\", index=False)\n",
    "    credit_grt.to_excel(writer, sheet_name=\"보증인\", index=False)"
   ]
  },
  {
   "cell_type": "code",
   "execution_count": 20,
   "metadata": {},
   "outputs": [
    {
     "data": {
      "text/html": [
       "<div>\n",
       "<style scoped>\n",
       "    .dataframe tbody tr th:only-of-type {\n",
       "        vertical-align: middle;\n",
       "    }\n",
       "\n",
       "    .dataframe tbody tr th {\n",
       "        vertical-align: top;\n",
       "    }\n",
       "\n",
       "    .dataframe thead th {\n",
       "        text-align: right;\n",
       "    }\n",
       "</style>\n",
       "<table border=\"1\" class=\"dataframe\">\n",
       "  <thead>\n",
       "    <tr style=\"text-align: right;\">\n",
       "      <th></th>\n",
       "      <th>계좌키</th>\n",
       "      <th>최종OPB</th>\n",
       "    </tr>\n",
       "    <tr>\n",
       "      <th>새채무상태</th>\n",
       "      <th></th>\n",
       "      <th></th>\n",
       "    </tr>\n",
       "  </thead>\n",
       "  <tbody>\n",
       "    <tr>\n",
       "      <th>개인</th>\n",
       "      <td>2027</td>\n",
       "      <td>12133285100</td>\n",
       "    </tr>\n",
       "    <tr>\n",
       "      <th>법인</th>\n",
       "      <td>109</td>\n",
       "      <td>2513079679</td>\n",
       "    </tr>\n",
       "    <tr>\n",
       "      <th>개인회생(확정)</th>\n",
       "      <td>648</td>\n",
       "      <td>536453812</td>\n",
       "    </tr>\n",
       "    <tr>\n",
       "      <th>개인회생(진행중)</th>\n",
       "      <td>38</td>\n",
       "      <td>372629140</td>\n",
       "    </tr>\n",
       "    <tr>\n",
       "      <th>신용회복(개인)</th>\n",
       "      <td>954</td>\n",
       "      <td>3310370661</td>\n",
       "    </tr>\n",
       "    <tr>\n",
       "      <th>신용회복(프리)</th>\n",
       "      <td>52</td>\n",
       "      <td>311071629</td>\n",
       "    </tr>\n",
       "    <tr>\n",
       "      <th>신용회복(진행중)</th>\n",
       "      <td>11</td>\n",
       "      <td>24785636</td>\n",
       "    </tr>\n",
       "    <tr>\n",
       "      <th>종료</th>\n",
       "      <td>2616</td>\n",
       "      <td>0</td>\n",
       "    </tr>\n",
       "  </tbody>\n",
       "</table>\n",
       "</div>"
      ],
      "text/plain": [
       "            계좌키       최종OPB\n",
       "새채무상태                      \n",
       "개인         2027 12133285100\n",
       "법인          109  2513079679\n",
       "개인회생(확정)    648   536453812\n",
       "개인회생(진행중)    38   372629140\n",
       "신용회복(개인)    954  3310370661\n",
       "신용회복(프리)     52   311071629\n",
       "신용회복(진행중)    11    24785636\n",
       "종료         2616           0"
      ]
     },
     "execution_count": 20,
     "metadata": {},
     "output_type": "execute_result"
    }
   ],
   "source": [
    "# 요약 \n",
    "pd.options.display.float_format = '{:.0f}'.format\n",
    "\n",
    "# 특정 POOL\n",
    "# pool계좌키 = pd.read_excel(\"c://users/sl/Desktop/계좌키.xlsx\", dtype={\"계좌키\":str})\n",
    "# pool = pd.merge(raw_data,pool계좌키, on='계좌키', how='inner')\n",
    "# result = pool.groupby('새채무상태').agg({'계좌키':'count', '최종OPB':'sum'}).reindex(index=['개인','법인','개인회생(확정)','개인회생(진행중)','신용회복(개인)','신용회복(프리)','신용회복(진행중)','종료'])\n",
    "# result\n",
    "\n",
    "# 전체\n",
    "raw_data.groupby('새채무상태').agg({'계좌키':'count', '최종OPB':'sum'}).reindex(index=['개인','법인','개인회생(확정)','개인회생(진행중)','신용회복(개인)','신용회복(프리)','신용회복(진행중)','종료'])"
   ]
  },
  {
   "attachments": {},
   "cell_type": "markdown",
   "metadata": {},
   "source": [
    "### POOL별 엑셀 파일 만들기"
   ]
  },
  {
   "cell_type": "code",
   "execution_count": 21,
   "metadata": {},
   "outputs": [],
   "source": [
    "# 그냥 실행. (wd에 하위 폴더 만들어 작업할 경우 때문에 이 코드 필요..)\n",
    "# wd = r\"D:\\3.자산\\전산 dataset\\230430\\매각환매 채무상태 수정후\"\n",
    "# basedate = \"230430\"\n",
    "# dir = wd  \n",
    "dir = join(wd, basedate)"
   ]
  },
  {
   "cell_type": "code",
   "execution_count": 27,
   "metadata": {},
   "outputs": [],
   "source": [
    "######### 바로 작업시에는 이 셀 pass\n",
    "# 원데이터 새로 읽기\n",
    "\n",
    "files = [\"2.대성_개인회생_원데이터_\"+basedate, \"2.대성_신용회복_원데이터_\"+basedate, \"2.대성_전체_원데이터_\"+basedate]\n",
    "\n",
    "# 1.개인회생\n",
    "re_d = pd.read_excel(join(dir, files[0]+\".xlsx\"), dtype=rehabilitation_dtype, sheet_name=\"차주\").fillna(\"\")\n",
    "re_grt = pd.read_excel(join(dir, files[0]+\".xlsx\"), dtype=rehabilitation_dtype, sheet_name=\"보증인\").fillna(\"\")\n",
    "\n",
    "# 2.신용회복\n",
    "credit_d = pd.read_excel(join(dir, files[1]+\".xlsx\"), dtype=credit_dtype, sheet_name=\"차주\").fillna(\"\")\n",
    "credit_grt = pd.read_excel(join(dir, files[1]+\".xlsx\"), dtype=credit_dtype, sheet_name=\"보증인\").fillna(\"\")\n",
    "\n",
    "# NaT값을 \"\"\n",
    "credit_d.replace({pd.NaT: \"\"}, inplace=True)\n",
    "credit_grt.replace({pd.NaT: \"\"}, inplace=True)\n",
    "\n",
    "# 날짜타입 칼럼\n",
    "# date_cols = credit_d.select_dtypes(include='datetime').columns\n",
    "# credit_d.loc[:,date_cols] = credit_d[date_cols].astype(str)\n",
    "# date_cols = credit_grt.select_dtypes(include='datetime').columns\n",
    "# credit_grt.loc[:,date_cols] = credit_grt[date_cols].astype(str)\n",
    "\n",
    "# 3.무담보\n",
    "raw_data = pd.read_excel(join(dir, files[2]+\".xlsx\"), dtype=account_dtype, sheet_name=\"리스트\").fillna(\"\")"
   ]
  },
  {
   "cell_type": "code",
   "execution_count": null,
   "metadata": {},
   "outputs": [],
   "source": [
    "###################################################\n",
    "# 무담보 채무상태 추가작업\n",
    "raw_data.loc[raw_data.채무상태.str.contains(\"파산|사망\"),\"새채무상태\"] = \"종료\"\n",
    "###################################################"
   ]
  },
  {
   "cell_type": "code",
   "execution_count": 28,
   "metadata": {},
   "outputs": [],
   "source": [
    "# 풀데이터 읽기\n",
    "pooldata = pd.read_excel(r\"D:\\3.자산\\전산 dataset\\대성\\POOL정보.xlsx\", sheet_name=\"POOL정리\", dtype={\"채무자키\":str})"
   ]
  },
  {
   "cell_type": "code",
   "execution_count": 29,
   "metadata": {},
   "outputs": [],
   "source": [
    "# POOL별 채무자키\n",
    "pool_dict = {\n",
    "            \"POOL1\" : pooldata.query('P1==True')[\"채무자키\"],\n",
    "            # \"POOL2\" : pooldata.query('P2==True')[\"채무자키\"],\n",
    "            # \"무차입\" : pooldata.query('소속풀수==0')[\"채무자키\"]\n",
    "            }"
   ]
  },
  {
   "attachments": {},
   "cell_type": "markdown",
   "metadata": {},
   "source": [
    "##### 풀별 내부/발송 파일 만들기\n",
    "- 일부 풀만 작업할 경우 위 pool_dict 주석처리를 통해"
   ]
  },
  {
   "cell_type": "code",
   "execution_count": 30,
   "metadata": {},
   "outputs": [],
   "source": [
    "def summary_comment (ws1, file_kind, comp_closing, basedate) : \n",
    "    ws1['a13'] = \"■ 자산확정일 : 20\" + basedate[0:2]+\"-\"+basedate[2:4]+\"-\"+basedate[4:]\n",
    "    ws1['a15'] = \"■ OPB 작성기준\"\n",
    "    ws1['a16'] = \"무담보 : 미상환원금잔액(현재원금+현재법비용)\"\n",
    "    ws1['a17'] = \"개인회생(인가) : 총분납잔금\"\n",
    "    ws1['a18'] = \"개인회생(미인가) : 미상환원금잔액\"\n",
    "    ws1['a19'] = \"신용회복(개인) : 상환후잔액(빈값인 경우 조정후합계)\"\n",
    "    ws1['a20'] = \"신용회복(프리) : 상환후잔액(빈값인 경우 조정후합계)\"\n",
    "    ws1['a21'] = \"신용회복(미확정) : 미상환원금잔액\"\n",
    "\n",
    "    if file_kind == \"내부\" : \n",
    "        ws1['a23'] = \"■ 제외(종료)기준\"\n",
    "        ws1['a24'] = \"  ▶ 채무상태 값이 다음을 포함할 때 종료: \" + comp_closing[\"채무상태종료\"]\n",
    "        ws1['a25'] = \"  ▶ 담당자 값이 다음을 포함할 때 종료: \" + comp_closing[\"담당자종료\"]\n",
    "        ws1['a26'] = \"  ▶ 채무상태 값이 다음을 포함하고 : \" + comp_closing[\"채무상태면책\"]\n",
    "        ws1['a27'] = \"     보증인상태 값이 다음을 포함할 때 종료 : \" + comp_closing[\"보증인종료\"]\n",
    "\n",
    "def set_col_width_ws1(ws1) : \n",
    "    ws1.column_dimensions[\"A\"].width = 18\n",
    "    ws1.column_dimensions[\"B\"].width = 10\n",
    "    ws1.column_dimensions[\"C\"].width = 14\n",
    "    ws1.column_dimensions[\"D\"].width = 10\n",
    "    ws1.column_dimensions[\"E\"].width = 14"
   ]
  },
  {
   "cell_type": "code",
   "execution_count": 33,
   "metadata": {},
   "outputs": [
    {
     "name": "stderr",
     "output_type": "stream",
     "text": [
      "100%|██████████| 1/1 [00:07<00:00,  7.03s/it]\n"
     ]
    }
   ],
   "source": [
    "pd.set_option('mode.chained_assignment', None)\n",
    "\n",
    "output_dir = join(wd,basedate,\"output\")\n",
    "if not os.path.exists(output_dir) : os.mkdir(output_dir)\n",
    "\n",
    "for pool_kind, pool_keys in tqdm(pool_dict.items(), total=len(pool_dict))  : \n",
    "    \n",
    "    ###### 내부용 만들기############################################################\n",
    "    file_kind = \"내부\"\n",
    "    # 풀 원데이터\n",
    "    pool_raw = raw_data[raw_data.채무자키.isin(pool_keys)].copy()\n",
    "    # 풀 무담보, 종료건\n",
    "    pool_무담보 = pool_raw[pool_raw[\"새채무상태\"].isin([\"개인\",\"법인\"])].iloc[:,:-1] # 무담보는 opb = 최종opb니까\n",
    "    pool_종료 = pool_raw[pool_raw[\"새채무상태\"]==\"종료\"].iloc[:,:-1]\n",
    "    # 풀 조정건\n",
    "    pool_re_d = re_d[re_d.채무자키.isin(pool_keys)]\n",
    "    pool_re_grt = re_grt[re_grt.채무자키.isin(pool_keys)]\n",
    "    pool_credit_d = credit_d[credit_d.채무자키.isin(pool_keys)]\n",
    "    pool_credit_grt = credit_grt[credit_grt.채무자키.isin(pool_keys)]\n",
    "\n",
    "    #순번 넣기\n",
    "    pool_종료.insert(0, \"순번\", range(1,len(pool_종료)+1))\n",
    "    pool_무담보.insert(0, \"순번\", range(1,len(pool_무담보)+1))\n",
    "    pool_re_d.insert(0, \"순번\", range(1,len(pool_re_d)+1))\n",
    "    pool_re_grt.insert(0, \"순번\", range(1,len(pool_re_grt)+1))\n",
    "    pool_credit_d[\"No.\"] = range(1,len(pool_credit_d)+1)\n",
    "    pool_credit_grt[\"No.\"] = range(1,len(pool_credit_grt)+1)\n",
    "\n",
    "    ####### 요약시트[시작]\n",
    "    summary = pool_raw.groupby('새채무상태').agg({'계좌키':'count', '최종OPB':'sum'}).reindex(index=['개인','법인','개인회생(확정)','개인회생(진행중)','신용회복(개인)','신용회복(프리)','신용회복(진행중)','종료'])\n",
    "    summary.rename(columns={'계좌키':'건수', '최종OPB':\"OPB\"}, inplace=True)\n",
    "\n",
    "    # 보증인 합산\n",
    "    summary[\"건수(보증인)\"] = [\n",
    "        0,0, # 무담보는 그대로\n",
    "        pool_re_grt[pool_re_grt['인가/미인가']==\"인가\"].계좌키.count(), # 보증인은 없는 경우 있어서 그룹화하면 index에러날 수 있음\n",
    "        pool_re_grt[pool_re_grt['인가/미인가']==\"미인가\"].계좌키.count(),\n",
    "        pool_credit_grt[(pool_credit_grt.진행구분==\"확정\") & (pool_credit_grt.상환방식==\"개인\")].계좌키.count(),\n",
    "        pool_credit_grt[(pool_credit_grt.진행구분==\"확정\") & (pool_credit_grt.상환방식==\"프리\")].계좌키.count(),\n",
    "        pool_credit_grt[pool_credit_grt.진행구분==\"미확정\"].계좌키.count(), 0\n",
    "    ]\n",
    "    summary[\"OPB(보증인)\"] = [\n",
    "        0,0, # 무담보는 그대로\n",
    "        pool_re_grt[pool_re_grt['인가/미인가']==\"인가\"].반영OPB.sum(),\n",
    "        pool_re_grt[pool_re_grt['인가/미인가']==\"미인가\"].반영OPB.sum(),\n",
    "        pool_credit_grt[(pool_credit_grt.진행구분==\"확정\") & (pool_credit_grt.상환방식==\"개인\")].OPB.sum(),\n",
    "        pool_credit_grt[(pool_credit_grt.진행구분==\"확정\") & (pool_credit_grt.상환방식==\"프리\")].OPB.sum(),\n",
    "        pool_credit_grt[pool_credit_grt.진행구분==\"미확정\"].OPB.sum(), 0\n",
    "    ]\n",
    "\n",
    "    # \"종결\" 행 제외한 열의 합계 계산\n",
    "    row_sum = summary[summary.index != \"종료\"].sum()\n",
    "    summary.loc[\"계(종료제외)\"] = row_sum\n",
    "    summary = summary.reindex(index=['개인','법인','개인회생(확정)','개인회생(진행중)','신용회복(개인)','신용회복(프리)','신용회복(진행중)',\"계(종료제외)\",'종료'])\n",
    "\n",
    "    summary = summary.fillna(0).astype(dtype='int64')\n",
    "    summary.rename_axis(\"구분\", inplace=True)\n",
    "    \n",
    "\n",
    "    ######### 엑셀 쓰기\n",
    "    wb = Workbook()\n",
    "    ws1 = wb.active\n",
    "    ws1.title = \"요약\"\n",
    "    ws2 = wb.create_sheet(\"무담보\")\n",
    "    ws3 = wb.create_sheet(\"개인회생_차주\")\n",
    "    ws4 = wb.create_sheet(\"개인회생_보증인\")\n",
    "    ws5 = wb.create_sheet(\"신용회복_차주\")\n",
    "    ws6 = wb.create_sheet(\"신용회복_보증인\")\n",
    "    ws7 = wb.create_sheet(\"종료\")\n",
    "\n",
    "    # 시트에 데이터 쓰기\n",
    "    for r in dataframe_to_rows(summary, index=True, header=True): ws1.append(r)\n",
    "    # a1에 구분 넣고 요약셀 2행 삭제\n",
    "    ws1['a1'] = \"구분\"\n",
    "    ws1.delete_rows(2)\n",
    "    \n",
    "    # 코멘트 작성하기\n",
    "    summary_comment(ws1, file_kind, comp_closing, basedate)\n",
    "\n",
    "    for r in dataframe_to_rows(pool_무담보, index=False, header=True): ws2.append(r)\n",
    "    for r in dataframe_to_rows(pool_re_d, index=False, header=True): ws3.append(r)\n",
    "    for r in dataframe_to_rows(pool_re_grt, index=False, header=True): ws4.append(r)\n",
    "    for r in dataframe_to_rows(pool_credit_d, index=False, header=True): ws5.append(r)\n",
    "    for r in dataframe_to_rows(pool_credit_grt, index=False, header=True): ws6.append(r)\n",
    "    for r in dataframe_to_rows(pool_종료, index=False, header=True): ws7.append(r)\n",
    "\n",
    "    # 스타일 지정\n",
    "    # 폰트\n",
    "    #font = Font(name='NN30', size=10, color='FF000000')\n",
    "    # 폰트 (데이터 부분)\n",
    "    font_data = Font(name='NN30', size=10)\n",
    "    # 배경색\n",
    "    fill_col = PatternFill(fill_type='solid', start_color='FF0072C6', end_color='FF0072C6')\n",
    "    fill_new = PatternFill(fill_type='solid', start_color='FF49C620', end_color='FF49C620')\n",
    "    # 테두리\n",
    "    border = Border(left=Side(style='thin'), right=Side(style='thin'), top=Side(style='thin'), bottom=Side(style='thin'))\n",
    "    # 정렬\n",
    "    alignment = Alignment(horizontal='center', vertical='center')\n",
    "\n",
    "    for ws in [ws1,ws2,ws3,ws4,ws5,ws6,ws7] :\n",
    "\n",
    "        # 컬럼명 스타일 적용\n",
    "        for cell in ws[1]:\n",
    "            cell.font = Font(name='NN30', size=10, color='FFFFFF', bold=True)\n",
    "            if cell.value is not None and cell.value.startswith('새') : cell.fill = fill_new\n",
    "            else : cell.fill = fill_col\n",
    "            cell.border = border\n",
    "            cell.alignment = alignment\n",
    "\n",
    "        # 데이터 부분 스타일 적용\n",
    "        max_row = 10 if ws.title == \"요약\" else ws.max_row\n",
    "        for row in ws.iter_rows(min_row=2, max_row=max_row):\n",
    "            for cell in row:\n",
    "                # 숫자 데이터인 경우\n",
    "                if isinstance(cell.value, (int, float)):\n",
    "                    cell.font = font_data\n",
    "                    cell.number_format = '#,##0' if isinstance(cell.value, int) else '#,##0.00'\n",
    "                    cell.alignment = Alignment(horizontal='right', vertical='center')\n",
    "                # 날짜 데이터인 경우\n",
    "                elif isinstance(cell.value, pd.Timestamp):\n",
    "                    cell.font = font_data\n",
    "                    cell.number_format = 'yyyy-mm-dd'\n",
    "                    cell.alignment = alignment\n",
    "                # 나머지 문자열 데이터인 경우\n",
    "                else:\n",
    "                    cell.font = font_data\n",
    "                    cell.alignment = alignment\n",
    "                cell.border = border\n",
    "\n",
    "    # 요약시트 \"계(종료제외)\" 배경색\n",
    "    for cell in ws1[9]:\n",
    "        cell.fill = PatternFill(fill_type='solid', start_color='B8CCE4', end_color='B8CCE4')\n",
    "\n",
    "    # 요약시트 나머지행 글자크기\n",
    "    for row in ws1.iter_rows(min_row=10, max_row=max_row) :\n",
    "        for cell in row : \n",
    "            cell.font = Font(name='NN30', size=10)\n",
    "    \n",
    "    # 요약시트 컬럼 너비 지정하기(단위는 char임)\n",
    "    set_col_width_ws1(ws1)\n",
    "\n",
    "    # 파일 저장\n",
    "    wb.save(join(output_dir, pool_kind+\"_데이터_\"+basedate+\"_\"+file_kind+\".xlsx\"))\n",
    "\n",
    "\n",
    "    ###### 발송용 만들기############################################################\n",
    "    file_kind = \"발송\" ####\n",
    "\n",
    "    pool_무담보.drop(['새채무상태','채무상태','담당자'], axis=1, inplace=True)\n",
    "    pool_무담보[\"성명\"] = pool_무담보[\"성명\"].apply(lambda x:x[:1]+\"\\u25CB\"+x[2:])\n",
    "    pool_무담보[\"주민등록번호\"] = pool_무담보[\"주민등록번호\"].apply(lambda x : x[:8]+\"*\"*len(x[8:]))\n",
    "    pool_re_d[\"분납자성명인\"] = pool_re_d[\"분납자성명인\"].apply(lambda x:x[:1]+\"\\u25CB\"+x[2:])\n",
    "    pool_re_grt[\"분납자성명인\"] = pool_re_grt[\"분납자성명인\"].apply(lambda x:x[:1]+\"\\u25CB\"+x[2:])\n",
    "    pool_credit_d[\"고객명\"] = pool_credit_d[\"고객명\"].apply(lambda x:x[:1]+\"\\u25CB\"+x[2:])\n",
    "    pool_credit_d[\"고객식별번호\"] = pool_credit_d[\"고객식별번호\"].apply(lambda x : x[:8]+\"*\"*len(x[8:]))\n",
    "    pool_credit_grt[\"고객명\"] = pool_credit_grt[\"고객명\"].apply(lambda x:x[:1]+\"\\u25CB\"+x[2:])\n",
    "    pool_credit_grt[\"고객식별번호\"] = pool_credit_grt[\"고객식별번호\"].apply(lambda x : x[:8]+\"*\"*len(x[8:]))\n",
    "    pool_종료 = pool_종료[[\"순번\",\"채무자키\",\"계좌키\",\"채무상태\",\"성명\",\"주민등록번호\"]]\n",
    "    pool_종료[\"성명\"] = pool_종료[\"성명\"].apply(lambda x:x[:1]+\"\\u25CB\"+x[2:])\n",
    "    pool_종료[\"주민등록번호\"] = pool_종료[\"주민등록번호\"].apply(lambda x : x[:8]+\"*\"*len(x[8:]))\n",
    "\n",
    "    wb = Workbook()\n",
    "    ws1 = wb.active\n",
    "    ws1.title = \"요약\"\n",
    "    ws2 = wb.create_sheet(\"무담보\")\n",
    "    ws3 = wb.create_sheet(\"개인회생_차주\")\n",
    "    ws4 = wb.create_sheet(\"개인회생_보증인\")\n",
    "    ws5 = wb.create_sheet(\"신용회복_차주\")\n",
    "    ws6 = wb.create_sheet(\"신용회복_보증인\")\n",
    "    ws7 = wb.create_sheet(\"종결\")\n",
    "\n",
    "    # 시트에 데이터 쓰기\n",
    "    for r in dataframe_to_rows(summary, index=True, header=True): ws1.append(r)\n",
    "    # a1에 구분 넣고 요약셀 2행 삭제\n",
    "    ws1['a1'] = \"구분\"\n",
    "    ws1.delete_rows(2)\n",
    "    \n",
    "    # 코멘트 작성하기\n",
    "    summary_comment(ws1, file_kind, comp_closing, basedate)\n",
    "\n",
    "    for r in dataframe_to_rows(pool_무담보, index=False, header=True): ws2.append(r)\n",
    "    for r in dataframe_to_rows(pool_re_d, index=False, header=True): ws3.append(r)\n",
    "    for r in dataframe_to_rows(pool_re_grt, index=False, header=True): ws4.append(r)\n",
    "    for r in dataframe_to_rows(pool_credit_d, index=False, header=True): ws5.append(r)\n",
    "    for r in dataframe_to_rows(pool_credit_grt, index=False, header=True): ws6.append(r)\n",
    "    for r in dataframe_to_rows(pool_종료, index=False, header=True): ws7.append(r)\n",
    "\n",
    "    # 스타일 지정\n",
    "    # 폰트\n",
    "    #font = Font(name='NN30', size=10, color='FF000000')\n",
    "    # 폰트 (데이터 부분)\n",
    "    font_data = Font(name='NN30', size=10)\n",
    "    # 배경색\n",
    "    fill = PatternFill(fill_type='solid', start_color='FF0072C6', end_color='FF0072C6')\n",
    "    # 테두리\n",
    "    border = Border(left=Side(style='thin'), right=Side(style='thin'), top=Side(style='thin'), bottom=Side(style='thin'))\n",
    "    # 정렬\n",
    "    alignment = Alignment(horizontal='center', vertical='center')\n",
    "\n",
    "    for ws in [ws1,ws2,ws3,ws4,ws5,ws6,ws7] :\n",
    "\n",
    "        # 컬럼명 스타일 적용\n",
    "        for cell in ws[1]: # 시트의 1행의 셀 반복\n",
    "            cell.font = Font(name='NN30', size=10, color='FFFFFF', bold=True)\n",
    "            cell.fill = fill\n",
    "            cell.border = border\n",
    "            cell.alignment = alignment\n",
    "\n",
    "        # 데이터 부분 스타일 적용\n",
    "        max_row = 10 if ws.title == \"요약\" else ws.max_row\n",
    "        for row in ws.iter_rows(min_row=2, max_row=max_row):\n",
    "            for cell in row:\n",
    "                # 숫자 데이터인 경우\n",
    "                if isinstance(cell.value, (int, float)):\n",
    "                    cell.font = font_data\n",
    "                    cell.number_format = '#,##0' if isinstance(cell.value, int) else '#,##0.00'\n",
    "                    cell.alignment = Alignment(horizontal='right', vertical='center')\n",
    "                # 날짜 데이터인 경우\n",
    "                elif isinstance(cell.value, pd.Timestamp):\n",
    "                    cell.font = font_data\n",
    "                    cell.number_format = 'yyyy-mm-dd'\n",
    "                    cell.alignment = alignment\n",
    "                # 나머지 문자열 데이터인 경우\n",
    "                else:\n",
    "                    cell.font = font_data\n",
    "                    cell.alignment = alignment\n",
    "                cell.border = border\n",
    "        \n",
    "    # 요약시트 \"계(종료제외)\" 배경색\n",
    "    for cell in ws1[10]:\n",
    "        cell.fill = PatternFill(fill_type='solid', start_color='B8CCE4', end_color='B8CCE4')\n",
    "\n",
    "    # 요약시트 나머지행 글자크기\n",
    "    for row in ws1.iter_rows(min_row=10, max_row=max_row) :\n",
    "        for cell in row : \n",
    "            cell.font = Font(name='NN30', size=10)\n",
    "\n",
    "    # 요약시트 컬럼 너비 지정하기(단위는 char임)\n",
    "    set_col_width_ws1(ws1)\n",
    "    \n",
    "    # 파일 저장\n",
    "    wb.save(join(output_dir, pool_kind+\"_데이터_\"+basedate+\"_\"+file_kind+\".xlsx\"))\n"
   ]
  },
  {
   "attachments": {},
   "cell_type": "markdown",
   "metadata": {},
   "source": [
    "### 인적속성 - 다중채무, 다중담당 체크하기"
   ]
  },
  {
   "cell_type": "code",
   "execution_count": null,
   "metadata": {},
   "outputs": [],
   "source": [
    "####전산_check_전체계좌.ipynb 에도 있음\n",
    "account = pd.read_pickle(r\"D:\\3.자산\\전산 dataset\\230430\\계좌조회새창_20230502_0847.pkl\")\n",
    "new_debtKey = pd.read_pickle(r\"C:\\Users\\SL\\Desktop\\workspace\\python\\fileNaming\\파일\\새채무자키.pkl\")[[\"새채무자키\",\"채무자키\",\"계좌키\"]]\n",
    "# 새채무자키 병합하기\n",
    "account.drop(account[account.채무자명==\"예수금\"].index, inplace=True)\n",
    "account = pd.merge(account, new_debtKey[[\"계좌키\",\"새채무자키\",]], on='계좌키', how='left')\n",
    "\n",
    "# 필요열만 새로운 df로 & 정렬\n",
    "new_debtKey = account[[\"새채무자키\", '채무자키','계좌키','채무상태','담당자']].copy()\n",
    "new_debtKey.sort_values(['새채무자키', '채무자키', '계좌키'], inplace=True)\n",
    "\n",
    "###### multi_index : 조작하기는 어렵고, 엑셀로 보낼때 자동으로 병합이 되어서 보기는 좋음\n",
    "x = account.set_index(['새채무자키','채무자키','계좌키'],drop=True)[\"채무상태\"]\n",
    "# 다중채무, 다중담당 T/F값 입력\n",
    "x = new_debtKey.groupby('새채무자키')\n",
    "new_debtKey['다중채무상태여부'] = x['채무상태'].transform(lambda s: np.any(s != s.iloc[0]))\n",
    "new_debtKey['다중담당여부'] = x['담당자'].transform(lambda s: np.any(s != s.iloc[0]))\n",
    "# 다중인 것들만 \n",
    "check = new_debtKey[new_debtKey[\"다중채무상태여부\"] | new_debtKey['다중담당여부']].copy()\n",
    "# index설정\n",
    "gc = check.set_index(['새채무자키', '채무자키'], drop=True)\n",
    "#저장\n",
    "gc.to_excel(r\"c://Users/SL/Desktop/check_채무상태(병합).xlsx\")"
   ]
  },
  {
   "attachments": {},
   "cell_type": "markdown",
   "metadata": {},
   "source": [
    "### 끝"
   ]
  },
  {
   "cell_type": "code",
   "execution_count": null,
   "metadata": {},
   "outputs": [],
   "source": []
  },
  {
   "cell_type": "code",
   "execution_count": null,
   "metadata": {},
   "outputs": [],
   "source": []
  },
  {
   "cell_type": "code",
   "execution_count": null,
   "metadata": {},
   "outputs": [],
   "source": []
  },
  {
   "cell_type": "code",
   "execution_count": null,
   "metadata": {},
   "outputs": [],
   "source": []
  },
  {
   "cell_type": "code",
   "execution_count": null,
   "metadata": {},
   "outputs": [],
   "source": []
  },
  {
   "cell_type": "code",
   "execution_count": null,
   "metadata": {},
   "outputs": [],
   "source": []
  },
  {
   "cell_type": "code",
   "execution_count": null,
   "metadata": {},
   "outputs": [],
   "source": []
  },
  {
   "cell_type": "code",
   "execution_count": null,
   "metadata": {},
   "outputs": [],
   "source": []
  },
  {
   "cell_type": "code",
   "execution_count": null,
   "metadata": {},
   "outputs": [],
   "source": [
    "############## 끝 ###################"
   ]
  },
  {
   "cell_type": "code",
   "execution_count": null,
   "metadata": {},
   "outputs": [],
   "source": []
  },
  {
   "cell_type": "code",
   "execution_count": null,
   "metadata": {},
   "outputs": [],
   "source": []
  },
  {
   "cell_type": "code",
   "execution_count": 176,
   "metadata": {},
   "outputs": [],
   "source": [
    "path = r\"D:\\3.자산\\전산 dataset\\대성\\POOL1_OK저축\"\n",
    "file = \"1. OK저축은행_전체계좌_230316_완.xlsx\"\n",
    "raw = pd.read_excel(join(path,file), sheet_name=\"Sheet1\", dtype={'채무자키':str, '계좌키':str}).fillna('')"
   ]
  },
  {
   "cell_type": "code",
   "execution_count": 177,
   "metadata": {},
   "outputs": [
    {
     "data": {
      "text/html": [
       "<div>\n",
       "<style scoped>\n",
       "    .dataframe tbody tr th:only-of-type {\n",
       "        vertical-align: middle;\n",
       "    }\n",
       "\n",
       "    .dataframe tbody tr th {\n",
       "        vertical-align: top;\n",
       "    }\n",
       "\n",
       "    .dataframe thead th {\n",
       "        text-align: right;\n",
       "    }\n",
       "</style>\n",
       "<table border=\"1\" class=\"dataframe\">\n",
       "  <thead>\n",
       "    <tr style=\"text-align: right;\">\n",
       "      <th></th>\n",
       "      <th>채무자키</th>\n",
       "      <th>계좌키</th>\n",
       "      <th>구분</th>\n",
       "      <th>채무자키중복</th>\n",
       "      <th>계좌키중복</th>\n",
       "    </tr>\n",
       "  </thead>\n",
       "  <tbody>\n",
       "    <tr>\n",
       "      <th>0</th>\n",
       "      <td>10622620</td>\n",
       "      <td>1568579</td>\n",
       "      <td>무담보</td>\n",
       "      <td>1</td>\n",
       "      <td>1</td>\n",
       "    </tr>\n",
       "    <tr>\n",
       "      <th>1</th>\n",
       "      <td>10622627</td>\n",
       "      <td>1570572</td>\n",
       "      <td>무담보</td>\n",
       "      <td>1</td>\n",
       "      <td>1</td>\n",
       "    </tr>\n",
       "    <tr>\n",
       "      <th>2</th>\n",
       "      <td>10622640</td>\n",
       "      <td>1572061</td>\n",
       "      <td>무담보</td>\n",
       "      <td>1</td>\n",
       "      <td>1</td>\n",
       "    </tr>\n",
       "    <tr>\n",
       "      <th>3</th>\n",
       "      <td>10622644</td>\n",
       "      <td>1572198</td>\n",
       "      <td>무담보</td>\n",
       "      <td>1</td>\n",
       "      <td>1</td>\n",
       "    </tr>\n",
       "    <tr>\n",
       "      <th>4</th>\n",
       "      <td>10622646</td>\n",
       "      <td>1568537</td>\n",
       "      <td>무담보</td>\n",
       "      <td>1</td>\n",
       "      <td>1</td>\n",
       "    </tr>\n",
       "    <tr>\n",
       "      <th>...</th>\n",
       "      <td>...</td>\n",
       "      <td>...</td>\n",
       "      <td>...</td>\n",
       "      <td>...</td>\n",
       "      <td>...</td>\n",
       "    </tr>\n",
       "    <tr>\n",
       "      <th>1638</th>\n",
       "      <td>10625674</td>\n",
       "      <td>1572044</td>\n",
       "      <td>종결</td>\n",
       "      <td>1</td>\n",
       "      <td>1</td>\n",
       "    </tr>\n",
       "    <tr>\n",
       "      <th>1639</th>\n",
       "      <td>10623511</td>\n",
       "      <td>1572045</td>\n",
       "      <td>종결</td>\n",
       "      <td>1</td>\n",
       "      <td>1</td>\n",
       "    </tr>\n",
       "    <tr>\n",
       "      <th>1640</th>\n",
       "      <td>10622856</td>\n",
       "      <td>1572175</td>\n",
       "      <td>종결</td>\n",
       "      <td>1</td>\n",
       "      <td>1</td>\n",
       "    </tr>\n",
       "    <tr>\n",
       "      <th>1641</th>\n",
       "      <td>10625757</td>\n",
       "      <td>1572231</td>\n",
       "      <td>종결</td>\n",
       "      <td>1</td>\n",
       "      <td>1</td>\n",
       "    </tr>\n",
       "    <tr>\n",
       "      <th>1642</th>\n",
       "      <td>10622865</td>\n",
       "      <td>1572244</td>\n",
       "      <td>종결</td>\n",
       "      <td>1</td>\n",
       "      <td>1</td>\n",
       "    </tr>\n",
       "  </tbody>\n",
       "</table>\n",
       "<p>1643 rows × 5 columns</p>\n",
       "</div>"
      ],
      "text/plain": [
       "          채무자키      계좌키   구분  채무자키중복  계좌키중복\n",
       "0     10622620  1568579  무담보       1      1\n",
       "1     10622627  1570572  무담보       1      1\n",
       "2     10622640  1572061  무담보       1      1\n",
       "3     10622644  1572198  무담보       1      1\n",
       "4     10622646  1568537  무담보       1      1\n",
       "...        ...      ...  ...     ...    ...\n",
       "1638  10625674  1572044   종결       1      1\n",
       "1639  10623511  1572045   종결       1      1\n",
       "1640  10622856  1572175   종결       1      1\n",
       "1641  10625757  1572231   종결       1      1\n",
       "1642  10622865  1572244   종결       1      1\n",
       "\n",
       "[1643 rows x 5 columns]"
      ]
     },
     "execution_count": 177,
     "metadata": {},
     "output_type": "execute_result"
    }
   ],
   "source": [
    "raw"
   ]
  },
  {
   "cell_type": "code",
   "execution_count": 179,
   "metadata": {},
   "outputs": [],
   "source": [
    "pool = raw.groupby('채무자키')['구분'].apply(lambda x: ','.join(x.unique())) # 고유값만 남기려면 join의 매개변수로 x.unique()를 사용\n",
    "pool.to_excel(join(path, \"xxx.xlsx\"))"
   ]
  },
  {
   "cell_type": "code",
   "execution_count": 11,
   "metadata": {},
   "outputs": [],
   "source": []
  },
  {
   "cell_type": "code",
   "execution_count": 12,
   "metadata": {},
   "outputs": [
    {
     "data": {
      "text/plain": [
       "4445"
      ]
     },
     "execution_count": 12,
     "metadata": {},
     "output_type": "execute_result"
    }
   ],
   "source": [
    "len(raw)"
   ]
  },
  {
   "cell_type": "code",
   "execution_count": 13,
   "metadata": {},
   "outputs": [],
   "source": [
    "raw.to_excel(join(path, \"채무자별.xlsx\"), index=False)"
   ]
  },
  {
   "cell_type": "code",
   "execution_count": null,
   "metadata": {},
   "outputs": [],
   "source": []
  },
  {
   "attachments": {},
   "cell_type": "markdown",
   "metadata": {},
   "source": [
    "# 이전 파일"
   ]
  },
  {
   "cell_type": "code",
   "execution_count": 2,
   "metadata": {},
   "outputs": [
    {
     "name": "stdout",
     "output_type": "stream",
     "text": [
      "78158\n"
     ]
    }
   ],
   "source": [
    "path_dir_excel = r\"D:\\3.자산\\전산 dataset\\230409(일)\"\n",
    "filename_excel = r\"2.솔림헬프_전체_원데이터_230411.xlsx\"\n",
    "df = pd.read_excel(join(path_dir_excel, filename_excel)).fillna(\"\")\n",
    "df[\"계좌키\"] = df[\"계좌키\"].apply(str)\n",
    "df[\"채무자키\"] = df[\"채무자키\"].apply(str)\n",
    "total = len(df.index)\n",
    "print(total)"
   ]
  },
  {
   "cell_type": "code",
   "execution_count": null,
   "metadata": {},
   "outputs": [],
   "source": [
    "# 관리여부 : 종료, 종료(면책), 정상(넓은범위) 작성중..\n",
    "# 관리여부 = []\n",
    "# for i, v in df.iterrows() :\n",
    "#     if re.search(\"종결|매각|환매\", v.채무상태) :\n",
    "#         관리여부.append(\"종료\")\n",
    "#     elif re.search(\"면책\", v.채무상태) :\n",
    "#         if v.보증인상태 == \"\" :\n",
    "#             관리여부.append(\"종료(면책)\")\n",
    "            "
   ]
  },
  {
   "cell_type": "code",
   "execution_count": 55,
   "metadata": {},
   "outputs": [
    {
     "name": "stdout",
     "output_type": "stream",
     "text": [
      "<class 'pandas.core.frame.DataFrame'>\n",
      "RangeIndex: 78157 entries, 0 to 78156\n",
      "Data columns (total 9 columns):\n",
      " #   Column  Non-Null Count  Dtype \n",
      "---  ------  --------------  ----- \n",
      " 0   계좌키     78157 non-null  object\n",
      " 1   채무자키    78157 non-null  object\n",
      " 2   채권구분    78157 non-null  object\n",
      " 3   일부조정    78157 non-null  object\n",
      " 4   차주신복여부  78157 non-null  bool  \n",
      " 5   차주개회여부  78157 non-null  bool  \n",
      " 6   정상/종료   78157 non-null  object\n",
      " 7   채무상태    78157 non-null  object\n",
      " 8   보증인상태   78157 non-null  object\n",
      "dtypes: bool(2), object(7)\n",
      "memory usage: 4.3+ MB\n"
     ]
    }
   ],
   "source": [
    "df.info()"
   ]
  },
  {
   "cell_type": "code",
   "execution_count": null,
   "metadata": {},
   "outputs": [],
   "source": []
  },
  {
   "cell_type": "code",
   "execution_count": 52,
   "metadata": {},
   "outputs": [
    {
     "name": "stdout",
     "output_type": "stream",
     "text": [
      "요소의 개수가 0인 리스트입니다.\n"
     ]
    }
   ],
   "source": [
    "my_list = ['']\n",
    "new_list = list(filter(lambda x: x != \"\", my_list))\n",
    "if len(new_list) == 0:\n",
    "    print(\"요소의 개수가 0인 리스트입니다.\")\n",
    "else:\n",
    "    print(new_list)"
   ]
  },
  {
   "attachments": {},
   "cell_type": "markdown",
   "metadata": {},
   "source": [
    "### 전체원데이터"
   ]
  },
  {
   "cell_type": "code",
   "execution_count": 2,
   "metadata": {},
   "outputs": [],
   "source": [
    "# 채무자키 20409775 2301 > 2031년으로 수정해야함 안그럼 에러 아래 날짜변경에서 에러남##############\n",
    "# 엑셀을 pickle파일로\n",
    "wd = r'D:\\3.자산\\전산 dataset\\230423\\temp'\n",
    "for f in os.listdir(wd) :\n",
    "    if os.path.isfile(join(wd,f)) :\n",
    "        if re.search(\".xlsx\", f) :\n",
    "            df = pd.read_excel(join(wd, f)).fillna(\"\")\n",
    "            df.to_pickle(join(wd, os.path.splitext(f)[0]+\".pkl\"))"
   ]
  },
  {
   "cell_type": "code",
   "execution_count": 3,
   "metadata": {},
   "outputs": [],
   "source": [
    "# 파일 명칭 자동 저장\n",
    "account_f, debt_f, grt_f, law_f, collection_f = \"\", \"\", \"\", \"\", \"\"\n",
    "for root, dirs, files in os.walk(wd) :\n",
    "    for f in files :\n",
    "        if re.search(\".pkl\", f) :\n",
    "            if re.search(\"계좌\",f) : account_f = f\n",
    "            elif re.search(\"채무자\",f) : debt_f = f\n",
    "            elif re.search(\"보증인\",f) : grt_f = f\n",
    "            elif re.search(\"법조치\",f) : law_f = f\n",
    "            elif re.search(\"입금\",f) : collection_f = f"
   ]
  },
  {
   "cell_type": "code",
   "execution_count": 4,
   "metadata": {},
   "outputs": [
    {
     "name": "stdout",
     "output_type": "stream",
     "text": [
      "78157 70795\n"
     ]
    }
   ],
   "source": [
    "account = pd.read_pickle(join(wd, account_f))\n",
    "debt = pd.read_pickle(join(wd, debt_f))\n",
    "#collection = pd.read_pickle(join(wd,collection_f))\n",
    "############################\n",
    "# 매각사 = \"전북은행\"\n",
    "# account = account[account.매각사.str.contains(매각사)]\n",
    "# debt = debt[debt.매각사.str.contains(매각사)]\n",
    "############################\n",
    "print(len(account), len(debt))"
   ]
  },
  {
   "cell_type": "code",
   "execution_count": 5,
   "metadata": {},
   "outputs": [],
   "source": [
    "# 채무자키 20409775 2301 > 2031년으로 수정해야함 안그럼 에러\n",
    "# account.시효완성일 = pd.to_datetime(account.시효완성일)\n",
    "# collection.입금일 = pd.to_datetime(collection.입금일)"
   ]
  },
  {
   "cell_type": "code",
   "execution_count": 5,
   "metadata": {},
   "outputs": [],
   "source": [
    "raw_data = pd.DataFrame(None)\n",
    "raw_data[\"채무자키\"] = account.채무자키.apply(str)\n",
    "raw_data[\"계좌키\"] = account.계좌키.apply(str)\n",
    "raw_data[\"타채무자키\"] = account.타채무자키.apply(str)\n",
    "\n",
    "raw_data[\"채권구분\"] = account.채권구분\n",
    "#raw_data[\"매각사\"] = account.매각사\n",
    "raw_data[\"채무상태\"] = account.채무상태\n",
    "raw_data[\"담당자\"] = account.담당자\n",
    "raw_data[\"성명\"] = account.채무자명\n",
    "\n",
    "raw_data[\"주민등록번호\"] = account.채무자주민번호.apply(lambda x : x[:8])\n",
    "raw_data[\"계좌번호\"] = account.계좌번호\n",
    "raw_data[\"원채권사\"] = account.원채권사\n",
    "raw_data[\"매각사구분\"] = account.매각사구분\n",
    "raw_data[\"계정과목\"] = account.계정과목\n",
    "raw_data[\"최초원금\"] = account.최초원금\n",
    "raw_data[\"최초법비용\"] = account.최초법비용\n",
    "raw_data[\"최초미수이자\"] = account.최초미수이자\n",
    "raw_data[\"최초연체이자율\"] = account.최초연체이자율\n",
    "raw_data[\"현재원금\"] = account.현재원금\n",
    "raw_data[\"현재법비용\"] = account.현재법비용\n",
    "raw_data[\"OPB\"] = account[[\"현재원금\",\"현재법비용\"]].sum(axis=1)\n",
    "raw_data[\"현재미수이자\"] = account.현재미수이자\n",
    "raw_data[\"현재연체이자\"] = account.현재연체이자\n",
    "raw_data[\"현재합계\"] = account.현재합계\n",
    "raw_data[\"회수합계\"] = account.회수합계\n",
    "raw_data[\"최초대출일\"] = account.최초대출일\n",
    "raw_data[\"최초연체일\"] = account.최초연체일 # 없는 경우도 있음\n",
    "raw_data[\"매입일\"] = account.매입일\n",
    "raw_data[\"시효완성일\"] = account.시효완성일"
   ]
  },
  {
   "cell_type": "code",
   "execution_count": 6,
   "metadata": {},
   "outputs": [
    {
     "data": {
      "text/plain": [
       "False    78157\n",
       "Name: 개인법인, dtype: int64"
      ]
     },
     "execution_count": 6,
     "metadata": {},
     "output_type": "execute_result"
    }
   ],
   "source": [
    "debt.채무자키 = debt.채무자키.apply(str)\n",
    "debt = debt[[\"채무자키\", \"개인법인\", \"연령\", \"자택우편번호\", \"자택주소\",\"보증인성명\", \"보증인상태\"]]\n",
    "raw_data = pd.merge(raw_data, debt, on=\"채무자키\", how=\"inner\")\n",
    "raw_data.개인법인.isnull().value_counts()"
   ]
  },
  {
   "cell_type": "code",
   "execution_count": 7,
   "metadata": {},
   "outputs": [],
   "source": [
    "# 전체 저장하기\n",
    "raw_data.to_excel(join(wd, \"2.솔림헬프_전체_원데이터_\"+datetime.today().strftime(\"%y%m%d\")+\".xlsx\"), index=False)"
   ]
  },
  {
   "cell_type": "code",
   "execution_count": 15,
   "metadata": {},
   "outputs": [],
   "source": [
    "# 특정 매각사만 저장하기\n",
    "cond = \"스마트저축-01\" ###################################\n",
    "raw_data[raw_data.매각사구분==cond].to_excel(join(wd, cond+\"_\"+datetime.today().strftime(\"%Y%m%d\")+\".xlsx\"), index=False)"
   ]
  },
  {
   "attachments": {},
   "cell_type": "markdown",
   "metadata": {},
   "source": [
    "### 전체 원데이터에서 채무자키, 계좌키 추출하기"
   ]
  },
  {
   "cell_type": "code",
   "execution_count": 9,
   "metadata": {},
   "outputs": [],
   "source": [
    "# 파일 읽기\n",
    "df_all = raw_data\n",
    "# # 또는\n",
    "# df_all = pd.read_excel(join(wd, \"2.2.솔림헬프_전체_원데이터_20230223.xlsx\"))"
   ]
  },
  {
   "cell_type": "code",
   "execution_count": 21,
   "metadata": {},
   "outputs": [],
   "source": [
    "##################\n",
    "keyListFile = \"POO8채무자키리스트\" # 채무자키 또는 계좌키 칼럼명과 그 리스트만 있는 엑셀파일 ex) pool1\n",
    "keyName = \"채무자키\"\n",
    "##################\n",
    "keys = pd.read_excel(join(wd, keyListFile+\".xlsx\"))[\"채무자키\"].astype(str)"
   ]
  },
  {
   "cell_type": "code",
   "execution_count": 23,
   "metadata": {},
   "outputs": [],
   "source": [
    "result = pd.merge(keys, df_all, how=\"left\")\n",
    "result.to_excel(join(wd, \"2.\"+keyListFile+\"_원데이터_\"+datetime.today().strftime(\"%y%m%d\")+\".xlsx\"), index=False)"
   ]
  },
  {
   "attachments": {},
   "cell_type": "markdown",
   "metadata": {},
   "source": [
    "### 차입자산 POOL별 중복확인"
   ]
  },
  {
   "cell_type": "code",
   "execution_count": 102,
   "metadata": {},
   "outputs": [],
   "source": [
    "dfdf = pd.read_excel(join(r\"D:\\3.자산\\POOL별 관리자산\\무차입자산\\참고\\P5 DataDisk 수정후,by채무자키_230303\",\"1.차입자산 리스트.xlsx\"))"
   ]
  },
  {
   "cell_type": "code",
   "execution_count": 109,
   "metadata": {},
   "outputs": [],
   "source": [
    "중복 = dfdf[dfdf.duplicated(['채무자키'],keep=False)].sort_values(['채무자키','POOL_NO']) # 이렇게 해야 1-8, 8-1 이 안나오고 1-8로만\n",
    "#.to_excel(join(r\"D:\\3.자산\\POOL별 관리자산\\무차입자산\",\"중복체크.xlsx\"), index=False)"
   ]
  },
  {
   "cell_type": "code",
   "execution_count": 110,
   "metadata": {},
   "outputs": [],
   "source": [
    "#중복[\"계좌키\"] = 중복[\"계좌키\"].astype(int).astype(str)\n",
    "중복[\"채무자키\"] = 중복[\"채무자키\"].astype(int).astype(str)\n",
    "중복[\"반복횟수\"] = 중복.groupby(['채무자키'])['POOL_NO'].transform('count')"
   ]
  },
  {
   "cell_type": "code",
   "execution_count": 111,
   "metadata": {},
   "outputs": [
    {
     "data": {
      "text/html": [
       "<div>\n",
       "<style scoped>\n",
       "    .dataframe tbody tr th:only-of-type {\n",
       "        vertical-align: middle;\n",
       "    }\n",
       "\n",
       "    .dataframe tbody tr th {\n",
       "        vertical-align: top;\n",
       "    }\n",
       "\n",
       "    .dataframe thead th {\n",
       "        text-align: right;\n",
       "    }\n",
       "</style>\n",
       "<table border=\"1\" class=\"dataframe\">\n",
       "  <thead>\n",
       "    <tr style=\"text-align: right;\">\n",
       "      <th></th>\n",
       "      <th>채무자키</th>\n",
       "      <th>POOL_NO</th>\n",
       "      <th>최종본</th>\n",
       "      <th>반복횟수</th>\n",
       "    </tr>\n",
       "  </thead>\n",
       "  <tbody>\n",
       "    <tr>\n",
       "      <th>62644</th>\n",
       "      <td>20407795</td>\n",
       "      <td>POOL_05</td>\n",
       "      <td>NaN</td>\n",
       "      <td>2</td>\n",
       "    </tr>\n",
       "    <tr>\n",
       "      <th>62643</th>\n",
       "      <td>20407795</td>\n",
       "      <td>POOL_08</td>\n",
       "      <td>X</td>\n",
       "      <td>2</td>\n",
       "    </tr>\n",
       "    <tr>\n",
       "      <th>62626</th>\n",
       "      <td>20407813</td>\n",
       "      <td>POOL_01</td>\n",
       "      <td>X</td>\n",
       "      <td>2</td>\n",
       "    </tr>\n",
       "    <tr>\n",
       "      <th>62625</th>\n",
       "      <td>20407813</td>\n",
       "      <td>POOL_05</td>\n",
       "      <td>NaN</td>\n",
       "      <td>2</td>\n",
       "    </tr>\n",
       "    <tr>\n",
       "      <th>62602</th>\n",
       "      <td>20407840</td>\n",
       "      <td>POOL_01</td>\n",
       "      <td>X</td>\n",
       "      <td>2</td>\n",
       "    </tr>\n",
       "    <tr>\n",
       "      <th>...</th>\n",
       "      <td>...</td>\n",
       "      <td>...</td>\n",
       "      <td>...</td>\n",
       "      <td>...</td>\n",
       "    </tr>\n",
       "    <tr>\n",
       "      <th>12108</th>\n",
       "      <td>20466470</td>\n",
       "      <td>POOL_14</td>\n",
       "      <td>NaN</td>\n",
       "      <td>2</td>\n",
       "    </tr>\n",
       "    <tr>\n",
       "      <th>11900</th>\n",
       "      <td>20469120</td>\n",
       "      <td>POOL_02</td>\n",
       "      <td>NaN</td>\n",
       "      <td>2</td>\n",
       "    </tr>\n",
       "    <tr>\n",
       "      <th>11899</th>\n",
       "      <td>20469120</td>\n",
       "      <td>POOL_06</td>\n",
       "      <td>NaN</td>\n",
       "      <td>2</td>\n",
       "    </tr>\n",
       "    <tr>\n",
       "      <th>11694</th>\n",
       "      <td>20469325</td>\n",
       "      <td>POOL_02</td>\n",
       "      <td>NaN</td>\n",
       "      <td>2</td>\n",
       "    </tr>\n",
       "    <tr>\n",
       "      <th>11693</th>\n",
       "      <td>20469325</td>\n",
       "      <td>POOL_06</td>\n",
       "      <td>NaN</td>\n",
       "      <td>2</td>\n",
       "    </tr>\n",
       "  </tbody>\n",
       "</table>\n",
       "<p>880 rows × 4 columns</p>\n",
       "</div>"
      ],
      "text/plain": [
       "           채무자키  POOL_NO  최종본  반복횟수\n",
       "62644  20407795  POOL_05  NaN     2\n",
       "62643  20407795  POOL_08    X     2\n",
       "62626  20407813  POOL_01    X     2\n",
       "62625  20407813  POOL_05  NaN     2\n",
       "62602  20407840  POOL_01    X     2\n",
       "...         ...      ...  ...   ...\n",
       "12108  20466470  POOL_14  NaN     2\n",
       "11900  20469120  POOL_02  NaN     2\n",
       "11899  20469120  POOL_06  NaN     2\n",
       "11694  20469325  POOL_02  NaN     2\n",
       "11693  20469325  POOL_06  NaN     2\n",
       "\n",
       "[880 rows x 4 columns]"
      ]
     },
     "execution_count": 111,
     "metadata": {},
     "output_type": "execute_result"
    }
   ],
   "source": [
    "중복"
   ]
  },
  {
   "cell_type": "code",
   "execution_count": 112,
   "metadata": {},
   "outputs": [
    {
     "data": {
      "text/html": [
       "<div>\n",
       "<style scoped>\n",
       "    .dataframe tbody tr th:only-of-type {\n",
       "        vertical-align: middle;\n",
       "    }\n",
       "\n",
       "    .dataframe tbody tr th {\n",
       "        vertical-align: top;\n",
       "    }\n",
       "\n",
       "    .dataframe thead th {\n",
       "        text-align: right;\n",
       "    }\n",
       "</style>\n",
       "<table border=\"1\" class=\"dataframe\">\n",
       "  <thead>\n",
       "    <tr style=\"text-align: right;\">\n",
       "      <th></th>\n",
       "      <th>채무자키</th>\n",
       "      <th>POOL_NO</th>\n",
       "      <th>최종본</th>\n",
       "      <th>반복횟수</th>\n",
       "    </tr>\n",
       "  </thead>\n",
       "  <tbody>\n",
       "    <tr>\n",
       "      <th>0</th>\n",
       "      <td>20407795</td>\n",
       "      <td>POOL_05</td>\n",
       "      <td>NaN</td>\n",
       "      <td>2</td>\n",
       "    </tr>\n",
       "    <tr>\n",
       "      <th>1</th>\n",
       "      <td>20407795</td>\n",
       "      <td>POOL_08</td>\n",
       "      <td>X</td>\n",
       "      <td>2</td>\n",
       "    </tr>\n",
       "    <tr>\n",
       "      <th>2</th>\n",
       "      <td>20407813</td>\n",
       "      <td>POOL_01</td>\n",
       "      <td>X</td>\n",
       "      <td>2</td>\n",
       "    </tr>\n",
       "    <tr>\n",
       "      <th>3</th>\n",
       "      <td>20407813</td>\n",
       "      <td>POOL_05</td>\n",
       "      <td>NaN</td>\n",
       "      <td>2</td>\n",
       "    </tr>\n",
       "    <tr>\n",
       "      <th>4</th>\n",
       "      <td>20407840</td>\n",
       "      <td>POOL_01</td>\n",
       "      <td>X</td>\n",
       "      <td>2</td>\n",
       "    </tr>\n",
       "    <tr>\n",
       "      <th>...</th>\n",
       "      <td>...</td>\n",
       "      <td>...</td>\n",
       "      <td>...</td>\n",
       "      <td>...</td>\n",
       "    </tr>\n",
       "    <tr>\n",
       "      <th>875</th>\n",
       "      <td>20466470</td>\n",
       "      <td>POOL_14</td>\n",
       "      <td>NaN</td>\n",
       "      <td>2</td>\n",
       "    </tr>\n",
       "    <tr>\n",
       "      <th>876</th>\n",
       "      <td>20469120</td>\n",
       "      <td>POOL_02</td>\n",
       "      <td>NaN</td>\n",
       "      <td>2</td>\n",
       "    </tr>\n",
       "    <tr>\n",
       "      <th>877</th>\n",
       "      <td>20469120</td>\n",
       "      <td>POOL_06</td>\n",
       "      <td>NaN</td>\n",
       "      <td>2</td>\n",
       "    </tr>\n",
       "    <tr>\n",
       "      <th>878</th>\n",
       "      <td>20469325</td>\n",
       "      <td>POOL_02</td>\n",
       "      <td>NaN</td>\n",
       "      <td>2</td>\n",
       "    </tr>\n",
       "    <tr>\n",
       "      <th>879</th>\n",
       "      <td>20469325</td>\n",
       "      <td>POOL_06</td>\n",
       "      <td>NaN</td>\n",
       "      <td>2</td>\n",
       "    </tr>\n",
       "  </tbody>\n",
       "</table>\n",
       "<p>880 rows × 4 columns</p>\n",
       "</div>"
      ],
      "text/plain": [
       "         채무자키  POOL_NO  최종본  반복횟수\n",
       "0    20407795  POOL_05  NaN     2\n",
       "1    20407795  POOL_08    X     2\n",
       "2    20407813  POOL_01    X     2\n",
       "3    20407813  POOL_05  NaN     2\n",
       "4    20407840  POOL_01    X     2\n",
       "..        ...      ...  ...   ...\n",
       "875  20466470  POOL_14  NaN     2\n",
       "876  20469120  POOL_02  NaN     2\n",
       "877  20469120  POOL_06  NaN     2\n",
       "878  20469325  POOL_02  NaN     2\n",
       "879  20469325  POOL_06  NaN     2\n",
       "\n",
       "[880 rows x 4 columns]"
      ]
     },
     "execution_count": 112,
     "metadata": {},
     "output_type": "execute_result"
    }
   ],
   "source": [
    "중복 = 중복.reset_index(drop=True, inplace=False)\n",
    "중복"
   ]
  },
  {
   "cell_type": "code",
   "execution_count": 66,
   "metadata": {},
   "outputs": [],
   "source": [
    "중복.to_excel(join(r\"D:\\3.자산\\POOL별 관리자산\\무차입자산\",\"중복체크.xlsx\"), index=False)"
   ]
  },
  {
   "cell_type": "code",
   "execution_count": 2,
   "metadata": {},
   "outputs": [
    {
     "data": {
      "text/html": [
       "<div>\n",
       "<style scoped>\n",
       "    .dataframe tbody tr th:only-of-type {\n",
       "        vertical-align: middle;\n",
       "    }\n",
       "\n",
       "    .dataframe tbody tr th {\n",
       "        vertical-align: top;\n",
       "    }\n",
       "\n",
       "    .dataframe thead th {\n",
       "        text-align: right;\n",
       "    }\n",
       "</style>\n",
       "<table border=\"1\" class=\"dataframe\">\n",
       "  <thead>\n",
       "    <tr style=\"text-align: right;\">\n",
       "      <th></th>\n",
       "      <th>계좌키</th>\n",
       "      <th>채무자키</th>\n",
       "      <th>POOL_</th>\n",
       "    </tr>\n",
       "  </thead>\n",
       "  <tbody>\n",
       "    <tr>\n",
       "      <th>0</th>\n",
       "      <td>200919485</td>\n",
       "      <td>20407790</td>\n",
       "      <td>POOL_05</td>\n",
       "    </tr>\n",
       "    <tr>\n",
       "      <th>1</th>\n",
       "      <td>200919485</td>\n",
       "      <td>20407790</td>\n",
       "      <td>POOL_05</td>\n",
       "    </tr>\n",
       "    <tr>\n",
       "      <th>2</th>\n",
       "      <td>200919497</td>\n",
       "      <td>20407882</td>\n",
       "      <td>POOL_05</td>\n",
       "    </tr>\n",
       "    <tr>\n",
       "      <th>3</th>\n",
       "      <td>200919497</td>\n",
       "      <td>20407882</td>\n",
       "      <td>POOL_08</td>\n",
       "    </tr>\n",
       "    <tr>\n",
       "      <th>4</th>\n",
       "      <td>200919997</td>\n",
       "      <td>20407883</td>\n",
       "      <td>POOL_01</td>\n",
       "    </tr>\n",
       "    <tr>\n",
       "      <th>...</th>\n",
       "      <td>...</td>\n",
       "      <td>...</td>\n",
       "      <td>...</td>\n",
       "    </tr>\n",
       "    <tr>\n",
       "      <th>1725</th>\n",
       "      <td>201046260</td>\n",
       "      <td>20515407</td>\n",
       "      <td>POOL_13</td>\n",
       "    </tr>\n",
       "    <tr>\n",
       "      <th>1726</th>\n",
       "      <td>201046280</td>\n",
       "      <td>20515427</td>\n",
       "      <td>POOL_13</td>\n",
       "    </tr>\n",
       "    <tr>\n",
       "      <th>1727</th>\n",
       "      <td>201046280</td>\n",
       "      <td>20515427</td>\n",
       "      <td>POOL_13</td>\n",
       "    </tr>\n",
       "    <tr>\n",
       "      <th>1728</th>\n",
       "      <td>201046336</td>\n",
       "      <td>20515483</td>\n",
       "      <td>POOL_13</td>\n",
       "    </tr>\n",
       "    <tr>\n",
       "      <th>1729</th>\n",
       "      <td>201046336</td>\n",
       "      <td>20515483</td>\n",
       "      <td>POOL_13</td>\n",
       "    </tr>\n",
       "  </tbody>\n",
       "</table>\n",
       "<p>1730 rows × 3 columns</p>\n",
       "</div>"
      ],
      "text/plain": [
       "            계좌키      채무자키    POOL_\n",
       "0     200919485  20407790  POOL_05\n",
       "1     200919485  20407790  POOL_05\n",
       "2     200919497  20407882  POOL_05\n",
       "3     200919497  20407882  POOL_08\n",
       "4     200919997  20407883  POOL_01\n",
       "...         ...       ...      ...\n",
       "1725  201046260  20515407  POOL_13\n",
       "1726  201046280  20515427  POOL_13\n",
       "1727  201046280  20515427  POOL_13\n",
       "1728  201046336  20515483  POOL_13\n",
       "1729  201046336  20515483  POOL_13\n",
       "\n",
       "[1730 rows x 3 columns]"
      ]
     },
     "execution_count": 2,
     "metadata": {},
     "output_type": "execute_result"
    }
   ],
   "source": [
    "중복 = pd.read_excel(r'D:\\3.자산\\POOL별 관리자산\\무차입자산\\중복체크.xlsx')\n",
    "중복"
   ]
  },
  {
   "cell_type": "code",
   "execution_count": 113,
   "metadata": {},
   "outputs": [],
   "source": [
    "채무자키, 반복횟수, 반복POOL = [], [], []\n",
    "이전채무자키 = \"\"\n",
    "for i, v in 중복.iterrows() :\n",
    "    if v.채무자키 != 이전채무자키 :\n",
    "        이전채무자키 = v.채무자키\n",
    "        채무자키.append(v.채무자키)\n",
    "        반복횟수.append(v.반복횟수)\n",
    "        반복POOL.append(list(중복.groupby('채무자키').get_group(v.채무자키).POOL_NO))\n",
    "\n",
    "result = pd.DataFrame({'채무자키':채무자키, '반복횟수':반복횟수, '반복POOL':반복POOL})\n",
    "result.to_excel(join(r\"D:\\3.자산\\POOL별 관리자산\\무차입자산\",\"중복체크_1.xlsx\"), index=False)"
   ]
  }
 ],
 "metadata": {
  "kernelspec": {
   "display_name": "base",
   "language": "python",
   "name": "python3"
  },
  "language_info": {
   "codemirror_mode": {
    "name": "ipython",
    "version": 3
   },
   "file_extension": ".py",
   "mimetype": "text/x-python",
   "name": "python",
   "nbconvert_exporter": "python",
   "pygments_lexer": "ipython3",
   "version": "3.9.13"
  },
  "orig_nbformat": 4,
  "vscode": {
   "interpreter": {
    "hash": "38d617750889899e5f2f65cac6f27a322f361a63d334879a800ee5491961f90c"
   }
  }
 },
 "nbformat": 4,
 "nbformat_minor": 2
}
