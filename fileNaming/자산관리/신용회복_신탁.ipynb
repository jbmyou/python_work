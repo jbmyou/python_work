{
 "cells": [
  {
   "cell_type": "markdown",
   "metadata": {},
   "source": [
    "### import\n",
    "- 솔림, 신탁 따로 업로드결과 파일 만들어서 읽기"
   ]
  },
  {
   "cell_type": "code",
   "execution_count": 1,
   "metadata": {},
   "outputs": [],
   "source": [
    "import os, re, pickle\n",
    "import pandas as pd\n",
    "import numpy as np\n",
    "from os.path import join\n",
    "from tqdm import tqdm\n",
    "import warnings\n",
    "warnings.simplefilter(\"ignore\")\n",
    "\n",
    "# dtype 정의 (사이트 파일은 읽지 말자. 할 게 너무 많음)\n",
    "# 나우리 타입 반영\n",
    "nauri_dtype = {\"채무자키\":str, \"계좌키\":str, '보증인키':str, '신용회복키' : str, \"계좌번호\":str, \"심의차수\":str, \"변제금수취계좌\":str}\n",
    "# # 신복 사이트 타입 반영\n",
    "# nauri_dtype = {'채무자키' : str, '계좌키' : str, '보증인키':str, '신용회복키' : str, '심의차수' : str, '조정전이율' : str, '조정후이율' : str, '총상환기간' : str, '유예기간' : str, '원금균등상환기간' : str, '원리균등상환기간' : str, '이자상환기간' : str, '납입회차' : str, '연체기간' : str, '원금균등시작회차' : str, '원금균등종료회차' : str, '원리균등시작회차' : str, '원리균등종료회차' : str, '이자상환시작회차' : str, '이자상환종료회차' : str, '감면율' : str, '주채무자주민번호' : str, '시작회차1' : str, '종료회차1' : str, '채무조정1적용이율1' : str, '채무조정2적용이율1' : str, '시작회차2' : str, '종료회차2' : str, '채무조정1적용이율2' : str, '채무조정2적용이율2' : str, '시작회차3' : str, '종료회차3' : str, '채무조정1적용이율3' : str, '채무조정2적용이율3' : str, '시작회차4' : str, '종료회차4' : str, '채무조정1적용이율4' : str, '채무조정2적용이율4' : str, '시작회차5' : str, '종료회차5' : str, '채무조정1적용이율5' : str, '채무조정2적용이율5' : str, '시작회차6' : str, '종료회차6' : str, '채무조정1적용이율6' : str, '채무조정2적용이율6' : str, '시작회차7' : str, '종료회차7' : str, '채무조정1적용이율7' : str, '채무조정2적용이율7' : str, '시작회차8' : str, '종료회차8' : str, '채무조정1적용이율8' : str, '채무조정2적용이율8' : str, '시작회차9' : str, '종료회차9' : str, '채무조정1적용이율9' : str, '채무조정2적용이율9' : str, '시작회차10' : str, '종료회차10' : str, '채무조정1적용이율10' : str, '채무조정2적용이율10' : str, '재조정횟수' : str, '수정조정횟수' : str, '일시납감면율' : str, '거치기간' : str, '체증전구간의시작회차' : str, '체증전구간의종료회차' : str, '체증전구간의기준기간' : str, '변제금수취계좌' : str, '담보권실행유예기간':str\n",
    "# }\n",
    "deposit_dtype = {'채무자키':str, '계좌키':str, '분납키':str, '담당자키':str, '일시납감면율':str, '계좌번호':str}\n",
    "account_dtype = {'채무자키':str, '계좌키':str, '타채무자키':str}"
   ]
  },
  {
   "cell_type": "code",
   "execution_count": 2,
   "metadata": {},
   "outputs": [],
   "source": [
    "# 계좌별 진행상황 파일 읽기\n",
    "path_base = r\"D:\\3.자산\\신용회복\\신용회복 전체데이터\\계좌별 진행상황\"\n",
    "########################################################\n",
    "basedate = \"240509\"\n",
    "fn_솔림 = basedate + \"_계좌별 진행상황 조회_솔림_업로드결과.xlsx\"\n",
    "fn_신탁 = basedate + \"_계좌별 진행상황 조회_신탁_업로드결과.xlsx\"\n",
    "########################################################\n",
    "\n",
    "# 계좌별 진행상황 조회 파일 읽기\n",
    "솔림_ori = pd.read_excel(join(path_base, fn_솔림), dtype=nauri_dtype).fillna(\"\")\n",
    "신탁_ori = pd.read_excel(join(path_base, fn_신탁), dtype=nauri_dtype).fillna(\"\")"
   ]
  },
  {
   "cell_type": "code",
   "execution_count": 3,
   "metadata": {},
   "outputs": [
    {
     "name": "stdout",
     "output_type": "stream",
     "text": [
      "풀계좌수 : 2731, 신탁계좌수 : 1014\n"
     ]
    }
   ],
   "source": [
    "# 풀 및 신탁계좌키 읽기\n",
    "#######################################################################################\n",
    "keys = pd.read_excel(r\"D:\\3.자산\\전산수정 LOG\\240509_계좌_P15_신탁_리파 담보제공처.xlsx\", dtype=str)\n",
    "\n",
    "풀계좌키 = keys.계좌키\n",
    "신탁계좌키 = keys.query('리파이낸싱.str.contains(\"신복\", na=False)').계좌키\n",
    "#######################################################################################\n",
    "print(f'풀계좌수 : {len(풀계좌키)}, 신탁계좌수 : {len(신탁계좌키)}')\n"
   ]
  },
  {
   "cell_type": "code",
   "execution_count": 4,
   "metadata": {},
   "outputs": [],
   "source": [
    "# 원본 복사\n",
    "솔림 = 솔림_ori.copy()\n",
    "신탁 = 신탁_ori.copy()"
   ]
  },
  {
   "cell_type": "code",
   "execution_count": 5,
   "metadata": {},
   "outputs": [],
   "source": [
    "# 현재채권사 열 추가\n",
    "솔림.insert(0, \"현재채권사\", \"솔림\")\n",
    "신탁.insert(0, \"현재채권사\", \"신탁\")\n",
    "\n",
    "# 병합\n",
    "raw = pd.concat([솔림, 신탁], axis=0, ignore_index=True)\n",
    "\n",
    "# 불필요한 열 삭제\n",
    "raw.drop(columns=[\"채무자명\",\"채무상태\", \"현재채권구분\",\"등록파일\",\"수정파일\", \"삭제여부\",\"등록일자\",\"등록유저\",\"수정일자\",\"수정유저\",\"확인결과\",\"저장결과\"], axis=1, inplace=True)\n",
    "\n",
    "# 새로운 열을 추가 : insert 여러번 쓰니 성능 경고나와서\n",
    "진행구분 = pd.Series([None] * len(raw), name='진행구분')\n",
    "반영OPB = pd.Series([None] * len(raw), name='반영OPB')\n",
    "상환구분 = pd.Series([None] * len(raw), name='상환구분')\n",
    "\n",
    "position = 5\n",
    "raw = pd.concat([raw.iloc[:, :position], 진행구분, 반영OPB, 상환구분, raw.iloc[:, position:]], axis=1)"
   ]
  },
  {
   "cell_type": "code",
   "execution_count": 6,
   "metadata": {},
   "outputs": [],
   "source": [
    "# 주민 계좌 중복건 : 전산에는 중복건 있더라도 신복위에서 받은 데이터에는 없는것이 당연\n",
    "raw[raw.duplicated(subset=[\"신청인주민번호\", \"계좌번호\"], keep=False)]\n",
    "\n",
    "# 진행구분열 작성-------------------------------\n",
    "x = raw.신청인진행상태\n",
    "y = raw.계좌진행상태내용\n",
    "z = raw.계좌번호\n",
    "\n",
    "conds = [\n",
    "    (x == '정상이행') & (y == '채무조정포함'),\n",
    "    (y == \"채무조정제외\"),\n",
    "    (x.str.contains(r\"완제|상환\") | y.str.contains(r\"완제|상환\") | z.str.contains(r\"완제|상환\")),\n",
    "    (z == \"채권신고전\"),\n",
    "    (x.str.contains(r\"심사반송|중도실효|합의서체결포기\")),\n",
    "]\n",
    "values = [\"확정\", \"채무조정제외\",\"완제\",\"채권신고전\",\"실효\"]\n",
    "default_value = \"미확정\"\n",
    "\n",
    "raw[\"진행구분\"] = np.select(conds, values, default_value)\n",
    "\n",
    "# 반영OPB - 확정미확정 건-------------------------------\n",
    "x = raw.진행구분\n",
    "# 확정시 우선순위\n",
    "a = raw.상환후잔액\n",
    "b = raw.원금균등채무액\n",
    "c= raw.조정후원금\n",
    "d = raw.조정전원금 + raw.조정전비용   # 조정정비용 추가 2024-04-03\n",
    "\n",
    "# 미확정-조정전원금0 은 이자채권으로 그냥 0이 맞다.\n",
    "conds = [(x == \"미확정\"), (x ==\"확정\")&(a!=0), b!=0, c!=0, d!=0]\n",
    "\n",
    "# 조건에 따라 값을 설정\n",
    "values = [d, a, b, c, d]\n",
    "\n",
    "# 기본값 설정\n",
    "default_value = np.nan\n",
    "\n",
    "# 반영OPB 열 설정\n",
    "raw[\"반영OPB\"] = np.select(conds, values, default_value)\n",
    "\n",
    "\n",
    "# 상환구분 작성 - 확정미확정 건-------------------------------\n",
    "x = raw.상환방식\n",
    "\n",
    "conds = [x.str.contains(\"원금균등\"), x.str.contains(\"원리금균등\")] #체증식(원금균등)이란게 있네..\n",
    "\n",
    "# 조건에 따라 값을 설정\n",
    "values = [\"개인\",\"프리\"]\n",
    "\n",
    "# 기본값 설정\n",
    "default_value = \"\" # 미확정\n",
    "\n",
    "# 반영OPB 열 설정\n",
    "raw[\"상환구분\"] = np.select(conds, values, default_value)"
   ]
  },
  {
   "cell_type": "code",
   "execution_count": 15,
   "metadata": {},
   "outputs": [
    {
     "name": "stdout",
     "output_type": "stream",
     "text": [
      "계좌키 없는 것 진행구분\n"
     ]
    },
    {
     "data": {
      "text/plain": [
       "진행구분\n",
       "완제    62\n",
       "실효    18\n",
       "Name: count, dtype: int64"
      ]
     },
     "execution_count": 15,
     "metadata": {},
     "output_type": "execute_result"
    }
   ],
   "source": [
    "최종 = raw.query('진행구분 in [\"확정\",\"미확정\",\"실효\",\"완제\"]').copy()\n",
    "최종.drop(최종[최종.채무자키=='전산미등록건'].index, inplace=True)\n",
    "\n",
    "# 확인\n",
    "print('계좌키 없는 것 진행구분')\n",
    "최종.query('계좌키==\"\"')[\"진행구분\"].value_counts()"
   ]
  },
  {
   "cell_type": "code",
   "execution_count": 16,
   "metadata": {},
   "outputs": [
    {
     "name": "stdout",
     "output_type": "stream",
     "text": [
      "신탁최종 건수 : 1014, 신탁최종,차주만 : 1014, 신탁건수 : 1014\n",
      "건수 이상 없음\n"
     ]
    }
   ],
   "source": [
    "# 신탁건만\n",
    "신탁최종 = 최종.query('계좌키.isin(@신탁계좌키)')\n",
    "count_신탁최종_차주 = len(신탁최종.query(\"채무구분=='주채무'\"))\n",
    "print(f'신탁최종 건수 : {len(신탁최종)}, 신탁최종,차주만 : {count_신탁최종_차주}, 신탁건수 : {len(신탁계좌키)}')\n",
    "if count_신탁최종_차주 != len(신탁계좌키) : \n",
    "    # [중요check] 신탁계약했는데 신복이 아닌 경우\n",
    "    display(신탁계좌키[~신탁계좌키.isin(최종.계좌키)])\n",
    "else : print(\"건수 이상 없음\")\n",
    "    \n",
    "\n",
    "# 채권자변경 넣기\n",
    "신탁최종.insert(1,\"채권자변경\", \"\")\n",
    "신탁최종.loc[신탁최종.query('현재채권사==\"솔림\" and ~진행구분.isin([\"실효\",\"완제\"])').index,[\"채권자변경\"]] = \"솔림to신탁\" # 양도\n",
    "신탁최종.loc[신탁최종.query('현재채권사==\"신탁\" and ~진행구분.isin([\"실효\",\"완제\"])').index, [\"채권자변경\"]] = \"유지\"\n",
    "신탁최종.loc[신탁최종.query('현재채권사==\"신탁\" and 진행구분.isin([\"실효\",\"완제\"])').index, [\"채권자변경\"]] = \"신탁to솔림_기준일이후실효완제\" # 양수\n",
    "신탁최종.loc[신탁최종.query('현재채권사==\"솔림\" and 진행구분.isin([\"실효\",\"완제\"])').index, [\"채권자변경\"]] = \"솔림유지_기준일이후실효완제\"\n",
    "\n",
    "# 신탁해지건, 신탁to솔림\n",
    "신탁해지건 = 최종.query('현재채권사==\"신탁\" and 계좌키.isin(@풀계좌키) and ~계좌키.isin(@신탁계좌키)') # 양수\n",
    "신탁해지건.insert(1, \"채권자변경\", \"신탁to솔림_신탁해지\")"
   ]
  },
  {
   "cell_type": "code",
   "execution_count": 22,
   "metadata": {},
   "outputs": [],
   "source": [
    "# 채권자 일괄변경\n",
    "솔림to신탁 = 신탁최종.query('채권자변경==\"솔림to신탁\"')[[\"신청인주민번호\",\"계좌번호\"]]\n",
    "신탁to솔림 = 신탁최종.query('채권자변경==\"신탁to솔림_기준일이후실효완제\"')[[\"신청인주민번호\",\"계좌번호\"]]\n",
    "신탁to솔림 = pd.concat([신탁to솔림, 신탁해지건[[\"신청인주민번호\", \"계좌번호\"]]], axis=0)\n",
    "\n",
    "# 솔림to신탁\n",
    "솔림to신탁[\"신청일\"] = \"20\" + basedate\n",
    "솔림to신탁[\"신청인주민번호\"] = 솔림to신탁.신청인주민번호.str.replace(\"-\", \"\")\n",
    "솔림to신탁[\"양도기관지로코드\"] = \"GB21146\" # 솔림\n",
    "솔림to신탁[\"변경구분코드\"] = \"630201\"\n",
    "솔림to신탁[\"양수기관기관코드\"] = \"GB22770\" # 신탁\n",
    "솔림to신탁[\"양수기관지로코드\"] = \"GB22770\"\n",
    "솔림to신탁 = 솔림to신탁[[\"신청일\", \"신청인주민번호\", \"양도기관지로코드\", \"변경구분코드\", \"양수기관기관코드\", \"양수기관지로코드\", \"계좌번호\"]]\n",
    "\n",
    "# 신탁to솔림\n",
    "신탁to솔림[\"신청일\"] = \"20\" + basedate\n",
    "신탁to솔림[\"신청인주민번호\"] = 신탁to솔림.신청인주민번호.str.replace(\"-\", \"\")\n",
    "신탁to솔림[\"양도기관지로코드\"] = \"GB22770\" # 신탁\n",
    "신탁to솔림[\"변경구분코드\"] = \"630201\"\n",
    "신탁to솔림[\"양수기관기관코드\"] = \"GB21146\" # 솔림\n",
    "신탁to솔림[\"양수기관지로코드\"] = \"GB21146\"\n",
    "신탁to솔림 = 신탁to솔림[[\"신청일\", \"신청인주민번호\", \"양도기관지로코드\", \"변경구분코드\", \"양수기관기관코드\", \"양수기관지로코드\", \"계좌번호\"]]"
   ]
  },
  {
   "cell_type": "code",
   "execution_count": 23,
   "metadata": {},
   "outputs": [],
   "source": [
    "# 파일저장 : 업로드용csv\n",
    "솔림to신탁.to_csv(join(path_base, \"채권자 일괄변경_카카오_양도(솔림to신탁).csv\"), header=False, index=False, encoding='euc-kr')\n",
    "신탁to솔림.to_csv(join(path_base, \"채권자 일괄변경_카카오_양수(신탁to솔림).csv\"), header=False, index=False, encoding='euc-kr')"
   ]
  },
  {
   "cell_type": "code",
   "execution_count": 18,
   "metadata": {},
   "outputs": [],
   "source": [
    "# 파일저장 : 확인용 >> 비식별처리. 채권자변경파일 만든 후에 해야 함.\n",
    "신탁최종[\"신청인주민번호\"] = 신탁최종[\"신청인주민번호\"].apply(lambda x : x[:8]+\"*\"*len(x[8:]))\n",
    "신탁해지건[\"신청인주민번호\"] = 신탁해지건[\"신청인주민번호\"].apply(lambda x : x[:8]+\"*\"*len(x[8:]))\n",
    "\n",
    "fn확인용 = join(path_base,\"확인용_계좌별 진행상황.xlsx\")\n",
    "\n",
    "\n",
    "# 엑셀 파일로 저장\n",
    "if not os.path.exists(fn확인용):\n",
    "    param = {'mode' : 'w'}\n",
    "else : \n",
    "    param = {'mode' : 'a', 'if_sheet_exists' : 'replace'}\n",
    "\n",
    "with pd.ExcelWriter(fn확인용, engine='openpyxl', **param) as writer :\n",
    "    신탁최종.to_excel(writer, sheet_name='신탁계약건', index=False)\n",
    "    신탁해지건.to_excel(writer, sheet_name='신탁해지건', index=False)"
   ]
  }
 ],
 "metadata": {
  "kernelspec": {
   "display_name": "py_39",
   "language": "python",
   "name": "python3"
  },
  "language_info": {
   "codemirror_mode": {
    "name": "ipython",
    "version": 3
   },
   "file_extension": ".py",
   "mimetype": "text/x-python",
   "name": "python",
   "nbconvert_exporter": "python",
   "pygments_lexer": "ipython3",
   "version": "3.9.18"
  }
 },
 "nbformat": 4,
 "nbformat_minor": 2
}
