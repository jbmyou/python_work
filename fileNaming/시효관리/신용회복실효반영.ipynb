{
 "cells": [
  {
   "cell_type": "code",
   "execution_count": 1,
   "metadata": {},
   "outputs": [],
   "source": [
    "import pandas as pd\n",
    "import numpy as np\n",
    "import re, os, pickle\n",
    "from os.path import join\n",
    "from tqdm import tqdm\n",
    "from datetime import datetime\n",
    "\n",
    "# 옛날거 반영해야 하므로 전산에서 다운 받는다.\n",
    "# 필요컬럼은 채무자키,계좌키,합의서체결일,채무구분\n",
    "# 합의서체결일자 있는 것과 주채무만 남기고 나머지는 삭제\n",
    "# 주민번호는 비식별처리되어있으며, 계좌별로 합의서체결일이 다를 수 있으므로 계좌키로 작업한다.\n",
    "\n",
    "account_dtype = {'채무자키':str, '계좌키':str, '타채무자키':str}"
   ]
  },
  {
   "cell_type": "code",
   "execution_count": 6,
   "metadata": {},
   "outputs": [
    {
     "name": "stderr",
     "output_type": "stream",
     "text": [
      "c:\\Users\\sl\\anaconda3\\lib\\site-packages\\openpyxl\\styles\\stylesheet.py:226: UserWarning: Workbook contains no default style, apply openpyxl's default\n",
      "  warn(\"Workbook contains no default style, apply openpyxl's default\")\n",
      "c:\\Users\\sl\\anaconda3\\lib\\site-packages\\openpyxl\\styles\\stylesheet.py:226: UserWarning: Workbook contains no default style, apply openpyxl's default\n",
      "  warn(\"Workbook contains no default style, apply openpyxl's default\")\n"
     ]
    }
   ],
   "source": [
    "# 파일읽기 #####################################################################################################\n",
    "wd = r\"D:\\3.자산\\프로젝트\\2023 전산데이터 클렌징 및 업무개편 프로젝트\\시효\\신복실효건 반영하기\\대성\"\n",
    "credit = pd.read_excel(join(wd, \"신용회복새창_20231030_1420.xlsx\"), dtype=str)[[\"채무자키\",\"계좌키\",\"합의서체결일\",\"채무구분\"]]\n",
    "# account = pd.read_pickle(r\"D:\\3.자산\\전산 dataset\\대성\\231027\\계좌조회새창_20231027_2057.pkl\")[['채무자키','계좌키','시효완성일','시효연장사유','시효중단여부']]\n",
    "account = pd.read_excel(r\"D:\\3.자산\\전산 dataset\\대성\\231027\\계좌조회새창_20231027_2057.xlsx\", dtype=account_dtype)[['채무자키','계좌키','시효완성일','시효연장사유','시효중단여부']]\n",
    "################################################################################################################"
   ]
  },
  {
   "cell_type": "code",
   "execution_count": 27,
   "metadata": {},
   "outputs": [
    {
     "name": "stdout",
     "output_type": "stream",
     "text": [
      "1313\n",
      "1313\n"
     ]
    }
   ],
   "source": [
    "# 합의서체결일자 없는 거 지우기\n",
    "# credit.합의서체결일[0]\n",
    "print(len(credit))\n",
    "credit.drop(credit[credit.합의서체결일.isna()].index, axis=0, inplace=True)\n",
    "credit.drop(credit[credit.채무구분==\"보증채무\"].index, axis=0, inplace=True)\n",
    "print(len(credit))"
   ]
  },
  {
   "cell_type": "code",
   "execution_count": 28,
   "metadata": {},
   "outputs": [
    {
     "name": "stdout",
     "output_type": "stream",
     "text": [
      "계좌키 중복제거 전 :  74\n",
      "계좌키 중복제거 후 :  74\n"
     ]
    }
   ],
   "source": [
    "# 신복에서 시효완성일 및 시효연장사유 작성\n",
    "credit[\"시효완성일\"] = (pd.to_numeric(credit.합의서체결일.str[:4]) + 5).astype(str) +credit.합의서체결일.str[4:]\n",
    "credit[\"시효연장사유\"] = \"신용회복 합의서 체결:\"+credit.합의서체결일\n",
    "\n",
    "# 계좌와 병합 후 시효수정할 것만 \n",
    "merged = credit.merge(account, on=['채무자키','계좌키'], how='left', suffixes=['_신복','_계좌'])\n",
    "시효수정 = merged.query('시효완성일_신복 > 시효완성일_계좌')\n",
    "print(\"계좌키 중복제거 전 : \", len(시효수정))\n",
    "\n",
    "# 시효완성일 역순정렬 후 중복계좌 드랍하기\n",
    "시효수정 = 시효수정.sort_values(['시효완성일_신복'], ascending=False)\n",
    "시효수정 = 시효수정.drop_duplicates(['계좌키'], keep='first')\n",
    "print(\"계좌키 중복제거 후 : \", len(시효수정))"
   ]
  },
  {
   "cell_type": "code",
   "execution_count": 29,
   "metadata": {},
   "outputs": [],
   "source": [
    "시효수정.rename(columns={'시효완성일_신복':'최초시효완성일', '시효연장사유_신복':'최초시효완성일메모'}, inplace=True)\n",
    "###########################################################################\n",
    "시효수정.to_excel(join(wd, \"231030 신용회복 합의서체결일반영 시효수정_비교파일.xlsx\"), index=False)\n",
    "###########################################################################\n",
    "\n",
    "#### 전산에서 종결건 제외 후 엑셀일괄수정 > 계좌정보"
   ]
  }
 ],
 "metadata": {
  "kernelspec": {
   "display_name": "base",
   "language": "python",
   "name": "python3"
  },
  "language_info": {
   "codemirror_mode": {
    "name": "ipython",
    "version": 3
   },
   "file_extension": ".py",
   "mimetype": "text/x-python",
   "name": "python",
   "nbconvert_exporter": "python",
   "pygments_lexer": "ipython3",
   "version": "3.9.13"
  }
 },
 "nbformat": 4,
 "nbformat_minor": 2
}
