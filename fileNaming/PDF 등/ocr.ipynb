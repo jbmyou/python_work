{
 "cells": [
  {
   "cell_type": "code",
   "execution_count": null,
   "metadata": {},
   "outputs": [],
   "source": [
    "# pip install opencv-contrib-python\n",
    "# pip install pytesseract\n",
    "# python -m pip install -U matplotlib"
   ]
  },
  {
   "cell_type": "markdown",
   "metadata": {},
   "source": [
    "### 파일명에 한글 있음 못 읽음\n",
    "- 초본 읽어봤는데 젤 중요한 주민번호를 못 읽네.. 표로 구성되어 있는 것 중 오른쪽 셀은 못 읽는듯"
   ]
  },
  {
   "cell_type": "code",
   "execution_count": 1,
   "metadata": {},
   "outputs": [],
   "source": [
    "# 파이썬 OCR 구현하기\n",
    "import pytesseract\n",
    "import cv2\n",
    "import matplotlib.pyplot as plt\n",
    "from os.path import join"
   ]
  },
  {
   "cell_type": "code",
   "execution_count": 22,
   "metadata": {},
   "outputs": [
    {
     "data": {
      "text/plain": [
       "'0.3.10'"
      ]
     },
     "execution_count": 22,
     "metadata": {},
     "output_type": "execute_result"
    }
   ],
   "source": [
    "# pdf파일은 이미지로 변환 후 cv2로 읽기 가능\n",
    "\n",
    "from pdf2image import convert_from_path\n",
    "\n",
    "# PDF 파일을 이미지로 변환\n",
    "pages = convert_from_path('example.pdf')\n",
    "\n",
    "# 변환된 이미지를 OpenCV로 읽고 처리\n",
    "for page in pages:\n",
    "    image = cv2.cvtColor(np.array(page), cv2.COLOR_RGB2BGR)\n",
    "    # 이미지 처리 작업 수행\n"
   ]
  },
  {
   "cell_type": "code",
   "execution_count": 7,
   "metadata": {},
   "outputs": [
    {
     "name": "stdout",
     "output_type": "stream",
     "text": [
      "발급확인번호: © 2349+2903-0790-0420\n",
      "\n",
      "2017-07-14 2017-07-14\n",
      "전입\n",
      "\n",
      "2017-08-14\n",
      "세대주성명정정\n",
      "\n",
      "2?  PAG, gov. .107)에서 위 발급확인번호로 내용의 진위여부를 밭급일로부터\n",
      "90일간 화인할 수 있습니다.\n",
      "3. 직연희  날인은 「행경업무  ae\n",
      "\n",
      "84 29 PES ag pisaae wae 것으로\n",
      "\n",
      "호가 아닌 외국인  id 또는 국내거소신고번호가 기재됩니다.      [다음장없음]\n",
      "\n"
     ]
    }
   ],
   "source": [
    "dir = r'C:\\Users\\DATA\\Desktop\\ocr'\n",
    "fn = \"p3.jpg\"\n",
    "path = join(dir, fn)\n",
    "\n",
    "image = cv2.imread(path)\n",
    "rgb_image = cv2.cvtColor(image, cv2.COLOR_BGR2RGB)\n",
    "\n",
    "text = pytesseract.image_to_string(rgb_image, lang='kor+eng')\n",
    "print(text)"
   ]
  }
 ],
 "metadata": {
  "kernelspec": {
   "display_name": "py_39",
   "language": "python",
   "name": "python3"
  },
  "language_info": {
   "codemirror_mode": {
    "name": "ipython",
    "version": 3
   },
   "file_extension": ".py",
   "mimetype": "text/x-python",
   "name": "python",
   "nbconvert_exporter": "python",
   "pygments_lexer": "ipython3",
   "version": "3.9.18"
  }
 },
 "nbformat": 4,
 "nbformat_minor": 2
}
