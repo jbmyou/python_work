{
 "cells": [
  {
   "attachments": {},
   "cell_type": "markdown",
   "metadata": {},
   "source": [
    "### import"
   ]
  },
  {
   "cell_type": "code",
   "execution_count": 1,
   "metadata": {},
   "outputs": [],
   "source": [
    "import os, re\n",
    "from os.path import join\n",
    "import pandas as pd\n",
    "import numpy as np\n",
    "from openpyxl import Workbook\n",
    "from openpyxl.utils.dataframe import dataframe_to_rows\n",
    "from openpyxl.styles import PatternFill, Border, Side, Font, Alignment\n",
    "from openpyxl.utils import get_column_letter\n",
    "basic_dtype = {'채무자키':str, '계좌키':str}"
   ]
  },
  {
   "attachments": {},
   "cell_type": "markdown",
   "metadata": {},
   "source": [
    "### 인적속성 - 다중채무, 다중담당 체크하기\n",
    "- 주민번호기준으로 간단하게 채무상태 병합한 것은 \"전산_자산정리_솔림.ipynb\"에 있음"
   ]
  },
  {
   "cell_type": "code",
   "execution_count": 3,
   "metadata": {},
   "outputs": [],
   "source": [
    "account = pd.read_pickle(r\"D:\\3.자산\\전산 dataset\\230430\\계좌조회새창_20230502_0847.pkl\")\n",
    "new_debtKey = pd.read_pickle(r\"C:\\Users\\SL\\Desktop\\workspace\\python\\fileNaming\\파일\\새채무자키.pkl\")[[\"새채무자키\",\"채무자키\",\"계좌키\"]]\n",
    "# 새채무자키 병합하기\n",
    "account.drop(account[account.채무자명==\"예수금\"].index, inplace=True)\n",
    "account = pd.merge(account, new_debtKey[[\"계좌키\",\"새채무자키\",]], on='계좌키', how='left')\n",
    "\n",
    "# 필요열만 새로운 df로 & 정렬\n",
    "new_debtKey = account[[\"새채무자키\", '채무자키','계좌키','채무상태','담당자']].copy()\n",
    "new_debtKey.sort_values(['새채무자키', '채무자키', '계좌키'], inplace=True)\n",
    "\n",
    "###### multi_index : 조작하기는 어렵고, 엑셀로 보낼때 자동으로 병합이 되어서 보기는 좋음\n",
    "x = account.set_index(['새채무자키','채무자키','계좌키'],drop=True)[\"채무상태\"]\n",
    "# 다중채무, 다중담당 T/F값 입력\n",
    "x = new_debtKey.groupby('새채무자키')\n",
    "new_debtKey['다중채무상태여부'] = x['채무상태'].transform(lambda s: np.any(s != s.iloc[0]))\n",
    "new_debtKey['다중담당여부'] = x['담당자'].transform(lambda s: np.any(s != s.iloc[0]))\n",
    "# 다중인 것들만 \n",
    "check = new_debtKey[new_debtKey[\"다중채무상태여부\"] | new_debtKey['다중담당여부']].copy()\n",
    "# index설정\n",
    "gc = check.set_index(['새채무자키', '채무자키'], drop=True)\n",
    "#저장\n",
    "gc.to_excel(r\"c://Users/SL/Desktop/check_채무상태(병합).xlsx\")"
   ]
  },
  {
   "attachments": {},
   "cell_type": "markdown",
   "metadata": {},
   "source": [
    "### (새채무자키기준) 전체채무/일부채무"
   ]
  },
  {
   "cell_type": "code",
   "execution_count": 12,
   "metadata": {},
   "outputs": [
    {
     "name": "stdout",
     "output_type": "stream",
     "text": [
      "78157 78158 1890\n"
     ]
    }
   ],
   "source": [
    "# 파일 읽기\n",
    "####################################################################\n",
    "# 최신/기준일 계좌전체(채무상태나 담당자 확인해야함)\n",
    "path_account = r\"D:\\3.자산\\전산 dataset\\230430\\계좌조회새창_20230502_0847\" + \".pkl\" \n",
    "# 확인하려는 풀의 채무자키와 계좌키, 저장경로\n",
    "wd = r'c:/Users/SL/Desktop'\n",
    "filename = 'POOL8-B'\n",
    "filename_save = filename + \"_채무자분리여부.xlsx\"\n",
    "####################################################################\n",
    "new_debtkeys = pd.read_pickle(r\"C:\\Users\\SL\\Desktop\\workspace\\python\\fileNaming\\파일\\새채무자키.pkl\")[[\"새채무자키\",\"채무자키\",\"계좌키\"]] # 계좌수만큼 있음\n",
    "all_account = pd.read_pickle(path_account)[[\"채무자키\",\"계좌키\",\"종결일\",\"채무상태\",\"담당자\",\"채무자명\",\"현재원금\",\"현재법비용\",\"현재미수이자\",\"현재연체이자\"]].fillna(\"\") # 엑셀 읽을땐 dtype = basic_dtype \n",
    "work_df = pd.read_excel(join(wd,filename+\".xlsx\"), dtype=basic_dtype)\n",
    "# 혹시 풀 다른지 확인하기 위해\n",
    "pool_info = pd.read_excel(r'D:\\3.자산\\POOL별 관리자산\\전체\\0.전체정리_230331_채권구분&POOL표시.xlsx', sheet_name=\"POOL 채권구분 채권상태 정리\", header=2, dtype=basic_dtype)[[\"계좌키\",\"채무자키\",\"소속풀\"]]\n",
    "\n",
    "print(len(new_debtkeys), len(all_account), len(work_df), len(pool_info)) # 예수금 때문에 new_debtkeys와 all_account는 1개 차이남"
   ]
  },
  {
   "cell_type": "code",
   "execution_count": 14,
   "metadata": {},
   "outputs": [],
   "source": [
    "# work_all_account : 새채무자키파일에서 작업파일과 같은 동일한 사람들만 남기기\n",
    "work_new_debtkeys = new_debtkeys[new_debtkeys.채무자키.isin(work_df.채무자키)].새채무자키\n",
    "work_all_account = new_debtkeys[new_debtkeys.새채무자키.isin(work_new_debtkeys)].copy() # 새, 채무, 계좌 3개 행\n",
    "# 매각대상 리스트에 포함된 계좌인지 여부 표시하기\n",
    "work_all_account[\"포함여부\"] = np.where(work_all_account.계좌키.isin(work_df.계좌키),\"Y\",\"N\")\n",
    "# 정렬\n",
    "work_all_account.sort_values(by='새채무자키', inplace=True)\n",
    "# result_new_debtkey : (sheet1용)채무상태, 담당자, 소속풀, 현재잔액 추가히기\n",
    "result_new_debtkey = pd.merge(work_all_account, all_account[['계좌키','채무상태','담당자', '채무자명',\"현재원금\",\"현재법비용\",\"현재미수이자\",\"현재연체이자\"]], on='계좌키', how=\"left\")\n",
    "result_new_debtkey = pd.merge(result_new_debtkey, pool_info[['계좌키',\"소속풀\"]], on='계좌키', how=\"left\")"
   ]
  },
  {
   "cell_type": "code",
   "execution_count": 15,
   "metadata": {},
   "outputs": [],
   "source": [
    "# result_debtkey : (sheet2용)채무자키 기준(전체계좌/일부계좌) - 전산 채무상태 및 담당자 변경 참고를 위함\n",
    "result_debtkey = pd.DataFrame(None, columns=[\"채무자키\", \"전계좌여부\", \"채무상태\", \"담당자\", \"채무자명\"])\n",
    "temp = result_new_debtkey[result_new_debtkey.포함여부==\"Y\"].drop_duplicates('채무자키').copy()\n",
    "result_debtkey[\"채무자키\"] = temp.채무자키.values\n",
    "result_debtkey[\"채무상태\"] = temp.채무상태.values # 순서 조작만 하지 않으면 굳이 일치조건 하지 않아도 됨.\n",
    "result_debtkey[\"담당자\"] = temp.담당자.values\n",
    "result_debtkey[\"채무자명\"] = temp.채무자명.values\n",
    "\n",
    "g = result_new_debtkey.groupby('채무자키') # 그룹화는 원본 df의 순서와 다를 수 있음!!!!!!!!\n",
    "for i, v in result_debtkey.iterrows() : \n",
    "     if g.get_group(v.채무자키).포함여부.nunique() == 1 :\n",
    "          result_debtkey.loc[i, \"전계좌여부\"]=\"전계좌\"\n",
    "     else : result_debtkey.loc[i, \"전계좌여부\"]=\"일부계좌\""
   ]
  },
  {
   "cell_type": "code",
   "execution_count": 21,
   "metadata": {},
   "outputs": [],
   "source": [
    "###### multi_index : 조작하기는 어렵고, 엑셀로 보낼때 자동으로 병합이 되어서 보기는 좋음\n",
    "result_new_debtkey = result_new_debtkey.set_index(['새채무자키','채무자키','계좌키'],drop=True)\n",
    "result_debtkey = result_debtkey.set_index('채무자키',drop=True)\n",
    "\n",
    "# 저장하기\n",
    "with pd.ExcelWriter(join(wd,filename_save), engine='openpyxl', mode = 'w', ) as writer :\n",
    "    result_new_debtkey.to_excel(writer, sheet_name=\"(새채무자키)동일인 분리여부\")\n",
    "    result_debtkey.to_excel(writer, sheet_name=\"(채무자키)다계좌 전체포함여부\")"
   ]
  },
  {
   "attachments": {},
   "cell_type": "markdown",
   "metadata": {},
   "source": [
    "### (채무자키 기준)전체계좌 / 일부계좌 구분"
   ]
  },
  {
   "cell_type": "code",
   "execution_count": 4,
   "metadata": {},
   "outputs": [
    {
     "name": "stdout",
     "output_type": "stream",
     "text": [
      "78158 453\n"
     ]
    }
   ],
   "source": [
    "# 파일 읽기\n",
    "####################################################################\n",
    "path_account = r\"D:\\3.자산\\전산 dataset\\230430\\계좌조회새창_20230502_0847\" + \".pkl\" # 계좌전체. 채무상태나 담당자 변경하려면 최신파일로\n",
    "path_work_df = r'c:/Users/SL/Desktop/통합 문서1.xlsx' # 확인하려는 풀의 채무자키와 계좌키\n",
    "path_save = r'c:/Users/SL/Desktop/전체계좌여부.xlsx'\n",
    "####################################################################\n",
    "all_account = pd.read_pickle(path_account)[[\"채무자키\",\"계좌키\",\"종결일\",\"채무상태\",\"담당자\",\"채무자명\"]].fillna(\"\") # 계좌조회\n",
    "work_df = pd.read_excel(path_work_df, dtype={\"채무자키\":str,\"계좌키\":str})\n",
    "print(len(all_account), len(work_df))"
   ]
  },
  {
   "cell_type": "code",
   "execution_count": 5,
   "metadata": {},
   "outputs": [],
   "source": [
    "# 채무자키로 전 계좌 불러오기\n",
    "# 계좌시트에서 작업대상 채무자키에 해당하는 계좌 모두 불러오기\n",
    "work_all_account = all_account[all_account.채무자키.isin(work_df.채무자키)].copy() # 객체 새로 만들지 않으면 계속 copywarning 나옴\n",
    "# 불러온 계좌 중 작업 계좌에 있거나, 종결된 계좌면 Y, 아니면 N(솔림 잔존계좌)\n",
    "cond = (work_all_account.계좌키.isin(work_df.계좌키)) | (work_all_account.종결일 != \"\")\n",
    "work_all_account[\"계좌작업대상여부\"] = np.where(cond, \"Y\", \"N\")\n",
    "\n",
    "# 채무자키별 부수정보 담은 df 만들기\n",
    "result = pd.DataFrame(None, columns=[\"채무자키\", \"전계좌여부\", \"채무상태\", \"담당자\", \"채무자명\"])\n",
    "temp = work_all_account.drop_duplicates('채무자키').copy()\n",
    "result[\"채무자키\"] = temp.채무자키.values\n",
    "result[\"채무상태\"] = temp.채무상태.values # 순서 조작만 하지 않으면 굳이 일치조건 하지 않아도 됨.\n",
    "result[\"담당자\"] = temp.담당자.values\n",
    "result[\"채무자명\"] = temp.채무자명.values\n",
    "\n",
    "\n",
    "# 작업대상여부의 유니크값이 1이면 모두 Y (모두 N인 경우는 논리적으로 불가능), 2면 작업계좌와 잔존계좌가 혼재한 것이므로 일부계좌\n",
    "g = work_all_account.groupby('채무자키') # 그룹화는 원본 df의 순서와 다를 수 있음!!!!!!!!\n",
    "for i, v in result.iterrows() : \n",
    "     if g.get_group(v.채무자키).계좌작업대상여부.nunique() == 1 :\n",
    "          result.loc[i, \"전계좌여부\"]=\"전계좌\"\n",
    "     else : result.loc[i, \"전계좌여부\"]=\"일부계좌\"\n",
    "\n",
    "# 저장하기\n",
    "result.to_excel(path_save, index=False)"
   ]
  },
  {
   "cell_type": "code",
   "execution_count": 26,
   "metadata": {},
   "outputs": [
    {
     "data": {
      "text/plain": [
       "2"
      ]
     },
     "execution_count": 26,
     "metadata": {},
     "output_type": "execute_result"
    }
   ],
   "source": [
    "df = pd.DataFrame({\"가\":[\"삼\", \"\"]})\n",
    "df.가.nunique()"
   ]
  },
  {
   "cell_type": "code",
   "execution_count": null,
   "metadata": {},
   "outputs": [],
   "source": []
  },
  {
   "attachments": {},
   "cell_type": "markdown",
   "metadata": {},
   "source": [
    "### 채무자 분리 전수조사"
   ]
  },
  {
   "cell_type": "code",
   "execution_count": 4,
   "metadata": {},
   "outputs": [],
   "source": [
    "path_criterion = r\"D:\\3.자산\\전산 정리\\check\\채무자분리\\0.전수조사_기준파일.xlsx\"\n",
    "df_all = pd.read_excel(path_criterion, sheet_name=\"전체\", dtype=basic_dtype).fillna(\"\")\n",
    "path_save = r\"D:\\3.자산\\전산 정리\\check\\채무자분리\"\n",
    "basic_filename = \"채무자분리_전수조사_result.xlsx\"\n",
    "filename = basic_filename"
   ]
  },
  {
   "attachments": {},
   "cell_type": "markdown",
   "metadata": {},
   "source": [
    "#### 일부만 하는 경우"
   ]
  },
  {
   "cell_type": "code",
   "execution_count": 15,
   "metadata": {},
   "outputs": [
    {
     "name": "stdout",
     "output_type": "stream",
     "text": [
      "차이 : 474 - 453 = 21\n"
     ]
    }
   ],
   "source": [
    "# 파일읽기\n",
    "#####################\n",
    "sheet_name = \"POOL1\"\n",
    "#####################\n",
    "filename = sheet_name + \"_\" + basic_filename\n",
    "df_part = pd.read_excel(path_criterion, sheet_name=sheet_name, dtype=basic_dtype).fillna(\"\")\n",
    "# 새채무자키 중복제거 for merge\n",
    "df_unique = df_part['새채무자키'].drop_duplicates()\n",
    "# 새채무자키를 통해 매각 대상이 아닌 채무도 불러오기\n",
    "df = pd.merge(df_unique, df_all, on='새채무자키', how='left')\n",
    "print(f'차이 : {len(df)} - {len(df_part)} = {len(df) - len(df_part)}')"
   ]
  },
  {
   "attachments": {},
   "cell_type": "markdown",
   "metadata": {},
   "source": [
    "#### 전체"
   ]
  },
  {
   "cell_type": "code",
   "execution_count": 11,
   "metadata": {},
   "outputs": [],
   "source": [
    "df = df_all.copy()\n",
    "filename = basic_filename"
   ]
  },
  {
   "attachments": {},
   "cell_type": "markdown",
   "metadata": {},
   "source": [
    "#### 공통"
   ]
  },
  {
   "cell_type": "code",
   "execution_count": 16,
   "metadata": {},
   "outputs": [],
   "source": [
    "# 순서유지를 위해 정렬\n",
    "df.sort_values('새채무자키', ascending=True, inplace=True)\n",
    "g = df.groupby('새채무자키') \n",
    "\n",
    "분리매각여부 = []\n",
    "소속풀분리여부 = []\n",
    "\n",
    "# 그룹화된 데이터프레임에 대해 반복문 수행\n",
    "for _, group_df in g:\n",
    "    # 그룹 내 채무자키의 고유값 개수 확인\n",
    "    매각count = group_df[\"양수자\"].nunique()\n",
    "    풀count = group_df[\"소속풀\"].nunique()\n",
    "    \n",
    "    # 분리매각여부 확인 후 리스트에 추가\n",
    "    if 매각count >= 2:\n",
    "        분리매각여부.extend([\"Y\"] * len(group_df))\n",
    "    else:\n",
    "        분리매각여부.extend([\"N\"] * len(group_df))\n",
    "\n",
    "    # 소속풀 분리여부 확인 후 리스트에 추가\n",
    "    if 풀count >= 2:\n",
    "        소속풀분리여부.extend([\"Y\"] * len(group_df))\n",
    "    else:\n",
    "        소속풀분리여부.extend([\"N\"] * len(group_df))\n",
    "# 컬럼 추가\n",
    "df[\"채무자 분리매각여부\"] = 분리매각여부\n",
    "df[\"채무자 소속풀 분리여부\"] = 소속풀분리여부"
   ]
  },
  {
   "cell_type": "code",
   "execution_count": 17,
   "metadata": {},
   "outputs": [],
   "source": [
    "# 엑셀 쓰기\n",
    "wb = Workbook()\n",
    "ws = wb.active\n",
    "ws.title = \"채무자 분리여부\"\n",
    "\n",
    "# 데이터 쓰기\n",
    "for row in dataframe_to_rows(df, index=False) : \n",
    "    ws.append(row)\n",
    "\n",
    "# 스타일 지정\n",
    "fill_gray = PatternFill(fill_type='solid', start_color=\"D0CECE\", end_color=\"D0CECE\")\n",
    "fill_col = PatternFill(fill_type='solid', start_color='FF0072C6', end_color='FF0072C6')\n",
    "font_col = Font( color='FFFFFF', bold=True)\n",
    "divider = Border(top=Side(style='thin'))\n",
    "alignment_v = Alignment(vertical='center')\n",
    "alignment_h = Alignment(horizontal='center')\n",
    "\n",
    "# 서식 쓰기(위 반복문 안에서 해도 되지만, for cell in row의 cell이 셀주소가 아니라 셀값이라서 \n",
    "# for cell in ws[ws.max_row -1] 이런식으로 바꿔줘야 한다. 가독성을 위해 따로 쓰는게 낫다.\n",
    "# 보통은 셀 병합을 먼저해주어야 서식이 유지된다.\n",
    "\n",
    "# 컬럼명 스타일 적용\n",
    "for cell in ws[1] : \n",
    "    cell.fill = fill_col\n",
    "    cell.font = font_col\n",
    "\n",
    "prev_key = None\n",
    "for row in ws.iter_rows(min_row=2) : # 2행부터 시작\n",
    "    # 공통적용\n",
    "    for cell in row : cell.alignment = alignment_v\n",
    "    \n",
    "    current_key = row[0].value\n",
    "    # 인덱스(새채무자키)값이 달라지면 실선 넣기\n",
    "    if current_key != prev_key :\n",
    "        for cell in row :\n",
    "            cell.border = divider\n",
    "        prev_key = current_key\n",
    "\n",
    "    # 채무상태와 담당자에 따라 배경색 넣기\n",
    "    if row[5].value == '환매' or row[6].value in ('종결', '환매') :\n",
    "        for cell in row : cell.fill = fill_gray\n",
    "        if row[5].value == '환매' : row[5].font = Font(bold=True)\n",
    "        if row[6].value in ('종결', '환매') : row[6].font = Font(bold=True)\n",
    "\n",
    "# 가운데 정렬\n",
    "columns = ['D', 'E', 'H', 'I']\n",
    "for column in columns :\n",
    "    for cell in ws[column] :\n",
    "        cell.alignment = alignment_h\n",
    "\n",
    "# 틀고정 및 필터\n",
    "ws.freeze_panes = \"A2\"\n",
    "ws.auto_filter.ref = ws.dimensions\n",
    "\n",
    "\n",
    "prev_new_debtor_key = None\n",
    "prev_debtor_key = None\n",
    "s_n, s_d = None, None\n",
    "for row in ws.iter_rows(min_row=2):\n",
    "    # \"새채무자키\" 열 병합\n",
    "    new_debtor_key = row[0].value # n1000001\n",
    "\n",
    "    if new_debtor_key == prev_new_debtor_key:\n",
    "        if s_n == None : \n",
    "            s_n = row[0].coordinate[0] + str(row[0].row-1) # None일때(처음 같은 값 나왔을 때)만 지정\n",
    "        e_n = row[0].coordinate # 같은 키가 나올때마다 갱신\n",
    "    else : \n",
    "        if s_n != None  : # 지정값이 있고, 이제 새로운 키가 나왔을 때 \n",
    "            ws.merge_cells(f'{s_n}:{e_n}')\n",
    "            s_n = None # 병합후에는 s_n 초기화\n",
    "        # 지정값 없는 경우(병합할 거 없는 경우) pass\n",
    "        \n",
    "    prev_new_debtor_key = new_debtor_key\n",
    "\n",
    "    # \"채무자키\" 열 병합\n",
    "    debtor_key = row[1].value\n",
    "\n",
    "    if debtor_key == prev_debtor_key:\n",
    "        if s_d == None : \n",
    "            s_d = row[1].coordinate[0] + str(row[1].row-1) # None일때(처음 같은 값 나왔을 때)만 지정\n",
    "        e_d = row[1].coordinate # 같은 키가 나올때마다 갱신\n",
    "    else : \n",
    "        if s_d != None  : # 지정값이 있고, 이제 새로운 키가 나왔을 때 \n",
    "            ws.merge_cells(f\"{s_d}:{e_d}\")\n",
    "            s_d = None # 병합후에는 s_d 초기화\n",
    "        # 지정값 없는 경우(병합할 거 없는 경우) pass\n",
    "\n",
    "    prev_debtor_key = debtor_key\n",
    "\n",
    "if s_n != None : ws.merge_cells(f'{s_n}:{e_n}')\n",
    "if s_d != None : ws.merge_cells(f\"{s_d}:{e_d}\")\n",
    "\n",
    "# 저장 #####################################################################\n",
    "wb.save(join(path_save, filename))"
   ]
  },
  {
   "cell_type": "code",
   "execution_count": 128,
   "metadata": {},
   "outputs": [],
   "source": [
    "# 셀 서식 없이 멀티인덱스(병합)만 하고 저장\n",
    "df_multi = df.set_index(['새채무자키','채무자키','계좌키'],drop=True).copy()\n",
    "df_multi.to_excel(join(path_save, filename))"
   ]
  }
 ],
 "metadata": {
  "kernelspec": {
   "display_name": "base",
   "language": "python",
   "name": "python3"
  },
  "language_info": {
   "codemirror_mode": {
    "name": "ipython",
    "version": 3
   },
   "file_extension": ".py",
   "mimetype": "text/x-python",
   "name": "python",
   "nbconvert_exporter": "python",
   "pygments_lexer": "ipython3",
   "version": "3.9.13"
  },
  "orig_nbformat": 4
 },
 "nbformat": 4,
 "nbformat_minor": 2
}
