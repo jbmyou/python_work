{
 "cells": [
  {
   "attachments": {},
   "cell_type": "markdown",
   "metadata": {},
   "source": [
    "### import 및 함수"
   ]
  },
  {
   "cell_type": "code",
   "execution_count": 1,
   "metadata": {},
   "outputs": [],
   "source": [
    "# dict_kcs = {\"kcs\" : \"pullPath\"}\n",
    "# 20494491752A40E088201 /volume1/솔림헬프/기타/전북-01/20494491/20494491_보증인 오병석_기타_2022본11747_유체접수증.pdf\n",
    "import os\n",
    "import pickle\n",
    "import binascii\n",
    "import re\n",
    "from os.path import join\n",
    "\n",
    "def crc32_checksum(filename):\n",
    "    buf = open(filename,'rb').read()\n",
    "    buf = (binascii.crc32(buf) & 0xFFFFFFFF)\n",
    "    return \"%08X\" % buf\n",
    "\n",
    "def get_kcs(path_192) :\n",
    "    crc32 = str(crc32_checksum(path_192))\n",
    "    size = str(os.path.getsize(path_192))\n",
    "    f = os.path.split(path_192)[1]\n",
    "    key = f[:8]\n",
    "    kcs = key + crc32 + size \n",
    "    return kcs\n",
    "\n",
    "def read_kcs(path_kcs) :\n",
    "    with open(path_kcs, \"rb\") as pkl :\n",
    "        return pickle.load(pkl)\n",
    "\n",
    "def delete_kcs(filePath, dict_kcs) :\n",
    "    print(\"삭제 전 : \", len(dict_kcs))\n",
    "    k = os.path.split(filePath)[1][:8]\n",
    "    c = str(crc32_checksum(filePath))\n",
    "    s = str(os.path.getsize(filePath))\n",
    "    kcs = k + c + s\n",
    "    if kcs in dict_kcs :\n",
    "        print(f\"kcs : {kcs}   path : {dict_kcs[kcs]}\")\n",
    "        del dict_kcs[kcs]\n",
    "        print(\"삭제하였습니다.\")\n",
    "    else :\n",
    "      print(filePath, kcs, \"없는 키값\")\n",
    "    print(\"삭제 후 : \", len(dict_kcs))\n",
    "\n",
    "def write_kcs(path_kcs, dict_kcs) :\n",
    "    with open(path_kcs, \"wb\") as pkl :\n",
    "        pickle.dump(dict_kcs, pkl)\n",
    "\n",
    "# def update_kcs(src, dst, dict_kcs) :\n",
    "    \n",
    "#     kcs = get_kcs(src)\n",
    "#     print(dict_kcs[kcs])\n",
    "\n",
    "#     new_dst = re.sub(r\"\\\\\\\\192.168.0.75\", \"/volume1\", dst)\n",
    "#     new_dst = re.sub(r\"\\\\\", \"/\", new_dst)\n",
    "#     dict_kcs[kcs] = new_dst\n",
    "#     print(dict_kcs[kcs], \"dict수정 성공\")\n",
    "\n",
    "def update_kcs(src, dst, dict_kcs) :\n",
    "    # 채무자키\n",
    "    src_key = os.path.split(src)[1][:8]\n",
    "    dst_key = os.path.split(dst)[1][:8]\n",
    "    # kcs\n",
    "    kcs = get_kcs(src)\n",
    "    before_value = dict_kcs[kcs] # 수정되기 전에 변수에 담아두어야\n",
    "    # 윈도우 path를 리눅스 path로\n",
    "    new_dst = re.sub(r\"\\\\\\\\192.168.0.75\", \"/volume1\", dst)\n",
    "    new_dst = re.sub(r\"\\\\\", \"/\", new_dst)\n",
    "\n",
    "    # 채무자키가 달라졌을 때 > dict의 key를 수정해야 하므로 삭제 후 새값 추가\n",
    "    if src_key != dst_key :\n",
    "        new_kcs = dst_key + kcs[8:]\n",
    "        del dict_kcs[kcs] # 구값 삭제\n",
    "    else : new_kcs = kcs\n",
    "    \n",
    "    # 새값 추가/수정(채무자키 동일했다면 kcs == new_kcs 따라서 수정된다.)\n",
    "    dict_kcs[new_kcs] = new_dst\n",
    "\n",
    "    print(f\"dict 키 변화 : {kcs} >>> {new_kcs}\")\n",
    "    print(f\"dict 값 변화 : {before_value} >>> {dict_kcs[new_kcs]}\")\n",
    "    \n",
    "\n",
    "path_kcs = r\"\\\\192.168.0.75\\스캔파일\\스캔파일log\\_project\\대성파일\\중복조사\\kcs별 파일정보_대성.pkl\""
   ]
  },
  {
   "attachments": {},
   "cell_type": "markdown",
   "metadata": {},
   "source": [
    "### dict load"
   ]
  },
  {
   "cell_type": "code",
   "execution_count": 2,
   "metadata": {},
   "outputs": [
    {
     "name": "stdout",
     "output_type": "stream",
     "text": [
      "최초dict_kcs개수 : 11285\n"
     ]
    }
   ],
   "source": [
    "# 읽기\n",
    "dict_kcs = read_kcs(path_kcs)\n",
    "print(\"최초dict_kcs개수 :\", len(dict_kcs))"
   ]
  },
  {
   "cell_type": "code",
   "execution_count": 3,
   "metadata": {},
   "outputs": [
    {
     "data": {
      "text/plain": [
       "'/volume1/대성/3.집행권원/씨에프-01/10622626/10622626_서정식_집행권원.pdf'"
      ]
     },
     "execution_count": 3,
     "metadata": {},
     "output_type": "execute_result"
    }
   ],
   "source": [
    "dict_kcs[\"10622626DA6BF605302827\"]"
   ]
  },
  {
   "attachments": {},
   "cell_type": "markdown",
   "metadata": {},
   "source": [
    "### dict삭제 > 파일은 직접, 파일명 변경후 재업하면 수정작업과 동일"
   ]
  },
  {
   "cell_type": "code",
   "execution_count": 3,
   "metadata": {},
   "outputs": [
    {
     "name": "stdout",
     "output_type": "stream",
     "text": [
      "삭제 전 :  401379\n",
      "kcs : 2042694633A289931864652   path : /volume1/솔림헬프/3.집행권원/더키움/20426946/20426946_강호정_집행권원.pdf\n",
      "삭제하였습니다.\n",
      "삭제 후 :  401378\n"
     ]
    }
   ],
   "source": [
    "# 1) 단일파일 dict 삭제\n",
    "####################################\n",
    "# 에브리띵에서 전체경로복사하면 편함, 채무자키만 유지하면 파일위치, 파일명는 상관없음\n",
    "path_192 = r\"\\\\192.168.0.75\\솔림헬프\\3.집행권원\\더키움\\20426946\\20426946_강호정_집행권원.pdf\"\n",
    "####################################\n",
    "delete_kcs(path_192, dict_kcs)"
   ]
  },
  {
   "cell_type": "code",
   "execution_count": 6,
   "metadata": {},
   "outputs": [],
   "source": [
    "# dict 파일로 저장\n",
    "write_kcs(path_kcs, dict_kcs)"
   ]
  },
  {
   "cell_type": "code",
   "execution_count": 18,
   "metadata": {},
   "outputs": [
    {
     "data": {
      "text/plain": [
       "'\\\\\\\\192.168.0.75\\\\삭제예정파일\\\\관리제외\\\\아인스\\\\20410937\\\\20410937_박효동_개인회생_2019개회12743.pdf'"
      ]
     },
     "execution_count": 18,
     "metadata": {},
     "output_type": "execute_result"
    }
   ],
   "source": [
    "# 2) 파일 삭제/이동\n",
    "# 관리제외 폴더로 이동\n",
    "import shutil\n",
    "src = path_192\n",
    "dst_d = join(r\"\\\\192.168.0.75\\삭제예정파일\\관리제외\", src.split(os.path.sep)[-3], src.split(os.path.sep)[-2])\n",
    "if not os.path.exists(dst_d) : os.makedirs(dst_d)\n",
    "dst = join(dst_d, src.split(os.path.sep)[-1])\n",
    "shutil.move(src, dst)"
   ]
  },
  {
   "cell_type": "code",
   "execution_count": 4,
   "metadata": {},
   "outputs": [
    {
     "name": "stdout",
     "output_type": "stream",
     "text": [
      "삭제 전 :  11285\n",
      "kcs : 106226230ED002BB141419   path : /volume1/대성/1.원인서류/백운-01/10622623/10622623_성해숙_원인서류_이정옥.pdf\n",
      "삭제하였습니다.\n",
      "삭제 후 :  11284\n",
      "삭제 전 :  11284\n",
      "kcs : 106226722674D54D163992   path : /volume1/대성/1.원인서류/백운-01/10622672/10622672_정수강_원인서류_박상훈.pdf\n",
      "삭제하였습니다.\n",
      "삭제 후 :  11283\n",
      "삭제 전 :  11283\n",
      "kcs : 106228835599EA24170723   path : /volume1/대성/1.원인서류/백운-01/10622883/10622883_김남이_원인서류_소영춘.pdf\n",
      "삭제하였습니다.\n",
      "삭제 후 :  11282\n",
      "삭제 전 :  11282\n",
      "kcs : 1062288590C38AA4133744   path : /volume1/대성/1.원인서류/백운-01/10622885/10622885_김보영_원인서류_최낙동.pdf\n",
      "삭제하였습니다.\n",
      "삭제 후 :  11281\n",
      "삭제 전 :  11281\n",
      "kcs : 10622893312EC34E162012   path : /volume1/대성/1.원인서류/백운-01/10622893/10622893_박세홍_원인서류_김정숙.pdf\n",
      "삭제하였습니다.\n",
      "삭제 후 :  11280\n",
      "삭제 전 :  11280\n",
      "kcs : 106228966D756D6C170045   path : /volume1/대성/1.원인서류/백운-01/10622896/10622896_박연희_원인서류_박기덕.pdf\n",
      "삭제하였습니다.\n",
      "삭제 후 :  11279\n",
      "삭제 전 :  11279\n",
      "kcs : 10622896BC602F42135993   path : /volume1/대성/1.원인서류/백운-01/10622896/10622896_박연희_원인서류_정선주.pdf\n",
      "삭제하였습니다.\n",
      "삭제 후 :  11278\n",
      "삭제 전 :  11278\n",
      "kcs : 10622897C7CF5435133112   path : /volume1/대성/1.원인서류/백운-01/10622897/10622897_구인회_원인서류_손기영.pdf\n",
      "삭제하였습니다.\n",
      "삭제 후 :  11277\n",
      "삭제 전 :  11277\n",
      "kcs : 10622898F89054B7125372   path : /volume1/대성/1.원인서류/백운-01/10622898/10622898_김채심_원인서류_최준채.pdf\n",
      "삭제하였습니다.\n",
      "삭제 후 :  11276\n",
      "삭제 전 :  11276\n",
      "kcs : 106229096F3C4D2C170033   path : /volume1/대성/1.원인서류/백운-01/10622909/10622909_공만식_원인서류_신재숙.pdf\n",
      "삭제하였습니다.\n",
      "삭제 후 :  11275\n",
      "삭제 전 :  11275\n",
      "kcs : 106229126263FF6A119903   path : /volume1/대성/1.원인서류/백운-01/10622912/10622912_전금덕_원인서류_최영준.pdf\n",
      "삭제하였습니다.\n",
      "삭제 후 :  11274\n",
      "삭제 전 :  11274\n",
      "kcs : 1062292162063B5D168929   path : /volume1/대성/1.원인서류/백운-01/10622921/10622921_김은경_원인서류_김주희.pdf\n",
      "삭제하였습니다.\n",
      "삭제 후 :  11273\n",
      "삭제 전 :  11273\n",
      "kcs : 10622924EFA2EC84137550   path : /volume1/대성/1.원인서류/백운-01/10622924/10622924_소병인_원인서류_추선철.pdf\n",
      "삭제하였습니다.\n",
      "삭제 후 :  11272\n",
      "삭제 전 :  11272\n",
      "kcs : 1062379783244FE3170536   path : /volume1/대성/1.원인서류/백운-01/10623797/10623797_권혁융_원인서류_정인환.pdf\n",
      "삭제하였습니다.\n",
      "삭제 후 :  11271\n",
      "삭제 전 :  11271\n",
      "kcs : 10623799045C7E6A168308   path : /volume1/대성/1.원인서류/백운-01/10623799/10623799_유현경_원인서류_(유춘희).pdf\n",
      "삭제하였습니다.\n",
      "삭제 후 :  11270\n",
      "삭제 전 :  11270\n",
      "kcs : 10623801CCDB5A0B159480   path : /volume1/대성/1.원인서류/백운-01/10623801/10623801_김덕보_원인서류_최능식.pdf\n",
      "삭제하였습니다.\n",
      "삭제 후 :  11269\n",
      "삭제 전 :  11269\n",
      "kcs : 106238165A085F66120436   path : /volume1/대성/1.원인서류/백운-01/10623816/10623816_고미경_원인서류_안현구.pdf\n",
      "삭제하였습니다.\n",
      "삭제 후 :  11268\n",
      "삭제 전 :  11268\n",
      "kcs : 10623823CE86A612164862   path : /volume1/대성/1.원인서류/백운-01/10623823/10623823_김기순_원인서류_최재붕.pdf\n",
      "삭제하였습니다.\n",
      "삭제 후 :  11267\n",
      "삭제 전 :  11267\n",
      "kcs : 10623824AD046AA8166190   path : /volume1/대성/1.원인서류/백운-01/10623824/10623824_박미정_원인서류_장형수.pdf\n",
      "삭제하였습니다.\n",
      "삭제 후 :  11266\n",
      "삭제 전 :  11266\n",
      "kcs : 106238261F645E28159215   path : /volume1/대성/1.원인서류/백운-01/10623826/10623826_이명환_원인서류_박광일.pdf\n",
      "삭제하였습니다.\n",
      "삭제 후 :  11265\n",
      "삭제 전 :  11265\n",
      "kcs : 106238301ECC7B5C153234   path : /volume1/대성/1.원인서류/백운-01/10623830/10623830_이기중_원인서류_추경아.pdf\n",
      "삭제하였습니다.\n",
      "삭제 후 :  11264\n",
      "삭제 전 :  11264\n",
      "kcs : 106238345A183EAA160743   path : /volume1/대성/1.원인서류/백운-01/10623834/10623834_한영미_원인서류_라연우(나연우).pdf\n",
      "삭제하였습니다.\n",
      "삭제 후 :  11263\n",
      "삭제 전 :  11263\n",
      "kcs : 106238358B8FFCD5160648   path : /volume1/대성/1.원인서류/백운-01/10623835/10623835_송정호_원인서류_김근용.pdf\n",
      "삭제하였습니다.\n",
      "삭제 후 :  11262\n",
      "삭제 전 :  11262\n",
      "kcs : 106238355F4F7E98118431   path : /volume1/대성/1.원인서류/백운-01/10623835/10623835_송정호_원인서류_박혜영.pdf\n",
      "삭제하였습니다.\n",
      "삭제 후 :  11261\n",
      "삭제 전 :  11261\n",
      "kcs : 106238350F3087F7165522   path : /volume1/대성/1.원인서류/백운-01/10623835/10623835_송정호_원인서류_최상진.pdf\n",
      "삭제하였습니다.\n",
      "삭제 후 :  11260\n",
      "삭제 전 :  11260\n",
      "kcs : 10623848D7C78309161664   path : /volume1/대성/1.원인서류/백운-01/10623848/10623848_송진순_원인서류_박복선.pdf\n",
      "삭제하였습니다.\n",
      "삭제 후 :  11259\n",
      "삭제 전 :  11259\n",
      "kcs : 1062384835316239147578   path : /volume1/대성/1.원인서류/백운-01/10623848/10623848_송진순_원인서류_윤재순.pdf\n",
      "삭제하였습니다.\n",
      "삭제 후 :  11258\n",
      "삭제 전 :  11258\n",
      "kcs : 1062384998B88847149494   path : /volume1/대성/1.원인서류/백운-01/10623849/10623849_김경자_원인서류_김성옥.pdf\n",
      "삭제하였습니다.\n",
      "삭제 후 :  11257\n",
      "삭제 전 :  11257\n",
      "kcs : 106238549C31BF81156558   path : /volume1/대성/1.원인서류/백운-01/10623854/10623854_조한표_원인서류_박충수.pdf\n",
      "삭제하였습니다.\n",
      "삭제 후 :  11256\n",
      "삭제 전 :  11256\n",
      "kcs : 10623855AE4E57D9120546   path : /volume1/대성/1.원인서류/백운-01/10623855/10623855_이연주_원인서류_김인.pdf\n",
      "삭제하였습니다.\n",
      "삭제 후 :  11255\n",
      "삭제 전 :  11255\n",
      "kcs : 10623867F81A77C2171351   path : /volume1/대성/1.원인서류/백운-01/10623867/10623867_박미경_원인서류_홍선이.pdf\n",
      "삭제하였습니다.\n",
      "삭제 후 :  11254\n",
      "삭제 전 :  11254\n",
      "kcs : 10623876F61BF660130605   path : /volume1/대성/1.원인서류/백운-01/10623876/10623876_김인수_원인서류_한정숙.pdf\n",
      "삭제하였습니다.\n",
      "삭제 후 :  11253\n",
      "삭제 전 :  11253\n",
      "kcs : 10623877A39BF917162804   path : /volume1/대성/1.원인서류/백운-01/10623877/10623877_권영욱_원인서류_한상규.pdf\n",
      "삭제하였습니다.\n",
      "삭제 후 :  11252\n",
      "삭제 전 :  11252\n",
      "kcs : 106238787A5D5E68166005   path : /volume1/대성/1.원인서류/백운-01/10623878/10623878_방재수_원인서류_이종복.pdf\n",
      "삭제하였습니다.\n",
      "삭제 후 :  11251\n",
      "삭제 전 :  11251\n",
      "kcs : 106238787A889DC7154208   path : /volume1/대성/1.원인서류/백운-01/10623878/10623878_방재수_원인서류_정기석.pdf\n",
      "삭제하였습니다.\n",
      "삭제 후 :  11250\n",
      "삭제 전 :  11250\n",
      "kcs : 106238907E8942AF174323   path : /volume1/대성/1.원인서류/백운-01/10623890/10623890_진광자_원인서류_김수현.pdf\n",
      "삭제하였습니다.\n",
      "삭제 후 :  11249\n",
      "삭제 전 :  11249\n",
      "kcs : 106238953AB0BD2D139267   path : /volume1/대성/1.원인서류/백운-01/10623895/10623895_이화선_원인서류_홍형표.pdf\n",
      "삭제하였습니다.\n",
      "삭제 후 :  11248\n",
      "삭제 전 :  11248\n",
      "kcs : 10623901A65E09D0156131   path : /volume1/대성/1.원인서류/백운-01/10623901/10623901_남아진_원인서류_남나진.pdf\n",
      "삭제하였습니다.\n",
      "삭제 후 :  11247\n",
      "삭제 전 :  11247\n",
      "kcs : 106239079A72A3F0172507   path : /volume1/대성/1.원인서류/백운-01/10623907/10623907_이영식_원인서류_주한호.pdf\n",
      "삭제하였습니다.\n",
      "삭제 후 :  11246\n",
      "삭제 전 :  11246\n",
      "kcs : 10623913955DD034150572   path : /volume1/대성/1.원인서류/백운-01/10623913/10623913_조영자_원인서류_문필주.pdf\n",
      "삭제하였습니다.\n",
      "삭제 후 :  11245\n",
      "삭제 전 :  11245\n",
      "kcs : 106239247C1D5932159413   path : /volume1/대성/1.원인서류/백운-01/10623924/10623924_전선영_원인서류_정준태.pdf\n",
      "삭제하였습니다.\n",
      "삭제 후 :  11244\n",
      "삭제 전 :  11244\n",
      "kcs : 10623925A4C980DC169639   path : /volume1/대성/1.원인서류/백운-01/10623925/10623925_박연숙_원인서류_김길자.pdf\n",
      "삭제하였습니다.\n",
      "삭제 후 :  11243\n",
      "삭제 전 :  11243\n",
      "kcs : 106239264531D80E130936   path : /volume1/대성/1.원인서류/백운-01/10623926/10623926_박인용_원인서류_원영노.pdf\n",
      "삭제하였습니다.\n",
      "삭제 후 :  11242\n",
      "삭제 전 :  11242\n",
      "kcs : 10623940513C8812161392   path : /volume1/대성/1.원인서류/백운-01/10623940/10623940_권태자_원인서류_김현덕.pdf\n",
      "삭제하였습니다.\n",
      "삭제 후 :  11241\n",
      "삭제 전 :  11241\n",
      "kcs : 106239423D51DC14146014   path : /volume1/대성/1.원인서류/백운-01/10623942/10623942_송연옥_원인서류_김미화.pdf\n",
      "삭제하였습니다.\n",
      "삭제 후 :  11240\n",
      "삭제 전 :  11240\n",
      "kcs : 106239422D4BC1A9153078   path : /volume1/대성/1.원인서류/백운-01/10623942/10623942_송연옥_원인서류_문신순.pdf\n",
      "삭제하였습니다.\n",
      "삭제 후 :  11239\n",
      "삭제 전 :  11239\n",
      "kcs : 10623954914A3048166403   path : /volume1/대성/1.원인서류/백운-01/10623954/10623954_김매순_원인서류_백금자.pdf\n",
      "삭제하였습니다.\n",
      "삭제 후 :  11238\n",
      "삭제 전 :  11238\n",
      "kcs : 10623960FDB66014151232   path : /volume1/대성/1.원인서류/백운-01/10623960/10623960_차정애_원인서류_이창기.pdf\n",
      "삭제하였습니다.\n",
      "삭제 후 :  11237\n",
      "삭제 전 :  11237\n",
      "kcs : 1062396600B1258F131203   path : /volume1/대성/1.원인서류/백운-01/10623966/10623966_박장순_원인서류_유재근.pdf\n",
      "삭제하였습니다.\n",
      "삭제 후 :  11236\n",
      "삭제 전 :  11236\n",
      "kcs : 1062397585D3128A159454   path : /volume1/대성/1.원인서류/백운-01/10623975/10623975_정완숙_원인서류_오영미.pdf\n",
      "삭제하였습니다.\n",
      "삭제 후 :  11235\n",
      "삭제 전 :  11235\n",
      "kcs : 10623987DB55C0EC168922   path : /volume1/대성/1.원인서류/백운-01/10623987/10623987_정순화_원인서류_임학수.pdf\n",
      "삭제하였습니다.\n",
      "삭제 후 :  11234\n",
      "삭제 전 :  11234\n",
      "kcs : 106239908C6197E5123464   path : /volume1/대성/1.원인서류/백운-01/10623990/10623990_이정옥_원인서류_김성자.pdf\n",
      "삭제하였습니다.\n",
      "삭제 후 :  11233\n",
      "삭제 전 :  11233\n",
      "kcs : 1062399122BD6A4B164095   path : /volume1/대성/1.원인서류/백운-01/10623991/10623991_고부원_원인서류_이장일.pdf\n",
      "삭제하였습니다.\n",
      "삭제 후 :  11232\n",
      "삭제 전 :  11232\n",
      "kcs : 10623991D26BC7EE162004   path : /volume1/대성/1.원인서류/백운-01/10623991/10623991_고부원_원인서류_정문교.pdf\n",
      "삭제하였습니다.\n",
      "삭제 후 :  11231\n",
      "삭제 전 :  11231\n",
      "kcs : 106239954FF0451C141439   path : /volume1/대성/1.원인서류/백운-01/10623995/10623995_이기승_원인서류_박광이.pdf\n",
      "삭제하였습니다.\n",
      "삭제 후 :  11230\n",
      "삭제 전 :  11230\n",
      "kcs : 10623996FE17C6E0168303   path : /volume1/대성/1.원인서류/백운-01/10623996/10623996_조경희_원인서류_정찬익.pdf\n",
      "삭제하였습니다.\n",
      "삭제 후 :  11229\n",
      "삭제 전 :  11229\n",
      "kcs : 1062400183EB2ED1155733   path : /volume1/대성/1.원인서류/백운-01/10624001/10624001_전상일_원인서류_구연강.pdf\n",
      "삭제하였습니다.\n",
      "삭제 후 :  11228\n",
      "삭제 전 :  11228\n",
      "kcs : 10624012A957D999169245   path : /volume1/대성/1.원인서류/백운-01/10624012/10624012_이상태_원인서류_조일환.pdf\n",
      "삭제하였습니다.\n",
      "삭제 후 :  11227\n",
      "삭제 전 :  11227\n",
      "kcs : 106240140F22F1CE157914   path : /volume1/대성/1.원인서류/백운-01/10624014/10624014_김이근_원인서류_송영애.pdf\n",
      "삭제하였습니다.\n",
      "삭제 후 :  11226\n",
      "삭제 전 :  11226\n",
      "kcs : 1062402927193A1A134220   path : /volume1/대성/1.원인서류/백운-01/10624029/10624029_김금철_원인서류_김은향.pdf\n",
      "삭제하였습니다.\n",
      "삭제 후 :  11225\n",
      "삭제 전 :  11225\n",
      "kcs : 10624030C0033C0C171749   path : /volume1/대성/1.원인서류/백운-01/10624030/10624030_황형식_원인서류_성기준.pdf\n",
      "삭제하였습니다.\n",
      "삭제 후 :  11224\n",
      "삭제 전 :  11224\n",
      "\\\\192.168.0.75\\스캔파일\\대성 스캔파일 업로드\\구스캔파일\\Thumbs.db Thumbs.dBD6398DD18944 없는 키값\n",
      "삭제 후 :  11224\n",
      "삭제 전 :  11224\n"
     ]
    },
    {
     "ename": "PermissionError",
     "evalue": "[Errno 13] Permission denied: '\\\\\\\\192.168.0.75\\\\스캔파일\\\\대성 스캔파일 업로드\\\\구스캔파일\\\\파일명에러'",
     "output_type": "error",
     "traceback": [
      "\u001b[1;31m---------------------------------------------------------------------------\u001b[0m",
      "\u001b[1;31mPermissionError\u001b[0m                           Traceback (most recent call last)",
      "\u001b[1;32m~\\AppData\\Local\\Temp\\ipykernel_24836\\2854599264.py\u001b[0m in \u001b[0;36m<cell line: 3>\u001b[1;34m()\u001b[0m\n\u001b[0;32m      3\u001b[0m \u001b[1;32mfor\u001b[0m \u001b[0mf\u001b[0m \u001b[1;32min\u001b[0m \u001b[0mos\u001b[0m\u001b[1;33m.\u001b[0m\u001b[0mlistdir\u001b[0m\u001b[1;33m(\u001b[0m\u001b[0mpath\u001b[0m\u001b[1;33m)\u001b[0m \u001b[1;33m:\u001b[0m\u001b[1;33m\u001b[0m\u001b[1;33m\u001b[0m\u001b[0m\n\u001b[0;32m      4\u001b[0m     \u001b[0mpath_192\u001b[0m \u001b[1;33m=\u001b[0m \u001b[0mos\u001b[0m\u001b[1;33m.\u001b[0m\u001b[0mpath\u001b[0m\u001b[1;33m.\u001b[0m\u001b[0mjoin\u001b[0m\u001b[1;33m(\u001b[0m\u001b[0mpath\u001b[0m\u001b[1;33m,\u001b[0m \u001b[0mf\u001b[0m\u001b[1;33m)\u001b[0m\u001b[1;33m\u001b[0m\u001b[1;33m\u001b[0m\u001b[0m\n\u001b[1;32m----> 5\u001b[1;33m     \u001b[0mdelete_kcs\u001b[0m\u001b[1;33m(\u001b[0m\u001b[0mpath_192\u001b[0m\u001b[1;33m,\u001b[0m \u001b[0mdict_kcs\u001b[0m\u001b[1;33m)\u001b[0m\u001b[1;33m\u001b[0m\u001b[1;33m\u001b[0m\u001b[0m\n\u001b[0m",
      "\u001b[1;32m~\\AppData\\Local\\Temp\\ipykernel_24836\\2875460931.py\u001b[0m in \u001b[0;36mdelete_kcs\u001b[1;34m(filePath, dict_kcs)\u001b[0m\n\u001b[0;32m     27\u001b[0m     \u001b[0mprint\u001b[0m\u001b[1;33m(\u001b[0m\u001b[1;34m\"삭제 전 : \"\u001b[0m\u001b[1;33m,\u001b[0m \u001b[0mlen\u001b[0m\u001b[1;33m(\u001b[0m\u001b[0mdict_kcs\u001b[0m\u001b[1;33m)\u001b[0m\u001b[1;33m)\u001b[0m\u001b[1;33m\u001b[0m\u001b[1;33m\u001b[0m\u001b[0m\n\u001b[0;32m     28\u001b[0m     \u001b[0mk\u001b[0m \u001b[1;33m=\u001b[0m \u001b[0mos\u001b[0m\u001b[1;33m.\u001b[0m\u001b[0mpath\u001b[0m\u001b[1;33m.\u001b[0m\u001b[0msplit\u001b[0m\u001b[1;33m(\u001b[0m\u001b[0mfilePath\u001b[0m\u001b[1;33m)\u001b[0m\u001b[1;33m[\u001b[0m\u001b[1;36m1\u001b[0m\u001b[1;33m]\u001b[0m\u001b[1;33m[\u001b[0m\u001b[1;33m:\u001b[0m\u001b[1;36m8\u001b[0m\u001b[1;33m]\u001b[0m\u001b[1;33m\u001b[0m\u001b[1;33m\u001b[0m\u001b[0m\n\u001b[1;32m---> 29\u001b[1;33m     \u001b[0mc\u001b[0m \u001b[1;33m=\u001b[0m \u001b[0mstr\u001b[0m\u001b[1;33m(\u001b[0m\u001b[0mcrc32_checksum\u001b[0m\u001b[1;33m(\u001b[0m\u001b[0mfilePath\u001b[0m\u001b[1;33m)\u001b[0m\u001b[1;33m)\u001b[0m\u001b[1;33m\u001b[0m\u001b[1;33m\u001b[0m\u001b[0m\n\u001b[0m\u001b[0;32m     30\u001b[0m     \u001b[0ms\u001b[0m \u001b[1;33m=\u001b[0m \u001b[0mstr\u001b[0m\u001b[1;33m(\u001b[0m\u001b[0mos\u001b[0m\u001b[1;33m.\u001b[0m\u001b[0mpath\u001b[0m\u001b[1;33m.\u001b[0m\u001b[0mgetsize\u001b[0m\u001b[1;33m(\u001b[0m\u001b[0mfilePath\u001b[0m\u001b[1;33m)\u001b[0m\u001b[1;33m)\u001b[0m\u001b[1;33m\u001b[0m\u001b[1;33m\u001b[0m\u001b[0m\n\u001b[0;32m     31\u001b[0m     \u001b[0mkcs\u001b[0m \u001b[1;33m=\u001b[0m \u001b[0mk\u001b[0m \u001b[1;33m+\u001b[0m \u001b[0mc\u001b[0m \u001b[1;33m+\u001b[0m \u001b[0ms\u001b[0m\u001b[1;33m\u001b[0m\u001b[1;33m\u001b[0m\u001b[0m\n",
      "\u001b[1;32m~\\AppData\\Local\\Temp\\ipykernel_24836\\2875460931.py\u001b[0m in \u001b[0;36mcrc32_checksum\u001b[1;34m(filename)\u001b[0m\n\u001b[0;32m      8\u001b[0m \u001b[1;33m\u001b[0m\u001b[0m\n\u001b[0;32m      9\u001b[0m \u001b[1;32mdef\u001b[0m \u001b[0mcrc32_checksum\u001b[0m\u001b[1;33m(\u001b[0m\u001b[0mfilename\u001b[0m\u001b[1;33m)\u001b[0m\u001b[1;33m:\u001b[0m\u001b[1;33m\u001b[0m\u001b[1;33m\u001b[0m\u001b[0m\n\u001b[1;32m---> 10\u001b[1;33m     \u001b[0mbuf\u001b[0m \u001b[1;33m=\u001b[0m \u001b[0mopen\u001b[0m\u001b[1;33m(\u001b[0m\u001b[0mfilename\u001b[0m\u001b[1;33m,\u001b[0m\u001b[1;34m'rb'\u001b[0m\u001b[1;33m)\u001b[0m\u001b[1;33m.\u001b[0m\u001b[0mread\u001b[0m\u001b[1;33m(\u001b[0m\u001b[1;33m)\u001b[0m\u001b[1;33m\u001b[0m\u001b[1;33m\u001b[0m\u001b[0m\n\u001b[0m\u001b[0;32m     11\u001b[0m     \u001b[0mbuf\u001b[0m \u001b[1;33m=\u001b[0m \u001b[1;33m(\u001b[0m\u001b[0mbinascii\u001b[0m\u001b[1;33m.\u001b[0m\u001b[0mcrc32\u001b[0m\u001b[1;33m(\u001b[0m\u001b[0mbuf\u001b[0m\u001b[1;33m)\u001b[0m \u001b[1;33m&\u001b[0m \u001b[1;36m0xFFFFFFFF\u001b[0m\u001b[1;33m)\u001b[0m\u001b[1;33m\u001b[0m\u001b[1;33m\u001b[0m\u001b[0m\n\u001b[0;32m     12\u001b[0m     \u001b[1;32mreturn\u001b[0m \u001b[1;34m\"%08X\"\u001b[0m \u001b[1;33m%\u001b[0m \u001b[0mbuf\u001b[0m\u001b[1;33m\u001b[0m\u001b[1;33m\u001b[0m\u001b[0m\n",
      "\u001b[1;31mPermissionError\u001b[0m: [Errno 13] Permission denied: '\\\\\\\\192.168.0.75\\\\스캔파일\\\\대성 스캔파일 업로드\\\\구스캔파일\\\\파일명에러'"
     ]
    }
   ],
   "source": [
    "# 폴더 내 전체 파일 dict 삭제\n",
    "path = r\"\\\\192.168.0.75\\스캔파일\\대성 스캔파일 업로드\\구스캔파일\"\n",
    "for f in os.listdir(path) :\n",
    "    if os.path.isfile(f) : \n",
    "        path_192 = os.path.join(path, f)\n",
    "        delete_kcs(path_192, dict_kcs)\n"
   ]
  },
  {
   "attachments": {},
   "cell_type": "markdown",
   "metadata": {},
   "source": [
    "### dict 수정 \n",
    "- 폴더 달라질 때는 그냥 새로 업로드하는게 낫겠다."
   ]
  },
  {
   "cell_type": "code",
   "execution_count": 5,
   "metadata": {},
   "outputs": [
    {
     "name": "stdout",
     "output_type": "stream",
     "text": [
      "dict 키 변화 : 20414371ECD2146F176769 >>> 20414371ECD2146F176769\n",
      "dict 값 변화 : /volume1/솔림헬프/3.집행권원/DNP-01/20414371/20414371_조영민_집행권원.pdf >>> /volume1/솔림헬프/3.집행권원/DNP-01/20414371/20414371 조영민 2023차전102996.pdf\n"
     ]
    }
   ],
   "source": [
    "########################################################### 20514967\n",
    "src = r\"\\\\192.168.0.75\\솔림헬프\\3.집행권원\\DNP-01\\20414371\\20414371_조영민_집행권원.pdf\"\n",
    "dst = r\"\\\\192.168.0.75\\솔림헬프\\3.집행권원\\DNP-01\\20414371\\20414371 조영민 2023차전102996.pdf\"\n",
    "###########################################################\n",
    "\n",
    "# 1) dict 수정\n",
    "update_kcs(src, dst, dict_kcs)"
   ]
  },
  {
   "cell_type": "code",
   "execution_count": 6,
   "metadata": {},
   "outputs": [
    {
     "name": "stdout",
     "output_type": "stream",
     "text": [
      "파일명(경로) 수정 성공\n"
     ]
    }
   ],
   "source": [
    "# 2) 파일수정 : dict보다 먼저 하면 kcs를 읽을 수가 없음\n",
    "os.rename(src, dst)\n",
    "print(\"파일명(경로) 수정 성공\")"
   ]
  },
  {
   "cell_type": "code",
   "execution_count": 7,
   "metadata": {},
   "outputs": [],
   "source": [
    "# 3) dict 파일로 저장 # 약 20초 소요\n",
    "write_kcs(path_kcs, dict_kcs)"
   ]
  },
  {
   "attachments": {},
   "cell_type": "markdown",
   "metadata": {},
   "source": [
    "#### 폴더 내 여러 파일 "
   ]
  },
  {
   "cell_type": "code",
   "execution_count": 12,
   "metadata": {},
   "outputs": [
    {
     "name": "stdout",
     "output_type": "stream",
     "text": [
      "dict 키 변화 : 20419713364E4B38368410 >>> 20419713364E4B38368410\n",
      "dict 값 변화 : /volume1/솔림헬프/5.등초본/한울가람/20419713/20419713_염직 보증인 강태수_초본_220926.pdf >>> /volume1/솔림헬프/5.등초본/한울가람/20419713/20419713_88염직 보증인 강태수_초본_220926.pdf\n"
     ]
    }
   ],
   "source": [
    "########################################################\n",
    "path = r\"\\\\192.168.0.75\\솔림헬프\\5.등초본\\한울가람\\20419713\"\n",
    "for f in os.listdir(path) :\n",
    "    src = join(path, f)\n",
    "    dst_file = re.sub(\"염직\", \"88염직\", f)\n",
    "    ####################################\n",
    "    dst = join(path, dst_file)\n",
    "    if src != dst :\n",
    "        update_kcs(src, dst, dict_kcs)\n",
    "        os.rename(src, dst)"
   ]
  },
  {
   "cell_type": "code",
   "execution_count": 14,
   "metadata": {},
   "outputs": [],
   "source": [
    "write_kcs(path_kcs, dict_kcs)"
   ]
  }
 ],
 "metadata": {
  "kernelspec": {
   "display_name": "base",
   "language": "python",
   "name": "python3"
  },
  "language_info": {
   "codemirror_mode": {
    "name": "ipython",
    "version": 3
   },
   "file_extension": ".py",
   "mimetype": "text/x-python",
   "name": "python",
   "nbconvert_exporter": "python",
   "pygments_lexer": "ipython3",
   "version": "3.9.13"
  },
  "orig_nbformat": 4,
  "vscode": {
   "interpreter": {
    "hash": "38d617750889899e5f2f65cac6f27a322f361a63d334879a800ee5491961f90c"
   }
  }
 },
 "nbformat": 4,
 "nbformat_minor": 2
}
