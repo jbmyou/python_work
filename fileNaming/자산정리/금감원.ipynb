{
 "cells": [
  {
   "cell_type": "code",
   "execution_count": 1,
   "metadata": {},
   "outputs": [],
   "source": [
    "import pandas as pd\n",
    "import numpy as np\n",
    "import re\n",
    "import os\n",
    "from os.path import join\n",
    "import warnings\n",
    "warnings.simplefilter(\"ignore\")\n",
    "\n",
    "deposit_dtype = {'채무자키':str, '입금키':str, '계좌키':str, '계좌번호':str, '입금고정키':str, '타채무자키':str}\n",
    "\n",
    "# 출력 옵션\n",
    "pd.options.display.float_format = '{:,.0f}'.format"
   ]
  },
  {
   "cell_type": "markdown",
   "metadata": {},
   "source": [
    "### LM035(매각채권) - 그냥 수작업\n",
    "- 매각이 여러건이면 읽을 파일이 많고, 단건이면 수작업도 금방 끝남"
   ]
  },
  {
   "cell_type": "markdown",
   "metadata": {},
   "source": [
    "### LM036(매입채권 : 관리채권)"
   ]
  },
  {
   "cell_type": "code",
   "execution_count": 2,
   "metadata": {},
   "outputs": [
    {
     "name": "stdout",
     "output_type": "stream",
     "text": [
      "채권수 : 28,478 / 반영OPB합 : 373,742,676,265\n"
     ]
    },
    {
     "data": {
      "text/html": [
       "<div>\n",
       "<style scoped>\n",
       "    .dataframe tbody tr th:only-of-type {\n",
       "        vertical-align: middle;\n",
       "    }\n",
       "\n",
       "    .dataframe tbody tr th {\n",
       "        vertical-align: top;\n",
       "    }\n",
       "\n",
       "    .dataframe thead th {\n",
       "        text-align: right;\n",
       "    }\n",
       "</style>\n",
       "<table border=\"1\" class=\"dataframe\">\n",
       "  <thead>\n",
       "    <tr style=\"text-align: right;\">\n",
       "      <th></th>\n",
       "      <th>채무자키</th>\n",
       "      <th>계좌키</th>\n",
       "      <th>타채무자키</th>\n",
       "      <th>채권구분</th>\n",
       "      <th>채권상태</th>\n",
       "      <th>새채무상태</th>\n",
       "      <th>채무상태</th>\n",
       "      <th>담당자</th>\n",
       "      <th>새보증인상태</th>\n",
       "      <th>반영OPB</th>\n",
       "      <th>...</th>\n",
       "      <th>주소</th>\n",
       "      <th>새채무자키</th>\n",
       "      <th>보증인성명인</th>\n",
       "      <th>보증인상태</th>\n",
       "      <th>추심가능여부</th>\n",
       "      <th>새보증인상태by새채무자키</th>\n",
       "      <th>매각사</th>\n",
       "      <th>원채권사코드</th>\n",
       "      <th>매각사코드</th>\n",
       "      <th>접수일</th>\n",
       "    </tr>\n",
       "  </thead>\n",
       "  <tbody>\n",
       "  </tbody>\n",
       "</table>\n",
       "<p>0 rows × 55 columns</p>\n",
       "</div>"
      ],
      "text/plain": [
       "Empty DataFrame\n",
       "Columns: [채무자키, 계좌키, 타채무자키, 채권구분, 채권상태, 새채무상태, 채무상태, 담당자, 새보증인상태, 반영OPB, 성명, 주민등록번호, 계좌번호, 원채권사, 매각사구분, 계정과목, 은행대출원금, 최초원금, 최초법비용, 최초미수이자, 연체이자율, 현재원금, 현재법비용, OPB, 매입OPB, 현재미수이자, 현재연체이자, 현재합계, 회수합계, 최초대출일, 대출만기일, 최초연체일, 매입일, 시효실사결과, 시효완성월, 시효사유, 시효완성일, 종결일, 메모, 원인서류유무, 최종거래일, 분납연체일, 개인법인, 연령, 우편번호, 주소, 새채무자키, 보증인성명인, 보증인상태, 추심가능여부, 새보증인상태by새채무자키, 매각사, 원채권사코드, 매각사코드, 접수일]\n",
       "Index: []\n",
       "\n",
       "[0 rows x 55 columns]"
      ]
     },
     "execution_count": 2,
     "metadata": {},
     "output_type": "execute_result"
    }
   ],
   "source": [
    "# 전체 원데이터 읽기\n",
    "\n",
    "######################################################\n",
    "path_raw_data = r\"D:\\3.자산\\전산 dataset\\솔림\\240930\\pkl\"\n",
    "fn_raw_data = \"2.솔림_전체_원데이터_240930_by새채무자키\"\n",
    "######################################################\n",
    "\n",
    "raw_data = pd.read_pickle(join(path_raw_data, fn_raw_data + \".pkl\"))\n",
    "\n",
    "# 종료, 종료요청 제외\n",
    "raw_data = raw_data.query('~새채무상태.str.contains(\"종료\")')\n",
    "raw_data.reset_index(inplace=True, drop=True)\n",
    "print(f'채권수 : {len(raw_data):,} / 반영OPB합 : {raw_data.반영OPB.sum():,}')\n",
    "\n",
    "# 원채권사, 매각사 코드 merge\n",
    "# 채무자조회파일에서 매각사 불러오기\n",
    "file_list = os.listdir(path_raw_data)\n",
    "fn_debt = [file for file in file_list if file.startswith(\"채무자조회\")][0]\n",
    "\n",
    "debt = pd.read_pickle(join(path_raw_data, fn_debt))[[\"채무자키\", \"매각사\"]]\n",
    "\n",
    "# 코드 파일 불러오기\n",
    "원채권사코드 = pd.read_excel(r\"D:\\3.자산\\금감원\\기관코드표.xlsx\", sheet_name=\"원채권사\", dtype={\"원채권사코드\":str})\n",
    "매각사코드 = pd.read_excel(r\"D:\\3.자산\\금감원\\기관코드표.xlsx\", sheet_name=\"매각사\", dtype={\"매각사코드\":str})\n",
    "\n",
    "# 병합\n",
    "raw_data = raw_data.merge(debt, on=\"채무자키\", how=\"left\")\n",
    "raw_data = raw_data.merge(원채권사코드, on=\"원채권사\", how=\"left\")\n",
    "raw_data = raw_data.merge(매각사코드, on=\"매각사\", how=\"left\")\n",
    "\n",
    "# 법조치 읽기\n",
    "fn_event = [file for file in file_list if file.startswith(\"법조치조회\")][0]\n",
    "event = pd.read_pickle(join(path_raw_data, fn_event))[[\"채무자키\", \"법조치구분\", \"접수일\"]]\n",
    "len(event)\n",
    "\n",
    "\n",
    "# 새채무자키 merge\n",
    "event = pd.merge(event, raw_data.drop_duplicates('채무자키')[[\"채무자키\",\"새채무자키\"]] , on=\"채무자키\", how='left')\n",
    "\n",
    "# 법조치 필터링(집행권원만 할거면 자산정리_통합파일에서, **신청일 살려야)\n",
    "# 새채무자키 없는 거 삭제(종결건 삭제)\n",
    "event.query('~새채무자키.isna()')\n",
    "# 접수일 없는 거 삭제\n",
    "event = event.query('접수일 != \"\"')\n",
    "# 법조치구분 선택\n",
    "comp = r\"가?압류|가?처분|강제|경매|집행|담보|보전|본안|사해행위|시효연장|유체|재산관계|재산명시|전자독촉|지급명령|불이행|추심\"\n",
    "event = event.query('법조치구분.str.contains(@comp)')\n",
    "\n",
    "# 접수일 역정렬\n",
    "event.sort_values(\"접수일\", ascending=False, inplace =True)\n",
    "event.drop_duplicates(subset='새채무자키', keep='first', inplace=True)\n",
    "\n",
    "# raw_data에 열추가(merge)\n",
    "raw_data = raw_data.merge(event[[\"새채무자키\", \"접수일\"]], on=\"새채무자키\", how=\"left\").fillna(\"\")\n",
    "\n",
    "# 병합잘못되어 계좌키 중복건 있는지 체크\n",
    "raw_data[raw_data.계좌키.duplicated()]"
   ]
  },
  {
   "cell_type": "code",
   "execution_count": 3,
   "metadata": {},
   "outputs": [],
   "source": [
    "# 복붙용 파일 만들기\n",
    "lm036 = pd.DataFrame()\n",
    "\n",
    "lm036[\"고객번호\"] = raw_data.채무자키\n",
    "lm036[\"계약번호\"] = raw_data.계좌번호\n",
    "lm036[\"차주명\"] = raw_data.성명\n",
    "lm036[\"차주실명번호\"] = raw_data.주민등록번호.apply(lambda x: re.sub(\"-\",\"\", x)+\"000\" if len(re.sub(\"-\",\"\", x)) == 10 else re.sub(\"-\",\"\", x))\n",
    "lm036[\"차주구분\"] = np.where(raw_data.개인법인==\"법인\", \"03\", np.where(raw_data.주민등록번호.str[7].astype(int) % 2 == 1, \"01\", \"02\"))\n",
    "lm036[\"매입회차\"] = \"\"\n",
    "lm036[\"매입일\"] = raw_data.매입일\n",
    "lm036[\"대출일\"] = raw_data.최초대출일\n",
    "lm036[\"대출종류\"] = \"01\"\n",
    "lm036[\"상환금액\"] = raw_data.회수합계\n",
    "lm036[\"만기일\"] = raw_data.대출만기일\n",
    "lm036[\"최초계약금액\"] = raw_data.은행대출원금\n",
    "lm036[\"매입서류상잔액\"] = raw_data.매입OPB # 2406이후 매입시 반영OPB로(매입OPB컬럼은 7월 자산정리파일부터 있음), raw_data.최초원금 + raw_data.최초법비용 # raw_data의 최초금액은 매입최초금액\n",
    "lm036[\"실제매입금액\"] = \"\"\n",
    "lm036[\"기준일장부가액\"] = \"\" # 재무제표 오재홍팀장님 작성건 2406부터 반영opb로, raw_data.현재원금 + raw_data.현재법비용\n",
    "lm036[\"금리\"] = raw_data.연체이자율\n",
    "lm036[\"최종수령일\"] = raw_data.최종거래일\n",
    "lm036[\"이자연체일수\"] = 0\n",
    "lm036[\"만기연체일수\"] = 0\n",
    "lm036[\"시효완성일\"] = raw_data.시효완성일\n",
    "lm036[\"지급명령신청일\"] = raw_data.접수일\n",
    "lm036[\"채권서류존재유무\"] = np.where(raw_data.원인서류유무==0,\"N\", \"Y\")\n",
    "\n",
    "x = raw_data.새채무상태\n",
    "y = raw_data.채무상태\n",
    "z = raw_data.분납연체일\n",
    "conds = [x.str.contains(\"개인회생\"), x.str.contains(\"신용회복\"), y.str.contains(\"사망\"), ~z.isna()]\n",
    "values = [\"03\", \"04\", \"07\", \"05\"]\n",
    "lm036[\"현상태\"] = np.select(conds, values, default=\"02\")\n",
    "lm036[\"원인채권회사번호\"] = raw_data.원채권사코드\n",
    "lm036[\"원인채권회사명\"] = raw_data.원채권사\n",
    "lm036[\"채권양도회사번호\"] = raw_data.매각사코드\n",
    "lm036[\"양도금융회사명\"] = raw_data.매각사\n",
    "lm036[\"채권추심위임일\"] = \"\"\n",
    "lm036[\"채권추심위임기관\"] = \"\"\n",
    "lm036[\"연대보증여부\"] = \"N\""
   ]
  },
  {
   "cell_type": "code",
   "execution_count": 4,
   "metadata": {},
   "outputs": [],
   "source": [
    "# 엑셀로 보내기\n",
    "lm036.to_excel(r\"D:\\3.자산\\금감원\\lm036_새채무자키.xlsx\", index=False)\n",
    "\n",
    "# 신용회복 원상회복 때문에 회수내역은 입금 다운 받아서 재작성해야함"
   ]
  },
  {
   "cell_type": "markdown",
   "metadata": {},
   "source": [
    "### 회수내역\n",
    "- 매입일 가장 빠른 날짜부터 기준일까지, 계좌키표시, 만건씩 귾어서, 기본값으로 조회"
   ]
  },
  {
   "cell_type": "code",
   "execution_count": 2,
   "metadata": {},
   "outputs": [],
   "source": [
    "#################################################\n",
    "path_dir_입금 = r\"D:\\3.자산\\금감원\\2024 전반기\\참고\"\n",
    "path_fn_입금 = \"대성_입금조회새창_20240717_1045.xlsx\"\n",
    "기준일 = \"2024-06-30\"\n",
    "#################################################\n",
    "\n",
    "# 입금 파일 읽고 회수내역 재작성 (신복 원상회복 때문에..)\n",
    "입금 = pd.read_excel(join(path_dir_입금, path_fn_입금), dtype=deposit_dtype)"
   ]
  },
  {
   "cell_type": "code",
   "execution_count": 3,
   "metadata": {},
   "outputs": [
    {
     "ename": "NameError",
     "evalue": "name 'raw_data' is not defined",
     "output_type": "error",
     "traceback": [
      "\u001b[1;31m---------------------------------------------------------------------------\u001b[0m",
      "\u001b[1;31mNameError\u001b[0m                                 Traceback (most recent call last)",
      "Cell \u001b[1;32mIn[3], line 15\u001b[0m\n\u001b[0;32m     12\u001b[0m 계좌별회수내역 \u001b[38;5;241m=\u001b[39m deposit\u001b[38;5;241m.\u001b[39mgroupby(\u001b[38;5;124m'\u001b[39m\u001b[38;5;124m계좌키\u001b[39m\u001b[38;5;124m'\u001b[39m)[\u001b[38;5;124m\"\u001b[39m\u001b[38;5;124m입금합계\u001b[39m\u001b[38;5;124m\"\u001b[39m]\u001b[38;5;241m.\u001b[39msum()\u001b[38;5;241m.\u001b[39mreset_index()\n\u001b[0;32m     14\u001b[0m \u001b[38;5;66;03m# 계좌번호 추가하기\u001b[39;00m\n\u001b[1;32m---> 15\u001b[0m 계좌별회수내역 \u001b[38;5;241m=\u001b[39m 계좌별회수내역\u001b[38;5;241m.\u001b[39mmerge(\u001b[43mraw_data\u001b[49m[[\u001b[38;5;124m\"\u001b[39m\u001b[38;5;124m계좌키\u001b[39m\u001b[38;5;124m\"\u001b[39m, \u001b[38;5;124m\"\u001b[39m\u001b[38;5;124m채무자키\u001b[39m\u001b[38;5;124m\"\u001b[39m,\u001b[38;5;124m\"\u001b[39m\u001b[38;5;124m계좌번호\u001b[39m\u001b[38;5;124m\"\u001b[39m]], on\u001b[38;5;241m=\u001b[39m\u001b[38;5;124m'\u001b[39m\u001b[38;5;124m계좌키\u001b[39m\u001b[38;5;124m'\u001b[39m)\n\u001b[0;32m     17\u001b[0m \u001b[38;5;66;03m# 계좌번호가 pk인지 확인(false만 나와야)\u001b[39;00m\n\u001b[0;32m     18\u001b[0m \u001b[38;5;28mprint\u001b[39m(\u001b[38;5;124m\"\u001b[39m\u001b[38;5;124m계좌번호 pk인지 확인(false만 나와야)\u001b[39m\u001b[38;5;124m\"\u001b[39m)\n",
      "\u001b[1;31mNameError\u001b[0m: name 'raw_data' is not defined"
     ]
    }
   ],
   "source": [
    "deposit = 입금[[\"채무자키\", \"계좌키\", \"입금합계\",\"입금일\", \"입금구분\", \"입금기간\"]].copy()\n",
    "\n",
    "# 불필요 행 삭제 \n",
    "cond1 = deposit.입금일 <= 기준일\n",
    "cond2 = deposit.입금구분.str.contains(\"약정분납|임의변제|개인회생|신용회복|채권압류|배당급|유체동산|일반입금|대위변제|부동산경매|내사입금|기타\")\n",
    "deposit['입금기간'] = deposit['입금기간'].astype(str)\n",
    "cond3 = ~(deposit.입금기간.str.contains(\"환불|회수제외|매입전|매각후\"))\n",
    "\n",
    "deposit = deposit[cond1 & cond2 & cond3]\n",
    "\n",
    "# 계좌별로 그룹화하기\n",
    "계좌별회수내역 = deposit.groupby('계좌키')[\"입금합계\"].sum().reset_index()\n",
    "\n",
    "# 계좌번호 추가하기\n",
    "계좌별회수내역 = 계좌별회수내역.merge(raw_data[[\"계좌키\", \"채무자키\",\"계좌번호\"]], on='계좌키')\n",
    "\n",
    "# 계좌번호가 pk인지 확인(false만 나와야)\n",
    "print(\"계좌번호 pk인지 확인(false만 나와야)\")\n",
    "print(계좌별회수내역.duplicated('계좌번호', keep=False).value_counts())"
   ]
  },
  {
   "cell_type": "code",
   "execution_count": 8,
   "metadata": {},
   "outputs": [],
   "source": [
    "계좌별회수내역.to_excel(join(path_dir_입금, \"매입후_계좌별회수내역.xlsx\"), index=False)\n",
    "# 채무자키 + 계좌번호가 pk 임"
   ]
  },
  {
   "cell_type": "markdown",
   "metadata": {},
   "source": [
    "#### 반기보고서용 회수내역 GC035"
   ]
  },
  {
   "cell_type": "code",
   "execution_count": 9,
   "metadata": {},
   "outputs": [
    {
     "data": {
      "text/html": [
       "<div>\n",
       "<style scoped>\n",
       "    .dataframe tbody tr th:only-of-type {\n",
       "        vertical-align: middle;\n",
       "    }\n",
       "\n",
       "    .dataframe tbody tr th {\n",
       "        vertical-align: top;\n",
       "    }\n",
       "\n",
       "    .dataframe thead th {\n",
       "        text-align: right;\n",
       "    }\n",
       "</style>\n",
       "<table border=\"1\" class=\"dataframe\">\n",
       "  <thead>\n",
       "    <tr style=\"text-align: right;\">\n",
       "      <th></th>\n",
       "      <th>입금합계</th>\n",
       "    </tr>\n",
       "    <tr>\n",
       "      <th>개인법인</th>\n",
       "      <th></th>\n",
       "    </tr>\n",
       "  </thead>\n",
       "  <tbody>\n",
       "    <tr>\n",
       "      <th>개인</th>\n",
       "      <td>159628742</td>\n",
       "    </tr>\n",
       "    <tr>\n",
       "      <th>개인사업자</th>\n",
       "      <td>4206</td>\n",
       "    </tr>\n",
       "    <tr>\n",
       "      <th>법인</th>\n",
       "      <td>11262666</td>\n",
       "    </tr>\n",
       "  </tbody>\n",
       "</table>\n",
       "</div>"
      ],
      "text/plain": [
       "            입금합계\n",
       "개인법인            \n",
       "개인     159628742\n",
       "개인사업자       4206\n",
       "법인      11262666"
      ]
     },
     "execution_count": 9,
     "metadata": {},
     "output_type": "execute_result"
    }
   ],
   "source": [
    "### 반기보고서용 회수내역 (당반기)\n",
    "deposit = 입금[[\"채무자키\", \"계좌키\", \"입금합계\",\"입금일\", \"입금구분\", \"입금기간\"]].copy()\n",
    "\n",
    "# 불필요 행 삭제 \n",
    "cond1 = (deposit.입금일 <= 기준일) & ( \"2024-01-01\" <= deposit.입금일) ###############################\n",
    "cond2 = deposit.입금구분.str.contains(\"약정분납|임의변제|개인회생|신용회복|채권압류|배당급|유체동산|일반입금|대위변제|부동산경매|내사입금|기타\")\n",
    "deposit['입금기간'] = deposit['입금기간'].astype(str)\n",
    "cond3 = ~(deposit.입금기간.str.contains(\"환불|회수제외|매입전|매각후\"))\n",
    "deposit = deposit[cond1 & cond2 & cond3]\n",
    "\n",
    "# 개인법인 merge\n",
    "deposit = deposit.merge(raw_data[[\"계좌키\", \"개인법인\"]], on='계좌키')\n",
    "\n",
    "# 개인법인 회수내역 pivot\n",
    "deposit.pivot_table(values='입금합계', index='개인법인', aggfunc='sum')"
   ]
  }
 ],
 "metadata": {
  "kernelspec": {
   "display_name": "py_39",
   "language": "python",
   "name": "python3"
  },
  "language_info": {
   "codemirror_mode": {
    "name": "ipython",
    "version": 3
   },
   "file_extension": ".py",
   "mimetype": "text/x-python",
   "name": "python",
   "nbconvert_exporter": "python",
   "pygments_lexer": "ipython3",
   "version": "3.9.18"
  }
 },
 "nbformat": 4,
 "nbformat_minor": 2
}
