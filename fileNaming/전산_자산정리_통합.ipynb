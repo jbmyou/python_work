{
 "cells": [
  {
   "attachments": {},
   "cell_type": "markdown",
   "metadata": {},
   "source": [
    "### IMPORT\n",
    "- 자산정리 월별 차이점 정리\n",
    "  - 4월 : 확실한 종료(종결, 매각, 환매, 차주면책+정상보증인없음)만 종료로 처리\n",
    "  - 5월 : 할당제외한 모든 종료,불가사유 종료로 처리(제외, 포기, 시효, [차주 : 사망,이민,말소,파산,법인]+정상보증인유무에 따라 보증인있음 or 종료처리요망)\n",
    "  - 5월 재악업 : 솔림 비정상건 반영, 솔림 신복 opb에러 수정(대성은 제출 후라 수정 못함)\n",
    "  - 6월 : 대성 비정상건 반영, 대성 신복opb 수정\n",
    "  - 시효 정리되면 그것만 제대로 반영하면 됨"
   ]
  },
  {
   "cell_type": "code",
   "execution_count": 1,
   "metadata": {},
   "outputs": [],
   "source": [
    "import pandas as pd\n",
    "import numpy as np\n",
    "import pickle\n",
    "import re\n",
    "import os\n",
    "from os.path import join\n",
    "from tqdm import tqdm\n",
    "from datetime import datetime\n",
    "from openpyxl.utils.dataframe import dataframe_to_rows\n",
    "from openpyxl.styles import Font, PatternFill, Alignment, Border, Side\n",
    "from openpyxl import Workbook\n",
    "\n",
    "# dtype 정의\n",
    "pattern = re.compile('키|코드|계좌|차수')\n",
    "\n",
    "debt_dtype = {'채무자키':str, '타채무자키':str, '담당자키':str}\n",
    "account_dtype = {'채무자키':str, '계좌키':str, '타채무자키':str}\n",
    "grt_dtype = {'채무자키':str, '계좌키':str, '타채무자키':str, '보증인키':str}\n",
    "rehabilitation_dtype = {'채무자키':str, '계좌키':str, '분납키':str, '사건키':str}\n",
    "credit_dtype = {'채무자키':str, '계좌키':str, '보증인키':str, '심의차수':str, '변제금\\n수취계좌':str}\n",
    "event_dtype = {'채무자키':str, '법조치키':str, '계좌키':str, '관련법조치키':str, '법취하기':str, '타법조치키':str, '타채무자키':str, '관할법원코드':str}"
   ]
  },
  {
   "cell_type": "code",
   "execution_count": 2,
   "metadata": {},
   "outputs": [],
   "source": [
    "##################################\n",
    "company = \"솔림\"\n",
    "basedate = \"230731\"\n",
    "##################################\n",
    "wd = join(r\"D:\\3.자산\\전산 dataset\", company)\n",
    "comp_closing = {\n",
    "    # 채권 자체의 소멸\n",
    "    \"종료\" : r\"종결|매각|환매|DS|완납|완제|종료\",\n",
    "    # 시효\n",
    "    \"시효\" : r\"시효|부활\",\n",
    "    # 채무자별로 체크\n",
    "    \"면책\" : r\"면책|면탈\",  \n",
    "    \"불가\" : r\"제외|상각|포기|파산(?<!\\(기각\\))|사망|이민|말소\" # 상각, 제외, 포기는 이미 보증인까지 고려한 결과일 수 있음\n",
    "    }"
   ]
  },
  {
   "attachments": {},
   "cell_type": "markdown",
   "metadata": {},
   "source": [
    "### 파일 읽기"
   ]
  },
  {
   "cell_type": "code",
   "execution_count": 3,
   "metadata": {},
   "outputs": [],
   "source": [
    "# 파일 읽기\n",
    "# 채무자, 계좌, 보증인, 개회신복 기준데이터->차주와 보증인으로 나누 저장\n",
    "\n",
    "###################                                                                             # 개회의 겨우 계좌키 분리 파일로 읽을 것! \n",
    "files = (\"채무자조회새창_20230731_2106\", \"계좌조회새창_20230731_2109\", \"보증인새창_20230731_2110\", \"개인회생새창_20230731_2115_진행중_계좌키분리_기준데이터\", \n",
    "        \"20230731_신용회복전체리스트_솔림\", \"법조치조회새창_20230731_2112\")\n",
    "ext = \".pkl\"  \n",
    "###################\n",
    "\n",
    "# 개회-신복 충돌 정리(기준데이터 만들 때 각 담당자가 제거하기로 함)\n",
    "#### 개회제외 = {\"차주\" : (\"20462830\"), \"보증인\" : () } # 20462830 중복입금건. 신복이 기간이 더 남아서 신복으로 처리하기로 함\n",
    "#### 신복제외 = {\"차주\" : (\"20451534\", \"20525880\", \"20525532\"), \"보증인\" : ()} # \"20451534\", \"20525880\", \"20525532\" 신복 실효 확정 전에 개회 신청한 건\n",
    "if ext == \".pkl\" : # fillna()는 엑셀읽을 때 미리 해둬야함, 조정, 개회 진행중 시트만 읽어서 저장한 경우\n",
    "    debt = pd.read_pickle(join(wd, basedate, files[0]+ext))\n",
    "    account = pd.read_pickle(join(wd, basedate, files[1]+ext))\n",
    "    grt = pd.read_pickle(join(wd, basedate, files[2]+ext))\n",
    "    rehabilitation = pd.read_pickle(join(wd, basedate, files[3]+ext))\n",
    "    credit = pd.read_pickle(join(wd, basedate, files[4]+ext))\n",
    "    event = pd.read_pickle(join(wd, basedate, files[5]+ext))\n",
    "else : \n",
    "    debt = pd.read_excel(join(wd, basedate, files[0]+ext), dtype=debt_dtype).fillna(\"\")\n",
    "    account = pd.read_excel(join(wd, basedate, files[1]+ext), dtype=account_dtype).fillna(\"\")\n",
    "    grt = pd.read_excel(join(wd, basedate, files[2]+ext), dtype=grt_dtype).fillna(\"\")\n",
    "    rehabilitation = pd.read_excel(join(wd, basedate, files[3]+ext), sheet_name=\"개인회생(진행)\", dtype=rehabilitation_dtype).fillna(\"\")\n",
    "    credit = pd.read_excel(join(wd, basedate, files[4]+ext), sheet_name=\"확정,미확정\", dtype=credit_dtype).fillna(\"\")\n",
    "    event = pd.read_pickle(join(wd, basedate, files[5]+ext), dtype=event_dtype).fillna(\"\")\n",
    "\n",
    "    # 엑셀 읽었을 때 해야 할 작업------------\n",
    "    # 엑셀저장시 NaT 를 \"\"로\n",
    "    credit.replace({pd.NaT: \"\"}, inplace=True)\n",
    "    # 신용회복 상환후잔액 타입 int로 \n",
    "    credit[\"상환후잔액\"] = credit[\"상환후잔액\"].replace(\"\",0).astype(np.int64)\n",
    "\n",
    "    # 예수금 제외\n",
    "    debt.drop(debt[debt.성명==\"예수금\"].index, inplace=True)\n",
    "    debt.reset_index(drop=True, inplace=True)\n",
    "    account.drop(account[account.채무자명==\"예수금\"].index, inplace=True)\n",
    "    account.reset_index(drop=True, inplace=True)\n",
    "    \n",
    "    # 법조치 빈칸 제외\n",
    "    index =  event[(event.관할법원==\"0\") | (event.관할법원==\"\") | (event.사건번호==\"0\") | (event.사건번호==\"\")].index\n",
    "    event.drop(index, inplace=True)\n",
    "    event.reset_index(drop=True, inplace=True)\n",
    "    # 사건번호 역순정렬\n",
    "    event.sort_values('사건번호', ascending=False, inplace=True)\n",
    "\n",
    "# 조정채권 분리 (충돌 확인 위해 필요함)\n",
    "# copy() 하면 pd.NaT도 또 해주지 않아도 된다.\n",
    "rehabilitation_d = rehabilitation[rehabilitation[\"분납자관계\"]==\"채무자\"].copy()\n",
    "rehabilitation_grt = rehabilitation[rehabilitation[\"분납자관계\"]==\"보증인\"].copy()\n",
    "credit_d = credit[credit[\"채무구분\"]==\"주채무\"].copy()\n",
    "credit_grt = credit[credit[\"채무구분\"]==\"보증채무\"].copy()"
   ]
  },
  {
   "cell_type": "code",
   "execution_count": 3,
   "metadata": {},
   "outputs": [],
   "source": [
    "# # 개별 파일 pkl 만들기\n",
    "# filename = \"법조치조회새창_20230731_2112\"\n",
    "# ext = \".xlsx\"                                            ############################################\n",
    "# df = pd.read_excel(join(wd, basedate, filename+ext),  dtype=event_dtype).fillna(\"\") # sheet_name=\"확정,미확정\",\n",
    "# # # 타입 등 후처리\n",
    "# # df.replace({pd.NaT: \"\"}, inplace=True)\n",
    "# # df[\"상환후잔액\"] = df[\"상환후잔액\"].replace(\"\",0).astype(np.int64)\n",
    "# # 저장 : 파일명 수정\n",
    "# df.to_pickle(join(wd, basedate, filename +\".pkl\"))"
   ]
  },
  {
   "cell_type": "code",
   "execution_count": 5,
   "metadata": {},
   "outputs": [
    {
     "name": "stdout",
     "output_type": "stream",
     "text": [
      "0\n",
      "0\n",
      "int64 int64\n"
     ]
    }
   ],
   "source": [
    "# 개회, 신복 반영OPB 빈값 있는지, int64인지 확인\n",
    "print(len(rehabilitation[rehabilitation.반영OPB==\"\"]))\n",
    "print(len(credit[credit.반영OPB==\"\"]))\n",
    "print(rehabilitation.반영OPB.dtype, credit.반영OPB.dtype)"
   ]
  },
  {
   "cell_type": "code",
   "execution_count": 35,
   "metadata": {},
   "outputs": [],
   "source": [
    "# # pkl 저장\n",
    "debt.to_pickle(join(wd, basedate, files[0]+\".pkl\"))\n",
    "account.to_pickle(join(wd, basedate, files[1]+\".pkl\"))\n",
    "grt.to_pickle(join(wd, basedate, files[2]+\".pkl\"))\n",
    "rehabilitation.to_pickle(join(wd, basedate, files[3]+\".pkl\"))\n",
    "credit.to_pickle(join(wd, basedate, files[4]+\".pkl\"))\n",
    "event.to_pickle(join(wd, basedate, files[5]+\".pkl\"))"
   ]
  },
  {
   "attachments": {},
   "cell_type": "markdown",
   "metadata": {},
   "source": [
    "### 파일 수정\n",
    "- 파산사건결과 -> 채무상태 반영 : 사건결과 없으면 보증인이나 승계인을 대상으로 한 것일 가능성이 높으므로 차주상태 변경하면 안 돼\n",
    "- 시효(계좌비고에 \"채권시효만료\") : 계산된 시효는 남은 경우 있고, 대부분 종료건. 파일 수정 없이 시효 체크시에만 사용"
   ]
  },
  {
   "cell_type": "code",
   "execution_count": 6,
   "metadata": {},
   "outputs": [
    {
     "data": {
      "text/html": [
       "<div>\n",
       "<style scoped>\n",
       "    .dataframe tbody tr th:only-of-type {\n",
       "        vertical-align: middle;\n",
       "    }\n",
       "\n",
       "    .dataframe tbody tr th {\n",
       "        vertical-align: top;\n",
       "    }\n",
       "\n",
       "    .dataframe thead th {\n",
       "        text-align: right;\n",
       "    }\n",
       "</style>\n",
       "<table border=\"1\" class=\"dataframe\">\n",
       "  <thead>\n",
       "    <tr style=\"text-align: right;\">\n",
       "      <th></th>\n",
       "      <th>채무자키</th>\n",
       "      <th>채무상태_new</th>\n",
       "      <th>파산사건번호</th>\n",
       "      <th>파산사건결과_new</th>\n",
       "      <th>채무상태_ori</th>\n",
       "      <th>파산사건결과_ori</th>\n",
       "    </tr>\n",
       "  </thead>\n",
       "  <tbody>\n",
       "    <tr>\n",
       "      <th>205</th>\n",
       "      <td>20429740</td>\n",
       "      <td>파산(폐지)</td>\n",
       "      <td>2022하단201</td>\n",
       "      <td>2022-08-24 폐지</td>\n",
       "      <td>파산(진행중)</td>\n",
       "      <td>2022-08-24 폐지</td>\n",
       "    </tr>\n",
       "    <tr>\n",
       "      <th>1286</th>\n",
       "      <td>20408754</td>\n",
       "      <td>파산(인용)</td>\n",
       "      <td>2016하면100527</td>\n",
       "      <td>2018-06-27 인용</td>\n",
       "      <td>정상</td>\n",
       "      <td>2018-06-27 인용</td>\n",
       "    </tr>\n",
       "    <tr>\n",
       "      <th>1390</th>\n",
       "      <td>20408858</td>\n",
       "      <td>파산(폐지)</td>\n",
       "      <td>2019하단997</td>\n",
       "      <td>2019-07-15 폐지</td>\n",
       "      <td>파산(면책)</td>\n",
       "      <td>2019-07-15 폐지</td>\n",
       "    </tr>\n",
       "    <tr>\n",
       "      <th>3782</th>\n",
       "      <td>20411252</td>\n",
       "      <td>파산(인용)</td>\n",
       "      <td>2019하면1132</td>\n",
       "      <td>2019-12-12 인용</td>\n",
       "      <td>파산(면책)</td>\n",
       "      <td>2019-12-12 인용</td>\n",
       "    </tr>\n",
       "    <tr>\n",
       "      <th>3787</th>\n",
       "      <td>20411257</td>\n",
       "      <td>파산(인용)</td>\n",
       "      <td>2008하면4168</td>\n",
       "      <td>2011-02-24 인용</td>\n",
       "      <td>파산(면책)</td>\n",
       "      <td>2011-02-24 인용</td>\n",
       "    </tr>\n",
       "    <tr>\n",
       "      <th>...</th>\n",
       "      <td>...</td>\n",
       "      <td>...</td>\n",
       "      <td>...</td>\n",
       "      <td>...</td>\n",
       "      <td>...</td>\n",
       "      <td>...</td>\n",
       "    </tr>\n",
       "    <tr>\n",
       "      <th>58647</th>\n",
       "      <td>20466441</td>\n",
       "      <td>파산(폐지)</td>\n",
       "      <td>2021하단2001</td>\n",
       "      <td>2022-02-17 폐지</td>\n",
       "      <td>파산(면책)</td>\n",
       "      <td>2022-02-17 폐지</td>\n",
       "    </tr>\n",
       "    <tr>\n",
       "      <th>61271</th>\n",
       "      <td>20495425</td>\n",
       "      <td>파산(폐지)</td>\n",
       "      <td>2022하단20094</td>\n",
       "      <td>2023-02-16 폐지</td>\n",
       "      <td>파산(면책)</td>\n",
       "      <td>2023-02-16 폐지</td>\n",
       "    </tr>\n",
       "    <tr>\n",
       "      <th>61372</th>\n",
       "      <td>20495526</td>\n",
       "      <td>파산(폐지)</td>\n",
       "      <td>2022하단20094</td>\n",
       "      <td>2023-02-16 폐지</td>\n",
       "      <td>파산(면책)</td>\n",
       "      <td>2023-02-16 폐지</td>\n",
       "    </tr>\n",
       "    <tr>\n",
       "      <th>61386</th>\n",
       "      <td>20495540</td>\n",
       "      <td>파산(폐지)</td>\n",
       "      <td>2022하단20094</td>\n",
       "      <td>2023-02-16 폐지</td>\n",
       "      <td>파산(면책)</td>\n",
       "      <td>2023-02-16 폐지</td>\n",
       "    </tr>\n",
       "    <tr>\n",
       "      <th>61571</th>\n",
       "      <td>20495725</td>\n",
       "      <td>파산(폐지)</td>\n",
       "      <td>2022하단20094</td>\n",
       "      <td>2023-02-16 폐지</td>\n",
       "      <td>파산(면책)</td>\n",
       "      <td>2023-02-16 폐지</td>\n",
       "    </tr>\n",
       "  </tbody>\n",
       "</table>\n",
       "<p>132 rows × 6 columns</p>\n",
       "</div>"
      ],
      "text/plain": [
       "           채무자키 채무상태_new        파산사건번호     파산사건결과_new 채무상태_ori     파산사건결과_ori\n",
       "205    20429740   파산(폐지)     2022하단201  2022-08-24 폐지  파산(진행중)  2022-08-24 폐지\n",
       "1286   20408754   파산(인용)  2016하면100527  2018-06-27 인용       정상  2018-06-27 인용\n",
       "1390   20408858   파산(폐지)     2019하단997  2019-07-15 폐지   파산(면책)  2019-07-15 폐지\n",
       "3782   20411252   파산(인용)    2019하면1132  2019-12-12 인용   파산(면책)  2019-12-12 인용\n",
       "3787   20411257   파산(인용)    2008하면4168  2011-02-24 인용   파산(면책)  2011-02-24 인용\n",
       "...         ...      ...           ...            ...      ...            ...\n",
       "58647  20466441   파산(폐지)    2021하단2001  2022-02-17 폐지   파산(면책)  2022-02-17 폐지\n",
       "61271  20495425   파산(폐지)   2022하단20094  2023-02-16 폐지   파산(면책)  2023-02-16 폐지\n",
       "61372  20495526   파산(폐지)   2022하단20094  2023-02-16 폐지   파산(면책)  2023-02-16 폐지\n",
       "61386  20495540   파산(폐지)   2022하단20094  2023-02-16 폐지   파산(면책)  2023-02-16 폐지\n",
       "61571  20495725   파산(폐지)   2022하단20094  2023-02-16 폐지   파산(면책)  2023-02-16 폐지\n",
       "\n",
       "[132 rows x 6 columns]"
      ]
     },
     "execution_count": 6,
     "metadata": {},
     "output_type": "execute_result"
    }
   ],
   "source": [
    "temp = debt[[\"채무자키\", \"채무상태\", \"파산사건번호\",\"파산사건결과\"]].copy() # 파산사건결과 없는 건은 차주에 대한 것이 아니거나 법원 또는 사건번호에 오류 있거나. (사전에 체크하고, 최신화 해두어야)\n",
    "pattern = re.compile('[가-힣]+')\n",
    "\n",
    "# debt 채무상태 수정\n",
    "\"\"\"\n",
    "회생사건이나 관리자사건에 파산사건이 기록되어 있는 경우 있다. 특히 대성.\n",
    "또한 파산사건에 파산 아닌 다른 것이 기록되어 있는 경우도 있다. .str.contains(\"하\") 필요 \n",
    "코드가 복잡해지니 파산사건은 파산사건번호로 모으도록 하자. (일단 현재 대성은 파산의 경우 채무상태는 잘 반영되어 있어 별 문제 없다.)\n",
    "하단 : 불허가, 신청취하, 폐지(하면으로 넘어감)  /  하면 : 기각, 인용, 면책\n",
    "\"\"\"\n",
    "for i, v in temp[temp[\"파산사건번호\"].str.contains(\"하\")][[\"채무자키\", \"채무상태\", \"파산사건결과\"]].iterrows() : # 담당자는 필요 없다. 어차피 채무상태가 종료건 아닌 것만 바꿀 것이므로\n",
    "    # 사건결과 정상조회(차주 파산),     파산 진행중 or 면책                          but 종료 처리 안 된 것\n",
    "    if v.파산사건결과 != \"\" and re.search(\"취하|불허가|기각\",v.파산사건결과)==None and re.search(comp_closing[\"종료\"], v.채무상태)==None :\n",
    "        temp.loc[i, \"채무상태\"] = \"파산(\"+ pattern.search(v.파산사건결과)[0]+ \")\"\n",
    "\n",
    "# 확인 ###########\n",
    "merge = pd.merge(temp, debt[[\"채무자키\", \"채무상태\", \"파산사건결과\"]], how='outer', on='채무자키', suffixes=('_new', '_ori'))\n",
    "# merge[merge.파산사건결과 != \"\"]\n",
    "merge[merge.채무상태_ori != merge.채무상태_new]"
   ]
  },
  {
   "cell_type": "code",
   "execution_count": 7,
   "metadata": {},
   "outputs": [],
   "source": [
    "# 확인 후 이상없으면 저장  # 이상없이 잘 되는 거 확인 함 # 파일 저장은 하지 말자.\n",
    "debt[\"채무상태\"] = temp[\"채무상태\"] "
   ]
  },
  {
   "attachments": {},
   "cell_type": "markdown",
   "metadata": {},
   "source": [
    "#### 개회, 신복 충돌 체크 \n",
    "- 종료, 비정상건과 충돌해도 삭제 x. \n",
    "  - 풀별 파일 만들때 새채무상태가 조정인 채무자키만 참조하면 되고, 매각후에도 계속 봐야하므로 기준데이터에 남긴다.\n",
    "  - 비정상으로 분류했지만, 부활이거나 상태값이 잘못된 건의 경우 조정채권이 될 수도 있음. 환매 없앨려면 이건 따로 리스트 만들어 내부 정리하는 게 매각리스트로 뽑는 거 보다 낫겠다."
   ]
  },
  {
   "cell_type": "code",
   "execution_count": 8,
   "metadata": {},
   "outputs": [
    {
     "data": {
      "text/plain": [
       "'차주'"
      ]
     },
     "metadata": {},
     "output_type": "display_data"
    },
    {
     "data": {
      "text/html": [
       "<div>\n",
       "<style scoped>\n",
       "    .dataframe tbody tr th:only-of-type {\n",
       "        vertical-align: middle;\n",
       "    }\n",
       "\n",
       "    .dataframe tbody tr th {\n",
       "        vertical-align: top;\n",
       "    }\n",
       "\n",
       "    .dataframe thead th {\n",
       "        text-align: right;\n",
       "    }\n",
       "</style>\n",
       "<table border=\"1\" class=\"dataframe\">\n",
       "  <thead>\n",
       "    <tr style=\"text-align: right;\">\n",
       "      <th></th>\n",
       "      <th>채무자키</th>\n",
       "      <th>계좌키</th>\n",
       "      <th>분납키</th>\n",
       "      <th>인가/미인가</th>\n",
       "      <th>반영OPB_x</th>\n",
       "      <th>접수일</th>\n",
       "      <th>분납자관계</th>\n",
       "      <th>접수번호</th>\n",
       "      <th>진행구분</th>\n",
       "      <th>반영OPB_y</th>\n",
       "      <th>접수일자</th>\n",
       "      <th>채무구분</th>\n",
       "    </tr>\n",
       "  </thead>\n",
       "  <tbody>\n",
       "    <tr>\n",
       "      <th>0</th>\n",
       "      <td>20408111</td>\n",
       "      <td>200928349</td>\n",
       "      <td>20145446</td>\n",
       "      <td>미인가</td>\n",
       "      <td>694342</td>\n",
       "      <td>2023-06-22</td>\n",
       "      <td>채무자</td>\n",
       "      <td>18_071904</td>\n",
       "      <td>확정</td>\n",
       "      <td>140262</td>\n",
       "      <td>2018-08-22</td>\n",
       "      <td>주채무</td>\n",
       "    </tr>\n",
       "    <tr>\n",
       "      <th>1</th>\n",
       "      <td>20454938</td>\n",
       "      <td>200978773</td>\n",
       "      <td>20145958</td>\n",
       "      <td>미인가</td>\n",
       "      <td>7693107</td>\n",
       "      <td>2023-07-19</td>\n",
       "      <td>채무자</td>\n",
       "      <td>21_053337</td>\n",
       "      <td>확정</td>\n",
       "      <td>8214547</td>\n",
       "      <td>2021-05-31</td>\n",
       "      <td>주채무</td>\n",
       "    </tr>\n",
       "    <tr>\n",
       "      <th>2</th>\n",
       "      <td>20480146</td>\n",
       "      <td>201001403</td>\n",
       "      <td>20145947</td>\n",
       "      <td>미인가</td>\n",
       "      <td>497258</td>\n",
       "      <td>2023-02-22</td>\n",
       "      <td>채무자</td>\n",
       "      <td>21_084380</td>\n",
       "      <td>확정</td>\n",
       "      <td>596684</td>\n",
       "      <td>2021-08-26</td>\n",
       "      <td>주채무</td>\n",
       "    </tr>\n",
       "  </tbody>\n",
       "</table>\n",
       "</div>"
      ],
      "text/plain": [
       "       채무자키        계좌키       분납키 인가/미인가  반영OPB_x         접수일 분납자관계       접수번호  \\\n",
       "0  20408111  200928349  20145446    미인가   694342  2023-06-22   채무자  18_071904   \n",
       "1  20454938  200978773  20145958    미인가  7693107  2023-07-19   채무자  21_053337   \n",
       "2  20480146  201001403  20145947    미인가   497258  2023-02-22   채무자  21_084380   \n",
       "\n",
       "  진행구분  반영OPB_y       접수일자 채무구분  \n",
       "0   확정   140262 2018-08-22  주채무  \n",
       "1   확정  8214547 2021-05-31  주채무  \n",
       "2   확정   596684 2021-08-26  주채무  "
      ]
     },
     "metadata": {},
     "output_type": "display_data"
    },
    {
     "data": {
      "text/plain": [
       "'보증인'"
      ]
     },
     "metadata": {},
     "output_type": "display_data"
    },
    {
     "data": {
      "text/html": [
       "<div>\n",
       "<style scoped>\n",
       "    .dataframe tbody tr th:only-of-type {\n",
       "        vertical-align: middle;\n",
       "    }\n",
       "\n",
       "    .dataframe tbody tr th {\n",
       "        vertical-align: top;\n",
       "    }\n",
       "\n",
       "    .dataframe thead th {\n",
       "        text-align: right;\n",
       "    }\n",
       "</style>\n",
       "<table border=\"1\" class=\"dataframe\">\n",
       "  <thead>\n",
       "    <tr style=\"text-align: right;\">\n",
       "      <th></th>\n",
       "      <th>채무자키</th>\n",
       "      <th>계좌키</th>\n",
       "      <th>고객명</th>\n",
       "      <th>인가/미인가</th>\n",
       "      <th>반영OPB_x</th>\n",
       "      <th>접수일</th>\n",
       "      <th>진행구분</th>\n",
       "      <th>반영OPB_y</th>\n",
       "      <th>접수일자</th>\n",
       "    </tr>\n",
       "  </thead>\n",
       "  <tbody>\n",
       "  </tbody>\n",
       "</table>\n",
       "</div>"
      ],
      "text/plain": [
       "Empty DataFrame\n",
       "Columns: [채무자키, 계좌키, 고객명, 인가/미인가, 반영OPB_x, 접수일, 진행구분, 반영OPB_y, 접수일자]\n",
       "Index: []"
      ]
     },
     "metadata": {},
     "output_type": "display_data"
    }
   ],
   "source": [
    "# [check]개회신복 채무자키 중복 : 차주, 보증인별\n",
    "\n",
    "# 차주\n",
    "조정중복_차주 = pd.merge(rehabilitation_d[[\"채무자키\",\"계좌키\",\"분납키\",\"인가/미인가\",\"반영OPB\", \"접수일\", \"분납자관계\"]], credit_d[[\"채무자키\",\"계좌키\",\"접수번호\",\"진행구분\",\"반영OPB\",\"접수일자\",\"채무구분\"]], on=[\"채무자키\",\"계좌키\"], how=\"inner\")\n",
    "display(\"차주\", 조정중복_차주)\n",
    "\n",
    "# 보증인\n",
    "조정중복_보증인 = pd.merge(rehabilitation_grt[[\"채무자키\",\"계좌키\",\"분납자성명인\",\"인가/미인가\",\"반영OPB\", \"접수일\"]].rename(columns={\"분납자성명인\":\"고객명\"}), credit_grt[[\"채무자키\",\"계좌키\",\"고객명\",\"진행구분\",\"반영OPB\", \"접수일자\"]], on=[\"채무자키\",\"계좌키\", \"고객명\"], how=\"inner\")\n",
    "display(\"보증인\", 조정중복_보증인)\n",
    "\n",
    "# 중복 없으면 아래 두개 셀 실행 안 해도 됨"
   ]
  },
  {
   "cell_type": "code",
   "execution_count": 9,
   "metadata": {},
   "outputs": [
    {
     "name": "stdout",
     "output_type": "stream",
     "text": [
      "삭제전 개회 : 5698, 삭제전 신복 : 15149\n",
      "[1217, 8000, 6253]\n",
      "[]\n",
      "삭제후 개회 : 5698, 삭제후 신복 : 15146\n"
     ]
    }
   ],
   "source": [
    "# 접수일자에 따라서 신복, 개회 하나만 남기기 \n",
    "print(f'삭제전 개회 : {len(rehabilitation)}, 삭제전 신복 : {len(credit)}')\n",
    "if len(조정중복_차주)>0 :\n",
    "    개회index, 신복index = [], []\n",
    "    for i, v in 조정중복_차주.iterrows() :\n",
    "        if datetime.strptime(v.접수일, \"%Y-%m-%d\") > v.접수일자 : # 개회접수일 나중인 경우, 신복에서 제거\n",
    "            신복index.append(credit[((credit.채무자키 == v.채무자키) & (credit.계좌키 == v.계좌키))].index.values[0])\n",
    "        else : 개회index.append(rehabilitation[((rehabilitation.채무자키 == v.채무자키) & (rehabilitation.계좌키 == v.계좌키))].index.values[0])\n",
    "    print(신복index)\n",
    "    print(개회index)\n",
    "    if len(신복index)>0 : credit = credit[~credit.index.isin(신복index)]\n",
    "    if len(개회index)>0 : rehabilitation = rehabilitation[~rehabilitation.index.isin(개회index)]\n",
    "\n",
    "if len(조정중복_보증인) > 0 :\n",
    "    개회index, 신복index = [], []\n",
    "    for i, v in 조정중복_보증인.iterrows() :\n",
    "        if datetime.strptime(v.접수일, \"%Y-%m-%d\") > v.접수일자 : # 개회접수일 나중인 경우, 신복에서 제거\n",
    "            신복index.append(credit[((credit.채무자키 == v.채무자키) & (credit.계좌키 == v.계좌키)) & credit.고객명 == v.고객명].index.values[0])\n",
    "        else : 개회index.append(rehabilitation[((rehabilitation.채무자키 == v.채무자키) & (rehabilitation.계좌키 == v.계좌키)), rehabilitation.분납자성명인 == v.고객명].index.values[0])\n",
    "    print(신복index)\n",
    "    print(개회index)\n",
    "    if len(신복index)>0 : credit = credit[~credit.index.isin(신복index)]\n",
    "    if len(개회index)>0 : rehabilitation = rehabilitation[~rehabilitation.index.isin(개회index)]\n",
    "print(f'삭제후 개회 : {len(rehabilitation)}, 삭제후 신복 : {len(credit)}')"
   ]
  },
  {
   "cell_type": "code",
   "execution_count": 10,
   "metadata": {},
   "outputs": [],
   "source": [
    "# 확정된 조정채권 차주, 보증인 저장하기. 종결건에도 따로 문제발생해서 처리했다면 이 셀 재 실행 해야..\n",
    "rehabilitation_d = rehabilitation[rehabilitation[\"분납자관계\"]==\"채무자\"].copy()\n",
    "rehabilitation_grt = rehabilitation[rehabilitation[\"분납자관계\"]==\"보증인\"].copy()\n",
    "credit_d = credit[credit[\"채무구분\"]==\"주채무\"].copy()\n",
    "credit_grt = credit[credit[\"채무구분\"]==\"보증채무\"].copy()"
   ]
  },
  {
   "attachments": {},
   "cell_type": "markdown",
   "metadata": {},
   "source": [
    "#### grt, 새보증인상태 추가\n",
    "- 새보증인상태 들어간 파일을 읽었다면 PASS"
   ]
  },
  {
   "cell_type": "code",
   "execution_count": 11,
   "metadata": {},
   "outputs": [
    {
     "name": "stderr",
     "output_type": "stream",
     "text": [
      "100%|██████████| 10312/10312 [00:03<00:00, 2751.48it/s]\n"
     ]
    }
   ],
   "source": [
    "# 개회 >> 차주 : 계좌키, 보증인 : [계좌키 + 보증인이름]이 pk. \n",
    "# 신복 >> 보증인키 있으므로 이걸로. 누락계좌는 정상으로 나옴\n",
    "# 개회 누락채권(일부계좌누락, 일부 채무자키(이런 경우가 있을까?)) 문제는 어떻게? : 일단 \n",
    "\n",
    "# 보증인 상태변경\n",
    "if \"새보증인상태\" in grt.columns : grt[\"새보증인상태\"] = \"\"\n",
    "else : grt.insert(8,\"새보증인상태\",\"\")\n",
    "\n",
    "# 종료, 면책, 종료권고 채우기 (보증인의 경우 폐업-> 종료권고)\n",
    "cond1 = grt.종결일 != \"\"\n",
    "cond2 = grt.보증인상태.str.contains(comp_closing[\"종료\"])\n",
    "cond3 = grt.보증인상태.str.contains(comp_closing[\"시효\"]) # 보증인 상태값에도 시효가 있네..check\n",
    "cond4 = grt.보증인상태.str.contains(comp_closing[\"면책\"])\n",
    "cond5 = grt.보증인상태.str.contains(comp_closing[\"불가\"])\n",
    "cond6 = grt.보증인상태.str.contains(\"폐업\")\n",
    "condlist_grt = [cond1, cond2, cond3, cond4, cond5, cond6, True]\n",
    "valuelist_grt = [\"종료\", \"종료\", \"시효\", \"면책\", \"불가\", \"불가\", \"\"]\n",
    "grt[\"새보증인상태\"] = np.select(condlist_grt, valuelist_grt )\n",
    "\n",
    "# '채무자키'열과 '보증인성명인'열을 기준으로 비교하여 값 변경\n",
    "for i in tqdm(range(len(grt)), total=len(grt)):  \n",
    "    # 새보증인상태 빈값인 경우(조정/정상)\n",
    "    if grt.at[i, '새보증인상태'] == \"\" :\n",
    "        # 개인회생\n",
    "        temp = rehabilitation_grt[(rehabilitation_grt['채무자키'] == grt.at[i, '채무자키']) & (rehabilitation_grt['분납자성명인'] == grt.at[i, '보증인성명인'])]\n",
    "        if len(temp) > 0:\n",
    "            grt.at[i, '새보증인상태'] = \"개인회생(확정)\" if temp['인가/미인가'].values[0] == \"인가\" else \"개인회생(진행중)\"\n",
    "        else : \n",
    "            # 신용회복\n",
    "            temp = credit_grt[(credit_grt['보증인키'] == grt.at[i, '보증인키'])]\n",
    "            if len(temp) > 0:\n",
    "                grt.at[i, '새보증인상태'] = \"신용회복(\"+ temp['상환방식'].values[0]+\")\" if temp['진행구분'].values[0] == \"확정\" else \"신용회복(진행중)\"\n",
    "            else :\n",
    "                # 무담보\n",
    "                grt.at[i, '새보증인상태'] = '정상'"
   ]
  },
  {
   "cell_type": "code",
   "execution_count": 12,
   "metadata": {},
   "outputs": [],
   "source": [
    "# 저장 : 보증인 수정할 것 엑셀 저장\n",
    "# 수정해야 함 : grt[grt.새보증인상태 != grt.보증인상태].loc[:,[\"채무자키\", \"계좌키\",\"보증인키\",\"매각사구분\",\"보증인성명인\",\"주민번호인\",\"계좌번호\",\"보증구분\",\"새보증인상태\",\"보증인상태\",\"보증금액\",\"보증잔액\",\"보증한도액\"]].to_excel(join(wd, basedate, \"9.보증인상태변경할것.xlsx\"), index=False)\n",
    "# # 새보증인상태 추가한 파일 저장\n",
    "grt.to_pickle(join(wd, basedate, files[2]+\"_새보증인상태.pkl\"))\n",
    "grt.to_excel(join(wd, basedate, files[2]+\"_새보증인상태.xlsx\"), index=False)"
   ]
  },
  {
   "attachments": {},
   "cell_type": "markdown",
   "metadata": {},
   "source": [
    "### 전체 원데이터 만들기(종합)"
   ]
  },
  {
   "cell_type": "code",
   "execution_count": 13,
   "metadata": {},
   "outputs": [],
   "source": [
    "raw_data = pd.DataFrame(None)\n",
    "raw_data[\"채무자키\"] = account.채무자키\n",
    "raw_data[\"계좌키\"] = account.계좌키\n",
    "raw_data[\"타채무자키\"] = account.타채무자키\n",
    "\n",
    "raw_data[\"채권구분\"] = account.채권구분 ##\n",
    "raw_data[\"채권상태\"] = \"\" ##\n",
    "raw_data[\"새채무상태\"] = \"\" ##\n",
    "raw_data[\"채무상태\"] = account.채무상태 ##\n",
    "raw_data[\"담당자\"] = account.담당자 ##\n",
    "raw_data[\"성명\"] = account.채무자명 #\n",
    "raw_data[\"주민등록번호\"] = account.채무자주민번호 # #.apply(lambda x : x[:8])\n",
    "raw_data[\"계좌번호\"] = account.계좌번호\n",
    "raw_data[\"원채권사\"] = account.원채권사\n",
    "raw_data[\"매각사구분\"] = account.매각사구분\n",
    "raw_data[\"계정과목\"] = account.계정과목\n",
    "raw_data[\"최초원금\"] = account.최초원금\n",
    "raw_data[\"최초법비용\"] = account.최초법비용\n",
    "raw_data[\"최초미수이자\"] = account.최초미수이자\n",
    "raw_data[\"최초연체이자율\"] = account.최초연체이자율\n",
    "raw_data[\"현재원금\"] = account.현재원금\n",
    "raw_data[\"현재법비용\"] = account.현재법비용\n",
    "raw_data[\"OPB\"] = account[[\"현재원금\",\"현재법비용\"]].sum(axis=1)\n",
    "raw_data[\"현재미수이자\"] = account.현재미수이자\n",
    "raw_data[\"현재연체이자\"] = account.현재연체이자\n",
    "raw_data[\"현재합계\"] = account.현재합계\n",
    "raw_data[\"회수합계\"] = account.회수합계 ##\n",
    "raw_data[\"최초대출일\"] = account.최초대출일\n",
    "raw_data[\"대출만기일\"] = account.대출만기일\n",
    "raw_data[\"최초연체일\"] = account.최초연체일 # 없는 경우도 있음 없으면 대출만기일로 대체해야.\n",
    "raw_data[\"매입일\"] = account.매입일\n",
    "# 시효관련 추가\n",
    "raw_data['시효완성월'] = np.where((account['시효중단여부'] == 'Y'), '중단', account['시효완성월'])\n",
    "raw_data[\"시효사유\"] = account.시효연장사유 # 시효연장사유 빈칸인 경우, 최초완성일메모(거의), 최초시효완성일, 시효중단여부 모두 빈칸임\n",
    "raw_data[\"시효완성일\"] = account.시효완성일\n",
    "raw_data[\"종결일\"] = account.종결일\n",
    "raw_data[\"메모\"] =account.메모\n",
    "# 채무자조회에서 불러올 항목\n",
    "debt_temp = debt[[\"채무자키\", \"개인법인\", \"연령\", \"자택우편번호\", \"자택주소\", \"관리자비고\"]].rename(columns={\"관리자비고\":\"새채무자키\"})\n",
    "raw_data = pd.merge(raw_data, debt_temp, on=\"채무자키\", how=\"left\")\n",
    "\n",
    "# grt에서 각 계좌별 (새)보증인상태 불러오기\n",
    "names = grt.groupby('계좌키')['보증인성명인'].apply(lambda x: ','.join(x)) # 고유값만 남기려면 join의 매개변수로 x.unique()를 사용\n",
    "newstatus = grt.groupby('계좌키')['새보증인상태'].apply(lambda x: ','.join(x))\n",
    "status = grt.groupby('계좌키')['보증인상태'].apply(lambda x: ','.join(x))\n",
    "\n",
    "raw_data = raw_data.merge(names, how='left', on='계좌키')\n",
    "raw_data = raw_data.merge(newstatus, how='left', on='계좌키')\n",
    "raw_data = raw_data.merge(status, how='left', on='계좌키')\n",
    "\n",
    "raw_data[\"보증인성명인\"] = raw_data[\"보증인성명인\"].fillna('')\n",
    "raw_data[\"새보증인상태\"] = raw_data[\"새보증인상태\"].fillna('')\n",
    "raw_data[\"보증인상태\"] = raw_data[\"보증인상태\"].fillna('')"
   ]
  },
  {
   "attachments": {},
   "cell_type": "markdown",
   "metadata": {},
   "source": [
    "#### 채권상태, 새채무상태 작성\n",
    "- 채권상태 : 종료 -> 비정상(종료처리할것,보증인정상,시효) -> 정상(무담보, 개회, 신복)\n",
    "  - rawdata에서 채권상태를 불러와서 자산정리 하므로 기준데이터에 종료건 있어도 괜찮다.\n",
    "- 새채무상태 : 채권상태 정상이면 개인, 법인, 개인회생(진행중), 개인회생(확정), 신용회복(개인), 신용회복(프리), 신용회복(진행중)"
   ]
  },
  {
   "cell_type": "code",
   "execution_count": 14,
   "metadata": {},
   "outputs": [
    {
     "name": "stderr",
     "output_type": "stream",
     "text": [
      "100%|██████████| 78157/78157 [00:36<00:00, 2151.12it/s] \n"
     ]
    }
   ],
   "source": [
    "채권상태, 새채무상태 = [], []\n",
    "종료 = re.compile(comp_closing[\"종료\"])\n",
    "시효 = re.compile(comp_closing[\"시효\"])\n",
    "면책 = re.compile(comp_closing[\"면책\"])\n",
    "불가 = re.compile(comp_closing[\"불가\"])\n",
    "\n",
    "for i, v in tqdm(raw_data[[\"채무상태\", \"담당자\", \"종결일\", \"메모\", \"새보증인상태\", \"계좌키\", \"개인법인\"]].iterrows(), total = len(raw_data)) :\n",
    "    # 메모는 채무상태를 계좌별로 적용한 것이므로 state로 처리하면 되며, 우선순위를 주기위해 state의 젤 앞에 배치.\n",
    "    state = v.메모 + v.채무상태 + v.담당자\n",
    "    # 종료\n",
    "    if (v.종결일 != \"\") or 종료.search(state) : \n",
    "        새채무상태.append(\"종료\")\n",
    "        채권상태.append(\"종료\")\n",
    "    # 메모를 state로 합쳐서 처리하기 전 코드 ---------------s\n",
    "    # elif v.메모 != \"\" : # 현재 메모에는 '종료'만 있으나 \"비정상\"도 기입할 수 있으므로 별도 처리함.\n",
    "    #     새채무상태.append(v.메모)\n",
    "    #     if v.메모 == \"종료\" : 채권상태.append(\"종료\")\n",
    "    #     else : 채권상태.append(\"비정상\")\n",
    "    # 메모를 state로 합쳐서 처리하기 전 코드 ---------------e\n",
    "    # 비정상 / 종료\n",
    "    else :\n",
    "        # 비정상1 - 시효\n",
    "        if 시효.search(state):\n",
    "            새채무상태.append(\"시효\")\n",
    "            채권상태.append(\"비정상\")\n",
    "        # 비정상2 - 차주 면책 또는 불가\n",
    "        elif 면책.search(state) or 불가.search(state):\n",
    "            # 종료,면책,불가,시효,',', \" \"를 제외하니 남는 게 없다면\n",
    "            result = re.sub(\"종료|면책|불가|시효|,|\\s\", \"\", v.새보증인상태)\n",
    "            if result == \"\" :\n",
    "                새채무상태.append(\"종료처리요망\")\n",
    "            # 보증인정상\n",
    "            else : \n",
    "                새채무상태.append(\"보증인정상\")\n",
    "            채권상태.append(\"비정상\")\n",
    "        # 정상 : 법인 별도 처리 \n",
    "        else :\n",
    "            temp채권상태 = \"정상\"\n",
    "            # 차주 개인회생\n",
    "            개회temp = rehabilitation_d[rehabilitation_d['계좌키'] == v.계좌키]\n",
    "            if  len(개회temp) > 0:\n",
    "                새채무상태.append(\"개인회생(확정)\" if 개회temp['인가/미인가'].values[0] == \"인가\" else \"개인회생(진행중)\")\n",
    "            else : \n",
    "                # 차주 신용회복\n",
    "                신복temp = credit_d[credit_d['계좌키'] == v.계좌키]\n",
    "                if len(신복temp) > 0:\n",
    "                    새채무상태.append(\"신용회복(\"+ 신복temp['상환방식'].values[0]+\")\" if 신복temp['진행구분'].values[0] == \"확정\" else \"신용회복(진행중)\")\n",
    "                # 무담보(개인,법인)\n",
    "                else :\n",
    "                    if v.개인법인 == \"개인\" : \n",
    "                        새채무상태.append(v.개인법인)\n",
    "                    # 법인인 경우 보증인 상태 재확인\n",
    "                    else :\n",
    "                        result = re.sub(\"종료|면책|불가|시효|,|\\s\", \"\", v.새보증인상태)\n",
    "                        # 정상 보증인 없음\n",
    "                        if result == \"\" :\n",
    "                            새채무상태.append(\"종료처리요망\")\n",
    "                            temp채권상태 = \"비정상\"\n",
    "                        # 보증인정상\n",
    "                        else : \n",
    "                            새채무상태.append(\"법인\")\n",
    "            채권상태.append(temp채권상태)\n",
    "                        \n",
    "# 작성\n",
    "raw_data[\"채권상태\"] = 채권상태\n",
    "raw_data[\"새채무상태\"] = 새채무상태"
   ]
  },
  {
   "cell_type": "code",
   "execution_count": 53,
   "metadata": {},
   "outputs": [],
   "source": [
    "# [check] 종결처리 해야 하는 건 저장하기 - 코드 수정해야\n",
    "# cond1 = raw_data.종결일 == \"\"\n",
    "# cond2 = (raw_data.채무상태.str.contains(comp_closing[\"면책\"]) | raw_data.담당자.str.contains(comp_closing[\"면책\"])) & ~(raw_data.새보증인상태.str.contains(\"정상|개인회생|신용회복\"))\n",
    "# raw_data[cond1 & cond2].to_excel(join(wd, basedate, \"[check]종결처리할것-완적면책.xlsx\"))\n",
    "# [ckeck]종결처리해야하는 계좌 출력\n",
    "# if len(종결처리안된종료건)>0 :\n",
    "#     # print(종결처리안된종료건)\n",
    "#     pd.DataFrame(종결처리안된종료건).to_excel(join(wd, basedate, \"[check]종결처리안된종료건.xlsx\"), index=False)\n",
    "# else : print(\"이상무\")"
   ]
  },
  {
   "cell_type": "code",
   "execution_count": 65,
   "metadata": {},
   "outputs": [],
   "source": [
    "# [ckeck]계좌별 채무상태 수정할 것 엑셀 저장\n",
    "# 범주가 다르게 적용되어서 현재는 의미가 없다. 보완이 필요\n",
    "# raw_data[raw_data.새채무상태 != raw_data.채무상태].loc[:,[\"채무자키\", \"계좌키\",\"매각사구분\",\"새채무상태\",\"채무상태\"]].to_excel(join(wd, basedate, \"[check]계좌별채무상태달라진것.xlsx\"), index=False)"
   ]
  },
  {
   "attachments": {},
   "cell_type": "markdown",
   "metadata": {},
   "source": [
    "#### 반영OPB 작성하기\n",
    "- 비정상도 정상과 마찬가지로 무담보와 조정채권 OPB를 각각 반영한다.(내부용으로 봐야하니까)\n",
    "- 종결은 모두 0으로 처리한다"
   ]
  },
  {
   "cell_type": "code",
   "execution_count": 15,
   "metadata": {},
   "outputs": [
    {
     "name": "stdout",
     "output_type": "stream",
     "text": [
      "78157\n",
      "78157\n"
     ]
    }
   ],
   "source": [
    "print(len(raw_data))\n",
    "raw_data = raw_data.drop(columns=raw_data.columns[raw_data.columns.str.contains(\"반영OPB\")])\n",
    "\n",
    "# 반영OPB 작성하기\n",
    "# 1. 조정채권 OPB 입력\n",
    "개회OPB = rehabilitation_d.loc[:, [\"계좌키\", \"반영OPB\"]]\n",
    "신복OPB = credit_d.loc[:, [\"계좌키\", \"반영OPB\"]]\n",
    "신복OPB\n",
    "# 개회OPB와 신복OPB 병합 (반영OPB_X, _Y가 되지않도록 ON = [])\n",
    "merged_opb = 개회OPB.merge(신복OPB, on=['계좌키','반영OPB'], how='outer')\n",
    "# raw_data와 병합하며 \"반영OPB\"칼럼 만들기\n",
    "raw_data = raw_data.merge(merged_opb, on='계좌키', how='outer') # 혹시 뭔가 잘못된 게 있나 확인하기 위해 일부러 outer\n",
    "\n",
    "# 2. 조정채권 아닌 것 OPB로 채우기\n",
    "raw_data.loc[raw_data['반영OPB'].isnull(), '반영OPB'] = raw_data.loc[raw_data['반영OPB'].isnull(), \"OPB\"]\n",
    "\n",
    "# 3. 종료(매각, 종결 등 )건이면 0원으로 처리하기\n",
    "raw_data[\"반영OPB\"] = np.where(raw_data['채권상태'] == '종료', 0, raw_data['반영OPB'])\n",
    "\n",
    "# 자료형 : 정수\n",
    "raw_data[\"반영OPB\"] = raw_data[\"반영OPB\"].astype(np.int64)\n",
    "print(len(raw_data))"
   ]
  },
  {
   "cell_type": "markdown",
   "metadata": {},
   "source": [
    "#### 시효 작성하기\n",
    "- 무담보건에 대해\n",
    "- 새채무자키로 통일, 차주-보증인구분 x\n",
    "- 위에서는 시효를 가지고 뭘 한 것은 없음. 시효작성을 먼저하고, '채무상태-시효'처리를 나중에 하는 것으로 코드 수정해야 할 수도"
   ]
  },
  {
   "cell_type": "code",
   "execution_count": 4,
   "metadata": {},
   "outputs": [],
   "source": [
    "raw_data = pd.read_excel(join(r\"D:\\3.자산\\전산 dataset\\솔림\\230731\", \"2.솔림_전체_원데이터_230731\"+\".xlsx\"), dtype=account_dtype, sheet_name=\"리스트\").fillna(\"\")"
   ]
  },
  {
   "cell_type": "code",
   "execution_count": 5,
   "metadata": {},
   "outputs": [],
   "source": [
    "# 법조치에 새채무자키 입히기\n",
    "event = pd.merge(event, raw_data.drop_duplicates('채무자키')[[\"채무자키\",\"새채무자키\"]] , on=\"채무자키\", how='left')"
   ]
  },
  {
   "cell_type": "code",
   "execution_count": 80,
   "metadata": {},
   "outputs": [],
   "source": [
    "# 8월 자산정리시에는 지워도 됨 위에서 함 ~~~~~~~~~~~~~~~~~~~~~~~~~~~~~~~~~~~~~~~~~~~~~~~~~~~~~~~~~~~~~~~~~~\n",
    "event.sort_values(['사건번호', '확정일'], ascending=False, inplace=True)"
   ]
  },
  {
   "cell_type": "code",
   "execution_count": 150,
   "metadata": {},
   "outputs": [],
   "source": [
    "# int() 에러 안 나게 빈문자열은 '0'으로\n",
    "event['종료일'] = event['종료일'].apply(lambda x: '0' if x == '' else x)\n",
    "event['종국결과일'] = event['종국결과일'].apply(lambda x: '0' if x == '' else x)\n",
    "event['확정일'] = event['확정일'].apply(lambda x: '0' if x == '' else x)"
   ]
  },
  {
   "cell_type": "code",
   "execution_count": 153,
   "metadata": {},
   "outputs": [
    {
     "name": "stderr",
     "output_type": "stream",
     "text": [
      "C:\\Users\\SL\\AppData\\Local\\Temp\\ipykernel_21540\\3927297917.py:5: UserWarning: This pattern is interpreted as a regular expression, and has match groups. To actually get the groups, use str.extract.\n",
      "  구분조건 = (event.법조치구분.str.contains(법조치구분조건)) | (event.법조치세부.str.contains(법조치세부조건))\n"
     ]
    }
   ],
   "source": [
    "# 집행권원만 모으기 \n",
    "법조치구분조건 = r\"본안소송|송달,확정증명원|수통부여|승계집행문|시효연장소송|재도부여|전자독촉|지급명령\" # contains / ==\n",
    "법조치세부조건 = r\"본안소송|송달,?확정|(송달|확정)증명|수통부여|승계집행|판결문|시효연장|재도부여|전자독촉|지급명령\" # contains\n",
    "\n",
    "구분조건 = (event.법조치구분.str.contains(법조치구분조건)) | (event.법조치세부.str.contains(법조치세부조건))\n",
    "사건번호조건 = event.사건번호.str.match(r\"\\d{4,4}(가[합단소]|나|다|머|차)\") # match\n",
    "종국결과조건 = event.종국결과.str.contains(r\"결정|발급|승소|원고승|일부승|이행권고|화해|인용|지급명령|확정|항소기각|항소취하간주|조정(?!불)\") # contains\n",
    "\n",
    "집행권원 = event[구분조건 & 사건번호조건 & 종국결과조건][[\"채무자키\",\"새채무자키\",\"법조치키\",\"법조치구분\",\"법조치세부\",\"관할법원\",\"사건번호\",\"사건구분\",\"종국결과\",\"종료일\",\"종국결과일\",\"확정일\"]].copy()\n",
    "# 날짜가 어느 행에 있을지 모르므로 중복값을 제거하지 않는다."
   ]
  },
  {
   "cell_type": "code",
   "execution_count": 198,
   "metadata": {},
   "outputs": [
    {
     "name": "stdout",
     "output_type": "stream",
     "text": [
      "총타채사건 : 19481, 압류해지 : 319, 압류유지 : 19128, 해지단어없지만 해지사건이라 제외된 건 : 34, 종국결과있는압류 : 11673, 중복값 : 7455\n"
     ]
    }
   ],
   "source": [
    "# 중단사유(타채)만 모으기 \n",
    "\n",
    "# filter1 : 압류사건(타채)\n",
    "사건번호조건 = event.사건구분==\"타채\"\n",
    "압류사건 = event[사건번호조건 & 종국결과조건][[\"채무자키\",\"새채무자키\",\"법조치키\",\"법조치구분\",\"법조치세부\",\"관할법원\",\"사건번호\",\"사건구분\",\"종국결과\",\"종료일\",\"종국결과일\",\"확정일\",\"최종진행내용\"]].copy()\n",
    "압류사건개수 = len(압류사건)\n",
    "\n",
    "# filter2 : 압류유지, 압류해지\n",
    "# 1) 법조치구분, 법조치세부, 종국결과, 최종진행내용에 해제|해지가 포함된 것의 새채무자키와 사건번호를 추출\n",
    "condition = (\n",
    "    (압류사건['법조치구분'].str.contains('해제|해지', na=False)) |\n",
    "    (압류사건['법조치세부'].str.contains('해제|해지', na=False)) |\n",
    "    (압류사건['종국결과'].str.contains('해제|해지', na=False)) |\n",
    "    (압류사건['최종진행내용'].str.contains('해제|해지', na=False))\n",
    ")\n",
    "\n",
    "압류해지 = 압류사건[condition]\n",
    "압류해지사건번호 = 압류해지[['새채무자키', '사건번호']]\n",
    "압류해지사건번호 = 압류해지사건번호.drop_duplicates() # 기본값이 전체열 중복임\n",
    "압류해지개수 = len(압류해지사건번호)\n",
    "# 2) 압류사건 중 해제사건을 새채무자키와 사건번호를 기준으로 제외하기(관할법원은 없는 경우 있어서 새채무자키를 사용함)\n",
    "merged = 압류사건.merge(압류해지사건번호, on=['새채무자키', '사건번호'], how='left', indicator=True) # indeicator :어느 데이터프레임에 속하는지를 '_merge'칼럼에 표시\n",
    "압류유지 = merged[merged['_merge'] == 'left_only'].drop('_merge', axis=1) # 8월말 기준 both는 375개(해지가 직접 포함된 사건은 330개였음) \n",
    "압류유지개수 = len(압류유지)\n",
    "\n",
    "# filter3 : 압류 : 종국결과 인용 (이걸 마지막에 해야 해지사건을 제대로 제외할 수 있음. 해제사건인데 종국결과가 없을 수도 있으니)\n",
    "압류 = 압류유지[압류유지.종국결과.str.contains(r\"결정|승소|원고승|인용|확정|발급|이행권고|지급명령|화해권고\")] # contains\n",
    "중복제거전 = len(압류)\n",
    "# 날짜는 상관없고, 채무자별로 최신 타채 하나만 있으면 되므로 새채무자키 기준으로 중복값 제거(정렬되어있어 최신값이 남는다.)\n",
    "압류 = 압류.drop_duplicates('새채무자키')\n",
    "압류개수 = len(압류)\n",
    "\n",
    "print(f\"총타채사건 : {압류사건개수}, 압류해지 : {압류해지개수}, 압류유지 : {압류유지개수}, 해지단어없지만 해지사건이라 제외된 건 : {압류사건개수 - 압류유지개수 - 압류해지개수}, 종국결과있는압류 : {압류개수}, 중복값 : {중복제거전 - 압류개수}\") # 중복값때문에 숫자는 맞아 떨어지지 않음"
   ]
  },
  {
   "cell_type": "code",
   "execution_count": 186,
   "metadata": {},
   "outputs": [
    {
     "name": "stderr",
     "output_type": "stream",
     "text": [
      "100%|██████████| 28067/28067 [00:20<00:00, 1337.57it/s]\n"
     ]
    }
   ],
   "source": [
    "############## 새채무자키 기준 시효완성일, 시효사유 작성\n",
    "새채무자키 = []\n",
    "시효완성일 = []\n",
    "시효사유 = []\n",
    "grouped_집행권원 = 집행권원.groupby('새채무자키')\n",
    "\n",
    "for i, v in tqdm(grouped_집행권원, total=len(grouped_집행권원)) : \n",
    "    # DataFrame을 사건번호를 기준으로 그룹화\n",
    "    grouped = v.groupby('사건번호')\n",
    "\n",
    "    # 첫 번째 그룹의 값 확인 (가장 최근 집행권원 = 사건번호 내림차순 정렬 되어있으므로 첫번째 그룹)\n",
    "    temp = grouped.get_group(list(grouped.groups.keys())[0])\n",
    "    \n",
    "    최신확정일 = temp.확정일.max()\n",
    "    최신종료일 = temp.종료일.max()\n",
    "    최신종국결과일 = temp.종국결과일.max()\n",
    "    최신사건년도 = str(temp.사건번호.str[:4].astype(int).max())\n",
    "    # 일자가 있고, 사건접수년도와 3년 미만 차이나는 것만\n",
    "    최신 = [x for x in [최신확정일, 최신종료일, 최신종국결과일] if (len(x) == 10) & (int(x[:4]) - int(최신사건년도) < 3 )]\n",
    "    최신.append(최신사건년도)\n",
    "    최신 = sorted(최신, reverse=True)[0]\n",
    "\n",
    "    # 시효 확정 : +10년 하되, 연도만 있는 경우 월일채우기(기준일basedate : yymmdd)\n",
    "    if len(최신) == 10 :\n",
    "        시효 = str(int(최신[:4]) + 10) + 최신[4:]\n",
    "    else : \n",
    "        시효 = str(int(최신[:4]) + 10) + \"-\" + basedate[2:4] + \"-\" + basedate[4:]\n",
    "    \n",
    "    # 채무자별 시효 및 시효기준 작성\n",
    "    새채무자키.append(i)\n",
    "    시효완성일.append(시효)\n",
    "    시효사유.append(temp.관할법원.values[0] + \" \" + temp.사건번호.values[0])"
   ]
  },
  {
   "cell_type": "code",
   "execution_count": 216,
   "metadata": {},
   "outputs": [],
   "source": [
    "# 압류 건 시효사유수정, 시효완성월 추가하기(법조치시효도, 압류도 새채무자키 중복값 없음)\n",
    "최종시효 = 법조치시효.merge(압류[[\"새채무자키\",'관할법원','사건번호']], on='새채무자키', how='outer', indicator=True)\n",
    "최종시효[\"시효완성월\"] = np.where(최종시효['_merge']=='left_only', '', '중단')\n",
    "최종시효[\"시효사유\"] = np.where(최종시효['_merge']=='left_only', 최종시효.시효사유, 최종시효.관할법원 + \" \"+ 최종시효.사건번호)\n",
    "최종시효.drop(['관할법원', '사건번호', '_merge'], axis=1, inplace=True)"
   ]
  },
  {
   "cell_type": "code",
   "execution_count": 311,
   "metadata": {},
   "outputs": [],
   "source": [
    "# 시효 확인 : 무담보 + 비정상 + 시효만료및임박(not중단) 새채무상태가 개인,법인,보증인정상,시효,종료처리요망 인 것 & 시효완성월이 시효만료, 당월도래, 1개월 인 것 # 중단은 중단으로 되어있음\n",
    "cond = raw_data.새채무상태.isin([\"개인\",\"법인\",\"보증인정상\",\"시효\",\"종료처리요망\"]) & raw_data.시효완성월.isin([\"시효만료\",\"당월도래\",\"1개월\"])\n",
    "raw_data[\"시효확인필요\"] = np.where(cond, True, False)"
   ]
  },
  {
   "cell_type": "code",
   "execution_count": 312,
   "metadata": {},
   "outputs": [],
   "source": [
    "merged_raw = pd.merge(raw_data, 최종시효, on='새채무자키', how='left', suffixes=['','_'])"
   ]
  },
  {
   "cell_type": "code",
   "execution_count": 222,
   "metadata": {},
   "outputs": [],
   "source": [
    "merged_raw.to_excel(\"수정전.xlsx\")"
   ]
  },
  {
   "cell_type": "code",
   "execution_count": 313,
   "metadata": {},
   "outputs": [],
   "source": [
    "시효완성일cond = (merged_raw.시효확인필요) & (merged_raw.시효완성일 < merged_raw.시효완성일_)\n",
    "merged_raw['시효완성일'] = np.where(시효완성일cond, merged_raw.시효완성일_, merged_raw.시효완성일)"
   ]
  },
  {
   "cell_type": "code",
   "execution_count": 318,
   "metadata": {},
   "outputs": [],
   "source": [
    "# 시효완성월 수정\n",
    "\n",
    "기준일 = pd.Timestamp(\"20\"+basedate[:4]+\"01\")\n",
    "\n",
    "# 함수벡터화\n",
    "merged_raw[\"시효완성일\"] = pd.to_datetime(merged_raw[\"시효완성일\"])  # 시효완성일을 날짜 형식으로 변환\n",
    "merged_raw[\"시효완성월_계산\"] = (merged_raw[\"시효완성일\"].dt.year - 기준일.year) * 12 + (merged_raw[\"시효완성일\"].dt.month - 기준일.month)\n",
    "\n",
    "# 버릴 시효완성월_ 작성\n",
    "x = merged_raw[\"시효완성월_계산\"]\n",
    "conds = [(x<0) | pd.isna(x), x<1, x<2, x<3, x<4, x<5, x<6, x<12, x>=12]\n",
    "values = [\"시효만료\", \"당월도래\", \"1개월\", \"2개월\", \"3개월\", \"4개월\", \"5개월\", \"1년이내\", \"1년이후\"]\n",
    "merged_raw[\"시효완성월_계산\"] = np.select(conds, values)\n",
    "\n",
    "# 시효완성월과 시효사유 : 압류로 인한 중단 반영\n",
    "merged_raw['시효완성월'] = np.where(merged_raw.시효완성월_==\"중단\", merged_raw.시효완성월_, merged_raw.시효완성월_계산)\n",
    "merged_raw['시효사유'] = np.where(merged_raw.시효완성월_==\"중단\", merged_raw.시효사유_, merged_raw.시효사유)\n",
    "\n",
    "# raw_data 저장 : 타입원복 및 불필요한 열 제거\n",
    "raw_data = merged_raw.iloc[:,:-5] # 시효확인필요, 시효완성일_, 시효사유_, 시효완성월_, 시효완성월_계산 제거\n",
    "raw_data[\"시효완성일\"] = raw_data[\"시효완성일\"].apply(lambda x: pd.Timestamp(x).strftime(\"%Y-%m-%d\") if pd.notna(x) else \"\")"
   ]
  },
  {
   "cell_type": "markdown",
   "metadata": {},
   "source": [
    "#### 칼럼 순서 및 저장"
   ]
  },
  {
   "cell_type": "code",
   "execution_count": 16,
   "metadata": {},
   "outputs": [],
   "source": [
    "# 컬럼 순서 \n",
    "raw_data.insert(8, \"새보증인상태\", raw_data.pop('새보증인상태'))\n",
    "raw_data.insert(9, \"반영OPB\", raw_data.pop('반영OPB'))"
   ]
  },
  {
   "cell_type": "code",
   "execution_count": 353,
   "metadata": {},
   "outputs": [],
   "source": [
    "# 전체 저장하기\n",
    "with pd.ExcelWriter(join(wd, basedate, \"2.\"+ company +\"_전체_원데이터_\"+basedate+\".xlsx\"), engine='openpyxl', mode = 'w') as writer :\n",
    "    raw_data.to_excel(writer, sheet_name=\"리스트\", index=False)\n",
    "# 특정 매각사만 저장하기\n",
    "# cond = \"스마트저축-01\" ###################################\n",
    "# raw_data[raw_data.매각사구분==cond].to_excel(join(wd, cond+\"_원데이터_\"+basedate+\".xlsx\"), index=False)"
   ]
  },
  {
   "attachments": {},
   "cell_type": "markdown",
   "metadata": {},
   "source": [
    "#### check. 채무상태 충돌"
   ]
  },
  {
   "cell_type": "code",
   "execution_count": 18,
   "metadata": {},
   "outputs": [
    {
     "name": "stdout",
     "output_type": "stream",
     "text": [
      "379 587\n"
     ]
    }
   ],
   "source": [
    "# [check] 동일차주 더블 채무상태(새채무자키, 주민번호 모두 보자)\n",
    "새채무자키_채무자별채무상태 = raw_data.groupby('새채무자키')['새채무상태'].apply(lambda x:\",\".join(x.unique()))\n",
    "check_새채무자키_채무상태 = 새채무자키_채무자별채무상태[새채무자키_채무자별채무상태.str.contains(',')]\n",
    "주민번호_채무자별채무상태 = raw_data.groupby('주민등록번호')['새채무상태'].apply(lambda x:\",\".join(x.unique()))\n",
    "check_주민번호_채무상태 = 주민번호_채무자별채무상태[주민번호_채무자별채무상태.str.contains(',')]\n",
    "# 출력 및 파일 저장\n",
    "if len(check_새채무자키_채무상태) > 0 : \n",
    "    check_새채무자키_채무상태.to_excel(join(wd, basedate, \"[check]더블채무상태_새채무자키.xlsx\"))\n",
    "else : print(\"새채무자키 기준 이상무\")\n",
    "if len(check_주민번호_채무상태) > 0 : \n",
    "    check_주민번호_채무상태.to_excel(join(wd, basedate, \"[check]더블채무상태_주민번호.xlsx\"))\n",
    "else : print(\"주민번호 기준 이상무\")\n",
    "print(len(check_새채무자키_채무상태), len(check_주민번호_채무상태))"
   ]
  },
  {
   "cell_type": "code",
   "execution_count": 19,
   "metadata": {},
   "outputs": [
    {
     "name": "stdout",
     "output_type": "stream",
     "text": [
      "매각건 제외 전 : 85\n",
      "매각건 제외 후 : 0\n"
     ]
    },
    {
     "data": {
      "text/html": [
       "<div>\n",
       "<style scoped>\n",
       "    .dataframe tbody tr th:only-of-type {\n",
       "        vertical-align: middle;\n",
       "    }\n",
       "\n",
       "    .dataframe tbody tr th {\n",
       "        vertical-align: top;\n",
       "    }\n",
       "\n",
       "    .dataframe thead th {\n",
       "        text-align: right;\n",
       "    }\n",
       "</style>\n",
       "<table border=\"1\" class=\"dataframe\">\n",
       "  <thead>\n",
       "    <tr style=\"text-align: right;\">\n",
       "      <th></th>\n",
       "      <th>채무자키</th>\n",
       "      <th>계좌키</th>\n",
       "      <th>구분</th>\n",
       "      <th>채권상태</th>\n",
       "      <th>새채무상태</th>\n",
       "      <th>채무상태</th>\n",
       "      <th>담당자</th>\n",
       "    </tr>\n",
       "  </thead>\n",
       "  <tbody>\n",
       "  </tbody>\n",
       "</table>\n",
       "</div>"
      ],
      "text/plain": [
       "Empty DataFrame\n",
       "Columns: [채무자키, 계좌키, 구분, 채권상태, 새채무상태, 채무상태, 담당자]\n",
       "Index: []"
      ]
     },
     "metadata": {},
     "output_type": "display_data"
    }
   ],
   "source": [
    "# [check]개회신복 중 매각 아닌 종결건이 있는지 확인하기 \n",
    "종결된계좌키 = raw_data[raw_data.채권상태 == \"종료\"].계좌키\n",
    "# 종결건 확인\n",
    "개회_종결 = rehabilitation[rehabilitation.계좌키.isin(종결된계좌키)][[\"채무자키\", \"계좌키\"]].copy()\n",
    "신복_종결 = credit[credit.계좌키.isin(종결된계좌키)][[\"채무자키\", \"계좌키\"]].copy()\n",
    "개회_종결[\"구분\"] = \"개회\"\n",
    "신복_종결[\"구분\"] = \"신복\"\n",
    "# 종결건에 기본정보 추가\n",
    "조정_종결 = pd.merge(개회_종결, 신복_종결, on=[\"채무자키\", \"계좌키\", \"구분\"], how='outer')\n",
    "조정_종결 = pd.merge(조정_종결, raw_data[[\"계좌키\",\"채권상태\",\"새채무상태\",\"채무상태\",\"담당자\"]], on='계좌키', how='left')\n",
    "# 매각 건 제외\n",
    "print(f'매각건 제외 전 : {len(조정_종결)}')\n",
    "매각idx = 조정_종결[(조정_종결.채무상태.str.contains('매각')) | (조정_종결.담당자.str.contains('매각'))].index\n",
    "조정_종결 = 조정_종결.drop(매각idx)\n",
    "print(f'매각건 제외 후 : {len(조정_종결)}')\n",
    "display(조정_종결)\n",
    "# [check]종결건 저장\n",
    "if len(조정_종결)>0 : \n",
    "    조정_종결.to_excel(join(wd,basedate, \"[check]매각외종결건vs조정.xlsx\"), index=False)"
   ]
  },
  {
   "attachments": {},
   "cell_type": "markdown",
   "metadata": {},
   "source": [
    "### 개회, 신복 원데이터 만들기"
   ]
  },
  {
   "cell_type": "code",
   "execution_count": 20,
   "metadata": {},
   "outputs": [],
   "source": [
    "# 개인회생 : 제출용 시트 작성하기\n",
    "if \"비고\" in rehabilitation.columns :\n",
    "    re_d = rehabilitation_d.loc[:,[\"채무자키\",\"계좌키\",\"분납키\",\"분납자성명인\",\"분납자관계\",\"매각사구분\", \"인가/미인가\",\"현재결과\", \"반영OPB\", \"관할법원\", \"사건번호\", \"접수일\", \"개시결정일\",\"변제계획인가일\",\"총분납회차\",\"현재회차\",\"납입회차\",\"잔여회차\",\"미납회차\",\"총분납금\",\"총분납입금\",\"분납미납금\",\"분납잔금\",\"총분납잔금\",\"현재원금\",\"현재법비용\",\"비고\"]]\n",
    "    re_grt = rehabilitation_grt.loc[:,[\"채무자키\",\"계좌키\",\"분납키\",\"분납자성명인\",\"분납자관계\",\"매각사구분\", \"인가/미인가\",\"현재결과\", \"반영OPB\", \"관할법원\", \"사건번호\", \"접수일\", \"개시결정일\",\"변제계획인가일\",\"총분납회차\",\"현재회차\",\"납입회차\",\"잔여회차\",\"미납회차\",\"총분납금\",\"총분납입금\",\"분납미납금\",\"분납잔금\",\"총분납잔금\",\"현재원금\",\"현재법비용\",\"비고\"]]\n",
    "else : # 계좌키분리 안 하면 '비고'란 없음\n",
    "    re_d = rehabilitation_d.loc[:,[\"채무자키\",\"계좌키\",\"분납키\",\"분납자성명인\",\"분납자관계\",\"매각사구분\", \"인가/미인가\",\"현재결과\", \"반영OPB\", \"관할법원\", \"사건번호\", \"접수일\", \"개시결정일\",\"변제계획인가일\",\"총분납회차\",\"현재회차\",\"납입회차\",\"잔여회차\",\"미납회차\",\"총분납금\",\"총분납입금\",\"분납미납금\",\"분납잔금\",\"총분납잔금\",\"현재원금\",\"현재법비용\"]]\n",
    "    re_grt = rehabilitation_grt.loc[:,[\"채무자키\",\"계좌키\",\"분납키\",\"분납자성명인\",\"분납자관계\",\"매각사구분\", \"인가/미인가\",\"현재결과\", \"반영OPB\", \"관할법원\", \"사건번호\", \"접수일\", \"개시결정일\",\"변제계획인가일\",\"총분납회차\",\"현재회차\",\"납입회차\",\"잔여회차\",\"미납회차\",\"총분납금\",\"총분납입금\",\"분납미납금\",\"분납잔금\",\"총분납잔금\",\"현재원금\",\"현재법비용\"]]\n",
    "# re_d.insert(0, \"순번\", range(1,len(re_d)+1))\n",
    "# re_grt.insert(0, \"순번\", range(1,len(re_grt)+1))\n",
    "# 저장\n",
    "with pd.ExcelWriter(join(wd, basedate, \"2.\"+ company +\"_개인회생_원데이터_\"+basedate+\".xlsx\"), engine='openpyxl', mode = 'w') as writer :\n",
    "    re_d.to_excel(writer, sheet_name=\"차주\", index=False)\n",
    "    re_grt.to_excel(writer, sheet_name=\"보증인\", index=False)"
   ]
  },
  {
   "cell_type": "code",
   "execution_count": 21,
   "metadata": {},
   "outputs": [],
   "source": [
    "# 신용회복 : 제출용 시트 작성하기\n",
    "# 기준데이터에서 삭제한 것이 있을 때 유의미 & 차주 보증인 구분\n",
    "\n",
    "# # \"NaT\" 처리 - 제대로 됐으면 안 해도 되는건데.. 뭔가 꼬였을 때\n",
    "# credit_d.replace({\"NaT\": \"\"}, inplace=True)\n",
    "# credit_grt.replace({\"NaT\": \"\"}, inplace=True)\n",
    "\n",
    "# 날짜열 문자열로\n",
    "date_cols = credit_d.select_dtypes(include='datetime').columns\n",
    "credit_d[date_cols] = credit_d[date_cols].astype(str)\n",
    "date_cols = credit_grt.select_dtypes(include='datetime').columns\n",
    "credit_grt[date_cols] = credit_grt[date_cols].astype(str)\n",
    "\n",
    "# # 저장\n",
    "with pd.ExcelWriter(join(wd, basedate, \"2.\"+ company +\"_신용회복_원데이터_\"+basedate+\".xlsx\"), engine='openpyxl', mode = 'w') as writer :\n",
    "    credit_d.to_excel(writer, sheet_name=\"차주\", index=False)\n",
    "    credit_grt.to_excel(writer, sheet_name=\"보증인\", index=False)"
   ]
  },
  {
   "cell_type": "code",
   "execution_count": 22,
   "metadata": {},
   "outputs": [
    {
     "data": {
      "text/html": [
       "<div>\n",
       "<style scoped>\n",
       "    .dataframe tbody tr th:only-of-type {\n",
       "        vertical-align: middle;\n",
       "    }\n",
       "\n",
       "    .dataframe tbody tr th {\n",
       "        vertical-align: top;\n",
       "    }\n",
       "\n",
       "    .dataframe thead th {\n",
       "        text-align: right;\n",
       "    }\n",
       "</style>\n",
       "<table border=\"1\" class=\"dataframe\">\n",
       "  <thead>\n",
       "    <tr style=\"text-align: right;\">\n",
       "      <th></th>\n",
       "      <th>계좌키</th>\n",
       "      <th>반영OPB</th>\n",
       "    </tr>\n",
       "    <tr>\n",
       "      <th>새채무상태</th>\n",
       "      <th></th>\n",
       "      <th></th>\n",
       "    </tr>\n",
       "  </thead>\n",
       "  <tbody>\n",
       "    <tr>\n",
       "      <th>개인</th>\n",
       "      <td>10497</td>\n",
       "      <td>115280850840</td>\n",
       "    </tr>\n",
       "    <tr>\n",
       "      <th>법인</th>\n",
       "      <td>1733</td>\n",
       "      <td>159810769848</td>\n",
       "    </tr>\n",
       "    <tr>\n",
       "      <th>개인회생(확정)</th>\n",
       "      <td>5317</td>\n",
       "      <td>11736534615</td>\n",
       "    </tr>\n",
       "    <tr>\n",
       "      <th>개인회생(진행중)</th>\n",
       "      <td>298</td>\n",
       "      <td>2213957872</td>\n",
       "    </tr>\n",
       "    <tr>\n",
       "      <th>신용회복(개인)</th>\n",
       "      <td>8651</td>\n",
       "      <td>20355911257</td>\n",
       "    </tr>\n",
       "    <tr>\n",
       "      <th>신용회복(프리)</th>\n",
       "      <td>5850</td>\n",
       "      <td>38273025230</td>\n",
       "    </tr>\n",
       "    <tr>\n",
       "      <th>신용회복(진행중)</th>\n",
       "      <td>445</td>\n",
       "      <td>3036413617</td>\n",
       "    </tr>\n",
       "    <tr>\n",
       "      <th>보증인정상</th>\n",
       "      <td>544</td>\n",
       "      <td>11532148918</td>\n",
       "    </tr>\n",
       "    <tr>\n",
       "      <th>시효</th>\n",
       "      <td>333</td>\n",
       "      <td>21898988086</td>\n",
       "    </tr>\n",
       "    <tr>\n",
       "      <th>종료처리요망</th>\n",
       "      <td>5561</td>\n",
       "      <td>77753928128</td>\n",
       "    </tr>\n",
       "    <tr>\n",
       "      <th>종료</th>\n",
       "      <td>38928</td>\n",
       "      <td>0</td>\n",
       "    </tr>\n",
       "  </tbody>\n",
       "</table>\n",
       "</div>"
      ],
      "text/plain": [
       "             계좌키         반영OPB\n",
       "새채무상태                         \n",
       "개인         10497  115280850840\n",
       "법인          1733  159810769848\n",
       "개인회생(확정)    5317   11736534615\n",
       "개인회생(진행중)    298    2213957872\n",
       "신용회복(개인)    8651   20355911257\n",
       "신용회복(프리)    5850   38273025230\n",
       "신용회복(진행중)    445    3036413617\n",
       "보증인정상        544   11532148918\n",
       "시효           333   21898988086\n",
       "종료처리요망      5561   77753928128\n",
       "종료         38928             0"
      ]
     },
     "execution_count": 22,
     "metadata": {},
     "output_type": "execute_result"
    }
   ],
   "source": [
    "# 요약 \n",
    "pd.options.display.float_format = '{:.0f}'.format\n",
    "# 특정 POOL\n",
    "# pool계좌키 = pd.read_excel(\"c://users/sl/Desktop/계좌키.xlsx\", dtype={\"계좌키\":str})\n",
    "# pool = pd.merge(raw_data,pool계좌키, on='계좌키', how='inner')\n",
    "# result = pool.groupby('새채무상태').agg({'계좌키':'count', '반영OPB':'sum'}).reindex(index=['개인','법인','개인회생(확정)','개인회생(진행중)','신용회복(개인)','신용회복(프리)','신용회복(진행중)','종료'])\n",
    "# result\n",
    "# 전체\n",
    "# reindex에 있는 것만 집계되네 \n",
    "raw_data.groupby('새채무상태').agg({'계좌키':'count', '반영OPB':'sum'}).reindex(index=['개인','법인','개인회생(확정)','개인회생(진행중)','신용회복(개인)','신용회복(프리)','신용회복(진행중)','보증인정상','시효','종료처리요망','종료'])"
   ]
  },
  {
   "attachments": {},
   "cell_type": "markdown",
   "metadata": {},
   "source": [
    "### POOL별 엑셀 파일 만들기"
   ]
  },
  {
   "cell_type": "code",
   "execution_count": 3,
   "metadata": {},
   "outputs": [],
   "source": [
    "# wd = r\"D:\\3.자산\\전산 dataset\\230430\\매각환매 채무상태 수정후\"\n",
    "# basedate = \"230430\"\n",
    "# dir = wd  \n",
    "dir = join(wd, basedate)"
   ]
  },
  {
   "attachments": {},
   "cell_type": "markdown",
   "metadata": {},
   "source": [
    "#### 바로 작업시에는 이 셀 pass---------------------------------"
   ]
  },
  {
   "cell_type": "code",
   "execution_count": 4,
   "metadata": {},
   "outputs": [],
   "source": [
    "# 원데이터 새로 읽기\n",
    "files = [\"2.\"+ company +\"_개인회생_원데이터_\"+basedate, \"2.\"+ company +\"_신용회복_원데이터_\"+basedate, \"2.\"+ company +\"_전체_원데이터_\"+basedate]\n",
    "\n",
    "# 1.개인회생\n",
    "re_d = pd.read_excel(join(dir, files[0]+\".xlsx\"), dtype=rehabilitation_dtype, sheet_name=\"차주\").fillna(\"\")\n",
    "re_grt = pd.read_excel(join(dir, files[0]+\".xlsx\"), dtype=rehabilitation_dtype, sheet_name=\"보증인\").fillna(\"\")\n",
    "\n",
    "# 2.신용회복\n",
    "credit_d = pd.read_excel(join(dir, files[1]+\".xlsx\"), dtype=credit_dtype, sheet_name=\"차주\").fillna(\"\")\n",
    "credit_grt = pd.read_excel(join(dir, files[1]+\".xlsx\"), dtype=credit_dtype, sheet_name=\"보증인\").fillna(\"\")\n",
    "\n",
    "# 날짜타입 칼럼\n",
    "date_cols = credit_d.select_dtypes(include='datetime').columns\n",
    "credit_d[date_cols] = credit_d[date_cols].astype(str)\n",
    "date_cols = credit_grt.select_dtypes(include='datetime').columns\n",
    "credit_grt[date_cols] = credit_grt[date_cols].astype(str)\n",
    "\n",
    "# 3.무담보\n",
    "raw_data = pd.read_excel(join(dir, files[2]+\".xlsx\"), dtype=account_dtype, sheet_name=\"리스트\").fillna(\"\")\n",
    "\n",
    "credit_d.replace({pd.NaT: \"\"}, inplace=True)\n",
    "credit_grt.replace({pd.NaT: \"\"}, inplace=True)"
   ]
  },
  {
   "cell_type": "code",
   "execution_count": null,
   "metadata": {},
   "outputs": [],
   "source": [
    "###################################################\n",
    "# 무담보 채무상태 추가작업\n",
    "# raw_data.loc[(raw_data.채무상태.str.contains(r\"파산(?!\\(기각\\))|사망\")) | (raw_data.담당자.str.contains(r\"파산(?!\\(기각\\))|사망\")) ,\"새채무상태\"] = \"종료\"\n",
    "###################################################"
   ]
  },
  {
   "cell_type": "code",
   "execution_count": 5,
   "metadata": {},
   "outputs": [],
   "source": [
    "# 풀데이터 읽기\n",
    "###################################################################################\n",
    "# P1 수정전(7558건 모두 P1) OR 대성\n",
    "path_pooldata = join(r\"D:\\3.자산\\POOL별 관리자산\", company, \"POOL정보.xlsx\" ) \n",
    "# # P1 수정후(1월 종료건은 무차입으로)\n",
    "# path_pooldata = join(r\"D:\\3.자산\\POOL별 관리자산\", company, \"POOL정보-P1수정.xlsx\" ) \n",
    "###################################################################################\n",
    "pooldata = pd.read_excel(path_pooldata, sheet_name=\"POOL정리\", dtype={\"계좌키\":str})"
   ]
  },
  {
   "cell_type": "code",
   "execution_count": 6,
   "metadata": {},
   "outputs": [],
   "source": [
    "# POOL별 채무자키 \n",
    "pool_dict = {\n",
    "            # \"무차입\" : pooldata.query('소속풀수==0')[\"계좌키\"],\n",
    "            \"POOL1\" : pooldata.query('P1==True')[\"계좌키\"],\n",
    "            # \"POOL2\" : pooldata.query('P2==True')[\"계좌키\"],\n",
    "            # \"POOL3\" : pooldata.query('P3==True')[\"계좌키\"],\n",
    "            # \"POOL4\" : pooldata.query('P4==True')[\"계좌키\"],\n",
    "            # \"POOL5\" : pooldata.query('P5==True')[\"계좌키\"],\n",
    "            # \"POOL6\" : pooldata.query('P6==True')[\"계좌키\"],\n",
    "            # # \"POOL7\" : pooldata.query('P7==True')[\"계좌키\"],\n",
    "            # \"POOL8\" : pooldata.query('P8==True')[\"계좌키\"],\n",
    "            # # \"POOL9\" : pooldata.query('P9==True')[\"계좌키\"],\n",
    "            # \"POOL10\" : pooldata.query('P10==True')[\"계좌키\"],\n",
    "            # \"POOL11\" : pooldata.query('P11==True')[\"계좌키\"],\n",
    "            # \"POOL12\" : pooldata.query('P12==True')[\"계좌키\"],\n",
    "            # \"POOL13\" : pooldata.query('P13==True')[\"계좌키\"],\n",
    "            # \"POOL14\" : pooldata.query('P14==True')[\"계좌키\"],\n",
    "            # \"POOL15\" : pooldata.query('P15==True')[\"계좌키\"]\n",
    "            }"
   ]
  },
  {
   "attachments": {},
   "cell_type": "markdown",
   "metadata": {},
   "source": [
    "##### 풀별 내부/발송 파일 만들기\n",
    "- 일부 풀만 작업할 경우 위 pool_dict 주석처리를 통해"
   ]
  },
  {
   "cell_type": "code",
   "execution_count": 7,
   "metadata": {},
   "outputs": [],
   "source": [
    "def summary_comment (ws1, file_kind, comp_closing, basedate) : \n",
    "    file_kind = file_kind\n",
    "    start_row = None\n",
    "    data = [\"■ 자산확정일 : 20\" + basedate[0:2]+\"-\"+basedate[2:4]+\"-\"+basedate[4:],\n",
    "        \"\",\n",
    "        \"■ OPB 작성기준\",\n",
    "        \"무담보 : 미상환원금잔액(현재원금+현재법비용)\",\n",
    "        \"개인회생(인가) : 총분납잔금\",\n",
    "        \"개인회생(미인가) : 미상환원금잔액\",\n",
    "        \"신용회복(개인) : 상환후잔액(빈값인 경우 조정후합계)\",\n",
    "        \"신용회복(프리) : 상환후잔액(빈값인 경우 조정후합계)\",\n",
    "        \"신용회복(미확정) : 조정전원금\", # 8번 요소 \n",
    "        \"\",\n",
    "        \"■ 제외(종료)기준 1 - 확실한 종료건\",\n",
    "        \"  ▶ 종결일이 있거나 계좌메모에 종결여부가 표시되어있을 때\",\n",
    "        \"  ▶ 채무상태나 담당자 값이 다음을 포함할 때 : \" + comp_closing[\"종료\"],\n",
    "        \"\",\n",
    "        \"■ 제외(종료)기준 2 - 비정상건(매각 불가)\",\n",
    "        \"  ▶ [보증인정상] : 차주는 [종결처리요망]에 해당하나\",\n",
    "        \"     정상 상태의 보증인이 있을때\",\n",
    "        \"  ▶ [시효] : 채무상태나 담당자 값이 다음을 포함할 때 : \" + comp_closing[\"시효\"],\n",
    "        \"  ▶ [종료처리요망] : 채무상태나 담당자 값이 다음을 포함하거나 : \" + comp_closing[\"면책\"] + \"|\" +comp_closing[\"불가\"],\n",
    "        \"     차주가 법인이면서\",\n",
    "        \"     정상 상태의 보증인이 한 명도 없을 때\"\n",
    "        ]\n",
    "    if file_kind == \"발송\" :\n",
    "        start_row = 13\n",
    "        data = data[:9]\n",
    "    else : \n",
    "        start_row = 15\n",
    "    for i, row_data in enumerate(data) :\n",
    "        ws1.cell(row=start_row + i, column=1,value=row_data)\n",
    "    return ws1\n",
    "\n",
    "def set_col_width_ws1(ws1) : \n",
    "    ws1.column_dimensions[\"A\"].width = 18\n",
    "    ws1.column_dimensions[\"B\"].width = 10\n",
    "    ws1.column_dimensions[\"C\"].width = 14\n",
    "    ws1.column_dimensions[\"D\"].width = 10\n",
    "    ws1.column_dimensions[\"E\"].width = 14"
   ]
  },
  {
   "cell_type": "code",
   "execution_count": 8,
   "metadata": {},
   "outputs": [
    {
     "name": "stderr",
     "output_type": "stream",
     "text": [
      "  0%|          | 0/1 [00:00<?, ?it/s]"
     ]
    },
    {
     "name": "stderr",
     "output_type": "stream",
     "text": [
      "100%|██████████| 1/1 [00:40<00:00, 40.51s/it]\n"
     ]
    }
   ],
   "source": [
    "pd.set_option('mode.chained_assignment', None)\n",
    "\n",
    "output_dir = join(dir,\"output\")\n",
    "if not os.path.exists(output_dir) : os.mkdir(output_dir)\n",
    "\n",
    "for pool_kind, pool_keys in tqdm(pool_dict.items(), total=len(pool_dict))  : \n",
    "    \n",
    "    ###### 내부용 만들기############################################################\n",
    "    file_kind = \"내부\"\n",
    "    # 풀 원데이터\n",
    "    pool_raw = raw_data[raw_data.계좌키.isin(pool_keys)].copy()\n",
    "    # 풀 무담보, 종료건\n",
    "    pool_무담보 = pool_raw[pool_raw[\"새채무상태\"].isin([\"개인\",\"법인\"])]\n",
    "    pool_비정상 = pool_raw[pool_raw[\"채권상태\"]==\"비정상\"]\n",
    "    pool_종료 = pool_raw[pool_raw[\"채권상태\"]==\"종료\"]\n",
    "    # 풀 조정건 : 새채무상태상 개회, 신복인 것만 고르기(기준데이터에 종결건 포함돼도 ok)\n",
    "    re_d_keys = pool_raw[pool_raw[\"새채무상태\"].str.contains(\"회생\")].계좌키\n",
    "    credit_d_keys = pool_raw[pool_raw[\"새채무상태\"].str.contains(\"신용\")].계좌키\n",
    "    pool_re_d = re_d[re_d.계좌키.isin(re_d_keys)]\n",
    "    pool_re_grt = re_grt[re_grt.계좌키.isin(re_d_keys)]\n",
    "    pool_credit_d = credit_d[credit_d.계좌키.isin(credit_d_keys)]\n",
    "    pool_credit_grt = credit_grt[credit_grt.계좌키.isin(credit_d_keys)]\n",
    "\n",
    "    #순번 넣기\n",
    "    pool_종료.insert(0, \"순번\", range(1,len(pool_종료)+1))\n",
    "    pool_비정상.insert(0, \"순번\", range(1,len(pool_비정상)+1))\n",
    "    pool_무담보.insert(0, \"순번\", range(1,len(pool_무담보)+1))\n",
    "    pool_re_d.insert(0, \"순번\", range(1,len(pool_re_d)+1))\n",
    "    pool_re_grt.insert(0, \"순번\", range(1,len(pool_re_grt)+1))\n",
    "    pool_credit_d[\"No.\"] = range(1,len(pool_credit_d)+1)\n",
    "    pool_credit_grt[\"No.\"] = range(1,len(pool_credit_grt)+1)\n",
    "\n",
    "    ####### 요약시트[시작]\n",
    "    summary = pool_raw.groupby('새채무상태').agg({'계좌키':'count', '반영OPB':'sum'}).reindex( \\\n",
    "        index=['개인','법인','개인회생(확정)','개인회생(진행중)','신용회복(개인)','신용회복(프리)','신용회복(진행중)','보증인정상','시효','종료처리요망','종료'])\n",
    "    summary.rename(columns={'계좌키':'건수', '반영OPB':\"OPB\"}, inplace=True)\n",
    "\n",
    "    # 보증인 합산\n",
    "    summary[\"건수(보증인)\"] = [\n",
    "        0,0, # 개인, 법인은 그대로\n",
    "        pool_re_grt[pool_re_grt['인가/미인가']==\"인가\"].계좌키.count(), # 보증인은 없는 경우 있어서 그룹화하면 index에러날 수 있음\n",
    "        pool_re_grt[pool_re_grt['인가/미인가']==\"미인가\"].계좌키.count(),\n",
    "        pool_credit_grt[(pool_credit_grt.진행구분==\"확정\") & (pool_credit_grt.상환방식==\"개인\")].계좌키.count(),\n",
    "        pool_credit_grt[(pool_credit_grt.진행구분==\"확정\") & (pool_credit_grt.상환방식==\"프리\")].계좌키.count(),\n",
    "        pool_credit_grt[pool_credit_grt.진행구분==\"미확정\"].계좌키.count(), \n",
    "        0, 0, 0, 0 # 비정상3건과 종료\n",
    "    ]\n",
    "    summary[\"OPB(보증인)\"] = [\n",
    "        0,0, # 개인, 법인은 그대로\n",
    "        pool_re_grt[pool_re_grt['인가/미인가']==\"인가\"].반영OPB.sum(),\n",
    "        pool_re_grt[pool_re_grt['인가/미인가']==\"미인가\"].반영OPB.sum(),\n",
    "        pool_credit_grt[(pool_credit_grt.진행구분==\"확정\") & (pool_credit_grt.상환방식==\"개인\")].반영OPB.sum(),\n",
    "        pool_credit_grt[(pool_credit_grt.진행구분==\"확정\") & (pool_credit_grt.상환방식==\"프리\")].반영OPB.sum(),\n",
    "        pool_credit_grt[pool_credit_grt.진행구분==\"미확정\"].반영OPB.sum(),\n",
    "        0, 0, 0, 0 # 비정상3건과 종료\n",
    "    ]\n",
    "\n",
    "    # \"종결\" 행 제외한 열의 합계 계산\n",
    "    row_sum = summary[summary.index != \"종료\"].sum()\n",
    "    summary.loc[\"합계(종료제외)\"] = row_sum\n",
    "    summary = summary.reindex(index=['개인','법인','개인회생(확정)','개인회생(진행중)','신용회복(개인)','신용회복(프리)','신용회복(진행중)','보증인정상','시효','종료처리요망',\"합계(종료제외)\",'종료'])\n",
    "\n",
    "    summary = summary.fillna(0).astype(dtype='int64')\n",
    "    summary.rename_axis(\"구분\", inplace=True)\n",
    "    \n",
    "\n",
    "    ######### 엑셀 쓰기\n",
    "    wb = Workbook()\n",
    "    ws1 = wb.active\n",
    "    ws1.title = \"요약\"\n",
    "    ws2 = wb.create_sheet(\"무담보\")\n",
    "    ws3 = wb.create_sheet(\"개인회생_차주\")\n",
    "    ws4 = wb.create_sheet(\"개인회생_보증인\")\n",
    "    ws5 = wb.create_sheet(\"신용회복_차주\")\n",
    "    ws6 = wb.create_sheet(\"신용회복_보증인\")\n",
    "    ws7 = wb.create_sheet(\"비정상\")\n",
    "    ws8 = wb.create_sheet(\"종료\")\n",
    "\n",
    "    # 시트에 데이터 쓰기\n",
    "    for r in dataframe_to_rows(summary, index=True, header=True): ws1.append(r)\n",
    "    # a1에 구분 넣고 요약셀 2행 삭제\n",
    "    ws1['a1'] = \"구분\"\n",
    "    ws1.delete_rows(2)\n",
    "\n",
    "    # 코멘트 작성하기\n",
    "    ws1 = summary_comment(ws1, file_kind, comp_closing, basedate)\n",
    "\n",
    "    for r in dataframe_to_rows(pool_무담보, index=False, header=True): ws2.append(r)\n",
    "    for r in dataframe_to_rows(pool_re_d, index=False, header=True): ws3.append(r)\n",
    "    for r in dataframe_to_rows(pool_re_grt, index=False, header=True): ws4.append(r)\n",
    "    for r in dataframe_to_rows(pool_credit_d, index=False, header=True): ws5.append(r)\n",
    "    for r in dataframe_to_rows(pool_credit_grt, index=False, header=True): ws6.append(r)\n",
    "    for r in dataframe_to_rows(pool_비정상, index=False, header=True): ws7.append(r)\n",
    "    for r in dataframe_to_rows(pool_종료, index=False, header=True): ws8.append(r)\n",
    "\n",
    "    # 스타일 지정\n",
    "    # 폰트\n",
    "    #font = Font(name='NN30', size=10, color='FF000000')\n",
    "    # 폰트 (데이터 부분)\n",
    "    font_data = Font(name='NN30', size=10)\n",
    "    # 배경색\n",
    "    fill_col = PatternFill(fill_type='solid', start_color='FF0072C6', end_color='FF0072C6') # 칼럼명\n",
    "    fill_new = PatternFill(fill_type='solid', start_color='FF49C620', end_color='FF49C620') # 칼럼명에 '새'가 들어간 것\n",
    "    # 테두리 : 직선\n",
    "    border = Border(left=Side(style='thin'), right=Side(style='thin'), top=Side(style='thin'), bottom=Side(style='thin'))\n",
    "    # 정렬\n",
    "    alignment = Alignment(horizontal='center', vertical='center')\n",
    "\n",
    "    for ws in [ws1,ws2,ws3,ws4,ws5,ws6,ws7,ws8] :\n",
    "\n",
    "        # 컬럼명 스타일 적용\n",
    "        for cell in ws[1]:\n",
    "            cell.font = Font(name='NN30', size=10, color='FFFFFF', bold=True)\n",
    "            if cell.value is not None and cell.value.startswith('새') : cell.fill = fill_new\n",
    "            else : cell.fill = fill_col\n",
    "            cell.border = border\n",
    "            cell.alignment = alignment\n",
    "\n",
    "        # 데이터 부분 스타일 적용\n",
    "        # 요약시트\n",
    "        max_row = 13 if ws.title == \"요약\" else ws.max_row\n",
    "        # 다른시트\n",
    "        for row in ws.iter_rows(min_row=2, max_row=max_row):\n",
    "            for cell in row:\n",
    "                # 숫자 데이터인 경우\n",
    "                if isinstance(cell.value, (int, float)):\n",
    "                    cell.font = font_data\n",
    "                    cell.number_format = '#,##0' if isinstance(cell.value, int) else '#,##0.00'\n",
    "                    cell.alignment = Alignment(horizontal='right', vertical='center')\n",
    "                # 날짜 데이터인 경우\n",
    "                elif isinstance(cell.value, pd.Timestamp):\n",
    "                    cell.font = font_data\n",
    "                    cell.number_format = 'yyyy-mm-dd'\n",
    "                    cell.alignment = alignment\n",
    "                # 나머지 문자열 데이터인 경우\n",
    "                else:\n",
    "                    cell.font = font_data\n",
    "                    cell.alignment = alignment\n",
    "                cell.border = border\n",
    "\n",
    "    # 요약시트 \"계(종료제외)\" 배경색\n",
    "    for cell in ws1[12]:\n",
    "        cell.fill = PatternFill(fill_type='solid', start_color='B8CCE4', end_color='B8CCE4')\n",
    "\n",
    "    # 요약시트 나머지행 글자크기\n",
    "    for row in ws1.iter_rows(min_row=10) :\n",
    "        for cell in row : \n",
    "            cell.font = Font(name='NN30', size=10)\n",
    "    \n",
    "    # 요약시트 컬럼 너비 지정하기(단위는 char임)\n",
    "    set_col_width_ws1(ws1)\n",
    "\n",
    "    # 파일 저장\n",
    "    wb.save(join(output_dir, pool_kind+\"_데이터_\"+basedate+\"_\"+file_kind+\".xlsx\"))\n",
    "\n",
    "\n",
    "    ###### 발송용 만들기############################################################\n",
    "    file_kind = \"발송\" ####\n",
    "\n",
    "    pool_무담보.drop(['채권상태','새채무상태','채무상태','담당자','새보증인상태','회수합계', '종결일', '메모'], axis=1, inplace=True) # '시효완성월','시효사유',\n",
    "    pool_무담보[\"성명\"] = pool_무담보[\"성명\"].apply(lambda x:x[:1]+\"\\u25CB\"+x[2:])\n",
    "    pool_무담보[\"주민등록번호\"] = pool_무담보[\"주민등록번호\"].apply(lambda x : x[:8]+\"*\"*len(x[8:]))\n",
    "    pool_re_d[\"분납자성명인\"] = pool_re_d[\"분납자성명인\"].apply(lambda x:x[:1]+\"\\u25CB\"+x[2:])\n",
    "    pool_re_grt[\"분납자성명인\"] = pool_re_grt[\"분납자성명인\"].apply(lambda x:x[:1]+\"\\u25CB\"+x[2:])\n",
    "    pool_credit_d[\"고객명\"] = pool_credit_d[\"고객명\"].apply(lambda x:x[:1]+\"\\u25CB\"+x[2:])\n",
    "    pool_credit_d[\"고객식별번호\"] = pool_credit_d[\"고객식별번호\"].apply(lambda x : x[:8]+\"*\"*len(x[8:]))\n",
    "    pool_credit_grt[\"고객명\"] = pool_credit_grt[\"고객명\"].apply(lambda x:x[:1]+\"\\u25CB\"+x[2:])\n",
    "    pool_credit_grt[\"고객식별번호\"] = pool_credit_grt[\"고객식별번호\"].apply(lambda x : x[:8]+\"*\"*len(x[8:]))\n",
    "    pool_종료 = pd.concat([pool_비정상, pool_종료],)\n",
    "    pool_종료[\"순번\"] = range(1,len(pool_종료)+1)\n",
    "    pool_종료 = pool_종료[[\"순번\",\"채무자키\",\"계좌키\",\"채무상태\",\"성명\",\"주민등록번호\"]]\n",
    "    pool_종료[\"성명\"] = pool_종료[\"성명\"].apply(lambda x:x[:1]+\"\\u25CB\"+x[2:])\n",
    "    pool_종료[\"주민등록번호\"] = pool_종료[\"주민등록번호\"].apply(lambda x : x[:8]+\"*\"*len(x[8:]))\n",
    "\n",
    "    wb = Workbook()\n",
    "    ws1 = wb.active\n",
    "    ws1.title = \"요약\"\n",
    "    ws2 = wb.create_sheet(\"무담보\")\n",
    "    ws3 = wb.create_sheet(\"개인회생_차주\")\n",
    "    ws4 = wb.create_sheet(\"개인회생_보증인\")\n",
    "    ws5 = wb.create_sheet(\"신용회복_차주\")\n",
    "    ws6 = wb.create_sheet(\"신용회복_보증인\")\n",
    "    ws7 = wb.create_sheet(\"종료\")\n",
    "\n",
    "    # 시트에 데이터 쓰기\n",
    "\n",
    "    # 요약 시트 재작성\n",
    "    summary.loc[\"종료\"] += summary.loc[\"보증인정상\"] + summary.loc[\"시효\"] + summary.loc[\"종료처리요망\"]\n",
    "    summary.loc[\"합계(종료제외)\"] -= summary.loc[\"보증인정상\"] + summary.loc[\"시효\"] + summary.loc[\"종료처리요망\"]\n",
    "    summary = summary.drop([\"보증인정상\", \"시효\", \"종료처리요망\"])\n",
    "    summary.loc[\"종료\",\"OPB\"] = 0\n",
    "\n",
    "    for r in dataframe_to_rows(summary, index=True, header=True): ws1.append(r)\n",
    "    # a1에 구분 넣고 요약셀 2행 삭제\n",
    "    ws1['a1'] = \"구분\"\n",
    "    ws1.delete_rows(2)\n",
    "    \n",
    "    # 코멘트 작성하기\n",
    "    ws1 = summary_comment(ws1, file_kind, comp_closing, basedate)\n",
    "\n",
    "    for r in dataframe_to_rows(pool_무담보, index=False, header=True): ws2.append(r)\n",
    "    for r in dataframe_to_rows(pool_re_d, index=False, header=True): ws3.append(r)\n",
    "    for r in dataframe_to_rows(pool_re_grt, index=False, header=True): ws4.append(r)\n",
    "    for r in dataframe_to_rows(pool_credit_d, index=False, header=True): ws5.append(r)\n",
    "    for r in dataframe_to_rows(pool_credit_grt, index=False, header=True): ws6.append(r)\n",
    "    for r in dataframe_to_rows(pool_종료, index=False, header=True): ws7.append(r)\n",
    "\n",
    "    # 스타일 지정\n",
    "    # 폰트\n",
    "    #font = Font(name='NN30', size=10, color='FF000000')\n",
    "    # 폰트 (데이터 부분)\n",
    "    font_data = Font(name='NN30', size=10)\n",
    "    # 배경색\n",
    "    fill = PatternFill(fill_type='solid', start_color='FF0072C6', end_color='FF0072C6')\n",
    "    # 테두리\n",
    "    border = Border(left=Side(style='thin'), right=Side(style='thin'), top=Side(style='thin'), bottom=Side(style='thin'))\n",
    "    # 정렬\n",
    "    alignment = Alignment(horizontal='center', vertical='center')\n",
    "\n",
    "    for ws in [ws1,ws2,ws3,ws4,ws5,ws6,ws7] :\n",
    "\n",
    "        # 컬럼명 스타일 적용\n",
    "        for cell in ws[1]: # 시트의 1행의 셀 반복\n",
    "            cell.font = Font(name='NN30', size=10, color='FFFFFF', bold=True)\n",
    "            cell.fill = fill\n",
    "            cell.border = border\n",
    "            cell.alignment = alignment\n",
    "\n",
    "        # 데이터 부분 스타일 적용\n",
    "        # 요약시트\n",
    "        max_row = 10 if ws.title == \"요약\" else ws.max_row\n",
    "        # 다른시트\n",
    "        for row in ws.iter_rows(min_row=2, max_row=max_row):\n",
    "            for cell in row:\n",
    "                # 숫자 데이터인 경우\n",
    "                if isinstance(cell.value, (int, float)):\n",
    "                    cell.font = font_data\n",
    "                    cell.number_format = '#,##0' if isinstance(cell.value, int) else '#,##0.00'\n",
    "                    cell.alignment = Alignment(horizontal='right', vertical='center')\n",
    "                # 날짜 데이터인 경우\n",
    "                elif isinstance(cell.value, pd.Timestamp):\n",
    "                    cell.font = font_data\n",
    "                    cell.number_format = 'yyyy-mm-dd'\n",
    "                    cell.alignment = alignment\n",
    "                # 나머지 문자열 데이터인 경우\n",
    "                else:\n",
    "                    cell.font = font_data\n",
    "                    cell.alignment = alignment\n",
    "                cell.border = border\n",
    "        \n",
    "    # 요약시트 \"합계(종료제외)\" 배경색\n",
    "    for cell in ws1[9]:\n",
    "        cell.fill = PatternFill(fill_type='solid', start_color='B8CCE4', end_color='B8CCE4')\n",
    "    \n",
    "    # 요약시트 나머지행 글자크기\n",
    "    for row in ws1.iter_rows(min_row=10) :\n",
    "        for cell in row : \n",
    "            cell.font = Font(name='NN30', size=10)\n",
    "\n",
    "    # 요약시트 컬럼 너비 지정하기(단위는 char임)\n",
    "    set_col_width_ws1(ws1)\n",
    "            \n",
    "    # 파일 저장\n",
    "    wb.save(join(output_dir, pool_kind+\"_데이터_\"+basedate+\"_\"+file_kind+\".xlsx\"))\n"
   ]
  },
  {
   "cell_type": "code",
   "execution_count": null,
   "metadata": {},
   "outputs": [],
   "source": [
    "############## 끝 ###################"
   ]
  },
  {
   "attachments": {},
   "cell_type": "markdown",
   "metadata": {},
   "source": [
    "### 인적속성 - 다중채무, 다중담당 체크하기"
   ]
  },
  {
   "cell_type": "code",
   "execution_count": 301,
   "metadata": {},
   "outputs": [],
   "source": [
    "####전산_check_전체계좌.ipynb 에도 있음\n",
    "account = pd.read_pickle(r\"D:\\3.자산\\전산 dataset\\230430\\계좌조회새창_20230502_0847.pkl\")\n",
    "new_debtKey = pd.read_pickle(r\"C:\\Users\\SL\\Desktop\\workspace\\python\\fileNaming\\파일\\새채무자키.pkl\")[[\"새채무자키\",\"채무자키\",\"계좌키\"]]\n",
    "# 새채무자키 병합하기\n",
    "account.drop(account[account.채무자명==\"예수금\"].index, inplace=True)\n",
    "account = pd.merge(account, new_debtKey[[\"계좌키\",\"새채무자키\",]], on='계좌키', how='left')\n",
    "\n",
    "# 필요열만 새로운 df로 & 정렬\n",
    "new_debtKey = account[[\"새채무자키\", '채무자키','계좌키','채무상태','담당자']].copy()\n",
    "new_debtKey.sort_values(['새채무자키', '채무자키', '계좌키'], inplace=True)\n",
    "\n",
    "###### multi_index : 조작하기는 어렵고, 엑셀로 보낼때 자동으로 병합이 되어서 보기는 좋음\n",
    "x = account.set_index(['새채무자키','채무자키','계좌키'],drop=True)[\"채무상태\"]\n",
    "# 다중채무, 다중담당 T/F값 입력\n",
    "x = new_debtKey.groupby('새채무자키')\n",
    "new_debtKey['다중채무상태여부'] = x['채무상태'].transform(lambda s: np.any(s != s.iloc[0]))\n",
    "new_debtKey['다중담당여부'] = x['담당자'].transform(lambda s: np.any(s != s.iloc[0]))\n",
    "# 다중인 것들만 \n",
    "check = new_debtKey[new_debtKey[\"다중채무상태여부\"] | new_debtKey['다중담당여부']].copy()\n",
    "# index설정\n",
    "gc = check.set_index(['새채무자키', '채무자키'], drop=True)\n",
    "#저장\n",
    "gc.to_excel(r\"c://Users/SL/Desktop/check_채무상태(병합).xlsx\")"
   ]
  },
  {
   "cell_type": "code",
   "execution_count": 302,
   "metadata": {},
   "outputs": [],
   "source": []
  },
  {
   "cell_type": "code",
   "execution_count": 306,
   "metadata": {},
   "outputs": [],
   "source": []
  },
  {
   "cell_type": "code",
   "execution_count": 224,
   "metadata": {},
   "outputs": [],
   "source": []
  },
  {
   "cell_type": "code",
   "execution_count": 307,
   "metadata": {},
   "outputs": [],
   "source": []
  },
  {
   "cell_type": "code",
   "execution_count": 308,
   "metadata": {},
   "outputs": [],
   "source": []
  },
  {
   "cell_type": "code",
   "execution_count": 309,
   "metadata": {},
   "outputs": [],
   "source": []
  },
  {
   "cell_type": "code",
   "execution_count": 311,
   "metadata": {},
   "outputs": [],
   "source": []
  },
  {
   "attachments": {},
   "cell_type": "markdown",
   "metadata": {},
   "source": [
    "### 시효(계좌)"
   ]
  },
  {
   "cell_type": "code",
   "execution_count": 14,
   "metadata": {},
   "outputs": [],
   "source": [
    "wd = r\"C:\\Users\\SL\\Desktop\\자산정리test파일\"\n",
    "filename_account = \"계좌조회새창_20230502_0847.pkl\"\n",
    "PATH_NEW_DEBTKEY = r\"C:\\Users\\SL\\Desktop\\자산정리test파일\\새채무자키.pkl\"\n",
    "\n",
    "account = pd.read_pickle(join(wd,filename_account))\n",
    "new_debtKey = pd.read_pickle(PATH_NEW_DEBTKEY)\n",
    "today = datetime.today().strftime(\"%y%m%d\")"
   ]
  },
  {
   "cell_type": "code",
   "execution_count": 15,
   "metadata": {},
   "outputs": [],
   "source": [
    "# 새채무자키 병합하기\n",
    "account.drop(account[account.채무자명==\"예수금\"].index, inplace=True)\n",
    "account = pd.merge(account, new_debtKey[[\"계좌키\",\"새채무자키\",]], on='계좌키', how='left')"
   ]
  },
  {
   "cell_type": "code",
   "execution_count": null,
   "metadata": {},
   "outputs": [],
   "source": [
    "# 필요열만 새로운 df로 & 정렬\n",
    "account_limit_info = account[[\"새채무자키\", '채무자키','계좌키','채무상태','담당자', \"시효완성일\", \"시효완성월\", \"최초연체일\", \"최초시효완성일메모\", \"시효연장사유\", \"시효중단여부\"]].copy()\n",
    "account_limit_info.sort_values(['새채무자키', '채무자키', '계좌키'], inplace=True)"
   ]
  },
  {
   "cell_type": "code",
   "execution_count": null,
   "metadata": {},
   "outputs": [],
   "source": [
    "# 동일한 새채무자키 시효중단여부 : 시효가 ##########################################작성중 중단\n",
    "def set_extension_info(group):\n",
    "    if 'Y' in group['시효중단여부'].values:\n",
    "        group.loc[group['시효중단여부'] == '', '시효중단여부'] = 'Y'\n",
    "        extension_reason = group.loc[group['시효중단여부'] == 'Y', '시효연장사유'].values[0]\n",
    "        group['시효연장사유'] = extension_reason\n",
    "    return group\n",
    "\n",
    "account_limit_info = account_limit_info.groupby('새채무자키').apply(set_extension_info)\n"
   ]
  },
  {
   "cell_type": "code",
   "execution_count": null,
   "metadata": {},
   "outputs": [],
   "source": []
  },
  {
   "cell_type": "code",
   "execution_count": null,
   "metadata": {},
   "outputs": [],
   "source": []
  },
  {
   "attachments": {},
   "cell_type": "markdown",
   "metadata": {},
   "source": [
    "### 시효(법조치)"
   ]
  },
  {
   "cell_type": "code",
   "execution_count": 8,
   "metadata": {},
   "outputs": [],
   "source": [
    "wd = r\"C:\\Users\\SL\\Desktop\\자산정리test파일\"\n",
    "filename_event = \"법조치조회새창_20230522_2054.xlsx\"\n",
    "dtype_event = {\"채무자키\":str, \"계좌키\":str, \"법조치키\":str}\n",
    "today = datetime.today().strftime(\"%y%m%d\")"
   ]
  },
  {
   "cell_type": "code",
   "execution_count": 9,
   "metadata": {},
   "outputs": [
    {
     "name": "stderr",
     "output_type": "stream",
     "text": [
      "c:\\Users\\SL\\anaconda3\\lib\\site-packages\\openpyxl\\styles\\stylesheet.py:226: UserWarning: Workbook contains no default style, apply openpyxl's default\n",
      "  warn(\"Workbook contains no default style, apply openpyxl's default\")\n"
     ]
    }
   ],
   "source": [
    "# 파일 읽기/필요칼럼추리기/원본파일pkl과 필요컬럼xlsx 파일 저장하기\n",
    "df_event_ori = pd.read_excel(join(wd, filename_event), dtype=dtype_event)"
   ]
  },
  {
   "cell_type": "code",
   "execution_count": null,
   "metadata": {},
   "outputs": [],
   "source": [
    "df_event = pd.DataFrame(None, columns=[\"채무자키\", \"계좌키\", \"법조치키\", \"법조치구분\", \"법조치세부\", \"관할법원\", \"사건번호\", \"사건구분\", \"접수일\", \"확정일\", \"종료일\",\n",
    "    \"법조치상태\", \"종국결과\", \"청구금액법원\", \"청구금액\", \"관련법조치관할법원\", \"관련법조치사건번호\"])\n",
    "    ###################################################### 여기까지 하고 계좌시트 작업으로 넘어감\n",
    "df_event.채무자키 = df_event_ori.채무자키\n",
    "df_event.계좌키 = df_event_ori.계좌키\n",
    "df_event.신청일자 = df_event_ori.접수일\n",
    "df_event.법무구분 = df_event_ori.법조치구분\n",
    "df_event.관할법원 = df_event_ori.관할법원\n",
    "df_event.사건번호 = df_event_ori.사건번호.str.replace(\" \", \"\")\n",
    "df_event.사건구분 = df_event_ori.사건구분\n",
    "df_event.진행상태 = df_event_ori.종국결과\n",
    "df_event.청구금액법원 = df_event_ori.청구금액법원\n",
    "df_event.청구금액 = df_event_ori.청구금액\n",
    "print(len(df_event.index))\n",
    "\n",
    "####################\n",
    "# 중복제거전 저장\n",
    "df_event.to_pickle(join(wd, \"전처리완료\", \"전처리_법조치_중복미제거.pkl\"))\n",
    "#df_event.to_excel(join(wd, \"전처리완료\", \"전처리_법조치_중복미제거.xlsx\"), index=False)\n",
    "####################\n",
    "\n",
    "# 채무자키로 전 계좌 불러오기\n",
    "work_all_account = all_df[all_df.채무자키.isin(work_df.채무자키)].copy() # 객체 새로 만들지 않으면 계속 copywarning 나옴\n",
    "# 전 계좌 중 작업 계좌에 있거나, 종결된 계좌면 Y, 아니면 N(솔림 잔존계좌)\n",
    "cond = (work_all_account.계좌키.isin(work_df.계좌키)) | (work_all_account.종결일 != \"\")\n",
    "work_all_account[\"계좌작업대상여부\"] = np.where(cond, \"Y\", \"N\")\n",
    "\n",
    "# 채무자키별로 전계좌 여부 확인 후 파일 저장하기\n",
    "result = pd.DataFrame(None, columns=[\"채무자키\", \"전계좌여부\", \"채무상태\", \"담당자\", \"채무자명\"])\n",
    "temp = work_all_account.drop_duplicates('채무자키').copy()\n",
    "result[\"채무자키\"] = temp.채무자키.values\n",
    "result[\"채무상태\"] = temp.채무상태.values # 순서 조작만 하지 않으면 굳이 일치조건 하지 않아도 됨.\n",
    "result[\"담당자\"] = temp.담당자.values\n",
    "result[\"채무자명\"] = temp.채무자명.values\n",
    "\n",
    "\n",
    "# 작업대상여부의 유니크값이 1이면 모두 Y (모두 N인 경우는 논리적으로 불가능), 2면 작업계좌와 잔존계좌가 혼재한 것이므로 일부계좌\n",
    "g = work_all_account.groupby('채무자키') # 그룹화는 원본 df의 순서와 다를 수 있음!!!!!!!!\n",
    "for i, v in result.iterrows() : \n",
    "     if g.get_group(v.채무자키).계좌작업대상여부.nunique() == 1 :\n",
    "          result.loc[i, \"전계좌여부\"]=\"전계좌\"\n",
    "     else : result.loc[i, \"전계좌여부\"]=\"일부계좌\"\n",
    "\n",
    "# 저장하기\n",
    "result.to_excel(path_save, index=False)"
   ]
  },
  {
   "cell_type": "code",
   "execution_count": 169,
   "metadata": {},
   "outputs": [],
   "source": []
  },
  {
   "cell_type": "code",
   "execution_count": null,
   "metadata": {},
   "outputs": [],
   "source": []
  },
  {
   "cell_type": "code",
   "execution_count": 8,
   "metadata": {},
   "outputs": [],
   "source": []
  },
  {
   "cell_type": "code",
   "execution_count": 11,
   "metadata": {},
   "outputs": [],
   "source": []
  },
  {
   "cell_type": "code",
   "execution_count": 13,
   "metadata": {},
   "outputs": [],
   "source": []
  },
  {
   "cell_type": "code",
   "execution_count": null,
   "metadata": {},
   "outputs": [],
   "source": []
  }
 ],
 "metadata": {
  "kernelspec": {
   "display_name": "base",
   "language": "python",
   "name": "python3"
  },
  "language_info": {
   "codemirror_mode": {
    "name": "ipython",
    "version": 3
   },
   "file_extension": ".py",
   "mimetype": "text/x-python",
   "name": "python",
   "nbconvert_exporter": "python",
   "pygments_lexer": "ipython3",
   "version": "3.9.13"
  },
  "orig_nbformat": 4,
  "vscode": {
   "interpreter": {
    "hash": "38d617750889899e5f2f65cac6f27a322f361a63d334879a800ee5491961f90c"
   }
  }
 },
 "nbformat": 4,
 "nbformat_minor": 2
}
