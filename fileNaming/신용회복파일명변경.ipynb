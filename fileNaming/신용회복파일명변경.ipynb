{
 "cells": [
  {
   "cell_type": "markdown",
   "metadata": {},
   "source": [
    "### import"
   ]
  },
  {
   "cell_type": "code",
   "execution_count": 3,
   "metadata": {},
   "outputs": [],
   "source": [
    "import pandas as pd\n",
    "import numpy as np\n",
    "import re, os\n",
    "from os.path import join\n",
    "from tqdm import tqdm\n",
    "from file_function import read_filelist\n",
    "from openpyxl.utils.dataframe import dataframe_to_rows\n",
    "from openpyxl.styles import Font, PatternFill, Alignment, Border, Side\n",
    "from openpyxl import Workbook\n",
    "\n",
    "\n",
    "# dtype 정의\n",
    "debt_dtype = {'채무자키':str, '타채무자키':str, '담당자키':str}\n"
   ]
  },
  {
   "cell_type": "markdown",
   "metadata": {},
   "source": [
    "### 파일명 바꾸기\n",
    "- 채무조정안"
   ]
  },
  {
   "cell_type": "code",
   "execution_count": null,
   "metadata": {},
   "outputs": [],
   "source": [
    "# 고객식별번호로 저장된 스캔파일 읽기\n",
    "################################################\n",
    "path_pdf = r\"D:\\3.자산\\신용회복\\솔림\\1.신용회복\\2.스캔파일\\새 폴더\"\n",
    "docu = \"채무조정안\" # 신청인현황, 채무조정안, 원상회복내역\n",
    "기준일 = \"231004\" # - 엑셀파일에 실효일자이 없을 때는 지정\n",
    "# 업무파일/회신파일에서 다음을 칼럼으로 - 채무자키,고객명,고객식별번호,기준일    //////\n",
    "ref_df = pd.read_excel(r\"c://Users/SL/Desktop/통합 문서1.xlsx\", dtype=str) \n",
    "################################################\n",
    "filelist = read_filelist(path_pdf)\n",
    "\n",
    "# 채무자키 정렬\n",
    "ref_df.sort_values(['채무자키'], inplace=True)\n",
    "\n",
    "# # 고객식별번호 중복제거 - 대표 채무자키에만 등록할 때 : 어차피 스캔파일을 순회하기 때문에 대표채무자키에만 등록되게 된다.\n",
    "# ref_df.drop_duplicates(subset=['고객식별번호'], inplace=True, ignore_index=True)"
   ]
  },
  {
   "cell_type": "code",
   "execution_count": null,
   "metadata": {},
   "outputs": [],
   "source": [
    "# 파일명 변경\n",
    "for f in filelist : \n",
    "    stem, ext = os.path.splitext(f)\n",
    "    temp = ref_df.query(\"고객식별번호==@stem\")\n",
    "    if \"기준일\" in temp.columns : \n",
    "        new_name = temp.채무자키.values[0] + \"_\" + temp.고객명.values[0] + \"_\" + docu +\"_\" + temp.기준일.values[0] + ext\n",
    "    else : \n",
    "        new_name = temp.채무자키.values[0] + \"_\" + temp.고객명.values[0] + \"_\" + docu +\"_\" + 기준일 + ext\n",
    "    os.rename(join(path_pdf, f), join(path_pdf, new_name))"
   ]
  }
 ],
 "metadata": {
  "kernelspec": {
   "display_name": "base",
   "language": "python",
   "name": "python3"
  },
  "language_info": {
   "codemirror_mode": {
    "name": "ipython",
    "version": 3
   },
   "file_extension": ".py",
   "mimetype": "text/x-python",
   "name": "python",
   "nbconvert_exporter": "python",
   "pygments_lexer": "ipython3",
   "version": "3.9.18"
  },
  "orig_nbformat": 4
 },
 "nbformat": 4,
 "nbformat_minor": 2
}
