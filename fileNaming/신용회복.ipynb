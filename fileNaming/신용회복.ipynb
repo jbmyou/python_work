{
 "cells": [
  {
   "cell_type": "markdown",
   "metadata": {},
   "source": [
    "### import"
   ]
  },
  {
   "cell_type": "code",
   "execution_count": 1,
   "metadata": {},
   "outputs": [],
   "source": [
    "import pandas as pd\n",
    "import numpy as np\n",
    "import re, os\n",
    "from os.path import join\n",
    "from tqdm import tqdm\n",
    "from file_function import read_filelist\n",
    "\n",
    "# dtype 정의\n",
    "debt_dtype = {'채무자키':str, '타채무자키':str, '담당자키':str}\n",
    "account_dtype = {'채무자키':str, '계좌키':str, '타채무자키':str}\n",
    "grt_dtype = {'채무자키':str, '계좌키':str, '타채무자키':str, '보증인키':str}\n",
    "rehabilitation_dtype = {'채무자키':str, '계좌키':str, '분납키':str, '사건키':str}\n",
    "credit_dtype = {'채무자키':str, '계좌키':str, '보증인키':str, '심의차수':str, '변제금\\n수취계좌':str, '상환후잔액':int}\n",
    "event_dtype = {'채무자키':str, '계좌키':str, '법조치키':str, '관할법원코드':str, '타채무자키':str,'타법조치키':str}"
   ]
  },
  {
   "cell_type": "markdown",
   "metadata": {},
   "source": [
    "### 파일명 바꾸기\n",
    "- 채무조정안"
   ]
  },
  {
   "cell_type": "code",
   "execution_count": 7,
   "metadata": {},
   "outputs": [],
   "source": [
    "# 주민번호로 저장된 스캔파일 읽기\n",
    "################################################\n",
    "path_pdf = r\"D:\\3.자산\\신용회복\\솔림\\1.신용회복\\2.스캔파일\\새 폴더\"\n",
    "docu = \"원상회복내역\"\n",
    "# 통지일 = \"230918\" - 엑셀파일에 통지일이 없을 때는 지정\n",
    "################################################\n",
    "filelist = read_filelist(path_pdf)\n",
    "\n",
    "# 업무파일/회신파일에서 [채무자키, 이름, 주민번호, /통지일/]만 가져온 엑셀파일\n",
    "ref_df = pd.read_excel(r\"c://Users/SL/Desktop/통합 문서1.xlsx\", dtype=str)\n",
    "# 채무자키 정렬\n",
    "ref_df.sort_values(['채무자키'], inplace=True)\n",
    "\n",
    "# # 주민번호 중복제거 - 대표 채무자키에만 등록할 때\n",
    "# ref_df.drop_duplicates(subset=['주민번호'], inplace=True, ignore_index=True)"
   ]
  },
  {
   "cell_type": "code",
   "execution_count": 8,
   "metadata": {},
   "outputs": [],
   "source": [
    "# 파일명 변경\n",
    "for f in filelist : \n",
    "    stem, ext = os.path.splitext(f)\n",
    "    temp = ref_df.query(\"주민번호==@stem\")\n",
    "    new_name = temp.채무자키.values[0] + \"_\" + temp.이름.values[0] + \"_\" + docu +\"_\" + temp.통지일.values[0] + ext\n",
    "    os.rename(join(path_pdf, f), join(path_pdf, new_name))"
   ]
  },
  {
   "cell_type": "code",
   "execution_count": 10,
   "metadata": {},
   "outputs": [],
   "source": []
  },
  {
   "cell_type": "code",
   "execution_count": 28,
   "metadata": {},
   "outputs": [],
   "source": []
  }
 ],
 "metadata": {
  "kernelspec": {
   "display_name": "base",
   "language": "python",
   "name": "python3"
  },
  "language_info": {
   "codemirror_mode": {
    "name": "ipython",
    "version": 3
   },
   "file_extension": ".py",
   "mimetype": "text/x-python",
   "name": "python",
   "nbconvert_exporter": "python",
   "pygments_lexer": "ipython3",
   "version": "3.9.13"
  },
  "orig_nbformat": 4
 },
 "nbformat": 4,
 "nbformat_minor": 2
}
