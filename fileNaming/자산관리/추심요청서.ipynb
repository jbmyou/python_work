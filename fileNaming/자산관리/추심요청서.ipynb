{
 "cells": [
  {
   "cell_type": "markdown",
   "metadata": {},
   "source": [
    "### import"
   ]
  },
  {
   "cell_type": "code",
   "execution_count": 1,
   "metadata": {},
   "outputs": [],
   "source": [
    "import os, re, pickle, sys, shutil\n",
    "import pandas as pd\n",
    "import numpy as np\n",
    "from tqdm import tqdm\n",
    "from os.path import join\n",
    "from openpyxl import Workbook\n",
    "from openpyxl import load_workbook\n",
    "from openpyxl.styles import NamedStyle, Font, Border, Side\n",
    "from openpyxl.utils.dataframe import dataframe_to_rows\n",
    "sys.path.append(r'../자산정리')\n",
    "import functions"
   ]
  },
  {
   "cell_type": "code",
   "execution_count": 178,
   "metadata": {},
   "outputs": [
    {
     "name": "stdout",
     "output_type": "stream",
     "text": [
      "최신화결과화면\n",
      "Y    2883\n",
      "Name: count, dtype: int64\n",
      "종국결과\n",
      "인용    2882\n",
      "해제       1\n",
      "Name: count, dtype: int64\n"
     ]
    }
   ],
   "source": [
    "# 파일읽기\n",
    "#############################################\n",
    "wd=r\"C:\\Users\\DATA\\Desktop\\압류추심요청서_2412\"\n",
    "fn_최신화결과 = \"압류사건_최신화결과.xlsx\"\n",
    "company = \"솔림\"\n",
    "cutoff = \"241130\" # 최근 전산조회\n",
    "path_dataset = join(r\"D:\\3.자산\\전산 dataset\", company, cutoff, \"pkl\")\n",
    "#############################################\n",
    "당사명 = r'헬프|솔림' if company==\"솔림\" else \"대성인베스트\"\n",
    "df_ori = pd.read_excel(join(wd, fn_최신화결과), dtype='str')\n",
    "print(df_ori.최신화결과화면.value_counts())\n",
    "print(df_ori.종국결과.value_counts())\n",
    "\n",
    "    # 채무자, 보증인\n",
    "path_debt = functions.키워드로파일명찾기(path_dataset, \"채무자조회\")\n",
    "path_grt = functions.키워드로파일명찾기(path_dataset, \"보증인새창.*새보증인상태\") # 새보증인상태 : 시효, 불가는 추심 cf) 면책, 종료 # 새보증인상태는 종료면책불가인데 실제로는 조정인 경우만 체크됐음\n",
    "\n",
    "debt_ori = pd.read_pickle(path_debt)\n",
    "grt_ori = pd.read_pickle(path_grt)"
   ]
  },
  {
   "cell_type": "code",
   "execution_count": 183,
   "metadata": {},
   "outputs": [
    {
     "name": "stdout",
     "output_type": "stream",
     "text": [
      "2883\n",
      "2883\n",
      "병합전 df: 2882\n",
      "병합후 df: 2882\n",
      "병합(매칭)실패건 : 17\n"
     ]
    }
   ],
   "source": [
    "# 재시작점\n",
    "필요칼럼 = [\"관할법원\",\"사건번호\",\"채권자목록\",\"당사자\",\"사건명\",\"종국결과일\",\"종국결과\",\"최신화결과화면\",\"사건키\",\"일반내용\",\"진행내용\",\"채무자키\"]\n",
    "\n",
    "debt = debt_ori[[\"채무자키\",\"성명\",\"주민번호인\",\"채무상태\",\"담당자\",\"변경전성명인\"]].rename(columns={\"채무상태\":\"상태\",\"주민번호인\":\"주민번호\",\"성명\":\"당사자\"})\n",
    "grt = grt_ori[[\"채무자키\",\"보증인키\",\"보증인성명인\",\"주민번호인\",\"보증인상태\",\"담당자\"]].rename(columns={\"보증인성명인\":\"당사자\",\"보증인상태\":\"상태\",\"주민번호인\":\"주민번호\"})\n",
    "df = df_ori[필요칼럼].copy()\n",
    "\n",
    "# 채무자와 보증인 합치기, 주민번호식별처리, 상태값\n",
    "채무자 = pd.concat([debt,grt], axis=0) # 행으로 연결\n",
    "    # 채무자키와 주민번호를 조합하여 채무자키별로 고유한 사람만 남기기\n",
    "채무자 = 채무자.drop_duplicates([\"채무자키\",\"주민번호\"], keep='first')\n",
    "채무자[\"주민번호\"] = 채무자[\"주민번호\"].apply(lambda x : x[:8]+\"*\"*len(x[8:]))\n",
    "\n",
    "# 전처리\n",
    "    # 중복사건 제거\n",
    "print(len(df))\n",
    "df = df.drop_duplicates(subset=[\"관할법원\",\"사건번호\",\"당사자\"],keep='first')\n",
    "print(len(df))\n",
    "    # 최신화 실패건, 종국결과 인용(~'해제'포함) 제거\n",
    "df = df.query('최신화결과화면==\"Y\" and 종국결과==\"인용\"')\n",
    "    # 사건명에서 \"[전자] \" 제거\n",
    "df[\"사건명\"] = df[\"사건명\"].str.replace(r\"\\[전자\\] \",\"\", regex=True)\n",
    "    # 당사여부 표시\n",
    "df[\"당사건여부\"] = df[\"채권자목록\"].str.contains(당사명)\n",
    "\n",
    "# 병합 : 주민번호, 상태, 담당자\n",
    "print(\"병합전 df:\",len(df))\n",
    "rst = df.merge(채무자[[\"채무자키\",\"보증인키\",\"당사자\",\"주민번호\",\"상태\",\"담당자\"]], on=[\"채무자키\",\"당사자\"], how='left') # 주민번호인,상태,담당자 생성 / 변경전성명인은 미병함\n",
    "print(\"병합후 df:\",len(rst))\n",
    "\n",
    "# 병합실패건 변경전성명인에서 한번 더 확인해보았으나 매칭 되는 거 없네. 출력용 파일에서 직접 수정(최신화결과 파일에서 수정해봐야 여기선 ==를 사용하기 때문에 또다시 매칭 안 될 거다.)\n",
    "print('병합(매칭)실패건 :', len(rst.loc[rst.주민번호.isna()]))"
   ]
  },
  {
   "cell_type": "code",
   "execution_count": 184,
   "metadata": {},
   "outputs": [
    {
     "name": "stderr",
     "output_type": "stream",
     "text": [
      "100%|██████████| 2882/2882 [00:01<00:00, 1855.24it/s]\n"
     ]
    },
    {
     "name": "stdout",
     "output_type": "stream",
     "text": [
      "확장 후 : 8845\n"
     ]
    }
   ],
   "source": [
    "# 제3채무자로 행분열\n",
    "\n",
    "    # 정규식 패턴 정의\n",
    "pattern = r\"제3채무자\\d{1,2}\\s?(.*?)에게\"\n",
    "\n",
    "    # 문자열 추출 및 새로운 데이터프레임 생성\n",
    "rst[\"제3채무자_추출\"] = rst[\"진행내용\"].apply(\n",
    "    lambda x: list(set(re.findall(pattern, x))) if re.findall(pattern, x) else [\"진행내용 조회실패\"])\n",
    "\n",
    "    # 기존 행을 반복하면서 제3채무자 정보를 새 행으로 분리\n",
    "expanded_rows = []\n",
    "for idx, row in tqdm(rst.iterrows(), total=len(rst)):\n",
    "    extracted_values = row[\"제3채무자_추출\"]\n",
    "    \n",
    "    for i, value in enumerate(extracted_values):\n",
    "        new_row = row.copy()  # 기존 행 복사\n",
    "        new_row[\"제3채무자\"] = value  # 새로운 \"제3채무자\" 열에 값 추가\n",
    "        expanded_rows.append(new_row)\n",
    "\n",
    "    # 새로운 데이터프레임 생성\n",
    "expanded_df = pd.DataFrame(expanded_rows).drop(columns=[\"제3채무자_추출\"])\n",
    "print('확장 후 :',len(expanded_df))"
   ]
  },
  {
   "cell_type": "code",
   "execution_count": 185,
   "metadata": {},
   "outputs": [
    {
     "name": "stdout",
     "output_type": "stream",
     "text": [
      "당사 3981건, 타사 4864건, 엑셀파일 출력\n"
     ]
    }
   ],
   "source": [
    "# 후처리 후 출력\n",
    "    # 제3채무자별로 정렬\n",
    "expanded_df = expanded_df.sort_values(by=[\"제3채무자\",\"관할법원\",\"사건번호\",\"채무자키\",\"당사자\"])\n",
    "    # 당사건 분리\n",
    "당사건 = expanded_df[expanded_df.당사건여부].copy()\n",
    "타사건 = expanded_df[~expanded_df.당사건여부].copy()\n",
    "\n",
    "# 순번열 추가\n",
    "당사건[\"순번\"] = range(1,len(당사건)+1)\n",
    "타사건[\"순번\"] = range(1,len(타사건)+1)\n",
    "\n",
    "# 출력\n",
    "    # 출력칼럼\n",
    "cols_output = [\"순번\",\"채무자키\",\"보증인키\",\"상태\",\"담당자\",\"채권자목록\", \"당사자\", \"주민번호\", \"관할법원\", \"사건번호\", \"종국결과일\", \"제3채무자\"]\n",
    "    # 출력\n",
    "print(f'당사 {len(당사건)}건, 타사 {len(타사건)}건, 엑셀파일 출력')\n",
    "functions.save_df_to_excel_underline(당사건[cols_output], join(wd, \"제3채무자별_압류사건_당사_1209.xlsx\"), key_columns_no=0)\n",
    "functions.save_df_to_excel_underline(타사건[cols_output], join(wd, \"제3채무자별_압류사건_타사_1209.xlsx\"), key_columns_no=0)"
   ]
  },
  {
   "cell_type": "markdown",
   "metadata": {},
   "source": [
    "### 결정문 파일 경로 확보"
   ]
  },
  {
   "cell_type": "code",
   "execution_count": 31,
   "metadata": {},
   "outputs": [],
   "source": [
    "# 파일읽기\n",
    "#############################################\n",
    "wd=r\"C:\\Users\\DATA\\Desktop\\압류추심요청서_2412\"\n",
    "fn = \"제3채무자별_압류사건_당사_1209.xlsx\"\n",
    "sheet_name = '발송_기타'\n",
    "#############################################\n",
    "df_ori = pd.read_excel(join(wd, fn), sheet_name=sheet_name, dtype='str')"
   ]
  },
  {
   "cell_type": "markdown",
   "metadata": {},
   "source": [
    "#### 재시작"
   ]
  },
  {
   "cell_type": "code",
   "execution_count": 32,
   "metadata": {},
   "outputs": [],
   "source": [
    "df1 = df_ori.copy()\n",
    "df1 = df1.drop_duplicates([\"채무자키\",\"사건번호\"])"
   ]
  },
  {
   "cell_type": "code",
   "execution_count": 33,
   "metadata": {},
   "outputs": [],
   "source": [
    "# 파일경로 읽기\n",
    "#####################################\n",
    "src_dir = r\"C:\\Users\\DATA\\Desktop\\압류추심요청서_2412\\4.강제집행\"\n",
    "#####################################\n",
    "event = re.compile('\\d{2,4}타채\\d{0,10}')\n",
    "\n",
    "file_list = []\n",
    "for r, d, files in os.walk(src_dir) : \n",
    "    for f in files : \n",
    "        사건번호검색결과 = event.search(f)\n",
    "        if f.startswith('2') and 사건번호검색결과 : \n",
    "            file_list.append([f[:8], 사건번호검색결과[0], join(r,f)]) # 채무자키, 사건번호, 파일명\n",
    "\n",
    "파일경로 = pd.DataFrame(file_list, columns=[\"채무자키\",\"사건번호\",\"파일경로\"])"
   ]
  },
  {
   "cell_type": "code",
   "execution_count": 34,
   "metadata": {},
   "outputs": [],
   "source": [
    "# 파일경로 중복값제거\n",
    "파일경로 = 파일경로.drop_duplicates(subset=[\"채무자키\",\"사건번호\"])"
   ]
  },
  {
   "cell_type": "code",
   "execution_count": 35,
   "metadata": {},
   "outputs": [
    {
     "name": "stdout",
     "output_type": "stream",
     "text": [
      "병합전 909\n",
      "병합후 909\n"
     ]
    }
   ],
   "source": [
    "print(\"병합전\", len(df1))\n",
    "경로병합 = df1[[\"순서\",\"채무자키\",\"당사자\",\"사건번호\",\"제3채무자\"]].merge(파일경로, on=[\"채무자키\",\"사건번호\"], how='left')\n",
    "print(\"병합후\", len(경로병합))"
   ]
  },
  {
   "cell_type": "code",
   "execution_count": 36,
   "metadata": {},
   "outputs": [
    {
     "data": {
      "text/html": [
       "<div>\n",
       "<style scoped>\n",
       "    .dataframe tbody tr th:only-of-type {\n",
       "        vertical-align: middle;\n",
       "    }\n",
       "\n",
       "    .dataframe tbody tr th {\n",
       "        vertical-align: top;\n",
       "    }\n",
       "\n",
       "    .dataframe thead th {\n",
       "        text-align: right;\n",
       "    }\n",
       "</style>\n",
       "<table border=\"1\" class=\"dataframe\">\n",
       "  <thead>\n",
       "    <tr style=\"text-align: right;\">\n",
       "      <th></th>\n",
       "      <th>순서</th>\n",
       "      <th>채무자키</th>\n",
       "      <th>당사자</th>\n",
       "      <th>사건번호</th>\n",
       "      <th>제3채무자</th>\n",
       "      <th>파일경로</th>\n",
       "    </tr>\n",
       "  </thead>\n",
       "  <tbody>\n",
       "  </tbody>\n",
       "</table>\n",
       "</div>"
      ],
      "text/plain": [
       "Empty DataFrame\n",
       "Columns: [순서, 채무자키, 당사자, 사건번호, 제3채무자, 파일경로]\n",
       "Index: []"
      ]
     },
     "execution_count": 36,
     "metadata": {},
     "output_type": "execute_result"
    }
   ],
   "source": [
    "경로병합[경로병합.파일경로.isna()]"
   ]
  },
  {
   "cell_type": "markdown",
   "metadata": {},
   "source": [
    "#### case1) 파일 없는 경우 실행"
   ]
  },
  {
   "cell_type": "code",
   "execution_count": 16,
   "metadata": {},
   "outputs": [
    {
     "name": "stdout",
     "output_type": "stream",
     "text": [
      "43\n",
      "20411378 김영철 2019타채32464\n"
     ]
    }
   ],
   "source": [
    "dst_dir = join(src_dir, \"부분파일명\")\n",
    "if not os.path.exists(dst_dir) :\n",
    "    os.mkdir(dst_dir)\n",
    "print(len(경로병합[경로병합.파일경로.isna()]))\n",
    "\n",
    "for i, v in 경로병합[경로병합.파일경로.isna()].iterrows() : \n",
    "    검색폴더 = join(src_dir, v.채무자키)\n",
    "    try :\n",
    "        files = os.listdir(검색폴더)\n",
    "    except :\n",
    "        print(v.채무자키, v.당사자, v.사건번호)\n",
    "        continue\n",
    "    for f in files : \n",
    "        부분일치검색결과 = re.search(v.사건번호[:6], f) # 연도까지만 \n",
    "        if re.search(v.당사자, f) and 부분일치검색결과 :\n",
    "            fn_new = v.채무자키 + \" \" + v.당사자 + \" \" + v.사건번호 + \".pdf\"\n",
    "            dst_dir_2 = join(dst_dir, v.채무자키) \n",
    "            \n",
    "            if not os.path.exists(dst_dir_2) :\n",
    "                os.mkdir(dst_dir_2)\n",
    "            shutil.copy2(join(검색폴더,f), join(dst_dir_2,fn_new))"
   ]
  },
  {
   "cell_type": "markdown",
   "metadata": {},
   "source": [
    "#### case2) 파일 없는 거 실행 후에도 없는 건 수작업으로"
   ]
  },
  {
   "cell_type": "code",
   "execution_count": 38,
   "metadata": {},
   "outputs": [],
   "source": [
    "경로병합[경로병합.파일경로.isna()].to_excel(join(src_dir,\"사건번호불명.xlsx\"), index=False)"
   ]
  },
  {
   "cell_type": "markdown",
   "metadata": {},
   "source": [
    "#### case3) 파일경로 빈값 없으면"
   ]
  },
  {
   "cell_type": "code",
   "execution_count": 37,
   "metadata": {},
   "outputs": [
    {
     "name": "stdout",
     "output_type": "stream",
     "text": [
      "2143\n",
      "2143\n"
     ]
    }
   ],
   "source": [
    "# df1에 경로병합\n",
    "print(len(df_ori))\n",
    "df_ori_경로병합 = df_ori.merge(경로병합[[\"채무자키\",\"사건번호\",\"파일경로\"]], on=[\"채무자키\",\"사건번호\"], how='left')\n",
    "print(len(df_ori_경로병합))"
   ]
  },
  {
   "cell_type": "code",
   "execution_count": 38,
   "metadata": {},
   "outputs": [
    {
     "data": {
      "text/html": [
       "<div>\n",
       "<style scoped>\n",
       "    .dataframe tbody tr th:only-of-type {\n",
       "        vertical-align: middle;\n",
       "    }\n",
       "\n",
       "    .dataframe tbody tr th {\n",
       "        vertical-align: top;\n",
       "    }\n",
       "\n",
       "    .dataframe thead th {\n",
       "        text-align: right;\n",
       "    }\n",
       "</style>\n",
       "<table border=\"1\" class=\"dataframe\">\n",
       "  <thead>\n",
       "    <tr style=\"text-align: right;\">\n",
       "      <th></th>\n",
       "      <th>순서</th>\n",
       "      <th>채무자키</th>\n",
       "      <th>보증인키</th>\n",
       "      <th>상태</th>\n",
       "      <th>담당자</th>\n",
       "      <th>채권자목록</th>\n",
       "      <th>당사자</th>\n",
       "      <th>주민번호</th>\n",
       "      <th>관할법원</th>\n",
       "      <th>사건번호</th>\n",
       "      <th>종국결과일</th>\n",
       "      <th>제3채무자</th>\n",
       "      <th>공백제거</th>\n",
       "      <th>빈도수</th>\n",
       "      <th>파일경로</th>\n",
       "    </tr>\n",
       "  </thead>\n",
       "  <tbody>\n",
       "    <tr>\n",
       "      <th>0</th>\n",
       "      <td>0001</td>\n",
       "      <td>20413663</td>\n",
       "      <td>NaN</td>\n",
       "      <td>정상</td>\n",
       "      <td>김효중</td>\n",
       "      <td>1.주식회사헬프자산관리대부대표이사정호석\\n채무자\\n\\n2020.07.09\\n1.대한...</td>\n",
       "      <td>가순경</td>\n",
       "      <td>570906-2******</td>\n",
       "      <td>대전지방법원 천안지원</td>\n",
       "      <td>2020타채105653</td>\n",
       "      <td>2020-05-26</td>\n",
       "      <td>대한민국 - 우정사업본부</td>\n",
       "      <td>대한민국-우정사업본부</td>\n",
       "      <td>375</td>\n",
       "      <td>C:\\Users\\DATA\\Desktop\\압류추심요청서_2412\\4.강제집행\\2041...</td>\n",
       "    </tr>\n",
       "    <tr>\n",
       "      <th>1</th>\n",
       "      <td>0002</td>\n",
       "      <td>20417082</td>\n",
       "      <td>NaN</td>\n",
       "      <td>정상</td>\n",
       "      <td>박민재</td>\n",
       "      <td>1.주식회사헬프자산관리대부대표자사내이사정호석\\n채무자\\n\\n2019.11.13\\n2...</td>\n",
       "      <td>감문익</td>\n",
       "      <td>660205-2******</td>\n",
       "      <td>울산지방법원</td>\n",
       "      <td>2019타채112982</td>\n",
       "      <td>2019-11-08</td>\n",
       "      <td>대한민국 - 우정사업본부</td>\n",
       "      <td>대한민국-우정사업본부</td>\n",
       "      <td>375</td>\n",
       "      <td>C:\\Users\\DATA\\Desktop\\압류추심요청서_2412\\4.강제집행\\2041...</td>\n",
       "    </tr>\n",
       "    <tr>\n",
       "      <th>2</th>\n",
       "      <td>0003</td>\n",
       "      <td>20411375</td>\n",
       "      <td>200186026</td>\n",
       "      <td>정상</td>\n",
       "      <td>박민재</td>\n",
       "      <td>1.주식회사헬프자산관리대부대표이사정호석\\n채무자\\n\\n2018.11.12\\n2.대한...</td>\n",
       "      <td>강건철</td>\n",
       "      <td>581112-1******</td>\n",
       "      <td>평택지원</td>\n",
       "      <td>2018타채45776</td>\n",
       "      <td>2018-11-08</td>\n",
       "      <td>대한민국 - 우정사업본부</td>\n",
       "      <td>대한민국-우정사업본부</td>\n",
       "      <td>375</td>\n",
       "      <td>C:\\Users\\DATA\\Desktop\\압류추심요청서_2412\\4.강제집행\\2041...</td>\n",
       "    </tr>\n",
       "    <tr>\n",
       "      <th>3</th>\n",
       "      <td>0004</td>\n",
       "      <td>20411324</td>\n",
       "      <td>NaN</td>\n",
       "      <td>정상</td>\n",
       "      <td>도현관</td>\n",
       "      <td>1.주식회사헬프자산관리대부대표이사정호석\\n채무자\\n\\n2019.06.21\\n2.대한...</td>\n",
       "      <td>강미자</td>\n",
       "      <td>550823-2******</td>\n",
       "      <td>부산지방법원 동부지원</td>\n",
       "      <td>2019타채105323</td>\n",
       "      <td>2019-06-17</td>\n",
       "      <td>대한민국 - 우정사업본부</td>\n",
       "      <td>대한민국-우정사업본부</td>\n",
       "      <td>375</td>\n",
       "      <td>C:\\Users\\DATA\\Desktop\\압류추심요청서_2412\\4.강제집행\\2041...</td>\n",
       "    </tr>\n",
       "    <tr>\n",
       "      <th>4</th>\n",
       "      <td>0005</td>\n",
       "      <td>20423252</td>\n",
       "      <td>NaN</td>\n",
       "      <td>정상</td>\n",
       "      <td>조준일</td>\n",
       "      <td>1.주식회사솔림헬프자산관리대부대표이사정호석\\n채무자\\n\\n2021.11.16\\n2....</td>\n",
       "      <td>강성대</td>\n",
       "      <td>651130-1******</td>\n",
       "      <td>울산지방법원</td>\n",
       "      <td>2021타채124512</td>\n",
       "      <td>2021-11-11</td>\n",
       "      <td>대한민국 - 우정사업본부</td>\n",
       "      <td>대한민국-우정사업본부</td>\n",
       "      <td>375</td>\n",
       "      <td>C:\\Users\\DATA\\Desktop\\압류추심요청서_2412\\4.강제집행\\2042...</td>\n",
       "    </tr>\n",
       "  </tbody>\n",
       "</table>\n",
       "</div>"
      ],
      "text/plain": [
       "     순서      채무자키       보증인키  상태  담당자  \\\n",
       "0  0001  20413663        NaN  정상  김효중   \n",
       "1  0002  20417082        NaN  정상  박민재   \n",
       "2  0003  20411375  200186026  정상  박민재   \n",
       "3  0004  20411324        NaN  정상  도현관   \n",
       "4  0005  20423252        NaN  정상  조준일   \n",
       "\n",
       "                                               채권자목록  당사자            주민번호  \\\n",
       "0  1.주식회사헬프자산관리대부대표이사정호석\\n채무자\\n\\n2020.07.09\\n1.대한...  가순경  570906-2******   \n",
       "1  1.주식회사헬프자산관리대부대표자사내이사정호석\\n채무자\\n\\n2019.11.13\\n2...  감문익  660205-2******   \n",
       "2  1.주식회사헬프자산관리대부대표이사정호석\\n채무자\\n\\n2018.11.12\\n2.대한...  강건철  581112-1******   \n",
       "3  1.주식회사헬프자산관리대부대표이사정호석\\n채무자\\n\\n2019.06.21\\n2.대한...  강미자  550823-2******   \n",
       "4  1.주식회사솔림헬프자산관리대부대표이사정호석\\n채무자\\n\\n2021.11.16\\n2....  강성대  651130-1******   \n",
       "\n",
       "          관할법원          사건번호       종국결과일          제3채무자         공백제거  빈도수  \\\n",
       "0  대전지방법원 천안지원  2020타채105653  2020-05-26  대한민국 - 우정사업본부  대한민국-우정사업본부  375   \n",
       "1       울산지방법원  2019타채112982  2019-11-08  대한민국 - 우정사업본부  대한민국-우정사업본부  375   \n",
       "2         평택지원   2018타채45776  2018-11-08  대한민국 - 우정사업본부  대한민국-우정사업본부  375   \n",
       "3  부산지방법원 동부지원  2019타채105323  2019-06-17  대한민국 - 우정사업본부  대한민국-우정사업본부  375   \n",
       "4       울산지방법원  2021타채124512  2021-11-11  대한민국 - 우정사업본부  대한민국-우정사업본부  375   \n",
       "\n",
       "                                                파일경로  \n",
       "0  C:\\Users\\DATA\\Desktop\\압류추심요청서_2412\\4.강제집행\\2041...  \n",
       "1  C:\\Users\\DATA\\Desktop\\압류추심요청서_2412\\4.강제집행\\2041...  \n",
       "2  C:\\Users\\DATA\\Desktop\\압류추심요청서_2412\\4.강제집행\\2041...  \n",
       "3  C:\\Users\\DATA\\Desktop\\압류추심요청서_2412\\4.강제집행\\2041...  \n",
       "4  C:\\Users\\DATA\\Desktop\\압류추심요청서_2412\\4.강제집행\\2042...  "
      ]
     },
     "execution_count": 38,
     "metadata": {},
     "output_type": "execute_result"
    }
   ],
   "source": [
    "df_ori_경로병합.head()"
   ]
  },
  {
   "cell_type": "code",
   "execution_count": 39,
   "metadata": {},
   "outputs": [
    {
     "data": {
      "text/plain": [
       "0       0001\n",
       "1       0002\n",
       "2       0003\n",
       "3       0004\n",
       "4       0005\n",
       "        ... \n",
       "2138    2139\n",
       "2139    2140\n",
       "2140    2141\n",
       "2141    2142\n",
       "2142    2143\n",
       "Name: 순서, Length: 2143, dtype: object"
      ]
     },
     "execution_count": 39,
     "metadata": {},
     "output_type": "execute_result"
    }
   ],
   "source": [
    "df_ori_경로병합.순서"
   ]
  },
  {
   "cell_type": "code",
   "execution_count": 40,
   "metadata": {},
   "outputs": [
    {
     "name": "stderr",
     "output_type": "stream",
     "text": [
      "100%|██████████| 2143/2143 [00:04<00:00, 474.38it/s]\n"
     ]
    }
   ],
   "source": [
    "# df1 순서에 맞추어 파일복사\n",
    "dst_base = r\"C:\\Users\\DATA\\Desktop\\압류추심요청서_2412\\결정문\\241216_기타금융\"\n",
    "for i, v in tqdm(df_ori_경로병합.iterrows(), total=len(df_ori_경로병합)) :\n",
    "    src = v.파일경로\n",
    "    dst_dir = dst_base # join(dst_base, v.제3채무자)\n",
    "    if not os.path.exists(dst_dir) : \n",
    "        os.mkdir(dst_dir)\n",
    "    \n",
    "    dst_fn = v.순서 + \" \" + v.당사자 + \" \" + v.사건번호 + \".pdf\" # 순서 때문에 중복값은 없음\n",
    "    # 파일 복사\n",
    "    shutil.copy(src, join(dst_dir,dst_fn))"
   ]
  },
  {
   "cell_type": "markdown",
   "metadata": {},
   "source": [
    "### 결정문 인쇄"
   ]
  },
  {
   "cell_type": "code",
   "execution_count": null,
   "metadata": {},
   "outputs": [
    {
     "name": "stdout",
     "output_type": "stream",
     "text": [
      "사용 중인 기본 프린터: iR-ADV 4725\n",
      "인쇄 요청 중: 0821 서수곤 2021타채103288.pdf\n",
      "0821 서수곤 2021타채103288.pdf 인쇄 요청 성공\n",
      "인쇄 요청 중: 0822 서진호 2021타채108476.pdf\n",
      "0822 서진호 2021타채108476.pdf 인쇄 요청 성공\n",
      "인쇄 요청 중: 0823 안준섭 2019타채105710.pdf\n",
      "0823 안준섭 2019타채105710.pdf 인쇄 요청 성공\n",
      "인쇄 요청 중: 0824 김영남 2019타채113043.pdf\n",
      "0824 김영남 2019타채113043.pdf 인쇄 요청 성공\n",
      "인쇄 요청 중: 0825 신영섭 2019타채116710.pdf\n",
      "0825 신영섭 2019타채116710.pdf 인쇄 요청 성공\n",
      "인쇄 요청 중: 0826 피혁진 2020타채123826.pdf\n",
      "0826 피혁진 2020타채123826.pdf 인쇄 요청 성공\n",
      "인쇄 요청 중: 0827 박영태 2021타채103946.pdf\n",
      "0827 박영태 2021타채103946.pdf 인쇄 요청 성공\n",
      "인쇄 요청 중: 0828 변혜정 2021타채127097.pdf\n",
      "0828 변혜정 2021타채127097.pdf 인쇄 요청 성공\n",
      "인쇄 요청 중: 0829 최수아 2020타채50819.pdf\n",
      "0829 최수아 2020타채50819.pdf 인쇄 요청 성공\n",
      "인쇄 요청 중: 0830 강지선 2020타채63087.pdf\n",
      "0830 강지선 2020타채63087.pdf 인쇄 요청 성공\n",
      "인쇄 요청 중: 0831 정원철 2021타채69226.pdf\n",
      "0831 정원철 2021타채69226.pdf 인쇄 요청 성공\n",
      "인쇄 요청 중: 0832 최병호 2021타채74718.pdf\n",
      "0832 최병호 2021타채74718.pdf 인쇄 요청 성공\n",
      "인쇄 요청 중: 0833 유성준 2021타채74740.pdf\n",
      "0833 유성준 2021타채74740.pdf 인쇄 요청 성공\n",
      "인쇄 요청 중: 0834 황요하 2020타채103486.pdf\n",
      "0834 황요하 2020타채103486.pdf 인쇄 요청 성공\n",
      "인쇄 요청 중: 0835 지용자 2020타채120905.pdf\n",
      "0835 지용자 2020타채120905.pdf 인쇄 요청 성공\n",
      "인쇄 요청 중: 0836 김성진 2020타채128427.pdf\n",
      "0836 김성진 2020타채128427.pdf 인쇄 요청 성공\n",
      "인쇄 요청 중: 0837 김소현 2021타채116684.pdf\n",
      "0837 김소현 2021타채116684.pdf 인쇄 요청 성공\n",
      "인쇄 요청 중: 0838 이나래 2021타채119955.pdf\n",
      "0838 이나래 2021타채119955.pdf 인쇄 요청 성공\n",
      "인쇄 요청 중: 0839 김미선 2021타채125425.pdf\n",
      "0839 김미선 2021타채125425.pdf 인쇄 요청 성공\n",
      "인쇄 요청 중: 0840 성진호 2021타채126092.pdf\n",
      "0840 성진호 2021타채126092.pdf 인쇄 요청 성공\n",
      "인쇄 요청 중: 0841 구장호 2021타채129635.pdf\n",
      "0841 구장호 2021타채129635.pdf 인쇄 요청 성공\n",
      "인쇄 요청 중: 0842 정은상 2021타채130320.pdf\n",
      "0842 정은상 2021타채130320.pdf 인쇄 요청 성공\n",
      "인쇄 요청 중: 0843 김현태 2021타채132748.pdf\n",
      "0843 김현태 2021타채132748.pdf 인쇄 요청 성공\n",
      "인쇄 요청 중: 0844 김경희 2021타채133652.pdf\n",
      "0844 김경희 2021타채133652.pdf 인쇄 요청 성공\n",
      "인쇄 요청 중: 0845 박철민 2019타채60457.pdf\n",
      "0845 박철민 2019타채60457.pdf 인쇄 요청 성공\n",
      "인쇄 요청 중: 0846 정명식 2020타채66326.pdf\n",
      "0846 정명식 2020타채66326.pdf 인쇄 요청 성공\n",
      "인쇄 요청 중: 0847 김미영 2021타채51065.pdf\n",
      "0847 김미영 2021타채51065.pdf 인쇄 요청 성공\n",
      "인쇄 요청 중: 0848 이주현 2021타채63566.pdf\n",
      "0848 이주현 2021타채63566.pdf 인쇄 요청 성공\n",
      "인쇄 요청 중: 0849 김도형 2021타채67433.pdf\n",
      "0849 김도형 2021타채67433.pdf 인쇄 요청 성공\n",
      "인쇄 요청 중: 0850 한석창 2020타채113018.pdf\n",
      "0850 한석창 2020타채113018.pdf 인쇄 요청 성공\n",
      "인쇄 요청 중: 0851 정순영 2020타채128056.pdf\n",
      "0851 정순영 2020타채128056.pdf 인쇄 요청 성공\n",
      "인쇄 요청 중: 0852 배우병 2020타채131308.pdf\n",
      "0852 배우병 2020타채131308.pdf 인쇄 요청 성공\n",
      "인쇄 요청 중: 0853 이종원 2021타채103443.pdf\n",
      "0853 이종원 2021타채103443.pdf 인쇄 요청 성공\n",
      "인쇄 요청 중: 0854 김영건 2021타채106212.pdf\n",
      "0854 김영건 2021타채106212.pdf 인쇄 요청 성공\n",
      "인쇄 요청 중: 0855 김정희 2021타채118193.pdf\n",
      "0855 김정희 2021타채118193.pdf 인쇄 요청 성공\n",
      "인쇄 요청 중: 0856 김영숙 2021타채127062.pdf\n",
      "0856 김영숙 2021타채127062.pdf 인쇄 요청 성공\n",
      "인쇄 요청 중: 0857 이경희 2021타채127699.pdf\n",
      "0857 이경희 2021타채127699.pdf 인쇄 요청 성공\n",
      "인쇄 요청 중: 0858 최희승 2021타채130464.pdf\n",
      "0858 최희승 2021타채130464.pdf 인쇄 요청 성공\n",
      "인쇄 요청 중: 0859 김인희 2020타채63837.pdf\n",
      "0859 김인희 2020타채63837.pdf 인쇄 요청 성공\n",
      "인쇄 요청 중: 0860 장종화 2021타채50074.pdf\n",
      "0860 장종화 2021타채50074.pdf 인쇄 요청 성공\n",
      "인쇄 요청 중: 0861 엄국자 2021타채73665.pdf\n",
      "0861 엄국자 2021타채73665.pdf 인쇄 요청 성공\n",
      "인쇄 요청 중: 0862 김자경 2019타채123474.pdf\n",
      "0862 김자경 2019타채123474.pdf 인쇄 요청 성공\n",
      "인쇄 요청 중: 0863 김종희 2020타채107761.pdf\n",
      "0863 김종희 2020타채107761.pdf 인쇄 요청 성공\n",
      "인쇄 요청 중: 0864 강신근 2020타채118255.pdf\n",
      "0864 강신근 2020타채118255.pdf 인쇄 요청 성공\n",
      "인쇄 요청 중: 0865 박정원 2020타채140098.pdf\n",
      "0865 박정원 2020타채140098.pdf 인쇄 요청 성공\n",
      "인쇄 요청 중: 0866 박창국 2021타채100183.pdf\n",
      "0866 박창국 2021타채100183.pdf 인쇄 요청 성공\n",
      "인쇄 요청 중: 0867 송원석 2021타채105676.pdf\n",
      "0867 송원석 2021타채105676.pdf 인쇄 요청 성공\n",
      "인쇄 요청 중: 0868 이기정 2021타채117318.pdf\n",
      "0868 이기정 2021타채117318.pdf 인쇄 요청 성공\n",
      "인쇄 요청 중: 0869 윤황로 2021타채126348.pdf\n",
      "0869 윤황로 2021타채126348.pdf 인쇄 요청 성공\n",
      "인쇄 요청 중: 0870 이관응 2021타채134408.pdf\n",
      "0870 이관응 2021타채134408.pdf 인쇄 요청 성공\n",
      "인쇄 요청 중: 0871 정재윤 2021타채145883.pdf\n",
      "0871 정재윤 2021타채145883.pdf 인쇄 요청 성공\n",
      "인쇄 요청 중: 0872 임동복 2020타채74456.pdf\n",
      "0872 임동복 2020타채74456.pdf 인쇄 요청 성공\n",
      "인쇄 요청 중: 0873 박삼석 2020타채74908.pdf\n",
      "0873 박삼석 2020타채74908.pdf 인쇄 요청 성공\n",
      "인쇄 요청 중: 0874 김지훈 2021타채50218.pdf\n",
      "0874 김지훈 2021타채50218.pdf 인쇄 요청 성공\n",
      "인쇄 요청 중: 0875 명상철 2021타채51158.pdf\n",
      "0875 명상철 2021타채51158.pdf 인쇄 요청 성공\n",
      "인쇄 요청 중: 0876 홍승수 2021타채30967.pdf\n",
      "0876 홍승수 2021타채30967.pdf 인쇄 요청 성공\n",
      "인쇄 요청 중: 0877 김기순 2021타채32339.pdf\n",
      "0877 김기순 2021타채32339.pdf 인쇄 요청 성공\n",
      "인쇄 요청 중: 0878 윤문식 2020타채35740.pdf\n",
      "0878 윤문식 2020타채35740.pdf 인쇄 요청 성공\n",
      "인쇄 요청 중: 0879 이선호 2021타채32784.pdf\n",
      "0879 이선호 2021타채32784.pdf 인쇄 요청 성공\n",
      "인쇄 요청 중: 0880 오예균 2021타채35168.pdf\n",
      "0880 오예균 2021타채35168.pdf 인쇄 요청 성공\n",
      "인쇄 요청 중: 0881 박천식 2020타채109945.pdf\n",
      "0881 박천식 2020타채109945.pdf 인쇄 요청 성공\n",
      "인쇄 요청 중: 0882 최해산 2021타채101645.pdf\n",
      "0882 최해산 2021타채101645.pdf 인쇄 요청 성공\n",
      "인쇄 요청 중: 0883 황용구 2021타채103304.pdf\n",
      "0883 황용구 2021타채103304.pdf 인쇄 요청 성공\n",
      "인쇄 요청 중: 0884 김정욱 2021타채104487.pdf\n",
      "0884 김정욱 2021타채104487.pdf 인쇄 요청 성공\n",
      "인쇄 요청 중: 0885 김동욱 2021타채111522.pdf\n",
      "0885 김동욱 2021타채111522.pdf 인쇄 요청 성공\n",
      "인쇄 요청 중: 0886 이희윤 2021타채17980.pdf\n",
      "0886 이희윤 2021타채17980.pdf 인쇄 요청 성공\n",
      "인쇄 요청 중: 0887 박진일 2020타채51142.pdf\n",
      "0887 박진일 2020타채51142.pdf 인쇄 요청 성공\n",
      "인쇄 요청 중: 0888 배상연 2020타채55529.pdf\n",
      "0888 배상연 2020타채55529.pdf 인쇄 요청 성공\n",
      "인쇄 요청 중: 0889 배상연 2020타채58908.pdf\n",
      "0889 배상연 2020타채58908.pdf 인쇄 요청 성공\n",
      "인쇄 요청 중: 0890 정미경 2020타채68943.pdf\n",
      "0890 정미경 2020타채68943.pdf 인쇄 요청 성공\n",
      "인쇄 요청 중: 0891 황일규 2020타채75281.pdf\n",
      "0891 황일규 2020타채75281.pdf 인쇄 요청 성공\n",
      "인쇄 요청 중: 0892 고경현 2020타채80476.pdf\n",
      "0892 고경현 2020타채80476.pdf 인쇄 요청 성공\n",
      "인쇄 요청 중: 0893 이진혁 2021타채72912.pdf\n",
      "0893 이진혁 2021타채72912.pdf 인쇄 요청 성공\n",
      "인쇄 요청 중: 0894 주성진 2021타채84698.pdf\n",
      "0894 주성진 2021타채84698.pdf 인쇄 요청 성공\n",
      "인쇄 요청 중: 0895 김영진 2019타채516656.pdf\n",
      "0895 김영진 2019타채516656.pdf 인쇄 요청 성공\n",
      "인쇄 요청 중: 0896 신석용 2020타채508741.pdf\n",
      "0896 신석용 2020타채508741.pdf 인쇄 요청 성공\n",
      "인쇄 요청 중: 0897 이진남 2020타채518771.pdf\n",
      "0897 이진남 2020타채518771.pdf 인쇄 요청 성공\n",
      "인쇄 요청 중: 0898 이대균 2020타채522880.pdf\n",
      "0898 이대균 2020타채522880.pdf 인쇄 요청 성공\n",
      "인쇄 요청 중: 0899 윤희 2020타채547890.pdf\n",
      "0899 윤희 2020타채547890.pdf 인쇄 요청 성공\n",
      "인쇄 요청 중: 0900 현수빈 2021타채507078.pdf\n",
      "0900 현수빈 2021타채507078.pdf 인쇄 요청 성공\n",
      "인쇄 요청 중: 0901 김숙희 2021타채529900.pdf\n",
      "0901 김숙희 2021타채529900.pdf 인쇄 요청 성공\n",
      "인쇄 요청 중: 0902 배승환 2021타채533555.pdf\n",
      "0902 배승환 2021타채533555.pdf 인쇄 요청 성공\n",
      "인쇄 요청 중: 0903 이종이 2021타채543763.pdf\n",
      "0903 이종이 2021타채543763.pdf 인쇄 요청 성공\n",
      "인쇄 요청 중: 0904 한상일 2021타채547257.pdf\n",
      "0904 한상일 2021타채547257.pdf 인쇄 요청 성공\n",
      "인쇄 요청 중: 0905 강충희 2021타채554282.pdf\n",
      "0905 강충희 2021타채554282.pdf 인쇄 요청 성공\n",
      "인쇄 요청 중: 0906 김은주 2019타채43170.pdf\n",
      "0906 김은주 2019타채43170.pdf 인쇄 요청 성공\n",
      "인쇄 요청 중: 0907 이의근 2020타채43400.pdf\n",
      "0907 이의근 2020타채43400.pdf 인쇄 요청 성공\n",
      "인쇄 요청 중: 0908 정철석 2021타채31916.pdf\n",
      "0908 정철석 2021타채31916.pdf 인쇄 요청 성공\n",
      "인쇄 요청 중: 0909 윤종철 2021타채38653.pdf\n",
      "0909 윤종철 2021타채38653.pdf 인쇄 요청 성공\n",
      "인쇄 요청 중: 0910 최호선 2021타채47778.pdf\n",
      "0910 최호선 2021타채47778.pdf 인쇄 요청 성공\n",
      "인쇄 요청 중: 0911 남철 2021타채49682.pdf\n",
      "0911 남철 2021타채49682.pdf 인쇄 요청 성공\n",
      "인쇄 요청 중: 0912 진병필 2020타채31128.pdf\n",
      "0912 진병필 2020타채31128.pdf 인쇄 요청 성공\n",
      "인쇄 요청 중: 0913 김명운 2018타채4042.pdf\n",
      "0913 김명운 2018타채4042.pdf 인쇄 요청 성공\n",
      "인쇄 요청 중: 0914 안홍규 2020타채30207.pdf\n",
      "0914 안홍규 2020타채30207.pdf 인쇄 요청 성공\n",
      "인쇄 요청 중: 0915 전막순 2020타채37802.pdf\n",
      "0915 전막순 2020타채37802.pdf 인쇄 요청 성공\n",
      "인쇄 요청 중: 0916 이정규 2019타채103015.pdf\n",
      "0916 이정규 2019타채103015.pdf 인쇄 요청 성공\n",
      "인쇄 요청 중: 0917 최문석 2021타채106445.pdf\n",
      "0917 최문석 2021타채106445.pdf 인쇄 요청 성공\n",
      "인쇄 요청 중: 0918 홍운기 2020타채11545.pdf\n",
      "0918 홍운기 2020타채11545.pdf 인쇄 요청 성공\n",
      "인쇄 요청 중: 0919 박용선 2021타채16925.pdf\n",
      "0919 박용선 2021타채16925.pdf 인쇄 요청 성공\n",
      "인쇄 요청 중: 0920 박성돈 2021타채9049.pdf\n",
      "0920 박성돈 2021타채9049.pdf 인쇄 요청 성공\n"
     ]
    }
   ],
   "source": [
    "import os\n",
    "import win32print\n",
    "import win32api\n",
    "import time\n",
    "\n",
    "def print_pdfs_in_folder(folder_path):\n",
    "    # 폴더에서 PDF 파일만 가져오기\n",
    "    pdf_files = [f for f in os.listdir(folder_path) if f.lower().endswith('.pdf')]\n",
    "    \n",
    "    # 파일명 기준으로 정렬\n",
    "    pdf_files.sort()\n",
    "\n",
    "    # 프린터 정보 가져오기\n",
    "    printer_name = win32print.GetDefaultPrinter()\n",
    "    \n",
    "    print(f\"사용 중인 기본 프린터: {printer_name}\")\n",
    "\n",
    "    for pdf_file in pdf_files:\n",
    "        pdf_path = os.path.join(folder_path, pdf_file)\n",
    "\n",
    "        # PDF 파일 인쇄\n",
    "        try:\n",
    "            result = win32api.ShellExecute(0, \"print\", pdf_path, None, folder_path, 0)\n",
    "            if result > 32:  # 성공적인 요청 코드 확인\n",
    "                print(f\"{pdf_file} 인쇄 요청 성공\")\n",
    "                time.sleep(5)  # 인쇄 요청 간 대기 시간 추가\n",
    "            else:\n",
    "                print(f\"{pdf_file} 인쇄 요청 실패: 코드 {result}\")\n",
    "        except Exception as e:\n",
    "            print(f\"{pdf_file} 인쇄 실패: {e}\")\n",
    "\n",
    "\n",
    "\n",
    "folder_path = r\"C:\\Users\\DATA\\Desktop\\압류추심요청서_2412\\결정문\\241211_1금융\\주식회사 우리은행\"\n",
    "\n",
    "if os.path.exists(folder_path) and os.path.isdir(folder_path):\n",
    "    print_pdfs_in_folder(folder_path)\n",
    "else:\n",
    "    print(\"유효한 폴더 경로를 입력해주세요.\")"
   ]
  }
 ],
 "metadata": {
  "kernelspec": {
   "display_name": "py_39",
   "language": "python",
   "name": "python3"
  },
  "language_info": {
   "codemirror_mode": {
    "name": "ipython",
    "version": 3
   },
   "file_extension": ".py",
   "mimetype": "text/x-python",
   "name": "python",
   "nbconvert_exporter": "python",
   "pygments_lexer": "ipython3",
   "version": "3.9.18"
  }
 },
 "nbformat": 4,
 "nbformat_minor": 2
}
