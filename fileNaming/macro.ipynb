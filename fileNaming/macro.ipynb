{
 "cells": [
  {
   "cell_type": "markdown",
   "metadata": {},
   "source": [
    "### 명령어\n",
    "- 현재 좌표 얻기 : .position()\n",
    "- 마우스 이동 : .moveTo(x, y, [duration]) # 절대경로, move( ) # 상대경로\n",
    "- 마우스 드래그 : .dragTo( ), drag( )\n",
    "- 마우스 클릭 : .click([좌표], [button='left/right/middle'])\n",
    "- 마우스 휠 컨트롤 : .scroll(100이면 한번 위로 스크롤한 정도임. 아래는 -)\n",
    "- 키 클릭 : .press(\"키\")\n",
    "- 키 누르고 있기 : .keyDown(\"키\")\n",
    "- 누르던 키 떼기 : .keyUp(\"키\")\n",
    "- 키 조합(핫키) : .hotkey(\"키1\", \"키2\")\n",
    "- 기타 : .write(\"적을 글 ~~~~~\"), .copy(\"복사할 글\")\n",
    "- 키이름 : \n",
    "['\\t', '\\n', '\\r', ' ', '!', '\"', '#', '$', '%', '&', \"'\", '(',\n",
    "')', '*', '+', ',', '-', '.', '/', '0', '1', '2', '3', '4', '5', '6', '7',\n",
    "'8', '9', ':', ';', '<', '=', '>', '?', '@', '[', '', ']', '^', '_', '`',\n",
    "'a', 'b', 'c', 'd', 'e','f', 'g', 'h', 'i', 'j', 'k', 'l', 'm', 'n', 'o',\n",
    "'p', 'q', 'r', 's', 't', 'u', 'v', 'w', 'x', 'y', 'z', '{', '|', '}', '~',\n",
    "'accept', 'add', 'alt', 'altleft', 'altright', 'apps', 'backspace',\n",
    "'browserback', 'browserfavorites', 'browserforward', 'browserhome',\n",
    "'browserrefresh', 'browsersearch', 'browserstop', 'capslock', 'clear',\n",
    "'convert', 'ctrl', 'ctrlleft', 'ctrlright', 'decimal', 'del', 'delete',\n",
    "'divide', 'down', 'end', 'enter', 'esc', 'escape', 'execute', 'f1', 'f10',\n",
    "'f11', 'f12', 'f13', 'f14', 'f15', 'f16', 'f17', 'f18', 'f19', 'f2', 'f20',\n",
    "'f21', 'f22', 'f23', 'f24', 'f3', 'f4', 'f5', 'f6', 'f7', 'f8', 'f9',\n",
    "'final', 'fn', 'hanguel', 'hangul', 'hanja', 'help', 'home', 'insert', 'junja',\n",
    "'kana', 'kanji', 'launchapp1', 'launchapp2', 'launchmail',\n",
    "'launchmediaselect', 'left', 'modechange', 'multiply', 'nexttrack',\n",
    "'nonconvert', 'num0', 'num1', 'num2', 'num3', 'num4', 'num5', 'num6',\n",
    "'num7', 'num8', 'num9', 'numlock', 'pagedown', 'pageup', 'pause', 'pgdn',\n",
    "'pgup', 'playpause', 'prevtrack', 'print', 'printscreen', 'prntscrn',\n",
    "'prtsc', 'prtscr', 'return', 'right', 'scrolllock', 'select', 'separator',\n",
    "'shift', 'shiftleft', 'shiftright', 'sleep', 'space', 'stop', 'subtract', 'tab',\n",
    "'up', 'volumedown', 'volumemute', 'volumeup', 'win', 'winleft', 'winright', 'yen',\n",
    "'command', 'option', 'optionleft', 'optionright']\n",
    "- shift안 먹을 때 : shiftleft, shiftright를 모두 사용하라 (두줄코딩)"
   ]
  },
  {
   "cell_type": "code",
   "execution_count": 2,
   "metadata": {},
   "outputs": [],
   "source": [
    "import pyautogui as au\n",
    "import time"
   ]
  },
  {
   "cell_type": "markdown",
   "metadata": {},
   "source": [
    "##### 키값 - 필터값없는 마우스 좌표임"
   ]
  },
  {
   "cell_type": "code",
   "execution_count": 10,
   "metadata": {},
   "outputs": [],
   "source": [
    "# 폴더에서 파일 선택 후 fe에서 관리자키 3자리 지우기\n",
    "while(True) :\n",
    "    \n",
    "    au.click(706, 20)\n",
    "    au.press('down')\n",
    "    time.sleep(0.4)\n",
    "    au.click(1478, 514) # 미리보기 창\n",
    "    au.scroll(700)\n",
    "\n",
    "    au.press('f6')\n",
    "    au.press('end')\n",
    "    au.press('backspace')\n",
    "    au.press('backspace')\n",
    "    au.press('backspace')\n",
    "    \n",
    "    time.sleep(3)\n",
    "    \n",
    "    au.click(3171, 46) # input창으로\n",
    "    selection2 = input()\n",
    "    if selection2 == \"0\" : \n",
    "        au.click(2060, 133)\n",
    "    elif selection2 == \"1\" :\n",
    "        au.click(2060, 158)\n",
    "    else :\n",
    "        break\n",
    "    au.hotkey('ctrl', 'c')\n",
    "    au.click(706, 20)\n",
    "\n",
    "    au.press('f2')\n",
    "    au.press('home')\n",
    "    au.hotkey('ctrl', 'v')\n",
    "    au.press('space')\n",
    "    au.press('enter')\n",
    "\n",
    "    time.sleep(0.3)"
   ]
  },
  {
   "cell_type": "markdown",
   "metadata": {},
   "source": [
    "##### 파일명(이름) - 필터값 있는 마우스 좌표임"
   ]
  },
  {
   "cell_type": "code",
   "execution_count": 7,
   "metadata": {},
   "outputs": [],
   "source": [
    "# 정렬 기준 날짜로 바꿔~~~~~~~~~~~~~~~~~~~ 2번째 탭에 있을 것\n",
    "# 필터값 있어서 채무자키 위치가 위와는 다르다!!\n",
    "# 이름(전체복사) 채무자키 선택해서 파일명에 복붙하는 것만\n",
    "while(True) :\n",
    "    \n",
    "    au.click(706, 20)\n",
    "    au.press('down')\n",
    "    time.sleep(0.4)\n",
    "    au.press('f2')\n",
    "    au.press('home')\n",
    "\n",
    "    au.keyDown('shiftleft')\n",
    "    au.keyDown('shiftright')\n",
    "    au.hotkey('ctrl', 'right')\n",
    "    au.keyUp('shiftleft')\n",
    "    au.keyUp('shiftright')\n",
    "    au.hotkey('ctrl', 'c')\n",
    "    \n",
    "    #au.click(1478, 514) # 미리보기 창\n",
    "    #au.scroll(600)\n",
    "\n",
    "    au.press('f6')\n",
    "    au.hotkey('ctrl', 'v')\n",
    "    au.press('enter')\n",
    "    \n",
    "    time.sleep(0.3)\n",
    "    \n",
    "    au.click(3171, 46) # input창으로\n",
    "    selection2 = input()\n",
    "    if selection2 == \"0\" : \n",
    "        au.click(2050, 173)\n",
    "        au.click(2050, 173)\n",
    "    elif selection2 == \"1\" :\n",
    "        au.click(2050, 198)\n",
    "        au.click(2050, 198)\n",
    "    elif selection2 == \"2\" :\n",
    "        au.click(2050, 223)\n",
    "        au.click(2050, 223)\n",
    "    elif selection2 == \"3\" :\n",
    "        au.click(2050, 248)\n",
    "        au.click(2050, 248)\n",
    "    else :\n",
    "        break\n",
    "    time.sleep(0.1)\n",
    "    au.hotkey('ctrl', 'c')\n",
    "    au.click(706, 20)\n",
    "\n",
    "    au.press('f2')\n",
    "    au.press('home')\n",
    "    au.hotkey('ctrl', 'v')\n",
    "    au.press('space')\n",
    "    au.press('enter')\n",
    "\n",
    "    time.sleep(0.3)"
   ]
  },
  {
   "cell_type": "code",
   "execution_count": 19,
   "metadata": {},
   "outputs": [],
   "source": [
    "au.click(2050, 223)"
   ]
  },
  {
   "cell_type": "markdown",
   "metadata": {},
   "source": [
    "##### 검토"
   ]
  },
  {
   "cell_type": "code",
   "execution_count": 5,
   "metadata": {},
   "outputs": [],
   "source": [
    "# 자동변경된 거 채무자키로 확인\n",
    "while(True) :\n",
    "    \n",
    "    au.click(706, 20)\n",
    "    au.press('down')\n",
    "    time.sleep(0.4)\n",
    "    au.press('f2')\n",
    "    au.press('home')\n",
    "\n",
    "    au.keyDown('shiftleft')\n",
    "    au.keyDown('shiftright')\n",
    "    au.hotkey('ctrl', 'right')\n",
    "    au.keyUp('shiftleft')\n",
    "    au.keyUp('shiftright')\n",
    "    au.hotkey('ctrl', 'c')\n",
    "    \n",
    "    au.click(1478, 514) # 미리보기 창\n",
    "    au.scroll(700)\n",
    "\n",
    "    au.press('f6')\n",
    "    au.hotkey('ctrl', 'v')\n",
    "    au.press('enter')\n",
    "    \n",
    "    time.sleep(0.5)\n",
    "    \n",
    "    au.click(3171, 46) # input창으로\n",
    "    selection2 = input()\n",
    "    if selection2 != \"0\" : \n",
    "        break    "
   ]
  }
 ],
 "metadata": {
  "kernelspec": {
   "display_name": "Python 3.9.13 ('base')",
   "language": "python",
   "name": "python3"
  },
  "language_info": {
   "codemirror_mode": {
    "name": "ipython",
    "version": 3
   },
   "file_extension": ".py",
   "mimetype": "text/x-python",
   "name": "python",
   "nbconvert_exporter": "python",
   "pygments_lexer": "ipython3",
   "version": "3.9.13"
  },
  "orig_nbformat": 4,
  "vscode": {
   "interpreter": {
    "hash": "50ba2c93e3505a279245e213c77d9791c626788d8ca8a61b8db804927ca08a39"
   }
  }
 },
 "nbformat": 4,
 "nbformat_minor": 2
}
