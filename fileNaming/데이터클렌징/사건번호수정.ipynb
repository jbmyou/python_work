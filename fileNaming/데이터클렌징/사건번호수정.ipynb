{
 "cells": [
  {
   "attachments": {},
   "cell_type": "markdown",
   "metadata": {},
   "source": [
    "### import"
   ]
  },
  {
   "cell_type": "code",
   "execution_count": 12,
   "metadata": {},
   "outputs": [],
   "source": [
    "import pandas as pd\n",
    "import numpy as np\n",
    "import os\n",
    "from os.path import join\n",
    "from datetime import datetime\n",
    "import pickle\n",
    "import re\n",
    "from tqdm import tqdm\n",
    "pwd = r\"D:\\1.전산,개발\\2.전산관리\\DB관리\\법조치 수정\\통합사건번호\"\n",
    "event_dtype = {'채무자키':str, '계좌키':str, '법조치키':str, '관할법원코드':str, '타채무자키':str,'타법조치키':str}   \n",
    "#pd.set_option('display.max_rows',None)"
   ]
  },
  {
   "attachments": {},
   "cell_type": "markdown",
   "metadata": {},
   "source": [
    "### 법원목록 불러오기\n",
    "- 이제 안 해도 됨(사건검색의 법원목록과 제증명의 법원목록이 다르니 유의)"
   ]
  },
  {
   "cell_type": "code",
   "execution_count": 35,
   "metadata": {},
   "outputs": [],
   "source": [
    "# from selenium.webdriver.chrome.service import Service\n",
    "# from selenium import webdriver\n",
    "# from selenium.webdriver.common.by import By\n",
    "# import time\n",
    "# service = Service(executable_path=\"./파일/chromedriver.exe\")\n",
    "# driver = webdriver.Chrome(service=service)\n",
    "# driver.get(\"https://ecfs.scourt.go.kr/ecf/index.jsp\")\n",
    "# time.sleep(2)\n",
    "# driver.switch_to.frame(\"FrameSaFind\")\n",
    "# result = driver.find_elements(By.XPATH, '//*[@id=\"sch_bub_nm\"]//option')\n",
    "# court_list = []\n",
    "# for v in result:\n",
    "#     court_list.append(v.text)\n",
    "# court_list"
   ]
  },
  {
   "attachments": {},
   "cell_type": "markdown",
   "metadata": {},
   "source": [
    "### 관할법원 수정하기"
   ]
  },
  {
   "cell_type": "code",
   "execution_count": 2,
   "metadata": {},
   "outputs": [
    {
     "name": "stdout",
     "output_type": "stream",
     "text": [
      "206\n",
      "124 45 14 22 8\n"
     ]
    }
   ],
   "source": [
    "### 검색 조건 만들기 #######################################\n",
    "# 목포지원 무안군법원 > 목포로 먼저 가버린다. (검색우선순위를 3가지로 세분화해서 해결함 : 1.군,시법원 2.지원 3.지방법원)\n",
    "###########################################################\n",
    "# 법원 정리한 목록 불러오기\n",
    "법원목록 = r\"D:\\1.전산,개발\\2.전산관리\\DB관리\\법조치 수정\\법원 목록 정리.xlsx\"\n",
    "df_reg = pd.read_excel(법원목록, sheet_name='법원목록').fillna(\"\")\n",
    "print(len(df_reg))\n",
    "# dict만들기\n",
    "cnt = 0\n",
    "reg1, reg2, reg3, regF1, regF2 = {}, {}, {}, {}, {}\n",
    "for i, v in df_reg.iterrows() :\n",
    "    if v.비고 == \"가정\" : # 지법에는 아무 값도 없음\n",
    "        if v.시군 != \"\" :\n",
    "            regF1[v.시군] = v.법원\n",
    "        if v.지원 != \"\" :\n",
    "            regF2[v.지원] = v.법원\n",
    "    else :\n",
    "        if v.시군 != \"\" :  \n",
    "            reg1[v.시군] = v.법원\n",
    "        if v.지원 != \"\" :\n",
    "            reg2[v.지원] = v.법원\n",
    "        if v.지법 != \"\" :\n",
    "            reg3[v.지법] = v.법원\n",
    "print(len(reg1), len(reg2), len(reg3), len(regF1), len(regF2))"
   ]
  },
  {
   "cell_type": "code",
   "execution_count": 13,
   "metadata": {},
   "outputs": [],
   "source": [
    "### 수정할 파일 불러오기\n",
    "filename = \"솔림_0630_raw\"                          #####\n",
    "df_court_event = pd.read_excel(join(pwd, filename+\".xlsx\"), dtype=event_dtype).fillna(\"\")#[[\"법조치키\",\"관할법원\",\"사건번호\"]]"
   ]
  },
  {
   "cell_type": "code",
   "execution_count": 15,
   "metadata": {},
   "outputs": [],
   "source": [
    "# 읽은 파일 바로 pkl로 저장하기\n",
    "df_court_event.to_pickle(join(pwd, filename+\".pkl\"))"
   ]
  },
  {
   "cell_type": "code",
   "execution_count": 71,
   "metadata": {},
   "outputs": [
    {
     "name": "stdout",
     "output_type": "stream",
     "text": [
      "148551\n"
     ]
    }
   ],
   "source": [
    "# # 범위 제한하기\n",
    "# df_court_event = df_court_event[~df_court_event.관할법원.str.contains(\"경찰|검찰|법무|법률|세무|차량|구청(?!도)|공사|자산|미입력\")]\n",
    "# df_court_event = df_court_event[df_court_event.관할법원 != \"\"]\n",
    "# print(len(df_court_event))"
   ]
  },
  {
   "cell_type": "code",
   "execution_count": 51,
   "metadata": {},
   "outputs": [
    {
     "data": {
      "text/html": [
       "<div>\n",
       "<style scoped>\n",
       "    .dataframe tbody tr th:only-of-type {\n",
       "        vertical-align: middle;\n",
       "    }\n",
       "\n",
       "    .dataframe tbody tr th {\n",
       "        vertical-align: top;\n",
       "    }\n",
       "\n",
       "    .dataframe thead th {\n",
       "        text-align: right;\n",
       "    }\n",
       "</style>\n",
       "<table border=\"1\" class=\"dataframe\">\n",
       "  <thead>\n",
       "    <tr style=\"text-align: right;\">\n",
       "      <th></th>\n",
       "      <th>법조치키</th>\n",
       "      <th>경검</th>\n",
       "      <th>관할법원</th>\n",
       "      <th>수정관할법원</th>\n",
       "      <th>확인여부</th>\n",
       "      <th>실명칭부합</th>\n",
       "      <th>관할법원수정여부</th>\n",
       "      <th>사건번호</th>\n",
       "      <th>수정사건번호</th>\n",
       "      <th>사건번호수정여부</th>\n",
       "    </tr>\n",
       "  </thead>\n",
       "  <tbody>\n",
       "  </tbody>\n",
       "</table>\n",
       "</div>"
      ],
      "text/plain": [
       "Empty DataFrame\n",
       "Columns: [법조치키, 경검, 관할법원, 수정관할법원, 확인여부, 실명칭부합, 관할법원수정여부, 사건번호, 수정사건번호, 사건번호수정여부]\n",
       "Index: []"
      ]
     },
     "execution_count": 51,
     "metadata": {},
     "output_type": "execute_result"
    }
   ],
   "source": [
    "# # 체크하기\n",
    "# res = df_court_event[(df_court_event[\"관할법원\"].str.contains(\"광주고\")) & (df_court_event[\"관할법원\"].str.contains(\"목포\"))]\n",
    "# res"
   ]
  },
  {
   "cell_type": "code",
   "execution_count": 9,
   "metadata": {},
   "outputs": [
    {
     "name": "stderr",
     "output_type": "stream",
     "text": [
      "  0%|          | 0/195263 [00:00<?, ?it/s]"
     ]
    },
    {
     "name": "stderr",
     "output_type": "stream",
     "text": [
      "100%|██████████| 195263/195263 [01:46<00:00, 1831.27it/s]"
     ]
    },
    {
     "name": "stdout",
     "output_type": "stream",
     "text": [
      "작업이 완료되었습니다.\n"
     ]
    },
    {
     "name": "stderr",
     "output_type": "stream",
     "text": [
      "\n"
     ]
    }
   ],
   "source": [
    "for i, v in tqdm(df_court_event.iterrows(), total=len(df_court_event)) :\n",
    "    out_for_continue = False    ########################### no Touch\n",
    "\n",
    "    # 검찰, 경찰 등 제외하기 # 사건번호, 대상자명도 수정해야 하니 전체목록을 대상으로 해야한다. 따라서 \n",
    "    if re.search(\"경찰|검찰|법무|법률|세무|차량|구청(?!도)|공사|자산|미입력|지급|카드|보증\", v.관할법원) or (v.관할법원 == \"\"):  # 대'구청'도군법원유의\n",
    "        df_court_event.loc[i, \"수정관할법원\"] = v.관할법원\n",
    "        df_court_event.loc[i, \"관할법원수정여부\"] = \"pass\"\n",
    "        continue\n",
    "        \n",
    "    # 가정 법원인지 확인\n",
    "    if re.search(\"가정\", v.관할법원) :\n",
    "        for exp, right_court_name in regF1.items() :\n",
    "            if re.search(exp, v.관할법원) :\n",
    "                df_court_event.loc[i, \"수정관할법원\"] = right_court_name\n",
    "                out_for_continue = True\n",
    "                break\n",
    "        if out_for_continue : continue # regF1에서 수정할 법원 나왔으면 새로운 반복문 시작\n",
    "        # regF2 확인하기\n",
    "        for exp, right_court_name in regF2.items() :\n",
    "            if re.search(exp, v.관할법원) :\n",
    "                df_court_event.loc[i, \"수정관할법원\"] = right_court_name\n",
    "                out_for_continue = True\n",
    "                break\n",
    "\n",
    "        if out_for_continue == False : # '가정법원'에 들어왔음에도, 조건에 걸린 게 없어서 수정한 바가 없음\n",
    "            df_court_event.loc[i, \"수정관할법원\"] = v.관할법원\n",
    "            df_court_event.loc[i, \"관할법원수정여부\"] = \"x\"\n",
    "        continue # 가정법원에 걸렸으니 무조건 여기서 끝냄\n",
    "\n",
    "    else :\n",
    "        # 가정법원 아닌 경우 : reg1먼저 확인하기 \n",
    "        for exp, right_court_name in reg1.items() : # \n",
    "            if re.search(\",\", exp) :\n",
    "                compile_items = exp.split(\",\")\n",
    "                if re.search(compile_items[0], v.관할법원) and re.search(compile_items[1], v.관할법원) : #항상 2개\n",
    "                    df_court_event.loc[i, \"수정관할법원\"] = right_court_name\n",
    "                    out_for_continue = True\n",
    "                    break\n",
    "            else :\n",
    "                if re.search(exp, v.관할법원) :\n",
    "                    df_court_event.loc[i, \"수정관할법원\"] = right_court_name\n",
    "                    out_for_continue = True\n",
    "                    break\n",
    "        if out_for_continue : continue # reg1에서 수정할 법원 나왔으면 새로운 반복문 시작\n",
    "\n",
    "        # reg2 확인하기\n",
    "        for exp, right_court_name in reg2.items() :\n",
    "            if re.search(exp, v.관할법원) :\n",
    "                df_court_event.loc[i, \"수정관할법원\"] = right_court_name\n",
    "                out_for_continue = True\n",
    "                break\n",
    "        if out_for_continue : continue # reg1에서 수정할 법원 나왔으면 새로운 반복문 시작\n",
    "\n",
    "        # reg3 확인하기\n",
    "        for exp, right_court_name in reg3.items() :\n",
    "            if re.search(exp, v.관할법원) :\n",
    "                df_court_event.loc[i, \"수정관할법원\"] = right_court_name\n",
    "                out_for_continue = True\n",
    "                break\n",
    "\n",
    "        if out_for_continue ==False: # 여기까지 왔는데도 바뀐 게 없다면 ..\n",
    "            df_court_event.loc[i, \"수정관할법원\"] = v.관할법원\n",
    "            df_court_event.loc[i, \"관할법원수정여부\"] = \"x\"\n",
    "        continue # reg1에서 수정할 법원 나왔으면 새로운 반복문 시작\n",
    "\n",
    "print(\"작업이 완료되었습니다.\")"
   ]
  },
  {
   "cell_type": "code",
   "execution_count": 10,
   "metadata": {},
   "outputs": [],
   "source": [
    "# 엑셀파일 저장\n",
    "df_court_event.to_excel(join(pwd, filename+\"_관할법원수정.xlsx\"), index=False)"
   ]
  },
  {
   "attachments": {},
   "cell_type": "markdown",
   "metadata": {},
   "source": [
    "### 사건번호 수정하기"
   ]
  },
  {
   "cell_type": "code",
   "execution_count": 23,
   "metadata": {},
   "outputs": [],
   "source": [
    "### 수정할 파일 불러오기\n",
    "# df_court_event = pd.read_excel(join(pwd, \"관할_사건_관할법원.xlsx\")).fillna(\"\")"
   ]
  },
  {
   "cell_type": "code",
   "execution_count": 14,
   "metadata": {},
   "outputs": [
    {
     "name": "stderr",
     "output_type": "stream",
     "text": [
      "100%|██████████| 195263/195263 [00:13<00:00, 14403.31it/s]\n"
     ]
    }
   ],
   "source": [
    "p_event=re.compile(r\"(\\d{2,4})[\\s,]?([가-힣]{1,4})[\\s-]?(\\d+)\") # year = [1], sign = [2], sn=[3]\n",
    "\n",
    "for i, v in tqdm(df_court_event.iterrows(), total=len(df_court_event)) :\n",
    "    res = p_event.search(v.사건번호)\n",
    "\n",
    "    if res != None :\n",
    "        year = res[1]\n",
    "\n",
    "        # 1) 순번 앞에 0이 있으면 지우기\n",
    "        sn = res[3]\n",
    "        if re.search(\"[1-9][0-9]*\",res[3]) :\n",
    "            sn = re.search(\"[1-9][0-9]*\",res[3])[0]\n",
    "\n",
    "        # 2) 공백 지우기\n",
    "        event = year + res[2] + sn\n",
    "\n",
    "        # 3) 연도 수정하기 연도 4자리고, 전후가 동일하면 pass, 수정여부에 x\n",
    "        if len(year) == 4 :\n",
    "            df_court_event.loc[i,\"수정사건번호\"] = event\n",
    "        # 연도 2자리고 00 ~ 23사이면 20 붙이고, 아니면 그대로두기(19는 사건번호에는 안 붙음. 전산조회시 19 있으나 없으나 결과 같음>붙여도 되고 안 붙여도 되고), 수정여부에 ㅇ\n",
    "        elif len(year) == 2 :\n",
    "            if int(year) <= 23 :\n",
    "                df_court_event.loc[i,\"수정사건번호\"] = \"20\" + event\n",
    "            elif int(year) > 70  :\n",
    "                df.loc[i,\"수정사건번호\"] = event # 원래 19는 안 붙여도 됨. 검색대상에 19가 붙어있는 경우는 제거 하고 검색해야함 # pass 하지말것.\n",
    "            else : \n",
    "                df_court_event.loc[i,\"수정사건번호\"] = \"연도이상\"\n",
    "        elif len(year) == 3 :\n",
    "            if int(year) >= 200 and int(year) <=223 :\n",
    "                df_court_event.loc[i,\"수정사건번호\"] = event[0] + \"0\" + event[1:]\n",
    "            else : \n",
    "                df_court_event.loc[i,\"수정사건번호\"] = \"연도이상\"\n",
    "        else :\n",
    "            df_court_event.loc[i,\"수정사건번호\"] = \"연도이상\"\n",
    "    else :\n",
    "        df_court_event.loc[i,\"수정사건번호\"] = v.사건번호"
   ]
  },
  {
   "cell_type": "code",
   "execution_count": 15,
   "metadata": {},
   "outputs": [],
   "source": [
    "# 사건번호 수정여부 작성하기\n",
    "df_court_event['사건번호수정여부'] = np.where(df_court_event['사건번호'] != df_court_event['수정사건번호'], 'O', 'X')"
   ]
  },
  {
   "cell_type": "code",
   "execution_count": 16,
   "metadata": {},
   "outputs": [
    {
     "data": {
      "text/plain": [
       "X    195242\n",
       "O        21\n",
       "Name: 사건번호수정여부, dtype: int64"
      ]
     },
     "execution_count": 16,
     "metadata": {},
     "output_type": "execute_result"
    }
   ],
   "source": [
    "df_court_event['사건번호수정여부'].value_counts()"
   ]
  },
  {
   "cell_type": "code",
   "execution_count": null,
   "metadata": {},
   "outputs": [],
   "source": [
    "# 확인없이 저장??\n",
    "df_court_event.사건번호 = df_court_event.수정사건번호"
   ]
  },
  {
   "cell_type": "code",
   "execution_count": 11,
   "metadata": {},
   "outputs": [],
   "source": [
    "# 전체 저장하기\n",
    "df_court_event.to_excel(join(pwd, filename + \"_사건번호수정.xlsx\"), index=False)"
   ]
  },
  {
   "cell_type": "code",
   "execution_count": 17,
   "metadata": {},
   "outputs": [],
   "source": [
    "# 수정된 것만 저장하기\n",
    "result_fixed = df_court_event[df_court_event['사건번호수정여부']==\"O\"]\n",
    "result_fixed.to_excel(join(pwd, filename + \"_사건번호수정된것만.xlsx\"), index=False)"
   ]
  },
  {
   "cell_type": "code",
   "execution_count": null,
   "metadata": {},
   "outputs": [],
   "source": [
    "# # 엑셀파일 저장\n",
    "# df_court_event.to_excel(join(pwd, \"관할_사건_사건번호.xlsx\"), index=False)"
   ]
  },
  {
   "attachments": {},
   "cell_type": "markdown",
   "metadata": {},
   "source": [
    "### 관할법원, 사건번호 수정된 것만 별도 파일로 만들기"
   ]
  },
  {
   "cell_type": "code",
   "execution_count": 14,
   "metadata": {},
   "outputs": [
    {
     "data": {
      "text/plain": [
       "Index(['법조치키', '관할법원', '사건번호', '수정사건번호', '사건번호수정여부'], dtype='object')"
      ]
     },
     "execution_count": 14,
     "metadata": {},
     "output_type": "execute_result"
    }
   ],
   "source": [
    "df_court_event.columns"
   ]
  },
  {
   "cell_type": "code",
   "execution_count": 7,
   "metadata": {},
   "outputs": [
    {
     "name": "stderr",
     "output_type": "stream",
     "text": [
      "100%|██████████| 153883/153883 [00:11<00:00, 13335.69it/s]\n"
     ]
    }
   ],
   "source": [
    "for i, v in tqdm(df_court_event.iterrows(), total=len(df_court_event)) :\n",
    "    if (v.관할법원 == v.수정관할법원) and (v.사건번호 == v.수정사건번호) : # 둘중 하나도 수정되지 않음\n",
    "        df_court_event.loc[i,\"수정\"] = False\n",
    "    else : # 둘 중 하나라도 수정됨\n",
    "        df_court_event.loc[i,\"수정\"] = True        "
   ]
  },
  {
   "cell_type": "code",
   "execution_count": 8,
   "metadata": {},
   "outputs": [
    {
     "name": "stdout",
     "output_type": "stream",
     "text": [
      "33310\n"
     ]
    }
   ],
   "source": [
    "upload = df_court_event[df_court_event.수정]\n",
    "print(len(upload))"
   ]
  },
  {
   "cell_type": "code",
   "execution_count": 9,
   "metadata": {},
   "outputs": [],
   "source": [
    "upload = upload[[\"법조치키\",\"관할법원\",'사건번호','수정관할법원','수정사건번호','수정','관할법원수정여부','사건번호수정여부']]"
   ]
  },
  {
   "cell_type": "code",
   "execution_count": 10,
   "metadata": {},
   "outputs": [],
   "source": [
    "###########################################################################\n",
    "upload.to_excel(join(pwd, \"result_법원_사건번호_20230125_2차.xlsx\"), index=False)\n",
    "###########################################################################"
   ]
  },
  {
   "attachments": {},
   "cell_type": "markdown",
   "metadata": {},
   "source": [
    "### 대상자명 수정"
   ]
  },
  {
   "cell_type": "code",
   "execution_count": 20,
   "metadata": {},
   "outputs": [],
   "source": [
    "### 수정할 파일 불러오기\n",
    "df_court_event = pd.read_excel(join(pwd, \"관할_사건_대상자명.xlsx\")).fillna(\"\")"
   ]
  },
  {
   "cell_type": "code",
   "execution_count": 21,
   "metadata": {},
   "outputs": [
    {
     "data": {
      "text/plain": [
       "153552"
      ]
     },
     "execution_count": 21,
     "metadata": {},
     "output_type": "execute_result"
    }
   ],
   "source": [
    "names = tuple(df_court_event.대상자명)\n",
    "len(names)"
   ]
  },
  {
   "cell_type": "code",
   "execution_count": 18,
   "metadata": {},
   "outputs": [
    {
     "data": {
      "text/plain": [
       "'윤 정 장태선'"
      ]
     },
     "execution_count": 18,
     "metadata": {},
     "output_type": "execute_result"
    }
   ],
   "source": [
    "name = \"윤 정,장태선\"\n",
    "new_name = re.sub(r\"주식회사|유한회사|법인|(의\\s?)?대표|(의\\s?)?(대표)?\\s?청산인|(의\\s?)?(?<!신용)보증인?|망\\b|(의\\s?)?(상속인|승계인)|\\b차주\\b|채무자|형제|자매|\\b[주유합자]\\b|\\([주유합자]|[주유합자]\\)|외\\s?\\d.*\", \"\", name)#이름이 주식인 사람 있음..\n",
    "new_name = re.sub(r\"[^가-힣a-zA-Z]\", \" \", new_name).strip() #기호가 앞에 나오면 지우질 않음\n",
    "new_name"
   ]
  },
  {
   "cell_type": "code",
   "execution_count": 24,
   "metadata": {},
   "outputs": [
    {
     "name": "stderr",
     "output_type": "stream",
     "text": [
      "100%|██████████| 153552/153552 [00:01<00:00, 102359.52it/s]\n"
     ]
    }
   ],
   "source": [
    "res, isfixed, whatfixed = [], [], []\n",
    "for name in tqdm(names, total = len(names)) : \n",
    "    \n",
    "    new_name = re.sub(r\"주식회사|유한회사|법인|(의\\s?)?대표|(의\\s?)?(대표)?\\s?청산인|(의\\s?)?(?<!신용)보증인?|\\b망\\b|(의\\s?)?(상속인|승계인)|\\b차주\\b|채무자|형제|자매|\\b[주유합자]\\b|\\([주유합자]|[주유합자]\\)|외\\s?\\d.*\", \"\", name)#이름이 주식인 사람 있음..\n",
    "    new_name = re.sub(r\"[^가-힣a-zA-Z]\", \" \", new_name).strip() #기호가 앞에 나오면 지우질 않음\n",
    "    \n",
    "    spaceSplitList = new_name.split(\" \") # 기호는 공백으로 바꿨으니 공백기준\n",
    "\n",
    "    if len(spaceSplitList[0]) >= 2 : # 공백분리 후 첫 요소의 글자수가 2개 이상인 것\n",
    "        resultName = spaceSplitList[0]\n",
    "    # 합쳐야 하는 것 ex) 윤 정 장태선 > 윤정\n",
    "    elif len(spaceSplitList)>0 : # 2글자가 안 되는데 합칠 것도 없는 경우\n",
    "        i = 0\n",
    "        resultName = \"\"\n",
    "        while len(spaceSplitList[i])<2 : # 글자수 하나인 경우 계속 합치기\n",
    "            resultName += spaceSplitList[i]\n",
    "            i += 1\n",
    "            if i >= len(spaceSplitList) : break\n",
    "    else : # 빈값\n",
    "        resultName = new_name\n",
    "\n",
    "\n",
    "    # 결과가 2글자가 안 되는 경우 : 원래 대상자명 그대로..\n",
    "    if len(resultName) < 2 :\n",
    "        resultName = name\n",
    "\n",
    "    res.append(resultName)\n",
    "    isfixed.append(len(name) - len(resultName))\n",
    "    whatfixed.append(re.sub(resultName, \"\", name))\n",
    "\n",
    "df_court_event[\"수정대상자명\"] = res\n",
    "df_court_event[\"수정여부\"] = isfixed\n",
    "df_court_event[\"제거명칭\"] = whatfixed\n",
    "\n",
    "df_court_event.to_excel(join(pwd, \"관할_사건_대상자명.xlsx\"), index=False)"
   ]
  },
  {
   "cell_type": "code",
   "execution_count": null,
   "metadata": {},
   "outputs": [],
   "source": [
    "df_court_event[df_court_event[\"대상자명\"].str.contains(r\"회사\")]\n"
   ]
  },
  {
   "cell_type": "code",
   "execution_count": null,
   "metadata": {},
   "outputs": [],
   "source": [
    "# 엑셀파일 저장\n",
    "df_court_event.to_excel(join(pwd, \"관할_사건_대상자명.xlsx\"), index=False)"
   ]
  }
 ],
 "metadata": {
  "kernelspec": {
   "display_name": "base",
   "language": "python",
   "name": "python3"
  },
  "language_info": {
   "codemirror_mode": {
    "name": "ipython",
    "version": 3
   },
   "file_extension": ".py",
   "mimetype": "text/x-python",
   "name": "python",
   "nbconvert_exporter": "python",
   "pygments_lexer": "ipython3",
   "version": "3.9.13"
  },
  "orig_nbformat": 4,
  "vscode": {
   "interpreter": {
    "hash": "38d617750889899e5f2f65cac6f27a322f361a63d334879a800ee5491961f90c"
   }
  }
 },
 "nbformat": 4,
 "nbformat_minor": 2
}
