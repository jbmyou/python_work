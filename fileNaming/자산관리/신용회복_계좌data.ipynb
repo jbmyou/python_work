{
 "cells": [
  {
   "cell_type": "markdown",
   "metadata": {},
   "source": [
    "#### 계좌새창, 보증인새창으로 신용회복 업무대장 data시트 작성"
   ]
  },
  {
   "cell_type": "code",
   "execution_count": 2,
   "metadata": {},
   "outputs": [],
   "source": [
    "import pandas as pd\n",
    "import os \n",
    "from os.path import join\n",
    "import pickle\n",
    "import re\n",
    "\n",
    "\n",
    "def 파일명(폴더:str, 키워드:str, 부정키워드=\"\") :\n",
    "    file_list = os.listdir(폴더)\n",
    "    if 부정키워드 == \"\" : \n",
    "        fn = [file for file in file_list if re.search(키워드, file)]\n",
    "    else : \n",
    "        fn = [file for file in file_list if (re.search(키워드, file)!=None) & (re.search(부정키워드,file)==None)]\n",
    "    if len(fn) == 1 :\n",
    "        return join(폴더,fn[0])\n",
    "    else :\n",
    "        print(\"조건을 만족하는 파일이 둘 이상입니다.\")"
   ]
  },
  {
   "cell_type": "code",
   "execution_count": 7,
   "metadata": {},
   "outputs": [],
   "source": [
    "##############################\n",
    "company = \"대성\"\n",
    "base_date = \"240430\"\n",
    "##############################\n",
    "wd = join(r\"D:\\3.자산\\전산 dataset\",company, base_date,\"pkl\")\n",
    "fn_account = 파일명(wd, \"계좌조회새창\")\n",
    "fn_grt = 파일명(wd, \"보증인새창\", \"새보증인상태\")\n",
    "\n",
    "account = pd.read_pickle(join(wd, fn_account))\n",
    "grt = pd.read_pickle(join(wd, fn_grt))"
   ]
  },
  {
   "cell_type": "code",
   "execution_count": 8,
   "metadata": {},
   "outputs": [],
   "source": [
    "# 솔림 - 대성 - 솔림 중 새로 채무자키 부여한 거 제거\n",
    "if company == \"솔림\" : \n",
    "    삭제할채무자키 = [\"20434444\",\"20434445\",\"20428465\",\"20413796\",\"20552818\",\"20495098\",\"20495130\"]\n",
    "\n",
    "    account = account.query('채무자키 not in(@삭제할채무자키)')\n",
    "    grt = grt.query('채무자키 not in(@삭제할채무자키)')\n",
    "else : pass"
   ]
  },
  {
   "cell_type": "code",
   "execution_count": 9,
   "metadata": {},
   "outputs": [],
   "source": [
    "# data 작성\n",
    "data_acc = account.loc[:,[\"채무자키\", \"채무자주민번호\", \"계좌번호\", \"채무자명\", \"계좌키\"]].rename(columns={\"채무자주민번호\":\"주민번호\", \"채무자명\":\"이름\"})\n",
    "data_acc[\"보증인키\"] = \"\"\n",
    "data_acc[\"채무구분\"] = \"차주\"\n",
    "\n",
    "data_grt = grt.loc[:,[\"채무자키\",\"주민번호인\",\"계좌번호\", \"보증인성명인\", \"계좌키\", \"보증인키\"]].rename(columns={\"주민번호인\":\"주민번호\",\"보증인성명인\":\"이름\"})\n",
    "data_grt[\"채무구분\"] = \"보증인\"\n",
    "\n",
    "data = pd.concat([data_acc,data_grt], axis=0, ignore_index=True)\n",
    "\n",
    "# 주민번호 없는 거 index로 대체---, * 있는 거는 모두 index로 대체할까하다 중복값 없길래 말았음\n",
    "data.loc[data[data.주민번호 == \"\"].index, \"이름\"] = str(data[data.주민번호 == \"\"].index)\n",
    "\n",
    "# 주민번호별 고유채무자키수\n",
    "고유채무자키수 = data.groupby('주민번호')['채무자키'].nunique()\n",
    "# 주민번호별 채무자키의 고유한 개수를 \"고유채무자키수\" 열에 매핑합니다.\n",
    "data['고유채무자키수'] = data['주민번호'].map(고유채무자키수)\n",
    "\n",
    "# 채무자키별 고유계좌수\n",
    "고유계좌수 = data.groupby('채무자키')['계좌키'].nunique()\n",
    "data[\"채무자키별고유계좌수\"] = data['채무자키'].map(고유계좌수)\n",
    "\n",
    "# 풀, 신탁, 수취계좌 (안씀)\n",
    "data[[\"풀\", \"신탁\", \"수취계좌\"]] = \"\"\n",
    "\n",
    "# 주민+계좌번호별 고유 계좌수\n",
    "data[\"주민+계좌\"] = data[\"주민번호\"] + data[\"계좌번호\"]\n",
    "주민계좌별고유계좌수 = data.groupby('주민+계좌')['계좌키'].nunique()\n",
    "data[\"주민+계좌별 고유 계좌키수\"] = data[\"주민+계좌\"].map(주민계좌별고유계좌수)\n",
    "\n",
    "# 원채권사, 매각사구분 - 계좌키 중복이어도 문제 없는 거 확인함\n",
    "data = data.merge(account.loc[:,[\"계좌키\", \"원채권사\", \"매각사구분\"]], on=\"계좌키\", how=\"left\")\n",
    "\n",
    "# 주민번호 총 계좌수\n",
    "주민번호고유계좌수 = data.groupby('주민번호')['계좌키'].nunique()\n",
    "data[\"주민번호총계좌수\"] = data[\"주민번호\"].map(주민번호고유계좌수)"
   ]
  },
  {
   "cell_type": "code",
   "execution_count": 10,
   "metadata": {},
   "outputs": [],
   "source": [
    "data.to_excel(join(r\"C:\\Users\\DATA\\Desktop\", company+\"data.xlsx\"), index=False)"
   ]
  }
 ],
 "metadata": {
  "kernelspec": {
   "display_name": "py_39",
   "language": "python",
   "name": "python3"
  },
  "language_info": {
   "codemirror_mode": {
    "name": "ipython",
    "version": 3
   },
   "file_extension": ".py",
   "mimetype": "text/x-python",
   "name": "python",
   "nbconvert_exporter": "python",
   "pygments_lexer": "ipython3",
   "version": "3.9.18"
  }
 },
 "nbformat": 4,
 "nbformat_minor": 2
}
