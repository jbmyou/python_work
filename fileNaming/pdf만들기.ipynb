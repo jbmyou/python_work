{
 "cells": [
  {
   "cell_type": "code",
   "execution_count": 1,
   "metadata": {},
   "outputs": [],
   "source": [
    "import os\n",
    "from os.path import join\n",
    "import re\n",
    "from tqdm import tqdm\n",
    "from file_function import write_log_csv_upload\n",
    "from PIL import Image, ImageSequence\n",
    "# PyPDF : pdf를 대상으로 (pdf > img는 되나, img > pdf는 안 됨)\n",
    "from PyPDF2 import PdfFileReader, PdfFileWriter\n",
    "\n",
    "path_success_log = r'D:\\0.전산\\1.진행중과업\\파일서버개편\\구스캔폴더 작업log\\success'"
   ]
  },
  {
   "cell_type": "markdown",
   "metadata": {},
   "source": [
    "### pillow 여러 폴더 작업"
   ]
  },
  {
   "cell_type": "code",
   "execution_count": 17,
   "metadata": {},
   "outputs": [
    {
     "name": "stdout",
     "output_type": "stream",
     "text": [
      "20407804 <class 'str'>\n"
     ]
    }
   ],
   "source": [
    "#### csv읽어서 재작업\n",
    "# import pandas as pd\n",
    "# df = pd.read_csv(r\"D:\\업로드완료\\광주 모음 대출원장 티와이1\\20221117 175127_319_파일병합 실패.csv\", header=None)\n",
    "# df.columns = [\"root\", \"dir\", \"1\"]\n",
    "# df.dir = df.dir.astype(\"str\")\n",
    "# dir_list = list(df.dir)\n",
    "# path = r\"D:\\업로드완료\\광주 모음 대출원장 티와이1\"\n",
    "# print(dir_list[0], type(dir_list[0]))\n",
    "# for d in dir_list :\n",
    "#     temp = [x.name for x in os.scandir(join(path, d)) if x.is_file()]\n",
    "#     if len(temp) != 0 :\n",
    "#         print(d)"
   ]
  },
  {
   "cell_type": "markdown",
   "metadata": {},
   "source": [
    "##### 전처리 "
   ]
  },
  {
   "cell_type": "code",
   "execution_count": 6,
   "metadata": {},
   "outputs": [
    {
     "name": "stdout",
     "output_type": "stream",
     "text": [
      "log 파일이 비어있습니다. path : D:\\구 스캔파일\\서울\\! 채권별 스캔본 (한울가람, 9001~)\\! 채권별 스캔본 (한울가람, 9001~)(스캔파일)\\25.퀀텀_솔림헬프\\5.매각사측 수령 스캔본\\매각사측 원인서류 스캔본\n"
     ]
    }
   ],
   "source": [
    "# pdf 파일 이름 바꿔 별도로 옮기기\n",
    "############################################\n",
    "path = r\"D:\\구 스캔파일\\서울\\! 채권별 스캔본 (한울가람, 9001~)\\! 채권별 스캔본 (한울가람, 9001~)(스캔파일)\\25.퀀텀_솔림헬프\\5.매각사측 수령 스캔본\\매각사측 원인서류 스캔본\"\n",
    "addInfo = \"서울 채권별 25.퀀텀 5.매각사 원인\"\n",
    "dst_dir = join(r\"D:\\업로드완료\", addInfo, \"pdf파일만\")\n",
    "############################################\n",
    "if not os.path.exists(dst_dir) : os.makedirs(dst_dir)\n",
    "\n",
    "success, fail = [], []\n",
    "p_extension = re.compile('pdf$', re.I)\n",
    "for r, ds, fs in tqdm(os.walk(path)) :\n",
    "    for f in fs :\n",
    "        if p_extension.search(f) :\n",
    "            try :\n",
    "                stem, ext = os.path.splitext(f)\n",
    "                new_stem = os.path.split(r)[1] + \" \" + stem\n",
    "                new_name = new_stem + ext\n",
    "                cnt = 0\n",
    "                while os.path.exists(join(dst_dir, new_name)) :\n",
    "                    cnt += 1\n",
    "                    new_name = new_stem + \" (\" + str(cnt) + \")\" + ext\n",
    "\n",
    "                os.rename(join(r, f), join(dst_dir, new_name))\n",
    "                success.append([r, f, dst_dir, new_name])\n",
    "            except Exception as e :\n",
    "                fail.append([r, f, e.__class__, e])\n",
    "                continue\n",
    "write_log_csv_upload(success, path_success_log, addInfo + \"pdf파일만\")\n",
    "write_log_csv_upload(fail, path, \"pdf파일만-이동 실패\")"
   ]
  },
  {
   "cell_type": "code",
   "execution_count": 3,
   "metadata": {},
   "outputs": [],
   "source": [
    "# 이미지 아닌 파일 있는지 확인\n",
    "path = r\"D:\\구 스캔파일\\서울\\! 채권별 스캔본 (한울가람, 9001~)\\! 채권별 스캔본 (한울가람, 9001~)(스캔파일)\\25.퀀텀_솔림헬프\\5.매각사측 수령 스캔본\\매각사측 원인서류 스캔본\"\n",
    "p_extension = re.compile('(jpeg|jpg|bmp|gif|png|tif|tiff)$', re.I) \n",
    "for r, ds, fs in os.walk(path) :\n",
    "    for f in fs :\n",
    "        if p_extension.search(f) == None :\n",
    "            print(r, f)"
   ]
  },
  {
   "attachments": {},
   "cell_type": "markdown",
   "metadata": {},
   "source": [
    "##### 일반(walk, 폴더내의 여러 img파일을 하나의 pdf만들기)"
   ]
  },
  {
   "cell_type": "code",
   "execution_count": 9,
   "metadata": {},
   "outputs": [
    {
     "name": "stderr",
     "output_type": "stream",
     "text": [
      "100%|██████████| 472/472 [14:03<00:00,  1.79s/it] "
     ]
    },
    {
     "name": "stdout",
     "output_type": "stream",
     "text": [
      "117 개 누수\n",
      "전체 : 472개, 파일변환 : 244개, 실패111개, 빈폴더0개\n",
      "0개 이미지 아닌 파일 있음\n"
     ]
    },
    {
     "name": "stderr",
     "output_type": "stream",
     "text": [
      "\n"
     ]
    }
   ],
   "source": [
    "############################################\n",
    "path = r\"D:\\구 스캔파일\\서울\\! 채권별 스캔본 (한울가람, 9001~)\\! 채권별 스캔본 (한울가람, 9001~)(스캔파일)\\25.퀀텀_솔림헬프\\5.매각사측 수령 스캔본\\매각사측 원인서류 스캔본\"\n",
    "path_out = path\n",
    "p_extension = re.compile('(jpeg|jpg|bmp|gif|png|tif|tiff)$', re.I) \n",
    "addInfo = \"서울 채권별 25.퀀텀 5.매각사 원인 (img2pdf) 10802102~\"\n",
    "add_file_name = \" 기타 매각사자료모음\" # 앞공백 추가\n",
    "############################################\n",
    "path_success_log = r'D:\\0.전산\\1.진행중과업\\파일서버개편\\구스캔폴더 작업log\\success'\n",
    "path_fail_log = path\n",
    "dir_list = [d.name for d in os.scandir(path) if d.is_dir()] # 에러폴더 만들기 전에 \n",
    "total=len(dir_list)\n",
    "\n",
    "success, fail, notImg, onePage, = [], [], [], []\n",
    "empthFolder = 0\n",
    "\n",
    "for dir in tqdm(dir_list, total=total) :\n",
    "    if int(dir) >= 10802102 :\n",
    "        image = None # 폴더별로 초기화\n",
    "        path_img_list = []\n",
    "        file_list = [x.name for x in os.scandir(join(path, dir)) if x.is_file()]\n",
    "        for f in file_list :\n",
    "            if p_extension.search(f) :\n",
    "                ## 짝수페이지 버리기 #######\n",
    "                # num = int(re.search(r\"(?<=_)\\d{4,4}\", f).group())\n",
    "                # if num % 2 != 0 :\n",
    "                ###########################\n",
    "                path_img_list.append(join(path, dir, f))\n",
    "            else :\n",
    "                notImg.append([path, dir, f])\n",
    "\n",
    "        images = []\n",
    "        if len(path_img_list) > 0 :\n",
    "            for path_image in path_img_list :\n",
    "                try :\n",
    "                    image = Image.open(join(path_image))\n",
    "                except Exception as e:\n",
    "                    fail.append([path_image, e.__class__, \"open 에러 확장자 변경해봐\"])\n",
    "                    continue # 손상 파일 제외(손상파일 맞는지 수동 확인)\n",
    "\n",
    "                for i, page in enumerate(ImageSequence.Iterator(image)):\n",
    "                    try : \n",
    "                        # page.mode != \"RGB\" 넣으면 images.append를 어디에 놓던 이상하게 에러 난다.(페이지 반복)\n",
    "                        page = page.convert(\"RGB\") \n",
    "                        images.append(page)\n",
    "                    except Exception as e:\n",
    "                        fail.append([path_image, e.__class__, \"rgb convert에러\"])\n",
    "                        continue\n",
    "\n",
    "            if len(images) > 0 :\n",
    "                # 파일명 ###############################\n",
    "                new_stem = dir + add_file_name\n",
    "                new_name = new_stem + \".pdf\"\n",
    "                output = join(path_out, new_name) # 저장파일 전체경로\n",
    "                sn = 0\n",
    "                while os.path.exists(output) :\n",
    "                    sn += 1\n",
    "                    new_name = new_stem + \" (\" + str(sn) + \")\"+ \".pdf\"\n",
    "                    output = join(path_out, new_name)\n",
    "                try :\n",
    "                    if len(images) == 1:\n",
    "                        images[0].save(output)\n",
    "                    else:\n",
    "                        images[0].save(output, save_all=True, append_images=images[1:])\n",
    "                    success.append([path, dir, output])\n",
    "                except Exception as e : \n",
    "                    fail.append([path, dir, e.__class__, \"저장 에러\"])\n",
    "        else : empthFolder += 1\n",
    "\n",
    "\n",
    "loss = total - len(success) -len(fail) - empthFolder # 폴더 수 - PDF만든거 - pdf못 만든거\n",
    "print(loss, \"개 누수\")\n",
    "print(f\"전체 : {total}개, 파일변환 : {len(success)}개, 실패{len(fail)}개, 빈폴더{empthFolder}개\")\n",
    "print(f\"{len(notImg)}개 이미지 아닌 파일 있음\")\n",
    "\n",
    "write_log_csv_upload(success, path_success_log, addInfo)\n",
    "write_log_csv_upload(fail, path_fail_log, \"파일병합 실패\" + addInfo)\n",
    "        "
   ]
  },
  {
   "cell_type": "code",
   "execution_count": 7,
   "metadata": {},
   "outputs": [
    {
     "name": "stdout",
     "output_type": "stream",
     "text": [
      "10802101 LA17120236_2015000181LA17120236001.tif D:\\구 스캔파일\\서울\\! 채권별 스캔본 (한울가람, 9001~)\\! 채권별 스캔본 (한울가람, 9001~)(스캔파일)\\25.퀀텀_솔림헬프\\5.매각사측 수령 스캔본\\매각사측 원인서류 스캔본\\10802101\\LA17120236_100600019120171212남정명(동경야시장).tif\n"
     ]
    }
   ],
   "source": [
    "print(dir, f, path_image)"
   ]
  },
  {
   "cell_type": "code",
   "execution_count": 8,
   "metadata": {},
   "outputs": [],
   "source": [
    "write_log_csv_upload(success, path_success_log, addInfo+\"~10802100\")\n",
    "write_log_csv_upload(fail, path_fail_log, \"파일병합 실패~10802100\")"
   ]
  },
  {
   "cell_type": "markdown",
   "metadata": {},
   "source": [
    "##### 특정 파일명만 골라 작업하기"
   ]
  },
  {
   "cell_type": "code",
   "execution_count": 22,
   "metadata": {},
   "outputs": [],
   "source": [
    "# 오류 없다는 가정으로 로그 안 만들었음... 주의!!\n",
    "###########################################\n",
    "path = r\"D:\\구 스캔파일\\서울\\! 채권별 스캔본 (한울가람, 9001~)\\! 채권별 스캔본 (한울가람, 9001~)(스캔파일)\\20.(9019) (유)우담자산관리대부_솔림헬프\\2.원인서류(대출신청서)\\1. 원인서류 전체 (파일명 변경완료)\\에러\"\n",
    "p = re.compile(\"원인서류\") # match\n",
    "###########################################\n",
    "for root, dirs, files in os.walk(path) :\n",
    "    for f in files :\n",
    "        if p.match(\"원인서류\", f) :\n",
    "            stem, ext = os.path.splitext(f)\n",
    "            images = []\n",
    "            image = Image.open(join(root, f))   # 1. 이미지 읽기\n",
    "            for i, page in enumerate(ImageSequence.Iterator(image)): \n",
    "                page = page.convert(\"RGB\") # 2. 이미지 convert\n",
    "                images.append(page) # 3. convert된 이미지를 리스트에 저장\n",
    "\n",
    "            new_stem = os.path.split(root)[-1]\n",
    "            output = join(path, new_stem + \".pdf\")\n",
    "            if len(images) == 1: # 4. images[0]을 저장. save_all과 append_images 속성으로 다음페이지 붙여 저장\n",
    "                images[0].save(output)\n",
    "            else:\n",
    "                images[0].save(output, save_all=True,append_images=images[1:]) # pdf_path 는 마지막 tiff파일명으로 대체\n",
    "\n",
    "            image.close()\n",
    "            os.rename(join(root, f), join(path, \"원인서류 원본\", new_stem + ext))"
   ]
  },
  {
   "cell_type": "markdown",
   "metadata": {},
   "source": [
    "##### 통합 완료한 img 파일 지우기/옮기기"
   ]
  },
  {
   "cell_type": "code",
   "execution_count": 2,
   "metadata": {},
   "outputs": [
    {
     "name": "stderr",
     "output_type": "stream",
     "text": [
      "100%|██████████| 928/928 [18:47<00:00,  1.22s/it] \n"
     ]
    },
    {
     "name": "stdout",
     "output_type": "stream",
     "text": [
      "151237개 이미지 파일 삭제, 0개 이미지 파일 삭제 실패\n",
      "pdf파일은 총 902개여야 함\n",
      "log 파일이 비어있습니다. path : D:\\구 스캔파일\\광주 공유폴더\\모음\\대출원장\\티와이머니_2 원인서류 이미지\n"
     ]
    }
   ],
   "source": [
    "# 지우기\n",
    "############################################\n",
    "path = r\"D:\\구 스캔파일\\광주 공유폴더\\모음\\대출원장\\티와이머니_2 원인서류 이미지\"\n",
    "path_dst_base = r\"D:\\업로드완료\\광주 모음 대출원장 티와이_2원인 img파일\"\n",
    "p_extension = re.compile('(jpeg|jpg|bmp|gif|png|tif|tiff)$', re.I) \n",
    "addInfo = \"광주 모음 대출원장 티와이_2원인 img삭제\"\n",
    "#add_file_name = \"A\"\n",
    "############################################\n",
    "path_success_log = r'D:\\0.전산\\1.진행중과업\\파일서버개편\\구스캔폴더 작업log\\success'\n",
    "path_fail_log = path\n",
    "success, fail = [], []\n",
    "\n",
    "dir_list = [d.name for d in os.scandir(path) if d.is_dir()]\n",
    "total=len(dir_list)\n",
    "pdf_count = 0\n",
    "for d in tqdm(dir_list, total=total) :\n",
    "    path_img_list = []\n",
    "    file_list = [x.name for x in os.scandir(join(path, d)) if x.is_file()]\n",
    "    add_pdf_count = False\n",
    "    for f in file_list :\n",
    "        if p_extension.search(f) :\n",
    "            add_pdf_count = True\n",
    "            try :\n",
    "                # os.remove(join(path, d, f))\n",
    "                dst_dir = join(path_dst_base, d, \"B\") #################\n",
    "                if not os.path.exists(dst_dir) :\n",
    "                    os.makedirs(dst_dir)\n",
    "                os.rename(join(path, d, f), join(dst_dir, f))\n",
    "                success.append([path, d, f])\n",
    "            except Exception as e :\n",
    "                fail.append([path, d, f, e.__class__])   ################### 에러 있는 폴더를 에러 폴더로 모으는 코드 작성\n",
    "                pass\n",
    "    if add_pdf_count :\n",
    "        pdf_count += 1\n",
    "\n",
    "print(f\"{len(success)}개 이미지 파일 삭제, {len(fail)}개 이미지 파일 삭제 실패\")\n",
    "print(f\"pdf파일은 총 {pdf_count}개여야 함\")\n",
    "\n",
    "write_log_csv_upload(success, path_success_log, addInfo)\n",
    "write_log_csv_upload(fail, path_fail_log, \"img파일 삭제 실패\")"
   ]
  },
  {
   "attachments": {},
   "cell_type": "markdown",
   "metadata": {},
   "source": [
    "### 단일 폴더"
   ]
  },
  {
   "cell_type": "markdown",
   "metadata": {},
   "source": [
    "##### 여러 img파일을 하나의 pdf로"
   ]
  },
  {
   "cell_type": "code",
   "execution_count": 16,
   "metadata": {},
   "outputs": [],
   "source": [
    "# 폴더내 이미지 파일 하나로 합치기. path에 생성\n",
    "############################################\n",
    "path = r\"D:\\구 스캔파일\\서울\\! 채권별 스캔본 (한울가람, 9001~)\\! 채권별 스캔본 (한울가람, 9001~)(스캔파일)\\20.(9019) (유)우담자산관리대부_솔림헬프\\2.원인서류(대출신청서)\"\n",
    "add_file_name = path.split(os.path.sep)[-1] + \" 원인서류 여타매각사자료포함\"\n",
    "############################################\n",
    "p_extension = re.compile('(jpeg|jpg|bmp|gif|png|tif|tiff)$', re.I) \n",
    "\n",
    "img_list = [join(path, f) for f in os.listdir(path) if p_extension.search(f)]\n",
    "\n",
    "output = join(path, \"20466036 이화준 기타 매각사자료\"+ \".pdf\")\n",
    "if os.path.exists(output) :\n",
    "    sn = 0\n",
    "    while os.path.exists(output) :\n",
    "        sn += 1\n",
    "        output = join(path, add_file_name + str(sn) + \".pdf\")\n",
    "\n",
    "images = []\n",
    "for path_image in img_list :\n",
    "    \n",
    "    image = Image.open(path_image)   # 1. 이미지 읽기\n",
    "    \n",
    "    for i, page in enumerate(ImageSequence.Iterator(image)): \n",
    "        page = page.convert(\"RGB\") # 2. 이미지 convert\n",
    "        images.append(page) # 3. convert된 이미지를 리스트에 저장\n",
    "\n",
    "if len(images) == 1: # 4. images[0]을 저장. save_all과 append_images 속성으로 다음페이지 붙여 저장\n",
    "    images[0].save(output)\n",
    "else:\n",
    "    images[0].save(output, save_all=True,append_images=images[1:]) # pdf_path 는 마지막 tiff파일명으로 대체"
   ]
  },
  {
   "attachments": {},
   "cell_type": "markdown",
   "metadata": {},
   "source": [
    "##### 여러 img파일을 각각 pdf로"
   ]
  },
  {
   "cell_type": "code",
   "execution_count": 3,
   "metadata": {},
   "outputs": [
    {
     "name": "stderr",
     "output_type": "stream",
     "text": [
      "100%|██████████| 59/59 [00:09<00:00,  6.32it/s]\n"
     ]
    },
    {
     "ename": "NameError",
     "evalue": "name 'addInfo' is not defined",
     "output_type": "error",
     "traceback": [
      "\u001b[1;31m---------------------------------------------------------------------------\u001b[0m",
      "\u001b[1;31mNameError\u001b[0m                                 Traceback (most recent call last)",
      "\u001b[1;32m~\\AppData\\Local\\Temp\\ipykernel_27596\\4130924948.py\u001b[0m in \u001b[0;36m<cell line: 34>\u001b[1;34m()\u001b[0m\n\u001b[0;32m     32\u001b[0m         \u001b[0mfail\u001b[0m\u001b[1;33m.\u001b[0m\u001b[0mappend\u001b[0m\u001b[1;33m(\u001b[0m\u001b[1;33m[\u001b[0m\u001b[0mpath\u001b[0m\u001b[1;33m,\u001b[0m \u001b[0mf\u001b[0m\u001b[1;33m,\u001b[0m \u001b[0merr_dir\u001b[0m\u001b[1;33m,\u001b[0m \u001b[0mf\u001b[0m\u001b[1;33m,\u001b[0m \u001b[0me\u001b[0m\u001b[1;33m.\u001b[0m\u001b[0m__class__\u001b[0m\u001b[1;33m,\u001b[0m \u001b[0me\u001b[0m\u001b[1;33m]\u001b[0m\u001b[1;33m)\u001b[0m\u001b[1;33m\u001b[0m\u001b[1;33m\u001b[0m\u001b[0m\n\u001b[0;32m     33\u001b[0m \u001b[1;33m\u001b[0m\u001b[0m\n\u001b[1;32m---> 34\u001b[1;33m \u001b[0mwrite_log_csv_upload\u001b[0m\u001b[1;33m(\u001b[0m\u001b[0msuccess\u001b[0m\u001b[1;33m,\u001b[0m \u001b[0mpath_success_log\u001b[0m\u001b[1;33m,\u001b[0m \u001b[0maddInfo\u001b[0m\u001b[1;33m)\u001b[0m\u001b[1;33m\u001b[0m\u001b[1;33m\u001b[0m\u001b[0m\n\u001b[0m\u001b[0;32m     35\u001b[0m \u001b[0mwrite_log_csv_upload\u001b[0m\u001b[1;33m(\u001b[0m\u001b[0mfail\u001b[0m\u001b[1;33m,\u001b[0m \u001b[0mpath\u001b[0m\u001b[1;33m,\u001b[0m \u001b[1;34m\"에러\"\u001b[0m\u001b[1;33m)\u001b[0m\u001b[1;33m\u001b[0m\u001b[1;33m\u001b[0m\u001b[0m\n",
      "\u001b[1;31mNameError\u001b[0m: name 'addInfo' is not defined"
     ]
    }
   ],
   "source": [
    "############################################\n",
    "path = r\"D:\\구 스캔파일\\서울\\! 채권별 스캔본 (한울가람, 9001~)\\! 채권별 스캔본 (한울가람, 9001~)(스캔파일)\\20.(9019) (유)우담자산관리대부_솔림헬프\\2.원인서류(대출신청서)\"\n",
    "addInfo = \"서울 채권별 20.우담 2.원인 리드~한투 (img2pdf)\"\n",
    "############################################\n",
    "success, fail = [], []\n",
    "p_extension = re.compile('(jpeg|jpg|bmp|gif|png|tif|tiff)$', re.I) \n",
    "file_list = [f for f in os.listdir(path) if p_extension.search(f)]\n",
    "err_dir = join(path, \"에러\")\n",
    "output_dir = join(path, \"pdf번환\")\n",
    "if not os.path.exists(err_dir) : os.mkdir(err_dir)\n",
    "if not os.path.exists(output_dir) : os.mkdir(output_dir)\n",
    "\n",
    "for f in tqdm(file_list, total=len(file_list)):\n",
    "    try :\n",
    "        stem, ext = os.path.splitext(f)\n",
    "        images = []\n",
    "        image = Image.open(join(path, f))   \n",
    "\n",
    "        for i, page in enumerate(ImageSequence.Iterator(image)): \n",
    "            page = page.convert(\"RGB\") \n",
    "            images.append(page) \n",
    "\n",
    "        output = join(output_dir, stem + \".pdf\")\n",
    "        if len(images) == 1: \n",
    "            images[0].save(output)\n",
    "        else:\n",
    "            images[0].save(output, save_all=True, append_images=images[1:]) \n",
    "        success.append([path, f, output])\n",
    "        image.close()\n",
    "    except Exception as e :\n",
    "        image.close()\n",
    "        os.rename(join(path, f), join(err_dir, f))\n",
    "        fail.append([path, f, err_dir, f, e.__class__, e])\n",
    "\n",
    "write_log_csv_upload(success, path_success_log, addInfo)\n",
    "write_log_csv_upload(fail, path, \"에러\")        "
   ]
  },
  {
   "cell_type": "markdown",
   "metadata": {},
   "source": [
    "### pdf파일 페이지 쪼개기"
   ]
  },
  {
   "cell_type": "markdown",
   "metadata": {},
   "source": [
    "##### 모든 페이지 쪼개기"
   ]
  },
  {
   "cell_type": "code",
   "execution_count": null,
   "metadata": {},
   "outputs": [],
   "source": [
    "# 단일페이지\n",
    "path = r\"D:\\구 스캔파일\\광주 공유폴더\\통합파일\\(6.케이에스자산관리대부_헬프)\\3.채권양도통지서\\펜타양통\"\n",
    "file = \"이덕윤 (망)노희순의 상속인) 550607.pdf\"\n",
    "pdfReader = PdfFileReader(join(path, file), \"rb\")\n",
    "\n",
    "# 페이지 하나씩 받아와서 저장하는 반복문\n",
    "for pageNum in range(pdfReader.numPages):\n",
    "    \n",
    "    # step3.새로 만들 pdf 객체 생성 (계속 누적되지 않기 위해 for문 안으로 넣음)\n",
    "    pdfWriter = PdfFileWriter()\n",
    "    \n",
    "    # step4.기존 PDF에서 한 페이지씩 가져오기\n",
    "    page = pdfReader.getPage(pageNum)\n",
    "    \n",
    "    # step5.위에서 가져온 페이지를 새로 만든 PDF에 붙여넣기\n",
    "    pdfWriter.addPage(page)\n",
    "\n",
    "    # step6.새로운 PDF 파일을 해당 경로('./')에 원하는 이름으로 저장\n",
    "    # (이름을 계속 다르게 해주기 위해서 f 문자열 포매팅 개념을 이용)\n",
    "    pdfWriter.write(open(join(path, f\"분할한 PDF 파일 {pageNum+1}.pdf\"), \"wb\"))"
   ]
  },
  {
   "cell_type": "code",
   "execution_count": 2,
   "metadata": {},
   "outputs": [
    {
     "name": "stderr",
     "output_type": "stream",
     "text": [
      "100%|██████████| 11/11 [00:09<00:00,  1.18it/s]"
     ]
    },
    {
     "name": "stdout",
     "output_type": "stream",
     "text": [
      "11개의 파일을 1101개의 파일로 분리 성공\n"
     ]
    },
    {
     "name": "stderr",
     "output_type": "stream",
     "text": [
      "\n"
     ]
    }
   ],
   "source": [
    "# 폴더내 모든 파일\n",
    "# 파일명 순서에 유의할 것 0으로 자릿수 채우면 정렬 잘됨(stem.zfill(자릿수))\n",
    "##########################################\n",
    "path = r\"D:\\구 스캔파일\\서울\\광주채권\\외장기본있던것\\★공유업데이트 2021.0712\\■양도통지서 스캔\\한울(전체)양도통지서(헬프매각)\\세종공평양통\\세종양도통지서(1차)\"\n",
    "addInfo = \"서울 광주채권 외장 공유업데이트 양통스캔 한울(전체) 세종 1차\"\n",
    "num = 1 #시작번호 그대로\n",
    "##########################################\n",
    "cnt = 0\n",
    "file_list = [x.name for x in os.scandir(path) if x.is_file() and re.search(\"pdf|PDF\", x.name)]\n",
    "total = len(file_list)\n",
    "#file_list\n",
    "dst_dir = join(path, \"분할\") # file_list 밑에 나와야\n",
    "if not os.path.exists(dst_dir) : os.mkdir(dst_dir)\n",
    "\n",
    "for f in tqdm(file_list, total=total) :\n",
    "    source_file = PdfFileReader(join(path, f), \"rb\")\n",
    "\n",
    "    for pageNum in range(source_file.numPages):\n",
    "        # 페이지마다 새로운 파일이니 for문 안에\n",
    "        split_file = PdfFileWriter()\n",
    "        page = source_file.getPage(pageNum)\n",
    "        split_file.addPage(page)\n",
    "\n",
    "        split_file.write(open(join(dst_dir, str(num) + \".pdf\"), \"wb\"))\n",
    "        cnt += 1\n",
    "        num += 1\n",
    "\n",
    "print(f\"{total}개의 파일을 {cnt}개의 파일로 분리 성공\")"
   ]
  },
  {
   "cell_type": "code",
   "execution_count": 13,
   "metadata": {},
   "outputs": [
    {
     "data": {
      "text/plain": [
       "['동백,새마을1(1~73) (2).pdf',\n",
       " '동백,새마을2(74~153) (2).pdf',\n",
       " '동백,새마을3(154~226) (2).pdf',\n",
       " '동백,새마을4(227~314) (2).pdf']"
      ]
     },
     "execution_count": 13,
     "metadata": {},
     "output_type": "execute_result"
    }
   ],
   "source": [
    "file_list"
   ]
  },
  {
   "cell_type": "code",
   "execution_count": 8,
   "metadata": {},
   "outputs": [
    {
     "name": "stdout",
     "output_type": "stream",
     "text": [
      "6012622\n",
      "6012623\n"
     ]
    }
   ],
   "source": [
    "num = 6012622\n",
    "if ((num == 6012622) or (num == 6012627) or (num == 6012972)) :\n",
    "    print(num)\n",
    "    num += 1\n",
    "print(num)"
   ]
  },
  {
   "cell_type": "markdown",
   "metadata": {},
   "source": [
    "##### 기준페이지에서 둘로 나누기"
   ]
  },
  {
   "cell_type": "code",
   "execution_count": null,
   "metadata": {},
   "outputs": [],
   "source": [
    "#######################################\n",
    "path = r\"D:\\구 스캔파일\\서울\\! 채권별 스캔본 (한울가람, 9001~)\\! 채권별 스캔본 (한울가람, 9001~)(스캔파일)\\20.(9019) (유)우담자산관리대부_솔림헬프\\2.원인서류(대출신청서)\\양통분리\"\n",
    "addInfo = \"서울 채권별 20.우담 2.원인 리드~한투(원인양통분리)\"\n",
    "p = re.compile(\"(\\d+)-(\\d+)\")\n",
    "#######################################\n",
    "file_list = [x.name for x in os.scandir(path) if x.is_file() and re.search(\"pdf|PDF\", x.name)]\n",
    "total = len(file_list)\n",
    "# 분리할 파일 #######################################\n",
    "base_dir = join(path, \"기타\") # file_list 밑에 나와야\n",
    "split_dir = join(path, \"원인서류\")\n",
    "if not os.path.exists(base_dir) : os.mkdir(base_dir)\n",
    "if not os.path.exists(split_dir) : os.mkdir(split_dir)\n",
    "# ########## #######################################\n",
    "success, fail = [], []\n",
    "path_fail_log = path\n",
    "\n",
    "\n",
    "for f in tqdm(file_list, total=total) : \n",
    "    try :\n",
    "        ##################### \n",
    "        source_file = PdfFileReader(join(path, f), \"rb\")\n",
    "        base_file_name = re.sub(\"원인서류\", \"기타 매각사자료\", f) # 기타\n",
    "        split_file_name = f\n",
    "\n",
    "        if p.search(f) :\n",
    "            s_num = int(p.search(f).group(1)) - 1\n",
    "            e_num = int(p.search(f).group(2)) - 1\n",
    "        # else : s_num = 1\n",
    "        # total_pages = source_file.numPages\n",
    "        # num_split = total_pages - s_num\n",
    "        else :\n",
    "            pass\n",
    "        \n",
    "        base_file = PdfFileWriter()\n",
    "        split_file = PdfFileWriter()\n",
    "\n",
    "        # 양통 추출(0~)\n",
    "        for n in range(source_file.numPages):\n",
    "            page = source_file.getPage(n)\n",
    "            if (n < s_num) or (n > e_num):\n",
    "                base_file.addPage(page)\n",
    "            else :\n",
    "                split_file.addPage(page)\n",
    "            \n",
    "        base_file.write(open(join(base_dir, base_file_name), \"wb\"))\n",
    "        split_file.write(open(join(split_dir, split_file_name), \"wb\"))\n",
    "        success.append([path, f, base_file_name, split_file_name])\n",
    "    except Exception as e :\n",
    "        fail.append([path, f, e.__class__, e])\n",
    "        continue\n",
    "\n",
    "print(f\"{total}개 중 {len(success)}개 분리성공, {len(fail)}개 분리실패\")\n",
    "write_log_csv_upload(success, path_success_log, addInfo)\n",
    "write_log_csv_upload(fail, path, \"fail\")"
   ]
  },
  {
   "attachments": {},
   "cell_type": "markdown",
   "metadata": {},
   "source": [
    "##### 페이지 범위로 분리하기 "
   ]
  },
  {
   "cell_type": "code",
   "execution_count": 6,
   "metadata": {},
   "outputs": [
    {
     "name": "stderr",
     "output_type": "stream",
     "text": [
      "  0%|          | 0/11 [00:00<?, ?it/s]Xref table not zero-indexed. ID numbers for objects will be corrected.\n",
      "Xref table not zero-indexed. ID numbers for objects will be corrected.\n",
      "Xref table not zero-indexed. ID numbers for objects will be corrected.\n",
      "Xref table not zero-indexed. ID numbers for objects will be corrected.\n",
      "Xref table not zero-indexed. ID numbers for objects will be corrected.\n",
      "Xref table not zero-indexed. ID numbers for objects will be corrected.\n",
      " 55%|█████▍    | 6/11 [00:00<00:00, 40.41it/s]Xref table not zero-indexed. ID numbers for objects will be corrected.\n",
      "Xref table not zero-indexed. ID numbers for objects will be corrected.\n",
      "Xref table not zero-indexed. ID numbers for objects will be corrected.\n",
      "Xref table not zero-indexed. ID numbers for objects will be corrected.\n",
      "100%|██████████| 11/11 [00:00<00:00, 38.82it/s]"
     ]
    },
    {
     "name": "stdout",
     "output_type": "stream",
     "text": [
      "11개 중 11개 분리성공, 0개 분리실패\n",
      "log 파일이 비어있습니다. path : D:\\구 스캔파일\\서울\\! 채권별 스캔본 (한울가람, 9001~)\\! 채권별 스캔본 (한울가람, 9001~)(스캔파일)\\20.(9019) (유)우담자산관리대부_솔림헬프\\2.원인서류(대출신청서)\\양통분리\n"
     ]
    },
    {
     "name": "stderr",
     "output_type": "stream",
     "text": [
      "\n"
     ]
    }
   ],
   "source": [
    "#######################################\n",
    "path = r\"D:\\구 스캔파일\\서울\\! 채권별 스캔본 (한울가람, 9001~)\\! 채권별 스캔본 (한울가람, 9001~)(스캔파일)\\20.(9019) (유)우담자산관리대부_솔림헬프\\2.원인서류(대출신청서)\\양통분리\"\n",
    "addInfo = \"서울 채권별 20.우담 2.원인 리드~한투(원인양통분리)\"\n",
    "p = re.compile(\"양통(\\d+)\")\n",
    "#######################################\n",
    "file_list = [x.name for x in os.scandir(path) if x.is_file() and re.search(\"pdf|PDF\", x.name)]\n",
    "total = len(file_list)\n",
    "# 분리할 파일 #######################################\n",
    "base_dir = join(path, \"원인서류\") # file_list 밑에 나와야\n",
    "split_dir = join(path, \"양통\")\n",
    "if not os.path.exists(base_dir) : os.mkdir(base_dir)\n",
    "if not os.path.exists(split_dir) : os.mkdir(split_dir)\n",
    "# ########## #######################################\n",
    "success, fail = [], []\n",
    "path_fail_log = path\n",
    "\n",
    "\n",
    "for f in tqdm(file_list, total=total) : \n",
    "    try :\n",
    "        ##################### \n",
    "        source_file = PdfFileReader(join(path, f), \"rb\")\n",
    "        base_file_name = re.sub(\"양통\\d+\", \"\", f) # 기타\n",
    "        split_file_name = re.sub(\"원인서류\", \"매입전\", f) \n",
    "\n",
    "        if p.search(f) :\n",
    "            criterion_num = int(p.search(f).group(1))\n",
    "        else : criterion_num = 1\n",
    "        total_pages = source_file.numPages\n",
    "        num_split = total_pages - criterion_num\n",
    "        \n",
    "        base_file = PdfFileWriter()\n",
    "        split_file = PdfFileWriter()\n",
    "\n",
    "        # 양통 추출(0~)\n",
    "        for n in range(total_pages):\n",
    "            page = source_file.getPage(n)\n",
    "            if n < num_split :\n",
    "                base_file.addPage(page)\n",
    "            else :\n",
    "                split_file.addPage(page)\n",
    "            \n",
    "        base_file.write(open(join(base_dir, base_file_name), \"wb\"))\n",
    "        split_file.write(open(join(split_dir, split_file_name), \"wb\"))\n",
    "        success.append([path, f, base_file_name, split_file_name])\n",
    "    except Exception as e :\n",
    "        fail.append([path, f, e.__class__, e])\n",
    "        continue\n",
    "\n",
    "print(f\"{total}개 중 {len(success)}개 분리성공, {len(fail)}개 분리실패\")\n",
    "write_log_csv_upload(success, path_success_log, addInfo)\n",
    "write_log_csv_upload(fail, path, \"fail\")"
   ]
  },
  {
   "cell_type": "markdown",
   "metadata": {},
   "source": [
    "### pdf파일 회전하기"
   ]
  },
  {
   "cell_type": "markdown",
   "metadata": {},
   "source": [
    "##### 일반"
   ]
  },
  {
   "cell_type": "code",
   "execution_count": 5,
   "metadata": {},
   "outputs": [
    {
     "name": "stderr",
     "output_type": "stream",
     "text": [
      "100%|██████████| 1/1 [00:00<00:00, 62.71it/s]\n"
     ]
    }
   ],
   "source": [
    "path = r\"D:\\구 스캔파일\\서울\\! 채권별 스캔본 (한울가람, 9001~)\\! 채권별 스캔본 (한울가람, 9001~)(스캔파일)\\24.스마트저축_솔림헬프\\1.스마트에서 파일로 준 원인서류\\초본\\새 폴더\"\n",
    "path_out = join(path, \"회전\")\n",
    "rotage_angle = 180\n",
    "\n",
    "if not os.path.exists(path_out) :\n",
    "    os.mkdir(path_out)\n",
    "\n",
    "p_extension = re.compile('pdf$', re.I) \n",
    "file_list = [f.name for f in os.scandir(path) if p_extension.search(f.name)]\n",
    "total = len(file_list)\n",
    "\n",
    "for f in tqdm(file_list, total=total) : \n",
    "    pdfReader = PdfFileReader(join(path, f), \"rb\")\n",
    "    rotated_file = PdfFileWriter()\n",
    "    total_pages = pdfReader.numPages\n",
    "\n",
    "    # 반시계방향\n",
    "    for n in range(total_pages) :\n",
    "        page = pdfReader.getPage(n)\n",
    "        page.rotateCounterClockwise(rotage_angle)\n",
    "        rotated_file.addPage(page)\n",
    "\n",
    "    rotated_file.write(open(join(path_out, f), \"wb\"))"
   ]
  },
  {
   "attachments": {},
   "cell_type": "markdown",
   "metadata": {},
   "source": [
    "##### 일부페이지(전부도 포함)"
   ]
  },
  {
   "cell_type": "code",
   "execution_count": 5,
   "metadata": {},
   "outputs": [
    {
     "name": "stderr",
     "output_type": "stream",
     "text": [
      "100%|██████████| 45/45 [00:01<00:00, 38.22it/s]"
     ]
    },
    {
     "name": "stdout",
     "output_type": "stream",
     "text": [
      "45개 중 45개 회전성공, 0개 회전실패\n",
      "log 파일이 비어있습니다. path : D:\\구 스캔파일\\서울\\! 채권별 스캔본 (한울가람, 9001~)\\! 채권별 스캔본 (한울가람, 9001~)(스캔파일)\\20.(9019) (유)우담자산관리대부_솔림헬프\\2.원인서류(대출신청서)\\상하\n"
     ]
    },
    {
     "name": "stderr",
     "output_type": "stream",
     "text": [
      "\n"
     ]
    }
   ],
   "source": [
    "#######################################\n",
    "path = r\"D:\\구 스캔파일\\서울\\! 채권별 스캔본 (한울가람, 9001~)\\! 채권별 스캔본 (한울가람, 9001~)(스캔파일)\\20.(9019) (유)우담자산관리대부_솔림헬프\\2.원인서류(대출신청서)\\상하\"\n",
    "addInfo = \"서울 채권별 20.우담 2.원인 리드~한투(회전)\"\n",
    "path_out = join(path, \"회전\")\n",
    "p = re.compile(\"상하(\\d+)\")\n",
    "rotage_angle = 180\n",
    "#######################################\n",
    "if not os.path.exists(path_out) : os.mkdir(path_out)\n",
    "success, fail = [], []\n",
    "\n",
    "p_extension = re.compile('pdf|PDF', re.I) \n",
    "\n",
    "file_list = [f.name for f in os.scandir(path) if p_extension.search(f.name)]\n",
    "total = len(file_list)\n",
    "\n",
    "for f in tqdm(file_list, total=total) : \n",
    "    try :\n",
    "        source_file = PdfFileReader(join(path, f), \"rb\")\n",
    "        rotated_file = PdfFileWriter()\n",
    "        total_pages = source_file.numPages # 실제쪽수 1 ~\n",
    "\n",
    "        if p.search(f) :\n",
    "            criterion_num = int(p.search(f).group(1))\n",
    "        else : # 전체회전\n",
    "            criterion_num = total_pages\n",
    "\n",
    "        for n in range(total_pages): # 0 ~\n",
    "            page = source_file.getPage(n)\n",
    "            if n < (total_pages-criterion_num) : \n",
    "                pass \n",
    "            else : \n",
    "                page.rotateCounterClockwise(rotage_angle)\n",
    "            rotated_file.addPage(page)\n",
    "        \n",
    "        rotated_file.write(open(join(path_out, f), \"wb\"))\n",
    "        success.append([path, f, total_pages, criterion_num, \"전체/회전페이지\"])\n",
    "    except Exception as e :\n",
    "        fail.append([path, f, e.__class__, e])\n",
    "\n",
    "print(f\"{total}개 중 {len(success)}개 회전성공, {len(fail)}개 회전실패\")\n",
    "write_log_csv_upload(success, path_success_log, addInfo)\n",
    "write_log_csv_upload(fail, path, \"fail\")"
   ]
  },
  {
   "cell_type": "code",
   "execution_count": 15,
   "metadata": {},
   "outputs": [],
   "source": [
    "import shutil\n",
    "path = r\"D:\\구 스캔파일\\서울\\! 채권별 스캔본 (한울가람, 9001~)\\! 채권별 스캔본 (한울가람, 9001~)(스캔파일)\\20.(9019) (유)우담자산관리대부_솔림헬프\\2.원인서류(대출신청서)\\에러파일\\pdf로 바꾸면 열릴 파일\"\n",
    "\n",
    "for f in os.listdir(path) :\n",
    "    if os.path.isfile(join(path, f)) :\n",
    "        stem, ext = os.path.splitext(f)\n",
    "        shutil.copy2(join(path, f), join(path, \"pdf\", stem + \".pdf\"))"
   ]
  },
  {
   "cell_type": "markdown",
   "metadata": {},
   "source": [
    "### pdf 파일 텍스트 읽기 "
   ]
  },
  {
   "cell_type": "code",
   "execution_count": 1,
   "metadata": {},
   "outputs": [
    {
     "data": {
      "text/plain": [
       "' 채 권 양 도 통 지 서  \\n수신인  :  이병창  \\n        05039  서울 광진구 자양로22길 9-5, (구의동,1층)  \\n \\n발신인 : 주식회사 솔림헬프자산관리대부  \\n         04790  서울시 성동구 성수일로77, 801호(서울숲 IT밸리)  \\n \\n본 통지서는 주식회사 KB국민카드[이하 “양도인”]와 양수인 주식회사 솔림헬프자산관리대부[이하 “양수인”]와의  \\n2021년 04월 21일자 자산양수도 계약에 따라 체결된 채권매매계약과 관련됩니다. \\n 양도인은 위 채권매매계약에 따라 2021년 04월 30일(“양도일”)자로 양수인에게 아래에 명시된 채권 및 이와 관련된 \\n모든 원금, 이자, 지연손해금 기타 이와 관련된 권리 일체(담보 혹은 보증인 있는 경우  이를 포함, 법적절차 및 기타 \\n모든권리)를 양도하였음을 알려드립니다.   \\n아울러 위 채권양도와 관련한 권리의 이전과 함께 주식회사 KB국민카드는 「신용정보의 이용 및 보호에 관한 \\n법률」제32조 7항 및 동법 시행령에 의거 채무자의 개인신용정보가  양수인인 주식회사 솔림헬프자산관리대부 (연락처 : \\n062-384-2255)에게 이전·제공하였음을 통지합니다. \\n \\n또한, 양수인은 양도대상 채권에 대하여 신용정보 이용 및 보호에 관한 법률 및 신용정보회사간 신용정보관리 규약에 의거 신용정보전산망에 등록할 수 있음을 통지하며, 향후 귀하의 채무변제 및 기타 상담은 아래 양수인 \\n연락처로 문의하여 주시기 바랍니다. \\n \\n※ 본 고지는 채무자가 신고한 최종 주소로 안내함에 따라 해당 정보를 갱신하지 않아 발생하는 불이익은 채무자에게 있습니다. \\n \\n* 양도채권명세 (기준일 : 2021년 04월 1일)                                                            (단위: 원) \\n양도기관 성함/주민번호 일련번호 미상환원금잔액 이자 가지급금 합계 \\n주식회사 \\nKB국민카드 이병창 \\n \\n600815-\\n1****** 9013107300 4,166,676 3,752,088      7,918,764 \\n9013107301 6,444,446 5,851,101      12,295,547 \\n9013107302 1,875,000 1,702,840 106,486 3,684,326 \\n9013107303 1,416,669 1,287,078      2,703,747 \\n9013107304 4,084,986 3,643,413 117,245 7,845,644 \\n9013107305 8,000,000 7,060,558      15,060,558 \\n     \\n     \\n     \\n     \\n     \\n     \\n     \\n     \\n     \\n     \\n     \\n     \\n     \\n     \\n     '"
      ]
     },
     "execution_count": 1,
     "metadata": {},
     "output_type": "execute_result"
    }
   ],
   "source": [
    "############################# 텍스트 읽기 테스트\n",
    "from PyPDF2 import PdfFileReader, PdfFileWriter\n",
    "# step2.기존 PDF 불러오기\n",
    "path = r\"D:\\구 스캔파일\\광주 공유폴더\\통합파일\\(7.KB국민카드_솔림헬프)\\3.채권양도통지서\\국민카드 양통\\광주2-4차 20통.pdf\"\n",
    "\n",
    "pdfReader = PdfFileReader(path, \"rb\")\n",
    "page = pdfReader.getPage(0)\n",
    "page.extract_text()\n",
    "\n"
   ]
  },
  {
   "cell_type": "markdown",
   "metadata": {},
   "source": [
    "### img2pdf - 에러나고 느리고 출력도 이상하니 쓰지마"
   ]
  },
  {
   "cell_type": "code",
   "execution_count": 7,
   "metadata": {},
   "outputs": [
    {
     "name": "stderr",
     "output_type": "stream",
     "text": [
      "100%|██████████| 1/1 [00:03<00:00,  3.98s/it]"
     ]
    },
    {
     "name": "stdout",
     "output_type": "stream",
     "text": [
      "0 개 누수\n",
      "전체 : 1개, 파일변환 : 1개, 실패0개\n",
      "0개 이미지 아닌 파일 있음\n"
     ]
    },
    {
     "name": "stderr",
     "output_type": "stream",
     "text": [
      "\n"
     ]
    }
   ],
   "source": [
    "import img2pdf\n",
    "### 여러장 짜리 이것도 됨\n",
    "############################################\n",
    "path = r\"C:\\Users\\SL\\Desktop\\test\"\n",
    "path_out = path\n",
    "p_extension = re.compile('(jpeg|jpg|bmp|gif|png|tif|tiff)$', re.I) \n",
    "add_file_name = \"\"\n",
    "############################################\n",
    "path_success_log = r'D:\\0.전산\\1.진행중과업\\파일서버개편\\구스캔폴더 작업log\\success'\n",
    "path_fail_log = path\n",
    "\n",
    "success = []\n",
    "fail = []\n",
    "notImg = []\n",
    "\n",
    "dir_list = [d.name for d in os.scandir(path) if d.is_dir()]\n",
    "total=len(dir_list)\n",
    "\n",
    "for d in tqdm(dir_list, total=total) :\n",
    "    if int(d[:8]) > 0 :\n",
    "        temp = []\n",
    "        file_list = os.listdir(join(path, d))\n",
    "        for f in file_list :\n",
    "            if p_extension.search(f) :\n",
    "                ########################### 짝수페이지 버리기\n",
    "                # num = int(re.search(r\"(?<=_)\\d{4,4}\", f).group())\n",
    "                # if num % 2 != 0 :\n",
    "                ###########################\n",
    "                temp.append(join(path, d, f)) # 전체경로를 저장해야 함\n",
    "                # else : continue\n",
    "            else :\n",
    "                notImg.append([path, d, f])\n",
    "                continue\n",
    "        \n",
    "        if len(temp)>0 :\n",
    "            try :\n",
    "                output = join(path_out, d + add_file_name + \".pdf\")\n",
    "                if os.path.exists(output) :\n",
    "                    sn = 0\n",
    "                    while os.path.exists(output) :\n",
    "                        sn += 1\n",
    "                        output = join(path_out, d + add_file_name + str(sn) + \".pdf\")\n",
    "\n",
    "                with open(output,\"wb\") as f:\n",
    "                    f.write(img2pdf.convert(temp))\n",
    "\n",
    "                success.append([d, output])\n",
    "            except Exception as e :\n",
    "                fail.append([path, d, e.__class__])\n",
    "\n",
    "loss = total - len(success) -len(fail) # 폴더 수 - PDF만든거 - pdf못 만든거\n",
    "print(loss, \"개 누수\")\n",
    "print(f\"전체 : {total}개, 파일변환 : {len(success)}개, 실패{len(fail)}개\")\n",
    "print(f\"{len(notImg)}개 이미지 아닌 파일 있음\")\n",
    "\n",
    "# write_log_csv_upload(success, path_success_log, \"파일병합 성공\")\n",
    "# write_log_csv_upload(fail, path_fail_log, \"파일병합 실패\")"
   ]
  },
  {
   "cell_type": "code",
   "execution_count": 37,
   "metadata": {},
   "outputs": [
    {
     "name": "stdout",
     "output_type": "stream",
     "text": [
      "27\n"
     ]
    }
   ],
   "source": [
    "cnt = 0\n",
    "for root, dirs, files in os.walk(path) :\n",
    "    for dir in dirs :\n",
    "        try :\n",
    "            os.rmdir(join(root, dir))\n",
    "            cnt += 1\n",
    "        except :\n",
    "            pass\n",
    "print(cnt)"
   ]
  },
  {
   "cell_type": "code",
   "execution_count": 19,
   "metadata": {},
   "outputs": [
    {
     "name": "stdout",
     "output_type": "stream",
     "text": [
      "0 7\n"
     ]
    }
   ],
   "source": [
    "print(len(success), len(fail))"
   ]
  },
  {
   "cell_type": "code",
   "execution_count": 7,
   "metadata": {},
   "outputs": [
    {
     "name": "stdout",
     "output_type": "stream",
     "text": [
      "['D:\\\\extraKey\\\\서울\\\\! 채권별 스캔본 (한울가람, 9001~)\\\\! 채권별 스캔본 (한울가람, 9001~)(스캔파일)\\\\22.베리타스_솔림헬프\\\\1.베리타스에서 파일로 준 원인서류', '20498815 이갑선 원인서류', '0220141270521_신용대출신청서_0001_61923136.pdf']\n",
      "['D:\\\\extraKey\\\\서울\\\\! 채권별 스캔본 (한울가람, 9001~)\\\\! 채권별 스캔본 (한울가람, 9001~)(스캔파일)\\\\22.베리타스_솔림헬프\\\\1.베리타스에서 파일로 준 원인서류', '20498815 이갑선 원인서류', '0220161031700_신용대출신청서_0001_66553331.pdf']\n",
      "['D:\\\\extraKey\\\\서울\\\\! 채권별 스캔본 (한울가람, 9001~)\\\\! 채권별 스캔본 (한울가람, 9001~)(스캔파일)\\\\22.베리타스_솔림헬프\\\\1.베리타스에서 파일로 준 원인서류', '20498832 전현철 원인서류', '전현철_06775710058933_.pdf']\n",
      "['D:\\\\extraKey\\\\서울\\\\! 채권별 스캔본 (한울가람, 9001~)\\\\! 채권별 스캔본 (한울가람, 9001~)(스캔파일)\\\\22.베리타스_솔림헬프\\\\1.베리타스에서 파일로 준 원인서류', '20498841 임수영 원인서류', '049783386720004_임수영.pdf']\n",
      "['D:\\\\extraKey\\\\서울\\\\! 채권별 스캔본 (한울가람, 9001~)\\\\! 채권별 스캔본 (한울가람, 9001~)(스캔파일)\\\\22.베리타스_솔림헬프\\\\1.베리타스에서 파일로 준 원인서류', '20498841 임수영 원인서류', '4101090007240295_임수영.pdf']\n",
      "['D:\\\\extraKey\\\\서울\\\\! 채권별 스캔본 (한울가람, 9001~)\\\\! 채권별 스캔본 (한울가람, 9001~)(스캔파일)\\\\22.베리타스_솔림헬프\\\\1.베리타스에서 파일로 준 원인서류', '20498868 김명식 원인서류', '10055793106-1.pdf']\n",
      "['D:\\\\extraKey\\\\서울\\\\! 채권별 스캔본 (한울가람, 9001~)\\\\! 채권별 스캔본 (한울가람, 9001~)(스캔파일)\\\\22.베리타스_솔림헬프\\\\1.베리타스에서 파일로 준 원인서류', '20498868 김명식 원인서류', '10055793106.pdf']\n",
      "['D:\\\\extraKey\\\\서울\\\\! 채권별 스캔본 (한울가람, 9001~)\\\\! 채권별 스캔본 (한울가람, 9001~)(스캔파일)\\\\22.베리타스_솔림헬프\\\\1.베리타스에서 파일로 준 원인서류', '20498871 최용덕 원인서류', '20161012201510160018596565411.pdf']\n",
      "['D:\\\\extraKey\\\\서울\\\\! 채권별 스캔본 (한울가람, 9001~)\\\\! 채권별 스캔본 (한울가람, 9001~)(스캔파일)\\\\22.베리타스_솔림헬프\\\\1.베리타스에서 파일로 준 원인서류', '20498871 최용덕 원인서류', '20161018201510160018596575021.pdf']\n",
      "['D:\\\\extraKey\\\\서울\\\\! 채권별 스캔본 (한울가람, 9001~)\\\\! 채권별 스캔본 (한울가람, 9001~)(스캔파일)\\\\22.베리타스_솔림헬프\\\\1.베리타스에서 파일로 준 원인서류', '20498871 최용덕 원인서류', '최용덕_04801762010502.pdf']\n",
      "['D:\\\\extraKey\\\\서울\\\\! 채권별 스캔본 (한울가람, 9001~)\\\\! 채권별 스캔본 (한울가람, 9001~)(스캔파일)\\\\22.베리타스_솔림헬프\\\\1.베리타스에서 파일로 준 원인서류', '20498873 유석준 원인서류', '9379004741_유석준_.pdf']\n",
      "['D:\\\\extraKey\\\\서울\\\\! 채권별 스캔본 (한울가람, 9001~)\\\\! 채권별 스캔본 (한울가람, 9001~)(스캔파일)\\\\22.베리타스_솔림헬프\\\\1.베리타스에서 파일로 준 원인서류', '20498880 신재영 원인서류', '9007046945_신재영_.pdf']\n",
      "['D:\\\\extraKey\\\\서울\\\\! 채권별 스캔본 (한울가람, 9001~)\\\\! 채권별 스캔본 (한울가람, 9001~)(스캔파일)\\\\22.베리타스_솔림헬프\\\\1.베리타스에서 파일로 준 원인서류', '20498893 이기윤 원인서류', '4961760465580_이기윤.pdf']\n",
      "['D:\\\\extraKey\\\\서울\\\\! 채권별 스캔본 (한울가람, 9001~)\\\\! 채권별 스캔본 (한울가람, 9001~)(스캔파일)\\\\22.베리타스_솔림헬프\\\\1.베리타스에서 파일로 준 원인서류', '20498900 최영철 원인서류', '10003359445-1.pdf']\n",
      "['D:\\\\extraKey\\\\서울\\\\! 채권별 스캔본 (한울가람, 9001~)\\\\! 채권별 스캔본 (한울가람, 9001~)(스캔파일)\\\\22.베리타스_솔림헬프\\\\1.베리타스에서 파일로 준 원인서류', '20498900 최영철 원인서류', '10003359445.pdf']\n",
      "['D:\\\\extraKey\\\\서울\\\\! 채권별 스캔본 (한울가람, 9001~)\\\\! 채권별 스캔본 (한울가람, 9001~)(스캔파일)\\\\22.베리타스_솔림헬프\\\\1.베리타스에서 파일로 준 원인서류', '20498908 장규봉 원인서류', '10102926708-1.pdf']\n",
      "['D:\\\\extraKey\\\\서울\\\\! 채권별 스캔본 (한울가람, 9001~)\\\\! 채권별 스캔본 (한울가람, 9001~)(스캔파일)\\\\22.베리타스_솔림헬프\\\\1.베리타스에서 파일로 준 원인서류', '20498908 장규봉 원인서류', '10102926708.pdf']\n",
      "['D:\\\\extraKey\\\\서울\\\\! 채권별 스캔본 (한울가람, 9001~)\\\\! 채권별 스캔본 (한울가람, 9001~)(스캔파일)\\\\22.베리타스_솔림헬프\\\\1.베리타스에서 파일로 준 원인서류', '20498911 김덕순 원인서류', '40397760944210.pdf']\n",
      "['D:\\\\extraKey\\\\서울\\\\! 채권별 스캔본 (한울가람, 9001~)\\\\! 채권별 스캔본 (한울가람, 9001~)(스캔파일)\\\\22.베리타스_솔림헬프\\\\1.베리타스에서 파일로 준 원인서류', '20498918 이동기 원인서류', '70004126584_이동기_1.pdf']\n",
      "['D:\\\\extraKey\\\\서울\\\\! 채권별 스캔본 (한울가람, 9001~)\\\\! 채권별 스캔본 (한울가람, 9001~)(스캔파일)\\\\22.베리타스_솔림헬프\\\\1.베리타스에서 파일로 준 원인서류', '20498943 박승규 원인서류', '113613857720003_박승규.pdf']\n",
      "['D:\\\\extraKey\\\\서울\\\\! 채권별 스캔본 (한울가람, 9001~)\\\\! 채권별 스캔본 (한울가람, 9001~)(스캔파일)\\\\22.베리타스_솔림헬프\\\\1.베리타스에서 파일로 준 원인서류', '20498943 박승규 원인서류', '4101090001214429_박승규.pdf']\n",
      "['D:\\\\extraKey\\\\서울\\\\! 채권별 스캔본 (한울가람, 9001~)\\\\! 채권별 스캔본 (한울가람, 9001~)(스캔파일)\\\\22.베리타스_솔림헬프\\\\1.베리타스에서 파일로 준 원인서류', '20498949 노병석 원인서류', '노병석_015805148720007.pdf']\n",
      "['D:\\\\extraKey\\\\서울\\\\! 채권별 스캔본 (한울가람, 9001~)\\\\! 채권별 스캔본 (한울가람, 9001~)(스캔파일)\\\\22.베리타스_솔림헬프\\\\1.베리타스에서 파일로 준 원인서류', '20498958 최동열 원인서류', '40397760521103_최동열.pdf']\n",
      "['D:\\\\extraKey\\\\서울\\\\! 채권별 스캔본 (한울가람, 9001~)\\\\! 채권별 스캔본 (한울가람, 9001~)(스캔파일)\\\\22.베리타스_솔림헬프\\\\1.베리타스에서 파일로 준 원인서류', '20498963 이재범 원인서류', '이재범_4063571316020383.pdf']\n",
      "['D:\\\\extraKey\\\\서울\\\\! 채권별 스캔본 (한울가람, 9001~)\\\\! 채권별 스캔본 (한울가람, 9001~)(스캔파일)\\\\22.베리타스_솔림헬프\\\\1.베리타스에서 파일로 준 원인서류', '20498990 김오중 원인서류', '4063571313154706_김오중.pdf']\n",
      "['D:\\\\extraKey\\\\서울\\\\! 채권별 스캔본 (한울가람, 9001~)\\\\! 채권별 스캔본 (한울가람, 9001~)(스캔파일)\\\\22.베리타스_솔림헬프\\\\1.베리타스에서 파일로 준 원인서류', '20498995 김미경 원인서류', '김미경_40397761058900.pdf']\n",
      "['D:\\\\extraKey\\\\서울\\\\! 채권별 스캔본 (한울가람, 9001~)\\\\! 채권별 스캔본 (한울가람, 9001~)(스캔파일)\\\\22.베리타스_솔림헬프\\\\1.베리타스에서 파일로 준 원인서류', '20498998 윤미옥 원인서류', '9007086067_윤미옥_.pdf']\n",
      "['D:\\\\extraKey\\\\서울\\\\! 채권별 스캔본 (한울가람, 9001~)\\\\! 채권별 스캔본 (한울가람, 9001~)(스캔파일)\\\\22.베리타스_솔림헬프\\\\1.베리타스에서 파일로 준 원인서류', '20499005 편영운 원인서류', '9376004227_편영운_.pdf']\n",
      "['D:\\\\extraKey\\\\서울\\\\! 채권별 스캔본 (한울가람, 9001~)\\\\! 채권별 스캔본 (한울가람, 9001~)(스캔파일)\\\\22.베리타스_솔림헬프\\\\1.베리타스에서 파일로 준 원인서류', '20499014 오영자 원인서류', '9024074706_오영자_.pdf']\n",
      "['D:\\\\extraKey\\\\서울\\\\! 채권별 스캔본 (한울가람, 9001~)\\\\! 채권별 스캔본 (한울가람, 9001~)(스캔파일)\\\\22.베리타스_솔림헬프\\\\1.베리타스에서 파일로 준 원인서류', '20499018 윤형식 원인서류', '9008060570_윤형식_.pdf']\n",
      "['D:\\\\extraKey\\\\서울\\\\! 채권별 스캔본 (한울가람, 9001~)\\\\! 채권별 스캔본 (한울가람, 9001~)(스캔파일)\\\\22.베리타스_솔림헬프\\\\1.베리타스에서 파일로 준 원인서류', '20499044 한상운 원인서류', '114523790720004_한상운.pdf']\n",
      "['D:\\\\extraKey\\\\서울\\\\! 채권별 스캔본 (한울가람, 9001~)\\\\! 채권별 스캔본 (한울가람, 9001~)(스캔파일)\\\\22.베리타스_솔림헬프\\\\1.베리타스에서 파일로 준 원인서류', '20499044 한상운 원인서류', '5242230003476298_한상운.pdf']\n",
      "['D:\\\\extraKey\\\\서울\\\\! 채권별 스캔본 (한울가람, 9001~)\\\\! 채권별 스캔본 (한울가람, 9001~)(스캔파일)\\\\22.베리타스_솔림헬프\\\\1.베리타스에서 파일로 준 원인서류', '20499057 김태선 원인서류', '40397761163060.pdf']\n",
      "['D:\\\\extraKey\\\\서울\\\\! 채권별 스캔본 (한울가람, 9001~)\\\\! 채권별 스캔본 (한울가람, 9001~)(스캔파일)\\\\22.베리타스_솔림헬프\\\\1.베리타스에서 파일로 준 원인서류', '20499079 장호철 원인서류', '10004287054-1.pdf']\n",
      "['D:\\\\extraKey\\\\서울\\\\! 채권별 스캔본 (한울가람, 9001~)\\\\! 채권별 스캔본 (한울가람, 9001~)(스캔파일)\\\\22.베리타스_솔림헬프\\\\1.베리타스에서 파일로 준 원인서류', '20499079 장호철 원인서류', '10004287054.pdf']\n",
      "['D:\\\\extraKey\\\\서울\\\\! 채권별 스캔본 (한울가람, 9001~)\\\\! 채권별 스캔본 (한울가람, 9001~)(스캔파일)\\\\22.베리타스_솔림헬프\\\\1.베리타스에서 파일로 준 원인서류', '20499082 박홍봉 원인서류', '박홍봉_4102000035.pdf']\n",
      "['D:\\\\extraKey\\\\서울\\\\! 채권별 스캔본 (한울가람, 9001~)\\\\! 채권별 스캔본 (한울가람, 9001~)(스캔파일)\\\\22.베리타스_솔림헬프\\\\1.베리타스에서 파일로 준 원인서류', '20499082 박홍봉 원인서류', '박홍봉_4102000035_1.pdf']\n",
      "['D:\\\\extraKey\\\\서울\\\\! 채권별 스캔본 (한울가람, 9001~)\\\\! 채권별 스캔본 (한울가람, 9001~)(스캔파일)\\\\22.베리타스_솔림헬프\\\\1.베리타스에서 파일로 준 원인서류', '20499088 김계수 원인서류', '06614752817813_김계수.pdf']\n",
      "['D:\\\\extraKey\\\\서울\\\\! 채권별 스캔본 (한울가람, 9001~)\\\\! 채권별 스캔본 (한울가람, 9001~)(스캔파일)\\\\22.베리타스_솔림헬프\\\\1.베리타스에서 파일로 준 원인서류', '20499088 김계수 원인서류', '06614754174885_김계수.pdf']\n",
      "['D:\\\\extraKey\\\\서울\\\\! 채권별 스캔본 (한울가람, 9001~)\\\\! 채권별 스캔본 (한울가람, 9001~)(스캔파일)\\\\22.베리타스_솔림헬프\\\\1.베리타스에서 파일로 준 원인서류', '20499088 김계수 원인서류', '06614754835304_김계수.pdf']\n",
      "['D:\\\\extraKey\\\\서울\\\\! 채권별 스캔본 (한울가람, 9001~)\\\\! 채권별 스캔본 (한울가람, 9001~)(스캔파일)\\\\22.베리타스_솔림헬프\\\\1.베리타스에서 파일로 준 원인서류', '20499088 김계수 원인서류', '06614755492649_김계수.pdf']\n",
      "['D:\\\\extraKey\\\\서울\\\\! 채권별 스캔본 (한울가람, 9001~)\\\\! 채권별 스캔본 (한울가람, 9001~)(스캔파일)\\\\22.베리타스_솔림헬프\\\\1.베리타스에서 파일로 준 원인서류', '20499114 조영숙 원인서류', '0220112144310_신용대출신청서_0001_46074763.pdf']\n",
      "['D:\\\\extraKey\\\\서울\\\\! 채권별 스캔본 (한울가람, 9001~)\\\\! 채권별 스캔본 (한울가람, 9001~)(스캔파일)\\\\22.베리타스_솔림헬프\\\\1.베리타스에서 파일로 준 원인서류', '20499114 조영숙 원인서류', '0220112144310_신용대출신청서_0002_46074764.pdf']\n",
      "['D:\\\\extraKey\\\\서울\\\\! 채권별 스캔본 (한울가람, 9001~)\\\\! 채권별 스캔본 (한울가람, 9001~)(스캔파일)\\\\22.베리타스_솔림헬프\\\\1.베리타스에서 파일로 준 원인서류', '20499124 김숙미 원인서류', '10057051644-1.pdf']\n",
      "['D:\\\\extraKey\\\\서울\\\\! 채권별 스캔본 (한울가람, 9001~)\\\\! 채권별 스캔본 (한울가람, 9001~)(스캔파일)\\\\22.베리타스_솔림헬프\\\\1.베리타스에서 파일로 준 원인서류', '20499124 김숙미 원인서류', '10057051644.pdf']\n",
      "['D:\\\\extraKey\\\\서울\\\\! 채권별 스캔본 (한울가람, 9001~)\\\\! 채권별 스캔본 (한울가람, 9001~)(스캔파일)\\\\22.베리타스_솔림헬프\\\\1.베리타스에서 파일로 준 원인서류', '20499125 손경호 원인서류', '손경호_04801761926290.pdf']\n",
      "['D:\\\\extraKey\\\\서울\\\\! 채권별 스캔본 (한울가람, 9001~)\\\\! 채권별 스캔본 (한울가람, 9001~)(스캔파일)\\\\22.베리타스_솔림헬프\\\\1.베리타스에서 파일로 준 원인서류', '20499126 최준관 원인서류', '9024072231_최준관_.pdf']\n",
      "['D:\\\\extraKey\\\\서울\\\\! 채권별 스캔본 (한울가람, 9001~)\\\\! 채권별 스캔본 (한울가람, 9001~)(스캔파일)\\\\22.베리타스_솔림헬프\\\\1.베리타스에서 파일로 준 원인서류', '20499129 김명열 원인서류', '6891765007784_김명열.pdf']\n",
      "['D:\\\\extraKey\\\\서울\\\\! 채권별 스캔본 (한울가람, 9001~)\\\\! 채권별 스캔본 (한울가람, 9001~)(스캔파일)\\\\22.베리타스_솔림헬프\\\\1.베리타스에서 파일로 준 원인서류', '20499131 남철희 원인서류', '20161109201607040024156612864.pdf']\n",
      "['D:\\\\extraKey\\\\서울\\\\! 채권별 스캔본 (한울가람, 9001~)\\\\! 채권별 스캔본 (한울가람, 9001~)(스캔파일)\\\\22.베리타스_솔림헬프\\\\1.베리타스에서 파일로 준 원인서류', '20499131 남철희 원인서류', '남철희_04801762515293.pdf']\n",
      "['D:\\\\extraKey\\\\서울\\\\! 채권별 스캔본 (한울가람, 9001~)\\\\! 채권별 스캔본 (한울가람, 9001~)(스캔파일)\\\\22.베리타스_솔림헬프\\\\1.베리타스에서 파일로 준 원인서류', '20499143 정일두 원인서류', '정일두_06775710019898_.pdf']\n",
      "['D:\\\\extraKey\\\\서울\\\\! 채권별 스캔본 (한울가람, 9001~)\\\\! 채권별 스캔본 (한울가람, 9001~)(스캔파일)\\\\22.베리타스_솔림헬프\\\\1.베리타스에서 파일로 준 원인서류', '20499147 이진용 원인서류', '20150414201504060009045789745.pdf']\n",
      "['D:\\\\extraKey\\\\서울\\\\! 채권별 스캔본 (한울가람, 9001~)\\\\! 채권별 스캔본 (한울가람, 9001~)(스캔파일)\\\\22.베리타스_솔림헬프\\\\1.베리타스에서 파일로 준 원인서류', '20499147 이진용 원인서류', '20151202201511240017696097158.PDF']\n",
      "['D:\\\\extraKey\\\\서울\\\\! 채권별 스캔본 (한울가람, 9001~)\\\\! 채권별 스캔본 (한울가람, 9001~)(스캔파일)\\\\22.베리타스_솔림헬프\\\\1.베리타스에서 파일로 준 원인서류', '20499147 이진용 원인서류', '20160725201511240017696438468.pdf']\n",
      "['D:\\\\extraKey\\\\서울\\\\! 채권별 스캔본 (한울가람, 9001~)\\\\! 채권별 스캔본 (한울가람, 9001~)(스캔파일)\\\\22.베리타스_솔림헬프\\\\1.베리타스에서 파일로 준 원인서류', '20499150 김은숙 원인서류', '06614756480945_김은숙.pdf']\n",
      "['D:\\\\extraKey\\\\서울\\\\! 채권별 스캔본 (한울가람, 9001~)\\\\! 채권별 스캔본 (한울가람, 9001~)(스캔파일)\\\\22.베리타스_솔림헬프\\\\1.베리타스에서 파일로 준 원인서류', '20499173 신현석 원인서류', '9377004408_신현석_.pdf']\n",
      "['D:\\\\extraKey\\\\서울\\\\! 채권별 스캔본 (한울가람, 9001~)\\\\! 채권별 스캔본 (한울가람, 9001~)(스캔파일)\\\\22.베리타스_솔림헬프\\\\1.베리타스에서 파일로 준 원인서류', '20499173 신현석 원인서류', '9910020767.pdf']\n",
      "['D:\\\\extraKey\\\\서울\\\\! 채권별 스캔본 (한울가람, 9001~)\\\\! 채권별 스캔본 (한울가람, 9001~)(스캔파일)\\\\22.베리타스_솔림헬프\\\\1.베리타스에서 파일로 준 원인서류', '20499176 권혁조 원인서류', '9008085039_권혁조_.pdf']\n",
      "['D:\\\\extraKey\\\\서울\\\\! 채권별 스캔본 (한울가람, 9001~)\\\\! 채권별 스캔본 (한울가람, 9001~)(스캔파일)\\\\22.베리타스_솔림헬프\\\\1.베리타스에서 파일로 준 원인서류', '20499183 김삼용 원인서류', '04801761746315(원본).pdf']\n",
      "['D:\\\\extraKey\\\\서울\\\\! 채권별 스캔본 (한울가람, 9001~)\\\\! 채권별 스캔본 (한울가람, 9001~)(스캔파일)\\\\22.베리타스_솔림헬프\\\\1.베리타스에서 파일로 준 원인서류', '20499183 김삼용 원인서류', '20150422201504220006195803288.pdf']\n",
      "['D:\\\\extraKey\\\\서울\\\\! 채권별 스캔본 (한울가람, 9001~)\\\\! 채권별 스캔본 (한울가람, 9001~)(스캔파일)\\\\22.베리타스_솔림헬프\\\\1.베리타스에서 파일로 준 원인서류', '20499183 김삼용 원인서류', '20160715201504220006196424514.pdf']\n",
      "['D:\\\\extraKey\\\\서울\\\\! 채권별 스캔본 (한울가람, 9001~)\\\\! 채권별 스캔본 (한울가람, 9001~)(스캔파일)\\\\22.베리타스_솔림헬프\\\\1.베리타스에서 파일로 준 원인서류', '20499194 박형택 원인서류', '33274713639339.pdf']\n",
      "['D:\\\\extraKey\\\\서울\\\\! 채권별 스캔본 (한울가람, 9001~)\\\\! 채권별 스캔본 (한울가람, 9001~)(스캔파일)\\\\22.베리타스_솔림헬프\\\\1.베리타스에서 파일로 준 원인서류', '20499195 박형택 원인서류', '40397761190087.pdf']\n",
      "['D:\\\\extraKey\\\\서울\\\\! 채권별 스캔본 (한울가람, 9001~)\\\\! 채권별 스캔본 (한울가람, 9001~)(스캔파일)\\\\22.베리타스_솔림헬프\\\\1.베리타스에서 파일로 준 원인서류', '20499201 한준기 원인서류', '4961760061693_한준기_5,000,000.pdf']\n",
      "['D:\\\\extraKey\\\\서울\\\\! 채권별 스캔본 (한울가람, 9001~)\\\\! 채권별 스캔본 (한울가람, 9001~)(스캔파일)\\\\22.베리타스_솔림헬프\\\\1.베리타스에서 파일로 준 원인서류', '20499201 한준기 원인서류', '4961760319731_한준기_5,800,000.pdf']\n",
      "['D:\\\\extraKey\\\\서울\\\\! 채권별 스캔본 (한울가람, 9001~)\\\\! 채권별 스캔본 (한울가람, 9001~)(스캔파일)\\\\22.베리타스_솔림헬프\\\\1.베리타스에서 파일로 준 원인서류', '20499212 신윤호 원인서류', 'C41702047520000_20170208152200.pdf']\n",
      "['D:\\\\extraKey\\\\서울\\\\! 채권별 스캔본 (한울가람, 9001~)\\\\! 채권별 스캔본 (한울가람, 9001~)(스캔파일)\\\\22.베리타스_솔림헬프\\\\1.베리타스에서 파일로 준 원인서류', '20499221 이진순 원인서류', '010906694720009_이진순.pdf']\n",
      "['D:\\\\extraKey\\\\서울\\\\! 채권별 스캔본 (한울가람, 9001~)\\\\! 채권별 스캔본 (한울가람, 9001~)(스캔파일)\\\\22.베리타스_솔림헬프\\\\1.베리타스에서 파일로 준 원인서류', '20499225 홍성주 원인서류', '9024055547_홍성주_.pdf']\n",
      "['D:\\\\extraKey\\\\서울\\\\! 채권별 스캔본 (한울가람, 9001~)\\\\! 채권별 스캔본 (한울가람, 9001~)(스캔파일)\\\\22.베리타스_솔림헬프\\\\1.베리타스에서 파일로 준 원인서류', '20499245 최종후 원인서류', '6891763697791.pdf']\n",
      "['D:\\\\extraKey\\\\서울\\\\! 채권별 스캔본 (한울가람, 9001~)\\\\! 채권별 스캔본 (한울가람, 9001~)(스캔파일)\\\\22.베리타스_솔림헬프\\\\1.베리타스에서 파일로 준 원인서류', '20499257 손경목 원인서류', '9024054853_손경목_.pdf']\n",
      "['D:\\\\extraKey\\\\서울\\\\! 채권별 스캔본 (한울가람, 9001~)\\\\! 채권별 스캔본 (한울가람, 9001~)(스캔파일)\\\\22.베리타스_솔림헬프\\\\1.베리타스에서 파일로 준 원인서류', '20499257 손경목 원인서류', '9905001381.pdf']\n",
      "['D:\\\\extraKey\\\\서울\\\\! 채권별 스캔본 (한울가람, 9001~)\\\\! 채권별 스캔본 (한울가람, 9001~)(스캔파일)\\\\22.베리타스_솔림헬프\\\\1.베리타스에서 파일로 준 원인서류', '20499264 박재일 원인서류', '9383015157_박재일_.pdf']\n",
      "['D:\\\\extraKey\\\\서울\\\\! 채권별 스캔본 (한울가람, 9001~)\\\\! 채권별 스캔본 (한울가람, 9001~)(스캔파일)\\\\22.베리타스_솔림헬프\\\\1.베리타스에서 파일로 준 원인서류', '20499289 최춘근 원인서류', '10005279421-1.pdf']\n",
      "['D:\\\\extraKey\\\\서울\\\\! 채권별 스캔본 (한울가람, 9001~)\\\\! 채권별 스캔본 (한울가람, 9001~)(스캔파일)\\\\22.베리타스_솔림헬프\\\\1.베리타스에서 파일로 준 원인서류', '20499289 최춘근 원인서류', '10005279421.pdf']\n",
      "['D:\\\\extraKey\\\\서울\\\\! 채권별 스캔본 (한울가람, 9001~)\\\\! 채권별 스캔본 (한울가람, 9001~)(스캔파일)\\\\22.베리타스_솔림헬프\\\\1.베리타스에서 파일로 준 원인서류', '20499293 김천식 원인서류', '9024055766_김천식_.pdf']\n",
      "['D:\\\\extraKey\\\\서울\\\\! 채권별 스캔본 (한울가람, 9001~)\\\\! 채권별 스캔본 (한울가람, 9001~)(스캔파일)\\\\22.베리타스_솔림헬프\\\\1.베리타스에서 파일로 준 원인서류', '20499309 김창규 원인서류', '9909025821_2.pdf']\n",
      "['D:\\\\extraKey\\\\서울\\\\! 채권별 스캔본 (한울가람, 9001~)\\\\! 채권별 스캔본 (한울가람, 9001~)(스캔파일)\\\\22.베리타스_솔림헬프\\\\1.베리타스에서 파일로 준 원인서류', '20499323 정명란 원인서류', '0220131696434_신용대출신청서_0001_58394947.pdf']\n",
      "['D:\\\\extraKey\\\\서울\\\\! 채권별 스캔본 (한울가람, 9001~)\\\\! 채권별 스캔본 (한울가람, 9001~)(스캔파일)\\\\22.베리타스_솔림헬프\\\\1.베리타스에서 파일로 준 원인서류', '20499323 정명란 원인서류', '0220141092527_신용대출신청서_0001_59780329.pdf']\n",
      "['D:\\\\extraKey\\\\서울\\\\! 채권별 스캔본 (한울가람, 9001~)\\\\! 채권별 스캔본 (한울가람, 9001~)(스캔파일)\\\\22.베리타스_솔림헬프\\\\1.베리타스에서 파일로 준 원인서류', '20499330 안영임 원인서류', '70006824711_안영임_1.pdf']\n",
      "['D:\\\\extraKey\\\\서울\\\\! 채권별 스캔본 (한울가람, 9001~)\\\\! 채권별 스캔본 (한울가람, 9001~)(스캔파일)\\\\22.베리타스_솔림헬프\\\\1.베리타스에서 파일로 준 원인서류', '20499330 안영임 원인서류', '70006824711_안영임_3.pdf']\n",
      "['D:\\\\extraKey\\\\서울\\\\! 채권별 스캔본 (한울가람, 9001~)\\\\! 채권별 스캔본 (한울가람, 9001~)(스캔파일)\\\\22.베리타스_솔림헬프\\\\1.베리타스에서 파일로 준 원인서류', '20499340 김부섭 원인서류', '4961760196791_김부섭_10,000,000.pdf']\n",
      "['D:\\\\extraKey\\\\서울\\\\! 채권별 스캔본 (한울가람, 9001~)\\\\! 채권별 스캔본 (한울가람, 9001~)(스캔파일)\\\\22.베리타스_솔림헬프\\\\1.베리타스에서 파일로 준 원인서류', '20499348 김동현 원인서류', '0220151357594_신용대출신청서_0001_65804231.pdf']\n",
      "['D:\\\\extraKey\\\\서울\\\\! 채권별 스캔본 (한울가람, 9001~)\\\\! 채권별 스캔본 (한울가람, 9001~)(스캔파일)\\\\22.베리타스_솔림헬프\\\\1.베리타스에서 파일로 준 원인서류', '20499352 김경두 원인서류', '9376002868_김경두_.pdf']\n",
      "['D:\\\\extraKey\\\\서울\\\\! 채권별 스캔본 (한울가람, 9001~)\\\\! 채권별 스캔본 (한울가람, 9001~)(스캔파일)\\\\22.베리타스_솔림헬프\\\\1.베리타스에서 파일로 준 원인서류', '20499354 노정우 원인서류', '10056164509-1.pdf']\n",
      "['D:\\\\extraKey\\\\서울\\\\! 채권별 스캔본 (한울가람, 9001~)\\\\! 채권별 스캔본 (한울가람, 9001~)(스캔파일)\\\\22.베리타스_솔림헬프\\\\1.베리타스에서 파일로 준 원인서류', '20499354 노정우 원인서류', '10056164509.pdf']\n",
      "['D:\\\\extraKey\\\\서울\\\\! 채권별 스캔본 (한울가람, 9001~)\\\\! 채권별 스캔본 (한울가람, 9001~)(스캔파일)\\\\22.베리타스_솔림헬프\\\\1.베리타스에서 파일로 준 원인서류', '20499363 박상일 원인서류', '9008051108_박상일_.pdf']\n",
      "['D:\\\\extraKey\\\\서울\\\\! 채권별 스캔본 (한울가람, 9001~)\\\\! 채권별 스캔본 (한울가람, 9001~)(스캔파일)\\\\22.베리타스_솔림헬프\\\\1.베리타스에서 파일로 준 원인서류', '20499386 김미숙 원인서류', '06614754067935_김미숙.pdf']\n",
      "['D:\\\\extraKey\\\\서울\\\\! 채권별 스캔본 (한울가람, 9001~)\\\\! 채권별 스캔본 (한울가람, 9001~)(스캔파일)\\\\22.베리타스_솔림헬프\\\\1.베리타스에서 파일로 준 원인서류', '20499398 정진희 원인서류', '4961760011703_정진희_5,000,000.pdf']\n",
      "['D:\\\\extraKey\\\\서울\\\\! 채권별 스캔본 (한울가람, 9001~)\\\\! 채권별 스캔본 (한울가람, 9001~)(스캔파일)\\\\22.베리타스_솔림헬프\\\\1.베리타스에서 파일로 준 원인서류', '20499414 김영조 원인서류', '9584065428_김영조_.pdf']\n",
      "['D:\\\\extraKey\\\\서울\\\\! 채권별 스캔본 (한울가람, 9001~)\\\\! 채권별 스캔본 (한울가람, 9001~)(스캔파일)\\\\22.베리타스_솔림헬프\\\\1.베리타스에서 파일로 준 원인서류', '20499416 정한신 원인서류', '0220121750717_신용대출신청서_0001_50892861.pdf']\n",
      "['D:\\\\extraKey\\\\서울\\\\! 채권별 스캔본 (한울가람, 9001~)\\\\! 채권별 스캔본 (한울가람, 9001~)(스캔파일)\\\\22.베리타스_솔림헬프\\\\1.베리타스에서 파일로 준 원인서류', '20499419 유형태 원인서류', '40306760053909.pdf']\n",
      "['D:\\\\extraKey\\\\서울\\\\! 채권별 스캔본 (한울가람, 9001~)\\\\! 채권별 스캔본 (한울가람, 9001~)(스캔파일)\\\\22.베리타스_솔림헬프\\\\1.베리타스에서 파일로 준 원인서류', '20499430 석용호 원인서류', '072874863720001_석용호.pdf']\n",
      "['D:\\\\extraKey\\\\서울\\\\! 채권별 스캔본 (한울가람, 9001~)\\\\! 채권별 스캔본 (한울가람, 9001~)(스캔파일)\\\\22.베리타스_솔림헬프\\\\1.베리타스에서 파일로 준 원인서류', '20499430 석용호 원인서류', '4033461302647588_석용호.pdf']\n",
      "['D:\\\\extraKey\\\\서울\\\\! 채권별 스캔본 (한울가람, 9001~)\\\\! 채권별 스캔본 (한울가람, 9001~)(스캔파일)\\\\22.베리타스_솔림헬프\\\\1.베리타스에서 파일로 준 원인서류', '20499453 이명환 원인서류', '9008053468_이명환_.pdf']\n",
      "['D:\\\\extraKey\\\\서울\\\\! 채권별 스캔본 (한울가람, 9001~)\\\\! 채권별 스캔본 (한울가람, 9001~)(스캔파일)\\\\22.베리타스_솔림헬프\\\\1.베리타스에서 파일로 준 원인서류', '20499463 곽덕임 원인서류', '곽덕임_56692760959234_1126.pdf']\n",
      "['D:\\\\extraKey\\\\서울\\\\! 채권별 스캔본 (한울가람, 9001~)\\\\! 채권별 스캔본 (한울가람, 9001~)(스캔파일)\\\\22.베리타스_솔림헬프\\\\1.베리타스에서 파일로 준 원인서류', '20499480 윤재란 원인서류', '윤재란_9689029468_0012.pdf']\n",
      "['D:\\\\extraKey\\\\서울\\\\! 채권별 스캔본 (한울가람, 9001~)\\\\! 채권별 스캔본 (한울가람, 9001~)(스캔파일)\\\\22.베리타스_솔림헬프\\\\1.베리타스에서 파일로 준 원인서류', '20499480 윤재란 원인서류', '윤재란_9689029468_0013.pdf']\n",
      "['D:\\\\extraKey\\\\서울\\\\! 채권별 스캔본 (한울가람, 9001~)\\\\! 채권별 스캔본 (한울가람, 9001~)(스캔파일)\\\\22.베리타스_솔림헬프\\\\1.베리타스에서 파일로 준 원인서류', '20499505 이영경 원인서류', '0220131268135_신용대출신청서_0001_54770496.pdf']\n",
      "['D:\\\\extraKey\\\\서울\\\\! 채권별 스캔본 (한울가람, 9001~)\\\\! 채권별 스캔본 (한울가람, 9001~)(스캔파일)\\\\22.베리타스_솔림헬프\\\\1.베리타스에서 파일로 준 원인서류', '20499508 전형남 원인서류', '9008082845_전형남_.pdf']\n",
      "['D:\\\\extraKey\\\\서울\\\\! 채권별 스캔본 (한울가람, 9001~)\\\\! 채권별 스캔본 (한울가람, 9001~)(스캔파일)\\\\22.베리타스_솔림헬프\\\\1.베리타스에서 파일로 준 원인서류', '20499526 김광현 원인서류', '19031100023_녹취대출약정서(할부).pdf']\n",
      "['D:\\\\extraKey\\\\서울\\\\! 채권별 스캔본 (한울가람, 9001~)\\\\! 채권별 스캔본 (한울가람, 9001~)(스캔파일)\\\\22.베리타스_솔림헬프\\\\1.베리타스에서 파일로 준 원인서류', '20499526 김광현 원인서류', '19031100023_녹취파일.wav']\n",
      "['D:\\\\extraKey\\\\서울\\\\! 채권별 스캔본 (한울가람, 9001~)\\\\! 채권별 스캔본 (한울가람, 9001~)(스캔파일)\\\\22.베리타스_솔림헬프\\\\1.베리타스에서 파일로 준 원인서류', '20499531 최운주 원인서류', 'C41705142790000_20170522175935.pdf']\n",
      "['D:\\\\extraKey\\\\서울\\\\! 채권별 스캔본 (한울가람, 9001~)\\\\! 채권별 스캔본 (한울가람, 9001~)(스캔파일)\\\\22.베리타스_솔림헬프\\\\1.베리타스에서 파일로 준 원인서류', '20499540 양문수 원인서류', '163421416720001_양문수.pdf']\n",
      "['D:\\\\extraKey\\\\서울\\\\! 채권별 스캔본 (한울가람, 9001~)\\\\! 채권별 스캔본 (한울가람, 9001~)(스캔파일)\\\\22.베리타스_솔림헬프\\\\1.베리타스에서 파일로 준 원인서류', '20499540 양문수 원인서류', '163421416720002_양문수.pdf']\n",
      "['D:\\\\extraKey\\\\서울\\\\! 채권별 스캔본 (한울가람, 9001~)\\\\! 채권별 스캔본 (한울가람, 9001~)(스캔파일)\\\\22.베리타스_솔림헬프\\\\1.베리타스에서 파일로 준 원인서류', '20499543 허동현 원인서류', '허동현 730428 40397761130754 7,400,000.pdf']\n",
      "['D:\\\\extraKey\\\\서울\\\\! 채권별 스캔본 (한울가람, 9001~)\\\\! 채권별 스캔본 (한울가람, 9001~)(스캔파일)\\\\22.베리타스_솔림헬프\\\\1.베리타스에서 파일로 준 원인서류', '20499544 김동현 원인서류', 'C41807184400000_20180719141519.pdf']\n",
      "['D:\\\\extraKey\\\\서울\\\\! 채권별 스캔본 (한울가람, 9001~)\\\\! 채권별 스캔본 (한울가람, 9001~)(스캔파일)\\\\22.베리타스_솔림헬프\\\\1.베리타스에서 파일로 준 원인서류', '20499551 김지택 원인서류', '8999031994_김지택_.pdf']\n",
      "['D:\\\\extraKey\\\\서울\\\\! 채권별 스캔본 (한울가람, 9001~)\\\\! 채권별 스캔본 (한울가람, 9001~)(스캔파일)\\\\22.베리타스_솔림헬프\\\\1.베리타스에서 파일로 준 원인서류', '20499563 박성호 원인서류', '9565066325_박성호_.pdf']\n",
      "['D:\\\\extraKey\\\\서울\\\\! 채권별 스캔본 (한울가람, 9001~)\\\\! 채권별 스캔본 (한울가람, 9001~)(스캔파일)\\\\22.베리타스_솔림헬프\\\\1.베리타스에서 파일로 준 원인서류', '20499563 박성호 원인서류', '9905001633.pdf']\n",
      "['D:\\\\extraKey\\\\서울\\\\! 채권별 스캔본 (한울가람, 9001~)\\\\! 채권별 스캔본 (한울가람, 9001~)(스캔파일)\\\\22.베리타스_솔림헬프\\\\1.베리타스에서 파일로 준 원인서류', '20499564 박성호 원인서류', '0220151238559_신용대출신청서_0001_64573634.pdf']\n",
      "['D:\\\\extraKey\\\\서울\\\\! 채권별 스캔본 (한울가람, 9001~)\\\\! 채권별 스캔본 (한울가람, 9001~)(스캔파일)\\\\22.베리타스_솔림헬프\\\\1.베리타스에서 파일로 준 원인서류', '20499573 차인철 원인서류', '218RE0083140001_차인철.pdf']\n",
      "['D:\\\\extraKey\\\\서울\\\\! 채권별 스캔본 (한울가람, 9001~)\\\\! 채권별 스캔본 (한울가람, 9001~)(스캔파일)\\\\22.베리타스_솔림헬프\\\\1.베리타스에서 파일로 준 원인서류', '20499575 허경희 원인서류', '허경희_56692760625065_0650.pdf']\n",
      "['D:\\\\extraKey\\\\서울\\\\! 채권별 스캔본 (한울가람, 9001~)\\\\! 채권별 스캔본 (한울가람, 9001~)(스캔파일)\\\\22.베리타스_솔림헬프\\\\1.베리타스에서 파일로 준 원인서류', '20499580 전하영 원인서류', '9024071258_전하영_.pdf']\n",
      "['D:\\\\extraKey\\\\서울\\\\! 채권별 스캔본 (한울가람, 9001~)\\\\! 채권별 스캔본 (한울가람, 9001~)(스캔파일)\\\\22.베리타스_솔림헬프\\\\1.베리타스에서 파일로 준 원인서류', '20499582 김철 원인서류', '4961760085855_김철.pdf']\n",
      "['D:\\\\extraKey\\\\서울\\\\! 채권별 스캔본 (한울가람, 9001~)\\\\! 채권별 스캔본 (한울가람, 9001~)(스캔파일)\\\\22.베리타스_솔림헬프\\\\1.베리타스에서 파일로 준 원인서류', '20499584 신유라(개명전 신막내) 원인서류', '9038062387_신유라(개명전 신막내)_.pdf']\n",
      "['D:\\\\extraKey\\\\서울\\\\! 채권별 스캔본 (한울가람, 9001~)\\\\! 채권별 스캔본 (한울가람, 9001~)(스캔파일)\\\\22.베리타스_솔림헬프\\\\1.베리타스에서 파일로 준 원인서류', '20499584 신유라(개명전 신막내) 원인서류', '9038062387_신유라(개명전 신막내)__1.pdf']\n",
      "['D:\\\\extraKey\\\\서울\\\\! 채권별 스캔본 (한울가람, 9001~)\\\\! 채권별 스캔본 (한울가람, 9001~)(스캔파일)\\\\22.베리타스_솔림헬프\\\\1.베리타스에서 파일로 준 원인서류', '20499584 신유라(개명전 신막내) 원인서류', '9038062387_신유라(개명전 신막내)__2.pdf']\n",
      "['D:\\\\extraKey\\\\서울\\\\! 채권별 스캔본 (한울가람, 9001~)\\\\! 채권별 스캔본 (한울가람, 9001~)(스캔파일)\\\\22.베리타스_솔림헬프\\\\1.베리타스에서 파일로 준 원인서류', '20499593 조형 원인서류', '9372000487_조형_.pdf']\n",
      "['D:\\\\extraKey\\\\서울\\\\! 채권별 스캔본 (한울가람, 9001~)\\\\! 채권별 스캔본 (한울가람, 9001~)(스캔파일)\\\\22.베리타스_솔림헬프\\\\1.베리타스에서 파일로 준 원인서류', '20499608 정경하 원인서류', '정경하_4743616402993254.pdf']\n",
      "['D:\\\\extraKey\\\\서울\\\\! 채권별 스캔본 (한울가람, 9001~)\\\\! 채권별 스캔본 (한울가람, 9001~)(스캔파일)\\\\22.베리타스_솔림헬프\\\\1.베리타스에서 파일로 준 원인서류', '20499608 정경하 원인서류', '정경하_5241440009836913.pdf']\n",
      "['D:\\\\extraKey\\\\서울\\\\! 채권별 스캔본 (한울가람, 9001~)\\\\! 채권별 스캔본 (한울가람, 9001~)(스캔파일)\\\\22.베리타스_솔림헬프\\\\1.베리타스에서 파일로 준 원인서류', '20499608 정경하 원인서류', '정경하_5242230000640722.pdf']\n",
      "['D:\\\\extraKey\\\\서울\\\\! 채권별 스캔본 (한울가람, 9001~)\\\\! 채권별 스캔본 (한울가람, 9001~)(스캔파일)\\\\22.베리타스_솔림헬프\\\\1.베리타스에서 파일로 준 원인서류', '20499618 조정위 원인서류', '조정위_40397761164480.pdf']\n",
      "['D:\\\\extraKey\\\\서울\\\\! 채권별 스캔본 (한울가람, 9001~)\\\\! 채권별 스캔본 (한울가람, 9001~)(스캔파일)\\\\22.베리타스_솔림헬프\\\\1.베리타스에서 파일로 준 원인서류', '20499647 이성숙 원인서류', '이성숙_56692760836458_0172.pdf']\n",
      "['D:\\\\extraKey\\\\서울\\\\! 채권별 스캔본 (한울가람, 9001~)\\\\! 채권별 스캔본 (한울가람, 9001~)(스캔파일)\\\\22.베리타스_솔림헬프\\\\1.베리타스에서 파일로 준 원인서류', '20499650 김억동 원인서류', '김억동 740820 40397761024761 8,000,000.pdf']\n",
      "['D:\\\\extraKey\\\\서울\\\\! 채권별 스캔본 (한울가람, 9001~)\\\\! 채권별 스캔본 (한울가람, 9001~)(스캔파일)\\\\22.베리타스_솔림헬프\\\\1.베리타스에서 파일로 준 원인서류', '20499654 유판관 원인서류', '0220151123850_신용대출신청서_0001_63472040.pdf']\n",
      "['D:\\\\extraKey\\\\서울\\\\! 채권별 스캔본 (한울가람, 9001~)\\\\! 채권별 스캔본 (한울가람, 9001~)(스캔파일)\\\\22.베리타스_솔림헬프\\\\1.베리타스에서 파일로 준 원인서류', '20499664 이득원 원인서류', '118646506720010_이득원.pdf']\n",
      "['D:\\\\extraKey\\\\서울\\\\! 채권별 스캔본 (한울가람, 9001~)\\\\! 채권별 스캔본 (한울가람, 9001~)(스캔파일)\\\\22.베리타스_솔림헬프\\\\1.베리타스에서 파일로 준 원인서류', '20499664 이득원 원인서류', '4743614030314613_이득원.pdf']\n",
      "['D:\\\\extraKey\\\\서울\\\\! 채권별 스캔본 (한울가람, 9001~)\\\\! 채권별 스캔본 (한울가람, 9001~)(스캔파일)\\\\22.베리타스_솔림헬프\\\\1.베리타스에서 파일로 준 원인서류', '20499674 문영도 원인서류', '9024054399_문영도_.pdf']\n",
      "['D:\\\\extraKey\\\\서울\\\\! 채권별 스캔본 (한울가람, 9001~)\\\\! 채권별 스캔본 (한울가람, 9001~)(스캔파일)\\\\22.베리타스_솔림헬프\\\\1.베리타스에서 파일로 준 원인서류', '20499684 김종욱 원인서류', '0220151364585_신용대출신청서_0001_65914398.pdf']\n",
      "['D:\\\\extraKey\\\\서울\\\\! 채권별 스캔본 (한울가람, 9001~)\\\\! 채권별 스캔본 (한울가람, 9001~)(스캔파일)\\\\22.베리타스_솔림헬프\\\\1.베리타스에서 파일로 준 원인서류', '20499685 김종욱 원인서류', '김종욱_40397761168086.pdf']\n",
      "['D:\\\\extraKey\\\\서울\\\\! 채권별 스캔본 (한울가람, 9001~)\\\\! 채권별 스캔본 (한울가람, 9001~)(스캔파일)\\\\22.베리타스_솔림헬프\\\\1.베리타스에서 파일로 준 원인서류', '20499692 최지영 원인서류', '4998760421599_최지영_30,000,000.pdf']\n",
      "['D:\\\\extraKey\\\\서울\\\\! 채권별 스캔본 (한울가람, 9001~)\\\\! 채권별 스캔본 (한울가람, 9001~)(스캔파일)\\\\22.베리타스_솔림헬프\\\\1.베리타스에서 파일로 준 원인서류', '20499703 박진영 원인서류', '박진영_40397760845646.pdf']\n",
      "['D:\\\\extraKey\\\\서울\\\\! 채권별 스캔본 (한울가람, 9001~)\\\\! 채권별 스캔본 (한울가람, 9001~)(스캔파일)\\\\22.베리타스_솔림헬프\\\\1.베리타스에서 파일로 준 원인서류', '20499704 한재홍 원인서류', '10054984953-1.pdf']\n",
      "['D:\\\\extraKey\\\\서울\\\\! 채권별 스캔본 (한울가람, 9001~)\\\\! 채권별 스캔본 (한울가람, 9001~)(스캔파일)\\\\22.베리타스_솔림헬프\\\\1.베리타스에서 파일로 준 원인서류', '20499704 한재홍 원인서류', '10054984953.pdf']\n",
      "['D:\\\\extraKey\\\\서울\\\\! 채권별 스캔본 (한울가람, 9001~)\\\\! 채권별 스캔본 (한울가람, 9001~)(스캔파일)\\\\22.베리타스_솔림헬프\\\\1.베리타스에서 파일로 준 원인서류', '20499705 안희수 원인서류', '9361016535_안희수_.pdf']\n",
      "['D:\\\\extraKey\\\\서울\\\\! 채권별 스캔본 (한울가람, 9001~)\\\\! 채권별 스캔본 (한울가람, 9001~)(스캔파일)\\\\22.베리타스_솔림헬프\\\\1.베리타스에서 파일로 준 원인서류', '20499717 김충남 원인서류', '김충남_56601762212578_1334.PDF']\n",
      "['D:\\\\extraKey\\\\서울\\\\! 채권별 스캔본 (한울가람, 9001~)\\\\! 채권별 스캔본 (한울가람, 9001~)(스캔파일)\\\\22.베리타스_솔림헬프\\\\1.베리타스에서 파일로 준 원인서류', '20499720 우경우 원인서류', '70009162830_우경우_1.pdf']\n",
      "['D:\\\\extraKey\\\\서울\\\\! 채권별 스캔본 (한울가람, 9001~)\\\\! 채권별 스캔본 (한울가람, 9001~)(스캔파일)\\\\22.베리타스_솔림헬프\\\\1.베리타스에서 파일로 준 원인서류', '20499740 이은영 원인서류', '이은영_56692760707754_1030.pdf']\n",
      "['D:\\\\extraKey\\\\서울\\\\! 채권별 스캔본 (한울가람, 9001~)\\\\! 채권별 스캔본 (한울가람, 9001~)(스캔파일)\\\\22.베리타스_솔림헬프\\\\1.베리타스에서 파일로 준 원인서류', '20499741 함승철 원인서류', '10053360996-1.pdf']\n",
      "['D:\\\\extraKey\\\\서울\\\\! 채권별 스캔본 (한울가람, 9001~)\\\\! 채권별 스캔본 (한울가람, 9001~)(스캔파일)\\\\22.베리타스_솔림헬프\\\\1.베리타스에서 파일로 준 원인서류', '20499741 함승철 원인서류', '10053360996.pdf']\n",
      "['D:\\\\extraKey\\\\서울\\\\! 채권별 스캔본 (한울가람, 9001~)\\\\! 채권별 스캔본 (한울가람, 9001~)(스캔파일)\\\\22.베리타스_솔림헬프\\\\1.베리타스에서 파일로 준 원인서류', '20499754 정연진 원인서류', '06891764116563.pdf']\n",
      "['D:\\\\extraKey\\\\서울\\\\! 채권별 스캔본 (한울가람, 9001~)\\\\! 채권별 스캔본 (한울가람, 9001~)(스캔파일)\\\\22.베리타스_솔림헬프\\\\1.베리타스에서 파일로 준 원인서류', '20499760 윤동식 원인서류', '10007334611-1.pdf']\n",
      "['D:\\\\extraKey\\\\서울\\\\! 채권별 스캔본 (한울가람, 9001~)\\\\! 채권별 스캔본 (한울가람, 9001~)(스캔파일)\\\\22.베리타스_솔림헬프\\\\1.베리타스에서 파일로 준 원인서류', '20499760 윤동식 원인서류', '10007334611.pdf']\n",
      "['D:\\\\extraKey\\\\서울\\\\! 채권별 스캔본 (한울가람, 9001~)\\\\! 채권별 스캔본 (한울가람, 9001~)(스캔파일)\\\\22.베리타스_솔림헬프\\\\1.베리타스에서 파일로 준 원인서류', '20499771 김태수 원인서류', '0220151186697_신용대출신청서_0001_63979765.pdf']\n",
      "['D:\\\\extraKey\\\\서울\\\\! 채권별 스캔본 (한울가람, 9001~)\\\\! 채권별 스캔본 (한울가람, 9001~)(스캔파일)\\\\22.베리타스_솔림헬프\\\\1.베리타스에서 파일로 준 원인서류', '20499777 조순재 원인서류', '0220151120544_신용대출신청서_0001_63400602.pdf']\n",
      "['D:\\\\extraKey\\\\서울\\\\! 채권별 스캔본 (한울가람, 9001~)\\\\! 채권별 스캔본 (한울가람, 9001~)(스캔파일)\\\\22.베리타스_솔림헬프\\\\1.베리타스에서 파일로 준 원인서류', '20499778 조순재 원인서류', '40306760035028.pdf']\n",
      "['D:\\\\extraKey\\\\서울\\\\! 채권별 스캔본 (한울가람, 9001~)\\\\! 채권별 스캔본 (한울가람, 9001~)(스캔파일)\\\\22.베리타스_솔림헬프\\\\1.베리타스에서 파일로 준 원인서류', '20499779 박태영 원인서류', '박태영_5241440002000913.pdf']\n",
      "['D:\\\\extraKey\\\\서울\\\\! 채권별 스캔본 (한울가람, 9001~)\\\\! 채권별 스캔본 (한울가람, 9001~)(스캔파일)\\\\22.베리타스_솔림헬프\\\\1.베리타스에서 파일로 준 원인서류', '20499784 오범석 원인서류', '4961760199113_오범석.pdf']\n",
      "['D:\\\\extraKey\\\\서울\\\\! 채권별 스캔본 (한울가람, 9001~)\\\\! 채권별 스캔본 (한울가람, 9001~)(스캔파일)\\\\22.베리타스_솔림헬프\\\\1.베리타스에서 파일로 준 원인서류', '20499793 이희정 원인서류', '40397760480640.pdf']\n",
      "['D:\\\\extraKey\\\\서울\\\\! 채권별 스캔본 (한울가람, 9001~)\\\\! 채권별 스캔본 (한울가람, 9001~)(스캔파일)\\\\22.베리타스_솔림헬프\\\\1.베리타스에서 파일로 준 원인서류', '20499799 송병진 원인서류', '4961760169075_송병진_3,000,000.pdf']\n",
      "['D:\\\\extraKey\\\\서울\\\\! 채권별 스캔본 (한울가람, 9001~)\\\\! 채권별 스캔본 (한울가람, 9001~)(스캔파일)\\\\22.베리타스_솔림헬프\\\\1.베리타스에서 파일로 준 원인서류', '20499801 전상준 원인서류', '9024000485_전상준_.pdf']\n",
      "['D:\\\\extraKey\\\\서울\\\\! 채권별 스캔본 (한울가람, 9001~)\\\\! 채권별 스캔본 (한울가람, 9001~)(스캔파일)\\\\22.베리타스_솔림헬프\\\\1.베리타스에서 파일로 준 원인서류', '20499801 전상준 원인서류', '9024000485_전상준__1.pdf']\n",
      "['D:\\\\extraKey\\\\서울\\\\! 채권별 스캔본 (한울가람, 9001~)\\\\! 채권별 스캔본 (한울가람, 9001~)(스캔파일)\\\\22.베리타스_솔림헬프\\\\1.베리타스에서 파일로 준 원인서류', '20499810 이정원 원인서류', '40397761189834.pdf']\n",
      "['D:\\\\extraKey\\\\서울\\\\! 채권별 스캔본 (한울가람, 9001~)\\\\! 채권별 스캔본 (한울가람, 9001~)(스캔파일)\\\\22.베리타스_솔림헬프\\\\1.베리타스에서 파일로 준 원인서류', '20499823 김수환 원인서류', '김수환_4102000028.PDF']\n",
      "['D:\\\\extraKey\\\\서울\\\\! 채권별 스캔본 (한울가람, 9001~)\\\\! 채권별 스캔본 (한울가람, 9001~)(스캔파일)\\\\22.베리타스_솔림헬프\\\\1.베리타스에서 파일로 준 원인서류', '20499835 송세원 원인서류', '4961760444368_송세원_3,000,000.pdf']\n",
      "['D:\\\\extraKey\\\\서울\\\\! 채권별 스캔본 (한울가람, 9001~)\\\\! 채권별 스캔본 (한울가람, 9001~)(스캔파일)\\\\22.베리타스_솔림헬프\\\\1.베리타스에서 파일로 준 원인서류', '20499837 김현 원인서류', '04801762020385(원본).pdf']\n",
      "['D:\\\\extraKey\\\\서울\\\\! 채권별 스캔본 (한울가람, 9001~)\\\\! 채권별 스캔본 (한울가람, 9001~)(스캔파일)\\\\22.베리타스_솔림헬프\\\\1.베리타스에서 파일로 준 원인서류', '20499837 김현 원인서류', '20160531201510230019426354511.pdf']\n",
      "['D:\\\\extraKey\\\\서울\\\\! 채권별 스캔본 (한울가람, 9001~)\\\\! 채권별 스캔본 (한울가람, 9001~)(스캔파일)\\\\22.베리타스_솔림헬프\\\\1.베리타스에서 파일로 준 원인서류', '20499837 김현 원인서류', '20160826201510230019426494148.pdf']\n",
      "['D:\\\\extraKey\\\\서울\\\\! 채권별 스캔본 (한울가람, 9001~)\\\\! 채권별 스캔본 (한울가람, 9001~)(스캔파일)\\\\22.베리타스_솔림헬프\\\\1.베리타스에서 파일로 준 원인서류', '20499845 김윤중 원인서류', '0220151320945_신용대출신청서_0001_65374474.pdf']\n",
      "['D:\\\\extraKey\\\\서울\\\\! 채권별 스캔본 (한울가람, 9001~)\\\\! 채권별 스캔본 (한울가람, 9001~)(스캔파일)\\\\22.베리타스_솔림헬프\\\\1.베리타스에서 파일로 준 원인서류', '20499845 김윤중 원인서류', '0220151321659_신용대출신청서_0001_65374475.pdf']\n",
      "['D:\\\\extraKey\\\\서울\\\\! 채권별 스캔본 (한울가람, 9001~)\\\\! 채권별 스캔본 (한울가람, 9001~)(스캔파일)\\\\22.베리타스_솔림헬프\\\\1.베리타스에서 파일로 준 원인서류', '20499848 임진아 원인서류', '40397761305199.pdf']\n",
      "['D:\\\\extraKey\\\\서울\\\\! 채권별 스캔본 (한울가람, 9001~)\\\\! 채권별 스캔본 (한울가람, 9001~)(스캔파일)\\\\22.베리타스_솔림헬프\\\\1.베리타스에서 파일로 준 원인서류', '20499854 김미희 원인서류', '16092400004_김미희.pdf']\n",
      "['D:\\\\extraKey\\\\서울\\\\! 채권별 스캔본 (한울가람, 9001~)\\\\! 채권별 스캔본 (한울가람, 9001~)(스캔파일)\\\\22.베리타스_솔림헬프\\\\1.베리타스에서 파일로 준 원인서류', '20499854 김미희 원인서류', '16092400005_김미희.pdf']\n",
      "['D:\\\\extraKey\\\\서울\\\\! 채권별 스캔본 (한울가람, 9001~)\\\\! 채권별 스캔본 (한울가람, 9001~)(스캔파일)\\\\22.베리타스_솔림헬프\\\\1.베리타스에서 파일로 준 원인서류', '20499856 김영미 원인서류', '0220121957569_신용대출신청서_0001_52677831.PDF']\n",
      "['D:\\\\extraKey\\\\서울\\\\! 채권별 스캔본 (한울가람, 9001~)\\\\! 채권별 스캔본 (한울가람, 9001~)(스캔파일)\\\\22.베리타스_솔림헬프\\\\1.베리타스에서 파일로 준 원인서류', '20499865 정인규 원인서류', '9911028617.pdf']\n",
      "['D:\\\\extraKey\\\\서울\\\\! 채권별 스캔본 (한울가람, 9001~)\\\\! 채권별 스캔본 (한울가람, 9001~)(스캔파일)\\\\22.베리타스_솔림헬프\\\\1.베리타스에서 파일로 준 원인서류', '20499878 진일환 원인서류', '40397761206850.pdf']\n",
      "['D:\\\\extraKey\\\\서울\\\\! 채권별 스캔본 (한울가람, 9001~)\\\\! 채권별 스캔본 (한울가람, 9001~)(스캔파일)\\\\22.베리타스_솔림헬프\\\\1.베리타스에서 파일로 준 원인서류', '20499891 엄회원 원인서류', '6891760501330.pdf']\n",
      "['D:\\\\extraKey\\\\서울\\\\! 채권별 스캔본 (한울가람, 9001~)\\\\! 채권별 스캔본 (한울가람, 9001~)(스캔파일)\\\\22.베리타스_솔림헬프\\\\1.베리타스에서 파일로 준 원인서류', '20499891 엄회원 원인서류', '6891760501348.pdf']\n",
      "['D:\\\\extraKey\\\\서울\\\\! 채권별 스캔본 (한울가람, 9001~)\\\\! 채권별 스캔본 (한울가람, 9001~)(스캔파일)\\\\22.베리타스_솔림헬프\\\\1.베리타스에서 파일로 준 원인서류', '20499896 정효미 원인서류', '0220141189144_신용대출신청서_0001_61019887.pdf']\n",
      "['D:\\\\extraKey\\\\서울\\\\! 채권별 스캔본 (한울가람, 9001~)\\\\! 채권별 스캔본 (한울가람, 9001~)(스캔파일)\\\\22.베리타스_솔림헬프\\\\1.베리타스에서 파일로 준 원인서류', '20499901 김현우 원인서류', '김현우_40306760038539.pdf']\n",
      "['D:\\\\extraKey\\\\서울\\\\! 채권별 스캔본 (한울가람, 9001~)\\\\! 채권별 스캔본 (한울가람, 9001~)(스캔파일)\\\\22.베리타스_솔림헬프\\\\1.베리타스에서 파일로 준 원인서류', '20499909 이미혜 원인서류', '0220121123777_신용대출신청서_0001_47057385.pdf']\n",
      "['D:\\\\extraKey\\\\서울\\\\! 채권별 스캔본 (한울가람, 9001~)\\\\! 채권별 스캔본 (한울가람, 9001~)(스캔파일)\\\\22.베리타스_솔림헬프\\\\1.베리타스에서 파일로 준 원인서류', '20499916 김범석 원인서류', '5002000454김범석.pdf']\n",
      "['D:\\\\extraKey\\\\서울\\\\! 채권별 스캔본 (한울가람, 9001~)\\\\! 채권별 스캔본 (한울가람, 9001~)(스캔파일)\\\\22.베리타스_솔림헬프\\\\1.베리타스에서 파일로 준 원인서류', '20499918 최대식 원인서류', '최대식_40306760069372.pdf']\n",
      "['D:\\\\extraKey\\\\서울\\\\! 채권별 스캔본 (한울가람, 9001~)\\\\! 채권별 스캔본 (한울가람, 9001~)(스캔파일)\\\\22.베리타스_솔림헬프\\\\1.베리타스에서 파일로 준 원인서류', '20499920 황동욱 원인서류', '10053748365-1.pdf']\n",
      "['D:\\\\extraKey\\\\서울\\\\! 채권별 스캔본 (한울가람, 9001~)\\\\! 채권별 스캔본 (한울가람, 9001~)(스캔파일)\\\\22.베리타스_솔림헬프\\\\1.베리타스에서 파일로 준 원인서류', '20499920 황동욱 원인서류', '10053748365.pdf']\n",
      "['D:\\\\extraKey\\\\서울\\\\! 채권별 스캔본 (한울가람, 9001~)\\\\! 채권별 스캔본 (한울가람, 9001~)(스캔파일)\\\\22.베리타스_솔림헬프\\\\1.베리타스에서 파일로 준 원인서류', '20499929 박현미 원인서류', '박현미_9689029636_0061.pdf']\n",
      "['D:\\\\extraKey\\\\서울\\\\! 채권별 스캔본 (한울가람, 9001~)\\\\! 채권별 스캔본 (한울가람, 9001~)(스캔파일)\\\\22.베리타스_솔림헬프\\\\1.베리타스에서 파일로 준 원인서류', '20499929 박현미 원인서류', '박현미_9689029636_0062.pdf']\n",
      "['D:\\\\extraKey\\\\서울\\\\! 채권별 스캔본 (한울가람, 9001~)\\\\! 채권별 스캔본 (한울가람, 9001~)(스캔파일)\\\\22.베리타스_솔림헬프\\\\1.베리타스에서 파일로 준 원인서류', '20499937 정일준 원인서류', '6891763726241_정일준.pdf']\n",
      "['D:\\\\extraKey\\\\서울\\\\! 채권별 스캔본 (한울가람, 9001~)\\\\! 채권별 스캔본 (한울가람, 9001~)(스캔파일)\\\\22.베리타스_솔림헬프\\\\1.베리타스에서 파일로 준 원인서류', '20499937 정일준 원인서류', '6891763919787_정일준.pdf']\n",
      "['D:\\\\extraKey\\\\서울\\\\! 채권별 스캔본 (한울가람, 9001~)\\\\! 채권별 스캔본 (한울가람, 9001~)(스캔파일)\\\\22.베리타스_솔림헬프\\\\1.베리타스에서 파일로 준 원인서류', '20499937 정일준 원인서류', '6891764579965_정일준.pdf']\n",
      "['D:\\\\extraKey\\\\서울\\\\! 채권별 스캔본 (한울가람, 9001~)\\\\! 채권별 스캔본 (한울가람, 9001~)(스캔파일)\\\\22.베리타스_솔림헬프\\\\1.베리타스에서 파일로 준 원인서류', '20499937 정일준 원인서류', '6891764853171_정일준.pdf']\n",
      "['D:\\\\extraKey\\\\서울\\\\! 채권별 스캔본 (한울가람, 9001~)\\\\! 채권별 스캔본 (한울가람, 9001~)(스캔파일)\\\\22.베리타스_솔림헬프\\\\1.베리타스에서 파일로 준 원인서류', '20499948 도균한 원인서류', '04801761519548(원본).pdf']\n",
      "['D:\\\\extraKey\\\\서울\\\\! 채권별 스캔본 (한울가람, 9001~)\\\\! 채권별 스캔본 (한울가람, 9001~)(스캔파일)\\\\22.베리타스_솔림헬프\\\\1.베리타스에서 파일로 준 원인서류', '20499948 도균한 원인서류', '20141127201411250000605599896.pdf']\n",
      "['D:\\\\extraKey\\\\서울\\\\! 채권별 스캔본 (한울가람, 9001~)\\\\! 채권별 스캔본 (한울가람, 9001~)(스캔파일)\\\\22.베리타스_솔림헬프\\\\1.베리타스에서 파일로 준 원인서류', '20499948 도균한 원인서류', '20160523201411250000606340279.pdf']\n",
      "['D:\\\\extraKey\\\\서울\\\\! 채권별 스캔본 (한울가람, 9001~)\\\\! 채권별 스캔본 (한울가람, 9001~)(스캔파일)\\\\22.베리타스_솔림헬프\\\\1.베리타스에서 파일로 준 원인서류', '20499952 박미경 원인서류', '박미경_56692760382857_1095.pdf']\n",
      "['D:\\\\extraKey\\\\서울\\\\! 채권별 스캔본 (한울가람, 9001~)\\\\! 채권별 스캔본 (한울가람, 9001~)(스캔파일)\\\\22.베리타스_솔림헬프\\\\1.베리타스에서 파일로 준 원인서류', '20499953 한지형 원인서류', '4961760434048_한지형_20,000,000.pdf']\n",
      "['D:\\\\extraKey\\\\서울\\\\! 채권별 스캔본 (한울가람, 9001~)\\\\! 채권별 스캔본 (한울가람, 9001~)(스캔파일)\\\\22.베리타스_솔림헬프\\\\1.베리타스에서 파일로 준 원인서류', '20499956 정하욱 원인서류', '6891763412989.pdf']\n",
      "['D:\\\\extraKey\\\\서울\\\\! 채권별 스캔본 (한울가람, 9001~)\\\\! 채권별 스캔본 (한울가람, 9001~)(스캔파일)\\\\22.베리타스_솔림헬프\\\\1.베리타스에서 파일로 준 원인서류', '20499956 정하욱 원인서류', '6891763580647.pdf']\n",
      "['D:\\\\extraKey\\\\서울\\\\! 채권별 스캔본 (한울가람, 9001~)\\\\! 채권별 스캔본 (한울가람, 9001~)(스캔파일)\\\\22.베리타스_솔림헬프\\\\1.베리타스에서 파일로 준 원인서류', '20499959 서재필 원인서류', '40397761092215.pdf']\n",
      "['D:\\\\extraKey\\\\서울\\\\! 채권별 스캔본 (한울가람, 9001~)\\\\! 채권별 스캔본 (한울가람, 9001~)(스캔파일)\\\\22.베리타스_솔림헬프\\\\1.베리타스에서 파일로 준 원인서류', '20499961 장윤정 원인서류', '9038078660_장윤정_.pdf']\n",
      "['D:\\\\extraKey\\\\서울\\\\! 채권별 스캔본 (한울가람, 9001~)\\\\! 채권별 스캔본 (한울가람, 9001~)(스캔파일)\\\\22.베리타스_솔림헬프\\\\1.베리타스에서 파일로 준 원인서류', '20499972 임지혜 원인서류', '임지혜_56692760789611_0360.pdf']\n",
      "['D:\\\\extraKey\\\\서울\\\\! 채권별 스캔본 (한울가람, 9001~)\\\\! 채권별 스캔본 (한울가람, 9001~)(스캔파일)\\\\22.베리타스_솔림헬프\\\\1.베리타스에서 파일로 준 원인서류', '20499973 한지유 원인서류', 'C41809185100000_20180927174628.pdf']\n",
      "['D:\\\\extraKey\\\\서울\\\\! 채권별 스캔본 (한울가람, 9001~)\\\\! 채권별 스캔본 (한울가람, 9001~)(스캔파일)\\\\22.베리타스_솔림헬프\\\\1.베리타스에서 파일로 준 원인서류', '20499979 조태순 원인서류', '9383015429_조태순_.pdf']\n",
      "['D:\\\\extraKey\\\\서울\\\\! 채권별 스캔본 (한울가람, 9001~)\\\\! 채권별 스캔본 (한울가람, 9001~)(스캔파일)\\\\22.베리타스_솔림헬프\\\\1.베리타스에서 파일로 준 원인서류', '20499988 장낙호 원인서류', '9038077718_장낙호_.pdf']\n",
      "['D:\\\\extraKey\\\\서울\\\\! 채권별 스캔본 (한울가람, 9001~)\\\\! 채권별 스캔본 (한울가람, 9001~)(스캔파일)\\\\22.베리타스_솔림헬프\\\\1.베리타스에서 파일로 준 원인서류', '20499993 김성균 원인서류', 'C41710209610000_20171031171818.pdf']\n",
      "['D:\\\\extraKey\\\\서울\\\\! 채권별 스캔본 (한울가람, 9001~)\\\\! 채권별 스캔본 (한울가람, 9001~)(스캔파일)\\\\22.베리타스_솔림헬프\\\\1.베리타스에서 파일로 준 원인서류', '20499995 나세욱 원인서류', '0220151249377_신용대출신청서_0001_64662382.pdf']\n",
      "['D:\\\\extraKey\\\\서울\\\\! 채권별 스캔본 (한울가람, 9001~)\\\\! 채권별 스캔본 (한울가람, 9001~)(스캔파일)\\\\22.베리타스_솔림헬프\\\\1.베리타스에서 파일로 준 원인서류', '20500002 김기철 원인서류', '06614758344759_김기철.pdf']\n",
      "['D:\\\\extraKey\\\\서울\\\\! 채권별 스캔본 (한울가람, 9001~)\\\\! 채권별 스캔본 (한울가람, 9001~)(스캔파일)\\\\22.베리타스_솔림헬프\\\\1.베리타스에서 파일로 준 원인서류', '20500003 김홍승 원인서류', '김홍승_56601762198128_1455.PDF']\n",
      "['D:\\\\extraKey\\\\서울\\\\! 채권별 스캔본 (한울가람, 9001~)\\\\! 채권별 스캔본 (한울가람, 9001~)(스캔파일)\\\\22.베리타스_솔림헬프\\\\1.베리타스에서 파일로 준 원인서류', '20500016 김상근 원인서류', '9409151089120298_김상근0295.pdf']\n",
      "['D:\\\\extraKey\\\\서울\\\\! 채권별 스캔본 (한울가람, 9001~)\\\\! 채권별 스캔본 (한울가람, 9001~)(스캔파일)\\\\22.베리타스_솔림헬프\\\\1.베리타스에서 파일로 준 원인서류', '20500031 송현화 원인서류', '9024059809_송현화_.pdf']\n",
      "['D:\\\\extraKey\\\\서울\\\\! 채권별 스캔본 (한울가람, 9001~)\\\\! 채권별 스캔본 (한울가람, 9001~)(스캔파일)\\\\22.베리타스_솔림헬프\\\\1.베리타스에서 파일로 준 원인서류', '20500043 고영세 원인서류', '4347014100036.wav']\n",
      "['D:\\\\extraKey\\\\서울\\\\! 채권별 스캔본 (한울가람, 9001~)\\\\! 채권별 스캔본 (한울가람, 9001~)(스캔파일)\\\\22.베리타스_솔림헬프\\\\1.베리타스에서 파일로 준 원인서류', '20500052 서창현 원인서류', '9024058956_서창현_.pdf']\n",
      "['D:\\\\extraKey\\\\서울\\\\! 채권별 스캔본 (한울가람, 9001~)\\\\! 채권별 스캔본 (한울가람, 9001~)(스캔파일)\\\\22.베리타스_솔림헬프\\\\1.베리타스에서 파일로 준 원인서류', '20500059 강승만 원인서류', '0220151329901_신용대출신청서_0001_65495581.pdf']\n",
      "['D:\\\\extraKey\\\\서울\\\\! 채권별 스캔본 (한울가람, 9001~)\\\\! 채권별 스캔본 (한울가람, 9001~)(스캔파일)\\\\22.베리타스_솔림헬프\\\\1.베리타스에서 파일로 준 원인서류', '20500062 송은혜 원인서류', '송은혜_56692760576072_1034.pdf']\n",
      "['D:\\\\extraKey\\\\서울\\\\! 채권별 스캔본 (한울가람, 9001~)\\\\! 채권별 스캔본 (한울가람, 9001~)(스캔파일)\\\\22.베리타스_솔림헬프\\\\1.베리타스에서 파일로 준 원인서류', '20500063 오영민 원인서류', '40397761332132.pdf']\n",
      "['D:\\\\extraKey\\\\서울\\\\! 채권별 스캔본 (한울가람, 9001~)\\\\! 채권별 스캔본 (한울가람, 9001~)(스캔파일)\\\\22.베리타스_솔림헬프\\\\1.베리타스에서 파일로 준 원인서류', '20500080 박종석 원인서류', '70049718862_박종석0046.pdf']\n",
      "['D:\\\\extraKey\\\\서울\\\\! 채권별 스캔본 (한울가람, 9001~)\\\\! 채권별 스캔본 (한울가람, 9001~)(스캔파일)\\\\22.베리타스_솔림헬프\\\\1.베리타스에서 파일로 준 원인서류', '20500085 한태규 원인서류', '한태규 830606 40397760966797 8,000,000.pdf']\n",
      "['D:\\\\extraKey\\\\서울\\\\! 채권별 스캔본 (한울가람, 9001~)\\\\! 채권별 스캔본 (한울가람, 9001~)(스캔파일)\\\\22.베리타스_솔림헬프\\\\1.베리타스에서 파일로 준 원인서류', '20500085 한태규 원인서류', '한태규 830606 40397760966844 10,000,000.pdf']\n",
      "['D:\\\\extraKey\\\\서울\\\\! 채권별 스캔본 (한울가람, 9001~)\\\\! 채권별 스캔본 (한울가람, 9001~)(스캔파일)\\\\22.베리타스_솔림헬프\\\\1.베리타스에서 파일로 준 원인서류', '20500087 이태희 원인서류', '9024056245_이태희_.pdf']\n",
      "['D:\\\\extraKey\\\\서울\\\\! 채권별 스캔본 (한울가람, 9001~)\\\\! 채권별 스캔본 (한울가람, 9001~)(스캔파일)\\\\22.베리타스_솔림헬프\\\\1.베리타스에서 파일로 준 원인서류', '20500114 서영숙 원인서류', '20150508201504240000215825410.pdf']\n",
      "['D:\\\\extraKey\\\\서울\\\\! 채권별 스캔본 (한울가람, 9001~)\\\\! 채권별 스캔본 (한울가람, 9001~)(스캔파일)\\\\22.베리타스_솔림헬프\\\\1.베리타스에서 파일로 준 원인서류', '20500114 서영숙 원인서류', '20161027201504240000216592705.pdf']\n",
      "['D:\\\\extraKey\\\\서울\\\\! 채권별 스캔본 (한울가람, 9001~)\\\\! 채권별 스캔본 (한울가람, 9001~)(스캔파일)\\\\22.베리타스_솔림헬프\\\\1.베리타스에서 파일로 준 원인서류', '20500115 황소희 원인서류', '9024003625_황소희_.pdf']\n",
      "['D:\\\\extraKey\\\\서울\\\\! 채권별 스캔본 (한울가람, 9001~)\\\\! 채권별 스캔본 (한울가람, 9001~)(스캔파일)\\\\22.베리타스_솔림헬프\\\\1.베리타스에서 파일로 준 원인서류', '20500115 황소희 원인서류', '9024003625_황소희__1.pdf']\n",
      "['D:\\\\extraKey\\\\서울\\\\! 채권별 스캔본 (한울가람, 9001~)\\\\! 채권별 스캔본 (한울가람, 9001~)(스캔파일)\\\\22.베리타스_솔림헬프\\\\1.베리타스에서 파일로 준 원인서류', '20500175 권수진 원인서류', '6804760064442 권수진.pdf']\n",
      "['D:\\\\extraKey\\\\서울\\\\! 채권별 스캔본 (한울가람, 9001~)\\\\! 채권별 스캔본 (한울가람, 9001~)(스캔파일)\\\\22.베리타스_솔림헬프\\\\1.베리타스에서 파일로 준 원인서류', '20500175 권수진 원인서류', '6804760064450 권수진.pdf']\n",
      "['D:\\\\extraKey\\\\서울\\\\! 채권별 스캔본 (한울가람, 9001~)\\\\! 채권별 스캔본 (한울가람, 9001~)(스캔파일)\\\\22.베리타스_솔림헬프\\\\1.베리타스에서 파일로 준 원인서류', '20500183 황정환 원인서류', '황정환_56692760746271_0489.pdf']\n",
      "['D:\\\\extraKey\\\\서울\\\\! 채권별 스캔본 (한울가람, 9001~)\\\\! 채권별 스캔본 (한울가람, 9001~)(스캔파일)\\\\22.베리타스_솔림헬프\\\\1.베리타스에서 파일로 준 원인서류', '20500197 배수용 원인서류', '0220151273153_기타_0009_64859762.pdf']\n",
      "['D:\\\\extraKey\\\\서울\\\\! 채권별 스캔본 (한울가람, 9001~)\\\\! 채권별 스캔본 (한울가람, 9001~)(스캔파일)\\\\22.베리타스_솔림헬프\\\\1.베리타스에서 파일로 준 원인서류', '20500229 박준혁 원인서류', '0220151000798_신용대출신청서_0001_62346485.pdf']\n",
      "['D:\\\\extraKey\\\\서울\\\\! 채권별 스캔본 (한울가람, 9001~)\\\\! 채권별 스캔본 (한울가람, 9001~)(스캔파일)\\\\22.베리타스_솔림헬프\\\\1.베리타스에서 파일로 준 원인서류', '20500229 박준혁 원인서류', '0220151070802_신용대출신청서_0001_62962202.pdf']\n",
      "['D:\\\\extraKey\\\\서울\\\\! 채권별 스캔본 (한울가람, 9001~)\\\\! 채권별 스캔본 (한울가람, 9001~)(스캔파일)\\\\22.베리타스_솔림헬프\\\\1.베리타스에서 파일로 준 원인서류', '20500285 이현주 원인서류', '6807760093570.pdf']\n",
      "['D:\\\\extraKey\\\\서울\\\\! 채권별 스캔본 (한울가람, 9001~)\\\\! 채권별 스캔본 (한울가람, 9001~)(스캔파일)\\\\22.베리타스_솔림헬프\\\\1.베리타스에서 파일로 준 원인서류', '20500298 양인석 원인서류', '0220151175694_신용대출신청서_0001_63953634.pdf']\n",
      "['D:\\\\extraKey\\\\서울\\\\! 채권별 스캔본 (한울가람, 9001~)\\\\! 채권별 스캔본 (한울가람, 9001~)(스캔파일)\\\\22.베리타스_솔림헬프\\\\1.베리타스에서 파일로 준 원인서류', '20500298 양인석 원인서류', '0220151229596_신용대출신청서_0001_64566820.pdf']\n",
      "['D:\\\\extraKey\\\\서울\\\\! 채권별 스캔본 (한울가람, 9001~)\\\\! 채권별 스캔본 (한울가람, 9001~)(스캔파일)\\\\22.베리타스_솔림헬프\\\\1.베리타스에서 파일로 준 원인서류', '20500308 박승우 원인서류', '0220161063923_신용대출신청서_0001_66865465.pdf']\n",
      "['D:\\\\extraKey\\\\서울\\\\! 채권별 스캔본 (한울가람, 9001~)\\\\! 채권별 스캔본 (한울가람, 9001~)(스캔파일)\\\\22.베리타스_솔림헬프\\\\1.베리타스에서 파일로 준 원인서류', '20500311 이승우 원인서류', '40397761250728.pdf']\n",
      "['D:\\\\extraKey\\\\서울\\\\! 채권별 스캔본 (한울가람, 9001~)\\\\! 채권별 스캔본 (한울가람, 9001~)(스캔파일)\\\\22.베리타스_솔림헬프\\\\1.베리타스에서 파일로 준 원인서류', '20500313 이광성 원인서류', '이광성_40397761033360.pdf']\n",
      "['D:\\\\extraKey\\\\서울\\\\! 채권별 스캔본 (한울가람, 9001~)\\\\! 채권별 스캔본 (한울가람, 9001~)(스캔파일)\\\\22.베리타스_솔림헬프\\\\1.베리타스에서 파일로 준 원인서류', '20500317 곽용호 원인서류', '0220161095273_신용대출신청서_0001_67238848.pdf']\n",
      "['D:\\\\extraKey\\\\서울\\\\! 채권별 스캔본 (한울가람, 9001~)\\\\! 채권별 스캔본 (한울가람, 9001~)(스캔파일)\\\\22.베리타스_솔림헬프\\\\1.베리타스에서 파일로 준 원인서류', '20500333 김재홍 원인서류', '04801761976009(원본).pdf']\n",
      "['D:\\\\extraKey\\\\서울\\\\! 채권별 스캔본 (한울가람, 9001~)\\\\! 채권별 스캔본 (한울가람, 9001~)(스캔파일)\\\\22.베리타스_솔림헬프\\\\1.베리타스에서 파일로 준 원인서류', '20500333 김재홍 원인서류', '20160713201509210014166419617.pdf']\n",
      "['D:\\\\extraKey\\\\서울\\\\! 채권별 스캔본 (한울가람, 9001~)\\\\! 채권별 스캔본 (한울가람, 9001~)(스캔파일)\\\\22.베리타스_솔림헬프\\\\1.베리타스에서 파일로 준 원인서류', '20500334 한동훈 원인서류', '20161017201604210030016572197.pdf']\n",
      "['D:\\\\extraKey\\\\서울\\\\! 채권별 스캔본 (한울가람, 9001~)\\\\! 채권별 스캔본 (한울가람, 9001~)(스캔파일)\\\\22.베리타스_솔림헬프\\\\1.베리타스에서 파일로 준 원인서류', '20500334 한동훈 원인서류', '20161117201604210030016627725.pdf']\n",
      "['D:\\\\extraKey\\\\서울\\\\! 채권별 스캔본 (한울가람, 9001~)\\\\! 채권별 스캔본 (한울가람, 9001~)(스캔파일)\\\\22.베리타스_솔림헬프\\\\1.베리타스에서 파일로 준 원인서류', '20500335 이초현 원인서류', '10108106507-1.pdf']\n",
      "['D:\\\\extraKey\\\\서울\\\\! 채권별 스캔본 (한울가람, 9001~)\\\\! 채권별 스캔본 (한울가람, 9001~)(스캔파일)\\\\22.베리타스_솔림헬프\\\\1.베리타스에서 파일로 준 원인서류', '20500335 이초현 원인서류', '10108106507.pdf']\n",
      "['D:\\\\extraKey\\\\서울\\\\! 채권별 스캔본 (한울가람, 9001~)\\\\! 채권별 스캔본 (한울가람, 9001~)(스캔파일)\\\\22.베리타스_솔림헬프\\\\1.베리타스에서 파일로 준 원인서류', '20500336 조정환 원인서류', '04801760966713(원본).pdf']\n",
      "['D:\\\\extraKey\\\\서울\\\\! 채권별 스캔본 (한울가람, 9001~)\\\\! 채권별 스캔본 (한울가람, 9001~)(스캔파일)\\\\22.베리타스_솔림헬프\\\\1.베리타스에서 파일로 준 원인서류', '20500336 조정환 원인서류', '20160602201307294662316357797.pdf']\n",
      "['D:\\\\extraKey\\\\서울\\\\! 채권별 스캔본 (한울가람, 9001~)\\\\! 채권별 스캔본 (한울가람, 9001~)(스캔파일)\\\\22.베리타스_솔림헬프\\\\1.베리타스에서 파일로 준 원인서류', '20500336 조정환 원인서류', '20160718201307294662316426137.pdf']\n",
      "['D:\\\\extraKey\\\\서울\\\\! 채권별 스캔본 (한울가람, 9001~)\\\\! 채권별 스캔본 (한울가람, 9001~)(스캔파일)\\\\22.베리타스_솔림헬프\\\\1.베리타스에서 파일로 준 원인서류', '20500339 김세훈 원인서류', '20160902201506100009496506544.pdf']\n",
      "['D:\\\\extraKey\\\\서울\\\\! 채권별 스캔본 (한울가람, 9001~)\\\\! 채권별 스캔본 (한울가람, 9001~)(스캔파일)\\\\22.베리타스_솔림헬프\\\\1.베리타스에서 파일로 준 원인서류', '20500339 김세훈 원인서류', '20161115201506100009496622563.pdf']\n",
      "['D:\\\\extraKey\\\\서울\\\\! 채권별 스캔본 (한울가람, 9001~)\\\\! 채권별 스캔본 (한울가람, 9001~)(스캔파일)\\\\22.베리타스_솔림헬프\\\\1.베리타스에서 파일로 준 원인서류', '20500340 장형태 원인서류', '04801761887535(원본).pdf']\n",
      "['D:\\\\extraKey\\\\서울\\\\! 채권별 스캔본 (한울가람, 9001~)\\\\! 채권별 스캔본 (한울가람, 9001~)(스캔파일)\\\\22.베리타스_솔림헬프\\\\1.베리타스에서 파일로 준 원인서류', '20500340 장형태 원인서류', '20160719201507210003546429347.pdf']\n",
      "['D:\\\\extraKey\\\\서울\\\\! 채권별 스캔본 (한울가람, 9001~)\\\\! 채권별 스캔본 (한울가람, 9001~)(스캔파일)\\\\22.베리타스_솔림헬프\\\\1.베리타스에서 파일로 준 원인서류', '20500340 장형태 원인서류', '20160901201507210003546504564.pdf']\n",
      "['D:\\\\extraKey\\\\서울\\\\! 채권별 스캔본 (한울가람, 9001~)\\\\! 채권별 스캔본 (한울가람, 9001~)(스캔파일)\\\\22.베리타스_솔림헬프\\\\1.베리타스에서 파일로 준 원인서류', '20500341 진광용 원인서류', '0220151209165_신용대출신청서_0001_64304109.pdf']\n",
      "['D:\\\\extraKey\\\\서울\\\\! 채권별 스캔본 (한울가람, 9001~)\\\\! 채권별 스캔본 (한울가람, 9001~)(스캔파일)\\\\22.베리타스_솔림헬프\\\\1.베리타스에서 파일로 준 원인서류', '20500344 오시연 원인서류', '20161102201601130001966601384.pdf']\n",
      "['D:\\\\extraKey\\\\서울\\\\! 채권별 스캔본 (한울가람, 9001~)\\\\! 채권별 스캔본 (한울가람, 9001~)(스캔파일)\\\\22.베리타스_솔림헬프\\\\1.베리타스에서 파일로 준 원인서류', '20500358 김예림 원인서류', '20161021201604110034966582480.pdf']\n"
     ]
    }
   ],
   "source": [
    "print(*notImg, sep=\"\\n\")"
   ]
  },
  {
   "cell_type": "code",
   "execution_count": 41,
   "metadata": {},
   "outputs": [],
   "source": [
    "# 이미지 파일 아닌 거 처리하기\n",
    "new = notImg[127:]"
   ]
  },
  {
   "cell_type": "code",
   "execution_count": 10,
   "metadata": {},
   "outputs": [
    {
     "name": "stdout",
     "output_type": "stream",
     "text": [
      "['D:\\\\extraKey\\\\서울\\\\! 채권별 스캔본 (한울가람, 9001~)\\\\! 채권별 스캔본 (한울가람, 9001~)(스캔파일)\\\\22.베리타스_솔림헬프\\\\1.베리타스에서 파일로 준 원인서류', '20499526 김광현 원인서류', '19031100023_녹취파일.wav']\n",
      "['D:\\\\extraKey\\\\서울\\\\! 채권별 스캔본 (한울가람, 9001~)\\\\! 채권별 스캔본 (한울가람, 9001~)(스캔파일)\\\\22.베리타스_솔림헬프\\\\1.베리타스에서 파일로 준 원인서류', '20500043 고영세 원인서류', '4347014100036.wav']\n"
     ]
    }
   ],
   "source": [
    "for x in notImg : \n",
    "    if not re.search(\"pdf|PDF\", x[2]) :\n",
    "        print(x)"
   ]
  },
  {
   "cell_type": "code",
   "execution_count": 15,
   "metadata": {},
   "outputs": [
    {
     "name": "stdout",
     "output_type": "stream",
     "text": [
      "이동 242개, 실패1개\n"
     ]
    }
   ],
   "source": [
    "dst_dir = r\"D:\\extraKey\\서울\\! 채권별 스캔본 (한울가람, 9001~)\\! 채권별 스캔본 (한울가람, 9001~)(스캔파일)\\22.베리타스_솔림헬프\\원인서류 notImg\"\n",
    "success = []\n",
    "fail = []\n",
    "for x in notImg :\n",
    "\n",
    "    src = join(x[0], x[1], x[2])\n",
    "    ext = os.path.splitext(x[2])[1]\n",
    "    new_name = x[1] + add_file_name + ext\n",
    "\n",
    "    sn = 0\n",
    "    while os.path.exists(join(dst_dir, new_name)) :\n",
    "        sn += 1\n",
    "        new_name = x[1] + add_file_name +\" \" + str(sn) + ext\n",
    "    try :\n",
    "        os.rename(src, join(dst_dir, new_name))\n",
    "        success.append([src, join(dst_dir, new_name)])\n",
    "    except Exception as e:\n",
    "        fail.append([src, e.__class__, e])\n",
    "\n",
    "print(f\"이동 {len(success)}개, 실패{len(fail)}개\")"
   ]
  },
  {
   "cell_type": "code",
   "execution_count": 16,
   "metadata": {},
   "outputs": [
    {
     "name": "stdout",
     "output_type": "stream",
     "text": [
      "[['D:\\\\extraKey\\\\서울\\\\! 채권별 스캔본 (한울가람, 9001~)\\\\! 채권별 스캔본 (한울가람, 9001~)(스캔파일)\\\\22.베리타스_솔림헬프\\\\1.베리타스에서 파일로 준 원인서류\\\\20498815 이갑선 원인서류\\\\0220141270521_신용대출신청서_0001_61923136.pdf', <class 'FileNotFoundError'>, FileNotFoundError(2, '지정된 파일을 찾을 수 없습니다')]]\n"
     ]
    }
   ],
   "source": [
    "print(fail)"
   ]
  },
  {
   "cell_type": "code",
   "execution_count": 30,
   "metadata": {},
   "outputs": [
    {
     "data": {
      "text/plain": [
       "'0001'"
      ]
     },
     "execution_count": 30,
     "metadata": {},
     "output_type": "execute_result"
    }
   ],
   "source": [
    "f = \"L41805056190001_0001.jpg\"\n",
    "m = re.search(r\"(?<=_)\\d{4,4}\", f).group()\n",
    "m"
   ]
  },
  {
   "cell_type": "markdown",
   "metadata": {},
   "source": [
    "### img2pdf 단일 폴더 내 파일 합치기"
   ]
  },
  {
   "cell_type": "code",
   "execution_count": 38,
   "metadata": {},
   "outputs": [
    {
     "ename": "KeyError",
     "evalue": "262",
     "output_type": "error",
     "traceback": [
      "\u001b[1;31m---------------------------------------------------------------------------\u001b[0m",
      "\u001b[1;31mKeyError\u001b[0m                                  Traceback (most recent call last)",
      "\u001b[1;32m~\\AppData\\Local\\Temp\\ipykernel_23064\\148894607.py\u001b[0m in \u001b[0;36m<cell line: 16>\u001b[1;34m()\u001b[0m\n\u001b[0;32m     15\u001b[0m \u001b[1;33m\u001b[0m\u001b[0m\n\u001b[0;32m     16\u001b[0m \u001b[1;32mwith\u001b[0m \u001b[0mopen\u001b[0m\u001b[1;33m(\u001b[0m\u001b[0moutput\u001b[0m\u001b[1;33m,\u001b[0m\u001b[1;34m\"wb\"\u001b[0m\u001b[1;33m)\u001b[0m \u001b[1;32mas\u001b[0m \u001b[0mf\u001b[0m\u001b[1;33m:\u001b[0m\u001b[1;33m\u001b[0m\u001b[1;33m\u001b[0m\u001b[0m\n\u001b[1;32m---> 17\u001b[1;33m     \u001b[0mf\u001b[0m\u001b[1;33m.\u001b[0m\u001b[0mwrite\u001b[0m\u001b[1;33m(\u001b[0m\u001b[0mimg2pdf\u001b[0m\u001b[1;33m.\u001b[0m\u001b[0mconvert\u001b[0m\u001b[1;33m(\u001b[0m\u001b[0mimg_list\u001b[0m\u001b[1;33m)\u001b[0m\u001b[1;33m)\u001b[0m\u001b[1;33m\u001b[0m\u001b[1;33m\u001b[0m\u001b[0m\n\u001b[0m",
      "\u001b[1;32mc:\\Users\\sl\\anaconda3\\lib\\site-packages\\img2pdf.py\u001b[0m in \u001b[0;36mconvert\u001b[1;34m(*images, **kwargs)\u001b[0m\n\u001b[0;32m   2358\u001b[0m             \u001b[0mrotation\u001b[0m\u001b[1;33m,\u001b[0m\u001b[1;33m\u001b[0m\u001b[1;33m\u001b[0m\u001b[0m\n\u001b[0;32m   2359\u001b[0m             \u001b[0miccp\u001b[0m\u001b[1;33m,\u001b[0m\u001b[1;33m\u001b[0m\u001b[1;33m\u001b[0m\u001b[0m\n\u001b[1;32m-> 2360\u001b[1;33m         \u001b[1;33m)\u001b[0m \u001b[1;32min\u001b[0m \u001b[0mread_images\u001b[0m\u001b[1;33m(\u001b[0m\u001b[1;33m\u001b[0m\u001b[1;33m\u001b[0m\u001b[0m\n\u001b[0m\u001b[0;32m   2361\u001b[0m             \u001b[0mrawdata\u001b[0m\u001b[1;33m,\u001b[0m\u001b[1;33m\u001b[0m\u001b[1;33m\u001b[0m\u001b[0m\n\u001b[0;32m   2362\u001b[0m             \u001b[0mkwargs\u001b[0m\u001b[1;33m[\u001b[0m\u001b[1;34m\"colorspace\"\u001b[0m\u001b[1;33m]\u001b[0m\u001b[1;33m,\u001b[0m\u001b[1;33m\u001b[0m\u001b[1;33m\u001b[0m\u001b[0m\n",
      "\u001b[1;32mc:\\Users\\sl\\anaconda3\\lib\\site-packages\\img2pdf.py\u001b[0m in \u001b[0;36mread_images\u001b[1;34m(rawdata, colorspace, first_frame_only, rot)\u001b[0m\n\u001b[0;32m   1756\u001b[0m             \u001b[1;32mand\u001b[0m \u001b[0mlen\u001b[0m\u001b[1;33m(\u001b[0m\u001b[0mimgdata\u001b[0m\u001b[1;33m.\u001b[0m\u001b[0mtag_v2\u001b[0m\u001b[1;33m[\u001b[0m\u001b[0mTiffImagePlugin\u001b[0m\u001b[1;33m.\u001b[0m\u001b[0mSTRIPBYTECOUNTS\u001b[0m\u001b[1;33m]\u001b[0m\u001b[1;33m)\u001b[0m \u001b[1;33m==\u001b[0m \u001b[1;36m1\u001b[0m\u001b[1;33m\u001b[0m\u001b[1;33m\u001b[0m\u001b[0m\n\u001b[0;32m   1757\u001b[0m         ):\n\u001b[1;32m-> 1758\u001b[1;33m             \u001b[0mphoto\u001b[0m \u001b[1;33m=\u001b[0m \u001b[0mimgdata\u001b[0m\u001b[1;33m.\u001b[0m\u001b[0mtag_v2\u001b[0m\u001b[1;33m[\u001b[0m\u001b[0mTiffImagePlugin\u001b[0m\u001b[1;33m.\u001b[0m\u001b[0mPHOTOMETRIC_INTERPRETATION\u001b[0m\u001b[1;33m]\u001b[0m\u001b[1;33m\u001b[0m\u001b[1;33m\u001b[0m\u001b[0m\n\u001b[0m\u001b[0;32m   1759\u001b[0m             \u001b[0minverted\u001b[0m \u001b[1;33m=\u001b[0m \u001b[1;32mFalse\u001b[0m\u001b[1;33m\u001b[0m\u001b[1;33m\u001b[0m\u001b[0m\n\u001b[0;32m   1760\u001b[0m             \u001b[1;32mif\u001b[0m \u001b[0mphoto\u001b[0m \u001b[1;33m==\u001b[0m \u001b[1;36m0\u001b[0m\u001b[1;33m:\u001b[0m\u001b[1;33m\u001b[0m\u001b[1;33m\u001b[0m\u001b[0m\n",
      "\u001b[1;32mc:\\Users\\sl\\anaconda3\\lib\\site-packages\\PIL\\TiffImagePlugin.py\u001b[0m in \u001b[0;36m__getitem__\u001b[1;34m(self, tag)\u001b[0m\n\u001b[0;32m    551\u001b[0m     \u001b[1;32mdef\u001b[0m \u001b[0m__getitem__\u001b[0m\u001b[1;33m(\u001b[0m\u001b[0mself\u001b[0m\u001b[1;33m,\u001b[0m \u001b[0mtag\u001b[0m\u001b[1;33m)\u001b[0m\u001b[1;33m:\u001b[0m\u001b[1;33m\u001b[0m\u001b[1;33m\u001b[0m\u001b[0m\n\u001b[0;32m    552\u001b[0m         \u001b[1;32mif\u001b[0m \u001b[0mtag\u001b[0m \u001b[1;32mnot\u001b[0m \u001b[1;32min\u001b[0m \u001b[0mself\u001b[0m\u001b[1;33m.\u001b[0m\u001b[0m_tags_v2\u001b[0m\u001b[1;33m:\u001b[0m  \u001b[1;31m# unpack on the fly\u001b[0m\u001b[1;33m\u001b[0m\u001b[1;33m\u001b[0m\u001b[0m\n\u001b[1;32m--> 553\u001b[1;33m             \u001b[0mdata\u001b[0m \u001b[1;33m=\u001b[0m \u001b[0mself\u001b[0m\u001b[1;33m.\u001b[0m\u001b[0m_tagdata\u001b[0m\u001b[1;33m[\u001b[0m\u001b[0mtag\u001b[0m\u001b[1;33m]\u001b[0m\u001b[1;33m\u001b[0m\u001b[1;33m\u001b[0m\u001b[0m\n\u001b[0m\u001b[0;32m    554\u001b[0m             \u001b[0mtyp\u001b[0m \u001b[1;33m=\u001b[0m \u001b[0mself\u001b[0m\u001b[1;33m.\u001b[0m\u001b[0mtagtype\u001b[0m\u001b[1;33m[\u001b[0m\u001b[0mtag\u001b[0m\u001b[1;33m]\u001b[0m\u001b[1;33m\u001b[0m\u001b[1;33m\u001b[0m\u001b[0m\n\u001b[0;32m    555\u001b[0m             \u001b[0msize\u001b[0m\u001b[1;33m,\u001b[0m \u001b[0mhandler\u001b[0m \u001b[1;33m=\u001b[0m \u001b[0mself\u001b[0m\u001b[1;33m.\u001b[0m\u001b[0m_load_dispatch\u001b[0m\u001b[1;33m[\u001b[0m\u001b[0mtyp\u001b[0m\u001b[1;33m]\u001b[0m\u001b[1;33m\u001b[0m\u001b[1;33m\u001b[0m\u001b[0m\n",
      "\u001b[1;31mKeyError\u001b[0m: 262"
     ]
    }
   ],
   "source": [
    "# # 폴더내 이미지 파일 하나로 합치기. path에 생성\n",
    "# ############################################\n",
    "# path = r\"D:\\구 스캔파일\\광주 공유폴더\\모음\\대출원장\\케이에스자산관리\\펜타원인서류\\20428545\"\n",
    "# ############################################\n",
    "# p_extension = re.compile('(jpeg|jpg|bmp|gif|png|tif|tiff)$', re.I) \n",
    "# add_file_name = path.split(os.path.sep)[-1] + \" 원인서류 여타매각사자료포함\"\n",
    "\n",
    "# img_list = [join(path, f) for f in os.listdir(path) if p_extension.search(f)]\n",
    "# output = join(path, add_file_name + \".pdf\")\n",
    "# if os.path.exists(output) :\n",
    "#     sn = 0\n",
    "#     while os.path.exists(output) :\n",
    "#         sn += 1\n",
    "#         output = join(path, add_file_name + str(sn) + \".pdf\")\n",
    "\n",
    "# with open(output,\"wb\") as f:\n",
    "#     f.write(img2pdf.convert(img_list))"
   ]
  }
 ],
 "metadata": {
  "kernelspec": {
   "display_name": "base",
   "language": "python",
   "name": "python3"
  },
  "language_info": {
   "codemirror_mode": {
    "name": "ipython",
    "version": 3
   },
   "file_extension": ".py",
   "mimetype": "text/x-python",
   "name": "python",
   "nbconvert_exporter": "python",
   "pygments_lexer": "ipython3",
   "version": "3.9.13"
  },
  "vscode": {
   "interpreter": {
    "hash": "50ba2c93e3505a279245e213c77d9791c626788d8ca8a61b8db804927ca08a39"
   }
  }
 },
 "nbformat": 4,
 "nbformat_minor": 2
}
