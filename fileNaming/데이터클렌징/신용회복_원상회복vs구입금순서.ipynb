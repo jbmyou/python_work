{
 "cells": [
  {
   "cell_type": "code",
   "execution_count": 14,
   "metadata": {},
   "outputs": [],
   "source": [
    "import os, re, pickle\n",
    "import pandas as pd\n",
    "import numpy as np\n",
    "from os.path import join\n",
    "from tqdm import tqdm\n",
    "# default style 경고문구 제거\n",
    "import warnings\n",
    "warnings.simplefilter(\"ignore\")\n",
    "\n",
    "# dtype 정의\n",
    "restoration_dtype = {0:str, 1:str,6:str,19:str}\n",
    "deposit_dtype = {'채무자키':str, '입금키':str, '계좌키':str, '계좌번호':str, '입금고정키':str, '타채무자키':str}\n",
    "account_dtype = {'채무자키':str, '계좌키':str, '타채무자키':str}\n",
    "cost_dtype = {'채무자키':str, '계좌키':str, '법비용키':str, '관할법원코드':str}\n",
    "\n",
    "# 원상회복 정의\n",
    "# 원상회복원금 = 조정전원금 - 상환원금\n",
    "# 원상회복비용= 조정전비용 - 상환비용\n",
    "# 원상회복이자 = 조정전이자(신고미수이자+신고연체이자) - 납입이자 + 상환기간이자"
   ]
  },
  {
   "cell_type": "code",
   "execution_count": 2,
   "metadata": {},
   "outputs": [],
   "source": [
    "desktop = r'C:\\Users\\SL\\Desktop'\n",
    "################################################################\n",
    "wd = r\"D:\\3.자산\\신용회복\\솔림\\1.신용회복\\2.원상회복내역\\분기별\"\n",
    "업무대장 = pd.read_excel(join(desktop, '0.new_신용회복 업무대장.xlsx'), sheet_name='data', usecols=['채무자키', '계좌키', '주민+계좌', '채무구분'], dtype='str')\n",
    "################################################################\n",
    "file_list = [x for x in os.listdir(wd) if not re.match('~', x)]\n",
    "\n",
    "cols = ['No', '실효일', '진행상태', '고객명', '고객식별번호', '채무구분', '계좌번호', '재조정여부', '수정조정여부', \n",
    "    '조정전원금', '조정전비용', '조정전이자', '조정후원금', '조정후기타채무', \n",
    "    '납입원금', '납입비용', '미감면이자', '납입이자', '상환기간이자', '연체이자기산일', \n",
    "    '원상회복원금', '원상회복비용', '원상회복이자']"
   ]
  },
  {
   "cell_type": "code",
   "execution_count": 3,
   "metadata": {},
   "outputs": [],
   "source": [
    "restoration_ori = pd.DataFrame(None)\n",
    "for f in file_list : \n",
    "    temp = pd.read_excel(join(wd, f), skiprows=4, header=None, dtype = restoration_dtype)\n",
    "    temp.dropna(subset=[0], inplace=True) # 0칼럼이 빈값인 경우 삭제.(설명행)\n",
    "    restoration_ori = pd.concat([restoration_ori, temp], axis=0)\n",
    "\n",
    "# 칼럼명 변경\n",
    "restoration_ori.columns = cols"
   ]
  },
  {
   "cell_type": "code",
   "execution_count": 18,
   "metadata": {},
   "outputs": [],
   "source": [
    "# 편집본 카피\n",
    "restoration = restoration_ori.copy()"
   ]
  },
  {
   "cell_type": "code",
   "execution_count": 19,
   "metadata": {},
   "outputs": [],
   "source": [
    "# 보증채무 삭제\n",
    "restoration = restoration.query('채무구분==\"주채무\"')\n",
    "\n",
    "# 계좌번호 문제 있는 거 변경\n",
    "restoration.계좌번호.str.replace('BNK216LO071756-0002', '216LO071756-0002')\n",
    "restoration.계좌번호.str.replace('YM-13-1-12279-02', 'TYM-13-1-12279-02')\n",
    "\n",
    "# 주민+계좌 열 추가\n",
    "restoration[\"주민+계좌\"] = restoration.고객식별번호 + restoration.계좌번호\n",
    "\n",
    "# 원상회복OPB열 추가\n",
    "restoration[\"원상회복OPB\"] = restoration.원상회복원금 + restoration.원상회복비용\n",
    "restoration[\"원상회복OPB이자\"] = restoration.원상회복OPB + restoration.원상회복이자\n",
    "\n",
    "# 실효일(취소) 형식 지정\n",
    "restoration[\"실효일\"] = restoration[\"실효일\"].str[:4] + \"-\" + restoration[\"실효일\"].str[4:6] +\"-\"+restoration[\"실효일\"].str[6:]\n",
    "\n",
    "# 업무대장과 병합하여 키값 연결\n",
    "restoration = restoration.merge(업무대장, on=['주민+계좌','채무구분'], how='left')"
   ]
  },
  {
   "cell_type": "code",
   "execution_count": 6,
   "metadata": {},
   "outputs": [],
   "source": [
    "# # 계좌키 파일저장 > 엑셀 입금 조회 및 계좌 조회\n",
    "# restoration.계좌키.to_excel(join(desktop, \"실효자계좌키.xlsx\"), index=False)"
   ]
  },
  {
   "cell_type": "code",
   "execution_count": 7,
   "metadata": {},
   "outputs": [],
   "source": [
    "# 입금조회새창, 계좌조회새창, 법비용새창 읽기\n",
    "deposit = pd.read_excel(join(desktop, \"입금조회새창_20231102_1111.xlsx\"), dtype=deposit_dtype)\n",
    "account = pd.read_excel(join(desktop, \"계좌조회새창_20231102_1140.xlsx\"), dtype=account_dtype)[[\"채무자키\", \"계좌키\", \"현재원금\", \"현재법비용\", \"현재미수이자\", \"현재연체이자\"]]\n",
    "cost = pd.read_excel(join(desktop, \"법비용새창_20231102_1530.xlsx\"), dtype=cost_dtype)[[\"채무자키\",\"계좌키\", \"법비용일\", \"법비용합계\"]]\n",
    "\n",
    "# deposit 조작\n",
    "deposit.sort_values('회수합계', ascending=False) # 최신순(회수합계 많은 순)으로 정렬 (날짜는 중복될 수 있음)\n",
    "deposit = deposit.drop(deposit[deposit.입금기타>0].index, axis=0).reset_index(drop=True) # 부채증명서 행삭제"
   ]
  },
  {
   "cell_type": "code",
   "execution_count": 20,
   "metadata": {},
   "outputs": [
    {
     "name": "stderr",
     "output_type": "stream",
     "text": [
      "100%|██████████| 666/666 [00:02<00:00, 310.09it/s]\n"
     ]
    }
   ],
   "source": [
    "# 실효일 당시의 현재금액 구하기\n",
    "현재원금들, 현재비용들, 현재미수이자들 = [],[],[]\n",
    "for i, v in tqdm(restoration.iterrows(), total = len(restoration)) :\n",
    "    \n",
    "    dt = deposit.query('계좌키 == @v.계좌키') # len(dt) 특정불가\n",
    "    if len(dt) > 0 : # 입금기록이 있는 경우\n",
    "        date_list = dt.입금일.to_list()\n",
    "        date_list.append(v.실효일) # 실효일 추가\n",
    "        date_list.sort()\n",
    "        date_list.reverse() # 역정렬\n",
    "\n",
    "        실효일index = date_list.index(v.실효일)\n",
    "        if 실효일index >  0 : # 실효일 다음 입금액이 있는 경우 : 입금새창에서 현재금액 구한다.\n",
    "            계좌사용 = False\n",
    "        else : # 실효일 이후 입금이 없음 > 계좌의현재금을 끌어오거나 최근 입금의 현재금액 - 입금금액 \n",
    "            계좌사용 = True\n",
    "    else : # 입금기록이 없는 경우\n",
    "        계좌사용 = True\n",
    "\n",
    "    if 계좌사용 :\n",
    "        at = account.query('계좌키 == @v.계좌키') # len(at) == 1 이므로 무조건 values[0]\n",
    "        ct = cost.query('계좌키 == @v.계좌키 and 법비용일>@v.실효일') # 법비용\n",
    "        # 실효일 이후 법비용합계\n",
    "        실효후비용 = ct.법비용합계.sum()\n",
    "\n",
    "        현재원금들.append(at.현재원금.values[0])\n",
    "        현재비용들.append(at.현재법비용.values[0]-실효후비용)\n",
    "        현재미수이자들.append(at.현재미수이자.values[0])\n",
    "    else : # 실효일 바로 다음(-1)의 현재금액 그대로\n",
    "        현재원금들.append(dt.현재원금.values[실효일index-1])\n",
    "        현재비용들.append(dt.현재법비용.values[실효일index-1])\n",
    "        현재미수이자들.append(dt.현재미수이자.values[실효일index-1])  \n",
    "\n",
    "# 원상회복에 현재금액들 추가하기\n",
    "restoration[\"실효당시현재원금\"] = 현재원금들\n",
    "restoration[\"실효당시현재비용\"] = 현재비용들\n",
    "restoration[\"실효당시현재미수이자\"] = 현재미수이자들\n",
    "restoration[\"실효당시OPB\"] = restoration[\"실효당시현재원금\"] + restoration[\"실효당시현재비용\"]\n",
    "restoration[\"실효당시OPB이자\"] = restoration[\"실효당시OPB\"] + restoration[\"실효당시현재미수이자\"]\n",
    "restoration[\"원금비교\"] = restoration.원상회복원금 - restoration.실효당시현재원금\n",
    "restoration[\"비용비교\"] = restoration.원상회복비용 - restoration.실효당시현재비용\n",
    "restoration[\"미수이자비교\"] = restoration.원상회복이자 - restoration.실효당시현재미수이자\n",
    "restoration[\"OPB비교\"] = restoration.원상회복OPB - restoration.실효당시OPB\n",
    "restoration[\"합계비교\"] = restoration.원상회복OPB이자 - restoration.실효당시OPB이자"
   ]
  },
  {
   "cell_type": "code",
   "execution_count": 21,
   "metadata": {},
   "outputs": [],
   "source": [
    "# 컬럼 편집\n",
    "restoration[\"No\"] = range(1,len(restoration)+1)\n",
    "restoration.insert(1, \"계좌키\", restoration.pop(\"계좌키\"))\n",
    "restoration.insert(1, \"채무자키\", restoration.pop(\"채무자키\"))\n",
    "restoration.drop(columns=[\"주민+계좌\"], inplace=True)"
   ]
  },
  {
   "cell_type": "code",
   "execution_count": 22,
   "metadata": {},
   "outputs": [],
   "source": [
    "# 최종본 엑셀 저장\n",
    "restoration.to_excel(join(desktop, \"2023신복실효건 원상회복금액 vs 전산금액.xlsx\"), index=False)"
   ]
  }
 ],
 "metadata": {
  "kernelspec": {
   "display_name": "base",
   "language": "python",
   "name": "python3"
  },
  "language_info": {
   "codemirror_mode": {
    "name": "ipython",
    "version": 3
   },
   "file_extension": ".py",
   "mimetype": "text/x-python",
   "name": "python",
   "nbconvert_exporter": "python",
   "pygments_lexer": "ipython3",
   "version": "3.9.13"
  }
 },
 "nbformat": 4,
 "nbformat_minor": 2
}
