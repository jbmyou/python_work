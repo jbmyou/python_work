{
 "cells": [
  {
   "cell_type": "markdown",
   "metadata": {},
   "source": [
    "### import\n",
    "- 기준일 다음날 다운받되, 파일명의 날짜는 전일(기준일)로 한다!\n",
    "- 계좌별진행상황 : 기준일 다음날 아침에 다운받기, 틀린 계좌수정하기, 통합하기, 전산 올리기, 그 결과를 엑셀로 저장하기(기준일까지의 진행상황 반영하기)\n",
    "  - t+1에 한번만 받으면 됨\n",
    "  - 현재상황만 실시간이고, 나머지는 전주까지의 기록\n",
    "  - 따라서 기준일이 금요일인 경우 다음주 월요일(t+1)에 다운 받으면 기준데이터에 입금내역 반영하지 않아도 됨.(전산 opb는 자산정리 통합파일에서 수정)\n",
    "  - 기준일이 목요일인 경우 금요일(t+1)에 받은 계좌별진행상황에 월~목요일 상환내역을 반영해야함\n",
    "- 상환내역 : 결과를 엑셀로 저장하기(기준일까지의 진행상황 반영하기)\n",
    "  - 기준일이 금,토,일요일인 경우, 상환내역을 고려하지 않아도 된다.\n",
    "  - 기준일이 금,토,일요일이 아닌 경우, 기준일이 속한 주의 월요일 ~ t일 상환내역을 모두 읽어야\n",
    "  - 여러회차를 한꺼번에 상환할 수 있으니, 마지막 회차, 전체입금원금,이자,기타비용을 계산해야."
   ]
  },
  {
   "cell_type": "code",
   "execution_count": 1,
   "metadata": {},
   "outputs": [],
   "source": [
    "import os, re, pickle\n",
    "import pandas as pd\n",
    "import numpy as np\n",
    "from os.path import join\n",
    "from tqdm import tqdm\n",
    "import warnings\n",
    "warnings.simplefilter(\"ignore\")\n",
    "\n",
    "# dtype 정의 (사이트 파일은 읽지 말자. 할 게 너무 많음)\n",
    "# 나우리 타입 반영\n",
    "nauri_dtype = {\"채무자키\":str, \"계좌키\":str, '보증인키':str, '신용회복키' : str, \"계좌번호\":str, \"심의차수\":str, \"변제금수취계좌\":str}\n",
    "# # 신복 사이트 타입 반영\n",
    "# nauri_dtype = {'채무자키' : str, '계좌키' : str, '보증인키':str, '신용회복키' : str, '심의차수' : str, '조정전이율' : str, '조정후이율' : str, '총상환기간' : str, '유예기간' : str, '원금균등상환기간' : str, '원리균등상환기간' : str, '이자상환기간' : str, '납입회차' : str, '연체기간' : str, '원금균등시작회차' : str, '원금균등종료회차' : str, '원리균등시작회차' : str, '원리균등종료회차' : str, '이자상환시작회차' : str, '이자상환종료회차' : str, '감면율' : str, '주채무자주민번호' : str, '시작회차1' : str, '종료회차1' : str, '채무조정1적용이율1' : str, '채무조정2적용이율1' : str, '시작회차2' : str, '종료회차2' : str, '채무조정1적용이율2' : str, '채무조정2적용이율2' : str, '시작회차3' : str, '종료회차3' : str, '채무조정1적용이율3' : str, '채무조정2적용이율3' : str, '시작회차4' : str, '종료회차4' : str, '채무조정1적용이율4' : str, '채무조정2적용이율4' : str, '시작회차5' : str, '종료회차5' : str, '채무조정1적용이율5' : str, '채무조정2적용이율5' : str, '시작회차6' : str, '종료회차6' : str, '채무조정1적용이율6' : str, '채무조정2적용이율6' : str, '시작회차7' : str, '종료회차7' : str, '채무조정1적용이율7' : str, '채무조정2적용이율7' : str, '시작회차8' : str, '종료회차8' : str, '채무조정1적용이율8' : str, '채무조정2적용이율8' : str, '시작회차9' : str, '종료회차9' : str, '채무조정1적용이율9' : str, '채무조정2적용이율9' : str, '시작회차10' : str, '종료회차10' : str, '채무조정1적용이율10' : str, '채무조정2적용이율10' : str, '재조정횟수' : str, '수정조정횟수' : str, '일시납감면율' : str, '거치기간' : str, '체증전구간의시작회차' : str, '체증전구간의종료회차' : str, '체증전구간의기준기간' : str, '변제금수취계좌' : str, '담보권실행유예기간':str\n",
    "# }\n",
    "deposit_dtype = {'채무자키':str, '계좌키':str, '분납키':str, '담당자키':str, '일시납감면율':str, '계좌번호':str}\n",
    "account_dtype = {'채무자키':str, '계좌키':str, '타채무자키':str}"
   ]
  },
  {
   "cell_type": "markdown",
   "metadata": {},
   "source": [
    "### 파일 읽기"
   ]
  },
  {
   "cell_type": "code",
   "execution_count": 2,
   "metadata": {},
   "outputs": [],
   "source": [
    "# 계좌별 진행상황 파일 읽기\n",
    "path_base = r\"D:\\3.자산\\신용회복\\신용회복 전체데이터\\계좌별 진행상황\"\n",
    "########################################################\n",
    "basedate = \"240131\"\n",
    "company = \"대성\"  # 통합 or 대성, 통합=솔림+신탁88\n",
    "########################################################\n",
    "sufix = \"_업로드결과\"\n",
    "\n",
    "# 읽을 파일명\n",
    "filename_read = basedate + \"_계좌별 진행상황 조회_\" + company + sufix\n",
    "fullpath_read = join(path_base, filename_read+\".xlsx\")\n",
    "\n",
    "# 계좌별 진행상황 조회 파일 읽기\n",
    "raw_ori = pd.read_excel(fullpath_read, dtype=nauri_dtype).fillna(\"\")\n",
    "\n",
    "# 계좌 (메모) --------------\n",
    "if company == \"통합\" : \n",
    "    dir_account = join(r\"D:\\3.자산\\전산 dataset\", \"솔림\", basedate)\n",
    "else : \n",
    "    dir_account = join(r\"D:\\3.자산\\전산 dataset\", \"대성\", basedate)\n",
    "file_list = os.listdir(dir_account)\n",
    "account_filename = [file for file in file_list if file.startswith(\"계좌조회새창\")][0]\n",
    "account = pd.read_excel(join(dir_account, account_filename), dtype=account_dtype)[[\"계좌키\",\"채무자키\",\"메모\"]].fillna(\"\")"
   ]
  },
  {
   "cell_type": "code",
   "execution_count": 3,
   "metadata": {},
   "outputs": [],
   "source": [
    "# 재시작 위해 복사본 만들기\n",
    "raw = raw_ori.copy()\n",
    "\n",
    "# 불필요한 열 삭제\n",
    "raw.drop(columns=[\"채무자명\",\"채무상태\", \"현재채권구분\",\"등록파일\",\"수정파일\", \"삭제여부\",\"등록일자\",\"등록유저\",\"수정일자\",\"수정유저\",\"확인결과\",\"저장결과\"], axis=1, inplace=True)\n",
    "\n",
    "# 새로운 열을 추가 : insert 여러번 쓰니 성능 경고나와서\n",
    "진행구분 = pd.Series([None] * len(raw), name='진행구분')\n",
    "반영OPB = pd.Series([None] * len(raw), name='반영OPB')\n",
    "상환구분 = pd.Series([None] * len(raw), name='상환구분')\n",
    "\n",
    "position = 4\n",
    "raw = pd.concat([raw.iloc[:, :position], 진행구분, 반영OPB, 상환구분, raw.iloc[:, position:]], axis=1)\n",
    "\n",
    "# 전산미등록건 처리 #####################################################\n",
    "if company == \"통합\" : \n",
    "    미등록주민번호 = ['771027-2221231'] #강민경\n",
    "    cond = raw['신청인주민번호'].isin(미등록주민번호)\n",
    "    raw.loc[cond, '채무자키'] = '전산미등록건'\n",
    "    raw.loc[cond, '계좌키'] = '전산미등록건'\n",
    "else :  # 대성\n",
    "    미등록주민번호 = ['741008-1037838'] #강승욱\n",
    "    cond = raw['신청인주민번호'].isin(미등록주민번호)\n",
    "    raw.loc[cond, '채무자키'] = '전산미등록건'\n",
    "    raw.loc[cond, '계좌키'] = '전산미등록건'\n",
    "########################################################################"
   ]
  },
  {
   "cell_type": "markdown",
   "metadata": {},
   "source": [
    "### 진행구분, 반영OPB, 상환구분 작성"
   ]
  },
  {
   "cell_type": "code",
   "execution_count": 4,
   "metadata": {},
   "outputs": [],
   "source": [
    "# 진행구분열 작성-------------------------------\n",
    "x = raw.신청인진행상태\n",
    "y = raw.계좌진행상태내용\n",
    "z = raw.계좌번호\n",
    "\n",
    "conds = [\n",
    "    (x == '정상이행') & (y == '채무조정포함'),\n",
    "    (y == \"채무조정제외\"),\n",
    "    (x.str.contains(r\"완제|상환\") | y.str.contains(r\"완제|상환\") | z.str.contains(r\"완제|상환\")),\n",
    "    (z == \"채권신고전\"),\n",
    "    (x.str.contains(r\"심사반송|중도실효|합의서체결포기\")),\n",
    "]\n",
    "values = [\"확정\", \"채무조정제외\",\"완제\",\"채권신고전\",\"실효\"]\n",
    "default_value = \"미확정\"\n",
    "\n",
    "raw[\"진행구분\"] = np.select(conds, values, default_value)\n",
    "\n",
    "# 반영OPB - 확정미확정 건-------------------------------\n",
    "x = raw.진행구분\n",
    "# 확정시 우선순위\n",
    "a = raw.상환후잔액\n",
    "b = raw.원금균등채무액\n",
    "c= raw.조정후원금\n",
    "d = raw.조정전원금\n",
    "\n",
    "# 미확정-조정전원금0 은 이자채권으로 그냥 0이 맞다.\n",
    "conds = [(x == \"미확정\"), (x ==\"확정\")&(a!=0), b!=0, c!=0, d!=0]\n",
    "\n",
    "# 조건에 따라 값을 설정\n",
    "values = [d, a, b, c, d]\n",
    "\n",
    "# 기본값 설정\n",
    "default_value = np.nan\n",
    "\n",
    "# 반영OPB 열 설정\n",
    "raw[\"반영OPB\"] = np.select(conds, values, default_value)\n",
    "\n",
    "\n",
    "# 상환구분 작성 - 확정미확정 건-------------------------------\n",
    "x = raw.상환방식\n",
    "\n",
    "conds = [x.str.contains(\"원금균등\"), x.str.contains(\"원리금균등\")] #체증식(원금균등)이란게 있네..\n",
    "\n",
    "# 조건에 따라 값을 설정\n",
    "values = [\"개인\",\"프리\"]\n",
    "\n",
    "# 기본값 설정\n",
    "default_value = \"\" # 미확정\n",
    "\n",
    "# 반영OPB 열 설정\n",
    "raw[\"상환구분\"] = np.select(conds, values, default_value)"
   ]
  },
  {
   "cell_type": "markdown",
   "metadata": {},
   "source": [
    "### 시트작성 및 체크 : 최종,정상,제외"
   ]
  },
  {
   "cell_type": "code",
   "execution_count": 5,
   "metadata": {},
   "outputs": [],
   "source": [
    "# 최종, 확정미확정, 일부계좌제외 시트\n",
    "최종 = raw.query('진행구분 in [\"확정\",\"미확정\",\"실효\",\"완제\"]').copy()\n",
    "확정미확정 = raw.query('진행구분 in [\"확정\", \"미확정\"]').copy()\n",
    "일부계좌제외 = raw.query('진행구분 == \"채무조정제외\" and 채무자키 != \"\"') # 계좌번호 변경한 건들 있어서 채무자키 없을 수 있음, 20240117 기준 솔림 8건\n",
    "# 일부계좌제외는 자산정리 채무상태에서 신복으로 처리하여 오류탐지 제외 ~~\n",
    "\n",
    "# 전산미등록건 일부계좌제외\n",
    "최종.drop(최종[최종.채무자키=='전산미등록건'].index, inplace=True)\n",
    "확정미확정.drop(확정미확정[확정미확정.채무자키=='전산미등록건'].index, inplace=True)\n",
    "일부계좌제외.drop(일부계좌제외[일부계좌제외.채무자키=='전산미등록건'].index, inplace=True)\n",
    "\n",
    "# 포함과 제외가 공존하는 제외건만 : 제외자 주민번호가 확정미확정에도 있으면\n",
    "일부계좌제외 = 일부계좌제외.merge(확정미확정[\"신청인주민번호\"], how=\"inner\", on=[\"신청인주민번호\"])\n",
    "\n",
    "# 순번열 넣기\n",
    "if \"순번\" not in raw.columns : \n",
    "    raw.insert(0, \"순번\", range(1,len(raw)+1))\n",
    "    최종.insert(0, \"순번\", range(1,len(최종)+1))\n",
    "    확정미확정.insert(0, \"순번\", range(1,len(확정미확정)+1))\n",
    "    일부계좌제외.insert(0, \"순번\", range(1,len(일부계좌제외)+1))"
   ]
  },
  {
   "cell_type": "code",
   "execution_count": 6,
   "metadata": {},
   "outputs": [
    {
     "name": "stdout",
     "output_type": "stream",
     "text": [
      "반영OPB 오류 없음\n",
      "확정미확정에 신용회복키 중복 없음\n",
      "전체 : 984, 최종 : 954, 확정미확정 : 663\n",
      "최종에서 키 없는 행 수 : 6, 확정미확정에서 키없는 행 수 : 0\n",
      "확정미확정 건에 키매칭 실패 없음\n",
      "확정 건 중 상환구분 없는 값 : 0\n",
      "일부계좌제외에 보증채무수 : 0\n"
     ]
    }
   ],
   "source": [
    "# 체크\n",
    "# 반영OPB\n",
    "반영OPB오류 = raw[(raw.반영OPB == np.nan)|(raw.반영OPB == 0)]\n",
    "cols = [\"채무자키\", \"계좌키\", \"진행구분\", \"상환구분\",\"반영OPB\", \"조정전원금\"]\n",
    "if len(반영OPB오류) > 0 : \n",
    "    print('반영OPB 0원 ------')\n",
    "    print('원금,법비용 0원계좌라도 상환예정액 조금이라도 나옴. 미확정건이면 전산opb를 따르니 0원 되겠지') ######################\n",
    "    display(반영OPB오류[cols])\n",
    "else : print(\"반영OPB 오류 없음\")\n",
    "\n",
    "# 확정미확정에 신용회복키 중복여부\n",
    "신용회복키중복 = 확정미확정[확정미확정.duplicated('신용회복키', keep=False)]\n",
    "if len(신용회복키중복) > 0 : \n",
    "    print('신용회복키 중복건 ------ 신용회복키 빈값 없애려면 업로드 후에 재다운로드해야')\n",
    "    display(신용회복키중복)\n",
    "else : print(\"확정미확정에 신용회복키 중복 없음\")\n",
    "\n",
    "# 채무자키, 계좌키, 신용회복키 매칭 오류\n",
    "최종키오류 = 최종.query('채무자키==\"\" or 계좌키==\"\" or 신용회복키==\"\"')\n",
    "확정미확정키오류 = 확정미확정.query('채무자키==\"\" or 계좌키==\"\" or 신용회복키==\"\"')\n",
    "print(f\"전체 : {len(raw)}, 최종 : {len(최종)}, 확정미확정 : {len(확정미확정)}\")\n",
    "print(f\"최종에서 키 없는 행 수 : {len(최종키오류)}, 확정미확정에서 키없는 행 수 : {len(확정미확정키오류)}\")\n",
    "if len(확정미확정키오류)>0 : \n",
    "    print('확정미확정 채무자키, 계좌키, 신복키 중 하나라도 없는 경우 ------')\n",
    "    display(확정미확정키오류)\n",
    "else : print(\"확정미확정 건에 키매칭 실패 없음\")\n",
    "\n",
    "# 확정 건 중 상환구분 없는 값\n",
    "print(\"확정 건 중 상환구분 없는 값 :\", len(확정미확정.query('상환방식==\"확정\" and 상환구분==\"\"')))\n",
    "\n",
    "# 일부계좌제외에 보증채무있는지\n",
    "print(\"일부계좌제외에 보증채무수 :\", len(일부계좌제외.query('채무구분==\"보증채무\"'))) # 있으면 드랍할지 말지 그때 결정"
   ]
  },
  {
   "cell_type": "markdown",
   "metadata": {},
   "source": [
    "### 상환내역 - 금요일 기준이면 pass\n",
    "- 기준일이 금욜이 아닌경우 월~기준일까지 입금내역을 반영해야 함\n",
    "- 프리의 경우 정확한 상환후잔액은 산정이 불가해서 기준일은 금요일로만 할 것을 권장"
   ]
  },
  {
   "cell_type": "code",
   "execution_count": 7,
   "metadata": {},
   "outputs": [],
   "source": [
    "############# 원리금균등 : 조정후합계 - 총납입원금 + 발생이자, 여기서 이자를 정확히 구하기 어려우므로 가급적 금요일을 자산정리 할 것을 권장 ##################\n",
    "# 회차 때문에 전산 입금내역이 아니라 신용회복 변제금 상환내역 파일이 필요함\n",
    "# 상환내역 파일읽기\n",
    "# 폴더경로\n",
    "if company == \"대성\" : \n",
    "    deposit_base = r\"D:\\3.자산\\신용회복\\대성\\신용회복\\입금\"\n",
    "else : \n",
    "    deposit_base = r\"D:\\3.자산\\신용회복\\솔림\\1.신용회복\\0.입금관련,담당자변경\\2024년\"\n",
    "\n",
    "# 파일명 리스트 ############################################################################################\n",
    "# 월요일 ~ 기준일까지의 입금 업로드결과 파일(하나의 파일로 합쳐도 되고, 개별로 올려도 되고)\n",
    "deposit_list = [\"대성 신용회복 입금_240129~31_업로드결과\"] \n",
    "###########################################################################################################\n",
    "\n",
    "# 입금 파일 읽기\n",
    "deposit_ori = pd.DataFrame(None)\n",
    "for f in deposit_list : \n",
    "    temp = pd.read_excel(join(deposit_base, f+\".xlsx\"), dtype=deposit_dtype).fillna(\"\")\n",
    "    deposit_ori = pd.concat([deposit_ori, temp], axis=0)\n",
    "\n",
    "# 컬럼명 변경\n",
    "deposit_ori.rename(columns={'입금자':'신청인명','주민번호':'신청인주민번호', \n",
    "'입금자구분':'채무구분','입금원금':'납입원금','입금미수이자':'납입이자','입금연체이자':'납입기타채무','입금합계':'납입합계'}, inplace=True)"
   ]
  },
  {
   "cell_type": "code",
   "execution_count": 8,
   "metadata": {},
   "outputs": [],
   "source": [
    "# 복사본\n",
    "deposit = deposit_ori.copy()"
   ]
  },
  {
   "cell_type": "code",
   "execution_count": 9,
   "metadata": {},
   "outputs": [],
   "source": [
    "# 입금업로드결과 신용회복키 수정 : 한 채무자키에 여러 신용회복이 등록된 경우 첫번째 신용회복키로 통일되어버리는 문제\n",
    "\n",
    "# 채무구분 수정 : 입금했는데 채무구분이 빈칸일 리는 없으니 채무자 > 주채무, 보증인 > 보증채무\n",
    "# 채구구분값 통일\n",
    "deposit[\"채무구분\"] = np.where(deposit.채무구분==\"채무자\", \"주채무\", \"보증채무\")\n",
    "# 새로운 단일키 조합\n",
    "최종[\"대체신용회복키\"] = 최종.계좌번호 + 최종.신청인주민번호 + 최종.채무구분\n",
    "deposit[\"대체신용회복키\"] = deposit.계좌번호 + deposit.신청인주민번호 + deposit.채무구분\n",
    "\n",
    "# 병합\n",
    "deposit = pd.merge(deposit, 최종[[\"신용회복키\",\"대체신용회복키\"]], how='left', on='대체신용회복키')\n",
    "\n",
    "# 대체신용회복키 삭제(분납키는 그냥 두자..)\n",
    "del deposit[\"대체신용회복키\"]"
   ]
  },
  {
   "cell_type": "markdown",
   "metadata": {},
   "source": [
    "##### 상환내역 반영 : 기준일 금요일이면 pass"
   ]
  },
  {
   "cell_type": "code",
   "execution_count": 10,
   "metadata": {},
   "outputs": [
    {
     "name": "stdout",
     "output_type": "stream",
     "text": [
      "실효완제건수 : 1\n"
     ]
    }
   ],
   "source": [
    "# 실효,완제건 입금 리스트에서 제거\n",
    "temp1 = len(deposit)\n",
    "deposit = deposit.drop(deposit.query('~신용회복키.isin(@확정미확정.신용회복키)').index).reset_index(drop=True)\n",
    "temp2 = len(deposit)\n",
    "print(f'실효완제건수 : {temp1-temp2}')\n",
    "# 입금을 납입회차 역순정렬 후 신용회복키로 그룹화\n",
    "deposit.sort_values(['신용회복키','납입회차'], ascending=[True,False], inplace=True)"
   ]
  },
  {
   "cell_type": "code",
   "execution_count": 11,
   "metadata": {},
   "outputs": [
    {
     "name": "stderr",
     "output_type": "stream",
     "text": [
      "  0%|          | 0/163 [00:00<?, ?it/s]"
     ]
    },
    {
     "name": "stderr",
     "output_type": "stream",
     "text": [
      "100%|██████████| 163/163 [00:00<00:00, 489.94it/s]"
     ]
    },
    {
     "name": "stdout",
     "output_type": "stream",
     "text": [
      "[ True]\n"
     ]
    },
    {
     "name": "stderr",
     "output_type": "stream",
     "text": [
      "\n"
     ]
    }
   ],
   "source": [
    "# 그룹 순회하면서 기준데이터(확정미확정)에 다음을 반영\n",
    "# 수정할 값 : 납입회차(첫번재 즉 가장 큰 수로 대체), 총납입금액의 합계를 합산, 총납입원금의 합계를 합산, 총납입이자의 합계를 합산, 총납입기타채무의 합계를 합산, 기존 상환후잔액 - 총납입원금의 합계\n",
    "수정전금액들 = pd.Series([확정미확정.총납입금액.sum(), 확정미확정.총납입원금.sum(), 확정미확정.총납입이자.sum(), 확정미확정.총납입기타채무.sum(), 확정미확정.상환후잔액.sum()])\n",
    "현재신용회복키 = \"\"\n",
    "for i, v in tqdm(deposit.iterrows(), total=len(deposit)) :\n",
    "    # 기준데이터 수정할 행\n",
    "    ind = 확정미확정[확정미확정.신용회복키 == v.신용회복키].index\n",
    "    if 현재신용회복키 != v.신용회복키 : # 신용회복키가 다른 경우만 납입회차 수정\n",
    "        현재신용회복키 = v.신용회복키\n",
    "        확정미확정.loc[ind, '납입회차'] = v.납입회차\n",
    "        # 입금수정표시\n",
    "        \n",
    "    \n",
    "    # 금액은 합산이므로 신용회복키 중복값에 상관없이 계산 적용하면된다\n",
    "    확정미확정.loc[ind, '총납입금액'] += v.납입합계\n",
    "    확정미확정.loc[ind, '총납입원금'] += v.납입원금\n",
    "    확정미확정.loc[ind, '총납입이자'] += v.납입이자\n",
    "    확정미확정.loc[ind, '총납입기타채무'] += v.납입기타채무\n",
    "    확정미확정.loc[ind, '상환후잔액'] -= v.납입원금\n",
    "\n",
    "수정후금액들 = pd.Series([확정미확정.총납입금액.sum(), 확정미확정.총납입원금.sum(), 확정미확정.총납입이자.sum(), 확정미확정.총납입기타채무.sum(), 확정미확정.상환후잔액.sum()])\n",
    "수정한금액들 = pd.Series([deposit.납입합계.sum(), deposit.납입원금.sum(), deposit.납입이자.sum(), deposit.납입기타채무.sum(), -deposit.납입원금.sum()])\n",
    "\n",
    "# 총액이 잘 맞는지 확인\n",
    "print((수정후금액들 == 수정전금액들 + 수정한금액들).unique())"
   ]
  },
  {
   "cell_type": "markdown",
   "metadata": {},
   "source": [
    "### 통합신고건 처리하기"
   ]
  },
  {
   "cell_type": "code",
   "execution_count": 12,
   "metadata": {},
   "outputs": [
    {
     "name": "stdout",
     "output_type": "stream",
     "text": [
      "통합신고계좌수 : 0\n",
      "추가전 확정미확정 건수 : 663\n",
      "추가후 확정미확정 건수 : 663\n"
     ]
    },
    {
     "data": {
      "text/html": [
       "<div>\n",
       "<style scoped>\n",
       "    .dataframe tbody tr th:only-of-type {\n",
       "        vertical-align: middle;\n",
       "    }\n",
       "\n",
       "    .dataframe tbody tr th {\n",
       "        vertical-align: top;\n",
       "    }\n",
       "\n",
       "    .dataframe thead th {\n",
       "        text-align: right;\n",
       "    }\n",
       "</style>\n",
       "<table border=\"1\" class=\"dataframe\">\n",
       "  <thead>\n",
       "    <tr style=\"text-align: right;\">\n",
       "      <th></th>\n",
       "      <th>신용회복키</th>\n",
       "      <th>반영OPB</th>\n",
       "    </tr>\n",
       "    <tr>\n",
       "      <th>진행구분</th>\n",
       "      <th></th>\n",
       "      <th></th>\n",
       "    </tr>\n",
       "  </thead>\n",
       "  <tbody>\n",
       "    <tr>\n",
       "      <th>미확정</th>\n",
       "      <td>4</td>\n",
       "      <td>12,595,322</td>\n",
       "    </tr>\n",
       "    <tr>\n",
       "      <th>확정</th>\n",
       "      <td>659</td>\n",
       "      <td>758,184,577</td>\n",
       "    </tr>\n",
       "    <tr>\n",
       "      <th>합계</th>\n",
       "      <td>663</td>\n",
       "      <td>770,779,899</td>\n",
       "    </tr>\n",
       "  </tbody>\n",
       "</table>\n",
       "</div>"
      ],
      "text/plain": [
       "     신용회복키        반영OPB\n",
       "진행구분                   \n",
       "미확정      4   12,595,322\n",
       "확정     659  758,184,577\n",
       "합계     663  770,779,899"
      ]
     },
     "metadata": {},
     "output_type": "display_data"
    }
   ],
   "source": [
    "통합신고계좌 = account.query(\"메모.str.contains('신용회복 통합신고')\")\n",
    "print(\"통합신고계좌수 :\",len(통합신고계좌))\n",
    "print(\"추가전 확정미확정 건수 :\", len(확정미확정))\n",
    "\n",
    "cnt = 확정미확정.순번.iloc[-1]\n",
    "\n",
    "for i, v in 통합신고계좌.iterrows() : \n",
    "    피통합계좌 = re.search(r\"[0-9]{9,9}\", v.메모)[0]\n",
    "    temp = 확정미확정.query('계좌키 == @피통합계좌').copy()\n",
    "    if len(temp) == 1 :\n",
    "        cnt += 1\n",
    "        temp['순번'] = cnt\n",
    "        temp['채무자키'] = v.채무자키\n",
    "        temp['계좌키'] = v.계좌키\n",
    "        temp[['신용회복키','계좌진행상태내용']] = '통합신고 ' + v.계좌키\n",
    "        temp['반영OPB'] = 0\n",
    "        \n",
    "        # 행추가\n",
    "        확정미확정 = pd.concat([확정미확정, temp])\n",
    "    elif len(temp) == 0 :\n",
    "        print(\"통합신고 취소, 원상회복 분할적용 확인 : \", v.계좌키, v.채무자키)\n",
    "    \n",
    "    else : \n",
    "        print(\"중복계좌키 발견 : \", v.계좌키, v.채무자키)\n",
    "        \n",
    "print(\"추가후 확정미확정 건수 :\", len(확정미확정))\n",
    "\n",
    "전체요약 = 확정미확정.groupby('진행구분').agg({'신용회복키':'count', '반영OPB':'sum'})\n",
    "전체요약.loc[\"합계\", :] = 전체요약.sum()\n",
    "display(전체요약.applymap('{:,.0f}'.format))"
   ]
  },
  {
   "cell_type": "markdown",
   "metadata": {},
   "source": [
    "### 파일 저장"
   ]
  },
  {
   "cell_type": "code",
   "execution_count": 13,
   "metadata": {},
   "outputs": [],
   "source": [
    "# 저장\n",
    "# 기준데이터 저장 경로\n",
    "filename_write = basedate+\"_신용회복_기준데이터_\"+ (\"솔림\" if company==\"통합\" else \"대성\")\n",
    "fullpath_result = join(os.path.dirname(path_base),\"기준데이터\", filename_write +\".xlsx\")\n",
    "\n",
    "\n",
    "# 엑셀 파일로 저장\n",
    "if not os.path.exists(fullpath_result):\n",
    "    param = {'mode' : 'w'}\n",
    "else : \n",
    "    param = {'mode' : 'a', 'if_sheet_exists' : 'replace'}\n",
    "\n",
    "with pd.ExcelWriter(fullpath_result, engine='openpyxl', **param) as writer :\n",
    "    raw.to_excel(writer, sheet_name='원본', index=False)\n",
    "    최종.to_excel(writer, sheet_name='최종', index=False)\n",
    "    확정미확정.to_excel(writer, sheet_name='확정,미확정', index=False)\n",
    "    일부계좌제외.to_excel(writer, sheet_name='일부계좌제외', index=False)"
   ]
  }
 ],
 "metadata": {
  "kernelspec": {
   "display_name": "base",
   "language": "python",
   "name": "python3"
  },
  "language_info": {
   "codemirror_mode": {
    "name": "ipython",
    "version": 3
   },
   "file_extension": ".py",
   "mimetype": "text/x-python",
   "name": "python",
   "nbconvert_exporter": "python",
   "pygments_lexer": "ipython3",
   "version": "3.9.18"
  }
 },
 "nbformat": 4,
 "nbformat_minor": 2
}
