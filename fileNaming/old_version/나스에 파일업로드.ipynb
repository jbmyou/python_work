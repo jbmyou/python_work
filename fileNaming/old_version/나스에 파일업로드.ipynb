{
 "cells": [
  {
   "cell_type": "markdown",
   "metadata": {},
   "source": [
    "### import 및 전역변수"
   ]
  },
  {
   "cell_type": "code",
   "execution_count": 1,
   "metadata": {},
   "outputs": [],
   "source": [
    "import os\n",
    "import shutil\n",
    "#import time\n",
    "import pandas as pd\n",
    "from tqdm.notebook import tqdm      #tqdm(filelist, total = len(file_list), position=0, leave=True)\n",
    "import re\n",
    "#from pathlib import Path\n",
    "import traceback\n",
    "from os.path import join\n",
    "import file_function as ff\n",
    "from datetime import datetime"
   ]
  },
  {
   "cell_type": "code",
   "execution_count": null,
   "metadata": {},
   "outputs": [],
   "source": [
    "#[시작]파일업로드###########################################################\n",
    "# 참조 df 불러오기 ~~~~ \":\" xlsx파일에서 미리 제거해둬야 ~~~~\n",
    "df_c = pd.read_excel(r'C:\\Users\\SL\\Desktop\\채무자조회.xlsx')\n",
    "df_c.tail()\n",
    "\n",
    "# 채무상태와 매각사구분만 뺀 dict\n",
    "dict_sell ={}\n",
    "for ind, col in df_c.iterrows():\n",
    "    dict_sell[str(col.채무자키)] = [col.매각사구분, col.채무상태]"
   ]
  },
  {
   "cell_type": "code",
   "execution_count": null,
   "metadata": {},
   "outputs": [],
   "source": [
    "# 경로 정리 ?????? 필요한가???\n",
    "path = r'\\\\192.168.0.75\\스캔파일\\새 스캔파일(업로드)\\파일명 수정 필요'\n",
    "os.chdir(path)\n",
    "file_list = [f.name for f in os.scandir(path) if f.is_file()]\n",
    "_total = len(file_list)\n",
    "log_path = r'\\\\192.168.0.75\\스캔파일\\스캔파일 log'\n",
    "\n",
    "f_d = r'\\\\192.168.0.75\\솔림헬프'\n",
    "out = r'\\\\192.168.0.75\\삭제예정파일\\관리제외'\n",
    "\n",
    "# 기본 변수\n",
    "p_out = re.compile('개인회생\\(면책\\)|파산\\(면책\\)|환매|매각|종결')\n",
    "p_key = re.compile(r\"([\\d]{8})[\\D]\") #match\n",
    "\n",
    "error = []\n",
    "log = []\n"
   ]
  },
  {
   "cell_type": "code",
   "execution_count": null,
   "metadata": {},
   "outputs": [],
   "source": [
    "#[디렉토리 만들기 시작]###########################################################\n",
    "#디렉토리 만들기 - 완료\n",
    "# path = r'\\\\192.168.0.75\\솔림헬프'\n",
    "# os.chdir(path)\n",
    "# docu_list = [\"1.원인서류\", \"2.양도통지서\", \"3.집행권원\", \"4.강제집행\", \"5.등초본\", \"6.개인회생\", \"7.신용회복\", \"8.파산\", \"9.재산조사\", \"기타\"]\n",
    "# sell_list = [\"전북-01\", \"DNP-01\", \"DNP-02\", \"메리츠캐_01\", \"KNS\", \"DNP-03\", \"한울가람\", \"케이에스\", \\\n",
    "#     \"유안타저-01\", \"KB카드-01\", \"베리타스-01\", \"BNK-01\", \"스마트저축-01\", \"우담-01\", \"고려저축-01\", \\\n",
    "#         \"롯데카드-01\", \"헤럴드\", \"KCR\", \"아인스\", \"하나캐-02\", \"베델-01\", \"롯데카드-03\", \"하나캐-01\", \\\n",
    "#             \"더키움\", \"롯데카드-02\", \"JT캐-02\", \"흥국화재-01\", \"롯데카드-04\", \"산은캐-01\", \"대산\", \"JT캐-01\"]\n",
    "\n",
    "# for dir_ in docu_list :\n",
    "#     for sell_ in sell_list :\n",
    "#         os.makedirs(dir_+\"/\"+sell_, exist_ok=True)\n",
    "\n",
    "#[끝]###########################################################"
   ]
  },
  {
   "cell_type": "markdown",
   "metadata": {},
   "source": [
    "### 잘못된 거 확인 및 기록하기\n",
    "- 채무자키는 먼저 확인해서 수작업으로 빼고\n",
    "- 문서구분은 기준에서 벗어난 거 확인하면서 주의요청도 하고 자동수정 코드를 채워가쟈 ### 연속 기호, 이상한 문자 제거하기"
   ]
  },
  {
   "cell_type": "code",
   "execution_count": null,
   "metadata": {},
   "outputs": [],
   "source": [
    "path = r'\\\\192.168.0.75\\스캔파일\\새 스캔파일(업로드)\\0906'\n",
    "hard_path = r'\\\\192.168.0.75\\스캔파일\\새 스캔파일(업로드)\\수작업 필요'\n",
    "file_list = [f.name for f in os.scandir(path) if f.is_file()]\n",
    "nokey_cnt = 0"
   ]
  },
  {
   "cell_type": "code",
   "execution_count": null,
   "metadata": {},
   "outputs": [],
   "source": [
    "p_key = re.compile(r\"([\\d]{8})[\\D]\") #match\n",
    "docu_kind = r'원인서류|양도통지서[\\s]?[\\d]?[차]?|집행권원[\\s]?[재]?[도]?|집행권원 재도|집행권원재도|강제집행|등본|초본|외국인증명|개인회생|신용회복|파산|재산조사|기타'\n",
    "p_docu = re.compile(docu_kind)\n",
    "p_event_min = re.compile(r\"[\\D]([\\d]{2,}[ㄱ-ㅎ가-힣]{1,3}[0-9]+)\")\n",
    "p_event = re.compile(r\"[\\D]([\\d]{4}[ㄱ-ㅎ가-힣]{1,3}[0-9]+)\")\n",
    "p_day_e = re.compile(r'[\\D]+[\\d]{8}')\n",
    "\n",
    "mark_except = []\n",
    "docu_except = []\n",
    "event_except = []\n",
    "day_except = []"
   ]
  },
  {
   "cell_type": "code",
   "execution_count": null,
   "metadata": {},
   "outputs": [],
   "source": [
    "for f in tqdm(file_list) :\n",
    "    # try :\n",
    "    if file_list != \"Thumbs.db\" :\n",
    "        \n",
    "        stem = os.path.splitext(f)[0]\n",
    "        ext = os.path.splitext(f)[1]\n",
    "        n = stem\n",
    "\n",
    "        if not p_key.match(n) : # 필수 양식에 맞지 않는다.\n",
    "            shutil.move(join(path, f), join(hard_path, f+ext))\n",
    "            nokey_cnt += 1\n",
    "        else :\n",
    "            #연속 공백 및 기호 제외하기\n",
    "            n = re.sub(\"[\\s]{2,}\", \" \", n)\n",
    "\n",
    "            if re.search(\"[^a-zA-Zㄱ-ㅎ가-힣0-9 _()]\", n) :\n",
    "                n = re.sub(\"[^a-zA-Zㄱ-ㅎ가-힣0-9 _()]\", \"\", n)\n",
    "                mark_except.append(f)\n",
    "            \n",
    "            #예외 확인\n",
    "            if not p_docu.search(n) :\n",
    "                docu_except.append(n)\n",
    "            \n",
    "            if (p_event_min != None) & (p_event == None) :\n",
    "                event_except.append(n)\n",
    "\n",
    "            if p_day_e.search(n) :\n",
    "                day_except.append(n)\n",
    "           \n",
    "            if n != f :\n",
    "                shutil.move(join(path,f), join(#########, n+ext))\n",
    "            \n",
    "    # except Exception as e:\n",
    "    #     print(\"===================================\")\n",
    "    #     print(datetime.today().strftime(\"%H:%M:%S\"))\n",
    "    #     print(f, e.__class__, e, sep=\" : \")\n",
    "    #     print(traceback.format_exc())\n",
    "    #     continue # 반복문 계속 돌아\n",
    "print(nokey_cnt,\"개 수작업\")\n",
    "print(f\"기호 : {len(mark_except)}, 문서 : {len(docu_except)}, 사건번호 : {len(event_except)}, 날짜 : {len(day_except)}\")"
   ]
  },
  {
   "cell_type": "code",
   "execution_count": null,
   "metadata": {},
   "outputs": [],
   "source": [
    "print(*docu_except, sep=\"\\n\")"
   ]
  },
  {
   "cell_type": "code",
   "execution_count": null,
   "metadata": {},
   "outputs": [],
   "source": [
    "print(*day_except, sep=\"\\n\")"
   ]
  },
  {
   "cell_type": "markdown",
   "metadata": {},
   "source": [
    "### 변종 통일하기"
   ]
  },
  {
   "cell_type": "code",
   "execution_count": null,
   "metadata": {},
   "outputs": [],
   "source": [
    "# 문서구분 수정, 보증인 위치, 차수, 재도 확인, 이상한 기호 제거, 날짜 양식 확인\n",
    "path = r'C:\\Users\\jbmyo\\Desktop\\test'\n",
    "file_list = [f.name for f in os.scandir(path) if f.is_file()]\n",
    "\n",
    "result = []\n",
    "\n",
    "docu_list = [\"\",\"원인서류\", \"양도통지서\", \"집행권원\", \"강제집행\", \"등본\", \"초본\", \"외국인증명\", \"개인회생\", \"신용회복\", \"파산\", \"재산조사\", \"기타\"]\n",
    "p1 = re.compile(\"원인 서류|입회 신청서|입회신청서\")\n",
    "p2 = re.compile(\"양도 통지서|채권\\s?양도\\s?통지서|\\s?양통\\s|\\s양통\\s?\")  # ? 는 {0,1}, 세양통신 해결\n",
    "p3 = re.compile(\"승계\\s?집행문|판결문|지급\\s?명령|이행\\s?권고|화해\\s?권고\")\n",
    "p4 = re.compile(\"결정문|결정|[가-힣]+\\s?타채|강제 집행\")\n",
    "#p5 등본\n",
    "p6 = re.compile(\"원초본\")\n",
    "#p7 외국인증명\n",
    "p8 = re.compile(\"개회(?=\\D)|개인 회생|회생\")\n",
    "p9 = re.compile(\"신복(?![가-힣])|신용\\s*회복\")\n",
    "#p10 파산\n",
    "p11 = re.compile(\"재산 조사\")\n",
    "\n",
    "p_event1 = re.compile(r\"(?<=\\D)(\\d{4})\\s?([ㄱ-ㅎ가-힣]{1,3})\\s?([0-9]+)\")\n",
    "p_event2 = re.compile(r\"(?<=\\D)(\\d{2})\\s?([ㄱ-ㅎ가-힣]{1,3})\\s?([0-9]+)\")\n",
    "\n",
    "#날짜는 굳이 수정할 필요없겠다. 오히려 6자리로 하면 사건번호와 겹칠 확률만 올라가겠네."
   ]
  },
  {
   "cell_type": "code",
   "execution_count": null,
   "metadata": {},
   "outputs": [],
   "source": [
    "for f in tqdm(file_list, total=len(file_list)) :\n",
    "    try :\n",
    "        stem = os.path.splitext(f)[0]\n",
    "        ext = os.path.splitext(f)[1]\n",
    "        \n",
    "        n = stem #new_name\n",
    "        \n",
    "        #문서구분-------------------------------\n",
    "        #원인서류\n",
    "        if p1.search(n) :\n",
    "            n = p1.sub(docu_list[1], n)\n",
    "        #양도통지서\n",
    "        elif p2.search(n) :\n",
    "            n = p2.sub(docu_list[2], n) #이름에 양통들어가는 경우가 있을 수 있어서 공백씀..\n",
    "        #집행권원\n",
    "        elif p3.search(n) :\n",
    "            n = p3.sub(docu_list[3], n)\n",
    "        elif p4.search(n) :\n",
    "            n = p4.sub(docu_list[4], n)\n",
    "        elif p6.search(n) :\n",
    "            n = p6.sub(docu_list[6], n)\n",
    "        elif p8.search(n) :\n",
    "            n = p8.sub(docu_list[8], n)\n",
    "        elif p9.search(n) :\n",
    "            n = p9.sub(docu_list[9], n)\n",
    "        elif p11.search(n) :\n",
    "            n = p11.sub(docu_list[11], n)\n",
    "        \n",
    "        #사건번호-------------------------------\n",
    "        if p_event1.search(n) :\n",
    "            n = p_event1.sub(r'\\1\\2\\3', n)\n",
    "            #사건번호 연도가 yy라면\n",
    "        elif p_event2.search(n) :\n",
    "            n = p_event2.sub(r'20\\1\\2\\3', n)\n",
    "    \n",
    "    # 바로 분류 ?\n",
    "\n",
    "\n",
    "    except Exception as e:\n",
    "        print(\"===================================\")\n",
    "        print(datetime.today().strftime(\"%H:%M:%S\"))\n",
    "        print(f, e.__class__, e, sep=\" : \")\n",
    "        print(traceback.format_exc())\n",
    "        error.append([f, e.__class__, e])\n",
    "        continue # 반복문 계속 돌아\n",
    "\n",
    "print(*result, sep=\"\\n\")"
   ]
  },
  {
   "cell_type": "code",
   "execution_count": null,
   "metadata": {},
   "outputs": [],
   "source": []
  },
  {
   "cell_type": "code",
   "execution_count": null,
   "metadata": {},
   "outputs": [],
   "source": []
  },
  {
   "cell_type": "code",
   "execution_count": null,
   "metadata": {},
   "outputs": [],
   "source": []
  },
  {
   "cell_type": "markdown",
   "metadata": {},
   "source": [
    "### 수작업 분류 및 format 재작성"
   ]
  },
  {
   "cell_type": "code",
   "execution_count": null,
   "metadata": {},
   "outputs": [],
   "source": [
    "path = r'C:\\Users\\jbmyo\\Desktop\\test'\n",
    "hard_path = r'\\\\192.168.0.75\\스캔파일\\새 스캔파일(업로드)\\수작업 필요'\n",
    "checked_path = r'\\\\192.168.0.75\\스캔파일\\새 스캔파일(업로드)\\파일명 검수 완료'\n",
    "\n",
    "file_list = [f.name for f in os.scandir(path) if f.is_file()]\n",
    "log = []\n",
    "error = []\n",
    "cnt = 0\n",
    "\n",
    "docu_kind = r'원인서류|양도통지서[\\s]?[\\d]?[차]?|집행권원[\\s]?[재]?[도]?|강제집행|등본|초본|외국인증명|개인회생|신용회복|파산|재산조사|기타'\n",
    "\n",
    "p_basic = re.compile(r'(\\d{8})\\s?(\\D+.+)('+docu_kind+r')') #[\\D]가 숫자를 제외하므로 (나이/날짜) 이런 거를 제외시킬수 있다. 주의\n",
    "p_event = re.compile(r\"[\\D]([\\d]{4}[ㄱ-ㅎ가-힣]{1,3}[0-9]+)\")"
   ]
  },
  {
   "cell_type": "code",
   "execution_count": null,
   "metadata": {},
   "outputs": [],
   "source": [
    "for f in file_list :\n",
    "    try :\n",
    "        stem = os.path.splitext(f)[0]\n",
    "        ext = os.path.splitext(f)[1]\n",
    "\n",
    "        # 필수3요소 체크 확인\n",
    "        basic = p_basic.match(stem)\n",
    "        if basic == None : # 필수 양식에 맞지 않는다.\n",
    "            shutil.move(join(path, f), join(hard_path, f))\n",
    "            cnt += 1\n",
    "        \n",
    "        else :\n",
    "            \n",
    "            # 필수3요소 변수 저장\n",
    "            key = basic.group(1)\n",
    "            name = basic.group(2).strip() #[/D]가 공백을 포함하므로\n",
    "            docu = basic.group(3)\n",
    "            \n",
    "            # 사건번호, 기타정보 변수 저장\n",
    "            if p_event.search(stem) :\n",
    "                temp_event = p_event.search(stem)\n",
    "                event = temp_event.group()\n",
    "                extra = stem[temp_event.end():].strip().replace(\" \", \"_\")\n",
    "            else :\n",
    "                extra = stem[basic.end():].strip().replace(\" \", \"_\")\n",
    "\n",
    "            # 기타정보(없는 경우 끝에 _ 생겨서 구분 해줘야 함) 변수 저장\n",
    "            if extra :\n",
    "                name_items = [key, name, docu, event, extra]\n",
    "            else :\n",
    "                name_items = [key, name, docu, event]\n",
    "\n",
    "            new_name = \"_\".join(name_items)+ext\n",
    "            new_name = re.sub(\"[_]{2,}\", \"_\", new_name) #마지막에 _ 두개 인 경우 꼭 해줘야 해.\n",
    "            \n",
    "            shutil.move(join(path, f), join(checked_path,new_name))\n",
    "            log.append([f, new_name])\n",
    "            \n",
    "    except Exception as e:\n",
    "        print(\"===================================\")\n",
    "        print(datetime.today().strftime(\"%H:%M:%S\"))\n",
    "        print(f, e.__class__, e, sep=\" : \")\n",
    "        print(traceback.format_exc())\n",
    "        error.append([f, e.__class__, e])\n",
    "        continue # 반복문 계속 돌아\n",
    "\n",
    "ff.write_log(log, error, r'\\\\192.168.0.75\\스캔파일\\스캔파일 log\\파일명 체크')\n",
    "print(cnt, \"개 파일 수작업 필요\")"
   ]
  },
  {
   "cell_type": "markdown",
   "metadata": {},
   "source": [
    "### \"솔림헬프\"로 파일 업로드\n"
   ]
  },
  {
   "cell_type": "code",
   "execution_count": null,
   "metadata": {},
   "outputs": [],
   "source": [
    "# 경로 정리\n",
    "path = r'\\\\192.168.0.75\\스캔파일\\새 스캔파일(업로드)\\파일명 수정 필요'\n",
    "os.chdir(path)\n",
    "file_list = [f.name for f in os.scandir(path) if f.is_file()]\n",
    "_total = len(file_list)\n",
    "log_path = r'\\\\192.168.0.75\\스캔파일\\스캔파일 log'\n",
    "\n",
    "f_d = r'\\\\192.168.0.75\\솔림헬프'\n",
    "out = r'\\\\192.168.0.75\\삭제예정파일\\관리제외'\n",
    "# 기본 변수\n",
    "p_out = re.compile('개인회생\\(면책\\)|파산\\(면책\\)|환매|매각|종결')\n",
    "p_key = re.compile(r\"([\\d]{8})[\\D]\") #match\n",
    "\n",
    "error = []\n",
    "log = []\n",
    "# 1) depth1 문서종류 매칭\n",
    "docu_match = {\"원인서류\" : \"1.원인서류\", \"양도통지서\":\"2.양도통지서\", \"집행권원\":\"3.집행권원\", \"강제집행\":\"4.강제집행\", \"등본\":\"5.등초본\", \"초본\":\"5.등초본\", \"외국인\":\"5.등초본\", \"개인회생\":\"6.개인회생\", \"신용회복\":\"7.신용회복\", \"파산\":\"8.파산\", \"재산조사\":\"9.재산조사\", \"기타\":\"기타\"}\n"
   ]
  },
  {
   "cell_type": "code",
   "execution_count": null,
   "metadata": {},
   "outputs": [],
   "source": [
    "#######################################\n",
    "#로그, 관리제외파일 수정했으니 테스트 한 번 해봐\n",
    "#######################################\n",
    "\n",
    "for f in tqdm(file_list, total=_total) : \n",
    "    \n",
    "    if (f != \"Thumbs.db\") :\n",
    "        \n",
    "        try :\n",
    "            depth1 = \"\" #문서종류\n",
    "            depth3 = f[:8] #다 확인한 뒤니까 그냥 이렇게 해도 돼\n",
    "            depth2 = dict_sell[depth3][0] #매각사구분\n",
    "\n",
    "            # 관리제외라면\n",
    "            if p_out.match(dict_sell[depth3][1]) :\n",
    "                out_dir = join(out, depth2, depth3)\n",
    "                if not os.path.exists(out_dir) :\n",
    "                    os.makedirs(out_dir)\n",
    "                shutil.move(join(path,f), join(out_dir, f))\n",
    "            \n",
    "            # 관리파일이면\n",
    "            else :\n",
    "            \n",
    "                # depth1\n",
    "                for key, value in docu_match.items() : \n",
    "                    if re.search(key, f) :\n",
    "                        depth1 = value\n",
    "                        continue\n",
    "                    else :\n",
    "                        pass\n",
    "                \n",
    "                # 파일이동을 위한 준비(도착지 디렉토리 및 파일명 작성)\n",
    "                dst_dir = os.path.join(f_d, depth1, depth2, depth3)\n",
    "            \n",
    "                if not os.path.exists(dst_dir) :\n",
    "                    os.makedirs(dst_dir) #미리 만들어뒀으니 mkdir해도 됨\n",
    "                \n",
    "                #파일이동\n",
    "                log.append(ff.re_name(join(path, f), join(dst_dir, f)))\n",
    "        \n",
    "        except Exception as e:\n",
    "            print(\"===================================\")\n",
    "            print(datetime.today().strftime(\"%H:%M:%S\"))\n",
    "            print(f, e.__class__, e, sep=\" : \")\n",
    "            print(traceback.format_exc())\n",
    "            error.append([f, e.__class__, e])\n",
    "            continue # 반복문 계속 돌아\n",
    "\n",
    "\n",
    "# 로그 파일 나스에 저장\n",
    "ff.write_log(log, error, log_path)"
   ]
  },
  {
   "cell_type": "markdown",
   "metadata": {},
   "source": [
    "### 파일 비교 및 차집합"
   ]
  },
  {
   "cell_type": "code",
   "execution_count": null,
   "metadata": {},
   "outputs": [],
   "source": [
    "myPath= r'D:\\부산 정리_v2'\n",
    "nasPath=r'\\\\192.168.0.75\\스캔파일\\새 스캔파일(업로드)'"
   ]
  },
  {
   "cell_type": "code",
   "execution_count": null,
   "metadata": {},
   "outputs": [],
   "source": [
    "myFile = [f for f in os.scandir(myPath) if f.is_file()]"
   ]
  },
  {
   "cell_type": "code",
   "execution_count": null,
   "metadata": {},
   "outputs": [],
   "source": [
    "nasFile = [f for f in os.scandir(nasPath) if f.is_file()]"
   ]
  },
  {
   "cell_type": "code",
   "execution_count": null,
   "metadata": {},
   "outputs": [],
   "source": [
    "onlyLocal = list(set(myFile) - set(nasFile))\n",
    "print(len(onlyLocal))"
   ]
  },
  {
   "cell_type": "code",
   "execution_count": null,
   "metadata": {},
   "outputs": [],
   "source": [
    "onlynas = list(set(myFile) - set(nasFile))\n",
    "print(len(onlynas))"
   ]
  },
  {
   "cell_type": "code",
   "execution_count": 13,
   "metadata": {},
   "outputs": [],
   "source": [
    "success = [1,2,3]\n",
    "out = [1,2,3]\n",
    "try :\n",
    "    work = []\n",
    "    work_day = str(datetime.today().strftime(\"%m-%d\"))\n",
    "    work_time = str(datetime.today().strftime(\"%H:%M\"))\n",
    "    work_sum = str(len(success) + len(out))\n",
    "    work.append([work_day, work_time, work_sum, str(len(success)), str(len(out))])\n",
    "\n",
    "    import csv\n",
    "    with open (r\"C:\\Users\\SL\\Desktop\\test\\작업일지.csv\", \"a\", newline=\"\", encoding='utf-8-sig') as p :\n",
    "        for row in work :\n",
    "            wr = csv.writer(p)\n",
    "            wr.writerow(row)\n",
    "except :\n",
    "    print(\"작업얼지 에러 작성 중 에러\")"
   ]
  }
 ],
 "metadata": {
  "kernelspec": {
   "display_name": "Python 3.9.12 ('base')",
   "language": "python",
   "name": "python3"
  },
  "language_info": {
   "codemirror_mode": {
    "name": "ipython",
    "version": 3
   },
   "file_extension": ".py",
   "mimetype": "text/x-python",
   "name": "python",
   "nbconvert_exporter": "python",
   "pygments_lexer": "ipython3",
   "version": "3.9.13"
  },
  "orig_nbformat": 4,
  "vscode": {
   "interpreter": {
    "hash": "50ba2c93e3505a279245e213c77d9791c626788d8ca8a61b8db804927ca08a39"
   }
  }
 },
 "nbformat": 4,
 "nbformat_minor": 2
}
