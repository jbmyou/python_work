{
 "cells": [
  {
   "cell_type": "markdown",
   "metadata": {},
   "source": [
    "### import"
   ]
  },
  {
   "cell_type": "code",
   "execution_count": 69,
   "metadata": {},
   "outputs": [],
   "source": [
    "import pandas as pd\n",
    "import numpy as np\n",
    "import re, os\n",
    "from os.path import join\n",
    "from tqdm import tqdm\n",
    "from file_function import read_filelist\n",
    "from openpyxl.utils.dataframe import dataframe_to_rows\n",
    "from openpyxl.styles import Font, PatternFill, Alignment, Border, Side\n",
    "from openpyxl import Workbook\n",
    "\n",
    "# dtype 정의\n",
    "debt_dtype = {'채무자키':str, '타채무자키':str, '담당자키':str}\n"
   ]
  },
  {
   "cell_type": "markdown",
   "metadata": {},
   "source": [
    "### 파일명 바꾸기\n",
    "- 채무조정안"
   ]
  },
  {
   "cell_type": "code",
   "execution_count": null,
   "metadata": {},
   "outputs": [],
   "source": [
    "# 고객식별번호로 저장된 스캔파일 읽기\n",
    "################################################\n",
    "path_pdf = r\"D:\\3.자산\\신용회복\\솔림\\1.신용회복\\2.스캔파일\\새 폴더\"\n",
    "docu = \"채무조정안\" # 신청인현황, 채무조정안, 원상회복내역\n",
    "기준일 = \"231004\" # - 엑셀파일에 실효일자이 없을 때는 지정\n",
    "# 업무파일/회신파일에서 다음을 칼럼으로 - 채무자키,고객명,고객식별번호,기준일    //////\n",
    "ref_df = pd.read_excel(r\"c://Users/SL/Desktop/통합 문서1.xlsx\", dtype=str) \n",
    "################################################\n",
    "filelist = read_filelist(path_pdf)\n",
    "\n",
    "# 채무자키 정렬\n",
    "ref_df.sort_values(['채무자키'], inplace=True)\n",
    "\n",
    "# # 고객식별번호 중복제거 - 대표 채무자키에만 등록할 때 : 어차피 스캔파일을 순회하기 때문에 대표채무자키에만 등록되게 된다.\n",
    "# ref_df.drop_duplicates(subset=['고객식별번호'], inplace=True, ignore_index=True)"
   ]
  },
  {
   "cell_type": "code",
   "execution_count": null,
   "metadata": {},
   "outputs": [],
   "source": [
    "# 파일명 변경\n",
    "for f in filelist : \n",
    "    stem, ext = os.path.splitext(f)\n",
    "    temp = ref_df.query(\"고객식별번호==@stem\")\n",
    "    if \"기준일\" in temp.columns : \n",
    "        new_name = temp.채무자키.values[0] + \"_\" + temp.고객명.values[0] + \"_\" + docu +\"_\" + temp.기준일.values[0] + ext\n",
    "    else : \n",
    "        new_name = temp.채무자키.values[0] + \"_\" + temp.고객명.values[0] + \"_\" + docu +\"_\" + 기준일 + ext\n",
    "    os.rename(join(path_pdf, f), join(path_pdf, new_name))"
   ]
  },
  {
   "cell_type": "markdown",
   "metadata": {},
   "source": [
    "### 담당자 변경"
   ]
  },
  {
   "cell_type": "markdown",
   "metadata": {},
   "source": [
    "##### 기본변수 및 담당자로그파일 읽기"
   ]
  },
  {
   "cell_type": "code",
   "execution_count": 59,
   "metadata": {},
   "outputs": [
    {
     "name": "stdout",
     "output_type": "stream",
     "text": [
      "['김대홍', '신경용', '김용기', '김천곤', '박병원', '서삼석', '안병렬', '양미정', '엄주억', '오남진', '지영숙', '허곤', '김지홍', '정재하', '확인용']\n"
     ]
    },
    {
     "name": "stderr",
     "output_type": "stream",
     "text": [
      "c:\\Users\\sl\\anaconda3\\lib\\site-packages\\openpyxl\\styles\\stylesheet.py:226: UserWarning: Workbook contains no default style, apply openpyxl's default\n",
      "  warn(\"Workbook contains no default style, apply openpyxl's default\")\n"
     ]
    },
    {
     "data": {
      "text/html": [
       "<div>\n",
       "<style scoped>\n",
       "    .dataframe tbody tr th:only-of-type {\n",
       "        vertical-align: middle;\n",
       "    }\n",
       "\n",
       "    .dataframe tbody tr th {\n",
       "        vertical-align: top;\n",
       "    }\n",
       "\n",
       "    .dataframe thead th {\n",
       "        text-align: right;\n",
       "    }\n",
       "</style>\n",
       "<table border=\"1\" class=\"dataframe\">\n",
       "  <thead>\n",
       "    <tr style=\"text-align: right;\">\n",
       "      <th></th>\n",
       "      <th>채무자키</th>\n",
       "      <th>채무자</th>\n",
       "      <th>변경전</th>\n",
       "      <th>변경후</th>\n",
       "      <th>담당변경사유</th>\n",
       "      <th>요청자</th>\n",
       "      <th>변경일</th>\n",
       "      <th>변경자</th>\n",
       "    </tr>\n",
       "  </thead>\n",
       "  <tbody>\n",
       "    <tr>\n",
       "      <th>25391</th>\n",
       "      <td>20407805</td>\n",
       "      <td>문영민</td>\n",
       "      <td>전나영</td>\n",
       "      <td>신용회복</td>\n",
       "      <td>신용회복중</td>\n",
       "      <td>전나영</td>\n",
       "      <td>2023-09-15 17:31:39</td>\n",
       "      <td>전나영</td>\n",
       "    </tr>\n",
       "  </tbody>\n",
       "</table>\n",
       "</div>"
      ],
      "text/plain": [
       "           채무자키  채무자  변경전   변경후 담당변경사유  요청자                  변경일  변경자\n",
       "25391  20407805  문영민  전나영  신용회복  신용회복중  전나영  2023-09-15 17:31:39  전나영"
      ]
     },
     "execution_count": 59,
     "metadata": {},
     "output_type": "execute_result"
    }
   ],
   "source": [
    "# 추심팀 명단 : 부서 == 추심 (다운후 유저구분까지만 남겨두자)       #######변경있는 경우#######\n",
    "전사원명단 = pd.read_excel(join(r\"D:\\3.자산\\기타 업무\\담당자변경\",\"0.사원_20231018_1552.xlsx\"), dtype=str)\n",
    "사원_지점 = 전사원명단.query('부서==\"추심\"')[[\"사원성명\", \"지점\"]].copy()\n",
    "추심팀명단 = 사원_지점.사원성명.tolist()\n",
    "print(추심팀명단)\n",
    "\n",
    "# 주간 담당자로그 파일 읽기\n",
    "###################################\n",
    "wd = r\"D:\\3.자산\\기타 업무\\담당자변경\"\n",
    "filename_log = \"담당자로그_202309.xlsx\"\n",
    "기간 = \"2309\"\n",
    "###################################\n",
    "log = pd.read_excel(join(wd,filename_log), dtype=debt_dtype)\n",
    "\n",
    "# 채무자키로 그룹화 : 변경일순으로 정렬되어 있으므로 순회하면 된다.\n",
    "log_grouped = log.groupby('채무자키')\n",
    "log_grouped.get_group(list(log_grouped.groups.keys())[0])"
   ]
  },
  {
   "cell_type": "markdown",
   "metadata": {},
   "source": [
    "##### 데이터 조작"
   ]
  },
  {
   "cell_type": "code",
   "execution_count": 76,
   "metadata": {},
   "outputs": [
    {
     "name": "stdout",
     "output_type": "stream",
     "text": [
      "제외건 개수 :  100\n",
      "배정건 개수 :  1\n"
     ]
    }
   ],
   "source": [
    "# 제외건, 배정건 만들기\n",
    "\n",
    "# 제외건\n",
    "제외_채무자키_list = []\n",
    "제외_채무자명_list = []\n",
    "제외_변경전_list = []\n",
    "제외_변경후_list = []\n",
    "제외_최종변경일_list = []\n",
    "\n",
    "# 배정건\n",
    "배정_채무자키_list = []\n",
    "배정_채무자명_list = []\n",
    "배정_변경전_list = []\n",
    "배정_변경후_list = []\n",
    "배정_최종변경일_list = []\n",
    "\n",
    "\n",
    "for k, v in log_grouped :\n",
    "    변경전추심팀 = list(x for x in v.변경전.values if x in 추심팀)\n",
    "    변경전관리팀 = list(x for x in v.변경전.values if x not in 추심팀)\n",
    "    최종담당자 = v.변경후.values[-1]\n",
    "\n",
    "    # 제외건에 해당하는 조건\n",
    "    if 변경전추심팀 and  최종담당자 not in 추심팀 : \n",
    "        제외_채무자키_list.append(k) # k는 str임\n",
    "        제외_채무자명_list.append(v.채무자.values[0]) # 똑같으므로\n",
    "        제외_변경전_list.append(변경전추심팀[-1]) # 여러명인 경우, 마지막 담당자\n",
    "        제외_변경후_list.append(최종담당자)\n",
    "        제외_최종변경일_list.append(v.변경일.values[-1][:10])\n",
    "    \n",
    "    # 배정건에 해당하는 조건\n",
    "    if 변경전관리팀 and  최종담당자 in 추심팀 : \n",
    "        배정_채무자키_list.append(k) # k는 str임\n",
    "        배정_채무자명_list.append(v.채무자.values[0]) # 똑같으므로\n",
    "        배정_변경전_list.append(\">\".join(변경전관리팀)) # 진행상황 알수 있도록 > 로 연결\n",
    "        배정_변경후_list.append(최종담당자)\n",
    "        배정_최종변경일_list.append(v.변경일.values[-1][:10])\n",
    "\n",
    "# df만들기\n",
    "columns = [\"채무자키\", \"채무자명\", \"변경전\", \"변경후\", \"최종변경일\"]\n",
    "제외_data = {col: values for col, values in zip(columns, [제외_채무자키_list, 제외_채무자명_list, 제외_변경전_list, 제외_변경후_list, 제외_최종변경일_list])}\n",
    "제외건 = pd.DataFrame(제외_data)\n",
    "\n",
    "배정_data = {col: values for col, values in zip(columns, [배정_채무자키_list, 배정_채무자명_list, 배정_변경전_list, 배정_변경후_list, 배정_최종변경일_list])}\n",
    "배정건 = pd.DataFrame(배정_data)\n",
    "\n",
    "# 지점열 추가\n",
    "제외건 = pd.merge(제외건,사원_지점, left_on='변경전', right_on='사원성명', how='left')\n",
    "제외건.drop('사원성명', axis=1, inplace=True)\n",
    "\n",
    "배정건 = pd.merge(배정건,사원_지점, left_on='변경후', right_on='사원성명', how='left')\n",
    "배정건.drop('사원성명', axis=1, inplace=True)\n",
    "\n",
    "# 지점-담당자 이름순 정렬\n",
    "제외건.sort_values(['지점', '변경전'], ascending=True, inplace=True)\n",
    "배정건.sort_values(['지점', '변경후'], ascending=True, inplace=True)\n",
    "\n",
    "print(\"제외건 개수 : \", len(제외건))\n",
    "print(\"배정건 개수 : \", len(배정건))"
   ]
  },
  {
   "cell_type": "markdown",
   "metadata": {},
   "source": [
    "##### 엑셀 만들기"
   ]
  },
  {
   "cell_type": "code",
   "execution_count": 79,
   "metadata": {},
   "outputs": [],
   "source": [
    "# 엑셀 쓰기\n",
    "\n",
    "# 시트 만들기\n",
    "wb = Workbook()\n",
    "ws1 = wb.active\n",
    "ws1.title = \"제외건\"\n",
    "ws2 = wb.create_sheet(\"배정건\")\n",
    "\n",
    "# 시트에 데이터 입력\n",
    "for r in dataframe_to_rows(제외건, index=False, header=True) : ws1.append(r)\n",
    "for r in dataframe_to_rows(배정건, index=False, header=True) : ws2.append(r)\n",
    "\n",
    "# 스타일 지정\n",
    "# 폰트\n",
    "font_data = Font(name='NN30', size=10)\n",
    "font_col = Font(name='NN30', size=10, color='FFFFFF', bold=True)\n",
    "# 컬럼 배경색\n",
    "fill_col = PatternFill(fill_type='solid', start_color='FF0072C6', end_color='FF0072C6') # 칼럼명\n",
    "fill_highlight = PatternFill(fill_type='solid', start_color='F79646', end_color='F79646') # 칼럼명\n",
    "# 테두리 : 직선\n",
    "border = Border(left=Side(style='thin'), right=Side(style='thin'), top=Side(style='thin'), bottom=Side(style='thin'))\n",
    "# 정렬\n",
    "alignment = Alignment(horizontal='center', vertical='center')\n",
    "\n",
    "# 스타일 적용\n",
    "for ws in [ws1, ws2] : \n",
    "\n",
    "    # 시트 첫행(칼럼명)\n",
    "    for cell in ws[1] :\n",
    "        if (cell.value ==\"변경전\" and ws.title==\"제외건\") or (cell.value ==\"변경후\" and ws.title==\"배정건\") :\n",
    "            cell.fill = fill_highlight\n",
    "\n",
    "        else :     \n",
    "            cell.fill = fill_col\n",
    "        cell.font = font_col\n",
    "        cell.border = border\n",
    "        cell.alignment = alignment\n",
    "    \n",
    "    # 2행부터 순회(데이터)\n",
    "    for row in ws.iter_rows(min_row=2, max_row=ws.max_row) : \n",
    "        for cell in row :\n",
    "            cell.font = font_data\n",
    "            cell.border = border\n",
    "            cell.alignment = alignment\n",
    "\n",
    "# 파일 저장\n",
    "wb.save(join(wd, \"담당자변경_\"+기간+\".xlsx\"))"
   ]
  }
 ],
 "metadata": {
  "kernelspec": {
   "display_name": "base",
   "language": "python",
   "name": "python3"
  },
  "language_info": {
   "codemirror_mode": {
    "name": "ipython",
    "version": 3
   },
   "file_extension": ".py",
   "mimetype": "text/x-python",
   "name": "python",
   "nbconvert_exporter": "python",
   "pygments_lexer": "ipython3",
   "version": "3.9.13"
  },
  "orig_nbformat": 4
 },
 "nbformat": 4,
 "nbformat_minor": 2
}
