{
 "cells": [
  {
   "cell_type": "code",
   "execution_count": 1,
   "metadata": {},
   "outputs": [],
   "source": [
    "import pandas as pd\n",
    "import numpy as np\n",
    "import re, os, pickle\n",
    "from os.path import join\n",
    "from tqdm import tqdm\n",
    "from datetime import datetime"
   ]
  },
  {
   "cell_type": "markdown",
   "metadata": {},
   "source": [
    "### 시효완성일 > 시효완성월 작업하기"
   ]
  },
  {
   "cell_type": "code",
   "execution_count": 4,
   "metadata": {},
   "outputs": [],
   "source": [
    "df = pd.read_excel(r\"D:\\3.자산\\전산 dataset\\솔림\\230926\\output2\\POOL8_데이터_230926_대주발송용.xlsx\", sheet_name=\"무담보\", dtype=str)"
   ]
  },
  {
   "cell_type": "code",
   "execution_count": 7,
   "metadata": {},
   "outputs": [],
   "source": [
    "# 마지막 작업 : 시효완성월 전체 수정(새시효완성일에 대해)\n",
    "basedate = \"230926\"\n",
    "기준일 = pd.Timestamp(\"20\"+basedate[:4]+\"01\")\n",
    "\n",
    "# 함수벡터화\n",
    "df[\"시효완성일\"] = pd.to_datetime(df[\"시효완성일\"])  # 시효완성일을 날짜 형식으로 변환\n",
    "df[\"시효완성월_계산\"] = (df[\"시효완성일\"].dt.year - 기준일.year) * 12 + (df[\"시효완성일\"].dt.month - 기준일.month)\n",
    "\n",
    "# 버릴 시효완성월_ 작성\n",
    "x = df[\"시효완성월_계산\"]\n",
    "conds = [(x<0) | pd.isna(x), x<1, x<2, x<3, x<4, x<5, x<6, x<12, x>=12]\n",
    "values = [\"시효만료\", \"당월도래\", \"1개월\", \"2개월\", \"3개월\", \"4개월\", \"5개월\", \"1년이내\", \"1년이후\"]\n",
    "df[\"시효완성월_계산\"] = np.select(conds, values)\n",
    "\n",
    "# 시효완성월과 시효사유 : 압류로 인한 중단 반영\n",
    "df['시효완성월'] = np.where(df.시효완성월==\"중단\", \"중단\", df.시효완성월_계산)\n",
    "\n",
    "# df 저장 : 타입원복 및 불필요한 열 제거\n",
    "df = df.iloc[:,:-1] # 시효완성월_계산 제거\n",
    "df[\"시효완성일\"] = df[\"시효완성일\"].apply(lambda x: pd.Timestamp(x).strftime(\"%Y-%m-%d\") if pd.notna(x) else \"\")\n",
    "\n",
    "df.to_excel(r\"D:\\3.자산\\전산 dataset\\솔림\\230926\\output2\\xx.xlsx\", index=False)"
   ]
  }
 ],
 "metadata": {
  "kernelspec": {
   "display_name": "base",
   "language": "python",
   "name": "python3"
  },
  "language_info": {
   "codemirror_mode": {
    "name": "ipython",
    "version": 3
   },
   "file_extension": ".py",
   "mimetype": "text/x-python",
   "name": "python",
   "nbconvert_exporter": "python",
   "pygments_lexer": "ipython3",
   "version": "3.9.18"
  },
  "orig_nbformat": 4
 },
 "nbformat": 4,
 "nbformat_minor": 2
}
