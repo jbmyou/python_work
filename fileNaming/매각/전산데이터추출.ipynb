{
 "cells": [
  {
   "cell_type": "code",
   "execution_count": 1,
   "metadata": {},
   "outputs": [],
   "source": [
    "import pandas as pd\n",
    "from tqdm import tqdm\n",
    "import re, os\n",
    "from os.path import join\n",
    "\n",
    "account_dtype = {'채무자키':str, '계좌키':str, '타채무자키':str}\n",
    "memo_dtype = {'채무자키' : str, '메모키':str}\n",
    "event_dtype = {'채무자키':str, '법조치키':str, '계좌키':str, '관련법조치키':str, '법취하키':str, '타법조치키':str, '타채무자키':str, '관할법원코드':str}\n",
    "deposit_dtype = {'채무자키' : str, '입금키':str, '계좌키':str, '입금계좌번호':str, '계좌번호':str, '타입금키':str, '타채무자키':str, '보증인키':str}\n",
    "\n",
    "# 자산확정일 : 채무자, 계좌, 보증인, 개인회생, 신용회복\n",
    "# 매각일 : 계좌, 입금(계좌조회,계좌별표시,기간제한x), 메모, 법조치(새채무자키)"
   ]
  },
  {
   "cell_type": "code",
   "execution_count": 2,
   "metadata": {},
   "outputs": [
    {
     "name": "stderr",
     "output_type": "stream",
     "text": [
      "c:\\Users\\sl\\anaconda3\\lib\\site-packages\\openpyxl\\styles\\stylesheet.py:226: UserWarning: Workbook contains no default style, apply openpyxl's default\n",
      "  warn(\"Workbook contains no default style, apply openpyxl's default\")\n",
      "c:\\Users\\sl\\anaconda3\\lib\\site-packages\\openpyxl\\styles\\stylesheet.py:226: UserWarning: Workbook contains no default style, apply openpyxl's default\n",
      "  warn(\"Workbook contains no default style, apply openpyxl's default\")\n",
      "c:\\Users\\sl\\anaconda3\\lib\\site-packages\\openpyxl\\styles\\stylesheet.py:226: UserWarning: Workbook contains no default style, apply openpyxl's default\n",
      "  warn(\"Workbook contains no default style, apply openpyxl's default\")\n",
      "c:\\Users\\sl\\anaconda3\\lib\\site-packages\\openpyxl\\styles\\stylesheet.py:226: UserWarning: Workbook contains no default style, apply openpyxl's default\n",
      "  warn(\"Workbook contains no default style, apply openpyxl's default\")\n"
     ]
    }
   ],
   "source": [
    "# 파일읽기 # 매각일 자료도 일단은 dataset에 저장하고 나중에 옮기든지 하자.\n",
    "################################\n",
    "company = \"솔림\"\n",
    "cutDate = \"230731\"\n",
    "sellDate = \"230831\"\n",
    "sell_ext = \".xlsx\"\n",
    "################################\n",
    "cut_ext = \".pkl\" # 자산정리하면서 pkl 만들었으니\n",
    "path_base = join(r\"D:\\3.자산\\전산 dataset\", company)\n",
    "\n",
    "cutFiles = [name + cut_ext for name in [\"채무자조회새창_20230731_2106\", \"계좌조회새창_20230731_2109\", \"보증인새창_20230731_2110\", \\\n",
    "    \"개인회생새창_20230731_2115_진행중_계좌키분리_기준데이터\", \"20230731_신용회복전체리스트_솔림\"]]\n",
    "sellFiles = [\"계좌조회새창_20230831_2250\", \"메모조회새창_20230905_0933\", \"법조치조회새창_20230831_2254\", \"입금조회새창_20230905_0939\"]\n",
    "\n",
    "# 자산확정일\n",
    "cut_dir = join(path_base, cutDate)\n",
    "debt = pd.read_pickle(join(cut_dir, cutFiles[0]))\n",
    "cut_accout = pd.read_pickle(join(cut_dir, cutFiles[1]))\n",
    "grt = pd.read_pickle(join(cut_dir, cutFiles[2]))\n",
    "rehabilitation = pd.read_pickle(join(cut_dir, cutFiles[3]))\n",
    "credit = pd.read_pickle(join(cut_dir, cutFiles[4]))\n",
    "\n",
    "# 매각일\n",
    "sell_dir = join(path_base, sellDate)\n",
    "sell_account = pd.read_excel(join(sell_dir, sellFiles[0]+sell_ext)).fillna(\"\")\n",
    "memo = pd.read_excel(join(sell_dir, sellFiles[1]+sell_ext)).fillna(\"\")\n",
    "event = pd.read_excel(join(sell_dir, sellFiles[2]+sell_ext)).fillna(\"\")\n",
    "deposit = pd.read_excel(join(sell_dir, sellFiles[3]+sell_ext)).fillna(\"\")\n",
    "\n",
    "# 매각리스트\n",
    "keys = pd.read_excel(r\"C:\\Users\\SL\\Desktop\\매각건정리.xlsx\", sheet_name=\"P1애플(신복)230831\", dtype=str).fillna(\"\")"
   ]
  },
  {
   "cell_type": "code",
   "execution_count": 4,
   "metadata": {},
   "outputs": [],
   "source": [
    "# 매각일 자료 pkl 저장\n",
    "sell_account.to_pickle(join(sell_dir, sellFiles[0]+cut_ext))\n",
    "memo.to_pickle(join(sell_dir, sellFiles[1]+cut_ext))\n",
    "event.to_pickle(join(sell_dir, sellFiles[2]+cut_ext))\n",
    "deposit.to_pickle(join(sell_dir, sellFiles[3]+cut_ext))"
   ]
  },
  {
   "cell_type": "code",
   "execution_count": null,
   "metadata": {},
   "outputs": [],
   "source": [
    "# 추출하기 : 법조치는 새채무자키로 추출"
   ]
  },
  {
   "cell_type": "code",
   "execution_count": null,
   "metadata": {},
   "outputs": [],
   "source": []
  }
 ],
 "metadata": {
  "kernelspec": {
   "display_name": "base",
   "language": "python",
   "name": "python3"
  },
  "language_info": {
   "codemirror_mode": {
    "name": "ipython",
    "version": 3
   },
   "file_extension": ".py",
   "mimetype": "text/x-python",
   "name": "python",
   "nbconvert_exporter": "python",
   "pygments_lexer": "ipython3",
   "version": "3.9.13"
  },
  "orig_nbformat": 4
 },
 "nbformat": 4,
 "nbformat_minor": 2
}
