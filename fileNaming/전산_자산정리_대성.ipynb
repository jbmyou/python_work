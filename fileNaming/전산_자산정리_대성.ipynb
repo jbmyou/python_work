{
 "cells": [
  {
   "attachments": {},
   "cell_type": "markdown",
   "metadata": {},
   "source": [
    "### IMPORT"
   ]
  },
  {
   "cell_type": "code",
   "execution_count": 95,
   "metadata": {},
   "outputs": [],
   "source": [
    "import pandas as pd\n",
    "import numpy as np\n",
    "import pickle\n",
    "import re\n",
    "import os\n",
    "from os.path import join\n",
    "from tqdm import tqdm\n",
    "from datetime import datetime"
   ]
  },
  {
   "attachments": {},
   "cell_type": "markdown",
   "metadata": {},
   "source": [
    "### 채권구분\n",
    "- 아래에서 전체 원데이터 만들기\n",
    "- 새 채권구분 만들기 : 1) 종결, 2) 조정(개회,신복이 중복되더라도 일단 문제없게), 3) 무담보 순서대로 만들기\n",
    "  - (오류 체크) 개회, 신복 기준데이터 vs 차주 채무자상태 \n",
    "    - (전산 미수정) 조정 vs 미반영, 면책 및 완납 vs 미반영\n",
    "    - (개회신복경쟁) 개회 vs 신복 or 신복 vs 개회\n",
    "    - (오등록) 확정리스트 없음 vs 개회, 신복. 다음의 경우를 포함함[폐지 및 실효 vs 미반영(여전히 개회 및 신복 *개회폐지 후 신복, 신복폐지 후 개회일 수는 있음)]\n",
    "\n",
    "- (오류 체크) 개회, 신복 보증인상태 미반영 리스트 만들기, 중복리스트 만들키\n",
    "- 개회, 신복 조정여부 칼럼 추가해서 자산정리 칼럼 만들기(계좌키에 붙이기) : 생략하지 말고 다 붙이기\n",
    "- 채권구분칼럼 최초채권구분으로 변경"
   ]
  },
  {
   "cell_type": "code",
   "execution_count": 11,
   "metadata": {},
   "outputs": [],
   "source": [
    "# 개별 파일 pkl 만들기\n",
    "# wd = r\"D:\\3.자산\\전산 dataset\"\n",
    "# basedate = \"230423\"\n",
    "# filename = \"계좌조회새창_20230424_0918\"\n",
    "# x = pd.read_excel(join(wd, basedate, filename +\".xlsx\"), dtype={'채무자키':str, '계좌키':str, '타채무자키':str}).fillna(\"\")\n",
    "# x.to_pickle(join(wd, basedate, filename +\".pkl\"))"
   ]
  },
  {
   "cell_type": "code",
   "execution_count": 141,
   "metadata": {},
   "outputs": [
    {
     "name": "stderr",
     "output_type": "stream",
     "text": [
      "c:\\Users\\sl\\anaconda3\\lib\\site-packages\\openpyxl\\styles\\stylesheet.py:226: UserWarning: Workbook contains no default style, apply openpyxl's default\n",
      "  warn(\"Workbook contains no default style, apply openpyxl's default\")\n",
      "c:\\Users\\sl\\anaconda3\\lib\\site-packages\\openpyxl\\styles\\stylesheet.py:226: UserWarning: Workbook contains no default style, apply openpyxl's default\n",
      "  warn(\"Workbook contains no default style, apply openpyxl's default\")\n"
     ]
    }
   ],
   "source": [
    "# 파일 읽기\n",
    "# 채무자, 계좌, 보증인, 개회신복 기준데이터->차주와 보증인으로 나누 저장\n",
    "wd = r\"D:\\3.자산\\전산 dataset\\대성\"\n",
    "################### 예수금 지울것(채무자,계좌)\n",
    "basedate = \"230430\"\n",
    "files = (\"채무자조회새창_20230503_1536\", \"계좌조회정보\", \"보증인정보\", \"개인회생정보_진행중_계좌키분리_기준데이터\", \"신용회복전체리스트_대성_20230430\")\n",
    "# 개회의 겨우 계좌키 분리 파일로 읽을 것! \n",
    "\n",
    "# 파일 읽기\n",
    "ext = \".xlsx\"  \n",
    "###################\n",
    "\n",
    "# 개회-신복 충돌 정리(기준데이터 만들 때 각 담당자가 제거하기로 함)\n",
    "# 개회제외 = {\"차주\" : (\"20462830\"), \"보증인\" : () } # 20462830 중복입금건. 신복이 기간이 더 남아서 신복으로 처리하기로 함\n",
    "# 신복제외 = {\"차주\" : (\"20451534\", \"20525880\", \"20525532\"), \"보증인\" : ()} # \"20451534\", \"20525880\", \"20525532\" 신복 실효 확정 전에 개회 신청한 건\n",
    "\n",
    "if ext == \".pkl\" : # fillna()는 엑셀읽을 때 미리 해둬야함, 조정, 개회 진행중 시트만 읽어서 저장한 경우\n",
    "    debt = pd.read_pickle(join(wd, basedate, files[0]+ext))\n",
    "    account = pd.read_pickle(join(wd, basedate, files[1]+ext))\n",
    "    grt = pd.read_pickle(join(wd, basedate, files[2]+ext))\n",
    "    rehabilitation = pd.read_pickle(join(wd, basedate, files[3]+ext))\n",
    "    credit = pd.read_pickle(join(wd, basedate, files[4]+ext))\n",
    "    rehabilitation_d = rehabilitation[rehabilitation[\"분납자관계\"]==\"채무자\"]\n",
    "    rehabilitation_grt = rehabilitation[rehabilitation[\"분납자관계\"]==\"보증인\"]\n",
    "    credit_d = credit[credit[\"채무구분\"]==\"주채무\"]\n",
    "    credit_grt = credit[credit[\"채무구분\"]==\"보증채무\"]\n",
    "else : \n",
    "    debt = pd.read_excel(join(wd, basedate, files[0]+ext), dtype={'채무자키':str, '타채무자키':str, '담당자키':str}).fillna(\"\")\n",
    "    account = pd.read_excel(join(wd, basedate, files[1]+ext), dtype={'채무자키':str, '계좌키':str, '타채무자키':str}).fillna(\"\")\n",
    "    grt = pd.read_excel(join(wd, basedate, files[2]+ext), dtype={'채무자키':str, '계좌키':str, '타채무자키':str, '보증인키':str}).fillna(\"\")\n",
    "    rehabilitation = pd.read_excel(join(wd, basedate, files[3]+ext), sheet_name=\"개인회생(진행)\", dtype={'채무자키':str, '계좌키':str, '분납키':str, '사건키':str}).fillna(\"\")\n",
    "    credit = pd.read_excel(join(wd, basedate, files[4]+ext), sheet_name=\"확정,미확정\", dtype={'채무자키':str, '계좌키':str, '보증인키':str}).fillna(\"\")\n",
    "    rehabilitation_d = rehabilitation[rehabilitation[\"분납자관계\"]==\"채무자\"]\n",
    "    rehabilitation_grt = rehabilitation[rehabilitation[\"분납자관계\"]==\"보증인\"]\n",
    "    credit_d = credit[credit[\"채무구분\"]==\"주채무\"]\n",
    "    credit_grt = credit[credit[\"채무구분\"]==\"보증채무\"]\n",
    "    \n",
    "# 예수금 제외\n",
    "debt.drop(debt[debt.성명==\"예수금\"].index, inplace=True)\n",
    "debt.reset_index(drop=True, inplace=True)\n",
    "account.drop(account[account.채무자명==\"예수금\"].index, inplace=True)\n",
    "account.reset_index(drop=True, inplace=True)"
   ]
  },
  {
   "cell_type": "code",
   "execution_count": null,
   "metadata": {},
   "outputs": [],
   "source": [
    "# pkl 저장\n",
    "debt.to_pickle(join(wd, basedate, files[0]+\".pkl\"))\n",
    "account.to_pickle(join(wd, basedate, files[1]+\".pkl\"))\n",
    "grt.to_pickle(join(wd, basedate, files[2]+\".pkl\"))\n",
    "rehabilitation.to_pickle(join(wd, basedate, files[3]+\".pkl\"))\n",
    "credit.to_pickle(join(wd, basedate, files[4]+\".pkl\"))"
   ]
  },
  {
   "cell_type": "code",
   "execution_count": 142,
   "metadata": {},
   "outputs": [
    {
     "data": {
      "text/plain": [
       "'차주'"
      ]
     },
     "metadata": {},
     "output_type": "display_data"
    },
    {
     "data": {
      "text/html": [
       "<div>\n",
       "<style scoped>\n",
       "    .dataframe tbody tr th:only-of-type {\n",
       "        vertical-align: middle;\n",
       "    }\n",
       "\n",
       "    .dataframe tbody tr th {\n",
       "        vertical-align: top;\n",
       "    }\n",
       "\n",
       "    .dataframe thead th {\n",
       "        text-align: right;\n",
       "    }\n",
       "</style>\n",
       "<table border=\"1\" class=\"dataframe\">\n",
       "  <thead>\n",
       "    <tr style=\"text-align: right;\">\n",
       "      <th></th>\n",
       "      <th>채무자키</th>\n",
       "      <th>계좌키</th>\n",
       "      <th>인가/미인가</th>\n",
       "      <th>반영OPB</th>\n",
       "      <th>접수일</th>\n",
       "      <th>진행구분</th>\n",
       "      <th>현재원금잔액</th>\n",
       "      <th>접수일자</th>\n",
       "    </tr>\n",
       "  </thead>\n",
       "  <tbody>\n",
       "  </tbody>\n",
       "</table>\n",
       "</div>"
      ],
      "text/plain": [
       "Empty DataFrame\n",
       "Columns: [채무자키, 계좌키, 인가/미인가, 반영OPB, 접수일, 진행구분, 현재원금잔액, 접수일자]\n",
       "Index: []"
      ]
     },
     "metadata": {},
     "output_type": "display_data"
    },
    {
     "data": {
      "text/plain": [
       "'보증인'"
      ]
     },
     "metadata": {},
     "output_type": "display_data"
    },
    {
     "data": {
      "text/html": [
       "<div>\n",
       "<style scoped>\n",
       "    .dataframe tbody tr th:only-of-type {\n",
       "        vertical-align: middle;\n",
       "    }\n",
       "\n",
       "    .dataframe tbody tr th {\n",
       "        vertical-align: top;\n",
       "    }\n",
       "\n",
       "    .dataframe thead th {\n",
       "        text-align: right;\n",
       "    }\n",
       "</style>\n",
       "<table border=\"1\" class=\"dataframe\">\n",
       "  <thead>\n",
       "    <tr style=\"text-align: right;\">\n",
       "      <th></th>\n",
       "      <th>채무자키</th>\n",
       "      <th>계좌키</th>\n",
       "      <th>인가/미인가</th>\n",
       "      <th>반영OPB</th>\n",
       "      <th>접수일</th>\n",
       "      <th>진행구분</th>\n",
       "      <th>현재원금잔액</th>\n",
       "      <th>접수일자</th>\n",
       "    </tr>\n",
       "  </thead>\n",
       "  <tbody>\n",
       "  </tbody>\n",
       "</table>\n",
       "</div>"
      ],
      "text/plain": [
       "Empty DataFrame\n",
       "Columns: [채무자키, 계좌키, 인가/미인가, 반영OPB, 접수일, 진행구분, 현재원금잔액, 접수일자]\n",
       "Index: []"
      ]
     },
     "metadata": {},
     "output_type": "display_data"
    }
   ],
   "source": [
    "# [check]개회신복 채무자키 중복 : 차주, 보증인별\n",
    "\n",
    "# 차주\n",
    "조정중복_차주 = pd.merge(rehabilitation_d[[\"채무자키\",\"계좌키\",\"인가/미인가\",\"반영OPB\", \"접수일\"]], credit_d[[\"채무자키\",\"계좌키\",\"진행구분\",\"현재원금잔액\",\"접수일자\"]], on=[\"채무자키\",\"계좌키\"], how=\"inner\")\n",
    "display(\"차주\", 조정중복_차주)\n",
    "\n",
    "# 보증인\n",
    "조정중복_보증인 = pd.merge(rehabilitation_grt[[\"채무자키\",\"계좌키\",\"인가/미인가\",\"반영OPB\", \"접수일\"]], credit_grt[[\"채무자키\",\"계좌키\",\"진행구분\",\"현재원금잔액\", \"접수일자\"]], on=[\"채무자키\",\"계좌키\"], how=\"inner\")\n",
    "display(\"보증인\", 조정중복_보증인)"
   ]
  },
  {
   "cell_type": "code",
   "execution_count": 165,
   "metadata": {},
   "outputs": [
    {
     "name": "stdout",
     "output_type": "stream",
     "text": [
      "이상무\n"
     ]
    }
   ],
   "source": [
    "# [check] 계좌종결건 조정채권 포함여부\n",
    "종결된계좌키1 = account[account.종결일 != \"\"].계좌키\n",
    "종결된계좌키2 = account[account.메모 != \"\"].계좌키\n",
    "종결된계좌키 = pd.concat([종결된계좌키1, 종결된계좌키2])\n",
    "check개회 = 종결된계좌키[종결된계좌키.isin(rehabilitation[\"계좌키\"])]\n",
    "check신복 = 종결된계좌키[종결된계좌키.isin(credit[\"계좌키\"])]\n",
    "check = pd.concat([check개회, check신복])\n",
    "if len(check) > 0 :\n",
    "    print(check)\n",
    "    # 출력\n",
    "    check.to_excel(join(wd, basedate, \"9.종결vs조정.xlsx\"), index=False)\n",
    "    # 종결건 신복과 개회에서 제외하기\n",
    "    rehabilitation = rehabilitation[~rehabilitation.계좌키.isin(check)]\n",
    "    credit = credit[~credit.계좌키.isin(check)]\n",
    "else : print(\"이상무\")"
   ]
  },
  {
   "cell_type": "code",
   "execution_count": null,
   "metadata": {},
   "outputs": [],
   "source": [
    "# 확정된 조정채권 저장하기\n",
    "rehabilitation_d = rehabilitation[rehabilitation[\"분납자관계\"]==\"채무자\"]\n",
    "rehabilitation_grt = rehabilitation[rehabilitation[\"분납자관계\"]==\"보증인\"]\n",
    "credit_d = credit[credit[\"채무구분\"]==\"주채무\"]\n",
    "credit_grt = credit[credit[\"채무구분\"]==\"보증채무\"]"
   ]
  },
  {
   "cell_type": "code",
   "execution_count": 166,
   "metadata": {},
   "outputs": [
    {
     "name": "stderr",
     "output_type": "stream",
     "text": [
      "100%|██████████| 415/415 [00:00<00:00, 2129.78it/s]\n"
     ]
    }
   ],
   "source": [
    "# 개회 >> 차주 : 계좌키, 보증인 : [계좌키 + 보증인이름]이 pk. \n",
    "# 신복 >> 보증인키 있으므로 이걸로. 누락계좌는 정상으로 나옴\n",
    "# 개회 누락채권(일부계좌누락, 일부 채무자키(이런 경우가 있을까?)) 문제는 어떻게? : 일단 \n",
    "\n",
    "# 보증인 상태변경\n",
    "if \"새보증인상태\" in grt.columns : \n",
    "    grt[\"새보증인상태\"] = \"\"\n",
    "else : grt.insert(8,\"새보증인상태\",\"\")\n",
    "\n",
    "# '채무자키'열과 '보증인성명인'열을 기준으로 비교하여 값 변경\n",
    "for i in tqdm(range(len(grt)), total=len(grt)):  \n",
    "    # 종결건 보증인상태 유지\n",
    "    \n",
    "    # 개인회생\n",
    "    temp = rehabilitation_grt[(rehabilitation_grt['채무자키'] == grt.at[i, '채무자키']) & (rehabilitation_grt['분납자성명인'] == grt.at[i, '보증인성명인'])]\n",
    "    if len(temp) > 0:\n",
    "        grt.at[i, '새보증인상태'] = \"개인회생(확정)\" if temp['인가/미인가'].values[0] == \"인가\" else \"개인회생(진행중)\"\n",
    "    else : \n",
    "        # 신용회복\n",
    "        temp = credit_grt[(credit_grt['보증인키'] == grt.at[i, '보증인키'])]\n",
    "        if len(temp) > 0:\n",
    "            grt.at[i, '새보증인상태'] = \"신용회복(\"+ temp['상환방식'].values[0]+\")\" if temp['진행구분'].values[0] == \"확정\" else \"신용회복(진행중)\"\n",
    "        else :\n",
    "            # 무담보\n",
    "            grt.at[i, '새보증인상태'] = grt.at[i, '보증인상태']\n",
    "\n",
    "# move = grt.pop('새보증인상태')\n",
    "# grt.insert(8,'새보증인상태', move)"
   ]
  },
  {
   "cell_type": "code",
   "execution_count": 6,
   "metadata": {},
   "outputs": [],
   "source": [
    "# 저장 : 보증인 수정할 것 엑셀 저장\n",
    "grt[grt.새보증인상태 != grt.보증인상태].loc[:,[\"채무자키\", \"계좌키\",\"보증인키\",\"매각사구분\",\"보증인성명인\",\"주민번호인\",\"계좌번호\",\"보증구분\",\"새보증인상태\",\"보증인상태\",\"보증금액\",\"보증잔액\",\"보증한도액\"]].to_excel(join(wd, basedate, \"9.보증인상태변경할것.xlsx\"), index=False)\n",
    "# # 새보증인상태 추가한 파일 저장\n",
    "# grt.to_pickle(join(wd, basedate, files[2]+\"_새보증인상태.pkl\"))\n",
    "grt.to_excel(join(wd, basedate, files[2]+\"_새보증인상태.xlsx\"), index=False)"
   ]
  },
  {
   "cell_type": "code",
   "execution_count": 169,
   "metadata": {},
   "outputs": [
    {
     "name": "stderr",
     "output_type": "stream",
     "text": [
      "100%|██████████| 6456/6456 [00:02<00:00, 2849.69it/s]\n"
     ]
    }
   ],
   "source": [
    "# 계좌에 새채무상태 만들기\n",
    "\n",
    "# 계좌조회새창의 채무상태는 전산의 채무자상태값을 불러온 것임.(즉 채무자상태이지 채권상태가 아님)\n",
    "# 1. 새채무상태 채우키\n",
    "# if 종결일에 값이 있으면 종료\n",
    "# else if 조정기준데이터에서 불러오고 \n",
    "#      else ~~~\n",
    "#   \n",
    "# 2. 수정목록 작성하기\n",
    "\n",
    "if \"새채무상태\" not in account.columns : account.insert(8,\"새채무상태\", \"\")\n",
    "종결처리안된종료건 = []\n",
    "\n",
    "for i in tqdm(range(len(account)), total = len(account)):\n",
    "    account_key = account.at[i, '계좌키']\n",
    "    # 종결처리 안 된 계좌\n",
    "    if account.at[i, '종결일'] == \"\" :\n",
    "        # 종결처리 안 됐지만 종료인 계좌(메모 \"종료\")\n",
    "        if account.at[i, \"메모\"] != \"\" :\n",
    "            account.at[i, '새채무상태'] = account.at[i, \"메모\"]\n",
    "            종결처리안된종료건.append(account.at[i, '계좌키'])\n",
    "        # 미종결 or 보증인까지 고려해야 하는 것\n",
    "        else : \n",
    "            # 개인회생\n",
    "            temp = rehabilitation_d[(rehabilitation_d['계좌키'] == account_key)]\n",
    "            if  len(temp) > 0:\n",
    "                account.at[i, '새채무상태'] = \"개인회생(확정)\" if temp['인가/미인가'].values[0] == \"인가\" else \"개인회생(진행중)\"\n",
    "            else : \n",
    "                # 신용회복\n",
    "                temp = credit_d[(credit_d['계좌키'] == account.at[i, '계좌키'])]\n",
    "                if len(temp) > 0:\n",
    "                    account.at[i, '새채무상태'] = \"신용회복(\"+ temp['상환방식'].values[0]+\")\" if temp['진행구분'].values[0] == \"확정\" else \"신용회복(진행중)\"\n",
    "                else :\n",
    "                    # 일단 빈칸으로 두고 뒤에서 수정 # 무담보 또는 종료(면책)\n",
    "                    account.at[i, '새채무상태'] = \"\"\n",
    "    # 종결처리 된 계좌\n",
    "    else :\n",
    "        account.at[i, '새채무상태'] = \"종료\"\n",
    "\n",
    "# move = account.pop('새보증인상태')\n",
    "# account.insert(8,'새보증인상태', move)"
   ]
  },
  {
   "cell_type": "code",
   "execution_count": 171,
   "metadata": {},
   "outputs": [],
   "source": [
    "# [ckeck]종결처리해야하는 계좌 출력\n",
    "if len(종결처리안된종료건)>0 :\n",
    "    pd.DataFrame(종결처리안된종료건).to_excel(join(wd, basedate, \"9.종결처리안된종료건.xlsx\"), index=False)"
   ]
  },
  {
   "attachments": {},
   "cell_type": "markdown",
   "metadata": {},
   "source": [
    "### 전체 원데이터 만들기(종합)"
   ]
  },
  {
   "cell_type": "code",
   "execution_count": 209,
   "metadata": {},
   "outputs": [],
   "source": [
    "raw_data = pd.DataFrame(None)\n",
    "raw_data[\"채무자키\"] = account.채무자키\n",
    "raw_data[\"계좌키\"] = account.계좌키\n",
    "raw_data[\"타채무자키\"] = account.타채무자키\n",
    "\n",
    "raw_data[\"채권구분\"] = account.채권구분\n",
    "#raw_data[\"매각사\"] = account.매각사     # 매각사 구분 있다.\n",
    "raw_data[\"새채무상태\"] = account.새채무상태\n",
    "raw_data[\"채무상태\"] = account.채무상태\n",
    "raw_data[\"담당자\"] = account.담당자\n",
    "raw_data[\"성명\"] = account.채무자명\n",
    "\n",
    "raw_data[\"주민등록번호\"] = account.채무자주민번호 #.apply(lambda x : x[:8])\n",
    "raw_data[\"계좌번호\"] = account.계좌번호\n",
    "raw_data[\"원채권사\"] = account.원채권사\n",
    "raw_data[\"매각사구분\"] = account.매각사구분\n",
    "raw_data[\"계정과목\"] = account.계정과목\n",
    "raw_data[\"최초원금\"] = account.최초원금\n",
    "raw_data[\"최초법비용\"] = account.최초법비용\n",
    "raw_data[\"최초미수이자\"] = account.최초미수이자\n",
    "raw_data[\"최초연체이자율\"] = account.최초연체이자율\n",
    "raw_data[\"현재원금\"] = account.현재원금\n",
    "raw_data[\"현재법비용\"] = account.현재법비용\n",
    "raw_data[\"OPB\"] = account[[\"현재원금\",\"현재법비용\"]].sum(axis=1)\n",
    "raw_data[\"현재미수이자\"] = account.현재미수이자\n",
    "raw_data[\"현재연체이자\"] = account.현재연체이자\n",
    "raw_data[\"현재합계\"] = account.현재합계\n",
    "raw_data[\"회수합계\"] = account.회수합계\n",
    "raw_data[\"최초대출일\"] = account.최초대출일\n",
    "raw_data[\"최초연체일\"] = account.최초연체일 # 없는 경우도 있음\n",
    "raw_data[\"매입일\"] = account.매입일\n",
    "raw_data[\"시효완성일\"] = account.시효완성일\n",
    "\n",
    "# 채무자조회에서 불러올 항목\n",
    "debt_temp = debt[[\"채무자키\", \"개인법인\"]]#, \"연령\", \"자택우편번호\", \"자택주소\"]]\n",
    "raw_data = pd.merge(raw_data, debt_temp, on=\"채무자키\", how=\"left\")\n",
    "\n",
    "# grt에서 각 계좌별 보증인상태 불러오기\n",
    "names = grt.groupby('계좌키')['보증인성명인'].apply(lambda x: ','.join(x)) # 고유값만 남기려면 join의 매개변수로 x.unique()를 사용\n",
    "status = grt.groupby('계좌키')['보증인상태'].apply(lambda x: ','.join(x))\n",
    "\n",
    "raw_data = raw_data.merge(names, how='left', on='계좌키')\n",
    "raw_data = raw_data.merge(status, how='left', on='계좌키')\n",
    "\n",
    "raw_data[\"보증인성명인\"] = raw_data[\"보증인성명인\"].fillna('')\n",
    "raw_data[\"보증인상태\"] = raw_data[\"보증인상태\"].fillna('')"
   ]
  },
  {
   "cell_type": "code",
   "execution_count": 210,
   "metadata": {},
   "outputs": [
    {
     "name": "stdout",
     "output_type": "stream",
     "text": [
      "전              3727\n",
      "종료           1010\n",
      "신용회복(개인)      949\n",
      "개인회생(확정)      639\n",
      "개인회생(진행중)      57\n",
      "신용회복(프리)       50\n",
      "신용회복(진행중)      24\n",
      "Name: 새채무상태, dtype: int64\n"
     ]
    },
    {
     "name": "stderr",
     "output_type": "stream",
     "text": [
      "100%|██████████| 6456/6456 [00:00<00:00, 25806.21it/s]"
     ]
    },
    {
     "name": "stdout",
     "output_type": "stream",
     "text": [
      "후 종료           2420\n",
      "개인           2207\n",
      "신용회복(개인)      949\n",
      "개인회생(확정)      639\n",
      "법인            110\n",
      "개인회생(진행중)      57\n",
      "신용회복(프리)       50\n",
      "신용회복(진행중)      24\n",
      "Name: 새채무상태, dtype: int64\n"
     ]
    },
    {
     "name": "stderr",
     "output_type": "stream",
     "text": [
      "\n"
     ]
    }
   ],
   "source": [
    "# 새채무상태 마무리\n",
    "print(\"전\",raw_data.새채무상태.value_counts())\n",
    "채무상태종료 = re.compile(\"종결|시효완성|신용회복\\(완제\\)|환매|매각\")\n",
    "담당자종료 = re.compile(\"종결|상각|포기채권|매각|환매|파산|회계파산\")\n",
    "채무상태면책 = re.compile(\"개인회생\\(면책\\)|파산\\(면책\\)\")\n",
    "보증인종료 = re.compile(\"파산\\(면책\\)|종결|시효완성|개인회생\\(면책\\)|추심제외|시효|보증면탈|사망\\(상속포기\\)\")\n",
    "\n",
    "for i in tqdm(range(len(raw_data)), total = len(raw_data)):\n",
    "    if raw_data.at[i, \"새채무상태\"] == \"\" :\n",
    "        # 종료\n",
    "        if 채무상태종료.search(raw_data.at[i, \"채무상태\"]) or 담당자종료.search(raw_data.at[i, \"담당자\"]) :\n",
    "            raw_data.at[i, \"새채무상태\"] = \"종료\"\n",
    "        # 차주면책\n",
    "        elif 채무상태면책.search(raw_data.at[i, \"채무상태\"]) :\n",
    "            # 보증인 없으면\n",
    "            if raw_data.at[i, \"보증인상태\"] == \"\" :\n",
    "                raw_data.at[i, \"새채무상태\"] = \"종료\"\n",
    "            else : # 보증인종료 이외의 건이 있는지\n",
    "                temp = 보증인종료.sub(\"\",raw_data.at[i, \"보증인상태\"])\n",
    "                if len(re.sub(\",\", \"\", temp)) == 0 : # 보증인도 모두 종료/면책\n",
    "                    raw_data.at[i, \"새채무상태\"] = \"종료\"\n",
    "                else :\n",
    "                    raw_data.at[i, \"새채무상태\"] = re.sub(\"사업자\", \"\", raw_data.at[i, \"개인법인\"])\n",
    "        else :\n",
    "            raw_data.at[i, \"새채무상태\"] = re.sub(\"사업자\", \"\", raw_data.at[i, \"개인법인\"])\n",
    "print(\"후\",raw_data.새채무상태.value_counts())"
   ]
  },
  {
   "cell_type": "code",
   "execution_count": null,
   "metadata": {},
   "outputs": [],
   "source": [
    "# [ckeck]계좌별 채무상태 수정할 것 엑셀 저장\n",
    "# 범주가 다르게 적용되어서 현재는 의미가 없다. 보완이 필요\n",
    "# raw_data[raw_data.새채무상태 != raw_data.채무상태].loc[:,[\"채무자키\", \"계좌키\",\"매각사구분\",\"새채무상태\",\"채무상태\"]].to_excel(join(wd, basedate, \"9.계좌별채무상태달라진것.xlsx\"), index=False)"
   ]
  },
  {
   "cell_type": "code",
   "execution_count": 211,
   "metadata": {},
   "outputs": [],
   "source": [
    "# 최종OPB 작성하기\n",
    "\n",
    "개회OPB = rehabilitation_d.loc[:, [\"계좌키\", \"반영OPB\"]].rename(columns={\"반영OPB\" : \"최종OPB\"})\n",
    "신복OPB = credit_d.loc[:, [\"계좌키\", \"현재원금잔액\"]].rename(columns={\"현재원금잔액\" : \"최종OPB\"})\n",
    "# 개회OPB와 신복OPB 병합\n",
    "merged_opb = 개회OPB.merge(신복OPB, on=['계좌키','최종OPB'], how='outer')\n",
    "# raw_data와 병합\n",
    "raw_data = raw_data.merge(merged_opb, on='계좌키', how='outer')\n",
    "\n",
    "# 조정이 아닌 경우, 종료이면 0, 아니면 OPB\n",
    "new_col = np.where(raw_data['새채무상태'] == '종료', 0, raw_data['OPB'])\n",
    "raw_data.loc[raw_data['최종OPB'].isnull(), '최종OPB'] = new_col[raw_data['최종OPB'].isnull()]"
   ]
  },
  {
   "cell_type": "code",
   "execution_count": 212,
   "metadata": {},
   "outputs": [],
   "source": [
    "# 전체 저장하기\n",
    "raw_data.to_excel(join(wd, basedate, \"2.대성_전체_원데이터_\"+basedate+\".xlsx\"), index=False)\n",
    "# 특정 매각사만 저장하기\n",
    "# cond = \"스마트저축-01\" ###################################\n",
    "# raw_data[raw_data.매각사구분==cond].to_excel(join(wd, cond+\"_원데이터_\"+basedate+\".xlsx\"), index=False)"
   ]
  },
  {
   "cell_type": "code",
   "execution_count": 186,
   "metadata": {},
   "outputs": [],
   "source": [
    "# [check] 더블 채무상태\n",
    "채무자별채무상태 = raw_data.groupby('주민등록번호')['새채무상태'].apply(lambda x:\",\".join(x.unique()))\n",
    "check_채무상태 = 채무자별채무상태[채무자별채무상태.str.contains(',')]\n",
    "# 출력\n",
    "if len(check_채무상태) > 0 : check_채무상태.to_excel(join(wd, basedate, \"9.더블채무상태.xlsx\"))"
   ]
  },
  {
   "cell_type": "code",
   "execution_count": null,
   "metadata": {},
   "outputs": [],
   "source": [
    "# 제출용 시트 작성하기-개인회생 \n",
    "re_d = rehabilitation_d.loc[:,[\"채무자키\",\"계좌키\",\"분납키\",\"분납자성명인\",\"분납자관계\",\"매각사구분\", \"인가/미인가\",\"현재결과\", \"반영OPB\", \"관할법원\", \"사건번호\", \"접수일\", \"개시결정일\",\"변제계획인가일\",\"총분납회차\",\"현재회차\",\"납입회차\",\"잔여회차\",\"미납회차\",\"총분납금\",\"총분납입금\",\"분납미납금\",\"분납잔금\",\"총분납잔금\",\"현재원금\",\"현재법비용\",\"비고\"]]\n",
    "re_grt = rehabilitation_grt.loc[:,[\"채무자키\",\"계좌키\",\"분납키\",\"분납자성명인\",\"분납자관계\",\"매각사구분\", \"인가/미인가\",\"현재결과\", \"반영OPB\", \"관할법원\", \"사건번호\", \"접수일\", \"개시결정일\",\"변제계획인가일\",\"총분납회차\",\"현재회차\",\"납입회차\",\"잔여회차\",\"미납회차\",\"총분납금\",\"총분납입금\",\"분납미납금\",\"분납잔금\",\"총분납잔금\",\"현재원금\",\"현재법비용\",\"비고\"]]\n",
    "# re_d.insert(0, \"순번\", range(1,len(re_d)+1))\n",
    "# re_grt.insert(0, \"순번\", range(1,len(re_grt)+1))\n",
    "# 저장\n",
    "with pd.ExcelWriter(join(wd, basedate, \"10.제출용 개인회생.xlsx\"), engine='openpyxl', mode = 'w') as writer :\n",
    "    re_d.to_excel(writer, sheet_name=\"차주\", index=False)\n",
    "    re_grt.to_excel(writer, sheet_name=\"보증인\", index=False)"
   ]
  },
  {
   "cell_type": "code",
   "execution_count": null,
   "metadata": {},
   "outputs": [],
   "source": [
    "# 제출용 시트 작성하기-신용회복\n",
    "# 기준데이터에서 삭제한 것이 있을 때 유의미 & 차주 보증인 구분\n",
    "\n",
    "# 날짜열 문자열로\n",
    "date_cols = credit_d.select_dtypes(include='datetime').columns\n",
    "credit_d.loc[:,date_cols] = credit_d[date_cols].astype(str)\n",
    "date_cols = credit_grt.select_dtypes(include='datetime').columns\n",
    "credit_grt.loc[:,date_cols] = credit_grt[date_cols].astype(str)\n",
    "\n",
    "# 저장\n",
    "with pd.ExcelWriter(join(wd, basedate, \"10.제출용 신용회복.xlsx\"), engine='openpyxl', mode = 'w') as writer :\n",
    "    credit_d.to_excel(writer, sheet_name=\"차주\", index=False)\n",
    "    credit_grt.to_excel(writer, sheet_name=\"보증인\", index=False)"
   ]
  },
  {
   "cell_type": "code",
   "execution_count": 216,
   "metadata": {},
   "outputs": [
    {
     "data": {
      "text/html": [
       "<div>\n",
       "<style scoped>\n",
       "    .dataframe tbody tr th:only-of-type {\n",
       "        vertical-align: middle;\n",
       "    }\n",
       "\n",
       "    .dataframe tbody tr th {\n",
       "        vertical-align: top;\n",
       "    }\n",
       "\n",
       "    .dataframe thead th {\n",
       "        text-align: right;\n",
       "    }\n",
       "</style>\n",
       "<table border=\"1\" class=\"dataframe\">\n",
       "  <thead>\n",
       "    <tr style=\"text-align: right;\">\n",
       "      <th></th>\n",
       "      <th>계좌키</th>\n",
       "      <th>최종OPB</th>\n",
       "    </tr>\n",
       "    <tr>\n",
       "      <th>새채무상태</th>\n",
       "      <th></th>\n",
       "      <th></th>\n",
       "    </tr>\n",
       "  </thead>\n",
       "  <tbody>\n",
       "    <tr>\n",
       "      <th>개인</th>\n",
       "      <td>2207</td>\n",
       "      <td>14292580546</td>\n",
       "    </tr>\n",
       "    <tr>\n",
       "      <th>법인</th>\n",
       "      <td>110</td>\n",
       "      <td>2515212018</td>\n",
       "    </tr>\n",
       "    <tr>\n",
       "      <th>개인회생(확정)</th>\n",
       "      <td>639</td>\n",
       "      <td>536201755</td>\n",
       "    </tr>\n",
       "    <tr>\n",
       "      <th>개인회생(진행중)</th>\n",
       "      <td>57</td>\n",
       "      <td>480869119</td>\n",
       "    </tr>\n",
       "    <tr>\n",
       "      <th>신용회복(개인)</th>\n",
       "      <td>949</td>\n",
       "      <td>3332121693</td>\n",
       "    </tr>\n",
       "    <tr>\n",
       "      <th>신용회복(프리)</th>\n",
       "      <td>50</td>\n",
       "      <td>300512710</td>\n",
       "    </tr>\n",
       "    <tr>\n",
       "      <th>신용회복(진행중)</th>\n",
       "      <td>24</td>\n",
       "      <td>81070088</td>\n",
       "    </tr>\n",
       "    <tr>\n",
       "      <th>종료</th>\n",
       "      <td>2420</td>\n",
       "      <td>0</td>\n",
       "    </tr>\n",
       "  </tbody>\n",
       "</table>\n",
       "</div>"
      ],
      "text/plain": [
       "            계좌키       최종OPB\n",
       "새채무상태                      \n",
       "개인         2207 14292580546\n",
       "법인          110  2515212018\n",
       "개인회생(확정)    639   536201755\n",
       "개인회생(진행중)    57   480869119\n",
       "신용회복(개인)    949  3332121693\n",
       "신용회복(프리)     50   300512710\n",
       "신용회복(진행중)    24    81070088\n",
       "종료         2420           0"
      ]
     },
     "execution_count": 216,
     "metadata": {},
     "output_type": "execute_result"
    }
   ],
   "source": [
    "# 요약 \n",
    "pd.options.display.float_format = '{:.0f}'.format\n",
    "# 특정 POOL\n",
    "# pool계좌키 = pd.read_excel(\"c://users/sl/Desktop/계좌키.xlsx\", dtype={\"계좌키\":str})\n",
    "# pool = pd.merge(raw_data,pool계좌키, on='계좌키', how='inner')\n",
    "# result = pool.groupby('새채무상태').agg({'계좌키':'count', '최종OPB':'sum'}).reindex(index=['개인','법인','개인회생(확정)','개인회생(진행중)','신용회복(개인)','신용회복(프리)','신용회복(진행중)','종료'])\n",
    "# result\n",
    "# 전체\n",
    "raw_data.groupby('새채무상태').agg({'계좌키':'count', '최종OPB':'sum'}).reindex(index=['개인','법인','개인회생(확정)','개인회생(진행중)','신용회복(개인)','신용회복(프리)','신용회복(진행중)','종료'])"
   ]
  },
  {
   "cell_type": "code",
   "execution_count": null,
   "metadata": {},
   "outputs": [],
   "source": [
    "############## 끝 ###################"
   ]
  },
  {
   "cell_type": "code",
   "execution_count": null,
   "metadata": {},
   "outputs": [],
   "source": []
  },
  {
   "cell_type": "code",
   "execution_count": null,
   "metadata": {},
   "outputs": [],
   "source": []
  },
  {
   "cell_type": "code",
   "execution_count": 176,
   "metadata": {},
   "outputs": [],
   "source": [
    "path = r\"D:\\3.자산\\전산 dataset\\대성\\POOL1_OK저축\"\n",
    "file = \"1. OK저축은행_전체계좌_230316_완.xlsx\"\n",
    "raw = pd.read_excel(join(path,file), sheet_name=\"Sheet1\", dtype={'채무자키':str, '계좌키':str}).fillna('')"
   ]
  },
  {
   "cell_type": "code",
   "execution_count": 177,
   "metadata": {},
   "outputs": [
    {
     "data": {
      "text/html": [
       "<div>\n",
       "<style scoped>\n",
       "    .dataframe tbody tr th:only-of-type {\n",
       "        vertical-align: middle;\n",
       "    }\n",
       "\n",
       "    .dataframe tbody tr th {\n",
       "        vertical-align: top;\n",
       "    }\n",
       "\n",
       "    .dataframe thead th {\n",
       "        text-align: right;\n",
       "    }\n",
       "</style>\n",
       "<table border=\"1\" class=\"dataframe\">\n",
       "  <thead>\n",
       "    <tr style=\"text-align: right;\">\n",
       "      <th></th>\n",
       "      <th>채무자키</th>\n",
       "      <th>계좌키</th>\n",
       "      <th>구분</th>\n",
       "      <th>채무자키중복</th>\n",
       "      <th>계좌키중복</th>\n",
       "    </tr>\n",
       "  </thead>\n",
       "  <tbody>\n",
       "    <tr>\n",
       "      <th>0</th>\n",
       "      <td>10622620</td>\n",
       "      <td>1568579</td>\n",
       "      <td>무담보</td>\n",
       "      <td>1</td>\n",
       "      <td>1</td>\n",
       "    </tr>\n",
       "    <tr>\n",
       "      <th>1</th>\n",
       "      <td>10622627</td>\n",
       "      <td>1570572</td>\n",
       "      <td>무담보</td>\n",
       "      <td>1</td>\n",
       "      <td>1</td>\n",
       "    </tr>\n",
       "    <tr>\n",
       "      <th>2</th>\n",
       "      <td>10622640</td>\n",
       "      <td>1572061</td>\n",
       "      <td>무담보</td>\n",
       "      <td>1</td>\n",
       "      <td>1</td>\n",
       "    </tr>\n",
       "    <tr>\n",
       "      <th>3</th>\n",
       "      <td>10622644</td>\n",
       "      <td>1572198</td>\n",
       "      <td>무담보</td>\n",
       "      <td>1</td>\n",
       "      <td>1</td>\n",
       "    </tr>\n",
       "    <tr>\n",
       "      <th>4</th>\n",
       "      <td>10622646</td>\n",
       "      <td>1568537</td>\n",
       "      <td>무담보</td>\n",
       "      <td>1</td>\n",
       "      <td>1</td>\n",
       "    </tr>\n",
       "    <tr>\n",
       "      <th>...</th>\n",
       "      <td>...</td>\n",
       "      <td>...</td>\n",
       "      <td>...</td>\n",
       "      <td>...</td>\n",
       "      <td>...</td>\n",
       "    </tr>\n",
       "    <tr>\n",
       "      <th>1638</th>\n",
       "      <td>10625674</td>\n",
       "      <td>1572044</td>\n",
       "      <td>종결</td>\n",
       "      <td>1</td>\n",
       "      <td>1</td>\n",
       "    </tr>\n",
       "    <tr>\n",
       "      <th>1639</th>\n",
       "      <td>10623511</td>\n",
       "      <td>1572045</td>\n",
       "      <td>종결</td>\n",
       "      <td>1</td>\n",
       "      <td>1</td>\n",
       "    </tr>\n",
       "    <tr>\n",
       "      <th>1640</th>\n",
       "      <td>10622856</td>\n",
       "      <td>1572175</td>\n",
       "      <td>종결</td>\n",
       "      <td>1</td>\n",
       "      <td>1</td>\n",
       "    </tr>\n",
       "    <tr>\n",
       "      <th>1641</th>\n",
       "      <td>10625757</td>\n",
       "      <td>1572231</td>\n",
       "      <td>종결</td>\n",
       "      <td>1</td>\n",
       "      <td>1</td>\n",
       "    </tr>\n",
       "    <tr>\n",
       "      <th>1642</th>\n",
       "      <td>10622865</td>\n",
       "      <td>1572244</td>\n",
       "      <td>종결</td>\n",
       "      <td>1</td>\n",
       "      <td>1</td>\n",
       "    </tr>\n",
       "  </tbody>\n",
       "</table>\n",
       "<p>1643 rows × 5 columns</p>\n",
       "</div>"
      ],
      "text/plain": [
       "          채무자키      계좌키   구분  채무자키중복  계좌키중복\n",
       "0     10622620  1568579  무담보       1      1\n",
       "1     10622627  1570572  무담보       1      1\n",
       "2     10622640  1572061  무담보       1      1\n",
       "3     10622644  1572198  무담보       1      1\n",
       "4     10622646  1568537  무담보       1      1\n",
       "...        ...      ...  ...     ...    ...\n",
       "1638  10625674  1572044   종결       1      1\n",
       "1639  10623511  1572045   종결       1      1\n",
       "1640  10622856  1572175   종결       1      1\n",
       "1641  10625757  1572231   종결       1      1\n",
       "1642  10622865  1572244   종결       1      1\n",
       "\n",
       "[1643 rows x 5 columns]"
      ]
     },
     "execution_count": 177,
     "metadata": {},
     "output_type": "execute_result"
    }
   ],
   "source": [
    "raw"
   ]
  },
  {
   "cell_type": "code",
   "execution_count": 179,
   "metadata": {},
   "outputs": [],
   "source": [
    "pool = raw.groupby('채무자키')['구분'].apply(lambda x: ','.join(x.unique())) # 고유값만 남기려면 join의 매개변수로 x.unique()를 사용\n",
    "pool.to_excel(join(path, \"xxx.xlsx\"))"
   ]
  },
  {
   "cell_type": "code",
   "execution_count": 11,
   "metadata": {},
   "outputs": [],
   "source": []
  },
  {
   "cell_type": "code",
   "execution_count": 12,
   "metadata": {},
   "outputs": [
    {
     "data": {
      "text/plain": [
       "4445"
      ]
     },
     "execution_count": 12,
     "metadata": {},
     "output_type": "execute_result"
    }
   ],
   "source": [
    "len(raw)"
   ]
  },
  {
   "cell_type": "code",
   "execution_count": 13,
   "metadata": {},
   "outputs": [],
   "source": [
    "raw.to_excel(join(path, \"채무자별.xlsx\"), index=False)"
   ]
  },
  {
   "cell_type": "code",
   "execution_count": null,
   "metadata": {},
   "outputs": [],
   "source": []
  },
  {
   "attachments": {},
   "cell_type": "markdown",
   "metadata": {},
   "source": [
    "# 이전 파일"
   ]
  },
  {
   "cell_type": "code",
   "execution_count": 2,
   "metadata": {},
   "outputs": [
    {
     "name": "stdout",
     "output_type": "stream",
     "text": [
      "78158\n"
     ]
    }
   ],
   "source": [
    "path_dir_excel = r\"D:\\3.자산\\전산 dataset\\230409(일)\"\n",
    "filename_excel = r\"2.솔림헬프_전체_원데이터_230411.xlsx\"\n",
    "df = pd.read_excel(join(path_dir_excel, filename_excel)).fillna(\"\")\n",
    "df[\"계좌키\"] = df[\"계좌키\"].apply(str)\n",
    "df[\"채무자키\"] = df[\"채무자키\"].apply(str)\n",
    "total = len(df.index)\n",
    "print(total)"
   ]
  },
  {
   "cell_type": "code",
   "execution_count": null,
   "metadata": {},
   "outputs": [],
   "source": [
    "# 관리여부 : 종료, 종료(면책), 정상(넓은범위) 작성중..\n",
    "# 관리여부 = []\n",
    "# for i, v in df.iterrows() :\n",
    "#     if re.search(\"종결|매각|환매\", v.채무상태) :\n",
    "#         관리여부.append(\"종료\")\n",
    "#     elif re.search(\"면책\", v.채무상태) :\n",
    "#         if v.보증인상태 == \"\" :\n",
    "#             관리여부.append(\"종료(면책)\")\n",
    "            "
   ]
  },
  {
   "cell_type": "code",
   "execution_count": 55,
   "metadata": {},
   "outputs": [
    {
     "name": "stdout",
     "output_type": "stream",
     "text": [
      "<class 'pandas.core.frame.DataFrame'>\n",
      "RangeIndex: 78157 entries, 0 to 78156\n",
      "Data columns (total 9 columns):\n",
      " #   Column  Non-Null Count  Dtype \n",
      "---  ------  --------------  ----- \n",
      " 0   계좌키     78157 non-null  object\n",
      " 1   채무자키    78157 non-null  object\n",
      " 2   채권구분    78157 non-null  object\n",
      " 3   일부조정    78157 non-null  object\n",
      " 4   차주신복여부  78157 non-null  bool  \n",
      " 5   차주개회여부  78157 non-null  bool  \n",
      " 6   정상/종료   78157 non-null  object\n",
      " 7   채무상태    78157 non-null  object\n",
      " 8   보증인상태   78157 non-null  object\n",
      "dtypes: bool(2), object(7)\n",
      "memory usage: 4.3+ MB\n"
     ]
    }
   ],
   "source": [
    "df.info()"
   ]
  },
  {
   "cell_type": "code",
   "execution_count": null,
   "metadata": {},
   "outputs": [],
   "source": []
  },
  {
   "cell_type": "code",
   "execution_count": 52,
   "metadata": {},
   "outputs": [
    {
     "name": "stdout",
     "output_type": "stream",
     "text": [
      "요소의 개수가 0인 리스트입니다.\n"
     ]
    }
   ],
   "source": [
    "my_list = ['']\n",
    "new_list = list(filter(lambda x: x != \"\", my_list))\n",
    "if len(new_list) == 0:\n",
    "    print(\"요소의 개수가 0인 리스트입니다.\")\n",
    "else:\n",
    "    print(new_list)"
   ]
  },
  {
   "attachments": {},
   "cell_type": "markdown",
   "metadata": {},
   "source": [
    "### 전체원데이터"
   ]
  },
  {
   "cell_type": "code",
   "execution_count": 2,
   "metadata": {},
   "outputs": [],
   "source": [
    "# 채무자키 20409775 2301 > 2031년으로 수정해야함 안그럼 에러 아래 날짜변경에서 에러남##############\n",
    "# 엑셀을 pickle파일로\n",
    "wd = r'D:\\3.자산\\전산 dataset\\230423\\temp'\n",
    "for f in os.listdir(wd) :\n",
    "    if os.path.isfile(join(wd,f)) :\n",
    "        if re.search(\".xlsx\", f) :\n",
    "            df = pd.read_excel(join(wd, f)).fillna(\"\")\n",
    "            df.to_pickle(join(wd, os.path.splitext(f)[0]+\".pkl\"))"
   ]
  },
  {
   "cell_type": "code",
   "execution_count": 3,
   "metadata": {},
   "outputs": [],
   "source": [
    "# 파일 명칭 자동 저장\n",
    "account_f, debt_f, grt_f, law_f, collection_f = \"\", \"\", \"\", \"\", \"\"\n",
    "for root, dirs, files in os.walk(wd) :\n",
    "    for f in files :\n",
    "        if re.search(\".pkl\", f) :\n",
    "            if re.search(\"계좌\",f) : account_f = f\n",
    "            elif re.search(\"채무자\",f) : debt_f = f\n",
    "            elif re.search(\"보증인\",f) : grt_f = f\n",
    "            elif re.search(\"법조치\",f) : law_f = f\n",
    "            elif re.search(\"입금\",f) : collection_f = f"
   ]
  },
  {
   "cell_type": "code",
   "execution_count": 4,
   "metadata": {},
   "outputs": [
    {
     "name": "stdout",
     "output_type": "stream",
     "text": [
      "78157 70795\n"
     ]
    }
   ],
   "source": [
    "account = pd.read_pickle(join(wd, account_f))\n",
    "debt = pd.read_pickle(join(wd, debt_f))\n",
    "#collection = pd.read_pickle(join(wd,collection_f))\n",
    "############################\n",
    "# 매각사 = \"전북은행\"\n",
    "# account = account[account.매각사.str.contains(매각사)]\n",
    "# debt = debt[debt.매각사.str.contains(매각사)]\n",
    "############################\n",
    "print(len(account), len(debt))"
   ]
  },
  {
   "cell_type": "code",
   "execution_count": 5,
   "metadata": {},
   "outputs": [],
   "source": [
    "# 채무자키 20409775 2301 > 2031년으로 수정해야함 안그럼 에러\n",
    "# account.시효완성일 = pd.to_datetime(account.시효완성일)\n",
    "# collection.입금일 = pd.to_datetime(collection.입금일)"
   ]
  },
  {
   "cell_type": "code",
   "execution_count": 5,
   "metadata": {},
   "outputs": [],
   "source": [
    "raw_data = pd.DataFrame(None)\n",
    "raw_data[\"채무자키\"] = account.채무자키.apply(str)\n",
    "raw_data[\"계좌키\"] = account.계좌키.apply(str)\n",
    "raw_data[\"타채무자키\"] = account.타채무자키.apply(str)\n",
    "\n",
    "raw_data[\"채권구분\"] = account.채권구분\n",
    "#raw_data[\"매각사\"] = account.매각사\n",
    "raw_data[\"채무상태\"] = account.채무상태\n",
    "raw_data[\"담당자\"] = account.담당자\n",
    "raw_data[\"성명\"] = account.채무자명\n",
    "\n",
    "raw_data[\"주민등록번호\"] = account.채무자주민번호.apply(lambda x : x[:8])\n",
    "raw_data[\"계좌번호\"] = account.계좌번호\n",
    "raw_data[\"원채권사\"] = account.원채권사\n",
    "raw_data[\"매각사구분\"] = account.매각사구분\n",
    "raw_data[\"계정과목\"] = account.계정과목\n",
    "raw_data[\"최초원금\"] = account.최초원금\n",
    "raw_data[\"최초법비용\"] = account.최초법비용\n",
    "raw_data[\"최초미수이자\"] = account.최초미수이자\n",
    "raw_data[\"최초연체이자율\"] = account.최초연체이자율\n",
    "raw_data[\"현재원금\"] = account.현재원금\n",
    "raw_data[\"현재법비용\"] = account.현재법비용\n",
    "raw_data[\"OPB\"] = account[[\"현재원금\",\"현재법비용\"]].sum(axis=1)\n",
    "raw_data[\"현재미수이자\"] = account.현재미수이자\n",
    "raw_data[\"현재연체이자\"] = account.현재연체이자\n",
    "raw_data[\"현재합계\"] = account.현재합계\n",
    "raw_data[\"회수합계\"] = account.회수합계\n",
    "raw_data[\"최초대출일\"] = account.최초대출일\n",
    "raw_data[\"최초연체일\"] = account.최초연체일 # 없는 경우도 있음\n",
    "raw_data[\"매입일\"] = account.매입일\n",
    "raw_data[\"시효완성일\"] = account.시효완성일"
   ]
  },
  {
   "cell_type": "code",
   "execution_count": 6,
   "metadata": {},
   "outputs": [
    {
     "data": {
      "text/plain": [
       "False    78157\n",
       "Name: 개인법인, dtype: int64"
      ]
     },
     "execution_count": 6,
     "metadata": {},
     "output_type": "execute_result"
    }
   ],
   "source": [
    "debt.채무자키 = debt.채무자키.apply(str)\n",
    "debt = debt[[\"채무자키\", \"개인법인\", \"연령\", \"자택우편번호\", \"자택주소\",\"보증인성명\", \"보증인상태\"]]\n",
    "raw_data = pd.merge(raw_data, debt, on=\"채무자키\", how=\"inner\")\n",
    "raw_data.개인법인.isnull().value_counts()"
   ]
  },
  {
   "cell_type": "code",
   "execution_count": 7,
   "metadata": {},
   "outputs": [],
   "source": [
    "# 전체 저장하기\n",
    "raw_data.to_excel(join(wd, \"2.솔림헬프_전체_원데이터_\"+datetime.today().strftime(\"%y%m%d\")+\".xlsx\"), index=False)"
   ]
  },
  {
   "cell_type": "code",
   "execution_count": 15,
   "metadata": {},
   "outputs": [],
   "source": [
    "# 특정 매각사만 저장하기\n",
    "cond = \"스마트저축-01\" ###################################\n",
    "raw_data[raw_data.매각사구분==cond].to_excel(join(wd, cond+\"_\"+datetime.today().strftime(\"%Y%m%d\")+\".xlsx\"), index=False)"
   ]
  },
  {
   "attachments": {},
   "cell_type": "markdown",
   "metadata": {},
   "source": [
    "### 전체 원데이터에서 채무자키, 계좌키 추출하기"
   ]
  },
  {
   "cell_type": "code",
   "execution_count": 9,
   "metadata": {},
   "outputs": [],
   "source": [
    "# 파일 읽기\n",
    "df_all = raw_data\n",
    "# # 또는\n",
    "# df_all = pd.read_excel(join(wd, \"2.2.솔림헬프_전체_원데이터_20230223.xlsx\"))"
   ]
  },
  {
   "cell_type": "code",
   "execution_count": 21,
   "metadata": {},
   "outputs": [],
   "source": [
    "##################\n",
    "keyListFile = \"POO8채무자키리스트\" # 채무자키 또는 계좌키 칼럼명과 그 리스트만 있는 엑셀파일 ex) pool1\n",
    "keyName = \"채무자키\"\n",
    "##################\n",
    "keys = pd.read_excel(join(wd, keyListFile+\".xlsx\"))[\"채무자키\"].astype(str)"
   ]
  },
  {
   "cell_type": "code",
   "execution_count": 23,
   "metadata": {},
   "outputs": [],
   "source": [
    "result = pd.merge(keys, df_all, how=\"left\")\n",
    "result.to_excel(join(wd, \"2.\"+keyListFile+\"_원데이터_\"+datetime.today().strftime(\"%y%m%d\")+\".xlsx\"), index=False)"
   ]
  },
  {
   "attachments": {},
   "cell_type": "markdown",
   "metadata": {},
   "source": [
    "### 차입자산 POOL별 중복확인"
   ]
  },
  {
   "cell_type": "code",
   "execution_count": 102,
   "metadata": {},
   "outputs": [],
   "source": [
    "dfdf = pd.read_excel(join(r\"D:\\3.자산\\POOL별 관리자산\\무차입자산\\참고\\P5 DataDisk 수정후,by채무자키_230303\",\"1.차입자산 리스트.xlsx\"))"
   ]
  },
  {
   "cell_type": "code",
   "execution_count": 109,
   "metadata": {},
   "outputs": [],
   "source": [
    "중복 = dfdf[dfdf.duplicated(['채무자키'],keep=False)].sort_values(['채무자키','POOL_NO']) # 이렇게 해야 1-8, 8-1 이 안나오고 1-8로만\n",
    "#.to_excel(join(r\"D:\\3.자산\\POOL별 관리자산\\무차입자산\",\"중복체크.xlsx\"), index=False)"
   ]
  },
  {
   "cell_type": "code",
   "execution_count": 110,
   "metadata": {},
   "outputs": [],
   "source": [
    "#중복[\"계좌키\"] = 중복[\"계좌키\"].astype(int).astype(str)\n",
    "중복[\"채무자키\"] = 중복[\"채무자키\"].astype(int).astype(str)\n",
    "중복[\"반복횟수\"] = 중복.groupby(['채무자키'])['POOL_NO'].transform('count')"
   ]
  },
  {
   "cell_type": "code",
   "execution_count": 111,
   "metadata": {},
   "outputs": [
    {
     "data": {
      "text/html": [
       "<div>\n",
       "<style scoped>\n",
       "    .dataframe tbody tr th:only-of-type {\n",
       "        vertical-align: middle;\n",
       "    }\n",
       "\n",
       "    .dataframe tbody tr th {\n",
       "        vertical-align: top;\n",
       "    }\n",
       "\n",
       "    .dataframe thead th {\n",
       "        text-align: right;\n",
       "    }\n",
       "</style>\n",
       "<table border=\"1\" class=\"dataframe\">\n",
       "  <thead>\n",
       "    <tr style=\"text-align: right;\">\n",
       "      <th></th>\n",
       "      <th>채무자키</th>\n",
       "      <th>POOL_NO</th>\n",
       "      <th>최종본</th>\n",
       "      <th>반복횟수</th>\n",
       "    </tr>\n",
       "  </thead>\n",
       "  <tbody>\n",
       "    <tr>\n",
       "      <th>62644</th>\n",
       "      <td>20407795</td>\n",
       "      <td>POOL_05</td>\n",
       "      <td>NaN</td>\n",
       "      <td>2</td>\n",
       "    </tr>\n",
       "    <tr>\n",
       "      <th>62643</th>\n",
       "      <td>20407795</td>\n",
       "      <td>POOL_08</td>\n",
       "      <td>X</td>\n",
       "      <td>2</td>\n",
       "    </tr>\n",
       "    <tr>\n",
       "      <th>62626</th>\n",
       "      <td>20407813</td>\n",
       "      <td>POOL_01</td>\n",
       "      <td>X</td>\n",
       "      <td>2</td>\n",
       "    </tr>\n",
       "    <tr>\n",
       "      <th>62625</th>\n",
       "      <td>20407813</td>\n",
       "      <td>POOL_05</td>\n",
       "      <td>NaN</td>\n",
       "      <td>2</td>\n",
       "    </tr>\n",
       "    <tr>\n",
       "      <th>62602</th>\n",
       "      <td>20407840</td>\n",
       "      <td>POOL_01</td>\n",
       "      <td>X</td>\n",
       "      <td>2</td>\n",
       "    </tr>\n",
       "    <tr>\n",
       "      <th>...</th>\n",
       "      <td>...</td>\n",
       "      <td>...</td>\n",
       "      <td>...</td>\n",
       "      <td>...</td>\n",
       "    </tr>\n",
       "    <tr>\n",
       "      <th>12108</th>\n",
       "      <td>20466470</td>\n",
       "      <td>POOL_14</td>\n",
       "      <td>NaN</td>\n",
       "      <td>2</td>\n",
       "    </tr>\n",
       "    <tr>\n",
       "      <th>11900</th>\n",
       "      <td>20469120</td>\n",
       "      <td>POOL_02</td>\n",
       "      <td>NaN</td>\n",
       "      <td>2</td>\n",
       "    </tr>\n",
       "    <tr>\n",
       "      <th>11899</th>\n",
       "      <td>20469120</td>\n",
       "      <td>POOL_06</td>\n",
       "      <td>NaN</td>\n",
       "      <td>2</td>\n",
       "    </tr>\n",
       "    <tr>\n",
       "      <th>11694</th>\n",
       "      <td>20469325</td>\n",
       "      <td>POOL_02</td>\n",
       "      <td>NaN</td>\n",
       "      <td>2</td>\n",
       "    </tr>\n",
       "    <tr>\n",
       "      <th>11693</th>\n",
       "      <td>20469325</td>\n",
       "      <td>POOL_06</td>\n",
       "      <td>NaN</td>\n",
       "      <td>2</td>\n",
       "    </tr>\n",
       "  </tbody>\n",
       "</table>\n",
       "<p>880 rows × 4 columns</p>\n",
       "</div>"
      ],
      "text/plain": [
       "           채무자키  POOL_NO  최종본  반복횟수\n",
       "62644  20407795  POOL_05  NaN     2\n",
       "62643  20407795  POOL_08    X     2\n",
       "62626  20407813  POOL_01    X     2\n",
       "62625  20407813  POOL_05  NaN     2\n",
       "62602  20407840  POOL_01    X     2\n",
       "...         ...      ...  ...   ...\n",
       "12108  20466470  POOL_14  NaN     2\n",
       "11900  20469120  POOL_02  NaN     2\n",
       "11899  20469120  POOL_06  NaN     2\n",
       "11694  20469325  POOL_02  NaN     2\n",
       "11693  20469325  POOL_06  NaN     2\n",
       "\n",
       "[880 rows x 4 columns]"
      ]
     },
     "execution_count": 111,
     "metadata": {},
     "output_type": "execute_result"
    }
   ],
   "source": [
    "중복"
   ]
  },
  {
   "cell_type": "code",
   "execution_count": 112,
   "metadata": {},
   "outputs": [
    {
     "data": {
      "text/html": [
       "<div>\n",
       "<style scoped>\n",
       "    .dataframe tbody tr th:only-of-type {\n",
       "        vertical-align: middle;\n",
       "    }\n",
       "\n",
       "    .dataframe tbody tr th {\n",
       "        vertical-align: top;\n",
       "    }\n",
       "\n",
       "    .dataframe thead th {\n",
       "        text-align: right;\n",
       "    }\n",
       "</style>\n",
       "<table border=\"1\" class=\"dataframe\">\n",
       "  <thead>\n",
       "    <tr style=\"text-align: right;\">\n",
       "      <th></th>\n",
       "      <th>채무자키</th>\n",
       "      <th>POOL_NO</th>\n",
       "      <th>최종본</th>\n",
       "      <th>반복횟수</th>\n",
       "    </tr>\n",
       "  </thead>\n",
       "  <tbody>\n",
       "    <tr>\n",
       "      <th>0</th>\n",
       "      <td>20407795</td>\n",
       "      <td>POOL_05</td>\n",
       "      <td>NaN</td>\n",
       "      <td>2</td>\n",
       "    </tr>\n",
       "    <tr>\n",
       "      <th>1</th>\n",
       "      <td>20407795</td>\n",
       "      <td>POOL_08</td>\n",
       "      <td>X</td>\n",
       "      <td>2</td>\n",
       "    </tr>\n",
       "    <tr>\n",
       "      <th>2</th>\n",
       "      <td>20407813</td>\n",
       "      <td>POOL_01</td>\n",
       "      <td>X</td>\n",
       "      <td>2</td>\n",
       "    </tr>\n",
       "    <tr>\n",
       "      <th>3</th>\n",
       "      <td>20407813</td>\n",
       "      <td>POOL_05</td>\n",
       "      <td>NaN</td>\n",
       "      <td>2</td>\n",
       "    </tr>\n",
       "    <tr>\n",
       "      <th>4</th>\n",
       "      <td>20407840</td>\n",
       "      <td>POOL_01</td>\n",
       "      <td>X</td>\n",
       "      <td>2</td>\n",
       "    </tr>\n",
       "    <tr>\n",
       "      <th>...</th>\n",
       "      <td>...</td>\n",
       "      <td>...</td>\n",
       "      <td>...</td>\n",
       "      <td>...</td>\n",
       "    </tr>\n",
       "    <tr>\n",
       "      <th>875</th>\n",
       "      <td>20466470</td>\n",
       "      <td>POOL_14</td>\n",
       "      <td>NaN</td>\n",
       "      <td>2</td>\n",
       "    </tr>\n",
       "    <tr>\n",
       "      <th>876</th>\n",
       "      <td>20469120</td>\n",
       "      <td>POOL_02</td>\n",
       "      <td>NaN</td>\n",
       "      <td>2</td>\n",
       "    </tr>\n",
       "    <tr>\n",
       "      <th>877</th>\n",
       "      <td>20469120</td>\n",
       "      <td>POOL_06</td>\n",
       "      <td>NaN</td>\n",
       "      <td>2</td>\n",
       "    </tr>\n",
       "    <tr>\n",
       "      <th>878</th>\n",
       "      <td>20469325</td>\n",
       "      <td>POOL_02</td>\n",
       "      <td>NaN</td>\n",
       "      <td>2</td>\n",
       "    </tr>\n",
       "    <tr>\n",
       "      <th>879</th>\n",
       "      <td>20469325</td>\n",
       "      <td>POOL_06</td>\n",
       "      <td>NaN</td>\n",
       "      <td>2</td>\n",
       "    </tr>\n",
       "  </tbody>\n",
       "</table>\n",
       "<p>880 rows × 4 columns</p>\n",
       "</div>"
      ],
      "text/plain": [
       "         채무자키  POOL_NO  최종본  반복횟수\n",
       "0    20407795  POOL_05  NaN     2\n",
       "1    20407795  POOL_08    X     2\n",
       "2    20407813  POOL_01    X     2\n",
       "3    20407813  POOL_05  NaN     2\n",
       "4    20407840  POOL_01    X     2\n",
       "..        ...      ...  ...   ...\n",
       "875  20466470  POOL_14  NaN     2\n",
       "876  20469120  POOL_02  NaN     2\n",
       "877  20469120  POOL_06  NaN     2\n",
       "878  20469325  POOL_02  NaN     2\n",
       "879  20469325  POOL_06  NaN     2\n",
       "\n",
       "[880 rows x 4 columns]"
      ]
     },
     "execution_count": 112,
     "metadata": {},
     "output_type": "execute_result"
    }
   ],
   "source": [
    "중복 = 중복.reset_index(drop=True, inplace=False)\n",
    "중복"
   ]
  },
  {
   "cell_type": "code",
   "execution_count": 66,
   "metadata": {},
   "outputs": [],
   "source": [
    "중복.to_excel(join(r\"D:\\3.자산\\POOL별 관리자산\\무차입자산\",\"중복체크.xlsx\"), index=False)"
   ]
  },
  {
   "cell_type": "code",
   "execution_count": 2,
   "metadata": {},
   "outputs": [
    {
     "data": {
      "text/html": [
       "<div>\n",
       "<style scoped>\n",
       "    .dataframe tbody tr th:only-of-type {\n",
       "        vertical-align: middle;\n",
       "    }\n",
       "\n",
       "    .dataframe tbody tr th {\n",
       "        vertical-align: top;\n",
       "    }\n",
       "\n",
       "    .dataframe thead th {\n",
       "        text-align: right;\n",
       "    }\n",
       "</style>\n",
       "<table border=\"1\" class=\"dataframe\">\n",
       "  <thead>\n",
       "    <tr style=\"text-align: right;\">\n",
       "      <th></th>\n",
       "      <th>계좌키</th>\n",
       "      <th>채무자키</th>\n",
       "      <th>POOL_</th>\n",
       "    </tr>\n",
       "  </thead>\n",
       "  <tbody>\n",
       "    <tr>\n",
       "      <th>0</th>\n",
       "      <td>200919485</td>\n",
       "      <td>20407790</td>\n",
       "      <td>POOL_05</td>\n",
       "    </tr>\n",
       "    <tr>\n",
       "      <th>1</th>\n",
       "      <td>200919485</td>\n",
       "      <td>20407790</td>\n",
       "      <td>POOL_05</td>\n",
       "    </tr>\n",
       "    <tr>\n",
       "      <th>2</th>\n",
       "      <td>200919497</td>\n",
       "      <td>20407882</td>\n",
       "      <td>POOL_05</td>\n",
       "    </tr>\n",
       "    <tr>\n",
       "      <th>3</th>\n",
       "      <td>200919497</td>\n",
       "      <td>20407882</td>\n",
       "      <td>POOL_08</td>\n",
       "    </tr>\n",
       "    <tr>\n",
       "      <th>4</th>\n",
       "      <td>200919997</td>\n",
       "      <td>20407883</td>\n",
       "      <td>POOL_01</td>\n",
       "    </tr>\n",
       "    <tr>\n",
       "      <th>...</th>\n",
       "      <td>...</td>\n",
       "      <td>...</td>\n",
       "      <td>...</td>\n",
       "    </tr>\n",
       "    <tr>\n",
       "      <th>1725</th>\n",
       "      <td>201046260</td>\n",
       "      <td>20515407</td>\n",
       "      <td>POOL_13</td>\n",
       "    </tr>\n",
       "    <tr>\n",
       "      <th>1726</th>\n",
       "      <td>201046280</td>\n",
       "      <td>20515427</td>\n",
       "      <td>POOL_13</td>\n",
       "    </tr>\n",
       "    <tr>\n",
       "      <th>1727</th>\n",
       "      <td>201046280</td>\n",
       "      <td>20515427</td>\n",
       "      <td>POOL_13</td>\n",
       "    </tr>\n",
       "    <tr>\n",
       "      <th>1728</th>\n",
       "      <td>201046336</td>\n",
       "      <td>20515483</td>\n",
       "      <td>POOL_13</td>\n",
       "    </tr>\n",
       "    <tr>\n",
       "      <th>1729</th>\n",
       "      <td>201046336</td>\n",
       "      <td>20515483</td>\n",
       "      <td>POOL_13</td>\n",
       "    </tr>\n",
       "  </tbody>\n",
       "</table>\n",
       "<p>1730 rows × 3 columns</p>\n",
       "</div>"
      ],
      "text/plain": [
       "            계좌키      채무자키    POOL_\n",
       "0     200919485  20407790  POOL_05\n",
       "1     200919485  20407790  POOL_05\n",
       "2     200919497  20407882  POOL_05\n",
       "3     200919497  20407882  POOL_08\n",
       "4     200919997  20407883  POOL_01\n",
       "...         ...       ...      ...\n",
       "1725  201046260  20515407  POOL_13\n",
       "1726  201046280  20515427  POOL_13\n",
       "1727  201046280  20515427  POOL_13\n",
       "1728  201046336  20515483  POOL_13\n",
       "1729  201046336  20515483  POOL_13\n",
       "\n",
       "[1730 rows x 3 columns]"
      ]
     },
     "execution_count": 2,
     "metadata": {},
     "output_type": "execute_result"
    }
   ],
   "source": [
    "중복 = pd.read_excel(r'D:\\3.자산\\POOL별 관리자산\\무차입자산\\중복체크.xlsx')\n",
    "중복"
   ]
  },
  {
   "cell_type": "code",
   "execution_count": 113,
   "metadata": {},
   "outputs": [],
   "source": [
    "채무자키, 반복횟수, 반복POOL = [], [], []\n",
    "이전채무자키 = \"\"\n",
    "for i, v in 중복.iterrows() :\n",
    "    if v.채무자키 != 이전채무자키 :\n",
    "        이전채무자키 = v.채무자키\n",
    "        채무자키.append(v.채무자키)\n",
    "        반복횟수.append(v.반복횟수)\n",
    "        반복POOL.append(list(중복.groupby('채무자키').get_group(v.채무자키).POOL_NO))\n",
    "\n",
    "result = pd.DataFrame({'채무자키':채무자키, '반복횟수':반복횟수, '반복POOL':반복POOL})\n",
    "result.to_excel(join(r\"D:\\3.자산\\POOL별 관리자산\\무차입자산\",\"중복체크_1.xlsx\"), index=False)"
   ]
  }
 ],
 "metadata": {
  "kernelspec": {
   "display_name": "base",
   "language": "python",
   "name": "python3"
  },
  "language_info": {
   "codemirror_mode": {
    "name": "ipython",
    "version": 3
   },
   "file_extension": ".py",
   "mimetype": "text/x-python",
   "name": "python",
   "nbconvert_exporter": "python",
   "pygments_lexer": "ipython3",
   "version": "3.9.13"
  },
  "orig_nbformat": 4,
  "vscode": {
   "interpreter": {
    "hash": "38d617750889899e5f2f65cac6f27a322f361a63d334879a800ee5491961f90c"
   }
  }
 },
 "nbformat": 4,
 "nbformat_minor": 2
}
