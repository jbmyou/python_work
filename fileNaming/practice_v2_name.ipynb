{
 "cells": [
  {
   "cell_type": "code",
   "execution_count": 1,
   "metadata": {},
   "outputs": [],
   "source": [
    "import os\n",
    "import re\n",
    "import upload_v2 as v2"
   ]
  },
  {
   "cell_type": "code",
   "execution_count": 2,
   "metadata": {},
   "outputs": [
    {
     "data": {
      "text/plain": [
       "70792"
      ]
     },
     "execution_count": 2,
     "metadata": {},
     "output_type": "execute_result"
    }
   ],
   "source": [
    "dict_refer = v2.dict_refer\n",
    "comp = v2.comp\n",
    "len(dict_refer)"
   ]
  },
  {
   "cell_type": "code",
   "execution_count": 6,
   "metadata": {},
   "outputs": [
    {
     "name": "stdout",
     "output_type": "stream",
     "text": [
      "-----------------------------------------\n",
      "name = 이해철,  extra = 이수진 19카기 양통\n",
      "date = \n",
      "관할법원 제거후 :  이수진 19카기 양통\n",
      "사건번호 있음. event = 2019카기, extra = 이수진  양통\n",
      "else사실상 강제집행에 걸림 [d,e,ex]리턴 ('기타', '2019카기', '이수진  양통')\n",
      "extra에서 기타를 제거하고 1번을 리턴함 [d,e,ex]=('기타', '2019카기', '이수진  양통')\n",
      "isEvent = 1,  docu = 기타,  event = 2019카기,  extra = 이수진  양통\n",
      "20456681 이수진 19카기 양통 >>> 20456681_이해철_기타_2019카기_이수진 양통\n"
     ]
    }
   ],
   "source": [
    "files = [\"20456681 이수진 19카기 양통\"]\n",
    "\n",
    "for f in files:\n",
    "    print(\"-----------------------------------------\")\n",
    "    f_name_items = {\"key\" :\"\", \"name\" :\"\", \"docu\" :\"\", \"event\" :\"\", \"extra\" :\"\", \"date\" :\"\", \"pw\" :\"\"}\n",
    "    extra = os.path.splitext(f)[0]\n",
    "    ext = os.path.splitext(f)[1]\n",
    "\n",
    "    if v2.no_upload(f) : \n",
    "        print(\"업로드 대상 아님\")\n",
    "        continue\n",
    "\n",
    "    f_name_items[\"key\"], extra = v2.keyFnc(extra) ############\n",
    "\n",
    "    f_name_items[\"pw\"], extra = v2.pwFnc(extra)  ###### pw 할당\n",
    "\n",
    "    debtorName = dict_refer[f_name_items[\"key\"]][2] \n",
    "    grtName = dict_refer[f_name_items[\"key\"]][3]\n",
    "    f_name_items[\"name\"], extra = v2.nameFnc(extra, debtorName, grtName) ############\n",
    "    print(f'name = {f_name_items[\"name\"]},  extra = {extra}')\n",
    "    \n",
    "    f_name_items[\"date\"], extra = v2.dateFnc(extra)############\n",
    "    print(f'date = {f_name_items[\"date\"]}')\n",
    "\n",
    "    isEvent, docuEventExtra = v2.eventFnc(extra, testMode= True) ############### docu, event\n",
    "    if isEvent == 1 : # 정상\n",
    "        f_name_items[\"docu\"] = docuEventExtra[0] #사건번호>>docu 할당 #############\n",
    "        f_name_items[\"event\"] = docuEventExtra[1]\n",
    "        extra = docuEventExtra[2]\n",
    "        print(f'isEvent = {isEvent},  docu = {f_name_items[\"docu\"]},  event = {f_name_items[\"event\"]},  extra = {extra}')\n",
    "    else : # 사건번호 없거나 경정/항고 중 setDocu할 거\n",
    "        extra = docuEventExtra[2]\n",
    "        if isEvent == 2 :\n",
    "            f_name_items[\"event\"] = docuEventExtra[1]\n",
    "        print(f'isEvent = {isEvent},  docu = {f_name_items[\"docu\"]},  event = {f_name_items[\"event\"]},  extra = {extra}')\n",
    "\n",
    "        isDocu, docuNameExtra = v2.setDocu(extra) ##############################\n",
    "        if isDocu :\n",
    "            f_name_items[\"docu\"] = docuNameExtra[0]#비사건번호>>docu 할당 #############\n",
    "            extra = docuNameExtra[1]\n",
    "            print(f\"isDocu : {isDocu},  docu : {f_name_items['docu']},  extra : {extra}\")\n",
    "        else : # nodocu\n",
    "            print(\"setDocu 결과 nodocu\")\n",
    "    \n",
    "    extra = v2.rmNeedless(extra)   \n",
    "    extra = v2.rm_s(extra)\n",
    "    f_name_items[\"extra\"] = extra\n",
    "\n",
    "    new_f = \"_\".join(filter(lambda x :bool(x), f_name_items.values())) + ext\n",
    "    print(f, \">>>\", new_f)\n",
    "    "
   ]
  },
  {
   "cell_type": "code",
   "execution_count": 20,
   "metadata": {},
   "outputs": [
    {
     "name": "stdout",
     "output_type": "stream",
     "text": [
      "090609\n"
     ]
    }
   ],
   "source": [
    "# 점에 대하여\n",
    "p_day6 = re.compile(r'\\(?\\s?(?<!\\d)(20)?(?P<y>[01]\\d|2[0-2])[\\.\\/\\-\\s](?P<m>0[1-9]|1[0-2])[\\.\\/\\-\\s](?P<d>[0-2][1-9]|[1-3]0|31)(?!\\d)\\s?\\)?')\n",
    "f = \"2009.06.09\"\n",
    "if p_day6.search(f) :\n",
    "    d = p_day6.search(f)\n",
    "    date = d[\"y\"] + d[\"m\"] + d[\"d\"]\n",
    "    print(date)"
   ]
  },
  {
   "cell_type": "code",
   "execution_count": 16,
   "metadata": {},
   "outputs": [
    {
     "data": {
      "text/plain": [
       "'1234567 홍길동 원인서류 녹취록.pdf'"
      ]
     },
     "execution_count": 16,
     "metadata": {},
     "output_type": "execute_result"
    }
   ],
   "source": [
    "p = re.compile(r\"(원인|대출)\\s?서류|(입회|가입|카드)\\s?신청서|(신용)?\\s?대출[약신원승확상거][가-힣]*|약정서|(?=녹취)|통화\\s?(내용|내역)|(대출)?\\s?원장|마이너스\\s?대출\")\n",
    "f = \"1234567 홍길동 원인서류 녹취록.pdf\"\n",
    "p.search(f)\n",
    "p.sub(\"원인서류\", f, count=1)"
   ]
  },
  {
   "cell_type": "code",
   "execution_count": 1,
   "metadata": {},
   "outputs": [
    {
     "ename": "NameError",
     "evalue": "name 're' is not defined",
     "output_type": "error",
     "traceback": [
      "\u001b[1;31m---------------------------------------------------------------------------\u001b[0m",
      "\u001b[1;31mNameError\u001b[0m                                 Traceback (most recent call last)",
      "\u001b[1;32m~\\AppData\\Local\\Temp\\ipykernel_29276\\1509440839.py\u001b[0m in \u001b[0;36m<cell line: 8>\u001b[1;34m()\u001b[0m\n\u001b[0;32m      6\u001b[0m     \u001b[0mptrn\u001b[0m \u001b[1;33m=\u001b[0m \u001b[0mre\u001b[0m\u001b[1;33m.\u001b[0m\u001b[0msub\u001b[0m\u001b[1;33m(\u001b[0m\u001b[1;34m\"\\)\"\u001b[0m\u001b[1;33m,\u001b[0m \u001b[1;34m\"\\\\)\"\u001b[0m\u001b[1;33m,\u001b[0m \u001b[0mptrn\u001b[0m\u001b[1;33m)\u001b[0m\u001b[1;33m\u001b[0m\u001b[1;33m\u001b[0m\u001b[0m\n\u001b[0;32m      7\u001b[0m     \u001b[1;32mreturn\u001b[0m \u001b[0mptrn\u001b[0m\u001b[1;33m\u001b[0m\u001b[1;33m\u001b[0m\u001b[0m\n\u001b[1;32m----> 8\u001b[1;33m \u001b[0mprint\u001b[0m\u001b[1;33m(\u001b[0m\u001b[0mre\u001b[0m\u001b[1;33m.\u001b[0m\u001b[0mfindall\u001b[0m\u001b[1;33m(\u001b[0m\u001b[1;34m\"[가-힣a-zA-Z]+|\\([가-힣]\\)|㈜\"\u001b[0m\u001b[1;33m,\u001b[0m \u001b[0mdebtorName\u001b[0m\u001b[1;33m)\u001b[0m\u001b[1;33m)\u001b[0m\u001b[1;33m\u001b[0m\u001b[1;33m\u001b[0m\u001b[0m\n\u001b[0m\u001b[0;32m      9\u001b[0m \u001b[1;32mfor\u001b[0m \u001b[0mptrn\u001b[0m \u001b[1;32min\u001b[0m \u001b[0mre\u001b[0m\u001b[1;33m.\u001b[0m\u001b[0mfindall\u001b[0m\u001b[1;33m(\u001b[0m\u001b[1;34m\"[가-힣a-zA-Z]+|\\([가-힣]\\)|㈜\"\u001b[0m\u001b[1;33m,\u001b[0m \u001b[0mdebtorName\u001b[0m\u001b[1;33m)\u001b[0m \u001b[1;33m:\u001b[0m \u001b[1;31m#(주)를 안 썼을 수도 있으니 따로 빼준다.\u001b[0m\u001b[1;33m\u001b[0m\u001b[1;33m\u001b[0m\u001b[0m\n\u001b[0;32m     10\u001b[0m     \u001b[0mprint\u001b[0m\u001b[1;33m(\u001b[0m\u001b[1;34m\"ptrn--------\"\u001b[0m\u001b[1;33m,\u001b[0m \u001b[0mptrn\u001b[0m\u001b[1;33m)\u001b[0m\u001b[1;33m\u001b[0m\u001b[1;33m\u001b[0m\u001b[0m\n",
      "\u001b[1;31mNameError\u001b[0m: name 're' is not defined"
     ]
    }
   ],
   "source": [
    "stem  = \"20460946 김태준 집행권원 매입전(가 가소).pdf\"\n",
    "extra = stem\n",
    "debtorList = []\n",
    "def ptrnFnc(ptrn) : # 정규식 함수에서 () 인식을 위한 함수\n",
    "    ptrn = re.sub(\"\\(\", \"\\\\(\", ptrn) #search에서 ()인식을 위해\n",
    "    ptrn = re.sub(\"\\)\", \"\\\\)\", ptrn)\n",
    "    return ptrn\n",
    "print(re.findall(\"[가-힣a-zA-Z]+|\\([가-힣]\\)|㈜\", debtorName))\n",
    "for ptrn in re.findall(\"[가-힣a-zA-Z]+|\\([가-힣]\\)|㈜\", debtorName) : #(주)를 안 썼을 수도 있으니 따로 빼준다.\n",
    "    print(\"ptrn--------\", ptrn)\n",
    "    if ptrn == \"㈜\" :\n",
    "        m = re.search(\"\\(주\\)|㈜\", stem)\n",
    "        print(\"m\", m.group())\n",
    "        if m :\n",
    "            debtorList.append(m.group())\n",
    "            extra = re.sub(\"망?\\s?\" + ptrnFnc(m.group()) + r\"\\s?(의(?=\\s))?\", \" \", extra)\n",
    "    else : \n",
    "        ptrn = ptrnFnc(ptrn)\n",
    "        p = re.search(ptrn, stem)\n",
    "        if p :\n",
    "            print(\"p\", p.group())\n",
    "            debtorList.append(p.group())\n",
    "            extra = re.sub(\"망?\\s?\" + ptrnFnc(p.group()) + r\"\\s?(의(?=\\s))?\", \" \", extra)\n",
    "print(debtorList, extra)"
   ]
  },
  {
   "cell_type": "code",
   "execution_count": null,
   "metadata": {},
   "outputs": [],
   "source": []
  },
  {
   "cell_type": "code",
   "execution_count": null,
   "metadata": {},
   "outputs": [],
   "source": [
    "\"기타1\" : re.compile(r\"기타|집행문\\s?부여|배송[가-힣]+|(채권|양도|양수|매매).*계약|화해(?!권고)|대위변제|분할|분납|상환|감면|(상속)?\\s?한정\\s?승인|상속\\s?포기|지방세|세목별|과세|.*내용증명|출입국사실|.*답변서|.*진술서|.*보정(서|명령)|.*인포케어|보증면탈|자동차직권말소|완제|.*품의서|금전\\s?공탁|배분\\s?[계산|기일|내역]|[가-힣\\s]*(예고|답변|준비)|이의신청\"), # 제거가 아니므로 첫 글자만 잘 찾으면 된다."
   ]
  },
  {
   "cell_type": "code",
   "execution_count": 9,
   "metadata": {},
   "outputs": [
    {
     "name": "stdout",
     "output_type": "stream",
     "text": [
      "wrongdocu  \n"
     ]
    }
   ],
   "source": [
    "# depth test\n",
    "files = [\"20407898 박한수 양도통지서.pdf\"]\n",
    "for f in files:\n",
    "    new_f = f \n",
    "    depth1, depth2, depth3 = v2.setDepth(new_f)########### depth ###########\n",
    "\n",
    "    print(depth1, depth2, depth3)"
   ]
  },
  {
   "cell_type": "code",
   "execution_count": 11,
   "metadata": {},
   "outputs": [
    {
     "data": {
      "text/plain": [
       "<re.Match object; span=(16, 26), match=' 사해행위취소 예고'>"
      ]
     },
     "execution_count": 11,
     "metadata": {},
     "output_type": "execute_result"
    }
   ],
   "source": [
    "import re\n",
    "stem = \"예상감정료산정서 16가단950 사해행위취소 예고\"\n",
    "p = re.compile(r\"[가-힣\\s]*예고\")\n",
    "p.search(stem)\n",
    "# fs = [\"20437691 이상래(75) 등기부등본.pdf\", \"20437691 이상래(75) 법인등기부.pdf\", \"20437691 이상래(75) 배당표 등본.pdf\", \"20437691 이상래(75) 결정 등본.pdf\"]\n",
    "# for f in fs : \n",
    "#     print(p.sub(\"aa\", f))\n"
   ]
  },
  {
   "cell_type": "code",
   "execution_count": 6,
   "metadata": {},
   "outputs": [],
   "source": [
    "comp = { # search는 앞에서부터 찾으니까 엄격한 것이 앞으로. 단 가압류와 압류처럼 가?압류로 표현할 수 있는 것은 순서 상관이 없음\n",
    "#\"1붙은 건 .*를 앞에 붙여서 아예 맨 앞으로 문서구분을 이동시켜도 괜찮겠다. 어차피 이름 중복되면 제거하니까.\"\n",
    "        \"개인정보\" : re.compile(r\"개인정보(?!활용|이용| 활| 이)\"),\n",
    "        \"개인정보1\" : re.compile(r\"신분증|(기초)?수급자?|차상위|(법인|사용)?\\s?인감|기본\\s?증명서?|(가족|혼인)\\s?(관계|증명)|이혼|입양|친양자|졸업|병적\"),\n",
    "        \"원인서류\" : re.compile(r\"(원인|대출)\\s?서류|(입회|가입|카드)\\s?신청서|(신용)?\\s?대출[약신원승확상거][가-힣]*|약정서|녹취록?|통화\\s?(내용|내역)|(대출)?\\s?원장|마이너스\\s?대출\"),\n",
    "        \"양도통지서\" : re.compile(r\"(채권)?\\s?(양도|양수)\\s?통지서?|(채권)?\\s?양도\\s?및?\\s?양수\\s?(통지)?서?\\s?|(?<![^가-힣][가-힣])양통|(?<=\\d차)\\s?(양통|양도통지서?)\"), # 세양통신 해결\n",
    "        \"양도통지서1\" : re.compile(r\"종[적족]\\s?(조회)?|(?<!주소|소\\s)이력\"), #종적조회는 모두 양통만 있더라\n",
    "        # 사건번호 내부는 이제 신경쓰지 않아도 된다.\n",
    "        \"파산\" : re.compile(r\"파산|면책|파산.*면책\"), #파산에도 배당있음. 강제집행보다 먼저 나와야\n",
    "        # 연도 다음에 나오는 개회가 아닌 경우, 전방탐색을 통해 '개인회생'의 '회생'이 걸리는 거 방지. count도 하자\n",
    "        \"개인회생\" : re.compile(r\"개회|(개인)?\\s?회생\"),\n",
    "        \"신용회복\" : re.compile(r\"(?<=[가-힣]{3})신복|[\\s_]신복|신용\\s?회복\"), #이름에있는 신복,숫자뒤 신복은 제외. 이름다음에 띄어쓰기 없이 나온 신복은.. \n",
    "        \"신용회복1\" : re.compile(r\"(개인)?채무\\s?조정안?|.*원상\\s?회복|신청인\\s?현황\"),\n",
    "        \"재산조사\" : re.compile(r\"재산\\s?조사|재산\\s?조회\"), # 상세문서를 재산조사가 대체하는 게 아님에 유의\n",
    "        \"재산조사1\" : re.compile(r\"(?<!법인)\\s등기|(?<!법인)등기|가압류\\s?물건지|.*대장|.*등록\\s?원부|.*은행거래|.*입출금\"),\n",
    "        \n",
    "        \"부채증명서\" : re.compile(r\"부채\\s?(잔액)?증명\\s?[서원]?(류|발급)?\"),\n",
    "        \"신용조회\" : re.compile(r\"신용\\s?조[회사]|신용\\s?정보(?!( 활용| 이용|활용|이용|동의))\"), # 신용조회가 있는 경우 기관이 앞에 나오건 뒤에 나오건 냅두면 되니 상관없음.\n",
    "        \"신용조회1\" : re.compile(r\"KCB|NICE|나이스\", re.I), # 기관명만 있는 경우 docu만 추가하면 됨. 순서대로 검색하니 여기 왔다는 건 신용조회라는 말이 없다는 뜻\n",
    "\n",
    "        # 등초본\n",
    "        \"외국인증명\" : re.compile(r\"\\(?\\s?외국인\\s?증명서?\\s?\\)?|\\(?\\s?외국인\\s?등록\\s?사실\\s?증명서?\\s?\\)?|\\(?\\s?외국인\\s?등록증?\\s?\\)?|\\(?\\s?외국인\\s?\\)?\"),\n",
    "        \"등초본\" : re.compile(r\"\\(?\\s?등본.{0,3}원?초본\\s?\\)?|\\(?\\s?원?초본.{0,3}등본\\s?\\)?|\\(?\\s?등[\\s.,]?초본?\\s?\\)?|\\(?\\s?초[\\s.,]?등본?\\s?\\)?|\\(?\\s?주민\\s?등록\\s?등본\\s?및?\\s?초본\\s?\\)?|\\(?\\s?주민\\s?등록\\s?초본\\s?및?\\s?등본\\s?\\)?\"), # '등본 및 초본' 때문에 .{0,3}\n",
    "        # 등기부\\s?등본은 조건문으로 처리하자.\n",
    "        \"초본\" : re.compile(r\"(?<![가-힣])원초본|(?<=원)원초본|(?<![가-힣])\\(?\\s?원\\s?초본\\s?\\)?|(?<=[가-힣]{3})원초본|\\(?\\s?(?<!법원)초본\\s?\\)?|\\(?\\s?주민\\s?등록\\s?초본\\s?\\)?\"), # 말소자_초본\n",
    "        \"주민등록정보\" : re.compile(r\"행자부\\s?(전송)?\\s?(자료)?|주민\\s?등록\\s?정보|주소\\s?이력|법원초본\"),\n",
    "        # 키워드 추가(대체x)\n",
    "        \"기타\" : re.compile(r\"기타\"),\n",
    "        \"기타1\" : re.compile(r\"집행문\\s?부여|배송[가-힣]+|(채권|양도|양수|매매).*계약|화해(?!권고)|대위변제|분할|분납|상환|감면|(상속)?\\s?한정\\s?승인|상속\\s?포기|지방세|세목별|과세|.*내용증명|출입국사실|.*답변서|.*진술서|.*보정(서|명령)|.*인포케어|보증면탈|자동차직권말소|완제|.*품의서|금전\\s?공탁|배분\\s?[계산|기일|내역]|[가-힣\\s]*(예고|답변|준비)|이의신청\"), # 제거가 아니므로 첫 글자만 잘 찾으면 된다.\n",
    "        #기타 제거 : 부채증명서, 신용조회, 주민등록정보\n",
    "        # 판결문과 결정문이 여러곳에서 나올 수 있어 뒤로 뺌. 결정과 판결은 더욱 애매해서 제외함\n",
    "        \"집행권원\" : re.compile(r\"집행\\s?권원|집행문(?!부여|이의)|승계\\s?(집행|결정)?(문)?|판결문|양수금\\s?(판결)?문?|(가단|가합|가소|차전)\\s?(결정|판결)?문?\"), # count=1이 의미있게 하기 위해 올바른 표현도 넣는다.\n",
    "        \"집행권원1\" : re.compile(r\"사해행위\\s?(취소)?\\s?(소송)?|공정증서|지급\\s?(명령|결정문?)|이행\\s?(권고|결정문?)|화해\\s?(권고|결정문?)\"),\n",
    "        \"집행권원 재도\" : re.compile(r\"(?<!\\b[가-힣])재도(부여|건)?|\\b재도건?|(?<!문)\\s부여건?|수통\\s?(부여)?|재교부건?|재발급건?\"),    # 사해행위는 집행권원이지만, 답변서, 예고, 준비서면등이 있어서 키워드로 등록하기가..카단이랑도 엮인경우동 있고..\n",
    "        \"강제집행\" : re.compile(r\"강제\\s?집행|압추|(채권)?\\s?압류\\s?및?\\s?추심\\s?(명령|결정)?문?|(채권)?\\s?추심\\s?및?\\s?압류\\s?(명령|결정)?문?|채권\\s?(추심|압류)\\s?(결정)?문?|(카단|카명|카합|카담|타채|타경|타기)\\s?(결정)?문?\"), # 결정이라는 말이 여러곳에서 나올 수 있어 단독사용은 불가\n",
    "        \"강제집행1\" : re.compile(r\"재산\\s?명시|[가-힣\\b]*(부?동산)?\\s?(가?압류|경매)(?!물건)|[가-힣\\b]*동산|[가-힣\\b]*추심|[가-힣\\b]*유체|[가-힣\\b]*배당[가-힣]|.*진술\\s?최고서?\"),#일반진술서는 안올려도 되는 거. 올린다면 기타로\n",
    "        \"등본\" : re.compile(r\"\\(?\\s?법인\\s?등기부?\\s?(등본)?\\s?\\)?|\\(?\\s?(?<!(등기부|기부 |배당표|당표 |.결정|결정 ))등본\\s?\\)?|\\(?\\s?주민\\s?등록\\s?등본\\s?\\)?\") #법인등본, 제적등본 setDocu에서 따로 처리, 등본이 법원서류에서 자꾸 나오니 젤 아래로...\n",
    "    }\n",
    "\n",
    "def setDocu(noKeyStem:str)->list :\n",
    "    \"\"\"[False:다큐없음, stem]|[True:다큐있음, [docu, name+\"#\"+extra]\"\"\"\n",
    "    extra = noKeyStem\n",
    "    docu = \"\"\n",
    "    isDocu = False\n",
    "\n",
    "    for k, v in comp.items() : #comp의 순서가 의미 있음!!!!!\n",
    "        if v.search(extra) :\n",
    "            isDocu = True\n",
    "            # 문서구분 추가(ss)\n",
    "            if k == \"개인정보1\" or k == \"양도통지서1\" or k == \"신용회복1\" or k == \"재산조사1\" or k == \"강제집행1\" or k == \"신용조회1\" or k == \"기타1\" or k==\"집행권원1\": \n",
    "                print(\"-1자리\", k)\n",
    "                docu = k[ :-1 ] # 1떼기\n",
    "            # 문서구분이 검색어를 대체\n",
    "            elif k == \"등본\" :\n",
    "                print(\"등본\")\n",
    "                if re.search(\"법인\", extra) :\n",
    "                    docu = \"법인등기\"\n",
    "                elif re.search(\"제적\", extra) :\n",
    "                    docu = \"제적등본\"\n",
    "                else :\n",
    "                    docu = k\n",
    "                extra = v.sub(\"\", extra)\n",
    "            else :\n",
    "                docu = k\n",
    "                extra = v.sub(\"\", extra)\n",
    "                if k == \"집행권원\" : # 집행권원 + (재도)? // 재도만 있는 경우는 상위로직 그대로 적용\n",
    "                    if comp[\"집행권원 재도\"].search(extra):\n",
    "                        docu = docu + \" 재도\"\n",
    "                        extra = comp[\"집행권원 재도\"].sub(\"\", extra)\n",
    "                elif k == \"양도통지서\" : # 차수가 있다면 docu로 살려주고, 종적조회는 extra로 넘겨서 살려준다.\n",
    "                    p_차수 = re.compile(r\"(?<!\\d)\\d차\")\n",
    "                    if p_차수.search(extra) :\n",
    "                        docu = k + \" \" + p_차수.search(extra).group()\n",
    "                        extra = p_차수.sub(\"\", extra)\n",
    "                    if comp[\"양도통지서1\"].search(extra) : # 종족조회 및 기타 제거 \n",
    "                        extra = \"종적조회\"+ \" \"+ comp[\"양도통지서1\"].sub(\"\", extra)\n",
    "\n",
    "            extra = re.sub('기타', \"\", extra, count=1)\n",
    "            return [isDocu, [docu, extra]] #첫번째로 검색된 곳에서 반복문 종료\n",
    "\n",
    "    return [isDocu, noKeyStem] #반복문 끝났는데도 매칭되는게 없었다면"
   ]
  },
  {
   "cell_type": "code",
   "execution_count": 17,
   "metadata": {},
   "outputs": [
    {
     "name": "stdout",
     "output_type": "stream",
     "text": [
      "ptrn ㈜\n",
      "m ㈜\n",
      "ptrn 에스티티에스\n",
      "p 에스티티에스\n",
      "(주)에스티티에스\n"
     ]
    }
   ],
   "source": [
    "def ptrnFnc(ptrn) : # 정규식 함수에서 () 인식을 위한 함수\n",
    "    ptrn = re.sub(\"\\(\", \"\\\\(\", ptrn) #search에서 ()인식을 위해\n",
    "    ptrn = re.sub(\"\\)\", \"\\\\)\", ptrn)\n",
    "    return ptrn\n",
    "stem = \"20414390 (주)에스티티에스,민경훈 2020차전108145.pdf\"\n",
    "debtorList = []\n",
    "debtorName = \"㈜에스티티에스\"\n",
    "for ptrn in re.findall(\"[가-힣a-zA-Z]+|\\([가-힣]\\)|㈜\", debtorName) : #(주)를 안 썼을 수도 있으니 따로 빼준다.\n",
    "    print(\"ptrn\",ptrn)\n",
    "    if ptrn == \"㈜\" :\n",
    "        m = re.search(\"\\(주\\)|㈜\", stem)\n",
    "        if m :\n",
    "            debtorList.append(m.group())\n",
    "            print(\"m\",ptrn)\n",
    "            extra = re.sub(m.group(), \"\", extra)\n",
    "    ptrn = ptrnFnc(ptrn)\n",
    "    p = re.search(ptrn, stem)\n",
    "    if p :\n",
    "        print(\"p\", p.group())\n",
    "        debtorList.append(p.group())\n",
    "        extra = re.sub(\"망?\\s?\" + p.group() + r\"\\s?(의(?=\\s))?\", \" \", extra) # 의를 지우되 보증인이 의로 시작하는 경우 있어 (?=\\s)추가, 대신 앞뒤공백 다 제거할 수 있어서 \" \"로 대체\n",
    "\n",
    "if len(debtorList) == 1 :\n",
    "        name = debtorList[0]\n",
    "elif len(debtorList) > 1 :\n",
    "    debtor = \" \".join(debtorList)\n",
    "    # 괄호 앞 뒤로 공백 없애기\n",
    "    debtor = re.sub(\"\\s\\(\", \"(\", debtor)\n",
    "    debtor = re.sub(\"\\)\\s\", \")\", debtor)\n",
    "    debtor = re.sub(\"\\s?㈜\\s?\", \"㈜\", debtor)\n",
    "    name = debtor\n",
    "print(name)"
   ]
  },
  {
   "cell_type": "code",
   "execution_count": 49,
   "metadata": {},
   "outputs": [
    {
     "name": "stdout",
     "output_type": "stream",
     "text": [
      "127903\n"
     ]
    }
   ],
   "source": [
    "import pickle\n",
    "\n",
    "path = r'\\\\192.168.0.75\\스캔파일\\스캔파일log\\_project\\파일\\중복조사\\kcs별 파일정보_솔림헬프.pkl'\n",
    "with open(path, \"rb\") as pkl :\n",
    "    dict = pickle.load(pkl)\n",
    "\n",
    "total = len(dict)\n",
    "print(total)"
   ]
  },
  {
   "cell_type": "code",
   "execution_count": 50,
   "metadata": {},
   "outputs": [
    {
     "data": {
      "text/plain": [
       "{'score': 101113,\n",
       " 'root': '/volume1/솔림헬프/3.집행권원/DNP-01/20414305',\n",
       " 'stem': '20414305_김기용_집행권원_2014가소5063343__(2)',\n",
       " 'ext': '.pdf',\n",
       " 'fullPath': '/volume1/솔림헬프/3.집행권원/DNP-01/20414305/20414305_김기용_집행권원_2014가소5063343__(2).pdf'}"
      ]
     },
     "execution_count": 50,
     "metadata": {},
     "output_type": "execute_result"
    }
   ],
   "source": [
    "dict[\"20414305F16350592693221\"]"
   ]
  },
  {
   "cell_type": "code",
   "execution_count": 31,
   "metadata": {},
   "outputs": [
    {
     "name": "stdout",
     "output_type": "stream",
     "text": [
      "0\n"
     ]
    }
   ],
   "source": [
    "# 중복 그룹 갯수\n",
    "group = 0\n",
    "for k, v in dict.items() :\n",
    "    if len(v) > 5 :\n",
    "        group += 1\n",
    "print(group)"
   ]
  },
  {
   "cell_type": "code",
   "execution_count": 32,
   "metadata": {},
   "outputs": [
    {
     "data": {
      "text/plain": [
       "127903"
      ]
     },
     "execution_count": 32,
     "metadata": {},
     "output_type": "execute_result"
    }
   ],
   "source": [
    "temp = {}\n",
    "for key, value in dict.items() :\n",
    "    c = key[:8]\n",
    "    k = key[8:16]\n",
    "    s = key[16:]\n",
    "    kcs = k + c + s\n",
    "    temp[kcs] = value\n",
    "    \n",
    "len(temp)"
   ]
  },
  {
   "cell_type": "code",
   "execution_count": 33,
   "metadata": {},
   "outputs": [
    {
     "data": {
      "text/plain": [
       "{'score': 0,\n",
       " 'root': '/volume1/스캔파일/새 스캔파일(업로드)',\n",
       " 'stem': '20425268 신남희 신용회복 원상회복내역 221006',\n",
       " 'ext': '.pdf',\n",
       " 'fullPath': '/volume1/스캔파일/새 스캔파일(업로드)/20425268 신남희 신용회복 원상회복내역 221006.pdf'}"
      ]
     },
     "execution_count": 33,
     "metadata": {},
     "output_type": "execute_result"
    }
   ],
   "source": [
    "temp[\"20425268F4CE57CC19909\"]"
   ]
  },
  {
   "cell_type": "code",
   "execution_count": 10,
   "metadata": {},
   "outputs": [
    {
     "data": {
      "text/plain": [
       "[{'score': 0,\n",
       "  'root': '/volume1/스캔파일/새 스캔파일(업로드)',\n",
       "  'stem': '20425268 신남희 신용회복 원상회복내역 221006',\n",
       "  'ext': '.pdf',\n",
       "  'fullPath': '/volume1/스캔파일/새 스캔파일(업로드)/20425268 신남희 신용회복 원상회복내역 221006.pdf'}]"
      ]
     },
     "execution_count": 10,
     "metadata": {},
     "output_type": "execute_result"
    }
   ],
   "source": [
    "dict[\"F4CE57CC2042526819909\"]"
   ]
  },
  {
   "cell_type": "code",
   "execution_count": 34,
   "metadata": {},
   "outputs": [],
   "source": [
    "path = r'\\\\192.168.0.75\\스캔파일\\스캔파일log\\_project\\파일\\중복조사\\kcs별 파일정보_솔림헬프.pkl'\n",
    "with open(path, \"wb\") as pkl :\n",
    "        pickle.dump(temp, pkl)"
   ]
  },
  {
   "cell_type": "code",
   "execution_count": 23,
   "metadata": {},
   "outputs": [
    {
     "data": {
      "text/plain": [
       "{'cks1': {'fullPath1': {'score': 'score', 'dir': 'dir'},\n",
       "  'fullPath2': {'score': 'score', 'dir': 'dir'}},\n",
       " 'cks2': {'fullPath3': {'score': 'score', 'dir': 'dir'},\n",
       "  'fullPath4': {'score': 'score', 'dir': 'dir'}}}"
      ]
     },
     "execution_count": 23,
     "metadata": {},
     "output_type": "execute_result"
    }
   ],
   "source": [
    "hehe = {\n",
    "    \"cks1\" : {\"fullPath1\" : {\"score\" : \"score\", \"dir\" :\"dir\"}, \"fullPath2\"  : {\"score\" : \"score\", \"dir\" :\"dir\"}},\n",
    "    \"cks2\" : {\"fullPath3\" : {\"score\" : \"score\", \"dir\" :\"dir\"}, \"fullPath4\"  : {\"score\" : \"score\", \"dir\" :\"dir\"}},\n",
    "}\n",
    "hehe"
   ]
  },
  {
   "cell_type": "code",
   "execution_count": 24,
   "metadata": {},
   "outputs": [
    {
     "data": {
      "text/plain": [
       "{'cks1': {'fullPath1': {'score': 'score', 'dir': 'dir'},\n",
       "  'fullPath2': {'score': 'score', 'dir': 'dir'},\n",
       "  'fullPath5': {'score': 'score', 'dir': 'dir'}},\n",
       " 'cks2': {'fullPath3': {'score': 'score', 'dir': 'dir'},\n",
       "  'fullPath4': {'score': 'score', 'dir': 'dir'}}}"
      ]
     },
     "execution_count": 24,
     "metadata": {},
     "output_type": "execute_result"
    }
   ],
   "source": [
    "hehe[\"cks1\"].update({\"fullPath5\" : {\"score\" : \"score\", \"dir\" :\"dir\"}})\n",
    "hehe"
   ]
  },
  {
   "cell_type": "code",
   "execution_count": 26,
   "metadata": {},
   "outputs": [
    {
     "data": {
      "text/plain": [
       "dict_keys(['fullPath1', 'fullPath2', 'fullPath5'])"
      ]
     },
     "execution_count": 26,
     "metadata": {},
     "output_type": "execute_result"
    }
   ],
   "source": [
    "hehe[\"cks1\"].keys()"
   ]
  },
  {
   "cell_type": "code",
   "execution_count": 48,
   "metadata": {},
   "outputs": [],
   "source": [
    "import os\n",
    "path = r\"\\\\192.168.0.75\\삭제예정파일\\중복_서버\"\n",
    "os.chdir(path)\n",
    "for root, dirs, files in os.walk(path) :\n",
    "    for f in files :\n",
    "        src = root\n",
    "        \n",
    "        target = root.split(\"\\\\\")[-1]\n",
    "        uji = root.replace(target, \"\")\n",
    "        new = target[8:16] + target[:8] + target[16:]\n",
    "\n",
    "        dst = os.path.join(uji, new)\n",
    "\n",
    "        os.rename(src, dst)\n",
    "        break\n",
    "    \n"
   ]
  },
  {
   "cell_type": "code",
   "execution_count": 47,
   "metadata": {},
   "outputs": [
    {
     "name": "stdout",
     "output_type": "stream",
     "text": [
      "C:\\Users\\SL\\Desktop\\test\\2314153\\kajglafjdkjfagjlh\n"
     ]
    },
    {
     "ename": "OSError",
     "evalue": "[WinError 123] 파일 이름, 디렉터리 이름 또는 볼륨 레이블 구문이 잘못되었습니다: 'C:\\\\Users\\\\SL\\\\Desktop\\\\test\\\\2314153\\\\kajglafjdkjfagjlh' -> '\\\\SL\\\\DeskC:\\\\Userstop\\\\test\\\\2314153\\\\kajglafjdkjfagjlh'",
     "output_type": "error",
     "traceback": [
      "\u001b[1;31m---------------------------------------------------------------------------\u001b[0m",
      "\u001b[1;31mOSError\u001b[0m                                   Traceback (most recent call last)",
      "\u001b[1;32mc:\\Users\\SL\\Desktop\\workspace\\python\\fileNaming\\practice_v2_name.ipynb 셀 19\u001b[0m in \u001b[0;36m<cell line: 4>\u001b[1;34m()\u001b[0m\n\u001b[0;32m     <a href='vscode-notebook-cell:/c%3A/Users/SL/Desktop/workspace/python/fileNaming/practice_v2_name.ipynb#X30sZmlsZQ%3D%3D?line=10'>11</a>\u001b[0m new \u001b[39m=\u001b[39m target[\u001b[39m8\u001b[39m:\u001b[39m16\u001b[39m] \u001b[39m+\u001b[39m target[:\u001b[39m8\u001b[39m] \u001b[39m+\u001b[39m target[\u001b[39m16\u001b[39m:]\n\u001b[0;32m     <a href='vscode-notebook-cell:/c%3A/Users/SL/Desktop/workspace/python/fileNaming/practice_v2_name.ipynb#X30sZmlsZQ%3D%3D?line=12'>13</a>\u001b[0m dst \u001b[39m=\u001b[39m os\u001b[39m.\u001b[39mpath\u001b[39m.\u001b[39mjoin(uji, new)\n\u001b[1;32m---> <a href='vscode-notebook-cell:/c%3A/Users/SL/Desktop/workspace/python/fileNaming/practice_v2_name.ipynb#X30sZmlsZQ%3D%3D?line=14'>15</a>\u001b[0m os\u001b[39m.\u001b[39;49mrename(src, dst)\n",
      "\u001b[1;31mOSError\u001b[0m: [WinError 123] 파일 이름, 디렉터리 이름 또는 볼륨 레이블 구문이 잘못되었습니다: 'C:\\\\Users\\\\SL\\\\Desktop\\\\test\\\\2314153\\\\kajglafjdkjfagjlh' -> '\\\\SL\\\\DeskC:\\\\Userstop\\\\test\\\\2314153\\\\kajglafjdkjfagjlh'"
     ]
    }
   ],
   "source": [
    "import os\n",
    "path = r\"C:\\Users\\SL\\Desktop\\test\"\n",
    "os.chdir(path)\n",
    "for root, dirs, files in os.walk(path) :\n",
    "    for f in files :\n",
    "        print(root)\n",
    "        src = root\n",
    "        \n",
    "        target = root.split(\"/\")[-1]\n",
    "        uji = root.replace(target, \"\")\n",
    "        new = target[8:16] + target[:8] + target[16:]\n",
    "\n",
    "        dst = os.path.join(uji, new)\n",
    "\n",
    "        os.rename(src, dst)\n",
    "    \n"
   ]
  }
 ],
 "metadata": {
  "kernelspec": {
   "display_name": "Python 3.9.13 ('base')",
   "language": "python",
   "name": "python3"
  },
  "language_info": {
   "codemirror_mode": {
    "name": "ipython",
    "version": 3
   },
   "file_extension": ".py",
   "mimetype": "text/x-python",
   "name": "python",
   "nbconvert_exporter": "python",
   "pygments_lexer": "ipython3",
   "version": "3.9.13"
  },
  "orig_nbformat": 4,
  "vscode": {
   "interpreter": {
    "hash": "50ba2c93e3505a279245e213c77d9791c626788d8ca8a61b8db804927ca08a39"
   }
  }
 },
 "nbformat": 4,
 "nbformat_minor": 2
}
