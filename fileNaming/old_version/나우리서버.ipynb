{
 "cells": [
  {
   "cell_type": "code",
   "execution_count": 2,
   "metadata": {},
   "outputs": [],
   "source": [
    "import os\n",
    "import shutil\n",
    "import pandas as pd\n",
    "from tqdm import tqdm      \n",
    "import re\n",
    "from pathlib import Path\n",
    "import traceback\n",
    "from os.path import join\n",
    "import file_function as ff\n",
    "import time\n",
    "from datetime import datetime"
   ]
  },
  {
   "cell_type": "markdown",
   "metadata": {},
   "source": [
    "### 나우리 나스 파일 옮기기"
   ]
  },
  {
   "cell_type": "markdown",
   "metadata": {},
   "source": [
    "##### depth2,3 제거하고 파일명에 채무자키 없는 거 추가하기"
   ]
  },
  {
   "cell_type": "code",
   "execution_count": 2,
   "metadata": {},
   "outputs": [],
   "source": [
    "# 문서구분 폴더를 기준으로 채무자키 파일명에 넣어서 파일 저장하기\n",
    "path = r'D:\\부산 정리_예외들\\기타문서\\한울가람대부㈜\\11. 행자부'\n",
    "path_dst = r'D:\\부산 정리_예외들\\기타문서\\한울가람대부㈜\\11. 행자부단일트리'\n",
    "path_s = r'C:\\Users\\SL\\Desktop\\test\\log\\success'\n",
    "path_f = r'C:\\Users\\SL\\Desktop\\test\\log\\fail'\n",
    "path_d = r'C:\\Users\\SL\\Desktop\\test\\log\\dir'\n",
    "\n",
    "file_list = os.walk(path)\n",
    "p_key = re.compile(r\"[\\d]{8}(?!\\d)\") #match\n",
    "\n",
    "\n",
    "result_f = []\n",
    "result_d = []\n",
    "error = []\n",
    "os.chdir(r'D:\\\\')"
   ]
  },
  {
   "cell_type": "code",
   "execution_count": 3,
   "metadata": {},
   "outputs": [
    {
     "name": "stderr",
     "output_type": "stream",
     "text": [
      "10it [00:02,  3.77it/s]"
     ]
    },
    {
     "name": "stdout",
     "output_type": "stream",
     "text": [
      "log 파일이 비어있습니다. path : C:\\Users\\SL\\Desktop\\test\\log\\fail\n",
      "총 파일 : 88, 옮긴 파일 수 : 88, 에러 파일 수 : 0\n"
     ]
    },
    {
     "name": "stderr",
     "output_type": "stream",
     "text": [
      "\n"
     ]
    }
   ],
   "source": [
    "for root, dirs, files in tqdm(file_list) :\n",
    "    # root : 삭제할 채무자키 폴더\n",
    "    #os.chdir(root)\n",
    "    for f in files :\n",
    "        try : \n",
    "            n = f\n",
    "            if not p_key.match(n) : # 파일명에 채무자키 없는 경우\n",
    "                key = root.split(os.path.sep)[-1]\n",
    "                # == key = os.path.split(root)[1]\n",
    "                # print(\"key : \", key)\n",
    "                n = key + \" \" + n\n",
    "                # print(\"n : \", n)\n",
    "            else : pass\n",
    "\n",
    "            result_f.append(ff.re_name(join(root, f), join(path_dst, n)))\n",
    "        except Exception as e:\n",
    "            print(\"===================================\")\n",
    "            print(datetime.today().strftime(\"%H:%M:%S\"))\n",
    "            print(f, e.__class__, e, sep=\" : \")\n",
    "            print(traceback.format_exc())\n",
    "            error.append([f, e.__class__, e])\n",
    "        continue # 반복문 계속 돌아\n",
    "    #os.chdir(r'D:\\nas다운로드\\나우리서버')\n",
    "\n",
    "# for root, dirs, files in tqdm(os.walk(path)) :\n",
    "#     for dir in dirs :\n",
    "#         try : \n",
    "#             os.removedirs(dir)\n",
    "#             result_d.append([dir]) #log는 리스트를 인자로 받는다.\n",
    "#         except Exception as e:\n",
    "#             print(\"===================================\")\n",
    "#             print(datetime.today().strftime(\"%H:%M:%S\"))\n",
    "#             print(root, e.__class__, e, sep=\" : \")\n",
    "#             print(traceback.format_exc())\n",
    "#             error.append([dir, e.__class__, e])\n",
    "#             continue # 반복문 계속 돌아\n",
    "\n",
    "\n",
    "ff.write_log_csv(result_f, path_s)\n",
    "ff.write_log_csv(error, path_f)\n",
    "#ff.write_log_csv(result_d, path_d)\n",
    "print(f\"총 파일 : {len(result_f) + len(error)}, 옮긴 파일 수 : {len(result_f)}, 에러 파일 수 : {len(error)}\")\n",
    "\n",
    "# 남아있는 디렉토리 확인\n",
    "# remain = []\n",
    "# for d in tqdm(result_d, total=len(result_d)) :\n",
    "#     if os.path.isdir(d) :\n",
    "#         remain.append(d)\n",
    "# if len(remain) >0 : print(len(remain))\n",
    "# else : print(\"모든 디렉토리 삭제 완료\")"
   ]
  },
  {
   "cell_type": "markdown",
   "metadata": {},
   "source": [
    "##### 파일명에 문서구분 없는 거 별도 폴더로 옮기기"
   ]
  },
  {
   "cell_type": "code",
   "execution_count": 6,
   "metadata": {},
   "outputs": [
    {
     "name": "stderr",
     "output_type": "stream",
     "text": [
      "100%|██████████| 894/894 [00:00<00:00, 3365.77it/s]"
     ]
    },
    {
     "name": "stdout",
     "output_type": "stream",
     "text": [
      "894개 중 29개 nodou로 이동\n"
     ]
    },
    {
     "name": "stderr",
     "output_type": "stream",
     "text": [
      "\n"
     ]
    }
   ],
   "source": [
    "path = r'D:\\nas다운로드\\upload\\양도통지서\\nodocu'\n",
    "nodocuPath = r'D:\\nas다운로드\\upload\\양도통지서\\nodocu' ####################만들어\n",
    "##########################################\n",
    "standard = \"양도통지서\"\n",
    "####### pdf 아닌 경우, 수작업해야할 게 많은지 체크해서 그렇다면 내보내 ###########\n",
    "p2=re.compile(r\"양도\\s?통지서?|채권\\s?양도\\s?통지서|(?<![^가-힣][가-힣])양통\")  #_세양통신 해결pass\n",
    "##########################################\n",
    "\n",
    "p_extension = re.compile('(jpeg|jpg|bmp|gif|pdf|png|tif)$', re.I)\n",
    "file_list = [f.name for f in os.scandir(path) if f.is_file() and (re.search(p_extension, f.name))]\n",
    "total = len(file_list)\n",
    "\n",
    "cnt = 0\n",
    "for f in tqdm(file_list, total=total) :\n",
    "    if p2.search(f) :\n",
    "        n = p2.sub(standard, f) #관련단어 있는 것은 정식명칭으로 바꾼뒤 그대로 두고\n",
    "        if f != n :\n",
    "            os.rename(join(path, f), join(path, n))\n",
    "    else : # 키워드 아예 없는 경우는 nodocu폴더로\n",
    "        os.rename(join(path, f), join(nodocuPath, f))\n",
    "        cnt += 1\n",
    "print(f'{total}개 중 {cnt}개 nodou로 이동')\n",
    "\n",
    "#########################\n",
    "# 정식명으로 바꾼거는 nas에 올리면 돼\n",
    "# nodocu에 있는 거는 다른 문서는 옮겨주고 쓸데없는 말 지우고 채무자키 이름 빼고 지워서 끝에 문서이름 넣어주는 걸로"
   ]
  },
  {
   "cell_type": "code",
   "execution_count": null,
   "metadata": {},
   "outputs": [],
   "source": [
    "##### 끝에 문서구분 붙이고 중간에 있는 일련번호 지우자"
   ]
  },
  {
   "cell_type": "markdown",
   "metadata": {},
   "source": [
    "##### 구나스 등초본"
   ]
  },
  {
   "cell_type": "code",
   "execution_count": 19,
   "metadata": {},
   "outputs": [
    {
     "name": "stderr",
     "output_type": "stream",
     "text": [
      "100%|██████████| 2806/2806 [00:02<00:00, 1129.32it/s]\n"
     ]
    },
    {
     "name": "stdout",
     "output_type": "stream",
     "text": [
      "log 파일이 비어있습니다. path : C:\\Users\\SL\\Desktop\\test\\log\\fail\n"
     ]
    },
    {
     "name": "stderr",
     "output_type": "stream",
     "text": [
      "100%|██████████| 2806/2806 [00:00<00:00, 23505.62it/s]"
     ]
    },
    {
     "name": "stdout",
     "output_type": "stream",
     "text": [
      "모든 디렉토리 삭제 완료\n"
     ]
    },
    {
     "name": "stderr",
     "output_type": "stream",
     "text": [
      "\n"
     ]
    }
   ],
   "source": [
    "path_s = r'C:\\Users\\SL\\Desktop\\test\\log\\success'\n",
    "path_f = r'C:\\Users\\SL\\Desktop\\test\\log\\fail'\n",
    "path_d = r'C:\\Users\\SL\\Desktop\\test\\log\\dir'\n",
    "path = r'D:\\nas다운로드\\upload\\등초본' #폴더만 있음\n",
    "\n",
    "result_f = []\n",
    "result_d = []\n",
    "error = []\n",
    "\n",
    "file_list = os.listdir(path)\n",
    "total = len(file_list)\n",
    "#temp_cwd = os.getcwd()\n",
    "for dir in tqdm(file_list, total=total):\n",
    "    \n",
    "    miss_dir = join(path, dir) #파일명들어간 폴더\n",
    "    \n",
    "    # print(\"miss_dir : \",miss_dir)\n",
    "    # print(\"dst_dir : \", dst_dir, type(dst_dir))\n",
    "    # print(\"dst_f : \", dst_f)\n",
    "\n",
    "    os.chdir(miss_dir)\n",
    "    for f in os.listdir(miss_dir) :\n",
    "        # print(\"f : \",f)\n",
    "        if os.path.isfile(f) :\n",
    "            try : \n",
    "                result_f.append(ff.re_name(f, join(path, dir)))\n",
    "                \n",
    "            except Exception as e:\n",
    "                print(\"===================================\")\n",
    "                print(datetime.today().strftime(\"%H:%M:%S\"))\n",
    "                print(f, e.__class__, e, sep=\" : \")\n",
    "                print(traceback.format_exc())\n",
    "                error.append([f, e.__class__, e])\n",
    "                continue # 반복문 계속 돌아\n",
    "    os.chdir(path)\n",
    "    try : \n",
    "        os.rmdir(miss_dir)\n",
    "        result_d.append(miss_dir)\n",
    "    except Exception as e:\n",
    "        print(\"===================================\")\n",
    "        print(datetime.today().strftime(\"%H:%M:%S\"))\n",
    "        print(f, e.__class__, e, sep=\" : \")\n",
    "        print(traceback.format_exc())\n",
    "        error.append([f, e.__class__, e])\n",
    "        continue # 반복문 계속 돌아\n",
    "\n",
    "ff.write_log_csv(result_f, path_s)\n",
    "ff.write_log_csv(result_d, path_d)\n",
    "ff.write_log_csv(error, path_f)\n",
    "\n",
    "# 남아있는 디렉토리 확인\n",
    "remain = []\n",
    "for d in tqdm(result_d, total=len(result_d)) :\n",
    "    if os.path.isdir(d) :\n",
    "        remain.append(d)\n",
    "if len(remain) >0 : print(remain)\n",
    "else : print(\"모든 디렉토리 삭제 완료\")\n"
   ]
  },
  {
   "cell_type": "markdown",
   "metadata": {},
   "source": [
    "##### 법원서류"
   ]
  },
  {
   "cell_type": "code",
   "execution_count": 9,
   "metadata": {},
   "outputs": [],
   "source": [
    "path = r'D:\\nas다운로드\\upload\\법원서류'\n",
    "path_jib = join(path, \"집행권원\")\n",
    "path_gang = join(path, \"강제집행\")\n",
    "path_pa = join(path, \"파산\")\n",
    "path_gae = join(path, \"개인회생\")\n",
    "path_ka = join(path, \"카경\")\n",
    "\n",
    "dst_path = r'D:\\nas다운로드\\upload\\문서구분완료'\n",
    "docu = \" 집행권원 \"\n",
    "\n",
    "p_extension = re.compile('(jpeg|jpg|bmp|gif|pdf|png|tif)$', re.I)\n",
    "file_list = [f.name for f in os.scandir(path) if f.is_file() and (re.search(p_extension, f.name))]\n",
    "total = len(file_list)\n",
    "cnt = 0\n",
    "p_key = re.compile(r\"([\\d]{8})[\\D]\")  # match\n",
    "\n",
    "list = []\n"
   ]
  },
  {
   "cell_type": "code",
   "execution_count": null,
   "metadata": {},
   "outputs": [],
   "source": []
  },
  {
   "cell_type": "markdown",
   "metadata": {},
   "source": [
    "### 잘못 만든 상위 폴더 지우기"
   ]
  },
  {
   "cell_type": "markdown",
   "metadata": {},
   "source": [
    "##### 부산 > nas"
   ]
  },
  {
   "cell_type": "code",
   "execution_count": 60,
   "metadata": {},
   "outputs": [
    {
     "name": "stdout",
     "output_type": "stream",
     "text": [
      "2671\n"
     ]
    }
   ],
   "source": [
    "df = pd.read_excel(r\"C:\\Users\\SL\\Desktop\\통합 문서1.xlsx\", names=['src_dir', 'src_f', 'dst_f', 'dst_dir'], header=None)\n",
    "total = len(df.index)\n",
    "print(total)\n",
    "path_s = r'C:\\Users\\SL\\Desktop\\test\\log\\success'\n",
    "path_f = r'C:\\Users\\SL\\Desktop\\test\\log\\fail'\n",
    "path_d = r'C:\\Users\\SL\\Desktop\\test\\log\\dir'\n",
    "\n",
    "result_f = []\n",
    "result_d = []\n",
    "error = []\n",
    "\n",
    "#temp_cwd = os.getcwd()\n",
    "for key, row in tqdm(df.iterrows(), total=total):\n",
    "    dst_dir = row.dst_dir\n",
    "    dst_f = row.dst_f\n",
    "    miss_dir = (join(dst_dir, dst_f)) #파일명들어간 폴더\n",
    "    \n",
    "    # print(\"miss_dir : \",miss_dir)\n",
    "    # print(\"dst_dir : \", dst_dir)\n",
    "\n",
    "    for f in os.listdir(miss_dir) :\n",
    "        os.chdir(miss_dir)\n",
    "        # print(\"f : \",f)\n",
    "        if os.path.isfile(f) :\n",
    "            try : \n",
    "                result_f.append(ff.re_name(f, join(dst_dir, f)))\n",
    "                \n",
    "            except Exception as e:\n",
    "                print(\"===================================\")\n",
    "                print(datetime.today().strftime(\"%H:%M:%S\"))\n",
    "                print(f, e.__class__, e, sep=\" : \")\n",
    "                print(traceback.format_exc())\n",
    "                error.append([f, e.__class__, e])\n",
    "                continue # 반복문 계속 돌아\n",
    "    os.chdir(dst_dir)\n",
    "    try : \n",
    "        os.rmdir(miss_dir)\n",
    "        result_d.append(miss_dir)\n",
    "    except Exception as e:\n",
    "        print(\"===================================\")\n",
    "        print(datetime.today().strftime(\"%H:%M:%S\"))\n",
    "        print(f, e.__class__, e, sep=\" : \")\n",
    "        print(traceback.format_exc())\n",
    "        error.append([f, e.__class__, e])\n",
    "        continue # 반복문 계속 돌아\n",
    "\n",
    "ff.write_log_csv(result_f, path_s)\n",
    "ff.write_log_csv(result_d, path_d)\n",
    "ff.write_log_csv(error, path_f)\n",
    "\n",
    "# 남아있는 디렉토리 확인\n",
    "remain = []\n",
    "for d in tqdm(result_d, total=len(result_d)) :\n",
    "    if os.path.isdir(d) :\n",
    "        remain.append(d)\n",
    "if len(remain) >0 : print(remain)\n",
    "else : print(\"모든 디렉토리 삭제 완료\")\n"
   ]
  },
  {
   "cell_type": "markdown",
   "metadata": {},
   "source": [
    "##### 빈폴더 지우기"
   ]
  },
  {
   "cell_type": "code",
   "execution_count": 3,
   "metadata": {},
   "outputs": [
    {
     "name": "stderr",
     "output_type": "stream",
     "text": [
      "1it [00:00, 12.39it/s]"
     ]
    },
    {
     "name": "stdout",
     "output_type": "stream",
     "text": [
      "492개의 빈 폴더 삭제\n"
     ]
    },
    {
     "name": "stderr",
     "output_type": "stream",
     "text": [
      "\n"
     ]
    }
   ],
   "source": [
    "path = r'D:\\key\\서울\\! 채권별 스캔본 (한울가람, 9001~)\\! 채권별 스캔본 (한울가람, 9001~)(스캔파일)\\25.퀀텀_솔림헬프\\5.매각사측 수령 스캔본\\개인회생'\n",
    "cnt = 0\n",
    "for root, dirs, files in tqdm(os.walk(path)) :\n",
    "\t# 내for문 없이 root바로 remove해도 되는데, 이렇게 하면 수가 조금 줄어드네.\n",
    "        for dir in dirs :\n",
    "            try :\n",
    "                #os.removedirs(os.path.join(root, dir))\n",
    "                os.rmdir(os.path.join(root, dir))\n",
    "                cnt += 1\n",
    "            except : # 파일 있는 경우\n",
    "                print(dir)\n",
    "                pass\n",
    "print(f\"{cnt}개의 빈 폴더 삭제\")"
   ]
  }
 ],
 "metadata": {
  "kernelspec": {
   "display_name": "Python 3.9.12 ('base')",
   "language": "python",
   "name": "python3"
  },
  "language_info": {
   "codemirror_mode": {
    "name": "ipython",
    "version": 3
   },
   "file_extension": ".py",
   "mimetype": "text/x-python",
   "name": "python",
   "nbconvert_exporter": "python",
   "pygments_lexer": "ipython3",
   "version": "3.9.12"
  },
  "orig_nbformat": 4,
  "vscode": {
   "interpreter": {
    "hash": "50ba2c93e3505a279245e213c77d9791c626788d8ca8a61b8db804927ca08a39"
   }
  }
 },
 "nbformat": 4,
 "nbformat_minor": 2
}
