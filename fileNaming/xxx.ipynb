{
 "cells": [
  {
   "attachments": {},
   "cell_type": "markdown",
   "metadata": {},
   "source": [
    "# 셀 서식 지정하여 엑셀파일 만들기"
   ]
  },
  {
   "cell_type": "code",
   "execution_count": null,
   "metadata": {},
   "outputs": [],
   "source": [
    "import pandas as pd\n",
    "import numpy as np\n",
    "import pickle\n",
    "import re\n",
    "import os\n",
    "from os.path import join\n",
    "from tqdm import tqdm\n",
    "from datetime import datetime"
   ]
  },
  {
   "cell_type": "code",
   "execution_count": null,
   "metadata": {},
   "outputs": [],
   "source": [
    "import pandas as pd\n",
    "from openpyxl.utils.dataframe import dataframe_to_rows\n",
    "from openpyxl.styles import Font, PatternFill, Alignment, Border, Side\n",
    "from openpyxl import Workbook\n",
    "# from openpyxl.utils import get_column_letter\n",
    "# from openpyxl.utils.cell import coordinate_from_string\n",
    "\n",
    "# 데이터프레임 생성\n",
    "df = pd.DataFrame({\n",
    "    '키' : [\"12345678\", \"23456789\", \"34567890\"],\n",
    "    '이름': ['전병만', '호호호', '하하하'],\n",
    "    '번호': [121157498, 21654648455, 38454864513],\n",
    "    '학교': ['서울대학교', '한양대학교', '연세대학교'],\n",
    "    '등급': ['A', 'B', 'C'],\n",
    "    '국어': [95, 80, 70],\n",
    "    '영어': [80, 90, 75],\n",
    "    '수학': [90, 85, 60],\n",
    "    '과학': [0.1, 20, 18.63],\n",
    "    '등록일': ['2021-05-01', \"\", '2021-05-03']\n",
    "})\n",
    "\n",
    "# 엑셀 파일 생성\n",
    "wb = Workbook()\n",
    "ws1 = wb.active\n",
    "ws1.title = \"무담보\"\n",
    "\n",
    "# 데이터프레임 삽입\n",
    "for r in dataframe_to_rows(df, index=False, header=True):\n",
    "    ws1.append(r)\n",
    "\n",
    "\n",
    "# 스타일 지정\n",
    "# # 폰트\n",
    "font = Font(name='NN30', size=10, color='FF000000')\n",
    "# 폰트 (데이터 부분)\n",
    "font_data = Font(name='NN30', size=10)\n",
    "# 배경색\n",
    "fill = PatternFill(fill_type='solid', start_color='FF0072C6', end_color='FF0072C6')\n",
    "# 테두리\n",
    "border = Border(left=Side(style='thin'), right=Side(style='thin'), top=Side(style='thin'), bottom=Side(style='thin'))\n",
    "# 정렬\n",
    "alignment = Alignment(horizontal='center', vertical='center')\n",
    "\n",
    "# 컬럼명 스타일 적용\n",
    "for cell in ws1[1]:\n",
    "    cell.font = Font(name='NN30', size=10, color='FFFFFF', bold=True)\n",
    "    cell.fill = fill\n",
    "    cell.border = border\n",
    "    cell.alignment = alignment\n",
    "\n",
    "# 데이터 부분 스타일 적용\n",
    "for row in ws1.iter_rows(min_row=2):\n",
    "    for cell in row:\n",
    "        # 숫자 데이터인 경우\n",
    "        if isinstance(cell.value, (int, float)):\n",
    "            cell.font = font_data\n",
    "            cell.number_format = '#,##0' if isinstance(cell.value, int) else '#,##0.00'\n",
    "            cell.alignment = Alignment(horizontal='right', vertical='center')\n",
    "        # 날짜 데이터인 경우\n",
    "        elif isinstance(cell.value, pd.Timestamp):\n",
    "            cell.font = font_data\n",
    "            cell.number_format = 'yyyy-mm-dd'\n",
    "            cell.alignment = alignment\n",
    "        # 나머지 문자열 데이터인 경우\n",
    "        else:\n",
    "            cell.font = font_data\n",
    "            cell.alignment = alignment\n",
    "        cell.border = border\n",
    "        \n",
    "# 열 너비 자동 조정(단, 영어와 숫자만 정확히 반영됨 (한글>영어))\n",
    "for column_cells in ws1.columns:\n",
    "    if re.search(\"원금|번호\", column_cells[0].value) : # 컬럼명에 따라\n",
    "        length = max(len(str(cell.value))+2 for cell in column_cells)\n",
    "        ws1.column_dimensions[column_cells[0].column_letter].width = length\n",
    "# 파일 저장\n",
    "wb.save('example.xlsx')\n"
   ]
  },
  {
   "cell_type": "code",
   "execution_count": null,
   "metadata": {},
   "outputs": [],
   "source": []
  },
  {
   "cell_type": "code",
   "execution_count": null,
   "metadata": {},
   "outputs": [],
   "source": []
  },
  {
   "attachments": {},
   "cell_type": "markdown",
   "metadata": {},
   "source": [
    "# 파일의 셀 서식을 유지하기 "
   ]
  },
  {
   "cell_type": "code",
   "execution_count": 34,
   "metadata": {},
   "outputs": [],
   "source": [
    "import pandas as pd\n",
    "import numpy as np\n",
    "import pickle\n",
    "import re, os\n",
    "from os.path import join\n",
    "from tqdm import tqdm\n",
    "from datetime import datetime\n",
    "from openpyxl import Workbook\n",
    "from openpyxl import load_workbook # 파일 불러옥\n",
    "from openpyxl.styles import NamedStyle\n",
    "from openpyxl.styles import Font, PatternFill, Alignment, Border, Side\n",
    "from openpyxl.styles.numbers import NumberFormat\n",
    "from openpyxl.utils.dataframe import dataframe_to_rows\n",
    "from copy import copy"
   ]
  },
  {
   "cell_type": "code",
   "execution_count": 137,
   "metadata": {},
   "outputs": [],
   "source": [
    "df = pd.DataFrame({\n",
    "    '키' : [\"12345678\", \"23456789\", \"34567890\"],\n",
    "    '이름': ['전병만', '호호호', '호호호'],\n",
    "    '번호': [121157498, 21654648455, 164567],\n",
    "    '학교': ['서울대학교', '한양대학교', '연세대학교'],\n",
    "    '등급': ['A', 'B', 'C'],\n",
    "    '국어': [95, 80, 70],\n",
    "    '영어': [80, 90, 75],\n",
    "    '수학': [90, 85, 60],\n",
    "    '과학': [0.1, 20, 18.63],\n",
    "    '등록일': ['2021-05-01', \"\", '2021-05-03']\n",
    "})"
   ]
  },
  {
   "cell_type": "code",
   "execution_count": 12,
   "metadata": {},
   "outputs": [],
   "source": [
    "wb = Workbook()\n",
    "ws1 = wb.active\n",
    "ws1.title = \"요약\"\n",
    "ws1.freeze_panes = 'A2'\n",
    "for r in dataframe_to_rows(df, index=False, header=True) : \n",
    "    ws1.append(r)\n",
    "wb.save(\"ex.xlsx\")\n"
   ]
  },
  {
   "cell_type": "code",
   "execution_count": 35,
   "metadata": {},
   "outputs": [],
   "source": [
    "# 서식 있는 엑셀파일을 열어서 데이터행 서식을 그대로 유지하기 \n",
    "# 엑셀 파일 열기\n",
    "wb = load_workbook('ex.xlsx', data_only=False)\n",
    "\n",
    "# 활성 시트 선택\n",
    "ws = wb.active\n",
    "ws.append([\"987654321\", \"가갸너\", 5486413188482,'김포대학교','D', 88,76,95,1.1,\"2022-03-21 13:36:56\"])\n",
    "\n",
    "# 데이터 행의 첫 번째 행의 서식 가져오기\n",
    "first_row_style = []\n",
    "for col in range(1, ws.max_column + 1):\n",
    "    cell = ws.cell(row=2, column=col)\n",
    "\n",
    "    font = copy(cell.font)\n",
    "    fill = copy(cell.fill)\n",
    "    alignment = copy(cell.alignment)\n",
    "    number_format = copy(cell.number_format)\n",
    "\n",
    "    style = NamedStyle(name=\"style_{0}\".format(col))\n",
    "    style.font = font\n",
    "    style.fill = fill\n",
    "    style.alignment = alignment\n",
    "    style.number_format = number_format\n",
    "    first_row_style.append(style)\n",
    "\n",
    "# 모든 데이터 행에 첫 번째 행의 서식 적용\n",
    "for row in range(3, ws.max_row + 1):\n",
    "    for col in range(1, ws.max_column + 1):\n",
    "        cell = ws.cell(row=row, column=col)\n",
    "        cell.style = first_row_style[col - 1]\n",
    "wb.save(\"ex1.xlsx\")"
   ]
  },
  {
   "cell_type": "code",
   "execution_count": 115,
   "metadata": {},
   "outputs": [
    {
     "name": "stdout",
     "output_type": "stream",
     "text": [
      "<class 'pandas.core.frame.DataFrame'>\n",
      "RangeIndex: 3 entries, 0 to 2\n",
      "Data columns (total 10 columns):\n",
      " #   Column  Non-Null Count  Dtype  \n",
      "---  ------  --------------  -----  \n",
      " 0   키       3 non-null      object \n",
      " 1   이름      3 non-null      object \n",
      " 2   번호      3 non-null      int64  \n",
      " 3   학교      3 non-null      object \n",
      " 4   등급      3 non-null      object \n",
      " 5   국어      3 non-null      int64  \n",
      " 6   영어      3 non-null      int64  \n",
      " 7   수학      3 non-null      int64  \n",
      " 8   과학      3 non-null      float64\n",
      " 9   등록일     3 non-null      object \n",
      "dtypes: float64(1), int64(4), object(5)\n",
      "memory usage: 368.0+ bytes\n"
     ]
    }
   ],
   "source": [
    "df.info()"
   ]
  }
 ],
 "metadata": {
  "kernelspec": {
   "display_name": "base",
   "language": "python",
   "name": "python3"
  },
  "language_info": {
   "codemirror_mode": {
    "name": "ipython",
    "version": 3
   },
   "file_extension": ".py",
   "mimetype": "text/x-python",
   "name": "python",
   "nbconvert_exporter": "python",
   "pygments_lexer": "ipython3",
   "version": "3.9.12"
  },
  "orig_nbformat": 4
 },
 "nbformat": 4,
 "nbformat_minor": 2
}
