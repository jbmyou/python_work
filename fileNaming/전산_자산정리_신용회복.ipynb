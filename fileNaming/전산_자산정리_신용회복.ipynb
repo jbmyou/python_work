{
 "cells": [
  {
   "cell_type": "markdown",
   "metadata": {},
   "source": [
    "### import\n",
    "- 다운자료의 날짜는 전일(기준일)로 한다!\n",
    "- 기준일 다음날 아침에 계좌별진행상황 다운받기, 틀린 계좌수정하기, 통합하기, 전산 올리기, 그 결과를 엑셀로 저장하기(기준일까지의 진행상황 반영하기)\n",
    "- 기준일 다음날 아침에 입금 다운받기, 통합하기, 전산 올리기, 그 결과를 엑셀로 저장하기(기준일까지의 진행상황 반영하기)"
   ]
  },
  {
   "cell_type": "code",
   "execution_count": 1,
   "metadata": {},
   "outputs": [],
   "source": [
    "import os, re, pickle\n",
    "import pandas as pd\n",
    "import numpy as np\n",
    "from os.path import join\n",
    "from tqdm import tqdm\n",
    "\n",
    "# dtype 정의 (사이트 파일은 읽지 말자. 할 게 너무 많음)\n",
    "nauri_dtype = {'채무자키' : str, '계좌키' : str, '보증인키':str, '신용회복키' : str, '심의차수' : str, '조정전이율' : str, '조정후이율' : str, '총상환기간' : str, '유예기간' : str, '원금균등상환기간' : str, '원리균등상환기간' : str, '이자상환기간' : str, '납입회차' : str, '연체기간' : str, '원금균등시작회차' : str, '원금균등종료회차' : str, '원리균등시작회차' : str, '원리균등종료회차' : str, '이자상환시작회차' : str, '이자상환종료회차' : str, '감면율' : str, '주채무자주민번호' : str, '시작회차1' : str, '종료회차1' : str, '채무조정1적용이율1' : str, '채무조정2적용이율1' : str, '시작회차2' : str, '종료회차2' : str, '채무조정1적용이율2' : str, '채무조정2적용이율2' : str, '시작회차3' : str, '종료회차3' : str, '채무조정1적용이율3' : str, '채무조정2적용이율3' : str, '시작회차4' : str, '종료회차4' : str, '채무조정1적용이율4' : str, '채무조정2적용이율4' : str, '시작회차5' : str, '종료회차5' : str, '채무조정1적용이율5' : str, '채무조정2적용이율5' : str, '시작회차6' : str, '종료회차6' : str, '채무조정1적용이율6' : str, '채무조정2적용이율6' : str, '시작회차7' : str, '종료회차7' : str, '채무조정1적용이율7' : str, '채무조정2적용이율7' : str, '시작회차8' : str, '종료회차8' : str, '채무조정1적용이율8' : str, '채무조정2적용이율8' : str, '시작회차9' : str, '종료회차9' : str, '채무조정1적용이율9' : str, '채무조정2적용이율9' : str, '시작회차10' : str, '종료회차10' : str, '채무조정1적용이율10' : str, '채무조정2적용이율10' : str, '재조정횟수' : str, '수정조정횟수' : str, '일시납감면율' : str, '거치기간' : str, '체증전구간의시작회차' : str, '체증전구간의종료회차' : str, '체증전구간의기준기간' : str, '변제금수취계좌' : str, '담보권실행유예기간':str\n",
    "}\n",
    "deposit_dtype = {} ####################################"
   ]
  },
  {
   "cell_type": "markdown",
   "metadata": {},
   "source": [
    "### 파일 읽기"
   ]
  },
  {
   "cell_type": "code",
   "execution_count": 2,
   "metadata": {},
   "outputs": [],
   "source": [
    "# 파일 읽기\n",
    "path_base = r\"D:\\3.자산\\신용회복\\신용회복 전체데이터\\계좌별 진행상황\"\n",
    "########################################################\n",
    "basedate = \"231010\"\n",
    "company = \"솔림\"\n",
    "########################################################\n",
    "sufix = \"_업로드결과\"\n",
    "\n",
    "# 입금 업로드 결과\n",
    "if company == \"솔림\" : \n",
    "    deposit_base = r\"D:\\3.자산\\신용회복\\솔림\\1.신용회복\\0.입금관련,담당자변경\\2023년\"\n",
    "    deposit_file = \"20\"+basedate +\"_신용회복입금_통합\" + sufix\n",
    "else : \n",
    "    deposit_base = r\"D:\\3.자산\\신용회복\\대성\\신용회복\\입금\"\n",
    "    deposit_file = \"대성 신용회복 입금_\"+basedate + sufix\n",
    "\n",
    "# 읽을 파일명\n",
    "filename_read = basedate + \"_계좌별 진행상황 조회_\" + company + sufix\n",
    "fullpath_read = join(path_base, filename_read+\".xlsx\")\n",
    "\n",
    "# 계좌별 진행상황 조회 파일 읽기\n",
    "raw_ori = pd.read_excel(fullpath_read, dtype=nauri_dtype).fillna(\"\")\n",
    "\n",
    "# 입금 파일 읽기\n",
    "deposit = pd.read_excel(join(deposit_base, deposit_file), dtype=deposit_dtype).fillna(\"\")"
   ]
  },
  {
   "cell_type": "code",
   "execution_count": 3,
   "metadata": {},
   "outputs": [],
   "source": [
    "# 재시작 위해 복사본 만들기\n",
    "raw = raw_ori.copy()\n",
    "\n",
    "# 불필요한 열 삭제\n",
    "raw.drop(columns=[\"채무자명\",\"채무상태\", \"현재채권구분\",\"등록파일\",\"수정파일\", \"삭제여부\",\"등록일자\",\"등록유저\",\"수정일자\",\"수정유저\",\"확인결과\",\"저장결과\"], axis=1, inplace=True)\n",
    "\n",
    "# 새로운 열을 추가 : insert 여러번 쓰니 성능 경고나와서\n",
    "진행구분 = pd.Series([None] * len(raw), name='진행구분')\n",
    "반영OPB = pd.Series([None] * len(raw), name='반영OPB')\n",
    "상환구분 = pd.Series([None] * len(raw), name='상환구분')\n",
    "\n",
    "position = 4\n",
    "raw = pd.concat([raw.iloc[:, :position], 진행구분, 반영OPB, 상환구분, raw.iloc[:, position:]], axis=1)\n",
    "\n",
    "# 전산미등록건 처리 (강민경)\n",
    "미등록주민번호 = ['771027-2221231']\n",
    "cond = raw['신청인주민번호'].isin(미등록주민번호)\n",
    "raw.loc[cond, '채무자키'] = '전산미등록건'\n",
    "raw.loc[cond, '계좌키'] = '전산미등록건'"
   ]
  },
  {
   "cell_type": "markdown",
   "metadata": {},
   "source": [
    "### 진행구분, 반영OPB, 상환구분 작성"
   ]
  },
  {
   "cell_type": "code",
   "execution_count": 4,
   "metadata": {},
   "outputs": [],
   "source": [
    "# 진행구분열 작성-------------------------------\n",
    "x = raw.신청인진행상태\n",
    "y = raw.계좌진행상태내용\n",
    "z = raw.계좌번호\n",
    "\n",
    "conds = [\n",
    "    (x == '정상이행') & (y == '채무조정포함'),\n",
    "    (y == \"채무조정제외\"),\n",
    "    (x.str.contains(r\"완제|상환\") | y.str.contains(r\"완제|상환\") | z.str.contains(r\"완제|상환\")),\n",
    "    (z == \"채권신고전\"),\n",
    "    (x.str.contains(r\"심사반송|중도실효|합의서체결포기\")),\n",
    "]\n",
    "values = [\"확정\", \"채무조정제외\",\"완제\",\"채권신고전\",\"실효\"]\n",
    "default_value = \"미확정\"\n",
    "\n",
    "raw[\"진행구분\"] = np.select(conds, values, default_value)\n",
    "\n",
    "# 반영OPB - 확정미확정 건-------------------------------\n",
    "x = raw.진행구분\n",
    "# 확정시 우선순위\n",
    "a = raw.상환후잔액\n",
    "b = raw.원금균등채무액\n",
    "c= raw.조정후원금\n",
    "d = raw.조정전원금\n",
    "\n",
    "conds = [(x == \"미확정\"), (x ==\"확정\")&(a!=0), b!=0, c!=0, d!=0]\n",
    "\n",
    "# 조건에 따라 값을 설정\n",
    "values = [d, a, b, c, d]\n",
    "\n",
    "# 기본값 설정\n",
    "default_value = \"오류\"\n",
    "\n",
    "# 반영OPB 열 설정\n",
    "raw[\"반영OPB\"] = np.select(conds, values, default_value)\n",
    "\n",
    "# 오류건체크 : a,b,c,d 어떤 조건도 만족하지 못한경우\n",
    "반영OPB오류 = raw[raw.반영OPB == \"오류\"]\n",
    "print(f\"반영OPB오류건 : {len(반영OPB오류)}\")\n",
    "if len(반영OPB오류) > 0 : display(반영OPB오류)\n",
    "\n",
    "\n",
    "# 상환구분 작성 - 확정미확정 건-------------------------------\n",
    "x = raw.감면방식\n",
    "\n",
    "conds = [x==\"원금균등\", x==\"\"]\n",
    "\n",
    "# 조건에 따라 값을 설정\n",
    "values = [\"프리\", \"\"]\n",
    "\n",
    "# 기본값 설정\n",
    "default_value = \"개인\"\n",
    "\n",
    "# 반영OPB 열 설정\n",
    "raw[\"상환구분\"] = np.select(conds, values, default_value)"
   ]
  },
  {
   "cell_type": "code",
   "execution_count": null,
   "metadata": {},
   "outputs": [],
   "source": []
  },
  {
   "cell_type": "markdown",
   "metadata": {},
   "source": [
    "### 시트작성 및 체크"
   ]
  },
  {
   "cell_type": "code",
   "execution_count": 5,
   "metadata": {},
   "outputs": [],
   "source": [
    "# 최종 시트\n",
    "최종 = raw.query('진행구분 in [\"확정\",\"미확정\",\"실효\",\"완제\"]').copy()\n",
    "확정미확정 = raw.query('진행구분 in [\"확정\", \"미확정\"]').copy()\n",
    "\n",
    "# 전산미등록건 제외\n",
    "최종.drop(최종[최종.채무자키=='전산미등록건'].index, inplace=True)\n",
    "확정미확정.drop(확정미확정[확정미확정.채무자키=='전산미등록건'].index, inplace=True)\n",
    "\n",
    "# 순번열 넣기\n",
    "raw.insert(0, \"순번\", range(1,len(raw)+1))\n",
    "최종.insert(0, \"순번\", range(1,len(최종)+1))\n",
    "확정미확정.insert(0, \"순번\", range(1,len(확정미확정)+1))"
   ]
  },
  {
   "cell_type": "code",
   "execution_count": 11,
   "metadata": {},
   "outputs": [
    {
     "name": "stdout",
     "output_type": "stream",
     "text": [
      "전체 : 18722, 최종 : 18449, 확정미확정 : 14387\n",
      "최종에서 키 없는 행 수 : 73, 확정미확정에서 키없 는 행 수 : 1\n"
     ]
    },
    {
     "data": {
      "text/html": [
       "<div>\n",
       "<style scoped>\n",
       "    .dataframe tbody tr th:only-of-type {\n",
       "        vertical-align: middle;\n",
       "    }\n",
       "\n",
       "    .dataframe tbody tr th {\n",
       "        vertical-align: top;\n",
       "    }\n",
       "\n",
       "    .dataframe thead th {\n",
       "        text-align: right;\n",
       "    }\n",
       "</style>\n",
       "<table border=\"1\" class=\"dataframe\">\n",
       "  <thead>\n",
       "    <tr style=\"text-align: right;\">\n",
       "      <th></th>\n",
       "      <th>순번</th>\n",
       "      <th>채무자키</th>\n",
       "      <th>계좌키</th>\n",
       "      <th>보증인키</th>\n",
       "      <th>신용회복키</th>\n",
       "      <th>진행구분</th>\n",
       "      <th>반영OPB</th>\n",
       "      <th>감면구분</th>\n",
       "      <th>신청인명</th>\n",
       "      <th>신청인주민번호</th>\n",
       "      <th>...</th>\n",
       "      <th>체증전구간의종료회차</th>\n",
       "      <th>체증전구간의기준기간</th>\n",
       "      <th>변제금수취계좌</th>\n",
       "      <th>담보권실행유예기간</th>\n",
       "      <th>특별면책</th>\n",
       "      <th>특별상환유예</th>\n",
       "      <th>특례지원</th>\n",
       "      <th>이자율재조정</th>\n",
       "      <th>재난상환유예</th>\n",
       "      <th>거치이자납입유예</th>\n",
       "    </tr>\n",
       "  </thead>\n",
       "  <tbody>\n",
       "    <tr>\n",
       "      <th>1156</th>\n",
       "      <td>276</td>\n",
       "      <td></td>\n",
       "      <td></td>\n",
       "      <td></td>\n",
       "      <td></td>\n",
       "      <td>미확정</td>\n",
       "      <td>5308104.0</td>\n",
       "      <td></td>\n",
       "      <td>이상일</td>\n",
       "      <td>620726-1080113</td>\n",
       "      <td>...</td>\n",
       "      <td>0</td>\n",
       "      <td>0</td>\n",
       "      <td></td>\n",
       "      <td>0</td>\n",
       "      <td>N</td>\n",
       "      <td></td>\n",
       "      <td>N</td>\n",
       "      <td>N</td>\n",
       "      <td>N</td>\n",
       "      <td>N</td>\n",
       "    </tr>\n",
       "  </tbody>\n",
       "</table>\n",
       "<p>1 rows × 159 columns</p>\n",
       "</div>"
      ],
      "text/plain": [
       "       순번 채무자키 계좌키 보증인키 신용회복키 진행구분      반영OPB 감면구분 신청인명         신청인주민번호  ...  \\\n",
       "1156  276                      미확정  5308104.0       이상일  620726-1080113  ...   \n",
       "\n",
       "     체증전구간의종료회차 체증전구간의기준기간 변제금수취계좌 담보권실행유예기간 특별면책 특별상환유예 특례지원 이자율재조정 재난상환유예  \\\n",
       "1156          0          0                 0    N           N      N      N   \n",
       "\n",
       "     거치이자납입유예  \n",
       "1156        N  \n",
       "\n",
       "[1 rows x 159 columns]"
      ]
     },
     "metadata": {},
     "output_type": "display_data"
    }
   ],
   "source": [
    "# 체크\n",
    "최종키오류 = 최종.query('채무자키==\"\" or 계좌키==\"\"')\n",
    "확정미확정키오류 = 확정미확정.query('채무자키==\"\" or 계좌키==\"\"')\n",
    "print(f\"전체 : {len(raw)}, 최종 : {len(최종)}, 확정미확정 : {len(확정미확정)}\")\n",
    "print(f\"최종에서 키 없는 행 수 : {len(최종키오류)}, 확정미확정에서 키없 는 행 수 : {len(확정미확정키오류)}\")\n",
    "if len(확정미확정키오류)>0 :\n",
    "    display(확정미확정키오류)\n",
    "else : print(\"키오류 없음\")"
   ]
  },
  {
   "cell_type": "markdown",
   "metadata": {},
   "source": [
    "### 파일 저장"
   ]
  },
  {
   "cell_type": "code",
   "execution_count": 9,
   "metadata": {},
   "outputs": [],
   "source": [
    "# 저장\n",
    "# 기준데이터 저장 경로\n",
    "filename_write = basedate+\"_신용회복_기준데이터_\"+company\n",
    "fullpath_result = join(os.path.dirname(path_base), filename_write+\".xlsx\")\n",
    "\n",
    "\n",
    "# 엑셀 파일로 저장\n",
    "if not os.path.exists(fullpath_result):\n",
    "    param = {'mode' : 'w'}\n",
    "else : \n",
    "    param = {'mode' : 'a', 'if_sheet_exists' : 'replace'}\n",
    "\n",
    "with pd.ExcelWriter(fullpath_result, engine='openpyxl', **param) as writer :\n",
    "    raw.to_excel(writer, sheet_name='원본', index=False)\n",
    "    최종.to_excel(writer, sheet_name='최종', index=False)\n",
    "    확정미확정.to_excel(writer, sheet_name='확정,미확정', index=False)"
   ]
  }
 ],
 "metadata": {
  "kernelspec": {
   "display_name": "base",
   "language": "python",
   "name": "python3"
  },
  "language_info": {
   "codemirror_mode": {
    "name": "ipython",
    "version": 3
   },
   "file_extension": ".py",
   "mimetype": "text/x-python",
   "name": "python",
   "nbconvert_exporter": "python",
   "pygments_lexer": "ipython3",
   "version": "3.9.13"
  }
 },
 "nbformat": 4,
 "nbformat_minor": 2
}
