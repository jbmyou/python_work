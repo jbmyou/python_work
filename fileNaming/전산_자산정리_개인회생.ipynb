{
 "cells": [
  {
   "attachments": {},
   "cell_type": "markdown",
   "metadata": {},
   "source": [
    "##### import"
   ]
  },
  {
   "cell_type": "code",
   "execution_count": 6,
   "metadata": {},
   "outputs": [],
   "source": [
    "import os, re, pickle\n",
    "import pandas as pd\n",
    "import numpy as np\n",
    "from os.path import join"
   ]
  },
  {
   "attachments": {},
   "cell_type": "markdown",
   "metadata": {},
   "source": [
    "##### 전산조회 전"
   ]
  },
  {
   "cell_type": "code",
   "execution_count": 7,
   "metadata": {},
   "outputs": [
    {
     "name": "stderr",
     "output_type": "stream",
     "text": [
      "c:\\Users\\SL\\anaconda3\\lib\\site-packages\\openpyxl\\styles\\stylesheet.py:226: UserWarning: Workbook contains no default style, apply openpyxl's default\n",
      "  warn(\"Workbook contains no default style, apply openpyxl's default\")\n"
     ]
    }
   ],
   "source": [
    "# 파일 읽기\n",
    "########################################################\n",
    "path_dataset = r\"D:\\3.자산\\전산 dataset\\솔림\\230630\"\n",
    "name_dataset = \"개인회생새창_20230630_2328\"\n",
    "previous = pd.read_excel(r\"D:\\3.자산\\전산 dataset\\솔림\\230621\\개인회생새창_20230621_0921_기준데이터.xlsx\", sheet_name=\"개인회생(전체)\", dtype={'채무자키':str, '분납키':str, '계좌키':str})\n",
    "########################################################\n",
    "path_raw_data = join(path_dataset, name_dataset+\".xlsx\")\n",
    "raw_data = pd.read_excel(path_raw_data, dtype={'채무자키':str, '분납키':str, '계좌키':str}).fillna(\"\")\n",
    "\n",
    "# 종료 제외하기(경로에 '대성'있는지 여부 체크)##################\n",
    "# 원데이터 만들 때 종결건 더 꼼꼼하게 보기 때문에 여기서는 일단 종결,환매,매각,회계파산만(원데이터와 상이한 결과일 경우 체크리스트로 빼기 위함)\n",
    "if path_dataset.find(\"대성\") < 0 : # 솔림\n",
    "    raw_data = raw_data[~(raw_data.채무상태.str.match(\"종결|환매|매각\")|raw_data.담당자.str.match(\"종결|매각|매각예정|회계파산|DS|환매\"))]\n",
    "else : # 대성\n",
    "    raw_data = raw_data[~(raw_data.채무상태.str.match(\"종결|환매|매각\")|raw_data.담당자.str.match(\"종결|매각|환매|파산|회계파산\"))]\n",
    "\n",
    "\n",
    "\n",
    "# 컬럼 순서 바꾸기, 인트를 문자열로(타입때메 종료제거보다 나중에 나와야)\n",
    "col_order = [0,6,1,2,3,4,5,70,38,45,7,8,9,10,11,12,13,14,15,16,17,18,19,20,21,22,23,24,25,26,27,28,29,30,31,32,33,34,35,36,37,39,40,41,42,43,44,46,47,48,49,50,51,52,53,54,55,56,57,58,59,60,61,62,63,64,65,66,67,68,69,71,72,73,74,75,76,77,78,79,80,81,82,83,84,85,86,87,88,89,90,91,92,93,94,95,96,97,98,99,100,101,102,103,104,105,106,107,108,109,110,111,112,113,114,115,116,117,118,119,120,121,122,123,124,125,126,127,128,129,130,131,132,133,134,135,136,137,138,139,140,141,142,143,144,145,146,147,148,149,150,151,152,153,154,155,156,157,158,159,160,161,162,163,164,165,166,167,168,169,170,171,172,173,174,175,176,177,178,179,180,181,182,183,184,185,186,187,188,189,190,191,192,193,194,195,196,197,198,199,200,201,202,203,204,205,206]\n",
    "raw_data = raw_data.iloc[:,col_order]\n",
    "\n",
    "\n",
    "# 인가/미인가\n",
    "인가미인가 = []\n",
    "for i, v in raw_data[[\"현재결과\", \"분납키\", \"총분납잔금\", \"현재원금\"]].iterrows() :\n",
    "    result, opb = \"\", 0\n",
    "    if v.현재결과 == \"인가\" : result = \"인가\"\n",
    "    elif (v.현재결과 == \"개시\") or (v.현재결과 == \"금지\") : result = \"미인가\"\n",
    "    elif (v.현재결과==\"폐지취소결정\") or (v.현재결과==\"폐지취소결정송달\") : \n",
    "        temp = previous.query('분납키==@v.분납키')[\"인가/미인가\"].values\n",
    "        if len(temp) == 1 : result = temp[0]\n",
    "        else : result = \"#N/A\"\n",
    "    else : result = \"기타\"\n",
    "\n",
    "    인가미인가.append(result)\n",
    "\n",
    "\n",
    "raw_data.insert(7, \"인가/미인가\", 인가미인가)\n",
    "raw_data.insert(11, \"반영OPB\", None)\n",
    "\n",
    "\n",
    "# 엑셀 파일로 저장\n",
    "path_result = join(path_dataset, name_dataset+\"_기준데이터.xlsx\")\n",
    "if not os.path.exists(path_result):\n",
    "    with pd.ExcelWriter(path_result, mode='w', engine='openpyxl') as writer:\n",
    "        raw_data.to_excel(writer, sheet_name='개인회생(전체)', index=False)\n",
    "else : \n",
    "    with pd.ExcelWriter(path_result, engine='openpyxl', mode = 'a', if_sheet_exists = 'replace') as writer :\n",
    "        raw_data.to_excel(writer, sheet_name='개인회생(전체)', index=False)"
   ]
  },
  {
   "attachments": {},
   "cell_type": "markdown",
   "metadata": {},
   "source": [
    "##### 전산조회 할 거 작업 후\n",
    "- 분납상태-[진행] & \n",
    "- 현재결과-[폐지취소결정, 폐지취소결정송달, 빈셀] & \n",
    "- 인가/미인가-[기타, #N/A] 즉 인가/미인가가 아닌 거"
   ]
  },
  {
   "cell_type": "code",
   "execution_count": 8,
   "metadata": {},
   "outputs": [],
   "source": [
    "# 완성된 전체 다시 읽기\n",
    "all_df = pd.read_excel(path_result, sheet_name=\"개인회생(전체)\", dtype={'채무자키':str, '분납키':str, '계좌키':str})\n",
    "\n",
    "# raw_data[\"계좌키\"] = raw_data.분납키.apply(str) # 계좌키는 여러건 입력된 거 때문에 애초에 object타입이다.\n",
    "\n",
    "# OPB\n",
    "all_df['반영OPB'] = np.where(all_df['인가/미인가'] == '인가', all_df[\"총분납잔금\"] , all_df[\"현재원금\"])\n",
    "\n",
    "# 진행중 \n",
    "ing_df = all_df[(all_df[\"인가/미인가\"] != \"기타\") & (all_df[\"분납상태\"] !=\"중단\")]\n",
    "\n",
    "\n",
    "###### 신복과 충돌하는 거 제거하기 #################\n",
    "if path_dataset.find(\"대성\") < 0 : # 솔림\n",
    "    개회제외 = {\"채무자\" : [\"20462830\"], \"보증인\" : [] } # 20462830 중복입금건. 신복이 기간이 더 남아서 신복으로 처리하기로 함\n",
    "else : # 대성\n",
    "    개회제외 = {\"채무자\" : [], \"보증인\" : [] } # \n",
    "##################################################\n",
    "if len(개회제외[\"채무자\"]) > 0 : ing_df = ing_df[~(ing_df['채무자키'].isin(개회제외[\"채무자\"]) & (ing_df['분납자관계'] == '채무자'))]\n",
    "if len(개회제외[\"보증인\"]) > 0 : ing_df = ing_df[~(ing_df['채무자키'].isin(개회제외[\"보증인\"]) & (ing_df['분납자관계'] == '보증인'))]\n",
    "\n",
    "\n",
    "# 채무자, 보증인\n",
    "debt_ing = ing_df[ing_df[\"분납자관계\"]==\"채무자\"]\n",
    "grt_ing = ing_df[ing_df[\"분납자관계\"]==\"보증인\"]\n",
    "\n",
    "# 저장\n",
    "with pd.ExcelWriter(join(path_dataset, name_dataset+\"_기준데이터.xlsx\"), engine='openpyxl', mode = 'a', if_sheet_exists = 'replace') as writer :\n",
    "    ing_df.to_excel(writer, sheet_name='개인회생(진행)', index=False)\n",
    "    debt_ing.to_excel(writer, sheet_name='개인회생(진행)_채무자', index=False)\n",
    "    grt_ing.to_excel(writer, sheet_name='개인회생(진행)_보증인', index=False)\n",
    "    all_df.to_excel(writer, sheet_name='개인회생(전체)', index=False)"
   ]
  },
  {
   "attachments": {},
   "cell_type": "markdown",
   "metadata": {},
   "source": [
    "##### 계좌키 나누고 새로운 파일 저장"
   ]
  },
  {
   "cell_type": "code",
   "execution_count": 9,
   "metadata": {},
   "outputs": [
    {
     "name": "stderr",
     "output_type": "stream",
     "text": [
      "C:\\Users\\SL\\AppData\\Local\\Temp\\ipykernel_30564\\3991412458.py:30: FutureWarning: save is not part of the public API, usage can give unexpected results and will be removed in a future version\n",
      "  writer.save()\n",
      "c:\\Users\\SL\\anaconda3\\lib\\site-packages\\xlsxwriter\\workbook.py:339: UserWarning: Calling close() on already closed file.\n",
      "  warn(\"Calling close() on already closed file.\")\n"
     ]
    }
   ],
   "source": [
    "# 개인회생 계좌 나누기\n",
    "\n",
    "# path_dataset = r\"D:\\3.자산\\전산 dataset\\230430(0501)\"\n",
    "# name_dataset = \"개인회생새창_20230502_0850_기준데이터\"\n",
    "# ing_df = pd.read_excel(join(path_dataset, name_dataset+\".xlsx\"), sheet_name=\"개인회생(진행)\", dtype={'채무자키':str, '분납키':str, '계좌키':str})\n",
    "\n",
    "split_ing_df = ing_df.copy()\n",
    "split_ing_df[\"비고\"] = \"\"\n",
    "new_rows = []\n",
    "for index, row in split_ing_df.iterrows():\n",
    "    account_keys = row['계좌키'].split(',')\n",
    "    first_account_key = account_keys.pop(0)\n",
    "    split_ing_df.loc[index, '계좌키'] = first_account_key # 여러 계좌키를 첫번째 계좌키로 값 수정\n",
    "\n",
    "    for account_key in account_keys:\n",
    "        new_row = row.copy() # 일단 모든 칼럼 복사\n",
    "        new_row['계좌키'] = account_key\n",
    "        new_row['반영OPB'],new_row['OPB'], new_row['총분납금'],new_row['총분납입금'],new_row['분납미납금'],new_row['분납잔금'],new_row['총분납잔금'] = 0,0,0,0,0,0,0 # 값 안 가져올 컬림은 빈문자열로 대체\n",
    "        new_row[\"비고\"] = first_account_key + \"와 단일건\" # 비고\n",
    "        new_rows.append(new_row)\n",
    "        \n",
    "\n",
    "temp = pd.DataFrame(new_rows)\n",
    "\n",
    "result = pd.concat([split_ing_df, temp], ignore_index=True)\n",
    "\n",
    "# 저장\n",
    "writer = pd.ExcelWriter(join(path_dataset, name_dataset+\"_진행중_계좌키분리_기준데이터.xlsx\"))\n",
    "result.to_excel(writer, sheet_name=\"개인회생(진행)\", index=False)\n",
    "writer.save()\n",
    "writer.close()\n"
   ]
  }
 ],
 "metadata": {
  "kernelspec": {
   "display_name": "base",
   "language": "python",
   "name": "python3"
  },
  "language_info": {
   "codemirror_mode": {
    "name": "ipython",
    "version": 3
   },
   "file_extension": ".py",
   "mimetype": "text/x-python",
   "name": "python",
   "nbconvert_exporter": "python",
   "pygments_lexer": "ipython3",
   "version": "3.9.13"
  },
  "orig_nbformat": 4
 },
 "nbformat": 4,
 "nbformat_minor": 2
}
