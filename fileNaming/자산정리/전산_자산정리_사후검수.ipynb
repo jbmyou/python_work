{
 "cells": [
  {
   "cell_type": "markdown",
   "metadata": {},
   "source": [
    "### import"
   ]
  },
  {
   "cell_type": "code",
   "execution_count": 1,
   "metadata": {},
   "outputs": [],
   "source": [
    "import pandas as pd\n",
    "import numpy as np\n",
    "from os.path import join\n",
    "from tqdm import tqdm\n",
    "from datetime import datetime, timedelta\n",
    "import os, re, pickle\n",
    "from dateutil.relativedelta import relativedelta\n",
    "from openpyxl import Workbook\n",
    "from openpyxl import load_workbook\n",
    "from openpyxl.styles import NamedStyle, Font, Border, Side\n",
    "from openpyxl.utils.dataframe import dataframe_to_rows\n",
    "import warnings\n",
    "warnings.simplefilter(\"ignore\")\n",
    "\n",
    "##################################\n",
    "company = \"솔림\"      # 솔림 or 대성\n",
    "basedate = \"240731\" \n",
    "새채무자키사용 = True\n",
    "##################################\n",
    "dir = join(r\"D:\\3.자산\\전산 dataset\", company, basedate)\n",
    "\n",
    "원데이터파일명 = {\"개회차주\" : \"2.\"+ company +\"_개인회생_원데이터_차주\"+basedate, \n",
    "                \"개회보증인\" : \"2.\"+ company +\"_개인회생_원데이터_보증인\"+basedate, \n",
    "                \"신복차주\" : \"2.\"+ company +\"_신용회복_원데이터_차주\"+basedate, \n",
    "                \"신복보증인\" : \"2.\"+ company +\"_신용회복_원데이터_보증인\"+basedate, \n",
    "                \"전체\" : \"2.\"+ company +\"_전체_원데이터_\"+basedate}\n",
    "\n",
    "if 새채무자키사용 : \n",
    "    raw_data = pd.read_pickle(join(dir, \"pkl\", 원데이터파일명[\"전체\"]+\"_by새채무자키.pkl\"))\n",
    "else : \n",
    "    raw_data = pd.read_pickle(join(dir, \"pkl\", 원데이터파일명[\"전체\"]+\".pkl\"))\n",
    "\n",
    "def save_df_to_excel_underline(df, fullpath, key_columns_no=1, font_size=9):\n",
    "    \"\"\"키값의 열번호를 작성하면 키값이 달라질때마다 밑줄 그어줌(a열이 1번), 필요없으면 0입력\"\"\"\n",
    "    # DataFrame을 엑셀 파일로 저장\n",
    "    df.to_excel(fullpath, index=False, sheet_name='Sheet1')\n",
    "\n",
    "    # 엑셀 파일 열기\n",
    "    workbook = load_workbook(fullpath)\n",
    "    sheet = workbook['Sheet1']\n",
    "    \n",
    "    # 날짜 포맷 스타일 정의\n",
    "    date_style = NamedStyle(name='date_style', number_format='yyyy-mm-dd')\n",
    "    \n",
    "    # 날짜 타입인 열에 대해 형식 적용\n",
    "    for column in df.select_dtypes(include=['datetime64']).columns:\n",
    "        col_idx = df.columns.get_loc(column) + 1  # Excel은 1-based index\n",
    "        for row in range(2, sheet.max_row + 1):  # 데이터가 2번째 행부터 시작\n",
    "            cell = sheet.cell(row=row, column=col_idx)\n",
    "            cell.style = date_style\n",
    "\n",
    "    # 글씨 크기 변경 (폰트 설정)\n",
    "    font = Font(size=font_size)\n",
    "    \n",
    "    # 모든 셀에 대해 글씨 크기 설정\n",
    "    for row in sheet.iter_rows(min_row=1, max_row=sheet.max_row, min_col=1, max_col=sheet.max_column):\n",
    "        for cell in row:\n",
    "            cell.font = font\n",
    "        \n",
    "    # '주민등록번호' 열의 값이 달라질 때마다 밑줄 추가\n",
    "    if key_columns_no > 0 : \n",
    "        underline_border = Border(bottom=Side(style='thin'))\n",
    "        prev_value = None\n",
    "                \n",
    "        for row in range(2, sheet.max_row + 1):\n",
    "            current_value = sheet.cell(row=row, column=key_columns_no).value  \n",
    "            if prev_value is not None and current_value != prev_value:\n",
    "                for col in range(1, sheet.max_column + 1):\n",
    "                    sheet.cell(row=row-1, column=col).border = underline_border\n",
    "            prev_value = current_value        \n",
    "    \n",
    "\n",
    "    # 엑셀 파일 저장\n",
    "    workbook.save(fullpath)\n",
    "    \n",
    "def 파일명(폴더:str, 키워드:str) :\n",
    "    file_list = os.listdir(폴더)\n",
    "    account_filename = [file for file in file_list if re.search(키워드, file)]\n",
    "    if len(account_filename) == 1 :\n",
    "        return join(폴더,account_filename[0])\n",
    "    else :\n",
    "        print(\"해당 키워드가 들어간 파일이 하나가 아닙니다.\")\n",
    "    "
   ]
  },
  {
   "cell_type": "markdown",
   "metadata": {},
   "source": [
    "### 종결건 제거"
   ]
  },
  {
   "cell_type": "code",
   "execution_count": 2,
   "metadata": {},
   "outputs": [],
   "source": [
    "미종결건 = raw_data.query('~새채무상태.str.match(\"종료\")')"
   ]
  },
  {
   "cell_type": "markdown",
   "metadata": {},
   "source": [
    "### 상태 및 담당자 다건"
   ]
  },
  {
   "cell_type": "code",
   "execution_count": 44,
   "metadata": {},
   "outputs": [],
   "source": [
    "다건cols = [\"주민등록번호\",\"새채무자키\",\"채무자키\",\"계좌키\", \"새채무상태\",\"채무상태\",\"담당자\",\"매각사구분\",\"원채권사\",\"채권구분\",\"메모\"]"
   ]
  },
  {
   "cell_type": "code",
   "execution_count": 26,
   "metadata": {},
   "outputs": [],
   "source": [
    "주민번호그룹 = 미종결건.sort_values(by=['주민등록번호','채무자키','계좌키']).reset_index(drop=True).groupby(by=['주민등록번호'])\n",
    "다건cols = [\"주민등록번호\",\"새채무자키\",\"채무자키\",\"계좌키\", \"새채무상태\",\"채무상태\",\"담당자\",\"채권구분\",\"메모\"]\n",
    "\n",
    "새채무상태다건 = 주민번호그룹.filter(lambda x: x.새채무상태.nunique()>1)[다건cols]\n",
    "채무상태다건 = 주민번호그룹.filter(lambda x: x.채무상태.nunique() > 1)[다건cols]\n",
    "담당자다건 = 주민번호그룹.filter(lambda x: x.담당자.nunique() > 1)[다건cols]\n",
    "\n",
    "if not os.path.exists(join(dir,\"check\")) : \n",
    "    os.mkdir(join(dir,\"check\"))\n",
    "\n",
    "save_df_to_excel_underline(새채무상태다건, join(dir, \"check\", basedate+\"_[check]새채무상태다건.xlsx\"))\n",
    "save_df_to_excel_underline(채무상태다건, join(dir, \"check\", basedate+\"_[check]채무상태다건.xlsx\"))\n",
    "save_df_to_excel_underline(담당자다건, join(dir, \"check\", basedate+\"_[check]담당자다건.xlsx\"))"
   ]
  },
  {
   "cell_type": "markdown",
   "metadata": {},
   "source": [
    "### 새채무상태 vs 채무상태 : 조정절차관련"
   ]
  },
  {
   "cell_type": "code",
   "execution_count": 49,
   "metadata": {},
   "outputs": [],
   "source": [
    "# 조정채권 아닌 경우는 어차피 채무상태와 담당자를 바탕으로 새채무상태를 정하므로 실사가 필요.\n",
    "# 파산, 사망 데이터 확보하면 코드 보완\n",
    "x1 = 미종결건.새채무상태\n",
    "x2 = 미종결건.채무상태\n",
    "미종결건[\"상태합\"] = 미종결건.새채무상태 + 미종결건.채무상태\n",
    "\n",
    "# 일치조건\n",
    "개회확정조건 = (x1==\"개인회생(확정)\")&(x2==\"개인회생(확정)\")\n",
    "개회진행조건 = (x1==\"개인회생(진행중)\")&(x2==\"개인회생(진행중)\")\n",
    "신용회복진행중조건 = (x1==\"신용회복(진행중)\")&((x2==\"신용회복(진행중)\")|(x2==\"신용회복(확정)\")|(x2==\"신용회복(개인)\")|(x2==\"신용회복(프리)\")) # 기존 확정자의 재조정절차는 굳이 수정하지 않는다.\n",
    "신용회복개인조건 = (x1==\"신용회복(개인)\")&((x2==\"신용회복(개인)\")|(x2==\"신용회복(확정)\"))\n",
    "신용회복프리조건 = (x1==\"신용회복(프리)\")&((x2==\"신용회복(프리)\")|(x2==\"신용회복(확정)\"))\n",
    "\n",
    "조정채권상태값일치조건 = (개회확정조건|개회진행조건|신용회복진행중조건|신용회복개인조건|신용회복프리조건)\n",
    "\n",
    "조정채권이면수정 = 미종결건[~조정채권상태값일치조건]\n",
    "\n",
    "# 일치조건 뺐으면 이제 조정상태값은 없어야 함. 그런데 새채무상태나 채무상태에 조정값이 발견되는 경우는 수정대상\n",
    "조정상태값불일치 = 조정채권이면수정[조정채권이면수정.상태합.str.contains(\"개인회생|신용회복\")][다건cols+[\"보증인상태\"]]\n",
    "\n",
    "# 중복 제거 : 상태값까지 완전히 중복일때\n",
    "조정상태값불일치 = 조정상태값불일치.drop_duplicates(subset=['채무자키','새채무상태','채무상태'])\n",
    "\n",
    "save_df_to_excel_underline(조정상태값불일치, join(dir, \"check\", basedate+\"_[check]조정상태값불일치.xlsx\"), 0)"
   ]
  },
  {
   "cell_type": "markdown",
   "metadata": {},
   "source": [
    "### 정상채무자 있는데 미배정건\n",
    "- 채무상태, 보증인상태 정비 후, 차주와 보증인을 대등한 채무자로 놓고"
   ]
  },
  {
   "cell_type": "code",
   "execution_count": 3,
   "metadata": {},
   "outputs": [],
   "source": [
    "# 담당자 배정은 채무자키 단위로 진행\n",
    "# 1) 정상보증인 있으면 가능(보증인 불가건은 제외함)\n",
    "if 새채무자키사용 :\n",
    "    x = 미종결건[\"새보증인상태by새채무자키\"]\n",
    "else : \n",
    "    x = 미종결건[\"새보증인상태\"]\n",
    "\n",
    "# 2) 차주정상(추심가능)\n",
    "차주신용회복cond = (미종결건.새채무상태.str.contains(\"신용회복\") & ~미종결건.새채무상태.str.contains(\"누락\"))\n",
    "차주정상cond = ((미종결건.새채무상태==\"개인\")|(미종결건.새채무상태==\"시효\")) # 보증인정상, 상각, 종결처리요망은 pass\n",
    "보증인정상cond = x.str.contains(\"정상|누락|폐지|실효\")\n",
    "conds = [차주신용회복cond, 차주정상cond, 보증인정상cond]\n",
    "values = [\"불가\", \"가능\", \"가능\"]\n",
    "default_value = \"불가\"\n",
    "미종결건[\"추심가능여부\"] = np.select(conds, values, default_value)\n",
    "\n",
    "정상채무자cols = [\"주민등록번호\",\"새채무자키\",\"채무자키\",\"계좌키\", \"새채무상태\",\"채무상태\",\"담당자\",\"보증인상태\",\"새보증인상태\",\"매각사구분\",\"원채권사\",\"메모\"] # 새채무자키는 일부러 뺌\n",
    "정상채무자 = 미종결건.query('추심가능여부==\"가능\"')[정상채무자cols]\n",
    "정상채무자 = 정상채무자.sort_values([\"주민등록번호\",\"새채무자키\",\"채무자키\"])\n",
    "\n",
    "\n",
    "# 담당자파일 읽기                                   #############################\n",
    "path_담당자 = join(r\"D:\\3.자산\\기타 업무\\담당자변경\", \"사원_20240814_1308.xlsx\")\n",
    "                                                   #############################\n",
    "담당자 = pd.read_excel(path_담당자, dtype={\"사원키\":str})[[\"사원키\", \"부서\",\"사원성명\"]]\n",
    "담당자 = 담당자.query('부서==\"추심\" and ~사원성명.str.contains(\"테스트\")') # 배정(대기), 배정(유의)는 제외\n",
    "\n",
    "# 채무자읽기 (담당자키 사용위해)\n",
    "path_debt = 파일명(join(dir,\"pkl\"), \"채무자조회\")\n",
    "debt = pd.read_pickle(path_debt)[[\"채무자키\",\"담당자키\"]]\n",
    "\n",
    "# 담당자키 merge\n",
    "정상채무자 = 정상채무자.merge(debt, on=[\"채무자키\"], how='left')\n",
    "\n",
    "# 담당자 미배정건만 남기기\n",
    "정상채무자 = 정상채무자.merge(담당자[[\"사원키\",\"부서\"]], left_on=\"담당자키\", right_on=\"사원키\", how='left')\n",
    "정상채무자 = 정상채무자.query('부서!=\"추심\" and ~담당자.str.contains(\"정호석|정명선|정현화|정필공|배정\\(\")') # 정호석, 배정대기건 제외\n",
    "정상채무자 = 정상채무자[정상채무자cols]\n",
    "\n",
    "# 출력 : 출력 후 담당자가 추심팀인건 제외하고 보면 됨\n",
    "save_df_to_excel_underline(정상채무자, join(dir, \"check\", basedate+\"_[check]정상채무자있음_배정확인.xlsx\"), key_columns_no=1)"
   ]
  }
 ],
 "metadata": {
  "kernelspec": {
   "display_name": "py_39",
   "language": "python",
   "name": "python3"
  },
  "language_info": {
   "codemirror_mode": {
    "name": "ipython",
    "version": 3
   },
   "file_extension": ".py",
   "mimetype": "text/x-python",
   "name": "python",
   "nbconvert_exporter": "python",
   "pygments_lexer": "ipython3",
   "version": "3.9.18"
  }
 },
 "nbformat": 4,
 "nbformat_minor": 2
}
