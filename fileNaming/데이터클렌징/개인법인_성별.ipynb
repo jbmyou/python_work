{
 "cells": [
  {
   "cell_type": "markdown",
   "metadata": {},
   "source": [
    "### import"
   ]
  },
  {
   "cell_type": "code",
   "execution_count": 1,
   "metadata": {},
   "outputs": [],
   "source": [
    "import os, re, pickle\n",
    "import pandas as pd\n",
    "import numpy as np\n",
    "from os.path import join\n",
    "import datetime"
   ]
  },
  {
   "cell_type": "markdown",
   "metadata": {},
   "source": [
    "### function"
   ]
  },
  {
   "cell_type": "code",
   "execution_count": 2,
   "metadata": {},
   "outputs": [],
   "source": [
    "주민조건 = [2,3,4,5,6,7,8,9,2,3,4,5]\n",
    "법인조건 = [1,2,1,2,1,2,1,2,1,2,1,2]\n",
    "사업자조건 = [1,3,7,1,3,7,1,3,5]\n",
    "# 주민등록번호 유효성 검사 > 통과시 개인. 개인인데 주민번호 오류인것, 법인등록번호가 유효성 통과한 경우 확인 필요\n",
    "############################# 사업자 검사 추가, 14자리이나 000으로 시작하는 경우, 000 제거하고 사업자 등록번호 검사,통과하면 법인, 통과하지 못하면 개인.\n",
    "############################# 셋다 통과하지 못하거나, 10자리인데 사업자 번호 통과하지 못하면 유효하지 않은 번호로 따로 열 만들어서 적어주자. \n",
    "def only_num(regit_num:str) :\n",
    "    return re.sub(\"[^0-9]\", \"\", regit_num)\n",
    "\n",
    "def 식별번호유효성검사 (regit_num:str, cond_list:list, minus_num:int, mod_num:int) :\n",
    "    sum = 0\n",
    "    for i in range(len(regit_num)-1) :\n",
    "        sum += int(regit_num[i]) * cond_list[i]\n",
    "    if len(cond_list) == 9 : # 사업자번호인경우\n",
    "        sum += int(regit_num[8]) * cond_list[8] // 10\n",
    "    return int(regit_num[-1]) == (minus_num - (sum % mod_num)) % 10 # 일의자리만 얻기 위해 % 10\n",
    "\n",
    "def 주민번호유효성검사(regit_num:str) :\n",
    "    regit_num = only_num(regit_num)\n",
    "    if len(regit_num) == 13 :\n",
    "        month = int(regit_num[2:4])\n",
    "        day = int(regit_num[4:6])\n",
    "\n",
    "        # 월 일 유효성 검증\n",
    "        if month > 12 or day > 31 : return False\n",
    "        elif month in [4,6,9,11] : \n",
    "            if day > 30 : return False\n",
    "        elif month == 2 :\n",
    "            if day > 29 : return False\n",
    "\n",
    "        # 주민번호 유효성 검증\n",
    "        # 내국인\n",
    "        number = 0\n",
    "    \n",
    "        # 내국인\n",
    "        if regit_num[6] in [\"1\",\"2\",\"3\",\"4\",\"9\",\"0\"] : \n",
    "            return 식별번호유효성검사(regit_num, 주민조건, minus_num=11, mod_num=11)\n",
    "        # 외국인 \n",
    "        else : \n",
    "            return 식별번호유효성검사(regit_num, 주민조건, minus_num=13, mod_num=11)\n",
    "    else :\n",
    "        return False\n",
    "\n",
    "# 법인등록번호 유효성 체크, 인터넷등기소 > 법입 > 열람\n",
    "def 법인번호유효성검사(regit_num:str) : # 0으로시작하는 관서번호는 없음\n",
    "    regit_num = only_num(regit_num)\n",
    "    if len(regit_num) != 13 : return False\n",
    "    else :\n",
    "        # 등기관서번호 # 첫줄은 옛날 관서번호 : 추가중 # 옛날번호는 유효성검사 실패할 수 있음.\n",
    "        등기관서번호 = (1154,1156,1159,1115,1741,1742,1753,1761,1762,1763,1842,1850,1901,2041,2042,2048,2063,2150,2151,2342,1301,\n",
    "        1101,1103,1201,1211,1244,1245,1311,1312,1313,1314,1341,1342,1343,1344,1345,1346,1348,1349,1354,1355,\n",
    "        1356,1357,1358,1359,1401,1411,1412,1413,1414,1441,1442,1443,1444,1445,1446,1447,1448,1449,1450,1451,1452,1501,1511,1512,\n",
    "        1513,1541,1542,1543,1544,1545,1546,1601,1611,1612,1613,1614,1615,1641,1642,1643,1644,1645,1646,1647,1648,1649,1650,1651,\n",
    "        1652,1701,1711,1712,1713,1714,1715,1716,1717,1718,1743,1744,1745,1747,1748,1749,1750,1751,1752,1754,1755,1756,1757,1758,\n",
    "        1759,1760,1801,1811,1841,1843,1844,1847,1849,1851,1911,1912,1913,1914,1915,1941,1942,1943,1944,1945,1946,1947,1948,1949,\n",
    "        1950,1951,1952,1953,1954,1955,2001,2011,2012,2013,2014,2043,2044,2045,2046,2047,2049,2050,2052,2053,2054,2055,2056,2057,\n",
    "        2058,2059,2060,2061,2062,2101,2111,2112,2113,2141,2142,2143,2144,2145,2146,2147,2148,2149,2201,2241,2301,2341,2401,2501,\n",
    "        2601,2701,2802,2841,2842,2843,2844,2845,2846,2847,2849,2850)                                                \n",
    "        법인종류번호 = (11,12,13,14,15,21,22,31,32,33,34,35,36,38,39,40,41,43,44,46,47,48,49,51,52,53,54,55,61,71,81,82,83,84,85,86,42,45,50) # 42,45,50 는 옛날 법인종류\n",
    "        if int(regit_num[:4]) not in 등기관서번호 : \n",
    "            return False\n",
    "        # 법인종류번호\n",
    "        elif int(regit_num[4:6]) not in 법인종류번호 : \n",
    "            return False\n",
    "        else :\n",
    "            # 유효성 검증\n",
    "            return 식별번호유효성검사(regit_num, 법인조건, minus_num=10, mod_num=10)\n",
    "            \n",
    "# 홈텍스 > 조회/발급 > 사업자상태 > 등록번호/주민번호 조회 or bizno.net\n",
    "def 사업자번호유효성검사 (regit_num : str) :\n",
    "    regit_num = only_num(regit_num)\n",
    "    if len(regit_num) != 10 : return False\n",
    "    else :\n",
    "        # 유효성 검사\n",
    "        return 식별번호유효성검사(regit_num, 사업자조건, minus_num=10, mod_num=10)\n",
    "\n",
    "# 주민번호로 성별 체크\n",
    "def 성별분류(regit_num:str, sex:str) :\n",
    "    regit_num = only_num(regit_num)\n",
    "    # 개인\n",
    "    if sex == \"개인\" :\n",
    "        # 홀수면 남자\n",
    "        if int(regit_num[6]) % 2 == 1 : return \"남자\"\n",
    "        else : return \"여자\"\n",
    "    # 법인 또는 오류\n",
    "    else : return sex"
   ]
  },
  {
   "cell_type": "code",
   "execution_count": 6,
   "metadata": {},
   "outputs": [
    {
     "data": {
      "text/plain": [
       "True"
      ]
     },
     "execution_count": 6,
     "metadata": {},
     "output_type": "execute_result"
    }
   ],
   "source": [
    "주민번호유효성검사(\"6408251449216\")"
   ]
  },
  {
   "cell_type": "markdown",
   "metadata": {},
   "source": [
    "### 파일 읽기"
   ]
  },
  {
   "cell_type": "code",
   "execution_count": 6,
   "metadata": {},
   "outputs": [
    {
     "name": "stderr",
     "output_type": "stream",
     "text": [
      "c:\\Users\\sl\\anaconda3\\lib\\site-packages\\openpyxl\\styles\\stylesheet.py:226: UserWarning: Workbook contains no default style, apply openpyxl's default\n",
      "  warn(\"Workbook contains no default style, apply openpyxl's default\")\n"
     ]
    }
   ],
   "source": [
    "###########################################\n",
    "wd = r\"D:\\3.자산\\프로젝트\\2023 전산데이터 클렌징 및 업무개편 프로젝트\\check\\개인법인,성별\\솔림\"\n",
    "file_name = \"성별_보증인\"\n",
    "ext = \".xlsx\"\n",
    "########################################### ######\n",
    "file = file_name + ext\n",
    "if ext == \"pkl\" : \n",
    "    df_ori = pd.read_pickle(join(wd, file))\n",
    "else :\n",
    "    df_ori = pd.read_excel(join(wd,file), dtype=\"str\").fillna(\"\")\n",
    "\n",
    "# 채무자조회 : 매각, 환매, 종결 건제외 (보증인은 불러와야함)\n",
    "if re.search(\"채무자\", file_name) : \n",
    "    out = re.compile(\"매각|환매|종결\")\n",
    "    df = df_ori[~df_ori.채무상태.str.contains(out) & ~df_ori.담당자.str.contains(out)].copy().reset_index(drop=True)\n",
    "elif re.search(\"보증인\", file_name) : \n",
    "    out = re.compile(\"매각|환매|종결|면책|면탈|사망|시효|포기|완제\")\n",
    "    df = df_ori[~df_ori.보증인상태.str.contains(out) & ~df_ori.담당자.str.contains(out)].copy().reset_index(drop=True)\n",
    "    # 컬럼명 변경\n",
    "    df.rename(columns={\"보증인성명인\":\"성명\"}, inplace=True)"
   ]
  },
  {
   "cell_type": "markdown",
   "metadata": {},
   "source": [
    "### 개인법인 체크"
   ]
  },
  {
   "cell_type": "code",
   "execution_count": 14,
   "metadata": {},
   "outputs": [],
   "source": [
    "# 주민번호 유효성 검사 결과. # 채무자, 보증인 모두 \"주민번호인\"\n",
    "# 주민번호유효성결과 열 추가\n",
    "result1 = pd.Series(df.주민번호인.apply(주민번호유효성검사))\n",
    "df = pd.concat([df, result1.rename(\"주민번호유효성결과\")], axis=1)\n",
    "\n",
    "result2 = df.주민번호인.apply(법인번호유효성검사)\n",
    "df = pd.concat([df, result2.rename(\"법인번호유효성결과\")], axis=1)\n",
    "\n",
    "result3 = df.주민번호인.apply(사업자번호유효성검사)\n",
    "df = pd.concat([df, result3.rename(\"사업자번호유효성결과\")], axis=1)"
   ]
  },
  {
   "cell_type": "code",
   "execution_count": 15,
   "metadata": {},
   "outputs": [],
   "source": [
    "# 새로운 개인법인 작성\n",
    "x = df[\"주민번호유효성결과\"]\n",
    "y = df[\"법인번호유효성결과\"]  # 연일기계(115411-0005167) 법인번호 맞지만 유효성 오류남. x,y모두 참인 경우 더러 있음\n",
    "z = df[\"사업자번호유효성결과\"]\n",
    "# 개인, 법인, 오류 여부를 나타내는 조건 평가\n",
    "cond1 = x & ~y & ~z\n",
    "cond2 = (~x & y & ~z) | (~x & ~y & z)\n",
    "\n",
    "# 조건을 기반으로 값을 설정\n",
    "new_values = np.select([cond1, cond2], [\"개인\", \"법인\"], default=\"오류\")\n",
    "df = pd.concat([df, pd.DataFrame({\"new개인법인\": new_values})], axis=1)"
   ]
  },
  {
   "cell_type": "code",
   "execution_count": 16,
   "metadata": {},
   "outputs": [],
   "source": [
    "# 유효성 검사 결과가 기존 전산값과 다른 것만 엑셀파일로\n",
    "# 채무자\n",
    "if re.search(\"채무자\", file_name) : \n",
    "    cols_for_save = [\"채무자키\", \"성명\", \"주민번호인\", \"개인법인\", \"new개인법인\", \"주민번호유효성결과\", \"법인번호유효성결과\", \"사업자번호유효성결과\"]\n",
    "    df[df[\"new개인법인\"] != df[\"개인법인\"]][cols_for_save].to_excel(join(wd,\"check_개인법인_\"+file_name+\".xlsx\"), index=False)\n",
    "# 보증인 : 개인법인으로 성별과 new개인법인에서 도출한 new성별 비교\n",
    "# 엑셀다운자료에는 개인법인 없지만, 업로드 및 수정에는 있음\n",
    "else :\n",
    "    df[\"new성별\"] = df.apply(lambda row: 성별분류(row[\"주민번호인\"], row[\"new개인법인\"]), axis=1)\n",
    "    cols_for_save = [\"채무자키\", \"보증인키\", \"보증인성명인\", \"주민번호인\", \"성별\", \"new성별\", \"new개인법인\", \"주민번호유효성결과\", \"법인번호유효성결과\", \"사업자번호유효성결과\"]\n",
    "    # 성별 다른 경우만 저장\n",
    "    df[df[\"new성별\"] != df[\"성별\"]][cols_for_save].to_excel(join(wd,\"check_개인법인성별\"+file_name+\".xlsx\"), index=False)"
   ]
  },
  {
   "cell_type": "markdown",
   "metadata": {},
   "source": [
    "### 개별식별번호 유효성 체크"
   ]
  },
  {
   "cell_type": "code",
   "execution_count": 30,
   "metadata": {},
   "outputs": [],
   "source": [
    "# 확인후 최종점검\n",
    "wd = r\"D:\\3.자산\\프로젝트\\2023 전산데이터 클렌징 및 업무개편 프로젝트\\check\\개인법인,성별\"\n",
    "temp = pd.read_excel(join(wd, \"check개인법인~.xlsx\"), dtype=str)[[\"채무자키\",\"주민번호인\",\"사업자번호인\"]]"
   ]
  },
  {
   "cell_type": "code",
   "execution_count": 52,
   "metadata": {},
   "outputs": [
    {
     "data": {
      "text/html": [
       "<div>\n",
       "<style scoped>\n",
       "    .dataframe tbody tr th:only-of-type {\n",
       "        vertical-align: middle;\n",
       "    }\n",
       "\n",
       "    .dataframe tbody tr th {\n",
       "        vertical-align: top;\n",
       "    }\n",
       "\n",
       "    .dataframe thead th {\n",
       "        text-align: right;\n",
       "    }\n",
       "</style>\n",
       "<table border=\"1\" class=\"dataframe\">\n",
       "  <thead>\n",
       "    <tr style=\"text-align: right;\">\n",
       "      <th></th>\n",
       "      <th>채무자키</th>\n",
       "      <th>주민번호인</th>\n",
       "      <th>사업자번호인</th>\n",
       "    </tr>\n",
       "  </thead>\n",
       "  <tbody>\n",
       "    <tr>\n",
       "      <th>0</th>\n",
       "      <td>20417801</td>\n",
       "      <td>214914-0011193</td>\n",
       "      <td>403-81-28448</td>\n",
       "    </tr>\n",
       "    <tr>\n",
       "      <th>1</th>\n",
       "      <td>20413623</td>\n",
       "      <td>214714-0000546</td>\n",
       "      <td>405-81-03934</td>\n",
       "    </tr>\n",
       "    <tr>\n",
       "      <th>11</th>\n",
       "      <td>20412836</td>\n",
       "      <td>110111-0299910</td>\n",
       "      <td>120-06-70160</td>\n",
       "    </tr>\n",
       "    <tr>\n",
       "      <th>14</th>\n",
       "      <td>20429478</td>\n",
       "      <td>110111-0798102</td>\n",
       "      <td>105-81-71551</td>\n",
       "    </tr>\n",
       "    <tr>\n",
       "      <th>19</th>\n",
       "      <td>20413902</td>\n",
       "      <td>110111-1939680</td>\n",
       "      <td>211-83-95867</td>\n",
       "    </tr>\n",
       "    <tr>\n",
       "      <th>25</th>\n",
       "      <td>20429662</td>\n",
       "      <td>NaN</td>\n",
       "      <td>112-81-49080</td>\n",
       "    </tr>\n",
       "    <tr>\n",
       "      <th>26</th>\n",
       "      <td>20429668</td>\n",
       "      <td>111511-0000566</td>\n",
       "      <td>127-81-00677</td>\n",
       "    </tr>\n",
       "    <tr>\n",
       "      <th>27</th>\n",
       "      <td>20418301</td>\n",
       "      <td>115411-0005167</td>\n",
       "      <td>127-81-19268</td>\n",
       "    </tr>\n",
       "    <tr>\n",
       "      <th>28</th>\n",
       "      <td>20429663</td>\n",
       "      <td>NaN</td>\n",
       "      <td>128-81-32959</td>\n",
       "    </tr>\n",
       "    <tr>\n",
       "      <th>29</th>\n",
       "      <td>20429664</td>\n",
       "      <td>NaN</td>\n",
       "      <td>204-81-62500</td>\n",
       "    </tr>\n",
       "    <tr>\n",
       "      <th>30</th>\n",
       "      <td>20419626</td>\n",
       "      <td>NaN</td>\n",
       "      <td>103-81-41726</td>\n",
       "    </tr>\n",
       "    <tr>\n",
       "      <th>31</th>\n",
       "      <td>20423544</td>\n",
       "      <td>NaN</td>\n",
       "      <td>661-87-00053</td>\n",
       "    </tr>\n",
       "    <tr>\n",
       "      <th>32</th>\n",
       "      <td>20413641</td>\n",
       "      <td>210111-0019078</td>\n",
       "      <td>418-81-15270</td>\n",
       "    </tr>\n",
       "    <tr>\n",
       "      <th>33</th>\n",
       "      <td>20414516</td>\n",
       "      <td>180111-0135342</td>\n",
       "      <td>617-81-10192</td>\n",
       "    </tr>\n",
       "    <tr>\n",
       "      <th>34</th>\n",
       "      <td>20429669</td>\n",
       "      <td>NaN</td>\n",
       "      <td>135-81-47504</td>\n",
       "    </tr>\n",
       "    <tr>\n",
       "      <th>36</th>\n",
       "      <td>20411265</td>\n",
       "      <td>180111-0240589</td>\n",
       "      <td>617-81-20201</td>\n",
       "    </tr>\n",
       "    <tr>\n",
       "      <th>66</th>\n",
       "      <td>20412764</td>\n",
       "      <td>110111-0258049</td>\n",
       "      <td>201-81-37507</td>\n",
       "    </tr>\n",
       "  </tbody>\n",
       "</table>\n",
       "</div>"
      ],
      "text/plain": [
       "        채무자키           주민번호인        사업자번호인\n",
       "0   20417801  214914-0011193  403-81-28448\n",
       "1   20413623  214714-0000546  405-81-03934\n",
       "11  20412836  110111-0299910  120-06-70160\n",
       "14  20429478  110111-0798102  105-81-71551\n",
       "19  20413902  110111-1939680  211-83-95867\n",
       "25  20429662             NaN  112-81-49080\n",
       "26  20429668  111511-0000566  127-81-00677\n",
       "27  20418301  115411-0005167  127-81-19268\n",
       "28  20429663             NaN  128-81-32959\n",
       "29  20429664             NaN  204-81-62500\n",
       "30  20419626             NaN  103-81-41726\n",
       "31  20423544             NaN  661-87-00053\n",
       "32  20413641  210111-0019078  418-81-15270\n",
       "33  20414516  180111-0135342  617-81-10192\n",
       "34  20429669             NaN  135-81-47504\n",
       "36  20411265  180111-0240589  617-81-20201\n",
       "66  20412764  110111-0258049  201-81-37507"
      ]
     },
     "execution_count": 52,
     "metadata": {},
     "output_type": "execute_result"
    }
   ],
   "source": [
    "temp[temp.사업자번호인.notna()]"
   ]
  },
  {
   "cell_type": "code",
   "execution_count": 54,
   "metadata": {},
   "outputs": [
    {
     "data": {
      "text/plain": [
       "0      True\n",
       "1      True\n",
       "11     True\n",
       "14     True\n",
       "19    False\n",
       "25     True\n",
       "26     True\n",
       "27     True\n",
       "28     True\n",
       "29     True\n",
       "30     True\n",
       "31     True\n",
       "32     True\n",
       "33     True\n",
       "34     True\n",
       "36     True\n",
       "66     True\n",
       "Name: 사업자번호인, dtype: bool"
      ]
     },
     "execution_count": 54,
     "metadata": {},
     "output_type": "execute_result"
    }
   ],
   "source": [
    "temp.loc[temp.사업자번호인.notna(),\"사업자번호인\"].apply(사업자번호유효성검사)"
   ]
  },
  {
   "cell_type": "code",
   "execution_count": 5,
   "metadata": {},
   "outputs": [
    {
     "name": "stdout",
     "output_type": "stream",
     "text": [
      "주민 : True, 법인 : False, 사업자 : False\n"
     ]
    }
   ],
   "source": [
    "regit_num = \"620118-2447021\"\n",
    "print(f\"주민 : {주민번호유효성검사(regit_num)}, 법인 : {법인번호유효성검사(regit_num)}, 사업자 : {사업자번호유효성검사(regit_num)}\")"
   ]
  },
  {
   "cell_type": "markdown",
   "metadata": {},
   "source": [
    "### 성별 체크 - 차주만 \n",
    "- 보증인은 개인법인열이 조회파일에는 없어서 한꺼번에 함(테이블 항목에는 있음)\n",
    "- 따라서 업데이트 했으면 동일 로직이기 때문에 결과가 다를 수 없음"
   ]
  },
  {
   "cell_type": "code",
   "execution_count": 8,
   "metadata": {},
   "outputs": [],
   "source": [
    "# 개인법인 이상없는지 확인이 끝나면 작업\n",
    "if re.search(\"채무자\", file_name) : \n",
    "    df[\"new성별\"] = df.apply(lambda row: 성별분류(row[\"주민번호인\"], row[\"개인법인\"]), axis=1)\n",
    "    cols_for_save = [\"채무자키\", \"성명\", \"주민번호인\", \"담당자\", \"채무상태\", \"성별\", \"new성별\"]\n",
    "else : \n",
    "    df[\"new성별\"] = df.apply(lambda row: 성별분류(row[\"주민번호인\"], row[\"성별\"]), axis=1)\n",
    "    cols_for_save = [\"채무자키\",\"보증인키\", \"성명\", \"주민번호인\", \"담당자\", \"성별\", \"new성별\"]\n",
    "# 성별 다른 경우만 저장\n",
    "df[df[\"new성별\"] != df[\"성별\"]][cols_for_save].to_excel(join(wd,\"check_성별_\"+file_name+\".xlsx\"), index=False)"
   ]
  },
  {
   "cell_type": "markdown",
   "metadata": {},
   "source": [
    "### 국세청 사업자 휴폐업 조회"
   ]
  },
  {
   "cell_type": "code",
   "execution_count": 12,
   "metadata": {},
   "outputs": [],
   "source": [
    "import requests\n",
    "\n",
    "HOMETAX_URL = 'https://teht.hometax.go.kr/wqAction.do?actionId=ATTABZAA001R08&screenId=UTEABAAA13&popupYn=false&realScreenId='\n",
    "\n",
    "def checkTaxStatus (사업자등록번호):\n",
    "\n",
    "\t#remove '-' from bizId\n",
    "\tremoved = bizId.replace ('-','')\n",
    "\n",
    "\t#make XML\n",
    "\txml = '<map id=\"\"><pubcUserNo/><mobYn>N</mobYn><inqrTrgtClCd>1</inqrTrgtClCd><txprDscmNo>'\\\n",
    "\t+ removed +'</txprDscmNo><dongCode></dongCode><psbSearch></psbSearch><map id=\"userReqInfoVO\"/></map>'\n",
    "\theaders = {'Content-Type': 'application/xml'}\n",
    "\t\n",
    "\tr = requests.post (HOMETAX_URL, data=xml, headers=headers).text\n",
    "\n",
    "\tbegin_tag = '<trtCntn>'\n",
    "\tend_tag = '</trtCntn>'\n",
    "\tbegin_idx = r.find (begin_tag)\n",
    "\tend_idx = r.find(end_tag)\n",
    "\n",
    "\tresult = r[begin_idx+9: end_idx]\n",
    "\tprint (result)\n",
    "\n",
    "\treturn result"
   ]
  },
  {
   "cell_type": "code",
   "execution_count": 13,
   "metadata": {},
   "outputs": [
    {
     "name": "stdout",
     "output_type": "stream",
     "text": [
      "폐업자 (부가가치세 일반과세자, 폐업일자:1998-10-20) 입니다.\n"
     ]
    },
    {
     "data": {
      "text/plain": [
       "'폐업자 (부가가치세 일반과세자, 폐업일자:1998-10-20) 입니다.'"
      ]
     },
     "execution_count": 13,
     "metadata": {},
     "output_type": "execute_result"
    }
   ],
   "source": [
    "사업자등록번호 = \"308-81-04817\"\n",
    "checkTaxStatus(사업자등록번호)"
   ]
  },
  {
   "cell_type": "markdown",
   "metadata": {},
   "source": [
    "### 통신사업판매자(대부분의 사업체?) 조회 - 사업자등록번호/업체명"
   ]
  },
  {
   "cell_type": "code",
   "execution_count": 35,
   "metadata": {},
   "outputs": [
    {
     "data": {
      "text/html": [
       "<div>\n",
       "<style scoped>\n",
       "    .dataframe tbody tr th:only-of-type {\n",
       "        vertical-align: middle;\n",
       "    }\n",
       "\n",
       "    .dataframe tbody tr th {\n",
       "        vertical-align: top;\n",
       "    }\n",
       "\n",
       "    .dataframe thead th {\n",
       "        text-align: right;\n",
       "    }\n",
       "</style>\n",
       "<table border=\"1\" class=\"dataframe\">\n",
       "  <thead>\n",
       "    <tr style=\"text-align: right;\">\n",
       "      <th></th>\n",
       "      <th>통신판매번호</th>\n",
       "      <th>신고기관명</th>\n",
       "      <th>상호</th>\n",
       "      <th>사업자등록번호</th>\n",
       "      <th>법인여부</th>\n",
       "      <th>대표자명</th>\n",
       "      <th>전화번호</th>\n",
       "      <th>전자우편</th>\n",
       "      <th>신고일자</th>\n",
       "      <th>사업장소재지</th>\n",
       "      <th>사업장소재지(도로명)</th>\n",
       "      <th>업소상태</th>\n",
       "      <th>신고기관 대표연락처</th>\n",
       "      <th>판매방식</th>\n",
       "      <th>취급품목</th>\n",
       "      <th>인터넷도메인</th>\n",
       "      <th>호스트서버소재지</th>\n",
       "    </tr>\n",
       "  </thead>\n",
       "  <tbody>\n",
       "    <tr>\n",
       "      <th>0</th>\n",
       "      <td>2004-01914</td>\n",
       "      <td>서울특별시 종로구</td>\n",
       "      <td>지성의료기</td>\n",
       "      <td></td>\n",
       "      <td>개인</td>\n",
       "      <td>김정구</td>\n",
       "      <td>02  2213  1367</td>\n",
       "      <td>webmast**@chimdo/com</td>\n",
       "      <td></td>\n",
       "      <td>서울특별시 종로구 종로**가********</td>\n",
       "      <td>서울특별시 종로구 대학로**길 ** (종*****</td>\n",
       "      <td>통신판매업 신고</td>\n",
       "      <td>02-2148-2294</td>\n",
       "      <td></td>\n",
       "      <td></td>\n",
       "      <td>www.chimdo.com</td>\n",
       "      <td>양천구신정동973-35</td>\n",
       "    </tr>\n",
       "  </tbody>\n",
       "</table>\n",
       "</div>"
      ],
      "text/plain": [
       "       통신판매번호      신고기관명     상호 사업자등록번호 법인여부 대표자명            전화번호  \\\n",
       "0  2004-01914  서울특별시 종로구  지성의료기           개인  김정구  02  2213  1367   \n",
       "\n",
       "                   전자우편 신고일자                   사업장소재지  \\\n",
       "0  webmast**@chimdo/com       서울특별시 종로구 종로**가********   \n",
       "\n",
       "                   사업장소재지(도로명)      업소상태    신고기관 대표연락처 판매방식 취급품목  \\\n",
       "0  서울특별시 종로구 대학로**길 ** (종*****  통신판매업 신고  02-2148-2294             \n",
       "\n",
       "           인터넷도메인      호스트서버소재지  \n",
       "0  www.chimdo.com  양천구신정동973-35  "
      ]
     },
     "execution_count": 35,
     "metadata": {},
     "output_type": "execute_result"
    }
   ],
   "source": [
    "# 통합본 파일 읽기 (모든 칼럼 str)\n",
    "df = pd.read_pickle(r\"D:\\3.자산\\프로젝트\\2023 전산데이터 클렌징 및 업무개편 프로젝트\\check\\개인법인,성별\\통신판매사업자_공정거래위원회_230810\\통신판매사업자_ALL_전지역통합_230810.pkl\")\n",
    "df.head(1)"
   ]
  },
  {
   "cell_type": "code",
   "execution_count": 36,
   "metadata": {},
   "outputs": [
    {
     "data": {
      "text/html": [
       "<div>\n",
       "<style scoped>\n",
       "    .dataframe tbody tr th:only-of-type {\n",
       "        vertical-align: middle;\n",
       "    }\n",
       "\n",
       "    .dataframe tbody tr th {\n",
       "        vertical-align: top;\n",
       "    }\n",
       "\n",
       "    .dataframe thead th {\n",
       "        text-align: right;\n",
       "    }\n",
       "</style>\n",
       "<table border=\"1\" class=\"dataframe\">\n",
       "  <thead>\n",
       "    <tr style=\"text-align: right;\">\n",
       "      <th></th>\n",
       "      <th>통신판매번호</th>\n",
       "      <th>신고기관명</th>\n",
       "      <th>상호</th>\n",
       "      <th>사업자등록번호</th>\n",
       "      <th>법인여부</th>\n",
       "      <th>대표자명</th>\n",
       "      <th>전화번호</th>\n",
       "      <th>전자우편</th>\n",
       "      <th>신고일자</th>\n",
       "      <th>사업장소재지</th>\n",
       "      <th>사업장소재지(도로명)</th>\n",
       "      <th>업소상태</th>\n",
       "      <th>신고기관 대표연락처</th>\n",
       "      <th>판매방식</th>\n",
       "      <th>취급품목</th>\n",
       "      <th>인터넷도메인</th>\n",
       "      <th>호스트서버소재지</th>\n",
       "    </tr>\n",
       "  </thead>\n",
       "  <tbody>\n",
       "  </tbody>\n",
       "</table>\n",
       "</div>"
      ],
      "text/plain": [
       "Empty DataFrame\n",
       "Columns: [통신판매번호, 신고기관명, 상호, 사업자등록번호, 법인여부, 대표자명, 전화번호, 전자우편, 신고일자, 사업장소재지, 사업장소재지(도로명), 업소상태, 신고기관 대표연락처, 판매방식, 취급품목, 인터넷도메인, 호스트서버소재지]\n",
       "Index: []"
      ]
     },
     "execution_count": 36,
     "metadata": {},
     "output_type": "execute_result"
    }
   ],
   "source": [
    "# 상호검색\n",
    "df[df[\"상호\"].str.contains(\"수한금속\")]\n",
    "# 결측치(float) 있을 때\n",
    "# df[df[\"상호\"].notnull() &  df[\"상호\"].str.contains(\"레미콘\")]"
   ]
  }
 ],
 "metadata": {
  "kernelspec": {
   "display_name": "base",
   "language": "python",
   "name": "python3"
  },
  "language_info": {
   "codemirror_mode": {
    "name": "ipython",
    "version": 3
   },
   "file_extension": ".py",
   "mimetype": "text/x-python",
   "name": "python",
   "nbconvert_exporter": "python",
   "pygments_lexer": "ipython3",
   "version": "3.9.18"
  },
  "orig_nbformat": 4
 },
 "nbformat": 4,
 "nbformat_minor": 2
}
