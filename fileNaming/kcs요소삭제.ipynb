{
 "cells": [
  {
   "attachments": {},
   "cell_type": "markdown",
   "metadata": {},
   "source": [
    "### import 및 함수"
   ]
  },
  {
   "cell_type": "code",
   "execution_count": 10,
   "metadata": {},
   "outputs": [],
   "source": [
    "# dict_kcs = {\"kcs\" : \"pullPath\"}\n",
    "# 20494491752A40E088201 /volume1/솔림헬프/기타/전북-01/20494491/20494491_보증인 오병석_기타_2022본11747_유체접수증.pdf\n",
    "import os\n",
    "import pickle\n",
    "import binascii\n",
    "import re\n",
    "from os.path import join\n",
    "\n",
    "def crc32_checksum(filename):\n",
    "    buf = open(filename,'rb').read()\n",
    "    buf = (binascii.crc32(buf) & 0xFFFFFFFF)\n",
    "    return \"%08X\" % buf\n",
    "\n",
    "def get_kcs(path_192) :\n",
    "    crc32 = str(crc32_checksum(path_192))\n",
    "    size = str(os.path.getsize(path_192))\n",
    "    f = os.path.split(path_192)[1]\n",
    "    key = f[:8]\n",
    "    kcs = key + crc32 + size \n",
    "    return kcs\n",
    "\n",
    "def read_kcs(path_kcs) :\n",
    "    with open(path_kcs, \"rb\") as pkl :\n",
    "        return pickle.load(pkl)\n",
    "\n",
    "def delete_kcs(filePath, dict_kcs) :\n",
    "    print(\"삭제 전 : \", len(dict_kcs))\n",
    "    k = os.path.split(filePath)[1][:8]\n",
    "    c = str(crc32_checksum(filePath))\n",
    "    s = str(os.path.getsize(filePath))\n",
    "    kcs = k + c + s\n",
    "    if kcs in dict_kcs :\n",
    "        print(f\"kcs : {kcs}   path : {dict_kcs[kcs]}\")\n",
    "        del dict_kcs[kcs]\n",
    "        print(\"삭제하였습니다.\")\n",
    "    else :\n",
    "      print(filePath, kcs, \"없는 키값\")\n",
    "    print(\"삭제 후 : \", len(dict_kcs))\n",
    "\n",
    "def write_kcs(path_kcs, dict_kcs) :\n",
    "    with open(path_kcs, \"wb\") as pkl :\n",
    "        pickle.dump(dict_kcs, pkl)\n",
    "\n",
    "# def update_kcs(src, dst, dict_kcs) :\n",
    "    \n",
    "#     kcs = get_kcs(src)\n",
    "#     print(dict_kcs[kcs])\n",
    "\n",
    "#     new_dst = re.sub(r\"\\\\\\\\192.168.0.75\", \"/volume1\", dst)\n",
    "#     new_dst = re.sub(r\"\\\\\", \"/\", new_dst)\n",
    "#     dict_kcs[kcs] = new_dst\n",
    "#     print(dict_kcs[kcs], \"dict수정 성공\")\n",
    "\n",
    "def update_kcs(src, dst, dict_kcs) :\n",
    "    # 채무자키\n",
    "    src_key = os.path.split(src)[1][:8]\n",
    "    dst_key = os.path.split(dst)[1][:8]\n",
    "    # kcs\n",
    "    kcs = get_kcs(src)\n",
    "    before_value = dict_kcs[kcs] # 수정되기 전에 변수에 담아두어야\n",
    "    # 윈도우 path를 리눅스 path로\n",
    "    new_dst = re.sub(r\"\\\\\\\\192.168.0.75\", \"/volume1\", dst)\n",
    "    new_dst = re.sub(r\"\\\\\", \"/\", new_dst)\n",
    "\n",
    "    # 채무자키가 달라졌을 때 > dict의 key를 수정해야 하므로 삭제 후 새값 추가\n",
    "    if src_key != dst_key :\n",
    "        new_kcs = dst_key + kcs[8:]\n",
    "        del dict_kcs[kcs] # 구값 삭제\n",
    "    else : new_kcs = kcs\n",
    "    \n",
    "    # 새값 추가/수정(채무자키 동일했다면 kcs == new_kcs 따라서 수정된다.)\n",
    "    dict_kcs[new_kcs] = new_dst\n",
    "\n",
    "    print(f\"dict 키 변화 : {kcs} >>> {new_kcs}\")\n",
    "    print(f\"dict 값 변화 : {before_value} >>> {dict_kcs[new_kcs]}\")\n",
    "    \n",
    "\n",
    "path_kcs = r\"\\\\192.168.0.75\\스캔파일\\스캔파일log\\_project\\대성파일\\중복조사\\kcs별 파일정보_대성.pkl\""
   ]
  },
  {
   "attachments": {},
   "cell_type": "markdown",
   "metadata": {},
   "source": [
    "### dict load"
   ]
  },
  {
   "cell_type": "code",
   "execution_count": 11,
   "metadata": {},
   "outputs": [
    {
     "name": "stdout",
     "output_type": "stream",
     "text": [
      "최초dict_kcs개수 : 14038\n"
     ]
    }
   ],
   "source": [
    "# 읽기\n",
    "dict_kcs = read_kcs(path_kcs)\n",
    "print(\"최초dict_kcs개수 :\", len(dict_kcs))"
   ]
  },
  {
   "cell_type": "code",
   "execution_count": 5,
   "metadata": {},
   "outputs": [
    {
     "data": {
      "text/plain": [
       "'/volume1/대성/3.집행권원/씨에프-01/10622626/10622626_서정식_집행권원.pdf'"
      ]
     },
     "execution_count": 5,
     "metadata": {},
     "output_type": "execute_result"
    }
   ],
   "source": [
    "dict_kcs[\"10622626DA6BF605302827\"]"
   ]
  },
  {
   "attachments": {},
   "cell_type": "markdown",
   "metadata": {},
   "source": [
    "### dict삭제 > 파일은 직접, 파일명 변경후 재업하면 수정작업과 동일"
   ]
  },
  {
   "attachments": {},
   "cell_type": "markdown",
   "metadata": {},
   "source": [
    "##### 단일파일 dict 삭제"
   ]
  },
  {
   "cell_type": "code",
   "execution_count": null,
   "metadata": {},
   "outputs": [],
   "source": [
    "####################################\n",
    "# 에브리띵에서 전체경로복사하면 편함, 채무자키만 유지하면 파일위치, 파일명는 상관없음\n",
    "path_192 = r\"\\\\192.168.0.75\\스캔파일\\대성 스캔파일 업로드\\10625508 5015000224 오명택 19타채55322.pdf\"\n",
    "####################################\n",
    "delete_kcs(path_192, dict_kcs)"
   ]
  },
  {
   "attachments": {},
   "cell_type": "markdown",
   "metadata": {},
   "source": [
    "##### 폴더 내 전체 파일 dict 삭제"
   ]
  },
  {
   "cell_type": "code",
   "execution_count": 12,
   "metadata": {},
   "outputs": [],
   "source": [
    "path = r\"\\\\192.168.0.75\\스캔파일\\대성 스캔파일 업로드\\구스캔파일\\새 폴더\"\n",
    "for f in os.listdir(path) :\n",
    "    if os.path.isfile(f) : \n",
    "        path_192 = os.path.join(path, f)\n",
    "        delete_kcs(path_192, dict_kcs)\n"
   ]
  },
  {
   "attachments": {},
   "cell_type": "markdown",
   "metadata": {},
   "source": [
    "##### dict 파일로 저장"
   ]
  },
  {
   "cell_type": "code",
   "execution_count": 24,
   "metadata": {},
   "outputs": [],
   "source": [
    "write_kcs(path_kcs, dict_kcs)"
   ]
  },
  {
   "attachments": {},
   "cell_type": "markdown",
   "metadata": {},
   "source": [
    "##### 파일 삭제/이동"
   ]
  },
  {
   "cell_type": "code",
   "execution_count": 18,
   "metadata": {},
   "outputs": [
    {
     "data": {
      "text/plain": [
       "'\\\\\\\\192.168.0.75\\\\삭제예정파일\\\\관리제외\\\\아인스\\\\20410937\\\\20410937_박효동_개인회생_2019개회12743.pdf'"
      ]
     },
     "execution_count": 18,
     "metadata": {},
     "output_type": "execute_result"
    }
   ],
   "source": [
    "# 관리제외 폴더로 이동\n",
    "import shutil\n",
    "src = path_192\n",
    "dst_d = join(r\"\\\\192.168.0.75\\삭제예정파일\\관리제외\", src.split(os.path.sep)[-3], src.split(os.path.sep)[-2])\n",
    "if not os.path.exists(dst_d) : os.makedirs(dst_d)\n",
    "dst = join(dst_d, src.split(os.path.sep)[-1])\n",
    "shutil.move(src, dst)"
   ]
  },
  {
   "attachments": {},
   "cell_type": "markdown",
   "metadata": {},
   "source": [
    "### dict 수정 \n",
    "- 폴더 달라질 때는 그냥 새로 업로드하는게 낫겠다."
   ]
  },
  {
   "cell_type": "code",
   "execution_count": 5,
   "metadata": {},
   "outputs": [
    {
     "name": "stdout",
     "output_type": "stream",
     "text": [
      "dict 키 변화 : 20414371ECD2146F176769 >>> 20414371ECD2146F176769\n",
      "dict 값 변화 : /volume1/솔림헬프/3.집행권원/DNP-01/20414371/20414371_조영민_집행권원.pdf >>> /volume1/솔림헬프/3.집행권원/DNP-01/20414371/20414371 조영민 2023차전102996.pdf\n"
     ]
    }
   ],
   "source": [
    "########################################################### 20514967\n",
    "src = r\"\\\\192.168.0.75\\솔림헬프\\3.집행권원\\DNP-01\\20414371\\20414371_조영민_집행권원.pdf\"\n",
    "dst = r\"\\\\192.168.0.75\\솔림헬프\\3.집행권원\\DNP-01\\20414371\\20414371 조영민 2023차전102996.pdf\"\n",
    "###########################################################\n",
    "\n",
    "# 1) dict 수정\n",
    "update_kcs(src, dst, dict_kcs)"
   ]
  },
  {
   "cell_type": "code",
   "execution_count": 6,
   "metadata": {},
   "outputs": [
    {
     "name": "stdout",
     "output_type": "stream",
     "text": [
      "파일명(경로) 수정 성공\n"
     ]
    }
   ],
   "source": [
    "# 2) 파일수정 : dict보다 먼저 하면 kcs를 읽을 수가 없음\n",
    "os.rename(src, dst)\n",
    "print(\"파일명(경로) 수정 성공\")"
   ]
  },
  {
   "cell_type": "code",
   "execution_count": 7,
   "metadata": {},
   "outputs": [],
   "source": [
    "# 3) dict 파일로 저장 # 약 20초 소요\n",
    "write_kcs(path_kcs, dict_kcs)"
   ]
  },
  {
   "attachments": {},
   "cell_type": "markdown",
   "metadata": {},
   "source": [
    "#### 폴더 내 여러 파일 "
   ]
  },
  {
   "cell_type": "code",
   "execution_count": 12,
   "metadata": {},
   "outputs": [
    {
     "name": "stdout",
     "output_type": "stream",
     "text": [
      "dict 키 변화 : 20419713364E4B38368410 >>> 20419713364E4B38368410\n",
      "dict 값 변화 : /volume1/솔림헬프/5.등초본/한울가람/20419713/20419713_염직 보증인 강태수_초본_220926.pdf >>> /volume1/솔림헬프/5.등초본/한울가람/20419713/20419713_88염직 보증인 강태수_초본_220926.pdf\n"
     ]
    }
   ],
   "source": [
    "########################################################\n",
    "path = r\"\\\\192.168.0.75\\솔림헬프\\5.등초본\\한울가람\\20419713\"\n",
    "for f in os.listdir(path) :\n",
    "    src = join(path, f)\n",
    "    dst_file = re.sub(\"염직\", \"88염직\", f)\n",
    "    ####################################\n",
    "    dst = join(path, dst_file)\n",
    "    if src != dst :\n",
    "        update_kcs(src, dst, dict_kcs)\n",
    "        os.rename(src, dst)"
   ]
  },
  {
   "cell_type": "code",
   "execution_count": 14,
   "metadata": {},
   "outputs": [],
   "source": [
    "write_kcs(path_kcs, dict_kcs)"
   ]
  }
 ],
 "metadata": {
  "kernelspec": {
   "display_name": "base",
   "language": "python",
   "name": "python3"
  },
  "language_info": {
   "codemirror_mode": {
    "name": "ipython",
    "version": 3
   },
   "file_extension": ".py",
   "mimetype": "text/x-python",
   "name": "python",
   "nbconvert_exporter": "python",
   "pygments_lexer": "ipython3",
   "version": "3.9.13"
  },
  "orig_nbformat": 4,
  "vscode": {
   "interpreter": {
    "hash": "38d617750889899e5f2f65cac6f27a322f361a63d334879a800ee5491961f90c"
   }
  }
 },
 "nbformat": 4,
 "nbformat_minor": 2
}
