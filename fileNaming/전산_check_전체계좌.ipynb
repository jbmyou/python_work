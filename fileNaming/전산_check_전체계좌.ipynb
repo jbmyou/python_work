{
 "cells": [
  {
   "cell_type": "code",
   "execution_count": 2,
   "metadata": {},
   "outputs": [],
   "source": [
    "import os, re\n",
    "from os.path import join\n",
    "import pandas as pd\n",
    "import numpy as np"
   ]
  },
  {
   "attachments": {},
   "cell_type": "markdown",
   "metadata": {},
   "source": [
    "### 전체계좌 / 일부계좌 구분"
   ]
  },
  {
   "cell_type": "code",
   "execution_count": 6,
   "metadata": {},
   "outputs": [
    {
     "name": "stdout",
     "output_type": "stream",
     "text": [
      "78158 453\n"
     ]
    }
   ],
   "source": [
    "# 파일 읽기\n",
    "####################################################################\n",
    "path_account = r\"D:\\3.자산\\전산 dataset\\230430\\계좌조회새창_20230502_0847\" + \".pkl\" # 계좌전체. 채무상태나 담당자 변경하려면 최신파일로\n",
    "path_work_df = r'c:/Users/SL/Desktop/새 스프레드시트 문서.xlsx' # 확인하려는 풀의 채무자키와 계좌키\n",
    "path_save = r'c:/Users/SL/Desktop/전체계좌여부.xlsx'\n",
    "####################################################################\n",
    "all_df = pd.read_pickle(path_account)[[\"채무자키\",\"계좌키\",\"종결일\",\"채무상태\",\"담당자\",\"채무자명\"]].fillna(\"\")\n",
    "work_df = pd.read_excel(path_work_df, dtype={\"채무자키\":str,\"계좌키\":str})\n",
    "print(len(all_df), len(work_df))"
   ]
  },
  {
   "cell_type": "code",
   "execution_count": 7,
   "metadata": {},
   "outputs": [],
   "source": [
    "# 채무자키로 전 계좌 불러오기\n",
    "work_all_account = all_df[all_df.채무자키.isin(work_df.채무자키)].copy() # 객체 새로 만들지 않으면 계속 copywarning 나옴\n",
    "# 전 계좌 중 작업 계좌에 있거나, 종결된 계좌면 Y, 아니면 N(솔림 잔존계좌)\n",
    "cond = (work_all_account.계좌키.isin(work_df.계좌키)) | (work_all_account.종결일 != \"\")\n",
    "work_all_account[\"계좌작업대상여부\"] = np.where(cond, \"Y\", \"N\")\n",
    "\n",
    "# 채무자키별로 전계좌 여부 확인 후 파일 저장하기\n",
    "result = pd.DataFrame(None, columns=[\"채무자키\", \"전계좌여부\", \"채무상태\", \"담당자\", \"채무자명\"])\n",
    "temp = work_all_account.drop_duplicates('채무자키').copy()\n",
    "result[\"채무자키\"] = temp.채무자키.values\n",
    "result[\"채무상태\"] = temp.채무상태.values # 순서 조작만 하지 않으면 굳이 일치조건 하지 않아도 됨.\n",
    "result[\"담당자\"] = temp.담당자.values\n",
    "result[\"채무자명\"] = temp.채무자명.values\n",
    "\n",
    "\n",
    "# 작업대상여부의 유니크값이 1이면 모두 Y (모두 N인 경우는 논리적으로 불가능), 2면 작업계좌와 잔존계좌가 혼재한 것이므로 일부계좌\n",
    "g = work_all_account.groupby('채무자키') # 그룹화는 원본 df의 순서와 다를 수 있음!!!!!!!!\n",
    "for i, v in result.iterrows() : \n",
    "     if g.get_group(v.채무자키).계좌작업대상여부.nunique() == 1 :\n",
    "          result.loc[i, \"전계좌여부\"]=\"전계좌\"\n",
    "     else : result.loc[i, \"전계좌여부\"]=\"일부계좌\"\n",
    "\n",
    "# 저장하기\n",
    "result.to_excel(path_save, index=False)"
   ]
  }
 ],
 "metadata": {
  "kernelspec": {
   "display_name": "base",
   "language": "python",
   "name": "python3"
  },
  "language_info": {
   "codemirror_mode": {
    "name": "ipython",
    "version": 3
   },
   "file_extension": ".py",
   "mimetype": "text/x-python",
   "name": "python",
   "nbconvert_exporter": "python",
   "pygments_lexer": "ipython3",
   "version": "3.9.13"
  },
  "orig_nbformat": 4
 },
 "nbformat": 4,
 "nbformat_minor": 2
}
