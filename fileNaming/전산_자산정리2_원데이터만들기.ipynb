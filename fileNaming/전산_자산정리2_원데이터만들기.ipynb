{
 "cells": [
  {
   "attachments": {},
   "cell_type": "markdown",
   "metadata": {},
   "source": [
    "### IMPORT"
   ]
  },
  {
   "cell_type": "code",
   "execution_count": 3,
   "metadata": {},
   "outputs": [],
   "source": [
    "import pandas as pd\n",
    "import pickle\n",
    "import re\n",
    "import os\n",
    "from os.path import join\n",
    "from tqdm import tqdm\n",
    "from datetime import datetime"
   ]
  },
  {
   "cell_type": "code",
   "execution_count": 6,
   "metadata": {},
   "outputs": [],
   "source": [
    "# 채무자키 20409775 2301 > 2031년으로 수정해야함 안그럼 에러 아래 날짜변경에서 에러남##############\n",
    "# 엑셀을 pickle파일로\n",
    "wd = r'D:\\3.자산\\전산 dataset\\230222'\n",
    "for f in os.listdir(wd) :\n",
    "    if os.path.isfile(join(wd,f)) :\n",
    "        if re.search(\".xlsx\", f) :\n",
    "            df = pd.read_excel(join(wd, f)).fillna(\"\")\n",
    "            df.to_pickle(join(wd, os.path.splitext(f)[0]+\".pkl\"))"
   ]
  },
  {
   "cell_type": "code",
   "execution_count": 7,
   "metadata": {},
   "outputs": [],
   "source": [
    "# 파일 명칭 자동 저장\n",
    "account_f, debt_f, grt_f, law_f, collection_f = \"\", \"\", \"\", \"\", \"\"\n",
    "for root, dirs, files in os.walk(wd) :\n",
    "    for f in files :\n",
    "        if re.search(\".pkl\", f) :\n",
    "            if re.search(\"계좌\",f) : account_f = f\n",
    "            elif re.search(\"채무자\",f) : debt_f = f\n",
    "            elif re.search(\"보증인\",f) : grt_f = f\n",
    "            elif re.search(\"법조치\",f) : law_f = f\n",
    "            elif re.search(\"입금\",f) : collection_f = f"
   ]
  },
  {
   "cell_type": "code",
   "execution_count": 8,
   "metadata": {},
   "outputs": [
    {
     "name": "stdout",
     "output_type": "stream",
     "text": [
      "78158 70796\n"
     ]
    }
   ],
   "source": [
    "account = pd.read_pickle(join(wd, account_f))\n",
    "debt = pd.read_pickle(join(wd, debt_f))\n",
    "#collection = pd.read_pickle(join(wd,collection_f))\n",
    "############################\n",
    "# 매각사 = \"전북은행\"\n",
    "# account = account[account.매각사.str.contains(매각사)]\n",
    "# debt = debt[debt.매각사.str.contains(매각사)]\n",
    "############################\n",
    "print(len(account), len(debt))"
   ]
  },
  {
   "cell_type": "code",
   "execution_count": 9,
   "metadata": {},
   "outputs": [],
   "source": [
    "# 채무자키 20409775 2301 > 2031년으로 수정해야함 안그럼 에러\n",
    "account.시효완성일 = pd.to_datetime(account.시효완성일)\n",
    "#collection.입금일 = pd.to_datetime(collection.입금일)"
   ]
  },
  {
   "cell_type": "code",
   "execution_count": 10,
   "metadata": {},
   "outputs": [],
   "source": [
    "raw_data = pd.DataFrame(None)\n",
    "raw_data[\"계좌키\"] = account.계좌키.apply(str)\n",
    "raw_data[\"채무자키\"] = account.채무자키.apply(str)\n",
    "raw_data[\"타채무자키\"] = account.타채무자키.apply(str)\n",
    "\n",
    "raw_data[\"채권구분\"] = account.채권구분\n",
    "#raw_data[\"매각사\"] = account.매각사\n",
    "raw_data[\"채무상태\"] = account.채무상태\n",
    "raw_data[\"담당자\"] = account.담당자\n",
    "raw_data[\"성명\"] = account.채무자명\n",
    "\n",
    "raw_data[\"주민등록번호\"] = account.채무자주민번호.apply(lambda x : x[:8])\n",
    "raw_data[\"계좌번호\"] = account.계좌번호\n",
    "raw_data[\"원채권사\"] = account.원채권사\n",
    "raw_data[\"매각사구분\"] = account.매각사구분\n",
    "raw_data[\"계정과목\"] = account.계정과목\n",
    "raw_data[\"최초원금\"] = account.최초원금\n",
    "raw_data[\"최초법비용\"] = account.최초법비용\n",
    "raw_data[\"최초미수이자\"] = account.최초미수이자\n",
    "raw_data[\"최초연체이자율\"] = account.최초연체이자율\n",
    "raw_data[\"현재원금\"] = account.현재원금\n",
    "raw_data[\"현재법비용\"] = account.현재법비용\n",
    "raw_data[\"OPB\"] = account[[\"현재원금\",\"현재법비용\"]].sum(axis=1)\n",
    "raw_data[\"현재미수이자\"] = account.현재미수이자\n",
    "raw_data[\"현재연체이자\"] = account.현재연체이자\n",
    "raw_data[\"현재합계\"] = account.현재합계\n",
    "raw_data[\"회수합계\"] = account.회수합계\n",
    "raw_data[\"최초대출일\"] = account.최초대출일\n",
    "raw_data[\"최초연체일\"] = account.최초연체일 # 없는 경우도 있음\n",
    "raw_data[\"매입일\"] = account.매입일\n",
    "raw_data[\"시효완성일\"] = account.시효완성일"
   ]
  },
  {
   "cell_type": "code",
   "execution_count": 11,
   "metadata": {},
   "outputs": [
    {
     "data": {
      "text/plain": [
       "False    78158\n",
       "Name: 개인법인, dtype: int64"
      ]
     },
     "execution_count": 11,
     "metadata": {},
     "output_type": "execute_result"
    }
   ],
   "source": [
    "debt.채무자키 = debt.채무자키.apply(str)\n",
    "debt = debt[[\"채무자키\", \"개인법인\", \"연령\", \"자택우편번호\", \"자택주소\",\"보증인성명\"]]\n",
    "raw_data = pd.merge(raw_data, debt, on=\"채무자키\", how=\"inner\")\n",
    "raw_data.개인법인.isnull().value_counts()"
   ]
  },
  {
   "cell_type": "code",
   "execution_count": 12,
   "metadata": {},
   "outputs": [],
   "source": [
    "# 전체 저장하기\n",
    "raw_data.to_excel(join(wd, \"2.솔림헬프_전체_원데이터_\"+datetime.today().strftime(\"%y%m%d\")+\".xlsx\"), index=False)"
   ]
  },
  {
   "cell_type": "code",
   "execution_count": 15,
   "metadata": {},
   "outputs": [],
   "source": [
    "# 특정 매각사만 저장하기\n",
    "cond = \"스마트저축-01\" ###################################\n",
    "raw_data[raw_data.매각사구분==cond].to_excel(join(wd, cond+\"_\"+datetime.today().strftime(\"%Y%m%d\")+\".xlsx\"), index=False)"
   ]
  },
  {
   "attachments": {},
   "cell_type": "markdown",
   "metadata": {},
   "source": [
    "### 전체 원데이터에서 채무자키, 계좌키 추출하기"
   ]
  },
  {
   "cell_type": "code",
   "execution_count": 14,
   "metadata": {},
   "outputs": [],
   "source": [
    "# 파일 읽기\n",
    "df_all = raw_data\n",
    "# # 또는\n",
    "# df_all = pd.read_excel(join(wd, \"2.2.솔림헬프_전체_원데이터_20230223.xlsx\"))"
   ]
  },
  {
   "cell_type": "code",
   "execution_count": 21,
   "metadata": {},
   "outputs": [],
   "source": [
    "##################\n",
    "keyListFile = \"test\" # 채무자키 또는 계좌키 칼럼명과 그 리스트만 있는 엑셀파일 ex) pool1\n",
    "keyName = \"채무자키\"\n",
    "##################\n",
    "keys = pd.read_excel(join(wd, keyListFile+\".xlsx\"))[\"채무자키\"].astype(str)"
   ]
  },
  {
   "cell_type": "code",
   "execution_count": 23,
   "metadata": {},
   "outputs": [],
   "source": [
    "result = pd.merge(keys, df_all, how=\"left\")\n",
    "result.to_excel(join(wd, \"2.\"+keyListFile+\"_원데이터_\"+datetime.today().strftime(\"%y%m%d\")+\".xlsx\"), index=False)"
   ]
  },
  {
   "cell_type": "markdown",
   "metadata": {},
   "source": [
    "### 차입자산 POOL별 중복확인"
   ]
  },
  {
   "cell_type": "code",
   "execution_count": 102,
   "metadata": {},
   "outputs": [],
   "source": [
    "dfdf = pd.read_excel(join(r\"D:\\3.자산\\POOL별 관리자산\\무차입자산\\참고\\P5 DataDisk 수정후,by채무자키_230303\",\"1.차입자산 리스트.xlsx\"))"
   ]
  },
  {
   "cell_type": "code",
   "execution_count": 109,
   "metadata": {},
   "outputs": [],
   "source": [
    "중복 = dfdf[dfdf.duplicated(['채무자키'],keep=False)].sort_values(['채무자키','POOL_NO']) # 이렇게 해야 1-8, 8-1 이 안나오고 1-8로만\n",
    "#.to_excel(join(r\"D:\\3.자산\\POOL별 관리자산\\무차입자산\",\"중복체크.xlsx\"), index=False)"
   ]
  },
  {
   "cell_type": "code",
   "execution_count": 110,
   "metadata": {},
   "outputs": [],
   "source": [
    "#중복[\"계좌키\"] = 중복[\"계좌키\"].astype(int).astype(str)\n",
    "중복[\"채무자키\"] = 중복[\"채무자키\"].astype(int).astype(str)\n",
    "중복[\"반복횟수\"] = 중복.groupby(['채무자키'])['POOL_NO'].transform('count')"
   ]
  },
  {
   "cell_type": "code",
   "execution_count": 111,
   "metadata": {},
   "outputs": [
    {
     "data": {
      "text/html": [
       "<div>\n",
       "<style scoped>\n",
       "    .dataframe tbody tr th:only-of-type {\n",
       "        vertical-align: middle;\n",
       "    }\n",
       "\n",
       "    .dataframe tbody tr th {\n",
       "        vertical-align: top;\n",
       "    }\n",
       "\n",
       "    .dataframe thead th {\n",
       "        text-align: right;\n",
       "    }\n",
       "</style>\n",
       "<table border=\"1\" class=\"dataframe\">\n",
       "  <thead>\n",
       "    <tr style=\"text-align: right;\">\n",
       "      <th></th>\n",
       "      <th>채무자키</th>\n",
       "      <th>POOL_NO</th>\n",
       "      <th>최종본</th>\n",
       "      <th>반복횟수</th>\n",
       "    </tr>\n",
       "  </thead>\n",
       "  <tbody>\n",
       "    <tr>\n",
       "      <th>62644</th>\n",
       "      <td>20407795</td>\n",
       "      <td>POOL_05</td>\n",
       "      <td>NaN</td>\n",
       "      <td>2</td>\n",
       "    </tr>\n",
       "    <tr>\n",
       "      <th>62643</th>\n",
       "      <td>20407795</td>\n",
       "      <td>POOL_08</td>\n",
       "      <td>X</td>\n",
       "      <td>2</td>\n",
       "    </tr>\n",
       "    <tr>\n",
       "      <th>62626</th>\n",
       "      <td>20407813</td>\n",
       "      <td>POOL_01</td>\n",
       "      <td>X</td>\n",
       "      <td>2</td>\n",
       "    </tr>\n",
       "    <tr>\n",
       "      <th>62625</th>\n",
       "      <td>20407813</td>\n",
       "      <td>POOL_05</td>\n",
       "      <td>NaN</td>\n",
       "      <td>2</td>\n",
       "    </tr>\n",
       "    <tr>\n",
       "      <th>62602</th>\n",
       "      <td>20407840</td>\n",
       "      <td>POOL_01</td>\n",
       "      <td>X</td>\n",
       "      <td>2</td>\n",
       "    </tr>\n",
       "    <tr>\n",
       "      <th>...</th>\n",
       "      <td>...</td>\n",
       "      <td>...</td>\n",
       "      <td>...</td>\n",
       "      <td>...</td>\n",
       "    </tr>\n",
       "    <tr>\n",
       "      <th>12108</th>\n",
       "      <td>20466470</td>\n",
       "      <td>POOL_14</td>\n",
       "      <td>NaN</td>\n",
       "      <td>2</td>\n",
       "    </tr>\n",
       "    <tr>\n",
       "      <th>11900</th>\n",
       "      <td>20469120</td>\n",
       "      <td>POOL_02</td>\n",
       "      <td>NaN</td>\n",
       "      <td>2</td>\n",
       "    </tr>\n",
       "    <tr>\n",
       "      <th>11899</th>\n",
       "      <td>20469120</td>\n",
       "      <td>POOL_06</td>\n",
       "      <td>NaN</td>\n",
       "      <td>2</td>\n",
       "    </tr>\n",
       "    <tr>\n",
       "      <th>11694</th>\n",
       "      <td>20469325</td>\n",
       "      <td>POOL_02</td>\n",
       "      <td>NaN</td>\n",
       "      <td>2</td>\n",
       "    </tr>\n",
       "    <tr>\n",
       "      <th>11693</th>\n",
       "      <td>20469325</td>\n",
       "      <td>POOL_06</td>\n",
       "      <td>NaN</td>\n",
       "      <td>2</td>\n",
       "    </tr>\n",
       "  </tbody>\n",
       "</table>\n",
       "<p>880 rows × 4 columns</p>\n",
       "</div>"
      ],
      "text/plain": [
       "           채무자키  POOL_NO  최종본  반복횟수\n",
       "62644  20407795  POOL_05  NaN     2\n",
       "62643  20407795  POOL_08    X     2\n",
       "62626  20407813  POOL_01    X     2\n",
       "62625  20407813  POOL_05  NaN     2\n",
       "62602  20407840  POOL_01    X     2\n",
       "...         ...      ...  ...   ...\n",
       "12108  20466470  POOL_14  NaN     2\n",
       "11900  20469120  POOL_02  NaN     2\n",
       "11899  20469120  POOL_06  NaN     2\n",
       "11694  20469325  POOL_02  NaN     2\n",
       "11693  20469325  POOL_06  NaN     2\n",
       "\n",
       "[880 rows x 4 columns]"
      ]
     },
     "execution_count": 111,
     "metadata": {},
     "output_type": "execute_result"
    }
   ],
   "source": [
    "중복"
   ]
  },
  {
   "cell_type": "code",
   "execution_count": 112,
   "metadata": {},
   "outputs": [
    {
     "data": {
      "text/html": [
       "<div>\n",
       "<style scoped>\n",
       "    .dataframe tbody tr th:only-of-type {\n",
       "        vertical-align: middle;\n",
       "    }\n",
       "\n",
       "    .dataframe tbody tr th {\n",
       "        vertical-align: top;\n",
       "    }\n",
       "\n",
       "    .dataframe thead th {\n",
       "        text-align: right;\n",
       "    }\n",
       "</style>\n",
       "<table border=\"1\" class=\"dataframe\">\n",
       "  <thead>\n",
       "    <tr style=\"text-align: right;\">\n",
       "      <th></th>\n",
       "      <th>채무자키</th>\n",
       "      <th>POOL_NO</th>\n",
       "      <th>최종본</th>\n",
       "      <th>반복횟수</th>\n",
       "    </tr>\n",
       "  </thead>\n",
       "  <tbody>\n",
       "    <tr>\n",
       "      <th>0</th>\n",
       "      <td>20407795</td>\n",
       "      <td>POOL_05</td>\n",
       "      <td>NaN</td>\n",
       "      <td>2</td>\n",
       "    </tr>\n",
       "    <tr>\n",
       "      <th>1</th>\n",
       "      <td>20407795</td>\n",
       "      <td>POOL_08</td>\n",
       "      <td>X</td>\n",
       "      <td>2</td>\n",
       "    </tr>\n",
       "    <tr>\n",
       "      <th>2</th>\n",
       "      <td>20407813</td>\n",
       "      <td>POOL_01</td>\n",
       "      <td>X</td>\n",
       "      <td>2</td>\n",
       "    </tr>\n",
       "    <tr>\n",
       "      <th>3</th>\n",
       "      <td>20407813</td>\n",
       "      <td>POOL_05</td>\n",
       "      <td>NaN</td>\n",
       "      <td>2</td>\n",
       "    </tr>\n",
       "    <tr>\n",
       "      <th>4</th>\n",
       "      <td>20407840</td>\n",
       "      <td>POOL_01</td>\n",
       "      <td>X</td>\n",
       "      <td>2</td>\n",
       "    </tr>\n",
       "    <tr>\n",
       "      <th>...</th>\n",
       "      <td>...</td>\n",
       "      <td>...</td>\n",
       "      <td>...</td>\n",
       "      <td>...</td>\n",
       "    </tr>\n",
       "    <tr>\n",
       "      <th>875</th>\n",
       "      <td>20466470</td>\n",
       "      <td>POOL_14</td>\n",
       "      <td>NaN</td>\n",
       "      <td>2</td>\n",
       "    </tr>\n",
       "    <tr>\n",
       "      <th>876</th>\n",
       "      <td>20469120</td>\n",
       "      <td>POOL_02</td>\n",
       "      <td>NaN</td>\n",
       "      <td>2</td>\n",
       "    </tr>\n",
       "    <tr>\n",
       "      <th>877</th>\n",
       "      <td>20469120</td>\n",
       "      <td>POOL_06</td>\n",
       "      <td>NaN</td>\n",
       "      <td>2</td>\n",
       "    </tr>\n",
       "    <tr>\n",
       "      <th>878</th>\n",
       "      <td>20469325</td>\n",
       "      <td>POOL_02</td>\n",
       "      <td>NaN</td>\n",
       "      <td>2</td>\n",
       "    </tr>\n",
       "    <tr>\n",
       "      <th>879</th>\n",
       "      <td>20469325</td>\n",
       "      <td>POOL_06</td>\n",
       "      <td>NaN</td>\n",
       "      <td>2</td>\n",
       "    </tr>\n",
       "  </tbody>\n",
       "</table>\n",
       "<p>880 rows × 4 columns</p>\n",
       "</div>"
      ],
      "text/plain": [
       "         채무자키  POOL_NO  최종본  반복횟수\n",
       "0    20407795  POOL_05  NaN     2\n",
       "1    20407795  POOL_08    X     2\n",
       "2    20407813  POOL_01    X     2\n",
       "3    20407813  POOL_05  NaN     2\n",
       "4    20407840  POOL_01    X     2\n",
       "..        ...      ...  ...   ...\n",
       "875  20466470  POOL_14  NaN     2\n",
       "876  20469120  POOL_02  NaN     2\n",
       "877  20469120  POOL_06  NaN     2\n",
       "878  20469325  POOL_02  NaN     2\n",
       "879  20469325  POOL_06  NaN     2\n",
       "\n",
       "[880 rows x 4 columns]"
      ]
     },
     "execution_count": 112,
     "metadata": {},
     "output_type": "execute_result"
    }
   ],
   "source": [
    "중복 = 중복.reset_index(drop=True, inplace=False)\n",
    "중복"
   ]
  },
  {
   "cell_type": "code",
   "execution_count": 66,
   "metadata": {},
   "outputs": [],
   "source": [
    "중복.to_excel(join(r\"D:\\3.자산\\POOL별 관리자산\\무차입자산\",\"중복체크.xlsx\"), index=False)"
   ]
  },
  {
   "cell_type": "code",
   "execution_count": 2,
   "metadata": {},
   "outputs": [
    {
     "data": {
      "text/html": [
       "<div>\n",
       "<style scoped>\n",
       "    .dataframe tbody tr th:only-of-type {\n",
       "        vertical-align: middle;\n",
       "    }\n",
       "\n",
       "    .dataframe tbody tr th {\n",
       "        vertical-align: top;\n",
       "    }\n",
       "\n",
       "    .dataframe thead th {\n",
       "        text-align: right;\n",
       "    }\n",
       "</style>\n",
       "<table border=\"1\" class=\"dataframe\">\n",
       "  <thead>\n",
       "    <tr style=\"text-align: right;\">\n",
       "      <th></th>\n",
       "      <th>계좌키</th>\n",
       "      <th>채무자키</th>\n",
       "      <th>POOL_</th>\n",
       "    </tr>\n",
       "  </thead>\n",
       "  <tbody>\n",
       "    <tr>\n",
       "      <th>0</th>\n",
       "      <td>200919485</td>\n",
       "      <td>20407790</td>\n",
       "      <td>POOL_05</td>\n",
       "    </tr>\n",
       "    <tr>\n",
       "      <th>1</th>\n",
       "      <td>200919485</td>\n",
       "      <td>20407790</td>\n",
       "      <td>POOL_05</td>\n",
       "    </tr>\n",
       "    <tr>\n",
       "      <th>2</th>\n",
       "      <td>200919497</td>\n",
       "      <td>20407882</td>\n",
       "      <td>POOL_05</td>\n",
       "    </tr>\n",
       "    <tr>\n",
       "      <th>3</th>\n",
       "      <td>200919497</td>\n",
       "      <td>20407882</td>\n",
       "      <td>POOL_08</td>\n",
       "    </tr>\n",
       "    <tr>\n",
       "      <th>4</th>\n",
       "      <td>200919997</td>\n",
       "      <td>20407883</td>\n",
       "      <td>POOL_01</td>\n",
       "    </tr>\n",
       "    <tr>\n",
       "      <th>...</th>\n",
       "      <td>...</td>\n",
       "      <td>...</td>\n",
       "      <td>...</td>\n",
       "    </tr>\n",
       "    <tr>\n",
       "      <th>1725</th>\n",
       "      <td>201046260</td>\n",
       "      <td>20515407</td>\n",
       "      <td>POOL_13</td>\n",
       "    </tr>\n",
       "    <tr>\n",
       "      <th>1726</th>\n",
       "      <td>201046280</td>\n",
       "      <td>20515427</td>\n",
       "      <td>POOL_13</td>\n",
       "    </tr>\n",
       "    <tr>\n",
       "      <th>1727</th>\n",
       "      <td>201046280</td>\n",
       "      <td>20515427</td>\n",
       "      <td>POOL_13</td>\n",
       "    </tr>\n",
       "    <tr>\n",
       "      <th>1728</th>\n",
       "      <td>201046336</td>\n",
       "      <td>20515483</td>\n",
       "      <td>POOL_13</td>\n",
       "    </tr>\n",
       "    <tr>\n",
       "      <th>1729</th>\n",
       "      <td>201046336</td>\n",
       "      <td>20515483</td>\n",
       "      <td>POOL_13</td>\n",
       "    </tr>\n",
       "  </tbody>\n",
       "</table>\n",
       "<p>1730 rows × 3 columns</p>\n",
       "</div>"
      ],
      "text/plain": [
       "            계좌키      채무자키    POOL_\n",
       "0     200919485  20407790  POOL_05\n",
       "1     200919485  20407790  POOL_05\n",
       "2     200919497  20407882  POOL_05\n",
       "3     200919497  20407882  POOL_08\n",
       "4     200919997  20407883  POOL_01\n",
       "...         ...       ...      ...\n",
       "1725  201046260  20515407  POOL_13\n",
       "1726  201046280  20515427  POOL_13\n",
       "1727  201046280  20515427  POOL_13\n",
       "1728  201046336  20515483  POOL_13\n",
       "1729  201046336  20515483  POOL_13\n",
       "\n",
       "[1730 rows x 3 columns]"
      ]
     },
     "execution_count": 2,
     "metadata": {},
     "output_type": "execute_result"
    }
   ],
   "source": [
    "중복 = pd.read_excel(r'D:\\3.자산\\POOL별 관리자산\\무차입자산\\중복체크.xlsx')\n",
    "중복"
   ]
  },
  {
   "cell_type": "code",
   "execution_count": 113,
   "metadata": {},
   "outputs": [],
   "source": [
    "채무자키, 반복횟수, 반복POOL = [], [], []\n",
    "이전채무자키 = \"\"\n",
    "for i, v in 중복.iterrows() :\n",
    "    if v.채무자키 != 이전채무자키 :\n",
    "        이전채무자키 = v.채무자키\n",
    "        채무자키.append(v.채무자키)\n",
    "        반복횟수.append(v.반복횟수)\n",
    "        반복POOL.append(list(중복.groupby('채무자키').get_group(v.채무자키).POOL_NO))\n",
    "\n",
    "result = pd.DataFrame({'채무자키':채무자키, '반복횟수':반복횟수, '반복POOL':반복POOL})\n",
    "result.to_excel(join(r\"D:\\3.자산\\POOL별 관리자산\\무차입자산\",\"중복체크_1.xlsx\"), index=False)"
   ]
  }
 ],
 "metadata": {
  "kernelspec": {
   "display_name": "base",
   "language": "python",
   "name": "python3"
  },
  "language_info": {
   "codemirror_mode": {
    "name": "ipython",
    "version": 3
   },
   "file_extension": ".py",
   "mimetype": "text/x-python",
   "name": "python",
   "nbconvert_exporter": "python",
   "pygments_lexer": "ipython3",
   "version": "3.9.13"
  },
  "orig_nbformat": 4,
  "vscode": {
   "interpreter": {
    "hash": "38d617750889899e5f2f65cac6f27a322f361a63d334879a800ee5491961f90c"
   }
  }
 },
 "nbformat": 4,
 "nbformat_minor": 2
}
