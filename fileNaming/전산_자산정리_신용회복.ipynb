{
 "cells": [
  {
   "cell_type": "code",
   "execution_count": 21,
   "metadata": {},
   "outputs": [],
   "source": [
    "import os, re, pickle\n",
    "import pandas as pd\n",
    "import numpy as np\n",
    "from os.path import join\n",
    "from tqdm import tqdm\n",
    "\n",
    "# 파일 읽기\n",
    "path_base = r\"D:\\3.자산\\신용회복\\신용회복 전체데이터\\계좌별 진행상황\"\n",
    "########################################################\n",
    "company = \"통합\" \n",
    "workdate = \"231016\" # 폴더명\n",
    "basic_name = \"계좌별 진행상황 조회\"\n",
    "########################################################\n",
    "filename_read = \"_\".join([workdate,basic_name,company,\"업로드결과\"])\n",
    "filename_write = \"_\".join([workdate,\"신용회복_기준데이터\",company])\n",
    "path_result = join(path_base, filename_write+\".xlsx\")"
   ]
  },
  {
   "cell_type": "code",
   "execution_count": 24,
   "metadata": {},
   "outputs": [
    {
     "name": "stderr",
     "output_type": "stream",
     "text": [
      "c:\\Users\\sl\\anaconda3\\lib\\site-packages\\openpyxl\\styles\\stylesheet.py:226: UserWarning: Workbook contains no default style, apply openpyxl's default\n",
      "  warn(\"Workbook contains no default style, apply openpyxl's default\")\n"
     ]
    }
   ],
   "source": [
    "# 계좌별 진행상황 조회파일 읽기                               #########################\n",
    "raw = pd.read_excel(join(path_base, filename_read+\".xlsx\"), nrows=20)\n",
    "# 파일명정리\n",
    "# raw.columns = raw.columns.str.replace('\\n','')\n",
    "# raw.rename(columns={\"신청인진행상태(실시간 데이터)\":\"신청인진행상태\"}, inplace=True)"
   ]
  },
  {
   "cell_type": "code",
   "execution_count": 23,
   "metadata": {},
   "outputs": [],
   "source": [
    "raw.to_excel('default.xlsx')"
   ]
  }
 ],
 "metadata": {
  "kernelspec": {
   "display_name": "base",
   "language": "python",
   "name": "python3"
  },
  "language_info": {
   "codemirror_mode": {
    "name": "ipython",
    "version": 3
   },
   "file_extension": ".py",
   "mimetype": "text/x-python",
   "name": "python",
   "nbconvert_exporter": "python",
   "pygments_lexer": "ipython3",
   "version": "3.9.13"
  }
 },
 "nbformat": 4,
 "nbformat_minor": 2
}
