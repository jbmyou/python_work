{
 "cells": [
  {
   "cell_type": "code",
   "execution_count": 1,
   "metadata": {},
   "outputs": [],
   "source": [
    "import os\n",
    "import shutil\n",
    "import pandas as pd\n",
    "import re\n",
    "import binascii # 내장모듈\n",
    "import pickle # 내장모듈\n",
    "from os.path import join\n",
    "from tqdm import tqdm\n",
    "import traceback\n",
    "from upload_v2 import write_log_csv"
   ]
  },
  {
   "cell_type": "markdown",
   "metadata": {},
   "source": [
    "### 중복관리 코드"
   ]
  },
  {
   "cell_type": "code",
   "execution_count": null,
   "metadata": {},
   "outputs": [],
   "source": [
    "def sort_dupl(pathOfDict:str, nameOfDict:str) :\n",
    "\n",
    "    with open(join(pathOfDict, nameOfDict), \"rb\") as pkl :\n",
    "        dict = pickle.load(pkl)\n",
    "    \n",
    "    total = len(dict)\n",
    "    \n",
    "    for __key__, ListOfSubDict in tqdm(dict.items(), total=total) : # 파일 그룹 단위 반복\n",
    "    #\"score\" : score, \"root\" : root, \"stem\":stem, \"ext\":ext, \"fullPath\" : fullPath, \"size\":size, \"crc32\": crc32, \"mtime\":mtime, \"sell\":sell\n",
    "        num = len(ListOfSubDict)\n",
    "        if num == 1 :\n",
    "            pass\n",
    "        else :\n",
    "            for i in range(num):\n",
    "                for j in range((i+1), num) :\n",
    "                    if ListOfSubDict[i][\"score\"] < ListOfSubDict[j][\"score\"] : # 바뀌는 경우\n",
    "                        ListOfSubDict[i], ListOfSubDict[j] = ListOfSubDict[j], ListOfSubDict[i] # 딕셔너리 내부에서도 작동함.\n",
    "\n",
    "    with open(join(pathOfDict,(\"정렬된 \"+nameOfDict)), \"wb\") as pkl :\n",
    "        pickle.dump(dict, pkl)\n",
    "\n",
    "def readDictOnebyOne(pathOfDict:str, nameOfDict:str) :\n",
    "    with open(join(pathOfDict, nameOfDict), \"rb\") as pkl :\n",
    "        dict = pickle.load(pkl)\n",
    "    total = len(dict)\n",
    "    print(f\"전체 그룹 수는 {total}\")\n",
    "\n",
    "    for key, list in dict.items() :\n",
    "        print(key)\n",
    "        templist = []\n",
    "        for x in list : \n",
    "            templist.append(x[\"score\"])\n",
    "        print(\"sore  : \", *templist, sep=\"  \")\n",
    "        print(\"마지막 파일 pathOfDict\", x[\"fullPath\"])\n",
    "        print(\"더 읽을까 말까? y or n\")\n",
    "        go = input()\n",
    "        if go == \"y\" :\n",
    "            pass\n",
    "        else :\n",
    "            break"
   ]
  },
  {
   "cell_type": "code",
   "execution_count": null,
   "metadata": {},
   "outputs": [],
   "source": [
    "path = r\"C:\\Users\\SL\\Desktop\\workspace\\python\\fileNaming\\파일\\중복조사\"\n",
    "name = '정렬된 sc별 파일정보.pkl'"
   ]
  },
  {
   "cell_type": "code",
   "execution_count": null,
   "metadata": {},
   "outputs": [],
   "source": [
    "sort_dupl(path, name)"
   ]
  },
  {
   "cell_type": "code",
   "execution_count": null,
   "metadata": {},
   "outputs": [],
   "source": [
    "readDictOnebyOne(path, name)"
   ]
  },
  {
   "cell_type": "code",
   "execution_count": null,
   "metadata": {},
   "outputs": [],
   "source": [
    "def changeDictForNas(pathOfDict, nameOfDict) :\n",
    "    with open(join(pathOfDict, nameOfDict), \"rb\") as pkl :\n",
    "        dict = pickle.load(pkl)\n",
    "    total = len(dict)\n",
    "\n",
    "    for key, list in tqdm(dict.items(), total=total) :\n",
    "        for x in list : \n",
    "            x[\"root\"] = re.sub(r\"D:\\\\\", \"/volume1/스캔파일/\", x[\"root\"])\n",
    "            x[\"root\"] = re.sub(r\"\\\\\", \"/\", x[\"root\"])\n",
    "            x[\"fullPath\"] = re.sub(r\"D:\\\\\", \"/volume1/스캔파일/\", x[\"fullPath\"])\n",
    "            x[\"fullPath\"] = re.sub(r\"\\\\\", \"/\", x[\"fullPath\"])\n",
    "\n",
    "    with open(join(pathOfDict,(\"nas용 \"+nameOfDict)), \"wb\") as pkl :\n",
    "        pickle.dump(dict, pkl)"
   ]
  },
  {
   "cell_type": "code",
   "execution_count": null,
   "metadata": {},
   "outputs": [],
   "source": [
    "path = r\"C:\\Users\\SL\\Desktop\\workspace\\python\\fileNaming\\파일\\중복조사\"\n",
    "name = '정렬된 sc별 파일정보.pkl'\n",
    "changeDictForNas(path, name)"
   ]
  },
  {
   "cell_type": "code",
   "execution_count": null,
   "metadata": {},
   "outputs": [],
   "source": [
    "def moveDuplFile(pathOfDict, nameOfDict, basePathToMove) : \n",
    "    with open(join(pathOfDict, nameOfDict), \"rb\") as pkl :\n",
    "        dict = pickle.load(pkl)\n",
    "    total = len(dict)\n",
    "    print(f\"{total}개의 그룹에 대해 중복 파일 이동을 실시합니다.\")\n",
    "    dupl_fail = []\n",
    "    duplCnt = 0\n",
    "    \n",
    "    for __key__, list in tqdm(dict.items(), total=total) :\n",
    "        num = len(list)\n",
    "        if num > 1 : # 중복파일\n",
    "            for i in range(1, num) :\n",
    "                try :\n",
    "                    src = list[i][\"fullPath\"]\n",
    "                    #dir = os.path.split(src)[0]\n",
    "                    file = os.path.split(src)[1]\n",
    "\n",
    "                    dst_dir = join(basePathToMove, file) # 대표파일이름으로 폴더 만들어 중복파일을 넣는다\n",
    "                    dst = join(dst_dir, file)\n",
    "\n",
    "                    if not os.path.exists(dst_dir) :\n",
    "                        os.makedirs(dst_dir)\n",
    "                    shutil.move(src, dst)   \n",
    "                    duplCnt += 1\n",
    "\n",
    "                except Exception as e :\n",
    "                    dupl_fail.append([src, dst, e.__class__, e])\n",
    "                    continue  # 코드 계속 진행\n",
    "\n",
    "    print(f\"중복파일 이동 : {duplCnt}건,  이동실패 : {len(dupl_fail)}건\")\n",
    "    write_log_csv(dupl_fail, pathOfDict)\n",
    "\n"
   ]
  },
  {
   "cell_type": "code",
   "execution_count": null,
   "metadata": {},
   "outputs": [],
   "source": [
    "pathOfDict = r\"C:\\Users\\SL\\Desktop\\workspace\\python\\fileNaming\\파일\\중복조사\"\n",
    "nameOfDict = '정렬된 sc별 파일정보.pkl'\n",
    "basePathToMove = r'D:\\구 스캔파일_dupl'\n",
    "moveDuplFile(pathOfDict, nameOfDict, basePathToMove)"
   ]
  },
  {
   "cell_type": "code",
   "execution_count": null,
   "metadata": {},
   "outputs": [],
   "source": [
    "def moveKeyFile(pathOfDict, nameOfDict, basePathToMove, path_gu) :\n",
    "    with open(join(pathOfDict, nameOfDict), \"rb\") as pkl :\n",
    "        dict = pickle.load(pkl)\n",
    "    total = len(dict)\n",
    "    gu = len(path_gu) + 1\n",
    "    print(f\"{total}개의 그룹에 대해 key가 있는 파일 이동을 실시합니다.\")\n",
    "    noKeyList = []\n",
    "    move_fail = []\n",
    "    keyCnt, extraKeyCnt = 0, 0\n",
    "\n",
    "    for __key__, list in tqdm(dict.items(), total=total) :\n",
    "        try :\n",
    "            # 1) 점수가 가장 높고, key 있는 파일 채무자키폴더로 이동\n",
    "            # root - path -1(디렉토리 구분자 제거) = subdir\n",
    "            if list[0][\"score\"] >= 100000 :\n",
    "                src = list[0][\"fullPath\"]\n",
    "                #dir = os.path.split(src)[0]\n",
    "                file = os.path.split(src)[1]\n",
    "\n",
    "                dst_dir = join(basePathToMove, file) # 대표파일이름으로 폴더 만들어 중복파일을 넣는다\n",
    "                dst = join(dst_dir, file)\n",
    "\n",
    "                dst_dir = join(basePathToMove, \"key\", list[0][\"root\"][gu:])\n",
    "                dst = join(dst_dir, file)\n",
    "\n",
    "                if not os.path.exists(dst_dir) :\n",
    "                    os.makedirs(dst_dir)\n",
    "                shutil.move(src, dst)\n",
    "                keyCnt += 1\n",
    "\n",
    "            # 2) 점수가 가장 높지만, extraKey 있는 파일 extraKey폴더로 이동\n",
    "            elif list[0][\"score\"] >= 10000 :\n",
    "                src = list[0][\"fullPath\"]\n",
    "                #dir = os.path.split(src)[0]\n",
    "                file = os.path.split(src)[1]\n",
    "\n",
    "                dst_dir = join(basePathToMove, \"extraKey\", list[0][\"root\"][gu:])\n",
    "                dst = join(dst_dir, file)\n",
    "\n",
    "                if not os.path.exists(dst_dir) :\n",
    "                    os.makedirs(dst_dir)\n",
    "                shutil.move(src, dst)\n",
    "                extraKeyCnt += 1\n",
    "\n",
    "            # 점수가 가장 높지만, key가 전혀 없는 것 root, stem, ext, fullPath(\\\\192...으로 변경해야 하니까 원형 유지를 위해 root, fileName도 저장한다.)\n",
    "            # 를 df에 담아 for문 끝난 후 엑셀로 저장\n",
    "            # fullPath 하이퍼 링크 걸어주고, 편하게 파일 보면서 newName 저장\n",
    "            else :\n",
    "                noKeyList.append([list[0][\"root\"], list[0][\"stem\"], list[0][\"ext\"], list[0][\"fullPath\"]])\n",
    "        \n",
    "        except Exception as e :\n",
    "            move_fail.append([src, dst, e.__class__, e])\n",
    "            continue  # 코드 계속 진행\n",
    "    \n",
    "    print(f\"채무자키 : {keyCnt}건,  기타키 : {extraKeyCnt}건,  이동실패 : {len(move_fail)}건\")\n",
    "    write_log_csv(move_fail, pathOfDict)\n",
    "    \n",
    "    # 제 자리에 두는 파일 목록 엑셀로 변환\n",
    "    df_noKey = pd.DataFrame(noKeyList, columns=[\"root\", \"stem\", \"ext\", \"fullPath\"])\n",
    "    df_noKey.to_excel(join(pathOfDict, \"remain.xlsx\"))"
   ]
  },
  {
   "cell_type": "code",
   "execution_count": null,
   "metadata": {},
   "outputs": [],
   "source": [
    "pathOfDict = r\"C:\\Users\\SL\\Desktop\\workspace\\python\\fileNaming\\파일\\중복조사\"\n",
    "nameOfDict = '정렬된 sc별 파일정보.pkl'\n",
    "basePathToMove = r'D:\\\\구 스캔파일_'\n",
    "path_gu = r'D:\\구 스캔파일'\n",
    "moveKeyFile(pathOfDict, nameOfDict, basePathToMove, path_gu)"
   ]
  },
  {
   "cell_type": "markdown",
   "metadata": {},
   "source": [
    "### 서버에 이미 올라간 파일, 0byte, xps류 파일 이동하기"
   ]
  },
  {
   "cell_type": "code",
   "execution_count": 3,
   "metadata": {},
   "outputs": [],
   "source": [
    "# 서버 dict불러오기\n",
    "path_kcs = r'\\\\192.168.0.75/스캔파일/스캔파일log/_project/파일/중복조사/kcs별 파일정보_솔림헬프.pkl'\n",
    "def read_cks(path_kcs) :\n",
    "    with open(path_kcs, \"rb\") as pkl :\n",
    "        return pickle.load(pkl)\n",
    "dict_kcs = read_cks(path_kcs)"
   ]
  },
  {
   "cell_type": "code",
   "execution_count": 4,
   "metadata": {},
   "outputs": [
    {
     "data": {
      "text/plain": [
       "128022"
      ]
     },
     "execution_count": 4,
     "metadata": {},
     "output_type": "execute_result"
    }
   ],
   "source": [
    "len(dict_kcs)"
   ]
  },
  {
   "cell_type": "code",
   "execution_count": 5,
   "metadata": {},
   "outputs": [
    {
     "data": {
      "text/plain": [
       "126397"
      ]
     },
     "execution_count": 5,
     "metadata": {},
     "output_type": "execute_result"
    }
   ],
   "source": [
    "set_keys = set()\n",
    "for k in dict_kcs.keys() :\n",
    "    set_keys.add(k[8:])\n",
    "len(set_keys)\n",
    "# kcs = 127903개 , cs = 126278"
   ]
  },
  {
   "cell_type": "code",
   "execution_count": 6,
   "metadata": {},
   "outputs": [],
   "source": [
    "def crc32_checksum(filename):\n",
    "    buf = open(filename,'rb').read()\n",
    "    buf = (binascii.crc32(buf) & 0xFFFFFFFF)\n",
    "    return \"%08X\" % buf"
   ]
  },
  {
   "cell_type": "code",
   "execution_count": 3,
   "metadata": {},
   "outputs": [],
   "source": [
    "# 폴더 리스트 만들기\n",
    "pathList = [r\"D:\\extraKey\", r\"D:\\key\", r\"D:\\구 스캔파일\", r\"D:\\구 스캔파일_key\"]\n",
    "zeroDir = r\"D:\\구 스캔파일_exception\\0byte\"\n",
    "xpsDir = r\"D:\\구 스캔파일_exception\\xps\"\n",
    "serverDir = r\"D:\\구 스캔파일_exception\\서버등록\"\n"
   ]
  },
  {
   "cell_type": "code",
   "execution_count": 4,
   "metadata": {},
   "outputs": [
    {
     "name": "stderr",
     "output_type": "stream",
     "text": [
      "17530it [00:55, 316.27it/s] \n",
      "1600it [00:08, 181.90it/s]\n",
      "99967it [05:07, 324.93it/s] \n",
      "89it [00:00, 2976.75it/s]"
     ]
    },
    {
     "name": "stdout",
     "output_type": "stream",
     "text": [
      "log 파일이 비어있습니다. path : D:\\구 스캔파일_exception\\xps\n"
     ]
    },
    {
     "name": "stderr",
     "output_type": "stream",
     "text": [
      "\n"
     ]
    }
   ],
   "source": [
    "#server = []\n",
    "#serverFail = []\n",
    "xps = []\n",
    "xpsFail = []\n",
    "p = re.compile(\"xps\", re.I)\n",
    "for path in pathList :\n",
    "    for root, __dirs__, files in tqdm(os.walk(path)) :\n",
    "        for f in files :\n",
    "            fullPath = join(root, f)\n",
    "            # size = os.path.getsize(fullPath)\n",
    "            # if size == 0 :\n",
    "            #     shutil.move(fullPath, join(zeroDir, f))\n",
    "            # else :\n",
    "            #     crc = crc32_checksum(fullPath)\n",
    "            #     cs = str(crc) + str(size)\n",
    "            #     if cs in set_keys :\n",
    "            #         dst_dir = join(serverDir, cs)\n",
    "            #         dst = join(dst_dir, f)\n",
    "            #         if not os.path.exists(dst_dir) :\n",
    "            #             os.mkdir(dst_dir)\n",
    "            #         try :\n",
    "            #             os.rename(fullPath, dst)\n",
    "            #             server.append([fullPath, dst])\n",
    "            #         except Exception as e:\n",
    "            #             serverFail.append([fullPath, dst, e.__class__])\n",
    "            #             pass\n",
    "                        \n",
    "            #     else :\n",
    "            ext = os.path.splitext(f)[1]\n",
    "\n",
    "            if p.search(ext) :\n",
    "                dst = join(xpsDir, f)\n",
    "                try :\n",
    "                    os.rename(fullPath, dst)\n",
    "                    xps.append([fullPath, dst])\n",
    "                except Exception as e:\n",
    "                    xpsFail.append([fullPath, dst, e.__class__])\n",
    "                    pass\n",
    "\n",
    "#write_log_csv(server, serverDir)\n",
    "write_log_csv(xps, xpsDir)\n",
    "#write_log_csv(serverFail, serverDir)\n",
    "write_log_csv(xpsFail, xpsDir)"
   ]
  },
  {
   "cell_type": "markdown",
   "metadata": {},
   "source": [
    "### 빈 폴더 삭제"
   ]
  },
  {
   "cell_type": "code",
   "execution_count": 13,
   "metadata": {},
   "outputs": [
    {
     "name": "stderr",
     "output_type": "stream",
     "text": [
      "17142it [00:03, 5079.11it/s]\n",
      "1557it [00:00, 3827.79it/s]\n",
      "38860it [01:07, 576.82it/s] \n",
      "88it [00:00, 4414.74it/s]"
     ]
    },
    {
     "name": "stdout",
     "output_type": "stream",
     "text": [
      "61539개의 빈 디렉토리 삭제\n"
     ]
    },
    {
     "name": "stderr",
     "output_type": "stream",
     "text": [
      "\n"
     ]
    }
   ],
   "source": [
    "import os\n",
    "os.chdir(\"c:/\")\n",
    "os.getcwd()\n",
    "\n",
    "pathList = [r\"D:\\extraKey\", r\"D:\\key\", r\"D:\\구 스캔파일\", r\"D:\\구 스캔파일_key\"]\n",
    "cnt = 0\n",
    "for path in pathList :\n",
    "    for root, dirs, files in tqdm(os.walk(path)) :\n",
    "        for dir in dirs :\n",
    "            try :\n",
    "                os.removedirs(os.path.join(root, dir))\n",
    "                cnt += 1\n",
    "            except : # 파일 있는 경우\n",
    "                pass\n",
    "\n",
    "print(f\"{cnt}개의 빈 디렉토리 삭제\")"
   ]
  },
  {
   "cell_type": "code",
   "execution_count": null,
   "metadata": {},
   "outputs": [],
   "source": []
  },
  {
   "cell_type": "code",
   "execution_count": null,
   "metadata": {},
   "outputs": [],
   "source": []
  }
 ],
 "metadata": {
  "kernelspec": {
   "display_name": "Python 3.9.12 ('base')",
   "language": "python",
   "name": "python3"
  },
  "language_info": {
   "codemirror_mode": {
    "name": "ipython",
    "version": 3
   },
   "file_extension": ".py",
   "mimetype": "text/x-python",
   "name": "python",
   "nbconvert_exporter": "python",
   "pygments_lexer": "ipython3",
   "version": "3.9.12"
  },
  "orig_nbformat": 4,
  "vscode": {
   "interpreter": {
    "hash": "50ba2c93e3505a279245e213c77d9791c626788d8ca8a61b8db804927ca08a39"
   }
  }
 },
 "nbformat": 4,
 "nbformat_minor": 2
}
